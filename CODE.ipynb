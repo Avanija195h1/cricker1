{
  "nbformat": 4,
  "nbformat_minor": 0,
  "metadata": {
    "colab": {
      "provenance": [],
      "mount_file_id": "1rkFo10EFAqOqkCdvynKga1k4p70ascof",
      "authorship_tag": "ABX9TyOFb8FH7CRpitZRLkUtKR5b",
      "include_colab_link": true
    },
    "kernelspec": {
      "name": "python3",
      "display_name": "Python 3"
    },
    "language_info": {
      "name": "python"
    }
  },
  "cells": [
    {
      "cell_type": "markdown",
      "metadata": {
        "id": "view-in-github",
        "colab_type": "text"
      },
      "source": [
        "<a href=\"https://colab.research.google.com/github/Avanija195h1/cricker1/blob/main/CODE.ipynb\" target=\"_parent\"><img src=\"https://colab.research.google.com/assets/colab-badge.svg\" alt=\"Open In Colab\"/></a>"
      ]
    },
    {
      "cell_type": "markdown",
      "source": [
        "#  Code to Download CRX.GZ Files"
      ],
      "metadata": {
        "id": "cfIKomX9B8Nu"
      }
    },
    {
      "cell_type": "code",
      "execution_count": null,
      "metadata": {
        "colab": {
          "base_uri": "https://localhost:8080/"
        },
        "id": "Adl_TlBcB7H4",
        "outputId": "527fce6a-6cbd-4189-a958-b466eb9936a1"
      },
      "outputs": [
        {
          "output_type": "stream",
          "name": "stdout",
          "text": [
            "✅ Downloaded: IISC00IND_R_20190010000_01D_30S_MO.crx.gz\n",
            "✅ Downloaded: IISC00IND_R_20190020000_01D_30S_MO.crx.gz\n",
            "✅ Downloaded: IISC00IND_R_20190030000_01D_30S_MO.crx.gz\n",
            "✅ Downloaded: IISC00IND_R_20190040000_01D_30S_MO.crx.gz\n",
            "✅ Downloaded: IISC00IND_R_20190050000_01D_30S_MO.crx.gz\n",
            "✅ Downloaded: IISC00IND_R_20190060000_01D_30S_MO.crx.gz\n",
            "✅ Downloaded: IISC00IND_R_20190070000_01D_30S_MO.crx.gz\n",
            "✅ Downloaded: IISC00IND_R_20190080000_01D_30S_MO.crx.gz\n",
            "✅ Downloaded: IISC00IND_R_20190090000_01D_30S_MO.crx.gz\n",
            "✅ Downloaded: IISC00IND_R_20190100000_01D_30S_MO.crx.gz\n",
            "✅ Downloaded: IISC00IND_R_20190110000_01D_30S_MO.crx.gz\n",
            "✅ Downloaded: IISC00IND_R_20190120000_01D_30S_MO.crx.gz\n",
            "✅ Downloaded: IISC00IND_R_20190130000_01D_30S_MO.crx.gz\n",
            "✅ Downloaded: IISC00IND_R_20190140000_01D_30S_MO.crx.gz\n",
            "✅ Downloaded: IISC00IND_R_20190150000_01D_30S_MO.crx.gz\n",
            "✅ Downloaded: IISC00IND_R_20190160000_01D_30S_MO.crx.gz\n",
            "✅ Downloaded: IISC00IND_R_20190170000_01D_30S_MO.crx.gz\n",
            "✅ Downloaded: IISC00IND_R_20190180000_01D_30S_MO.crx.gz\n",
            "✅ Downloaded: IISC00IND_R_20190190000_01D_30S_MO.crx.gz\n",
            "✅ Downloaded: IISC00IND_R_20190200000_01D_30S_MO.crx.gz\n",
            "✅ Downloaded: IISC00IND_R_20190210000_01D_30S_MO.crx.gz\n",
            "✅ Downloaded: IISC00IND_R_20190220000_01D_30S_MO.crx.gz\n",
            "✅ Downloaded: IISC00IND_R_20190230000_01D_30S_MO.crx.gz\n",
            "✅ Downloaded: IISC00IND_R_20190240000_01D_30S_MO.crx.gz\n",
            "✅ Downloaded: IISC00IND_R_20190250000_01D_30S_MO.crx.gz\n",
            "✅ Downloaded: IISC00IND_R_20190260000_01D_30S_MO.crx.gz\n",
            "✅ Downloaded: IISC00IND_R_20190270000_01D_30S_MO.crx.gz\n",
            "✅ Downloaded: IISC00IND_R_20190280000_01D_30S_MO.crx.gz\n",
            "✅ Downloaded: IISC00IND_R_20190290000_01D_30S_MO.crx.gz\n",
            "✅ Downloaded: IISC00IND_R_20190300000_01D_30S_MO.crx.gz\n",
            "✅ Downloaded: IISC00IND_R_20190310000_01D_30S_MO.crx.gz\n",
            "✅ Downloaded: IISC00IND_R_20190320000_01D_30S_MO.crx.gz\n",
            "✅ Downloaded: IISC00IND_R_20190330000_01D_30S_MO.crx.gz\n",
            "✅ Downloaded: IISC00IND_R_20190340000_01D_30S_MO.crx.gz\n",
            "✅ Downloaded: IISC00IND_R_20190350000_01D_30S_MO.crx.gz\n",
            "✅ Downloaded: IISC00IND_R_20190360000_01D_30S_MO.crx.gz\n",
            "✅ Downloaded: IISC00IND_R_20190370000_01D_30S_MO.crx.gz\n",
            "✅ Downloaded: IISC00IND_R_20190380000_01D_30S_MO.crx.gz\n",
            "✅ Downloaded: IISC00IND_R_20190390000_01D_30S_MO.crx.gz\n",
            "✅ Downloaded: IISC00IND_R_20190400000_01D_30S_MO.crx.gz\n",
            "✅ Downloaded: IISC00IND_R_20190410000_01D_30S_MO.crx.gz\n",
            "✅ Downloaded: IISC00IND_R_20190420000_01D_30S_MO.crx.gz\n",
            "✅ Downloaded: IISC00IND_R_20190430000_01D_30S_MO.crx.gz\n",
            "✅ Downloaded: IISC00IND_R_20190440000_01D_30S_MO.crx.gz\n",
            "✅ Downloaded: IISC00IND_R_20190450000_01D_30S_MO.crx.gz\n",
            "✅ Downloaded: IISC00IND_R_20190460000_01D_30S_MO.crx.gz\n",
            "✅ Downloaded: IISC00IND_R_20190470000_01D_30S_MO.crx.gz\n",
            "✅ Downloaded: IISC00IND_R_20190480000_01D_30S_MO.crx.gz\n",
            "✅ Downloaded: IISC00IND_R_20190490000_01D_30S_MO.crx.gz\n",
            "✅ Downloaded: IISC00IND_R_20190500000_01D_30S_MO.crx.gz\n",
            "✅ Downloaded: IISC00IND_R_20190510000_01D_30S_MO.crx.gz\n",
            "✅ Downloaded: IISC00IND_R_20190520000_01D_30S_MO.crx.gz\n",
            "✅ Downloaded: IISC00IND_R_20190530000_01D_30S_MO.crx.gz\n",
            "✅ Downloaded: IISC00IND_R_20190540000_01D_30S_MO.crx.gz\n",
            "✅ Downloaded: IISC00IND_R_20190550000_01D_30S_MO.crx.gz\n",
            "✅ Downloaded: IISC00IND_R_20190560000_01D_30S_MO.crx.gz\n",
            "✅ Downloaded: IISC00IND_R_20190570000_01D_30S_MO.crx.gz\n",
            "✅ Downloaded: IISC00IND_R_20190580000_01D_30S_MO.crx.gz\n",
            "✅ Downloaded: IISC00IND_R_20190590000_01D_30S_MO.crx.gz\n",
            "✅ Downloaded: IISC00IND_R_20190600000_01D_30S_MO.crx.gz\n",
            "✅ Downloaded: IISC00IND_R_20190610000_01D_30S_MO.crx.gz\n",
            "✅ Downloaded: IISC00IND_R_20190620000_01D_30S_MO.crx.gz\n",
            "✅ Downloaded: IISC00IND_R_20190630000_01D_30S_MO.crx.gz\n",
            "✅ Downloaded: IISC00IND_R_20190640000_01D_30S_MO.crx.gz\n",
            "✅ Downloaded: IISC00IND_R_20190650000_01D_30S_MO.crx.gz\n",
            "✅ Downloaded: IISC00IND_R_20190660000_01D_30S_MO.crx.gz\n",
            "✅ Downloaded: IISC00IND_R_20190670000_01D_30S_MO.crx.gz\n",
            "✅ Downloaded: IISC00IND_R_20190680000_01D_30S_MO.crx.gz\n",
            "✅ Downloaded: IISC00IND_R_20190690000_01D_30S_MO.crx.gz\n",
            "✅ Downloaded: IISC00IND_R_20190700000_01D_30S_MO.crx.gz\n",
            "✅ Downloaded: IISC00IND_R_20190710000_01D_30S_MO.crx.gz\n",
            "✅ Downloaded: IISC00IND_R_20190720000_01D_30S_MO.crx.gz\n",
            "✅ Downloaded: IISC00IND_R_20190730000_01D_30S_MO.crx.gz\n",
            "✅ Downloaded: IISC00IND_R_20190740000_01D_30S_MO.crx.gz\n",
            "✅ Downloaded: IISC00IND_R_20190750000_01D_30S_MO.crx.gz\n",
            "✅ Downloaded: IISC00IND_R_20190760000_01D_30S_MO.crx.gz\n",
            "✅ Downloaded: IISC00IND_R_20190770000_01D_30S_MO.crx.gz\n",
            "✅ Downloaded: IISC00IND_R_20190780000_01D_30S_MO.crx.gz\n",
            "✅ Downloaded: IISC00IND_R_20190790000_01D_30S_MO.crx.gz\n",
            "✅ Downloaded: IISC00IND_R_20190800000_01D_30S_MO.crx.gz\n",
            "✅ Downloaded: IISC00IND_R_20190810000_01D_30S_MO.crx.gz\n",
            "✅ Downloaded: IISC00IND_R_20190820000_01D_30S_MO.crx.gz\n",
            "✅ Downloaded: IISC00IND_R_20190830000_01D_30S_MO.crx.gz\n",
            "✅ Downloaded: IISC00IND_R_20190840000_01D_30S_MO.crx.gz\n",
            "✅ Downloaded: IISC00IND_R_20190850000_01D_30S_MO.crx.gz\n",
            "✅ Downloaded: IISC00IND_R_20190860000_01D_30S_MO.crx.gz\n",
            "✅ Downloaded: IISC00IND_R_20190870000_01D_30S_MO.crx.gz\n",
            "✅ Downloaded: IISC00IND_R_20190880000_01D_30S_MO.crx.gz\n",
            "✅ Downloaded: IISC00IND_R_20190890000_01D_30S_MO.crx.gz\n",
            "✅ Downloaded: IISC00IND_R_20190900000_01D_30S_MO.crx.gz\n",
            "✅ Downloaded: IISC00IND_R_20190910000_01D_30S_MO.crx.gz\n",
            "✅ Downloaded: IISC00IND_R_20190920000_01D_30S_MO.crx.gz\n",
            "✅ Downloaded: IISC00IND_R_20190930000_01D_30S_MO.crx.gz\n",
            "✅ Downloaded: IISC00IND_R_20190940000_01D_30S_MO.crx.gz\n",
            "✅ Downloaded: IISC00IND_R_20190950000_01D_30S_MO.crx.gz\n",
            "✅ Downloaded: IISC00IND_R_20190960000_01D_30S_MO.crx.gz\n",
            "✅ Downloaded: IISC00IND_R_20190970000_01D_30S_MO.crx.gz\n",
            "✅ Downloaded: IISC00IND_R_20190980000_01D_30S_MO.crx.gz\n",
            "✅ Downloaded: IISC00IND_R_20190990000_01D_30S_MO.crx.gz\n",
            "✅ Downloaded: IISC00IND_R_20191000000_01D_30S_MO.crx.gz\n",
            "✅ Downloaded: IISC00IND_R_20191010000_01D_30S_MO.crx.gz\n",
            "✅ Downloaded: IISC00IND_R_20191020000_01D_30S_MO.crx.gz\n",
            "✅ Downloaded: IISC00IND_R_20191030000_01D_30S_MO.crx.gz\n",
            "✅ Downloaded: IISC00IND_R_20191040000_01D_30S_MO.crx.gz\n",
            "✅ Downloaded: IISC00IND_R_20191050000_01D_30S_MO.crx.gz\n",
            "✅ Downloaded: IISC00IND_R_20191060000_01D_30S_MO.crx.gz\n",
            "✅ Downloaded: IISC00IND_R_20191070000_01D_30S_MO.crx.gz\n",
            "✅ Downloaded: IISC00IND_R_20191080000_01D_30S_MO.crx.gz\n",
            "✅ Downloaded: IISC00IND_R_20191090000_01D_30S_MO.crx.gz\n",
            "✅ Downloaded: IISC00IND_R_20191100000_01D_30S_MO.crx.gz\n",
            "✅ Downloaded: IISC00IND_R_20191110000_01D_30S_MO.crx.gz\n",
            "✅ Downloaded: IISC00IND_R_20191120000_01D_30S_MO.crx.gz\n",
            "✅ Downloaded: IISC00IND_R_20191130000_01D_30S_MO.crx.gz\n",
            "✅ Downloaded: IISC00IND_R_20191140000_01D_30S_MO.crx.gz\n",
            "✅ Downloaded: IISC00IND_R_20191150000_01D_30S_MO.crx.gz\n",
            "✅ Downloaded: IISC00IND_R_20191160000_01D_30S_MO.crx.gz\n",
            "✅ Downloaded: IISC00IND_R_20191170000_01D_30S_MO.crx.gz\n",
            "✅ Downloaded: IISC00IND_R_20191180000_01D_30S_MO.crx.gz\n",
            "✅ Downloaded: IISC00IND_R_20191190000_01D_30S_MO.crx.gz\n",
            "✅ Downloaded: IISC00IND_R_20191200000_01D_30S_MO.crx.gz\n",
            "✅ Downloaded: IISC00IND_R_20191210000_01D_30S_MO.crx.gz\n",
            "✅ Downloaded: IISC00IND_R_20191220000_01D_30S_MO.crx.gz\n",
            "✅ Downloaded: IISC00IND_R_20191230000_01D_30S_MO.crx.gz\n",
            "✅ Downloaded: IISC00IND_R_20191240000_01D_30S_MO.crx.gz\n",
            "✅ Downloaded: IISC00IND_R_20191250000_01D_30S_MO.crx.gz\n",
            "✅ Downloaded: IISC00IND_R_20191260000_01D_30S_MO.crx.gz\n",
            "✅ Downloaded: IISC00IND_R_20191270000_01D_30S_MO.crx.gz\n",
            "⚠️ 0B file removed: IISC00IND_R_20191280000_01D_30S_MO.crx.gz\n",
            "🔄 Retrying IISC00IND_R_20191280000_01D_30S_MO.crx.gz (Attempt 2/3)...\n",
            "⚠️ 0B file removed: IISC00IND_R_20191280000_01D_30S_MO.crx.gz\n",
            "🔄 Retrying IISC00IND_R_20191280000_01D_30S_MO.crx.gz (Attempt 3/3)...\n",
            "⚠️ 0B file removed: IISC00IND_R_20191280000_01D_30S_MO.crx.gz\n",
            "🔄 Retrying IISC00IND_R_20191280000_01D_30S_MO.crx.gz (Attempt 4/3)...\n",
            "❌ Failed after 3 attempts: IISC00IND_R_20191280000_01D_30S_MO.crx.gz\n",
            "✅ Downloaded: IISC00IND_R_20191290000_01D_30S_MO.crx.gz\n",
            "✅ Downloaded: IISC00IND_R_20191300000_01D_30S_MO.crx.gz\n",
            "✅ Downloaded: IISC00IND_R_20191310000_01D_30S_MO.crx.gz\n",
            "✅ Downloaded: IISC00IND_R_20191320000_01D_30S_MO.crx.gz\n",
            "✅ Downloaded: IISC00IND_R_20191330000_01D_30S_MO.crx.gz\n",
            "✅ Downloaded: IISC00IND_R_20191340000_01D_30S_MO.crx.gz\n",
            "✅ Downloaded: IISC00IND_R_20191350000_01D_30S_MO.crx.gz\n",
            "✅ Downloaded: IISC00IND_R_20191360000_01D_30S_MO.crx.gz\n",
            "✅ Downloaded: IISC00IND_R_20191370000_01D_30S_MO.crx.gz\n",
            "✅ Downloaded: IISC00IND_R_20191380000_01D_30S_MO.crx.gz\n",
            "✅ Downloaded: IISC00IND_R_20191390000_01D_30S_MO.crx.gz\n",
            "✅ Downloaded: IISC00IND_R_20191400000_01D_30S_MO.crx.gz\n",
            "✅ Downloaded: IISC00IND_R_20191410000_01D_30S_MO.crx.gz\n",
            "✅ Downloaded: IISC00IND_R_20191420000_01D_30S_MO.crx.gz\n",
            "✅ Downloaded: IISC00IND_R_20191430000_01D_30S_MO.crx.gz\n",
            "✅ Downloaded: IISC00IND_R_20191440000_01D_30S_MO.crx.gz\n",
            "✅ Downloaded: IISC00IND_R_20191450000_01D_30S_MO.crx.gz\n",
            "✅ Downloaded: IISC00IND_R_20191460000_01D_30S_MO.crx.gz\n",
            "✅ Downloaded: IISC00IND_R_20191470000_01D_30S_MO.crx.gz\n",
            "✅ Downloaded: IISC00IND_R_20191480000_01D_30S_MO.crx.gz\n",
            "✅ Downloaded: IISC00IND_R_20191490000_01D_30S_MO.crx.gz\n",
            "✅ Downloaded: IISC00IND_R_20191500000_01D_30S_MO.crx.gz\n",
            "✅ Downloaded: IISC00IND_R_20191510000_01D_30S_MO.crx.gz\n",
            "✅ Downloaded: IISC00IND_R_20191520000_01D_30S_MO.crx.gz\n",
            "✅ Downloaded: IISC00IND_R_20191530000_01D_30S_MO.crx.gz\n",
            "⚠️ 0B file removed: IISC00IND_R_20191540000_01D_30S_MO.crx.gz\n",
            "🔄 Retrying IISC00IND_R_20191540000_01D_30S_MO.crx.gz (Attempt 2/3)...\n",
            "⚠️ 0B file removed: IISC00IND_R_20191540000_01D_30S_MO.crx.gz\n",
            "🔄 Retrying IISC00IND_R_20191540000_01D_30S_MO.crx.gz (Attempt 3/3)...\n",
            "⚠️ 0B file removed: IISC00IND_R_20191540000_01D_30S_MO.crx.gz\n",
            "🔄 Retrying IISC00IND_R_20191540000_01D_30S_MO.crx.gz (Attempt 4/3)...\n",
            "❌ Failed after 3 attempts: IISC00IND_R_20191540000_01D_30S_MO.crx.gz\n",
            "⚠️ 0B file removed: IISC00IND_R_20191550000_01D_30S_MO.crx.gz\n",
            "🔄 Retrying IISC00IND_R_20191550000_01D_30S_MO.crx.gz (Attempt 2/3)...\n",
            "⚠️ 0B file removed: IISC00IND_R_20191550000_01D_30S_MO.crx.gz\n",
            "🔄 Retrying IISC00IND_R_20191550000_01D_30S_MO.crx.gz (Attempt 3/3)...\n",
            "⚠️ 0B file removed: IISC00IND_R_20191550000_01D_30S_MO.crx.gz\n",
            "🔄 Retrying IISC00IND_R_20191550000_01D_30S_MO.crx.gz (Attempt 4/3)...\n",
            "❌ Failed after 3 attempts: IISC00IND_R_20191550000_01D_30S_MO.crx.gz\n",
            "✅ Downloaded: IISC00IND_R_20191560000_01D_30S_MO.crx.gz\n",
            "✅ Downloaded: IISC00IND_R_20191570000_01D_30S_MO.crx.gz\n",
            "✅ Downloaded: IISC00IND_R_20191580000_01D_30S_MO.crx.gz\n",
            "✅ Downloaded: IISC00IND_R_20191590000_01D_30S_MO.crx.gz\n",
            "✅ Downloaded: IISC00IND_R_20191600000_01D_30S_MO.crx.gz\n",
            "✅ Downloaded: IISC00IND_R_20191610000_01D_30S_MO.crx.gz\n",
            "✅ Downloaded: IISC00IND_R_20191620000_01D_30S_MO.crx.gz\n",
            "✅ Downloaded: IISC00IND_R_20191630000_01D_30S_MO.crx.gz\n",
            "✅ Downloaded: IISC00IND_R_20191640000_01D_30S_MO.crx.gz\n",
            "✅ Downloaded: IISC00IND_R_20191650000_01D_30S_MO.crx.gz\n",
            "✅ Downloaded: IISC00IND_R_20191660000_01D_30S_MO.crx.gz\n",
            "✅ Downloaded: IISC00IND_R_20191670000_01D_30S_MO.crx.gz\n",
            "✅ Downloaded: IISC00IND_R_20191680000_01D_30S_MO.crx.gz\n",
            "✅ Downloaded: IISC00IND_R_20191690000_01D_30S_MO.crx.gz\n",
            "✅ Downloaded: IISC00IND_R_20191700000_01D_30S_MO.crx.gz\n",
            "✅ Downloaded: IISC00IND_R_20191710000_01D_30S_MO.crx.gz\n",
            "✅ Downloaded: IISC00IND_R_20191720000_01D_30S_MO.crx.gz\n",
            "✅ Downloaded: IISC00IND_R_20191730000_01D_30S_MO.crx.gz\n",
            "✅ Downloaded: IISC00IND_R_20191740000_01D_30S_MO.crx.gz\n",
            "✅ Downloaded: IISC00IND_R_20191750000_01D_30S_MO.crx.gz\n",
            "✅ Downloaded: IISC00IND_R_20191760000_01D_30S_MO.crx.gz\n",
            "✅ Downloaded: IISC00IND_R_20191770000_01D_30S_MO.crx.gz\n",
            "✅ Downloaded: IISC00IND_R_20191780000_01D_30S_MO.crx.gz\n",
            "✅ Downloaded: IISC00IND_R_20191790000_01D_30S_MO.crx.gz\n",
            "✅ Downloaded: IISC00IND_R_20191800000_01D_30S_MO.crx.gz\n",
            "✅ Downloaded: IISC00IND_R_20191810000_01D_30S_MO.crx.gz\n",
            "✅ Downloaded: IISC00IND_R_20191820000_01D_30S_MO.crx.gz\n",
            "✅ Downloaded: IISC00IND_R_20191830000_01D_30S_MO.crx.gz\n",
            "✅ Downloaded: IISC00IND_R_20191840000_01D_30S_MO.crx.gz\n",
            "✅ Downloaded: IISC00IND_R_20191850000_01D_30S_MO.crx.gz\n",
            "✅ Downloaded: IISC00IND_R_20191860000_01D_30S_MO.crx.gz\n",
            "✅ Downloaded: IISC00IND_R_20191870000_01D_30S_MO.crx.gz\n",
            "✅ Downloaded: IISC00IND_R_20191880000_01D_30S_MO.crx.gz\n",
            "✅ Downloaded: IISC00IND_R_20191890000_01D_30S_MO.crx.gz\n",
            "✅ Downloaded: IISC00IND_R_20191900000_01D_30S_MO.crx.gz\n",
            "✅ Downloaded: IISC00IND_R_20191910000_01D_30S_MO.crx.gz\n",
            "✅ Downloaded: IISC00IND_R_20191920000_01D_30S_MO.crx.gz\n",
            "✅ Downloaded: IISC00IND_R_20191930000_01D_30S_MO.crx.gz\n",
            "✅ Downloaded: IISC00IND_R_20191940000_01D_30S_MO.crx.gz\n",
            "✅ Downloaded: IISC00IND_R_20191950000_01D_30S_MO.crx.gz\n",
            "✅ Downloaded: IISC00IND_R_20191960000_01D_30S_MO.crx.gz\n",
            "✅ Downloaded: IISC00IND_R_20191970000_01D_30S_MO.crx.gz\n",
            "✅ Downloaded: IISC00IND_R_20191980000_01D_30S_MO.crx.gz\n",
            "✅ Downloaded: IISC00IND_R_20191990000_01D_30S_MO.crx.gz\n",
            "✅ Downloaded: IISC00IND_R_20192000000_01D_30S_MO.crx.gz\n",
            "✅ Downloaded: IISC00IND_R_20192010000_01D_30S_MO.crx.gz\n",
            "✅ Downloaded: IISC00IND_R_20192020000_01D_30S_MO.crx.gz\n",
            "✅ Downloaded: IISC00IND_R_20192030000_01D_30S_MO.crx.gz\n",
            "✅ Downloaded: IISC00IND_R_20192040000_01D_30S_MO.crx.gz\n",
            "✅ Downloaded: IISC00IND_R_20192050000_01D_30S_MO.crx.gz\n",
            "✅ Downloaded: IISC00IND_R_20192060000_01D_30S_MO.crx.gz\n",
            "✅ Downloaded: IISC00IND_R_20192070000_01D_30S_MO.crx.gz\n",
            "✅ Downloaded: IISC00IND_R_20192080000_01D_30S_MO.crx.gz\n",
            "✅ Downloaded: IISC00IND_R_20192090000_01D_30S_MO.crx.gz\n",
            "✅ Downloaded: IISC00IND_R_20192100000_01D_30S_MO.crx.gz\n",
            "✅ Downloaded: IISC00IND_R_20192110000_01D_30S_MO.crx.gz\n",
            "✅ Downloaded: IISC00IND_R_20192120000_01D_30S_MO.crx.gz\n",
            "✅ Downloaded: IISC00IND_R_20192130000_01D_30S_MO.crx.gz\n",
            "✅ Downloaded: IISC00IND_R_20192140000_01D_30S_MO.crx.gz\n",
            "✅ Downloaded: IISC00IND_R_20192150000_01D_30S_MO.crx.gz\n",
            "✅ Downloaded: IISC00IND_R_20192160000_01D_30S_MO.crx.gz\n",
            "✅ Downloaded: IISC00IND_R_20192170000_01D_30S_MO.crx.gz\n",
            "✅ Downloaded: IISC00IND_R_20192180000_01D_30S_MO.crx.gz\n",
            "✅ Downloaded: IISC00IND_R_20192190000_01D_30S_MO.crx.gz\n",
            "✅ Downloaded: IISC00IND_R_20192200000_01D_30S_MO.crx.gz\n",
            "✅ Downloaded: IISC00IND_R_20192210000_01D_30S_MO.crx.gz\n",
            "✅ Downloaded: IISC00IND_R_20192220000_01D_30S_MO.crx.gz\n",
            "✅ Downloaded: IISC00IND_R_20192230000_01D_30S_MO.crx.gz\n",
            "✅ Downloaded: IISC00IND_R_20192240000_01D_30S_MO.crx.gz\n",
            "✅ Downloaded: IISC00IND_R_20192250000_01D_30S_MO.crx.gz\n",
            "✅ Downloaded: IISC00IND_R_20192260000_01D_30S_MO.crx.gz\n",
            "✅ Downloaded: IISC00IND_R_20192270000_01D_30S_MO.crx.gz\n",
            "✅ Downloaded: IISC00IND_R_20192280000_01D_30S_MO.crx.gz\n",
            "✅ Downloaded: IISC00IND_R_20192290000_01D_30S_MO.crx.gz\n",
            "✅ Downloaded: IISC00IND_R_20192300000_01D_30S_MO.crx.gz\n",
            "✅ Downloaded: IISC00IND_R_20192310000_01D_30S_MO.crx.gz\n",
            "✅ Downloaded: IISC00IND_R_20192320000_01D_30S_MO.crx.gz\n",
            "✅ Downloaded: IISC00IND_R_20192330000_01D_30S_MO.crx.gz\n",
            "✅ Downloaded: IISC00IND_R_20192340000_01D_30S_MO.crx.gz\n",
            "✅ Downloaded: IISC00IND_R_20192350000_01D_30S_MO.crx.gz\n",
            "✅ Downloaded: IISC00IND_R_20192360000_01D_30S_MO.crx.gz\n",
            "✅ Downloaded: IISC00IND_R_20192370000_01D_30S_MO.crx.gz\n",
            "✅ Downloaded: IISC00IND_R_20192380000_01D_30S_MO.crx.gz\n",
            "✅ Downloaded: IISC00IND_R_20192390000_01D_30S_MO.crx.gz\n",
            "✅ Downloaded: IISC00IND_R_20192400000_01D_30S_MO.crx.gz\n",
            "✅ Downloaded: IISC00IND_R_20192410000_01D_30S_MO.crx.gz\n",
            "✅ Downloaded: IISC00IND_R_20192420000_01D_30S_MO.crx.gz\n",
            "✅ Downloaded: IISC00IND_R_20192430000_01D_30S_MO.crx.gz\n",
            "✅ Downloaded: IISC00IND_R_20192440000_01D_30S_MO.crx.gz\n",
            "✅ Downloaded: IISC00IND_R_20192450000_01D_30S_MO.crx.gz\n",
            "✅ Downloaded: IISC00IND_R_20192460000_01D_30S_MO.crx.gz\n",
            "✅ Downloaded: IISC00IND_R_20192470000_01D_30S_MO.crx.gz\n",
            "✅ Downloaded: IISC00IND_R_20192480000_01D_30S_MO.crx.gz\n",
            "✅ Downloaded: IISC00IND_R_20192490000_01D_30S_MO.crx.gz\n",
            "✅ Downloaded: IISC00IND_R_20192500000_01D_30S_MO.crx.gz\n",
            "✅ Downloaded: IISC00IND_R_20192510000_01D_30S_MO.crx.gz\n",
            "✅ Downloaded: IISC00IND_R_20192520000_01D_30S_MO.crx.gz\n",
            "✅ Downloaded: IISC00IND_R_20192530000_01D_30S_MO.crx.gz\n",
            "✅ Downloaded: IISC00IND_R_20192540000_01D_30S_MO.crx.gz\n",
            "✅ Downloaded: IISC00IND_R_20192550000_01D_30S_MO.crx.gz\n",
            "✅ Downloaded: IISC00IND_R_20192560000_01D_30S_MO.crx.gz\n",
            "✅ Downloaded: IISC00IND_R_20192570000_01D_30S_MO.crx.gz\n",
            "✅ Downloaded: IISC00IND_R_20192580000_01D_30S_MO.crx.gz\n",
            "✅ Downloaded: IISC00IND_R_20192590000_01D_30S_MO.crx.gz\n",
            "✅ Downloaded: IISC00IND_R_20192600000_01D_30S_MO.crx.gz\n",
            "✅ Downloaded: IISC00IND_R_20192610000_01D_30S_MO.crx.gz\n",
            "✅ Downloaded: IISC00IND_R_20192620000_01D_30S_MO.crx.gz\n",
            "✅ Downloaded: IISC00IND_R_20192630000_01D_30S_MO.crx.gz\n",
            "✅ Downloaded: IISC00IND_R_20192640000_01D_30S_MO.crx.gz\n",
            "✅ Downloaded: IISC00IND_R_20192650000_01D_30S_MO.crx.gz\n",
            "✅ Downloaded: IISC00IND_R_20192660000_01D_30S_MO.crx.gz\n",
            "✅ Downloaded: IISC00IND_R_20192670000_01D_30S_MO.crx.gz\n",
            "✅ Downloaded: IISC00IND_R_20192680000_01D_30S_MO.crx.gz\n",
            "✅ Downloaded: IISC00IND_R_20192690000_01D_30S_MO.crx.gz\n",
            "✅ Downloaded: IISC00IND_R_20192700000_01D_30S_MO.crx.gz\n",
            "✅ Downloaded: IISC00IND_R_20192710000_01D_30S_MO.crx.gz\n",
            "✅ Downloaded: IISC00IND_R_20192720000_01D_30S_MO.crx.gz\n",
            "✅ Downloaded: IISC00IND_R_20192730000_01D_30S_MO.crx.gz\n",
            "✅ Downloaded: IISC00IND_R_20192740000_01D_30S_MO.crx.gz\n",
            "✅ Downloaded: IISC00IND_R_20192750000_01D_30S_MO.crx.gz\n",
            "✅ Downloaded: IISC00IND_R_20192760000_01D_30S_MO.crx.gz\n",
            "✅ Downloaded: IISC00IND_R_20192770000_01D_30S_MO.crx.gz\n",
            "⚠️ 0B file removed: IISC00IND_R_20192780000_01D_30S_MO.crx.gz\n",
            "🔄 Retrying IISC00IND_R_20192780000_01D_30S_MO.crx.gz (Attempt 2/3)...\n",
            "⚠️ 0B file removed: IISC00IND_R_20192780000_01D_30S_MO.crx.gz\n",
            "🔄 Retrying IISC00IND_R_20192780000_01D_30S_MO.crx.gz (Attempt 3/3)...\n",
            "⚠️ 0B file removed: IISC00IND_R_20192780000_01D_30S_MO.crx.gz\n",
            "🔄 Retrying IISC00IND_R_20192780000_01D_30S_MO.crx.gz (Attempt 4/3)...\n",
            "❌ Failed after 3 attempts: IISC00IND_R_20192780000_01D_30S_MO.crx.gz\n",
            "⚠️ 0B file removed: IISC00IND_R_20192790000_01D_30S_MO.crx.gz\n",
            "🔄 Retrying IISC00IND_R_20192790000_01D_30S_MO.crx.gz (Attempt 2/3)...\n",
            "⚠️ 0B file removed: IISC00IND_R_20192790000_01D_30S_MO.crx.gz\n",
            "🔄 Retrying IISC00IND_R_20192790000_01D_30S_MO.crx.gz (Attempt 3/3)...\n",
            "⚠️ 0B file removed: IISC00IND_R_20192790000_01D_30S_MO.crx.gz\n",
            "🔄 Retrying IISC00IND_R_20192790000_01D_30S_MO.crx.gz (Attempt 4/3)...\n",
            "❌ Failed after 3 attempts: IISC00IND_R_20192790000_01D_30S_MO.crx.gz\n",
            "⚠️ 0B file removed: IISC00IND_R_20192800000_01D_30S_MO.crx.gz\n",
            "🔄 Retrying IISC00IND_R_20192800000_01D_30S_MO.crx.gz (Attempt 2/3)...\n",
            "⚠️ 0B file removed: IISC00IND_R_20192800000_01D_30S_MO.crx.gz\n",
            "🔄 Retrying IISC00IND_R_20192800000_01D_30S_MO.crx.gz (Attempt 3/3)...\n",
            "⚠️ 0B file removed: IISC00IND_R_20192800000_01D_30S_MO.crx.gz\n",
            "🔄 Retrying IISC00IND_R_20192800000_01D_30S_MO.crx.gz (Attempt 4/3)...\n",
            "❌ Failed after 3 attempts: IISC00IND_R_20192800000_01D_30S_MO.crx.gz\n",
            "⚠️ 0B file removed: IISC00IND_R_20192810000_01D_30S_MO.crx.gz\n",
            "🔄 Retrying IISC00IND_R_20192810000_01D_30S_MO.crx.gz (Attempt 2/3)...\n",
            "⚠️ 0B file removed: IISC00IND_R_20192810000_01D_30S_MO.crx.gz\n",
            "🔄 Retrying IISC00IND_R_20192810000_01D_30S_MO.crx.gz (Attempt 3/3)...\n",
            "⚠️ 0B file removed: IISC00IND_R_20192810000_01D_30S_MO.crx.gz\n",
            "🔄 Retrying IISC00IND_R_20192810000_01D_30S_MO.crx.gz (Attempt 4/3)...\n",
            "❌ Failed after 3 attempts: IISC00IND_R_20192810000_01D_30S_MO.crx.gz\n",
            "⚠️ 0B file removed: IISC00IND_R_20192820000_01D_30S_MO.crx.gz\n",
            "🔄 Retrying IISC00IND_R_20192820000_01D_30S_MO.crx.gz (Attempt 2/3)...\n",
            "⚠️ 0B file removed: IISC00IND_R_20192820000_01D_30S_MO.crx.gz\n",
            "🔄 Retrying IISC00IND_R_20192820000_01D_30S_MO.crx.gz (Attempt 3/3)...\n",
            "⚠️ 0B file removed: IISC00IND_R_20192820000_01D_30S_MO.crx.gz\n",
            "🔄 Retrying IISC00IND_R_20192820000_01D_30S_MO.crx.gz (Attempt 4/3)...\n",
            "❌ Failed after 3 attempts: IISC00IND_R_20192820000_01D_30S_MO.crx.gz\n",
            "✅ Downloaded: IISC00IND_R_20192830000_01D_30S_MO.crx.gz\n",
            "⚠️ 0B file removed: IISC00IND_R_20192840000_01D_30S_MO.crx.gz\n",
            "🔄 Retrying IISC00IND_R_20192840000_01D_30S_MO.crx.gz (Attempt 2/3)...\n",
            "⚠️ 0B file removed: IISC00IND_R_20192840000_01D_30S_MO.crx.gz\n",
            "🔄 Retrying IISC00IND_R_20192840000_01D_30S_MO.crx.gz (Attempt 3/3)...\n",
            "⚠️ 0B file removed: IISC00IND_R_20192840000_01D_30S_MO.crx.gz\n",
            "🔄 Retrying IISC00IND_R_20192840000_01D_30S_MO.crx.gz (Attempt 4/3)...\n",
            "❌ Failed after 3 attempts: IISC00IND_R_20192840000_01D_30S_MO.crx.gz\n",
            "⚠️ 0B file removed: IISC00IND_R_20192850000_01D_30S_MO.crx.gz\n",
            "🔄 Retrying IISC00IND_R_20192850000_01D_30S_MO.crx.gz (Attempt 2/3)...\n",
            "⚠️ 0B file removed: IISC00IND_R_20192850000_01D_30S_MO.crx.gz\n",
            "🔄 Retrying IISC00IND_R_20192850000_01D_30S_MO.crx.gz (Attempt 3/3)...\n",
            "⚠️ 0B file removed: IISC00IND_R_20192850000_01D_30S_MO.crx.gz\n",
            "🔄 Retrying IISC00IND_R_20192850000_01D_30S_MO.crx.gz (Attempt 4/3)...\n",
            "❌ Failed after 3 attempts: IISC00IND_R_20192850000_01D_30S_MO.crx.gz\n",
            "⚠️ 0B file removed: IISC00IND_R_20192860000_01D_30S_MO.crx.gz\n",
            "🔄 Retrying IISC00IND_R_20192860000_01D_30S_MO.crx.gz (Attempt 2/3)...\n",
            "⚠️ 0B file removed: IISC00IND_R_20192860000_01D_30S_MO.crx.gz\n",
            "🔄 Retrying IISC00IND_R_20192860000_01D_30S_MO.crx.gz (Attempt 3/3)...\n",
            "⚠️ 0B file removed: IISC00IND_R_20192860000_01D_30S_MO.crx.gz\n",
            "🔄 Retrying IISC00IND_R_20192860000_01D_30S_MO.crx.gz (Attempt 4/3)...\n",
            "❌ Failed after 3 attempts: IISC00IND_R_20192860000_01D_30S_MO.crx.gz\n",
            "✅ Downloaded: IISC00IND_R_20192870000_01D_30S_MO.crx.gz\n",
            "✅ Downloaded: IISC00IND_R_20192880000_01D_30S_MO.crx.gz\n",
            "✅ Downloaded: IISC00IND_R_20192890000_01D_30S_MO.crx.gz\n",
            "✅ Downloaded: IISC00IND_R_20192900000_01D_30S_MO.crx.gz\n",
            "✅ Downloaded: IISC00IND_R_20192910000_01D_30S_MO.crx.gz\n",
            "✅ Downloaded: IISC00IND_R_20192920000_01D_30S_MO.crx.gz\n",
            "✅ Downloaded: IISC00IND_R_20192930000_01D_30S_MO.crx.gz\n",
            "✅ Downloaded: IISC00IND_R_20192940000_01D_30S_MO.crx.gz\n",
            "✅ Downloaded: IISC00IND_R_20192950000_01D_30S_MO.crx.gz\n",
            "✅ Downloaded: IISC00IND_R_20192960000_01D_30S_MO.crx.gz\n",
            "✅ Downloaded: IISC00IND_R_20192970000_01D_30S_MO.crx.gz\n",
            "✅ Downloaded: IISC00IND_R_20192980000_01D_30S_MO.crx.gz\n",
            "✅ Downloaded: IISC00IND_R_20192990000_01D_30S_MO.crx.gz\n",
            "✅ Downloaded: IISC00IND_R_20193000000_01D_30S_MO.crx.gz\n",
            "✅ Downloaded: IISC00IND_R_20193010000_01D_30S_MO.crx.gz\n",
            "✅ Downloaded: IISC00IND_R_20193020000_01D_30S_MO.crx.gz\n",
            "✅ Downloaded: IISC00IND_R_20193030000_01D_30S_MO.crx.gz\n",
            "✅ Downloaded: IISC00IND_R_20193040000_01D_30S_MO.crx.gz\n",
            "⚠️ 0B file removed: IISC00IND_R_20193050000_01D_30S_MO.crx.gz\n",
            "🔄 Retrying IISC00IND_R_20193050000_01D_30S_MO.crx.gz (Attempt 2/3)...\n",
            "⚠️ 0B file removed: IISC00IND_R_20193050000_01D_30S_MO.crx.gz\n",
            "🔄 Retrying IISC00IND_R_20193050000_01D_30S_MO.crx.gz (Attempt 3/3)...\n",
            "⚠️ 0B file removed: IISC00IND_R_20193050000_01D_30S_MO.crx.gz\n",
            "🔄 Retrying IISC00IND_R_20193050000_01D_30S_MO.crx.gz (Attempt 4/3)...\n",
            "❌ Failed after 3 attempts: IISC00IND_R_20193050000_01D_30S_MO.crx.gz\n",
            "✅ Downloaded: IISC00IND_R_20193060000_01D_30S_MO.crx.gz\n",
            "✅ Downloaded: IISC00IND_R_20193070000_01D_30S_MO.crx.gz\n",
            "✅ Downloaded: IISC00IND_R_20193080000_01D_30S_MO.crx.gz\n",
            "✅ Downloaded: IISC00IND_R_20193090000_01D_30S_MO.crx.gz\n",
            "✅ Downloaded: IISC00IND_R_20193100000_01D_30S_MO.crx.gz\n",
            "✅ Downloaded: IISC00IND_R_20193110000_01D_30S_MO.crx.gz\n",
            "✅ Downloaded: IISC00IND_R_20193120000_01D_30S_MO.crx.gz\n",
            "✅ Downloaded: IISC00IND_R_20193130000_01D_30S_MO.crx.gz\n",
            "✅ Downloaded: IISC00IND_R_20193140000_01D_30S_MO.crx.gz\n",
            "✅ Downloaded: IISC00IND_R_20193150000_01D_30S_MO.crx.gz\n",
            "✅ Downloaded: IISC00IND_R_20193160000_01D_30S_MO.crx.gz\n",
            "✅ Downloaded: IISC00IND_R_20193170000_01D_30S_MO.crx.gz\n",
            "✅ Downloaded: IISC00IND_R_20193180000_01D_30S_MO.crx.gz\n",
            "✅ Downloaded: IISC00IND_R_20193190000_01D_30S_MO.crx.gz\n",
            "✅ Downloaded: IISC00IND_R_20193200000_01D_30S_MO.crx.gz\n",
            "✅ Downloaded: IISC00IND_R_20193210000_01D_30S_MO.crx.gz\n",
            "✅ Downloaded: IISC00IND_R_20193220000_01D_30S_MO.crx.gz\n",
            "✅ Downloaded: IISC00IND_R_20193230000_01D_30S_MO.crx.gz\n",
            "✅ Downloaded: IISC00IND_R_20193240000_01D_30S_MO.crx.gz\n",
            "✅ Downloaded: IISC00IND_R_20193250000_01D_30S_MO.crx.gz\n",
            "✅ Downloaded: IISC00IND_R_20193260000_01D_30S_MO.crx.gz\n",
            "✅ Downloaded: IISC00IND_R_20193270000_01D_30S_MO.crx.gz\n",
            "✅ Downloaded: IISC00IND_R_20193280000_01D_30S_MO.crx.gz\n",
            "✅ Downloaded: IISC00IND_R_20193290000_01D_30S_MO.crx.gz\n",
            "✅ Downloaded: IISC00IND_R_20193300000_01D_30S_MO.crx.gz\n",
            "✅ Downloaded: IISC00IND_R_20193310000_01D_30S_MO.crx.gz\n",
            "✅ Downloaded: IISC00IND_R_20193320000_01D_30S_MO.crx.gz\n",
            "✅ Downloaded: IISC00IND_R_20193330000_01D_30S_MO.crx.gz\n",
            "✅ Downloaded: IISC00IND_R_20193340000_01D_30S_MO.crx.gz\n",
            "✅ Downloaded: IISC00IND_R_20193350000_01D_30S_MO.crx.gz\n",
            "✅ Downloaded: IISC00IND_R_20193360000_01D_30S_MO.crx.gz\n",
            "✅ Downloaded: IISC00IND_R_20193370000_01D_30S_MO.crx.gz\n",
            "✅ Downloaded: IISC00IND_R_20193380000_01D_30S_MO.crx.gz\n",
            "✅ Downloaded: IISC00IND_R_20193390000_01D_30S_MO.crx.gz\n",
            "✅ Downloaded: IISC00IND_R_20193400000_01D_30S_MO.crx.gz\n",
            "✅ Downloaded: IISC00IND_R_20193410000_01D_30S_MO.crx.gz\n",
            "✅ Downloaded: IISC00IND_R_20193420000_01D_30S_MO.crx.gz\n",
            "✅ Downloaded: IISC00IND_R_20193430000_01D_30S_MO.crx.gz\n",
            "✅ Downloaded: IISC00IND_R_20193440000_01D_30S_MO.crx.gz\n",
            "✅ Downloaded: IISC00IND_R_20193450000_01D_30S_MO.crx.gz\n",
            "✅ Downloaded: IISC00IND_R_20193460000_01D_30S_MO.crx.gz\n",
            "✅ Downloaded: IISC00IND_R_20193470000_01D_30S_MO.crx.gz\n",
            "✅ Downloaded: IISC00IND_R_20193480000_01D_30S_MO.crx.gz\n",
            "✅ Downloaded: IISC00IND_R_20193490000_01D_30S_MO.crx.gz\n",
            "✅ Downloaded: IISC00IND_R_20193500000_01D_30S_MO.crx.gz\n",
            "✅ Downloaded: IISC00IND_R_20193510000_01D_30S_MO.crx.gz\n",
            "✅ Downloaded: IISC00IND_R_20193520000_01D_30S_MO.crx.gz\n",
            "✅ Downloaded: IISC00IND_R_20193530000_01D_30S_MO.crx.gz\n",
            "✅ Downloaded: IISC00IND_R_20193540000_01D_30S_MO.crx.gz\n",
            "✅ Downloaded: IISC00IND_R_20193550000_01D_30S_MO.crx.gz\n",
            "✅ Downloaded: IISC00IND_R_20193560000_01D_30S_MO.crx.gz\n",
            "✅ Downloaded: IISC00IND_R_20193570000_01D_30S_MO.crx.gz\n",
            "✅ Downloaded: IISC00IND_R_20193580000_01D_30S_MO.crx.gz\n",
            "✅ Downloaded: IISC00IND_R_20193590000_01D_30S_MO.crx.gz\n",
            "✅ Downloaded: IISC00IND_R_20193600000_01D_30S_MO.crx.gz\n",
            "✅ Downloaded: IISC00IND_R_20193610000_01D_30S_MO.crx.gz\n",
            "✅ Downloaded: IISC00IND_R_20193620000_01D_30S_MO.crx.gz\n",
            "✅ Downloaded: IISC00IND_R_20193630000_01D_30S_MO.crx.gz\n",
            "✅ Downloaded: IISC00IND_R_20193640000_01D_30S_MO.crx.gz\n",
            "✅ Downloaded: IISC00IND_R_20193650000_01D_30S_MO.crx.gz\n",
            "✅ Downloaded: IISC00IND_R_20200010000_01D_30S_MO.crx.gz\n",
            "✅ Downloaded: IISC00IND_R_20200020000_01D_30S_MO.crx.gz\n",
            "✅ Downloaded: IISC00IND_R_20200030000_01D_30S_MO.crx.gz\n",
            "✅ Downloaded: IISC00IND_R_20200040000_01D_30S_MO.crx.gz\n",
            "✅ Downloaded: IISC00IND_R_20200050000_01D_30S_MO.crx.gz\n",
            "✅ Downloaded: IISC00IND_R_20200060000_01D_30S_MO.crx.gz\n",
            "✅ Downloaded: IISC00IND_R_20200070000_01D_30S_MO.crx.gz\n",
            "✅ Downloaded: IISC00IND_R_20200080000_01D_30S_MO.crx.gz\n",
            "✅ Downloaded: IISC00IND_R_20200090000_01D_30S_MO.crx.gz\n",
            "✅ Downloaded: IISC00IND_R_20200100000_01D_30S_MO.crx.gz\n",
            "✅ Downloaded: IISC00IND_R_20200110000_01D_30S_MO.crx.gz\n",
            "✅ Downloaded: IISC00IND_R_20200120000_01D_30S_MO.crx.gz\n",
            "✅ Downloaded: IISC00IND_R_20200130000_01D_30S_MO.crx.gz\n",
            "✅ Downloaded: IISC00IND_R_20200140000_01D_30S_MO.crx.gz\n",
            "✅ Downloaded: IISC00IND_R_20200150000_01D_30S_MO.crx.gz\n",
            "✅ Downloaded: IISC00IND_R_20200160000_01D_30S_MO.crx.gz\n",
            "✅ Downloaded: IISC00IND_R_20200170000_01D_30S_MO.crx.gz\n",
            "✅ Downloaded: IISC00IND_R_20200180000_01D_30S_MO.crx.gz\n",
            "✅ Downloaded: IISC00IND_R_20200190000_01D_30S_MO.crx.gz\n",
            "✅ Downloaded: IISC00IND_R_20200200000_01D_30S_MO.crx.gz\n",
            "✅ Downloaded: IISC00IND_R_20200210000_01D_30S_MO.crx.gz\n",
            "✅ Downloaded: IISC00IND_R_20200220000_01D_30S_MO.crx.gz\n",
            "✅ Downloaded: IISC00IND_R_20200230000_01D_30S_MO.crx.gz\n",
            "✅ Downloaded: IISC00IND_R_20200240000_01D_30S_MO.crx.gz\n",
            "✅ Downloaded: IISC00IND_R_20200250000_01D_30S_MO.crx.gz\n",
            "✅ Downloaded: IISC00IND_R_20200260000_01D_30S_MO.crx.gz\n",
            "✅ Downloaded: IISC00IND_R_20200270000_01D_30S_MO.crx.gz\n",
            "✅ Downloaded: IISC00IND_R_20200280000_01D_30S_MO.crx.gz\n",
            "✅ Downloaded: IISC00IND_R_20200290000_01D_30S_MO.crx.gz\n",
            "✅ Downloaded: IISC00IND_R_20200300000_01D_30S_MO.crx.gz\n",
            "✅ Downloaded: IISC00IND_R_20200310000_01D_30S_MO.crx.gz\n",
            "✅ Downloaded: IISC00IND_R_20200320000_01D_30S_MO.crx.gz\n",
            "✅ Downloaded: IISC00IND_R_20200330000_01D_30S_MO.crx.gz\n",
            "✅ Downloaded: IISC00IND_R_20200340000_01D_30S_MO.crx.gz\n",
            "✅ Downloaded: IISC00IND_R_20200350000_01D_30S_MO.crx.gz\n",
            "✅ Downloaded: IISC00IND_R_20200360000_01D_30S_MO.crx.gz\n",
            "✅ Downloaded: IISC00IND_R_20200370000_01D_30S_MO.crx.gz\n",
            "✅ Downloaded: IISC00IND_R_20200380000_01D_30S_MO.crx.gz\n",
            "✅ Downloaded: IISC00IND_R_20200390000_01D_30S_MO.crx.gz\n",
            "✅ Downloaded: IISC00IND_R_20200400000_01D_30S_MO.crx.gz\n",
            "✅ Downloaded: IISC00IND_R_20200410000_01D_30S_MO.crx.gz\n",
            "✅ Downloaded: IISC00IND_R_20200420000_01D_30S_MO.crx.gz\n",
            "✅ Downloaded: IISC00IND_R_20200430000_01D_30S_MO.crx.gz\n",
            "✅ Downloaded: IISC00IND_R_20200440000_01D_30S_MO.crx.gz\n",
            "✅ Downloaded: IISC00IND_R_20200450000_01D_30S_MO.crx.gz\n",
            "✅ Downloaded: IISC00IND_R_20200460000_01D_30S_MO.crx.gz\n",
            "✅ Downloaded: IISC00IND_R_20200470000_01D_30S_MO.crx.gz\n",
            "✅ Downloaded: IISC00IND_R_20200480000_01D_30S_MO.crx.gz\n",
            "✅ Downloaded: IISC00IND_R_20200490000_01D_30S_MO.crx.gz\n",
            "✅ Downloaded: IISC00IND_R_20200500000_01D_30S_MO.crx.gz\n",
            "✅ Downloaded: IISC00IND_R_20200510000_01D_30S_MO.crx.gz\n",
            "✅ Downloaded: IISC00IND_R_20200520000_01D_30S_MO.crx.gz\n",
            "✅ Downloaded: IISC00IND_R_20200530000_01D_30S_MO.crx.gz\n",
            "✅ Downloaded: IISC00IND_R_20200540000_01D_30S_MO.crx.gz\n",
            "✅ Downloaded: IISC00IND_R_20200550000_01D_30S_MO.crx.gz\n",
            "✅ Downloaded: IISC00IND_R_20200560000_01D_30S_MO.crx.gz\n",
            "✅ Downloaded: IISC00IND_R_20200570000_01D_30S_MO.crx.gz\n",
            "✅ Downloaded: IISC00IND_R_20200580000_01D_30S_MO.crx.gz\n",
            "✅ Downloaded: IISC00IND_R_20200590000_01D_30S_MO.crx.gz\n",
            "✅ Downloaded: IISC00IND_R_20200600000_01D_30S_MO.crx.gz\n",
            "✅ Downloaded: IISC00IND_R_20200610000_01D_30S_MO.crx.gz\n",
            "✅ Downloaded: IISC00IND_R_20200620000_01D_30S_MO.crx.gz\n",
            "✅ Downloaded: IISC00IND_R_20200630000_01D_30S_MO.crx.gz\n",
            "✅ Downloaded: IISC00IND_R_20200640000_01D_30S_MO.crx.gz\n",
            "✅ Downloaded: IISC00IND_R_20200650000_01D_30S_MO.crx.gz\n",
            "✅ Downloaded: IISC00IND_R_20200660000_01D_30S_MO.crx.gz\n",
            "✅ Downloaded: IISC00IND_R_20200670000_01D_30S_MO.crx.gz\n",
            "✅ Downloaded: IISC00IND_R_20200680000_01D_30S_MO.crx.gz\n",
            "✅ Downloaded: IISC00IND_R_20200690000_01D_30S_MO.crx.gz\n",
            "✅ Downloaded: IISC00IND_R_20200700000_01D_30S_MO.crx.gz\n",
            "✅ Downloaded: IISC00IND_R_20200710000_01D_30S_MO.crx.gz\n",
            "✅ Downloaded: IISC00IND_R_20200720000_01D_30S_MO.crx.gz\n",
            "✅ Downloaded: IISC00IND_R_20200730000_01D_30S_MO.crx.gz\n",
            "✅ Downloaded: IISC00IND_R_20200740000_01D_30S_MO.crx.gz\n",
            "✅ Downloaded: IISC00IND_R_20200750000_01D_30S_MO.crx.gz\n",
            "✅ Downloaded: IISC00IND_R_20200760000_01D_30S_MO.crx.gz\n",
            "✅ Downloaded: IISC00IND_R_20200770000_01D_30S_MO.crx.gz\n",
            "✅ Downloaded: IISC00IND_R_20200780000_01D_30S_MO.crx.gz\n",
            "✅ Downloaded: IISC00IND_R_20200790000_01D_30S_MO.crx.gz\n",
            "✅ Downloaded: IISC00IND_R_20200800000_01D_30S_MO.crx.gz\n",
            "✅ Downloaded: IISC00IND_R_20200810000_01D_30S_MO.crx.gz\n",
            "✅ Downloaded: IISC00IND_R_20200820000_01D_30S_MO.crx.gz\n",
            "✅ Downloaded: IISC00IND_R_20200830000_01D_30S_MO.crx.gz\n",
            "✅ Downloaded: IISC00IND_R_20200840000_01D_30S_MO.crx.gz\n",
            "✅ Downloaded: IISC00IND_R_20200850000_01D_30S_MO.crx.gz\n",
            "✅ Downloaded: IISC00IND_R_20200860000_01D_30S_MO.crx.gz\n",
            "✅ Downloaded: IISC00IND_R_20200870000_01D_30S_MO.crx.gz\n",
            "✅ Downloaded: IISC00IND_R_20200880000_01D_30S_MO.crx.gz\n",
            "✅ Downloaded: IISC00IND_R_20200890000_01D_30S_MO.crx.gz\n",
            "✅ Downloaded: IISC00IND_R_20200900000_01D_30S_MO.crx.gz\n",
            "✅ Downloaded: IISC00IND_R_20200910000_01D_30S_MO.crx.gz\n",
            "✅ Downloaded: IISC00IND_R_20200920000_01D_30S_MO.crx.gz\n",
            "✅ Downloaded: IISC00IND_R_20200930000_01D_30S_MO.crx.gz\n",
            "✅ Downloaded: IISC00IND_R_20200940000_01D_30S_MO.crx.gz\n",
            "✅ Downloaded: IISC00IND_R_20200950000_01D_30S_MO.crx.gz\n",
            "✅ Downloaded: IISC00IND_R_20200960000_01D_30S_MO.crx.gz\n",
            "✅ Downloaded: IISC00IND_R_20200970000_01D_30S_MO.crx.gz\n",
            "✅ Downloaded: IISC00IND_R_20200980000_01D_30S_MO.crx.gz\n",
            "✅ Downloaded: IISC00IND_R_20200990000_01D_30S_MO.crx.gz\n",
            "✅ Downloaded: IISC00IND_R_20201000000_01D_30S_MO.crx.gz\n",
            "✅ Downloaded: IISC00IND_R_20201010000_01D_30S_MO.crx.gz\n",
            "✅ Downloaded: IISC00IND_R_20201020000_01D_30S_MO.crx.gz\n",
            "✅ Downloaded: IISC00IND_R_20201030000_01D_30S_MO.crx.gz\n",
            "✅ Downloaded: IISC00IND_R_20201040000_01D_30S_MO.crx.gz\n",
            "✅ Downloaded: IISC00IND_R_20201050000_01D_30S_MO.crx.gz\n",
            "✅ Downloaded: IISC00IND_R_20201060000_01D_30S_MO.crx.gz\n",
            "✅ Downloaded: IISC00IND_R_20201070000_01D_30S_MO.crx.gz\n",
            "✅ Downloaded: IISC00IND_R_20201080000_01D_30S_MO.crx.gz\n",
            "✅ Downloaded: IISC00IND_R_20201090000_01D_30S_MO.crx.gz\n",
            "✅ Downloaded: IISC00IND_R_20201100000_01D_30S_MO.crx.gz\n",
            "✅ Downloaded: IISC00IND_R_20201110000_01D_30S_MO.crx.gz\n",
            "✅ Downloaded: IISC00IND_R_20201120000_01D_30S_MO.crx.gz\n",
            "⚠️ 0B file removed: IISC00IND_R_20201130000_01D_30S_MO.crx.gz\n",
            "🔄 Retrying IISC00IND_R_20201130000_01D_30S_MO.crx.gz (Attempt 2/3)...\n",
            "⚠️ 0B file removed: IISC00IND_R_20201130000_01D_30S_MO.crx.gz\n",
            "🔄 Retrying IISC00IND_R_20201130000_01D_30S_MO.crx.gz (Attempt 3/3)...\n",
            "⚠️ 0B file removed: IISC00IND_R_20201130000_01D_30S_MO.crx.gz\n",
            "🔄 Retrying IISC00IND_R_20201130000_01D_30S_MO.crx.gz (Attempt 4/3)...\n",
            "❌ Failed after 3 attempts: IISC00IND_R_20201130000_01D_30S_MO.crx.gz\n",
            "✅ Downloaded: IISC00IND_R_20201140000_01D_30S_MO.crx.gz\n",
            "✅ Downloaded: IISC00IND_R_20201150000_01D_30S_MO.crx.gz\n",
            "✅ Downloaded: IISC00IND_R_20201160000_01D_30S_MO.crx.gz\n",
            "✅ Downloaded: IISC00IND_R_20201170000_01D_30S_MO.crx.gz\n",
            "✅ Downloaded: IISC00IND_R_20201180000_01D_30S_MO.crx.gz\n",
            "✅ Downloaded: IISC00IND_R_20201190000_01D_30S_MO.crx.gz\n",
            "✅ Downloaded: IISC00IND_R_20201200000_01D_30S_MO.crx.gz\n",
            "✅ Downloaded: IISC00IND_R_20201210000_01D_30S_MO.crx.gz\n",
            "✅ Downloaded: IISC00IND_R_20201220000_01D_30S_MO.crx.gz\n",
            "✅ Downloaded: IISC00IND_R_20201230000_01D_30S_MO.crx.gz\n",
            "✅ Downloaded: IISC00IND_R_20201240000_01D_30S_MO.crx.gz\n",
            "✅ Downloaded: IISC00IND_R_20201250000_01D_30S_MO.crx.gz\n",
            "✅ Downloaded: IISC00IND_R_20201260000_01D_30S_MO.crx.gz\n",
            "✅ Downloaded: IISC00IND_R_20201270000_01D_30S_MO.crx.gz\n",
            "✅ Downloaded: IISC00IND_R_20201280000_01D_30S_MO.crx.gz\n",
            "✅ Downloaded: IISC00IND_R_20201290000_01D_30S_MO.crx.gz\n",
            "✅ Downloaded: IISC00IND_R_20201300000_01D_30S_MO.crx.gz\n",
            "✅ Downloaded: IISC00IND_R_20201310000_01D_30S_MO.crx.gz\n",
            "✅ Downloaded: IISC00IND_R_20201320000_01D_30S_MO.crx.gz\n",
            "✅ Downloaded: IISC00IND_R_20201330000_01D_30S_MO.crx.gz\n",
            "✅ Downloaded: IISC00IND_R_20201340000_01D_30S_MO.crx.gz\n",
            "✅ Downloaded: IISC00IND_R_20201350000_01D_30S_MO.crx.gz\n",
            "✅ Downloaded: IISC00IND_R_20201360000_01D_30S_MO.crx.gz\n",
            "✅ Downloaded: IISC00IND_R_20201370000_01D_30S_MO.crx.gz\n",
            "✅ Downloaded: IISC00IND_R_20201380000_01D_30S_MO.crx.gz\n",
            "✅ Downloaded: IISC00IND_R_20201390000_01D_30S_MO.crx.gz\n",
            "✅ Downloaded: IISC00IND_R_20201400000_01D_30S_MO.crx.gz\n",
            "✅ Downloaded: IISC00IND_R_20201410000_01D_30S_MO.crx.gz\n",
            "✅ Downloaded: IISC00IND_R_20201420000_01D_30S_MO.crx.gz\n",
            "✅ Downloaded: IISC00IND_R_20201430000_01D_30S_MO.crx.gz\n",
            "✅ Downloaded: IISC00IND_R_20201440000_01D_30S_MO.crx.gz\n",
            "✅ Downloaded: IISC00IND_R_20201450000_01D_30S_MO.crx.gz\n",
            "✅ Downloaded: IISC00IND_R_20201460000_01D_30S_MO.crx.gz\n",
            "✅ Downloaded: IISC00IND_R_20201470000_01D_30S_MO.crx.gz\n",
            "✅ Downloaded: IISC00IND_R_20201480000_01D_30S_MO.crx.gz\n",
            "✅ Downloaded: IISC00IND_R_20201490000_01D_30S_MO.crx.gz\n",
            "✅ Downloaded: IISC00IND_R_20201500000_01D_30S_MO.crx.gz\n",
            "✅ Downloaded: IISC00IND_R_20201510000_01D_30S_MO.crx.gz\n",
            "✅ Downloaded: IISC00IND_R_20201520000_01D_30S_MO.crx.gz\n",
            "✅ Downloaded: IISC00IND_R_20201530000_01D_30S_MO.crx.gz\n",
            "✅ Downloaded: IISC00IND_R_20201540000_01D_30S_MO.crx.gz\n",
            "✅ Downloaded: IISC00IND_R_20201550000_01D_30S_MO.crx.gz\n",
            "✅ Downloaded: IISC00IND_R_20201560000_01D_30S_MO.crx.gz\n",
            "✅ Downloaded: IISC00IND_R_20201570000_01D_30S_MO.crx.gz\n",
            "✅ Downloaded: IISC00IND_R_20201580000_01D_30S_MO.crx.gz\n",
            "✅ Downloaded: IISC00IND_R_20201590000_01D_30S_MO.crx.gz\n",
            "✅ Downloaded: IISC00IND_R_20201600000_01D_30S_MO.crx.gz\n",
            "✅ Downloaded: IISC00IND_R_20201610000_01D_30S_MO.crx.gz\n",
            "✅ Downloaded: IISC00IND_R_20201620000_01D_30S_MO.crx.gz\n",
            "✅ Downloaded: IISC00IND_R_20201630000_01D_30S_MO.crx.gz\n",
            "✅ Downloaded: IISC00IND_R_20201640000_01D_30S_MO.crx.gz\n",
            "✅ Downloaded: IISC00IND_R_20201650000_01D_30S_MO.crx.gz\n",
            "✅ Downloaded: IISC00IND_R_20201660000_01D_30S_MO.crx.gz\n",
            "✅ Downloaded: IISC00IND_R_20201670000_01D_30S_MO.crx.gz\n",
            "✅ Downloaded: IISC00IND_R_20201680000_01D_30S_MO.crx.gz\n",
            "✅ Downloaded: IISC00IND_R_20201690000_01D_30S_MO.crx.gz\n",
            "✅ Downloaded: IISC00IND_R_20201700000_01D_30S_MO.crx.gz\n",
            "✅ Downloaded: IISC00IND_R_20201710000_01D_30S_MO.crx.gz\n",
            "✅ Downloaded: IISC00IND_R_20201720000_01D_30S_MO.crx.gz\n",
            "✅ Downloaded: IISC00IND_R_20201730000_01D_30S_MO.crx.gz\n",
            "✅ Downloaded: IISC00IND_R_20201740000_01D_30S_MO.crx.gz\n",
            "✅ Downloaded: IISC00IND_R_20201750000_01D_30S_MO.crx.gz\n",
            "✅ Downloaded: IISC00IND_R_20201760000_01D_30S_MO.crx.gz\n",
            "✅ Downloaded: IISC00IND_R_20201770000_01D_30S_MO.crx.gz\n",
            "✅ Downloaded: IISC00IND_R_20201780000_01D_30S_MO.crx.gz\n",
            "✅ Downloaded: IISC00IND_R_20201790000_01D_30S_MO.crx.gz\n",
            "✅ Downloaded: IISC00IND_R_20201800000_01D_30S_MO.crx.gz\n",
            "✅ Downloaded: IISC00IND_R_20201810000_01D_30S_MO.crx.gz\n",
            "✅ Downloaded: IISC00IND_R_20201820000_01D_30S_MO.crx.gz\n",
            "✅ Downloaded: IISC00IND_R_20201830000_01D_30S_MO.crx.gz\n",
            "✅ Downloaded: IISC00IND_R_20201840000_01D_30S_MO.crx.gz\n",
            "✅ Downloaded: IISC00IND_R_20201850000_01D_30S_MO.crx.gz\n",
            "✅ Downloaded: IISC00IND_R_20201860000_01D_30S_MO.crx.gz\n",
            "✅ Downloaded: IISC00IND_R_20201870000_01D_30S_MO.crx.gz\n",
            "✅ Downloaded: IISC00IND_R_20201880000_01D_30S_MO.crx.gz\n",
            "✅ Downloaded: IISC00IND_R_20201890000_01D_30S_MO.crx.gz\n",
            "✅ Downloaded: IISC00IND_R_20201900000_01D_30S_MO.crx.gz\n",
            "✅ Downloaded: IISC00IND_R_20201910000_01D_30S_MO.crx.gz\n",
            "✅ Downloaded: IISC00IND_R_20201920000_01D_30S_MO.crx.gz\n",
            "✅ Downloaded: IISC00IND_R_20201930000_01D_30S_MO.crx.gz\n",
            "✅ Downloaded: IISC00IND_R_20201940000_01D_30S_MO.crx.gz\n",
            "✅ Downloaded: IISC00IND_R_20201950000_01D_30S_MO.crx.gz\n",
            "✅ Downloaded: IISC00IND_R_20201960000_01D_30S_MO.crx.gz\n",
            "✅ Downloaded: IISC00IND_R_20201970000_01D_30S_MO.crx.gz\n",
            "✅ Downloaded: IISC00IND_R_20201980000_01D_30S_MO.crx.gz\n",
            "✅ Downloaded: IISC00IND_R_20201990000_01D_30S_MO.crx.gz\n",
            "✅ Downloaded: IISC00IND_R_20202000000_01D_30S_MO.crx.gz\n",
            "✅ Downloaded: IISC00IND_R_20202010000_01D_30S_MO.crx.gz\n",
            "✅ Downloaded: IISC00IND_R_20202020000_01D_30S_MO.crx.gz\n",
            "✅ Downloaded: IISC00IND_R_20202030000_01D_30S_MO.crx.gz\n",
            "✅ Downloaded: IISC00IND_R_20202040000_01D_30S_MO.crx.gz\n",
            "✅ Downloaded: IISC00IND_R_20202050000_01D_30S_MO.crx.gz\n",
            "✅ Downloaded: IISC00IND_R_20202060000_01D_30S_MO.crx.gz\n",
            "✅ Downloaded: IISC00IND_R_20202070000_01D_30S_MO.crx.gz\n",
            "✅ Downloaded: IISC00IND_R_20202080000_01D_30S_MO.crx.gz\n",
            "✅ Downloaded: IISC00IND_R_20202090000_01D_30S_MO.crx.gz\n",
            "✅ Downloaded: IISC00IND_R_20202100000_01D_30S_MO.crx.gz\n",
            "✅ Downloaded: IISC00IND_R_20202110000_01D_30S_MO.crx.gz\n",
            "✅ Downloaded: IISC00IND_R_20202120000_01D_30S_MO.crx.gz\n",
            "✅ Downloaded: IISC00IND_R_20202130000_01D_30S_MO.crx.gz\n",
            "⚠️ 0B file removed: IISC00IND_R_20202140000_01D_30S_MO.crx.gz\n",
            "🔄 Retrying IISC00IND_R_20202140000_01D_30S_MO.crx.gz (Attempt 2/3)...\n",
            "⚠️ 0B file removed: IISC00IND_R_20202140000_01D_30S_MO.crx.gz\n",
            "🔄 Retrying IISC00IND_R_20202140000_01D_30S_MO.crx.gz (Attempt 3/3)...\n",
            "⚠️ 0B file removed: IISC00IND_R_20202140000_01D_30S_MO.crx.gz\n",
            "🔄 Retrying IISC00IND_R_20202140000_01D_30S_MO.crx.gz (Attempt 4/3)...\n",
            "❌ Failed after 3 attempts: IISC00IND_R_20202140000_01D_30S_MO.crx.gz\n",
            "⚠️ 0B file removed: IISC00IND_R_20202150000_01D_30S_MO.crx.gz\n",
            "🔄 Retrying IISC00IND_R_20202150000_01D_30S_MO.crx.gz (Attempt 2/3)...\n",
            "⚠️ 0B file removed: IISC00IND_R_20202150000_01D_30S_MO.crx.gz\n",
            "🔄 Retrying IISC00IND_R_20202150000_01D_30S_MO.crx.gz (Attempt 3/3)...\n",
            "⚠️ 0B file removed: IISC00IND_R_20202150000_01D_30S_MO.crx.gz\n",
            "🔄 Retrying IISC00IND_R_20202150000_01D_30S_MO.crx.gz (Attempt 4/3)...\n",
            "❌ Failed after 3 attempts: IISC00IND_R_20202150000_01D_30S_MO.crx.gz\n",
            "⚠️ 0B file removed: IISC00IND_R_20202160000_01D_30S_MO.crx.gz\n",
            "🔄 Retrying IISC00IND_R_20202160000_01D_30S_MO.crx.gz (Attempt 2/3)...\n",
            "⚠️ 0B file removed: IISC00IND_R_20202160000_01D_30S_MO.crx.gz\n",
            "🔄 Retrying IISC00IND_R_20202160000_01D_30S_MO.crx.gz (Attempt 3/3)...\n",
            "⚠️ 0B file removed: IISC00IND_R_20202160000_01D_30S_MO.crx.gz\n",
            "🔄 Retrying IISC00IND_R_20202160000_01D_30S_MO.crx.gz (Attempt 4/3)...\n",
            "❌ Failed after 3 attempts: IISC00IND_R_20202160000_01D_30S_MO.crx.gz\n",
            "⚠️ 0B file removed: IISC00IND_R_20202170000_01D_30S_MO.crx.gz\n",
            "🔄 Retrying IISC00IND_R_20202170000_01D_30S_MO.crx.gz (Attempt 2/3)...\n",
            "⚠️ 0B file removed: IISC00IND_R_20202170000_01D_30S_MO.crx.gz\n",
            "🔄 Retrying IISC00IND_R_20202170000_01D_30S_MO.crx.gz (Attempt 3/3)...\n",
            "⚠️ 0B file removed: IISC00IND_R_20202170000_01D_30S_MO.crx.gz\n",
            "🔄 Retrying IISC00IND_R_20202170000_01D_30S_MO.crx.gz (Attempt 4/3)...\n",
            "❌ Failed after 3 attempts: IISC00IND_R_20202170000_01D_30S_MO.crx.gz\n",
            "✅ Downloaded: IISC00IND_R_20202180000_01D_30S_MO.crx.gz\n",
            "✅ Downloaded: IISC00IND_R_20202190000_01D_30S_MO.crx.gz\n",
            "✅ Downloaded: IISC00IND_R_20202200000_01D_30S_MO.crx.gz\n",
            "✅ Downloaded: IISC00IND_R_20202210000_01D_30S_MO.crx.gz\n",
            "✅ Downloaded: IISC00IND_R_20202220000_01D_30S_MO.crx.gz\n",
            "✅ Downloaded: IISC00IND_R_20202230000_01D_30S_MO.crx.gz\n",
            "✅ Downloaded: IISC00IND_R_20202240000_01D_30S_MO.crx.gz\n",
            "✅ Downloaded: IISC00IND_R_20202250000_01D_30S_MO.crx.gz\n",
            "✅ Downloaded: IISC00IND_R_20202260000_01D_30S_MO.crx.gz\n",
            "✅ Downloaded: IISC00IND_R_20202270000_01D_30S_MO.crx.gz\n",
            "✅ Downloaded: IISC00IND_R_20202280000_01D_30S_MO.crx.gz\n",
            "✅ Downloaded: IISC00IND_R_20202290000_01D_30S_MO.crx.gz\n",
            "✅ Downloaded: IISC00IND_R_20202300000_01D_30S_MO.crx.gz\n",
            "✅ Downloaded: IISC00IND_R_20202310000_01D_30S_MO.crx.gz\n",
            "✅ Downloaded: IISC00IND_R_20202320000_01D_30S_MO.crx.gz\n",
            "✅ Downloaded: IISC00IND_R_20202330000_01D_30S_MO.crx.gz\n",
            "✅ Downloaded: IISC00IND_R_20202340000_01D_30S_MO.crx.gz\n",
            "✅ Downloaded: IISC00IND_R_20202350000_01D_30S_MO.crx.gz\n",
            "✅ Downloaded: IISC00IND_R_20202360000_01D_30S_MO.crx.gz\n",
            "✅ Downloaded: IISC00IND_R_20202370000_01D_30S_MO.crx.gz\n",
            "✅ Downloaded: IISC00IND_R_20202380000_01D_30S_MO.crx.gz\n",
            "✅ Downloaded: IISC00IND_R_20202390000_01D_30S_MO.crx.gz\n",
            "✅ Downloaded: IISC00IND_R_20202400000_01D_30S_MO.crx.gz\n",
            "✅ Downloaded: IISC00IND_R_20202410000_01D_30S_MO.crx.gz\n",
            "✅ Downloaded: IISC00IND_R_20202420000_01D_30S_MO.crx.gz\n",
            "✅ Downloaded: IISC00IND_R_20202430000_01D_30S_MO.crx.gz\n",
            "✅ Downloaded: IISC00IND_R_20202440000_01D_30S_MO.crx.gz\n",
            "✅ Downloaded: IISC00IND_R_20202450000_01D_30S_MO.crx.gz\n",
            "✅ Downloaded: IISC00IND_R_20202460000_01D_30S_MO.crx.gz\n",
            "✅ Downloaded: IISC00IND_R_20202470000_01D_30S_MO.crx.gz\n",
            "✅ Downloaded: IISC00IND_R_20202480000_01D_30S_MO.crx.gz\n",
            "✅ Downloaded: IISC00IND_R_20202490000_01D_30S_MO.crx.gz\n",
            "✅ Downloaded: IISC00IND_R_20202500000_01D_30S_MO.crx.gz\n",
            "✅ Downloaded: IISC00IND_R_20202510000_01D_30S_MO.crx.gz\n",
            "⚠️ 0B file removed: IISC00IND_R_20202520000_01D_30S_MO.crx.gz\n",
            "🔄 Retrying IISC00IND_R_20202520000_01D_30S_MO.crx.gz (Attempt 2/3)...\n",
            "⚠️ 0B file removed: IISC00IND_R_20202520000_01D_30S_MO.crx.gz\n",
            "🔄 Retrying IISC00IND_R_20202520000_01D_30S_MO.crx.gz (Attempt 3/3)...\n",
            "⚠️ 0B file removed: IISC00IND_R_20202520000_01D_30S_MO.crx.gz\n",
            "🔄 Retrying IISC00IND_R_20202520000_01D_30S_MO.crx.gz (Attempt 4/3)...\n",
            "❌ Failed after 3 attempts: IISC00IND_R_20202520000_01D_30S_MO.crx.gz\n",
            "✅ Downloaded: IISC00IND_R_20202530000_01D_30S_MO.crx.gz\n",
            "✅ Downloaded: IISC00IND_R_20202540000_01D_30S_MO.crx.gz\n",
            "✅ Downloaded: IISC00IND_R_20202550000_01D_30S_MO.crx.gz\n",
            "✅ Downloaded: IISC00IND_R_20202560000_01D_30S_MO.crx.gz\n",
            "✅ Downloaded: IISC00IND_R_20202570000_01D_30S_MO.crx.gz\n",
            "✅ Downloaded: IISC00IND_R_20202580000_01D_30S_MO.crx.gz\n",
            "✅ Downloaded: IISC00IND_R_20202590000_01D_30S_MO.crx.gz\n",
            "✅ Downloaded: IISC00IND_R_20202600000_01D_30S_MO.crx.gz\n",
            "✅ Downloaded: IISC00IND_R_20202610000_01D_30S_MO.crx.gz\n",
            "✅ Downloaded: IISC00IND_R_20202620000_01D_30S_MO.crx.gz\n",
            "✅ Downloaded: IISC00IND_R_20202630000_01D_30S_MO.crx.gz\n",
            "⚠️ 0B file removed: IISC00IND_R_20202640000_01D_30S_MO.crx.gz\n",
            "🔄 Retrying IISC00IND_R_20202640000_01D_30S_MO.crx.gz (Attempt 2/3)...\n",
            "⚠️ 0B file removed: IISC00IND_R_20202640000_01D_30S_MO.crx.gz\n",
            "🔄 Retrying IISC00IND_R_20202640000_01D_30S_MO.crx.gz (Attempt 3/3)...\n",
            "⚠️ 0B file removed: IISC00IND_R_20202640000_01D_30S_MO.crx.gz\n",
            "🔄 Retrying IISC00IND_R_20202640000_01D_30S_MO.crx.gz (Attempt 4/3)...\n",
            "❌ Failed after 3 attempts: IISC00IND_R_20202640000_01D_30S_MO.crx.gz\n",
            "✅ Downloaded: IISC00IND_R_20202650000_01D_30S_MO.crx.gz\n",
            "✅ Downloaded: IISC00IND_R_20202660000_01D_30S_MO.crx.gz\n",
            "✅ Downloaded: IISC00IND_R_20202670000_01D_30S_MO.crx.gz\n",
            "✅ Downloaded: IISC00IND_R_20202680000_01D_30S_MO.crx.gz\n",
            "✅ Downloaded: IISC00IND_R_20202690000_01D_30S_MO.crx.gz\n",
            "✅ Downloaded: IISC00IND_R_20202700000_01D_30S_MO.crx.gz\n",
            "✅ Downloaded: IISC00IND_R_20202710000_01D_30S_MO.crx.gz\n",
            "✅ Downloaded: IISC00IND_R_20202720000_01D_30S_MO.crx.gz\n",
            "✅ Downloaded: IISC00IND_R_20202730000_01D_30S_MO.crx.gz\n",
            "✅ Downloaded: IISC00IND_R_20202740000_01D_30S_MO.crx.gz\n",
            "✅ Downloaded: IISC00IND_R_20202750000_01D_30S_MO.crx.gz\n",
            "✅ Downloaded: IISC00IND_R_20202760000_01D_30S_MO.crx.gz\n",
            "✅ Downloaded: IISC00IND_R_20202770000_01D_30S_MO.crx.gz\n",
            "✅ Downloaded: IISC00IND_R_20202780000_01D_30S_MO.crx.gz\n",
            "✅ Downloaded: IISC00IND_R_20202790000_01D_30S_MO.crx.gz\n",
            "✅ Downloaded: IISC00IND_R_20202800000_01D_30S_MO.crx.gz\n",
            "✅ Downloaded: IISC00IND_R_20202810000_01D_30S_MO.crx.gz\n",
            "✅ Downloaded: IISC00IND_R_20202820000_01D_30S_MO.crx.gz\n",
            "✅ Downloaded: IISC00IND_R_20202830000_01D_30S_MO.crx.gz\n",
            "✅ Downloaded: IISC00IND_R_20202840000_01D_30S_MO.crx.gz\n",
            "✅ Downloaded: IISC00IND_R_20202850000_01D_30S_MO.crx.gz\n",
            "✅ Downloaded: IISC00IND_R_20202860000_01D_30S_MO.crx.gz\n",
            "✅ Downloaded: IISC00IND_R_20202870000_01D_30S_MO.crx.gz\n",
            "✅ Downloaded: IISC00IND_R_20202880000_01D_30S_MO.crx.gz\n",
            "✅ Downloaded: IISC00IND_R_20202890000_01D_30S_MO.crx.gz\n",
            "✅ Downloaded: IISC00IND_R_20202900000_01D_30S_MO.crx.gz\n",
            "✅ Downloaded: IISC00IND_R_20202910000_01D_30S_MO.crx.gz\n",
            "✅ Downloaded: IISC00IND_R_20202920000_01D_30S_MO.crx.gz\n",
            "✅ Downloaded: IISC00IND_R_20202930000_01D_30S_MO.crx.gz\n",
            "✅ Downloaded: IISC00IND_R_20202940000_01D_30S_MO.crx.gz\n",
            "✅ Downloaded: IISC00IND_R_20202950000_01D_30S_MO.crx.gz\n",
            "✅ Downloaded: IISC00IND_R_20202960000_01D_30S_MO.crx.gz\n",
            "✅ Downloaded: IISC00IND_R_20202970000_01D_30S_MO.crx.gz\n",
            "✅ Downloaded: IISC00IND_R_20202980000_01D_30S_MO.crx.gz\n",
            "⚠️ 0B file removed: IISC00IND_R_20202990000_01D_30S_MO.crx.gz\n",
            "🔄 Retrying IISC00IND_R_20202990000_01D_30S_MO.crx.gz (Attempt 2/3)...\n",
            "⚠️ 0B file removed: IISC00IND_R_20202990000_01D_30S_MO.crx.gz\n",
            "🔄 Retrying IISC00IND_R_20202990000_01D_30S_MO.crx.gz (Attempt 3/3)...\n",
            "⚠️ 0B file removed: IISC00IND_R_20202990000_01D_30S_MO.crx.gz\n",
            "🔄 Retrying IISC00IND_R_20202990000_01D_30S_MO.crx.gz (Attempt 4/3)...\n",
            "❌ Failed after 3 attempts: IISC00IND_R_20202990000_01D_30S_MO.crx.gz\n",
            "✅ Downloaded: IISC00IND_R_20203000000_01D_30S_MO.crx.gz\n",
            "✅ Downloaded: IISC00IND_R_20203010000_01D_30S_MO.crx.gz\n",
            "✅ Downloaded: IISC00IND_R_20203020000_01D_30S_MO.crx.gz\n",
            "✅ Downloaded: IISC00IND_R_20203030000_01D_30S_MO.crx.gz\n",
            "✅ Downloaded: IISC00IND_R_20203040000_01D_30S_MO.crx.gz\n",
            "✅ Downloaded: IISC00IND_R_20203050000_01D_30S_MO.crx.gz\n",
            "✅ Downloaded: IISC00IND_R_20203060000_01D_30S_MO.crx.gz\n",
            "✅ Downloaded: IISC00IND_R_20203070000_01D_30S_MO.crx.gz\n",
            "✅ Downloaded: IISC00IND_R_20203080000_01D_30S_MO.crx.gz\n",
            "✅ Downloaded: IISC00IND_R_20203090000_01D_30S_MO.crx.gz\n",
            "✅ Downloaded: IISC00IND_R_20203100000_01D_30S_MO.crx.gz\n",
            "✅ Downloaded: IISC00IND_R_20203110000_01D_30S_MO.crx.gz\n",
            "✅ Downloaded: IISC00IND_R_20203120000_01D_30S_MO.crx.gz\n",
            "✅ Downloaded: IISC00IND_R_20203130000_01D_30S_MO.crx.gz\n",
            "✅ Downloaded: IISC00IND_R_20203140000_01D_30S_MO.crx.gz\n",
            "✅ Downloaded: IISC00IND_R_20203150000_01D_30S_MO.crx.gz\n",
            "✅ Downloaded: IISC00IND_R_20203160000_01D_30S_MO.crx.gz\n",
            "✅ Downloaded: IISC00IND_R_20203170000_01D_30S_MO.crx.gz\n",
            "✅ Downloaded: IISC00IND_R_20203180000_01D_30S_MO.crx.gz\n",
            "✅ Downloaded: IISC00IND_R_20203190000_01D_30S_MO.crx.gz\n",
            "✅ Downloaded: IISC00IND_R_20203200000_01D_30S_MO.crx.gz\n",
            "✅ Downloaded: IISC00IND_R_20203210000_01D_30S_MO.crx.gz\n",
            "✅ Downloaded: IISC00IND_R_20203220000_01D_30S_MO.crx.gz\n",
            "✅ Downloaded: IISC00IND_R_20203230000_01D_30S_MO.crx.gz\n",
            "✅ Downloaded: IISC00IND_R_20203240000_01D_30S_MO.crx.gz\n",
            "✅ Downloaded: IISC00IND_R_20203250000_01D_30S_MO.crx.gz\n",
            "✅ Downloaded: IISC00IND_R_20203260000_01D_30S_MO.crx.gz\n",
            "✅ Downloaded: IISC00IND_R_20203270000_01D_30S_MO.crx.gz\n",
            "✅ Downloaded: IISC00IND_R_20203280000_01D_30S_MO.crx.gz\n",
            "✅ Downloaded: IISC00IND_R_20203290000_01D_30S_MO.crx.gz\n",
            "✅ Downloaded: IISC00IND_R_20203300000_01D_30S_MO.crx.gz\n",
            "✅ Downloaded: IISC00IND_R_20203310000_01D_30S_MO.crx.gz\n",
            "✅ Downloaded: IISC00IND_R_20203320000_01D_30S_MO.crx.gz\n",
            "✅ Downloaded: IISC00IND_R_20203330000_01D_30S_MO.crx.gz\n",
            "✅ Downloaded: IISC00IND_R_20203340000_01D_30S_MO.crx.gz\n",
            "✅ Downloaded: IISC00IND_R_20203350000_01D_30S_MO.crx.gz\n",
            "✅ Downloaded: IISC00IND_R_20203360000_01D_30S_MO.crx.gz\n",
            "✅ Downloaded: IISC00IND_R_20203370000_01D_30S_MO.crx.gz\n",
            "✅ Downloaded: IISC00IND_R_20203380000_01D_30S_MO.crx.gz\n",
            "✅ Downloaded: IISC00IND_R_20203390000_01D_30S_MO.crx.gz\n",
            "✅ Downloaded: IISC00IND_R_20203400000_01D_30S_MO.crx.gz\n",
            "✅ Downloaded: IISC00IND_R_20203410000_01D_30S_MO.crx.gz\n",
            "✅ Downloaded: IISC00IND_R_20203420000_01D_30S_MO.crx.gz\n",
            "✅ Downloaded: IISC00IND_R_20203430000_01D_30S_MO.crx.gz\n",
            "✅ Downloaded: IISC00IND_R_20203440000_01D_30S_MO.crx.gz\n",
            "✅ Downloaded: IISC00IND_R_20203450000_01D_30S_MO.crx.gz\n",
            "✅ Downloaded: IISC00IND_R_20203460000_01D_30S_MO.crx.gz\n",
            "✅ Downloaded: IISC00IND_R_20203470000_01D_30S_MO.crx.gz\n",
            "✅ Downloaded: IISC00IND_R_20203480000_01D_30S_MO.crx.gz\n",
            "✅ Downloaded: IISC00IND_R_20203490000_01D_30S_MO.crx.gz\n",
            "✅ Downloaded: IISC00IND_R_20203500000_01D_30S_MO.crx.gz\n",
            "✅ Downloaded: IISC00IND_R_20203510000_01D_30S_MO.crx.gz\n",
            "✅ Downloaded: IISC00IND_R_20203520000_01D_30S_MO.crx.gz\n",
            "✅ Downloaded: IISC00IND_R_20203530000_01D_30S_MO.crx.gz\n",
            "✅ Downloaded: IISC00IND_R_20203540000_01D_30S_MO.crx.gz\n",
            "✅ Downloaded: IISC00IND_R_20203550000_01D_30S_MO.crx.gz\n",
            "✅ Downloaded: IISC00IND_R_20203560000_01D_30S_MO.crx.gz\n",
            "✅ Downloaded: IISC00IND_R_20203570000_01D_30S_MO.crx.gz\n",
            "✅ Downloaded: IISC00IND_R_20203580000_01D_30S_MO.crx.gz\n",
            "✅ Downloaded: IISC00IND_R_20203590000_01D_30S_MO.crx.gz\n",
            "✅ Downloaded: IISC00IND_R_20203600000_01D_30S_MO.crx.gz\n",
            "✅ Downloaded: IISC00IND_R_20203610000_01D_30S_MO.crx.gz\n",
            "✅ Downloaded: IISC00IND_R_20203620000_01D_30S_MO.crx.gz\n",
            "✅ Downloaded: IISC00IND_R_20203630000_01D_30S_MO.crx.gz\n",
            "✅ Downloaded: IISC00IND_R_20203640000_01D_30S_MO.crx.gz\n",
            "✅ Downloaded: IISC00IND_R_20203650000_01D_30S_MO.crx.gz\n",
            "✅ Downloaded: IISC00IND_R_20203660000_01D_30S_MO.crx.gz\n",
            "✅ Downloaded: IISC00IND_R_20210010000_01D_30S_MO.crx.gz\n",
            "✅ Downloaded: IISC00IND_R_20210020000_01D_30S_MO.crx.gz\n",
            "✅ Downloaded: IISC00IND_R_20210030000_01D_30S_MO.crx.gz\n",
            "✅ Downloaded: IISC00IND_R_20210040000_01D_30S_MO.crx.gz\n",
            "✅ Downloaded: IISC00IND_R_20210050000_01D_30S_MO.crx.gz\n",
            "✅ Downloaded: IISC00IND_R_20210060000_01D_30S_MO.crx.gz\n",
            "✅ Downloaded: IISC00IND_R_20210070000_01D_30S_MO.crx.gz\n",
            "✅ Downloaded: IISC00IND_R_20210080000_01D_30S_MO.crx.gz\n",
            "✅ Downloaded: IISC00IND_R_20210090000_01D_30S_MO.crx.gz\n",
            "✅ Downloaded: IISC00IND_R_20210100000_01D_30S_MO.crx.gz\n",
            "✅ Downloaded: IISC00IND_R_20210110000_01D_30S_MO.crx.gz\n",
            "✅ Downloaded: IISC00IND_R_20210120000_01D_30S_MO.crx.gz\n",
            "✅ Downloaded: IISC00IND_R_20210130000_01D_30S_MO.crx.gz\n",
            "✅ Downloaded: IISC00IND_R_20210140000_01D_30S_MO.crx.gz\n",
            "✅ Downloaded: IISC00IND_R_20210150000_01D_30S_MO.crx.gz\n",
            "✅ Downloaded: IISC00IND_R_20210160000_01D_30S_MO.crx.gz\n",
            "✅ Downloaded: IISC00IND_R_20210170000_01D_30S_MO.crx.gz\n",
            "✅ Downloaded: IISC00IND_R_20210180000_01D_30S_MO.crx.gz\n",
            "✅ Downloaded: IISC00IND_R_20210190000_01D_30S_MO.crx.gz\n",
            "✅ Downloaded: IISC00IND_R_20210200000_01D_30S_MO.crx.gz\n",
            "✅ Downloaded: IISC00IND_R_20210210000_01D_30S_MO.crx.gz\n",
            "✅ Downloaded: IISC00IND_R_20210220000_01D_30S_MO.crx.gz\n",
            "✅ Downloaded: IISC00IND_R_20210230000_01D_30S_MO.crx.gz\n",
            "✅ Downloaded: IISC00IND_R_20210240000_01D_30S_MO.crx.gz\n",
            "✅ Downloaded: IISC00IND_R_20210250000_01D_30S_MO.crx.gz\n",
            "✅ Downloaded: IISC00IND_R_20210260000_01D_30S_MO.crx.gz\n",
            "✅ Downloaded: IISC00IND_R_20210270000_01D_30S_MO.crx.gz\n",
            "✅ Downloaded: IISC00IND_R_20210280000_01D_30S_MO.crx.gz\n",
            "✅ Downloaded: IISC00IND_R_20210290000_01D_30S_MO.crx.gz\n",
            "✅ Downloaded: IISC00IND_R_20210300000_01D_30S_MO.crx.gz\n",
            "✅ Downloaded: IISC00IND_R_20210310000_01D_30S_MO.crx.gz\n",
            "✅ Downloaded: IISC00IND_R_20210320000_01D_30S_MO.crx.gz\n",
            "✅ Downloaded: IISC00IND_R_20210330000_01D_30S_MO.crx.gz\n",
            "✅ Downloaded: IISC00IND_R_20210340000_01D_30S_MO.crx.gz\n",
            "✅ Downloaded: IISC00IND_R_20210350000_01D_30S_MO.crx.gz\n",
            "✅ Downloaded: IISC00IND_R_20210360000_01D_30S_MO.crx.gz\n",
            "✅ Downloaded: IISC00IND_R_20210370000_01D_30S_MO.crx.gz\n",
            "✅ Downloaded: IISC00IND_R_20210380000_01D_30S_MO.crx.gz\n",
            "✅ Downloaded: IISC00IND_R_20210390000_01D_30S_MO.crx.gz\n",
            "✅ Downloaded: IISC00IND_R_20210400000_01D_30S_MO.crx.gz\n",
            "✅ Downloaded: IISC00IND_R_20210410000_01D_30S_MO.crx.gz\n",
            "✅ Downloaded: IISC00IND_R_20210420000_01D_30S_MO.crx.gz\n",
            "✅ Downloaded: IISC00IND_R_20210430000_01D_30S_MO.crx.gz\n",
            "✅ Downloaded: IISC00IND_R_20210440000_01D_30S_MO.crx.gz\n",
            "✅ Downloaded: IISC00IND_R_20210450000_01D_30S_MO.crx.gz\n",
            "✅ Downloaded: IISC00IND_R_20210460000_01D_30S_MO.crx.gz\n",
            "✅ Downloaded: IISC00IND_R_20210470000_01D_30S_MO.crx.gz\n",
            "✅ Downloaded: IISC00IND_R_20210480000_01D_30S_MO.crx.gz\n",
            "✅ Downloaded: IISC00IND_R_20210490000_01D_30S_MO.crx.gz\n",
            "✅ Downloaded: IISC00IND_R_20210500000_01D_30S_MO.crx.gz\n",
            "✅ Downloaded: IISC00IND_R_20210510000_01D_30S_MO.crx.gz\n",
            "✅ Downloaded: IISC00IND_R_20210520000_01D_30S_MO.crx.gz\n",
            "✅ Downloaded: IISC00IND_R_20210530000_01D_30S_MO.crx.gz\n",
            "✅ Downloaded: IISC00IND_R_20210540000_01D_30S_MO.crx.gz\n",
            "✅ Downloaded: IISC00IND_R_20210550000_01D_30S_MO.crx.gz\n",
            "✅ Downloaded: IISC00IND_R_20210560000_01D_30S_MO.crx.gz\n",
            "✅ Downloaded: IISC00IND_R_20210570000_01D_30S_MO.crx.gz\n",
            "✅ Downloaded: IISC00IND_R_20210580000_01D_30S_MO.crx.gz\n",
            "✅ Downloaded: IISC00IND_R_20210590000_01D_30S_MO.crx.gz\n",
            "✅ Downloaded: IISC00IND_R_20210600000_01D_30S_MO.crx.gz\n",
            "✅ Downloaded: IISC00IND_R_20210610000_01D_30S_MO.crx.gz\n",
            "✅ Downloaded: IISC00IND_R_20210620000_01D_30S_MO.crx.gz\n",
            "✅ Downloaded: IISC00IND_R_20210630000_01D_30S_MO.crx.gz\n",
            "✅ Downloaded: IISC00IND_R_20210640000_01D_30S_MO.crx.gz\n",
            "✅ Downloaded: IISC00IND_R_20210650000_01D_30S_MO.crx.gz\n",
            "✅ Downloaded: IISC00IND_R_20210660000_01D_30S_MO.crx.gz\n",
            "✅ Downloaded: IISC00IND_R_20210670000_01D_30S_MO.crx.gz\n",
            "✅ Downloaded: IISC00IND_R_20210680000_01D_30S_MO.crx.gz\n",
            "✅ Downloaded: IISC00IND_R_20210690000_01D_30S_MO.crx.gz\n",
            "✅ Downloaded: IISC00IND_R_20210700000_01D_30S_MO.crx.gz\n",
            "✅ Downloaded: IISC00IND_R_20210710000_01D_30S_MO.crx.gz\n",
            "✅ Downloaded: IISC00IND_R_20210720000_01D_30S_MO.crx.gz\n",
            "✅ Downloaded: IISC00IND_R_20210730000_01D_30S_MO.crx.gz\n",
            "✅ Downloaded: IISC00IND_R_20210740000_01D_30S_MO.crx.gz\n",
            "✅ Downloaded: IISC00IND_R_20210750000_01D_30S_MO.crx.gz\n",
            "✅ Downloaded: IISC00IND_R_20210760000_01D_30S_MO.crx.gz\n",
            "✅ Downloaded: IISC00IND_R_20210770000_01D_30S_MO.crx.gz\n",
            "✅ Downloaded: IISC00IND_R_20210780000_01D_30S_MO.crx.gz\n",
            "✅ Downloaded: IISC00IND_R_20210790000_01D_30S_MO.crx.gz\n",
            "✅ Downloaded: IISC00IND_R_20210800000_01D_30S_MO.crx.gz\n",
            "✅ Downloaded: IISC00IND_R_20210810000_01D_30S_MO.crx.gz\n",
            "✅ Downloaded: IISC00IND_R_20210820000_01D_30S_MO.crx.gz\n",
            "✅ Downloaded: IISC00IND_R_20210830000_01D_30S_MO.crx.gz\n",
            "✅ Downloaded: IISC00IND_R_20210840000_01D_30S_MO.crx.gz\n",
            "✅ Downloaded: IISC00IND_R_20210850000_01D_30S_MO.crx.gz\n",
            "✅ Downloaded: IISC00IND_R_20210860000_01D_30S_MO.crx.gz\n",
            "✅ Downloaded: IISC00IND_R_20210870000_01D_30S_MO.crx.gz\n",
            "✅ Downloaded: IISC00IND_R_20210880000_01D_30S_MO.crx.gz\n",
            "✅ Downloaded: IISC00IND_R_20210890000_01D_30S_MO.crx.gz\n",
            "✅ Downloaded: IISC00IND_R_20210900000_01D_30S_MO.crx.gz\n",
            "✅ Downloaded: IISC00IND_R_20210910000_01D_30S_MO.crx.gz\n",
            "✅ Downloaded: IISC00IND_R_20210920000_01D_30S_MO.crx.gz\n",
            "✅ Downloaded: IISC00IND_R_20210930000_01D_30S_MO.crx.gz\n",
            "✅ Downloaded: IISC00IND_R_20210940000_01D_30S_MO.crx.gz\n",
            "✅ Downloaded: IISC00IND_R_20210950000_01D_30S_MO.crx.gz\n",
            "✅ Downloaded: IISC00IND_R_20210960000_01D_30S_MO.crx.gz\n",
            "✅ Downloaded: IISC00IND_R_20210970000_01D_30S_MO.crx.gz\n",
            "✅ Downloaded: IISC00IND_R_20210980000_01D_30S_MO.crx.gz\n",
            "✅ Downloaded: IISC00IND_R_20210990000_01D_30S_MO.crx.gz\n",
            "✅ Downloaded: IISC00IND_R_20211000000_01D_30S_MO.crx.gz\n",
            "✅ Downloaded: IISC00IND_R_20211010000_01D_30S_MO.crx.gz\n",
            "✅ Downloaded: IISC00IND_R_20211020000_01D_30S_MO.crx.gz\n",
            "✅ Downloaded: IISC00IND_R_20211030000_01D_30S_MO.crx.gz\n",
            "✅ Downloaded: IISC00IND_R_20211040000_01D_30S_MO.crx.gz\n",
            "✅ Downloaded: IISC00IND_R_20211050000_01D_30S_MO.crx.gz\n",
            "⚠️ 0B file removed: IISC00IND_R_20211060000_01D_30S_MO.crx.gz\n",
            "🔄 Retrying IISC00IND_R_20211060000_01D_30S_MO.crx.gz (Attempt 2/3)...\n",
            "⚠️ 0B file removed: IISC00IND_R_20211060000_01D_30S_MO.crx.gz\n",
            "🔄 Retrying IISC00IND_R_20211060000_01D_30S_MO.crx.gz (Attempt 3/3)...\n",
            "⚠️ 0B file removed: IISC00IND_R_20211060000_01D_30S_MO.crx.gz\n",
            "🔄 Retrying IISC00IND_R_20211060000_01D_30S_MO.crx.gz (Attempt 4/3)...\n",
            "❌ Failed after 3 attempts: IISC00IND_R_20211060000_01D_30S_MO.crx.gz\n",
            "⚠️ 0B file removed: IISC00IND_R_20211070000_01D_30S_MO.crx.gz\n",
            "🔄 Retrying IISC00IND_R_20211070000_01D_30S_MO.crx.gz (Attempt 2/3)...\n",
            "⚠️ 0B file removed: IISC00IND_R_20211070000_01D_30S_MO.crx.gz\n",
            "🔄 Retrying IISC00IND_R_20211070000_01D_30S_MO.crx.gz (Attempt 3/3)...\n",
            "⚠️ 0B file removed: IISC00IND_R_20211070000_01D_30S_MO.crx.gz\n",
            "🔄 Retrying IISC00IND_R_20211070000_01D_30S_MO.crx.gz (Attempt 4/3)...\n",
            "❌ Failed after 3 attempts: IISC00IND_R_20211070000_01D_30S_MO.crx.gz\n",
            "✅ Downloaded: IISC00IND_R_20211080000_01D_30S_MO.crx.gz\n",
            "✅ Downloaded: IISC00IND_R_20211090000_01D_30S_MO.crx.gz\n",
            "✅ Downloaded: IISC00IND_R_20211100000_01D_30S_MO.crx.gz\n",
            "✅ Downloaded: IISC00IND_R_20211110000_01D_30S_MO.crx.gz\n",
            "✅ Downloaded: IISC00IND_R_20211120000_01D_30S_MO.crx.gz\n",
            "✅ Downloaded: IISC00IND_R_20211130000_01D_30S_MO.crx.gz\n",
            "✅ Downloaded: IISC00IND_R_20211140000_01D_30S_MO.crx.gz\n",
            "✅ Downloaded: IISC00IND_R_20211150000_01D_30S_MO.crx.gz\n",
            "✅ Downloaded: IISC00IND_R_20211160000_01D_30S_MO.crx.gz\n",
            "✅ Downloaded: IISC00IND_R_20211170000_01D_30S_MO.crx.gz\n",
            "✅ Downloaded: IISC00IND_R_20211180000_01D_30S_MO.crx.gz\n",
            "✅ Downloaded: IISC00IND_R_20211190000_01D_30S_MO.crx.gz\n",
            "✅ Downloaded: IISC00IND_R_20211200000_01D_30S_MO.crx.gz\n",
            "✅ Downloaded: IISC00IND_R_20211210000_01D_30S_MO.crx.gz\n",
            "✅ Downloaded: IISC00IND_R_20211220000_01D_30S_MO.crx.gz\n",
            "✅ Downloaded: IISC00IND_R_20211230000_01D_30S_MO.crx.gz\n",
            "✅ Downloaded: IISC00IND_R_20211240000_01D_30S_MO.crx.gz\n",
            "✅ Downloaded: IISC00IND_R_20211250000_01D_30S_MO.crx.gz\n",
            "✅ Downloaded: IISC00IND_R_20211260000_01D_30S_MO.crx.gz\n",
            "✅ Downloaded: IISC00IND_R_20211270000_01D_30S_MO.crx.gz\n",
            "✅ Downloaded: IISC00IND_R_20211280000_01D_30S_MO.crx.gz\n",
            "✅ Downloaded: IISC00IND_R_20211290000_01D_30S_MO.crx.gz\n",
            "✅ Downloaded: IISC00IND_R_20211300000_01D_30S_MO.crx.gz\n",
            "✅ Downloaded: IISC00IND_R_20211310000_01D_30S_MO.crx.gz\n",
            "✅ Downloaded: IISC00IND_R_20211320000_01D_30S_MO.crx.gz\n",
            "✅ Downloaded: IISC00IND_R_20211330000_01D_30S_MO.crx.gz\n",
            "✅ Downloaded: IISC00IND_R_20211340000_01D_30S_MO.crx.gz\n",
            "✅ Downloaded: IISC00IND_R_20211350000_01D_30S_MO.crx.gz\n",
            "✅ Downloaded: IISC00IND_R_20211360000_01D_30S_MO.crx.gz\n",
            "✅ Downloaded: IISC00IND_R_20211370000_01D_30S_MO.crx.gz\n",
            "✅ Downloaded: IISC00IND_R_20211380000_01D_30S_MO.crx.gz\n",
            "✅ Downloaded: IISC00IND_R_20211390000_01D_30S_MO.crx.gz\n",
            "✅ Downloaded: IISC00IND_R_20211400000_01D_30S_MO.crx.gz\n",
            "✅ Downloaded: IISC00IND_R_20211410000_01D_30S_MO.crx.gz\n",
            "✅ Downloaded: IISC00IND_R_20211420000_01D_30S_MO.crx.gz\n",
            "✅ Downloaded: IISC00IND_R_20211430000_01D_30S_MO.crx.gz\n",
            "✅ Downloaded: IISC00IND_R_20211440000_01D_30S_MO.crx.gz\n",
            "✅ Downloaded: IISC00IND_R_20211450000_01D_30S_MO.crx.gz\n",
            "✅ Downloaded: IISC00IND_R_20211460000_01D_30S_MO.crx.gz\n",
            "✅ Downloaded: IISC00IND_R_20211470000_01D_30S_MO.crx.gz\n",
            "✅ Downloaded: IISC00IND_R_20211480000_01D_30S_MO.crx.gz\n",
            "✅ Downloaded: IISC00IND_R_20211490000_01D_30S_MO.crx.gz\n",
            "✅ Downloaded: IISC00IND_R_20211500000_01D_30S_MO.crx.gz\n",
            "✅ Downloaded: IISC00IND_R_20211510000_01D_30S_MO.crx.gz\n",
            "✅ Downloaded: IISC00IND_R_20211520000_01D_30S_MO.crx.gz\n",
            "✅ Downloaded: IISC00IND_R_20211530000_01D_30S_MO.crx.gz\n",
            "✅ Downloaded: IISC00IND_R_20211540000_01D_30S_MO.crx.gz\n",
            "✅ Downloaded: IISC00IND_R_20211550000_01D_30S_MO.crx.gz\n",
            "✅ Downloaded: IISC00IND_R_20211560000_01D_30S_MO.crx.gz\n",
            "✅ Downloaded: IISC00IND_R_20211570000_01D_30S_MO.crx.gz\n",
            "✅ Downloaded: IISC00IND_R_20211580000_01D_30S_MO.crx.gz\n",
            "✅ Downloaded: IISC00IND_R_20211590000_01D_30S_MO.crx.gz\n",
            "✅ Downloaded: IISC00IND_R_20211600000_01D_30S_MO.crx.gz\n",
            "✅ Downloaded: IISC00IND_R_20211610000_01D_30S_MO.crx.gz\n",
            "✅ Downloaded: IISC00IND_R_20211620000_01D_30S_MO.crx.gz\n",
            "✅ Downloaded: IISC00IND_R_20211630000_01D_30S_MO.crx.gz\n",
            "✅ Downloaded: IISC00IND_R_20211640000_01D_30S_MO.crx.gz\n",
            "✅ Downloaded: IISC00IND_R_20211650000_01D_30S_MO.crx.gz\n",
            "✅ Downloaded: IISC00IND_R_20211660000_01D_30S_MO.crx.gz\n",
            "✅ Downloaded: IISC00IND_R_20211670000_01D_30S_MO.crx.gz\n",
            "✅ Downloaded: IISC00IND_R_20211680000_01D_30S_MO.crx.gz\n",
            "✅ Downloaded: IISC00IND_R_20211690000_01D_30S_MO.crx.gz\n",
            "✅ Downloaded: IISC00IND_R_20211700000_01D_30S_MO.crx.gz\n",
            "✅ Downloaded: IISC00IND_R_20211710000_01D_30S_MO.crx.gz\n",
            "✅ Downloaded: IISC00IND_R_20211720000_01D_30S_MO.crx.gz\n",
            "✅ Downloaded: IISC00IND_R_20211730000_01D_30S_MO.crx.gz\n",
            "✅ Downloaded: IISC00IND_R_20211740000_01D_30S_MO.crx.gz\n",
            "✅ Downloaded: IISC00IND_R_20211750000_01D_30S_MO.crx.gz\n",
            "✅ Downloaded: IISC00IND_R_20211760000_01D_30S_MO.crx.gz\n",
            "✅ Downloaded: IISC00IND_R_20211770000_01D_30S_MO.crx.gz\n",
            "✅ Downloaded: IISC00IND_R_20211780000_01D_30S_MO.crx.gz\n",
            "✅ Downloaded: IISC00IND_R_20211790000_01D_30S_MO.crx.gz\n",
            "✅ Downloaded: IISC00IND_R_20211800000_01D_30S_MO.crx.gz\n",
            "✅ Downloaded: IISC00IND_R_20211810000_01D_30S_MO.crx.gz\n",
            "✅ Downloaded: IISC00IND_R_20211820000_01D_30S_MO.crx.gz\n",
            "✅ Downloaded: IISC00IND_R_20211830000_01D_30S_MO.crx.gz\n",
            "✅ Downloaded: IISC00IND_R_20211840000_01D_30S_MO.crx.gz\n",
            "✅ Downloaded: IISC00IND_R_20211850000_01D_30S_MO.crx.gz\n",
            "✅ Downloaded: IISC00IND_R_20211860000_01D_30S_MO.crx.gz\n",
            "✅ Downloaded: IISC00IND_R_20211870000_01D_30S_MO.crx.gz\n",
            "✅ Downloaded: IISC00IND_R_20211880000_01D_30S_MO.crx.gz\n",
            "✅ Downloaded: IISC00IND_R_20211890000_01D_30S_MO.crx.gz\n",
            "✅ Downloaded: IISC00IND_R_20211900000_01D_30S_MO.crx.gz\n",
            "✅ Downloaded: IISC00IND_R_20211910000_01D_30S_MO.crx.gz\n",
            "✅ Downloaded: IISC00IND_R_20211920000_01D_30S_MO.crx.gz\n",
            "✅ Downloaded: IISC00IND_R_20211930000_01D_30S_MO.crx.gz\n",
            "✅ Downloaded: IISC00IND_R_20211940000_01D_30S_MO.crx.gz\n",
            "✅ Downloaded: IISC00IND_R_20211950000_01D_30S_MO.crx.gz\n",
            "✅ Downloaded: IISC00IND_R_20211960000_01D_30S_MO.crx.gz\n",
            "✅ Downloaded: IISC00IND_R_20211970000_01D_30S_MO.crx.gz\n",
            "✅ Downloaded: IISC00IND_R_20211980000_01D_30S_MO.crx.gz\n",
            "✅ Downloaded: IISC00IND_R_20211990000_01D_30S_MO.crx.gz\n",
            "✅ Downloaded: IISC00IND_R_20212000000_01D_30S_MO.crx.gz\n",
            "✅ Downloaded: IISC00IND_R_20212010000_01D_30S_MO.crx.gz\n",
            "✅ Downloaded: IISC00IND_R_20212020000_01D_30S_MO.crx.gz\n",
            "✅ Downloaded: IISC00IND_R_20212030000_01D_30S_MO.crx.gz\n",
            "✅ Downloaded: IISC00IND_R_20212040000_01D_30S_MO.crx.gz\n",
            "✅ Downloaded: IISC00IND_R_20212050000_01D_30S_MO.crx.gz\n",
            "✅ Downloaded: IISC00IND_R_20212060000_01D_30S_MO.crx.gz\n",
            "✅ Downloaded: IISC00IND_R_20212070000_01D_30S_MO.crx.gz\n",
            "✅ Downloaded: IISC00IND_R_20212080000_01D_30S_MO.crx.gz\n",
            "✅ Downloaded: IISC00IND_R_20212090000_01D_30S_MO.crx.gz\n",
            "✅ Downloaded: IISC00IND_R_20212100000_01D_30S_MO.crx.gz\n",
            "✅ Downloaded: IISC00IND_R_20212110000_01D_30S_MO.crx.gz\n",
            "✅ Downloaded: IISC00IND_R_20212120000_01D_30S_MO.crx.gz\n",
            "✅ Downloaded: IISC00IND_R_20212130000_01D_30S_MO.crx.gz\n",
            "✅ Downloaded: IISC00IND_R_20212140000_01D_30S_MO.crx.gz\n",
            "✅ Downloaded: IISC00IND_R_20212150000_01D_30S_MO.crx.gz\n",
            "✅ Downloaded: IISC00IND_R_20212160000_01D_30S_MO.crx.gz\n",
            "✅ Downloaded: IISC00IND_R_20212170000_01D_30S_MO.crx.gz\n",
            "✅ Downloaded: IISC00IND_R_20212180000_01D_30S_MO.crx.gz\n",
            "✅ Downloaded: IISC00IND_R_20212190000_01D_30S_MO.crx.gz\n",
            "✅ Downloaded: IISC00IND_R_20212200000_01D_30S_MO.crx.gz\n",
            "✅ Downloaded: IISC00IND_R_20212210000_01D_30S_MO.crx.gz\n",
            "✅ Downloaded: IISC00IND_R_20212220000_01D_30S_MO.crx.gz\n",
            "✅ Downloaded: IISC00IND_R_20212230000_01D_30S_MO.crx.gz\n",
            "✅ Downloaded: IISC00IND_R_20212240000_01D_30S_MO.crx.gz\n",
            "✅ Downloaded: IISC00IND_R_20212250000_01D_30S_MO.crx.gz\n",
            "✅ Downloaded: IISC00IND_R_20212260000_01D_30S_MO.crx.gz\n",
            "✅ Downloaded: IISC00IND_R_20212270000_01D_30S_MO.crx.gz\n",
            "✅ Downloaded: IISC00IND_R_20212280000_01D_30S_MO.crx.gz\n",
            "✅ Downloaded: IISC00IND_R_20212290000_01D_30S_MO.crx.gz\n",
            "✅ Downloaded: IISC00IND_R_20212300000_01D_30S_MO.crx.gz\n",
            "✅ Downloaded: IISC00IND_R_20212310000_01D_30S_MO.crx.gz\n",
            "✅ Downloaded: IISC00IND_R_20212320000_01D_30S_MO.crx.gz\n",
            "✅ Downloaded: IISC00IND_R_20212330000_01D_30S_MO.crx.gz\n",
            "✅ Downloaded: IISC00IND_R_20212340000_01D_30S_MO.crx.gz\n",
            "✅ Downloaded: IISC00IND_R_20212350000_01D_30S_MO.crx.gz\n",
            "✅ Downloaded: IISC00IND_R_20212360000_01D_30S_MO.crx.gz\n",
            "✅ Downloaded: IISC00IND_R_20212370000_01D_30S_MO.crx.gz\n",
            "✅ Downloaded: IISC00IND_R_20212380000_01D_30S_MO.crx.gz\n",
            "✅ Downloaded: IISC00IND_R_20212390000_01D_30S_MO.crx.gz\n",
            "✅ Downloaded: IISC00IND_R_20212400000_01D_30S_MO.crx.gz\n",
            "✅ Downloaded: IISC00IND_R_20212410000_01D_30S_MO.crx.gz\n",
            "✅ Downloaded: IISC00IND_R_20212420000_01D_30S_MO.crx.gz\n",
            "✅ Downloaded: IISC00IND_R_20212430000_01D_30S_MO.crx.gz\n",
            "✅ Downloaded: IISC00IND_R_20212440000_01D_30S_MO.crx.gz\n",
            "✅ Downloaded: IISC00IND_R_20212450000_01D_30S_MO.crx.gz\n",
            "✅ Downloaded: IISC00IND_R_20212460000_01D_30S_MO.crx.gz\n",
            "✅ Downloaded: IISC00IND_R_20212470000_01D_30S_MO.crx.gz\n",
            "✅ Downloaded: IISC00IND_R_20212480000_01D_30S_MO.crx.gz\n",
            "✅ Downloaded: IISC00IND_R_20212490000_01D_30S_MO.crx.gz\n",
            "✅ Downloaded: IISC00IND_R_20212500000_01D_30S_MO.crx.gz\n",
            "✅ Downloaded: IISC00IND_R_20212510000_01D_30S_MO.crx.gz\n",
            "✅ Downloaded: IISC00IND_R_20212520000_01D_30S_MO.crx.gz\n",
            "✅ Downloaded: IISC00IND_R_20212530000_01D_30S_MO.crx.gz\n",
            "✅ Downloaded: IISC00IND_R_20212540000_01D_30S_MO.crx.gz\n",
            "✅ Downloaded: IISC00IND_R_20212550000_01D_30S_MO.crx.gz\n",
            "✅ Downloaded: IISC00IND_R_20212560000_01D_30S_MO.crx.gz\n",
            "✅ Downloaded: IISC00IND_R_20212570000_01D_30S_MO.crx.gz\n",
            "✅ Downloaded: IISC00IND_R_20212580000_01D_30S_MO.crx.gz\n",
            "✅ Downloaded: IISC00IND_R_20212590000_01D_30S_MO.crx.gz\n",
            "✅ Downloaded: IISC00IND_R_20212600000_01D_30S_MO.crx.gz\n",
            "✅ Downloaded: IISC00IND_R_20212610000_01D_30S_MO.crx.gz\n",
            "✅ Downloaded: IISC00IND_R_20212620000_01D_30S_MO.crx.gz\n",
            "✅ Downloaded: IISC00IND_R_20212630000_01D_30S_MO.crx.gz\n",
            "✅ Downloaded: IISC00IND_R_20212640000_01D_30S_MO.crx.gz\n",
            "✅ Downloaded: IISC00IND_R_20212650000_01D_30S_MO.crx.gz\n",
            "✅ Downloaded: IISC00IND_R_20212660000_01D_30S_MO.crx.gz\n",
            "✅ Downloaded: IISC00IND_R_20212670000_01D_30S_MO.crx.gz\n",
            "✅ Downloaded: IISC00IND_R_20212680000_01D_30S_MO.crx.gz\n",
            "✅ Downloaded: IISC00IND_R_20212690000_01D_30S_MO.crx.gz\n",
            "✅ Downloaded: IISC00IND_R_20212700000_01D_30S_MO.crx.gz\n",
            "✅ Downloaded: IISC00IND_R_20212710000_01D_30S_MO.crx.gz\n",
            "✅ Downloaded: IISC00IND_R_20212720000_01D_30S_MO.crx.gz\n",
            "✅ Downloaded: IISC00IND_R_20212730000_01D_30S_MO.crx.gz\n",
            "✅ Downloaded: IISC00IND_R_20212740000_01D_30S_MO.crx.gz\n",
            "✅ Downloaded: IISC00IND_R_20212750000_01D_30S_MO.crx.gz\n",
            "✅ Downloaded: IISC00IND_R_20212760000_01D_30S_MO.crx.gz\n",
            "✅ Downloaded: IISC00IND_R_20212770000_01D_30S_MO.crx.gz\n",
            "✅ Downloaded: IISC00IND_R_20212780000_01D_30S_MO.crx.gz\n",
            "✅ Downloaded: IISC00IND_R_20212790000_01D_30S_MO.crx.gz\n",
            "✅ Downloaded: IISC00IND_R_20212800000_01D_30S_MO.crx.gz\n",
            "✅ Downloaded: IISC00IND_R_20212810000_01D_30S_MO.crx.gz\n",
            "✅ Downloaded: IISC00IND_R_20212820000_01D_30S_MO.crx.gz\n",
            "✅ Downloaded: IISC00IND_R_20212830000_01D_30S_MO.crx.gz\n",
            "✅ Downloaded: IISC00IND_R_20212840000_01D_30S_MO.crx.gz\n",
            "✅ Downloaded: IISC00IND_R_20212850000_01D_30S_MO.crx.gz\n",
            "✅ Downloaded: IISC00IND_R_20212860000_01D_30S_MO.crx.gz\n",
            "✅ Downloaded: IISC00IND_R_20212870000_01D_30S_MO.crx.gz\n",
            "✅ Downloaded: IISC00IND_R_20212880000_01D_30S_MO.crx.gz\n",
            "✅ Downloaded: IISC00IND_R_20212890000_01D_30S_MO.crx.gz\n",
            "✅ Downloaded: IISC00IND_R_20212900000_01D_30S_MO.crx.gz\n",
            "✅ Downloaded: IISC00IND_R_20212910000_01D_30S_MO.crx.gz\n",
            "✅ Downloaded: IISC00IND_R_20212920000_01D_30S_MO.crx.gz\n",
            "✅ Downloaded: IISC00IND_R_20212930000_01D_30S_MO.crx.gz\n",
            "✅ Downloaded: IISC00IND_R_20212940000_01D_30S_MO.crx.gz\n",
            "✅ Downloaded: IISC00IND_R_20212950000_01D_30S_MO.crx.gz\n",
            "✅ Downloaded: IISC00IND_R_20212960000_01D_30S_MO.crx.gz\n",
            "✅ Downloaded: IISC00IND_R_20212970000_01D_30S_MO.crx.gz\n",
            "✅ Downloaded: IISC00IND_R_20212980000_01D_30S_MO.crx.gz\n",
            "✅ Downloaded: IISC00IND_R_20212990000_01D_30S_MO.crx.gz\n",
            "✅ Downloaded: IISC00IND_R_20213000000_01D_30S_MO.crx.gz\n",
            "✅ Downloaded: IISC00IND_R_20213010000_01D_30S_MO.crx.gz\n",
            "✅ Downloaded: IISC00IND_R_20213020000_01D_30S_MO.crx.gz\n",
            "✅ Downloaded: IISC00IND_R_20213030000_01D_30S_MO.crx.gz\n",
            "✅ Downloaded: IISC00IND_R_20213040000_01D_30S_MO.crx.gz\n",
            "✅ Downloaded: IISC00IND_R_20213050000_01D_30S_MO.crx.gz\n",
            "✅ Downloaded: IISC00IND_R_20213060000_01D_30S_MO.crx.gz\n",
            "✅ Downloaded: IISC00IND_R_20213070000_01D_30S_MO.crx.gz\n",
            "✅ Downloaded: IISC00IND_R_20213080000_01D_30S_MO.crx.gz\n",
            "✅ Downloaded: IISC00IND_R_20213090000_01D_30S_MO.crx.gz\n",
            "✅ Downloaded: IISC00IND_R_20213100000_01D_30S_MO.crx.gz\n",
            "✅ Downloaded: IISC00IND_R_20213110000_01D_30S_MO.crx.gz\n",
            "✅ Downloaded: IISC00IND_R_20213120000_01D_30S_MO.crx.gz\n",
            "✅ Downloaded: IISC00IND_R_20213130000_01D_30S_MO.crx.gz\n",
            "✅ Downloaded: IISC00IND_R_20213140000_01D_30S_MO.crx.gz\n",
            "✅ Downloaded: IISC00IND_R_20213150000_01D_30S_MO.crx.gz\n",
            "✅ Downloaded: IISC00IND_R_20213160000_01D_30S_MO.crx.gz\n",
            "✅ Downloaded: IISC00IND_R_20213170000_01D_30S_MO.crx.gz\n",
            "✅ Downloaded: IISC00IND_R_20213180000_01D_30S_MO.crx.gz\n",
            "✅ Downloaded: IISC00IND_R_20213190000_01D_30S_MO.crx.gz\n",
            "✅ Downloaded: IISC00IND_R_20213200000_01D_30S_MO.crx.gz\n",
            "✅ Downloaded: IISC00IND_R_20213210000_01D_30S_MO.crx.gz\n",
            "✅ Downloaded: IISC00IND_R_20213220000_01D_30S_MO.crx.gz\n",
            "✅ Downloaded: IISC00IND_R_20213230000_01D_30S_MO.crx.gz\n",
            "✅ Downloaded: IISC00IND_R_20213240000_01D_30S_MO.crx.gz\n",
            "✅ Downloaded: IISC00IND_R_20213250000_01D_30S_MO.crx.gz\n",
            "✅ Downloaded: IISC00IND_R_20213260000_01D_30S_MO.crx.gz\n",
            "✅ Downloaded: IISC00IND_R_20213270000_01D_30S_MO.crx.gz\n",
            "✅ Downloaded: IISC00IND_R_20213280000_01D_30S_MO.crx.gz\n",
            "✅ Downloaded: IISC00IND_R_20213290000_01D_30S_MO.crx.gz\n",
            "✅ Downloaded: IISC00IND_R_20213300000_01D_30S_MO.crx.gz\n",
            "✅ Downloaded: IISC00IND_R_20213310000_01D_30S_MO.crx.gz\n",
            "✅ Downloaded: IISC00IND_R_20213320000_01D_30S_MO.crx.gz\n",
            "✅ Downloaded: IISC00IND_R_20213330000_01D_30S_MO.crx.gz\n",
            "✅ Downloaded: IISC00IND_R_20213340000_01D_30S_MO.crx.gz\n",
            "✅ Downloaded: IISC00IND_R_20213350000_01D_30S_MO.crx.gz\n",
            "✅ Downloaded: IISC00IND_R_20213360000_01D_30S_MO.crx.gz\n",
            "✅ Downloaded: IISC00IND_R_20213370000_01D_30S_MO.crx.gz\n",
            "✅ Downloaded: IISC00IND_R_20213380000_01D_30S_MO.crx.gz\n",
            "✅ Downloaded: IISC00IND_R_20213390000_01D_30S_MO.crx.gz\n",
            "✅ Downloaded: IISC00IND_R_20213400000_01D_30S_MO.crx.gz\n",
            "✅ Downloaded: IISC00IND_R_20213410000_01D_30S_MO.crx.gz\n",
            "✅ Downloaded: IISC00IND_R_20213420000_01D_30S_MO.crx.gz\n",
            "✅ Downloaded: IISC00IND_R_20213430000_01D_30S_MO.crx.gz\n",
            "✅ Downloaded: IISC00IND_R_20213440000_01D_30S_MO.crx.gz\n",
            "✅ Downloaded: IISC00IND_R_20213450000_01D_30S_MO.crx.gz\n",
            "✅ Downloaded: IISC00IND_R_20213460000_01D_30S_MO.crx.gz\n",
            "✅ Downloaded: IISC00IND_R_20213470000_01D_30S_MO.crx.gz\n",
            "✅ Downloaded: IISC00IND_R_20213480000_01D_30S_MO.crx.gz\n",
            "✅ Downloaded: IISC00IND_R_20213490000_01D_30S_MO.crx.gz\n",
            "✅ Downloaded: IISC00IND_R_20213500000_01D_30S_MO.crx.gz\n",
            "✅ Downloaded: IISC00IND_R_20213510000_01D_30S_MO.crx.gz\n",
            "✅ Downloaded: IISC00IND_R_20213520000_01D_30S_MO.crx.gz\n",
            "✅ Downloaded: IISC00IND_R_20213530000_01D_30S_MO.crx.gz\n",
            "✅ Downloaded: IISC00IND_R_20213540000_01D_30S_MO.crx.gz\n",
            "✅ Downloaded: IISC00IND_R_20213550000_01D_30S_MO.crx.gz\n",
            "✅ Downloaded: IISC00IND_R_20213560000_01D_30S_MO.crx.gz\n",
            "✅ Downloaded: IISC00IND_R_20213570000_01D_30S_MO.crx.gz\n",
            "✅ Downloaded: IISC00IND_R_20213580000_01D_30S_MO.crx.gz\n",
            "✅ Downloaded: IISC00IND_R_20213590000_01D_30S_MO.crx.gz\n",
            "✅ Downloaded: IISC00IND_R_20213600000_01D_30S_MO.crx.gz\n",
            "✅ Downloaded: IISC00IND_R_20213610000_01D_30S_MO.crx.gz\n",
            "✅ Downloaded: IISC00IND_R_20213620000_01D_30S_MO.crx.gz\n",
            "✅ Downloaded: IISC00IND_R_20213630000_01D_30S_MO.crx.gz\n",
            "✅ Downloaded: IISC00IND_R_20213640000_01D_30S_MO.crx.gz\n",
            "✅ Downloaded: IISC00IND_R_20213650000_01D_30S_MO.crx.gz\n",
            "✅ Downloaded: IISC00IND_R_20220010000_01D_30S_MO.crx.gz\n",
            "✅ Downloaded: IISC00IND_R_20220020000_01D_30S_MO.crx.gz\n",
            "✅ Downloaded: IISC00IND_R_20220030000_01D_30S_MO.crx.gz\n",
            "✅ Downloaded: IISC00IND_R_20220040000_01D_30S_MO.crx.gz\n",
            "✅ Downloaded: IISC00IND_R_20220050000_01D_30S_MO.crx.gz\n",
            "✅ Downloaded: IISC00IND_R_20220060000_01D_30S_MO.crx.gz\n",
            "✅ Downloaded: IISC00IND_R_20220070000_01D_30S_MO.crx.gz\n",
            "✅ Downloaded: IISC00IND_R_20220080000_01D_30S_MO.crx.gz\n",
            "✅ Downloaded: IISC00IND_R_20220090000_01D_30S_MO.crx.gz\n",
            "✅ Downloaded: IISC00IND_R_20220100000_01D_30S_MO.crx.gz\n",
            "✅ Downloaded: IISC00IND_R_20220110000_01D_30S_MO.crx.gz\n",
            "✅ Downloaded: IISC00IND_R_20220120000_01D_30S_MO.crx.gz\n",
            "✅ Downloaded: IISC00IND_R_20220130000_01D_30S_MO.crx.gz\n",
            "✅ Downloaded: IISC00IND_R_20220140000_01D_30S_MO.crx.gz\n",
            "✅ Downloaded: IISC00IND_R_20220150000_01D_30S_MO.crx.gz\n",
            "✅ Downloaded: IISC00IND_R_20220160000_01D_30S_MO.crx.gz\n",
            "✅ Downloaded: IISC00IND_R_20220170000_01D_30S_MO.crx.gz\n",
            "✅ Downloaded: IISC00IND_R_20220180000_01D_30S_MO.crx.gz\n",
            "✅ Downloaded: IISC00IND_R_20220190000_01D_30S_MO.crx.gz\n",
            "✅ Downloaded: IISC00IND_R_20220200000_01D_30S_MO.crx.gz\n",
            "✅ Downloaded: IISC00IND_R_20220210000_01D_30S_MO.crx.gz\n",
            "✅ Downloaded: IISC00IND_R_20220220000_01D_30S_MO.crx.gz\n",
            "✅ Downloaded: IISC00IND_R_20220230000_01D_30S_MO.crx.gz\n",
            "✅ Downloaded: IISC00IND_R_20220240000_01D_30S_MO.crx.gz\n",
            "✅ Downloaded: IISC00IND_R_20220250000_01D_30S_MO.crx.gz\n",
            "✅ Downloaded: IISC00IND_R_20220260000_01D_30S_MO.crx.gz\n",
            "✅ Downloaded: IISC00IND_R_20220270000_01D_30S_MO.crx.gz\n",
            "✅ Downloaded: IISC00IND_R_20220280000_01D_30S_MO.crx.gz\n",
            "✅ Downloaded: IISC00IND_R_20220290000_01D_30S_MO.crx.gz\n",
            "✅ Downloaded: IISC00IND_R_20220300000_01D_30S_MO.crx.gz\n",
            "✅ Downloaded: IISC00IND_R_20220310000_01D_30S_MO.crx.gz\n",
            "✅ Downloaded: IISC00IND_R_20220320000_01D_30S_MO.crx.gz\n",
            "✅ Downloaded: IISC00IND_R_20220330000_01D_30S_MO.crx.gz\n",
            "✅ Downloaded: IISC00IND_R_20220340000_01D_30S_MO.crx.gz\n",
            "✅ Downloaded: IISC00IND_R_20220350000_01D_30S_MO.crx.gz\n",
            "✅ Downloaded: IISC00IND_R_20220360000_01D_30S_MO.crx.gz\n",
            "✅ Downloaded: IISC00IND_R_20220370000_01D_30S_MO.crx.gz\n",
            "✅ Downloaded: IISC00IND_R_20220380000_01D_30S_MO.crx.gz\n",
            "✅ Downloaded: IISC00IND_R_20220390000_01D_30S_MO.crx.gz\n",
            "✅ Downloaded: IISC00IND_R_20220400000_01D_30S_MO.crx.gz\n",
            "✅ Downloaded: IISC00IND_R_20220410000_01D_30S_MO.crx.gz\n",
            "✅ Downloaded: IISC00IND_R_20220420000_01D_30S_MO.crx.gz\n",
            "✅ Downloaded: IISC00IND_R_20220430000_01D_30S_MO.crx.gz\n",
            "⚠️ 0B file removed: IISC00IND_R_20220440000_01D_30S_MO.crx.gz\n",
            "🔄 Retrying IISC00IND_R_20220440000_01D_30S_MO.crx.gz (Attempt 2/3)...\n",
            "⚠️ 0B file removed: IISC00IND_R_20220440000_01D_30S_MO.crx.gz\n",
            "🔄 Retrying IISC00IND_R_20220440000_01D_30S_MO.crx.gz (Attempt 3/3)...\n",
            "⚠️ 0B file removed: IISC00IND_R_20220440000_01D_30S_MO.crx.gz\n",
            "🔄 Retrying IISC00IND_R_20220440000_01D_30S_MO.crx.gz (Attempt 4/3)...\n",
            "❌ Failed after 3 attempts: IISC00IND_R_20220440000_01D_30S_MO.crx.gz\n",
            "✅ Downloaded: IISC00IND_R_20220450000_01D_30S_MO.crx.gz\n",
            "✅ Downloaded: IISC00IND_R_20220460000_01D_30S_MO.crx.gz\n",
            "✅ Downloaded: IISC00IND_R_20220470000_01D_30S_MO.crx.gz\n",
            "✅ Downloaded: IISC00IND_R_20220480000_01D_30S_MO.crx.gz\n",
            "✅ Downloaded: IISC00IND_R_20220490000_01D_30S_MO.crx.gz\n",
            "✅ Downloaded: IISC00IND_R_20220500000_01D_30S_MO.crx.gz\n",
            "✅ Downloaded: IISC00IND_R_20220510000_01D_30S_MO.crx.gz\n",
            "✅ Downloaded: IISC00IND_R_20220520000_01D_30S_MO.crx.gz\n",
            "✅ Downloaded: IISC00IND_R_20220530000_01D_30S_MO.crx.gz\n",
            "✅ Downloaded: IISC00IND_R_20220540000_01D_30S_MO.crx.gz\n",
            "✅ Downloaded: IISC00IND_R_20220550000_01D_30S_MO.crx.gz\n",
            "✅ Downloaded: IISC00IND_R_20220560000_01D_30S_MO.crx.gz\n",
            "✅ Downloaded: IISC00IND_R_20220570000_01D_30S_MO.crx.gz\n",
            "✅ Downloaded: IISC00IND_R_20220580000_01D_30S_MO.crx.gz\n",
            "✅ Downloaded: IISC00IND_R_20220590000_01D_30S_MO.crx.gz\n",
            "✅ Downloaded: IISC00IND_R_20220600000_01D_30S_MO.crx.gz\n",
            "✅ Downloaded: IISC00IND_R_20220610000_01D_30S_MO.crx.gz\n",
            "✅ Downloaded: IISC00IND_R_20220620000_01D_30S_MO.crx.gz\n",
            "✅ Downloaded: IISC00IND_R_20220630000_01D_30S_MO.crx.gz\n",
            "✅ Downloaded: IISC00IND_R_20220640000_01D_30S_MO.crx.gz\n",
            "✅ Downloaded: IISC00IND_R_20220650000_01D_30S_MO.crx.gz\n",
            "✅ Downloaded: IISC00IND_R_20220660000_01D_30S_MO.crx.gz\n",
            "✅ Downloaded: IISC00IND_R_20220670000_01D_30S_MO.crx.gz\n",
            "✅ Downloaded: IISC00IND_R_20220680000_01D_30S_MO.crx.gz\n",
            "✅ Downloaded: IISC00IND_R_20220690000_01D_30S_MO.crx.gz\n",
            "✅ Downloaded: IISC00IND_R_20220700000_01D_30S_MO.crx.gz\n",
            "✅ Downloaded: IISC00IND_R_20220710000_01D_30S_MO.crx.gz\n",
            "✅ Downloaded: IISC00IND_R_20220720000_01D_30S_MO.crx.gz\n",
            "✅ Downloaded: IISC00IND_R_20220730000_01D_30S_MO.crx.gz\n",
            "✅ Downloaded: IISC00IND_R_20220740000_01D_30S_MO.crx.gz\n",
            "✅ Downloaded: IISC00IND_R_20220750000_01D_30S_MO.crx.gz\n",
            "✅ Downloaded: IISC00IND_R_20220760000_01D_30S_MO.crx.gz\n",
            "✅ Downloaded: IISC00IND_R_20220770000_01D_30S_MO.crx.gz\n",
            "✅ Downloaded: IISC00IND_R_20220780000_01D_30S_MO.crx.gz\n",
            "✅ Downloaded: IISC00IND_R_20220790000_01D_30S_MO.crx.gz\n",
            "✅ Downloaded: IISC00IND_R_20220800000_01D_30S_MO.crx.gz\n",
            "✅ Downloaded: IISC00IND_R_20220810000_01D_30S_MO.crx.gz\n",
            "⚠️ 0B file removed: IISC00IND_R_20220820000_01D_30S_MO.crx.gz\n",
            "🔄 Retrying IISC00IND_R_20220820000_01D_30S_MO.crx.gz (Attempt 2/3)...\n",
            "⚠️ 0B file removed: IISC00IND_R_20220820000_01D_30S_MO.crx.gz\n",
            "🔄 Retrying IISC00IND_R_20220820000_01D_30S_MO.crx.gz (Attempt 3/3)...\n",
            "⚠️ 0B file removed: IISC00IND_R_20220820000_01D_30S_MO.crx.gz\n",
            "🔄 Retrying IISC00IND_R_20220820000_01D_30S_MO.crx.gz (Attempt 4/3)...\n",
            "❌ Failed after 3 attempts: IISC00IND_R_20220820000_01D_30S_MO.crx.gz\n",
            "✅ Downloaded: IISC00IND_R_20220830000_01D_30S_MO.crx.gz\n",
            "✅ Downloaded: IISC00IND_R_20220840000_01D_30S_MO.crx.gz\n",
            "✅ Downloaded: IISC00IND_R_20220850000_01D_30S_MO.crx.gz\n",
            "✅ Downloaded: IISC00IND_R_20220860000_01D_30S_MO.crx.gz\n",
            "✅ Downloaded: IISC00IND_R_20220870000_01D_30S_MO.crx.gz\n",
            "✅ Downloaded: IISC00IND_R_20220880000_01D_30S_MO.crx.gz\n",
            "✅ Downloaded: IISC00IND_R_20220890000_01D_30S_MO.crx.gz\n",
            "✅ Downloaded: IISC00IND_R_20220900000_01D_30S_MO.crx.gz\n",
            "✅ Downloaded: IISC00IND_R_20220910000_01D_30S_MO.crx.gz\n",
            "✅ Downloaded: IISC00IND_R_20220920000_01D_30S_MO.crx.gz\n",
            "✅ Downloaded: IISC00IND_R_20220930000_01D_30S_MO.crx.gz\n",
            "✅ Downloaded: IISC00IND_R_20220940000_01D_30S_MO.crx.gz\n",
            "✅ Downloaded: IISC00IND_R_20220950000_01D_30S_MO.crx.gz\n",
            "✅ Downloaded: IISC00IND_R_20220960000_01D_30S_MO.crx.gz\n",
            "✅ Downloaded: IISC00IND_R_20220970000_01D_30S_MO.crx.gz\n",
            "✅ Downloaded: IISC00IND_R_20220980000_01D_30S_MO.crx.gz\n",
            "✅ Downloaded: IISC00IND_R_20220990000_01D_30S_MO.crx.gz\n",
            "✅ Downloaded: IISC00IND_R_20221000000_01D_30S_MO.crx.gz\n",
            "✅ Downloaded: IISC00IND_R_20221010000_01D_30S_MO.crx.gz\n",
            "✅ Downloaded: IISC00IND_R_20221020000_01D_30S_MO.crx.gz\n",
            "✅ Downloaded: IISC00IND_R_20221030000_01D_30S_MO.crx.gz\n",
            "✅ Downloaded: IISC00IND_R_20221040000_01D_30S_MO.crx.gz\n",
            "✅ Downloaded: IISC00IND_R_20221050000_01D_30S_MO.crx.gz\n",
            "✅ Downloaded: IISC00IND_R_20221060000_01D_30S_MO.crx.gz\n",
            "✅ Downloaded: IISC00IND_R_20221070000_01D_30S_MO.crx.gz\n",
            "✅ Downloaded: IISC00IND_R_20221080000_01D_30S_MO.crx.gz\n",
            "✅ Downloaded: IISC00IND_R_20221090000_01D_30S_MO.crx.gz\n",
            "✅ Downloaded: IISC00IND_R_20221100000_01D_30S_MO.crx.gz\n",
            "✅ Downloaded: IISC00IND_R_20221110000_01D_30S_MO.crx.gz\n",
            "✅ Downloaded: IISC00IND_R_20221120000_01D_30S_MO.crx.gz\n",
            "✅ Downloaded: IISC00IND_R_20221130000_01D_30S_MO.crx.gz\n",
            "✅ Downloaded: IISC00IND_R_20221140000_01D_30S_MO.crx.gz\n",
            "✅ Downloaded: IISC00IND_R_20221150000_01D_30S_MO.crx.gz\n",
            "✅ Downloaded: IISC00IND_R_20221160000_01D_30S_MO.crx.gz\n",
            "✅ Downloaded: IISC00IND_R_20221170000_01D_30S_MO.crx.gz\n",
            "✅ Downloaded: IISC00IND_R_20221180000_01D_30S_MO.crx.gz\n",
            "✅ Downloaded: IISC00IND_R_20221190000_01D_30S_MO.crx.gz\n",
            "✅ Downloaded: IISC00IND_R_20221200000_01D_30S_MO.crx.gz\n",
            "✅ Downloaded: IISC00IND_R_20221210000_01D_30S_MO.crx.gz\n",
            "✅ Downloaded: IISC00IND_R_20221220000_01D_30S_MO.crx.gz\n",
            "✅ Downloaded: IISC00IND_R_20221230000_01D_30S_MO.crx.gz\n",
            "✅ Downloaded: IISC00IND_R_20221240000_01D_30S_MO.crx.gz\n",
            "✅ Downloaded: IISC00IND_R_20221250000_01D_30S_MO.crx.gz\n",
            "✅ Downloaded: IISC00IND_R_20221260000_01D_30S_MO.crx.gz\n",
            "✅ Downloaded: IISC00IND_R_20221270000_01D_30S_MO.crx.gz\n",
            "✅ Downloaded: IISC00IND_R_20221280000_01D_30S_MO.crx.gz\n",
            "✅ Downloaded: IISC00IND_R_20221290000_01D_30S_MO.crx.gz\n",
            "✅ Downloaded: IISC00IND_R_20221300000_01D_30S_MO.crx.gz\n",
            "✅ Downloaded: IISC00IND_R_20221310000_01D_30S_MO.crx.gz\n",
            "✅ Downloaded: IISC00IND_R_20221320000_01D_30S_MO.crx.gz\n",
            "✅ Downloaded: IISC00IND_R_20221330000_01D_30S_MO.crx.gz\n",
            "✅ Downloaded: IISC00IND_R_20221340000_01D_30S_MO.crx.gz\n",
            "✅ Downloaded: IISC00IND_R_20221350000_01D_30S_MO.crx.gz\n",
            "✅ Downloaded: IISC00IND_R_20221360000_01D_30S_MO.crx.gz\n",
            "✅ Downloaded: IISC00IND_R_20221370000_01D_30S_MO.crx.gz\n",
            "✅ Downloaded: IISC00IND_R_20221380000_01D_30S_MO.crx.gz\n",
            "✅ Downloaded: IISC00IND_R_20221390000_01D_30S_MO.crx.gz\n",
            "✅ Downloaded: IISC00IND_R_20221400000_01D_30S_MO.crx.gz\n",
            "✅ Downloaded: IISC00IND_R_20221410000_01D_30S_MO.crx.gz\n",
            "✅ Downloaded: IISC00IND_R_20221420000_01D_30S_MO.crx.gz\n",
            "✅ Downloaded: IISC00IND_R_20221430000_01D_30S_MO.crx.gz\n",
            "✅ Downloaded: IISC00IND_R_20221440000_01D_30S_MO.crx.gz\n",
            "✅ Downloaded: IISC00IND_R_20221450000_01D_30S_MO.crx.gz\n",
            "✅ Downloaded: IISC00IND_R_20221460000_01D_30S_MO.crx.gz\n",
            "✅ Downloaded: IISC00IND_R_20221470000_01D_30S_MO.crx.gz\n",
            "✅ Downloaded: IISC00IND_R_20221480000_01D_30S_MO.crx.gz\n",
            "✅ Downloaded: IISC00IND_R_20221490000_01D_30S_MO.crx.gz\n",
            "✅ Downloaded: IISC00IND_R_20221500000_01D_30S_MO.crx.gz\n",
            "✅ Downloaded: IISC00IND_R_20221510000_01D_30S_MO.crx.gz\n",
            "✅ Downloaded: IISC00IND_R_20221520000_01D_30S_MO.crx.gz\n",
            "✅ Downloaded: IISC00IND_R_20221530000_01D_30S_MO.crx.gz\n",
            "✅ Downloaded: IISC00IND_R_20221540000_01D_30S_MO.crx.gz\n",
            "✅ Downloaded: IISC00IND_R_20221550000_01D_30S_MO.crx.gz\n",
            "✅ Downloaded: IISC00IND_R_20221560000_01D_30S_MO.crx.gz\n",
            "✅ Downloaded: IISC00IND_R_20221570000_01D_30S_MO.crx.gz\n",
            "✅ Downloaded: IISC00IND_R_20221580000_01D_30S_MO.crx.gz\n",
            "✅ Downloaded: IISC00IND_R_20221590000_01D_30S_MO.crx.gz\n",
            "✅ Downloaded: IISC00IND_R_20221600000_01D_30S_MO.crx.gz\n",
            "✅ Downloaded: IISC00IND_R_20221610000_01D_30S_MO.crx.gz\n",
            "✅ Downloaded: IISC00IND_R_20221620000_01D_30S_MO.crx.gz\n",
            "✅ Downloaded: IISC00IND_R_20221630000_01D_30S_MO.crx.gz\n",
            "✅ Downloaded: IISC00IND_R_20221640000_01D_30S_MO.crx.gz\n",
            "✅ Downloaded: IISC00IND_R_20221650000_01D_30S_MO.crx.gz\n",
            "✅ Downloaded: IISC00IND_R_20221660000_01D_30S_MO.crx.gz\n",
            "✅ Downloaded: IISC00IND_R_20221670000_01D_30S_MO.crx.gz\n",
            "✅ Downloaded: IISC00IND_R_20221680000_01D_30S_MO.crx.gz\n",
            "✅ Downloaded: IISC00IND_R_20221690000_01D_30S_MO.crx.gz\n",
            "✅ Downloaded: IISC00IND_R_20221700000_01D_30S_MO.crx.gz\n",
            "✅ Downloaded: IISC00IND_R_20221710000_01D_30S_MO.crx.gz\n",
            "✅ Downloaded: IISC00IND_R_20221720000_01D_30S_MO.crx.gz\n",
            "✅ Downloaded: IISC00IND_R_20221730000_01D_30S_MO.crx.gz\n",
            "✅ Downloaded: IISC00IND_R_20221740000_01D_30S_MO.crx.gz\n",
            "✅ Downloaded: IISC00IND_R_20221750000_01D_30S_MO.crx.gz\n",
            "✅ Downloaded: IISC00IND_R_20221760000_01D_30S_MO.crx.gz\n",
            "✅ Downloaded: IISC00IND_R_20221770000_01D_30S_MO.crx.gz\n",
            "✅ Downloaded: IISC00IND_R_20221780000_01D_30S_MO.crx.gz\n",
            "✅ Downloaded: IISC00IND_R_20221790000_01D_30S_MO.crx.gz\n",
            "✅ Downloaded: IISC00IND_R_20221800000_01D_30S_MO.crx.gz\n",
            "✅ Downloaded: IISC00IND_R_20221810000_01D_30S_MO.crx.gz\n",
            "✅ Downloaded: IISC00IND_R_20221820000_01D_30S_MO.crx.gz\n",
            "✅ Downloaded: IISC00IND_R_20221830000_01D_30S_MO.crx.gz\n",
            "✅ Downloaded: IISC00IND_R_20221840000_01D_30S_MO.crx.gz\n",
            "✅ Downloaded: IISC00IND_R_20221850000_01D_30S_MO.crx.gz\n",
            "✅ Downloaded: IISC00IND_R_20221860000_01D_30S_MO.crx.gz\n",
            "✅ Downloaded: IISC00IND_R_20221870000_01D_30S_MO.crx.gz\n",
            "✅ Downloaded: IISC00IND_R_20221880000_01D_30S_MO.crx.gz\n",
            "✅ Downloaded: IISC00IND_R_20221890000_01D_30S_MO.crx.gz\n",
            "✅ Downloaded: IISC00IND_R_20221900000_01D_30S_MO.crx.gz\n",
            "✅ Downloaded: IISC00IND_R_20221910000_01D_30S_MO.crx.gz\n",
            "✅ Downloaded: IISC00IND_R_20221920000_01D_30S_MO.crx.gz\n",
            "✅ Downloaded: IISC00IND_R_20221930000_01D_30S_MO.crx.gz\n",
            "✅ Downloaded: IISC00IND_R_20221940000_01D_30S_MO.crx.gz\n",
            "✅ Downloaded: IISC00IND_R_20221950000_01D_30S_MO.crx.gz\n",
            "✅ Downloaded: IISC00IND_R_20221960000_01D_30S_MO.crx.gz\n",
            "✅ Downloaded: IISC00IND_R_20221970000_01D_30S_MO.crx.gz\n",
            "✅ Downloaded: IISC00IND_R_20221980000_01D_30S_MO.crx.gz\n",
            "✅ Downloaded: IISC00IND_R_20221990000_01D_30S_MO.crx.gz\n",
            "✅ Downloaded: IISC00IND_R_20222000000_01D_30S_MO.crx.gz\n",
            "✅ Downloaded: IISC00IND_R_20222010000_01D_30S_MO.crx.gz\n",
            "✅ Downloaded: IISC00IND_R_20222020000_01D_30S_MO.crx.gz\n",
            "✅ Downloaded: IISC00IND_R_20222030000_01D_30S_MO.crx.gz\n",
            "✅ Downloaded: IISC00IND_R_20222040000_01D_30S_MO.crx.gz\n",
            "✅ Downloaded: IISC00IND_R_20222050000_01D_30S_MO.crx.gz\n",
            "✅ Downloaded: IISC00IND_R_20222060000_01D_30S_MO.crx.gz\n",
            "✅ Downloaded: IISC00IND_R_20222070000_01D_30S_MO.crx.gz\n",
            "✅ Downloaded: IISC00IND_R_20222080000_01D_30S_MO.crx.gz\n",
            "✅ Downloaded: IISC00IND_R_20222090000_01D_30S_MO.crx.gz\n",
            "✅ Downloaded: IISC00IND_R_20222100000_01D_30S_MO.crx.gz\n",
            "✅ Downloaded: IISC00IND_R_20222110000_01D_30S_MO.crx.gz\n",
            "✅ Downloaded: IISC00IND_R_20222120000_01D_30S_MO.crx.gz\n",
            "✅ Downloaded: IISC00IND_R_20222130000_01D_30S_MO.crx.gz\n",
            "✅ Downloaded: IISC00IND_R_20222140000_01D_30S_MO.crx.gz\n",
            "⚠️ 0B file removed: IISC00IND_R_20222150000_01D_30S_MO.crx.gz\n",
            "🔄 Retrying IISC00IND_R_20222150000_01D_30S_MO.crx.gz (Attempt 2/3)...\n",
            "⚠️ 0B file removed: IISC00IND_R_20222150000_01D_30S_MO.crx.gz\n",
            "🔄 Retrying IISC00IND_R_20222150000_01D_30S_MO.crx.gz (Attempt 3/3)...\n",
            "⚠️ 0B file removed: IISC00IND_R_20222150000_01D_30S_MO.crx.gz\n",
            "🔄 Retrying IISC00IND_R_20222150000_01D_30S_MO.crx.gz (Attempt 4/3)...\n",
            "❌ Failed after 3 attempts: IISC00IND_R_20222150000_01D_30S_MO.crx.gz\n",
            "⚠️ 0B file removed: IISC00IND_R_20222160000_01D_30S_MO.crx.gz\n",
            "🔄 Retrying IISC00IND_R_20222160000_01D_30S_MO.crx.gz (Attempt 2/3)...\n",
            "⚠️ 0B file removed: IISC00IND_R_20222160000_01D_30S_MO.crx.gz\n",
            "🔄 Retrying IISC00IND_R_20222160000_01D_30S_MO.crx.gz (Attempt 3/3)...\n",
            "⚠️ 0B file removed: IISC00IND_R_20222160000_01D_30S_MO.crx.gz\n",
            "🔄 Retrying IISC00IND_R_20222160000_01D_30S_MO.crx.gz (Attempt 4/3)...\n",
            "❌ Failed after 3 attempts: IISC00IND_R_20222160000_01D_30S_MO.crx.gz\n",
            "⚠️ 0B file removed: IISC00IND_R_20222170000_01D_30S_MO.crx.gz\n",
            "🔄 Retrying IISC00IND_R_20222170000_01D_30S_MO.crx.gz (Attempt 2/3)...\n",
            "⚠️ 0B file removed: IISC00IND_R_20222170000_01D_30S_MO.crx.gz\n",
            "🔄 Retrying IISC00IND_R_20222170000_01D_30S_MO.crx.gz (Attempt 3/3)...\n",
            "⚠️ 0B file removed: IISC00IND_R_20222170000_01D_30S_MO.crx.gz\n",
            "🔄 Retrying IISC00IND_R_20222170000_01D_30S_MO.crx.gz (Attempt 4/3)...\n",
            "❌ Failed after 3 attempts: IISC00IND_R_20222170000_01D_30S_MO.crx.gz\n",
            "⚠️ 0B file removed: IISC00IND_R_20222180000_01D_30S_MO.crx.gz\n",
            "🔄 Retrying IISC00IND_R_20222180000_01D_30S_MO.crx.gz (Attempt 2/3)...\n",
            "⚠️ 0B file removed: IISC00IND_R_20222180000_01D_30S_MO.crx.gz\n",
            "🔄 Retrying IISC00IND_R_20222180000_01D_30S_MO.crx.gz (Attempt 3/3)...\n",
            "⚠️ 0B file removed: IISC00IND_R_20222180000_01D_30S_MO.crx.gz\n",
            "🔄 Retrying IISC00IND_R_20222180000_01D_30S_MO.crx.gz (Attempt 4/3)...\n",
            "❌ Failed after 3 attempts: IISC00IND_R_20222180000_01D_30S_MO.crx.gz\n",
            "⚠️ 0B file removed: IISC00IND_R_20222190000_01D_30S_MO.crx.gz\n",
            "🔄 Retrying IISC00IND_R_20222190000_01D_30S_MO.crx.gz (Attempt 2/3)...\n",
            "⚠️ 0B file removed: IISC00IND_R_20222190000_01D_30S_MO.crx.gz\n",
            "🔄 Retrying IISC00IND_R_20222190000_01D_30S_MO.crx.gz (Attempt 3/3)...\n",
            "⚠️ 0B file removed: IISC00IND_R_20222190000_01D_30S_MO.crx.gz\n",
            "🔄 Retrying IISC00IND_R_20222190000_01D_30S_MO.crx.gz (Attempt 4/3)...\n",
            "❌ Failed after 3 attempts: IISC00IND_R_20222190000_01D_30S_MO.crx.gz\n",
            "⚠️ 0B file removed: IISC00IND_R_20222200000_01D_30S_MO.crx.gz\n",
            "🔄 Retrying IISC00IND_R_20222200000_01D_30S_MO.crx.gz (Attempt 2/3)...\n",
            "⚠️ 0B file removed: IISC00IND_R_20222200000_01D_30S_MO.crx.gz\n",
            "🔄 Retrying IISC00IND_R_20222200000_01D_30S_MO.crx.gz (Attempt 3/3)...\n",
            "⚠️ 0B file removed: IISC00IND_R_20222200000_01D_30S_MO.crx.gz\n",
            "🔄 Retrying IISC00IND_R_20222200000_01D_30S_MO.crx.gz (Attempt 4/3)...\n",
            "❌ Failed after 3 attempts: IISC00IND_R_20222200000_01D_30S_MO.crx.gz\n",
            "⚠️ 0B file removed: IISC00IND_R_20222210000_01D_30S_MO.crx.gz\n",
            "🔄 Retrying IISC00IND_R_20222210000_01D_30S_MO.crx.gz (Attempt 2/3)...\n",
            "⚠️ 0B file removed: IISC00IND_R_20222210000_01D_30S_MO.crx.gz\n",
            "🔄 Retrying IISC00IND_R_20222210000_01D_30S_MO.crx.gz (Attempt 3/3)...\n",
            "⚠️ 0B file removed: IISC00IND_R_20222210000_01D_30S_MO.crx.gz\n",
            "🔄 Retrying IISC00IND_R_20222210000_01D_30S_MO.crx.gz (Attempt 4/3)...\n",
            "❌ Failed after 3 attempts: IISC00IND_R_20222210000_01D_30S_MO.crx.gz\n",
            "⚠️ 0B file removed: IISC00IND_R_20222220000_01D_30S_MO.crx.gz\n",
            "🔄 Retrying IISC00IND_R_20222220000_01D_30S_MO.crx.gz (Attempt 2/3)...\n",
            "⚠️ 0B file removed: IISC00IND_R_20222220000_01D_30S_MO.crx.gz\n",
            "🔄 Retrying IISC00IND_R_20222220000_01D_30S_MO.crx.gz (Attempt 3/3)...\n",
            "⚠️ 0B file removed: IISC00IND_R_20222220000_01D_30S_MO.crx.gz\n",
            "🔄 Retrying IISC00IND_R_20222220000_01D_30S_MO.crx.gz (Attempt 4/3)...\n",
            "❌ Failed after 3 attempts: IISC00IND_R_20222220000_01D_30S_MO.crx.gz\n",
            "⚠️ 0B file removed: IISC00IND_R_20222230000_01D_30S_MO.crx.gz\n",
            "🔄 Retrying IISC00IND_R_20222230000_01D_30S_MO.crx.gz (Attempt 2/3)...\n",
            "⚠️ 0B file removed: IISC00IND_R_20222230000_01D_30S_MO.crx.gz\n",
            "🔄 Retrying IISC00IND_R_20222230000_01D_30S_MO.crx.gz (Attempt 3/3)...\n",
            "⚠️ 0B file removed: IISC00IND_R_20222230000_01D_30S_MO.crx.gz\n",
            "🔄 Retrying IISC00IND_R_20222230000_01D_30S_MO.crx.gz (Attempt 4/3)...\n",
            "❌ Failed after 3 attempts: IISC00IND_R_20222230000_01D_30S_MO.crx.gz\n",
            "⚠️ 0B file removed: IISC00IND_R_20222240000_01D_30S_MO.crx.gz\n",
            "🔄 Retrying IISC00IND_R_20222240000_01D_30S_MO.crx.gz (Attempt 2/3)...\n",
            "⚠️ 0B file removed: IISC00IND_R_20222240000_01D_30S_MO.crx.gz\n",
            "🔄 Retrying IISC00IND_R_20222240000_01D_30S_MO.crx.gz (Attempt 3/3)...\n",
            "⚠️ 0B file removed: IISC00IND_R_20222240000_01D_30S_MO.crx.gz\n",
            "🔄 Retrying IISC00IND_R_20222240000_01D_30S_MO.crx.gz (Attempt 4/3)...\n",
            "❌ Failed after 3 attempts: IISC00IND_R_20222240000_01D_30S_MO.crx.gz\n",
            "⚠️ 0B file removed: IISC00IND_R_20222250000_01D_30S_MO.crx.gz\n",
            "🔄 Retrying IISC00IND_R_20222250000_01D_30S_MO.crx.gz (Attempt 2/3)...\n",
            "⚠️ 0B file removed: IISC00IND_R_20222250000_01D_30S_MO.crx.gz\n",
            "🔄 Retrying IISC00IND_R_20222250000_01D_30S_MO.crx.gz (Attempt 3/3)...\n",
            "⚠️ 0B file removed: IISC00IND_R_20222250000_01D_30S_MO.crx.gz\n",
            "🔄 Retrying IISC00IND_R_20222250000_01D_30S_MO.crx.gz (Attempt 4/3)...\n",
            "❌ Failed after 3 attempts: IISC00IND_R_20222250000_01D_30S_MO.crx.gz\n",
            "⚠️ 0B file removed: IISC00IND_R_20222260000_01D_30S_MO.crx.gz\n",
            "🔄 Retrying IISC00IND_R_20222260000_01D_30S_MO.crx.gz (Attempt 2/3)...\n",
            "⚠️ 0B file removed: IISC00IND_R_20222260000_01D_30S_MO.crx.gz\n",
            "🔄 Retrying IISC00IND_R_20222260000_01D_30S_MO.crx.gz (Attempt 3/3)...\n",
            "⚠️ 0B file removed: IISC00IND_R_20222260000_01D_30S_MO.crx.gz\n",
            "🔄 Retrying IISC00IND_R_20222260000_01D_30S_MO.crx.gz (Attempt 4/3)...\n",
            "❌ Failed after 3 attempts: IISC00IND_R_20222260000_01D_30S_MO.crx.gz\n",
            "⚠️ 0B file removed: IISC00IND_R_20222270000_01D_30S_MO.crx.gz\n",
            "🔄 Retrying IISC00IND_R_20222270000_01D_30S_MO.crx.gz (Attempt 2/3)...\n",
            "⚠️ 0B file removed: IISC00IND_R_20222270000_01D_30S_MO.crx.gz\n",
            "🔄 Retrying IISC00IND_R_20222270000_01D_30S_MO.crx.gz (Attempt 3/3)...\n",
            "⚠️ 0B file removed: IISC00IND_R_20222270000_01D_30S_MO.crx.gz\n",
            "🔄 Retrying IISC00IND_R_20222270000_01D_30S_MO.crx.gz (Attempt 4/3)...\n",
            "❌ Failed after 3 attempts: IISC00IND_R_20222270000_01D_30S_MO.crx.gz\n",
            "⚠️ 0B file removed: IISC00IND_R_20222280000_01D_30S_MO.crx.gz\n",
            "🔄 Retrying IISC00IND_R_20222280000_01D_30S_MO.crx.gz (Attempt 2/3)...\n",
            "⚠️ 0B file removed: IISC00IND_R_20222280000_01D_30S_MO.crx.gz\n",
            "🔄 Retrying IISC00IND_R_20222280000_01D_30S_MO.crx.gz (Attempt 3/3)...\n",
            "⚠️ 0B file removed: IISC00IND_R_20222280000_01D_30S_MO.crx.gz\n",
            "🔄 Retrying IISC00IND_R_20222280000_01D_30S_MO.crx.gz (Attempt 4/3)...\n",
            "❌ Failed after 3 attempts: IISC00IND_R_20222280000_01D_30S_MO.crx.gz\n",
            "⚠️ 0B file removed: IISC00IND_R_20222290000_01D_30S_MO.crx.gz\n",
            "🔄 Retrying IISC00IND_R_20222290000_01D_30S_MO.crx.gz (Attempt 2/3)...\n",
            "⚠️ 0B file removed: IISC00IND_R_20222290000_01D_30S_MO.crx.gz\n",
            "🔄 Retrying IISC00IND_R_20222290000_01D_30S_MO.crx.gz (Attempt 3/3)...\n",
            "⚠️ 0B file removed: IISC00IND_R_20222290000_01D_30S_MO.crx.gz\n",
            "🔄 Retrying IISC00IND_R_20222290000_01D_30S_MO.crx.gz (Attempt 4/3)...\n",
            "❌ Failed after 3 attempts: IISC00IND_R_20222290000_01D_30S_MO.crx.gz\n",
            "⚠️ 0B file removed: IISC00IND_R_20222300000_01D_30S_MO.crx.gz\n",
            "🔄 Retrying IISC00IND_R_20222300000_01D_30S_MO.crx.gz (Attempt 2/3)...\n",
            "⚠️ 0B file removed: IISC00IND_R_20222300000_01D_30S_MO.crx.gz\n",
            "🔄 Retrying IISC00IND_R_20222300000_01D_30S_MO.crx.gz (Attempt 3/3)...\n",
            "⚠️ 0B file removed: IISC00IND_R_20222300000_01D_30S_MO.crx.gz\n",
            "🔄 Retrying IISC00IND_R_20222300000_01D_30S_MO.crx.gz (Attempt 4/3)...\n",
            "❌ Failed after 3 attempts: IISC00IND_R_20222300000_01D_30S_MO.crx.gz\n",
            "⚠️ 0B file removed: IISC00IND_R_20222310000_01D_30S_MO.crx.gz\n",
            "🔄 Retrying IISC00IND_R_20222310000_01D_30S_MO.crx.gz (Attempt 2/3)...\n",
            "⚠️ 0B file removed: IISC00IND_R_20222310000_01D_30S_MO.crx.gz\n",
            "🔄 Retrying IISC00IND_R_20222310000_01D_30S_MO.crx.gz (Attempt 3/3)...\n",
            "⚠️ 0B file removed: IISC00IND_R_20222310000_01D_30S_MO.crx.gz\n",
            "🔄 Retrying IISC00IND_R_20222310000_01D_30S_MO.crx.gz (Attempt 4/3)...\n",
            "❌ Failed after 3 attempts: IISC00IND_R_20222310000_01D_30S_MO.crx.gz\n",
            "⚠️ 0B file removed: IISC00IND_R_20222320000_01D_30S_MO.crx.gz\n",
            "🔄 Retrying IISC00IND_R_20222320000_01D_30S_MO.crx.gz (Attempt 2/3)...\n",
            "⚠️ 0B file removed: IISC00IND_R_20222320000_01D_30S_MO.crx.gz\n",
            "🔄 Retrying IISC00IND_R_20222320000_01D_30S_MO.crx.gz (Attempt 3/3)...\n",
            "⚠️ 0B file removed: IISC00IND_R_20222320000_01D_30S_MO.crx.gz\n",
            "🔄 Retrying IISC00IND_R_20222320000_01D_30S_MO.crx.gz (Attempt 4/3)...\n",
            "❌ Failed after 3 attempts: IISC00IND_R_20222320000_01D_30S_MO.crx.gz\n",
            "⚠️ 0B file removed: IISC00IND_R_20222330000_01D_30S_MO.crx.gz\n",
            "🔄 Retrying IISC00IND_R_20222330000_01D_30S_MO.crx.gz (Attempt 2/3)...\n",
            "⚠️ 0B file removed: IISC00IND_R_20222330000_01D_30S_MO.crx.gz\n",
            "🔄 Retrying IISC00IND_R_20222330000_01D_30S_MO.crx.gz (Attempt 3/3)...\n",
            "⚠️ 0B file removed: IISC00IND_R_20222330000_01D_30S_MO.crx.gz\n",
            "🔄 Retrying IISC00IND_R_20222330000_01D_30S_MO.crx.gz (Attempt 4/3)...\n",
            "❌ Failed after 3 attempts: IISC00IND_R_20222330000_01D_30S_MO.crx.gz\n",
            "⚠️ 0B file removed: IISC00IND_R_20222340000_01D_30S_MO.crx.gz\n",
            "🔄 Retrying IISC00IND_R_20222340000_01D_30S_MO.crx.gz (Attempt 2/3)...\n",
            "⚠️ 0B file removed: IISC00IND_R_20222340000_01D_30S_MO.crx.gz\n",
            "🔄 Retrying IISC00IND_R_20222340000_01D_30S_MO.crx.gz (Attempt 3/3)...\n",
            "⚠️ 0B file removed: IISC00IND_R_20222340000_01D_30S_MO.crx.gz\n",
            "🔄 Retrying IISC00IND_R_20222340000_01D_30S_MO.crx.gz (Attempt 4/3)...\n",
            "❌ Failed after 3 attempts: IISC00IND_R_20222340000_01D_30S_MO.crx.gz\n",
            "⚠️ 0B file removed: IISC00IND_R_20222350000_01D_30S_MO.crx.gz\n",
            "🔄 Retrying IISC00IND_R_20222350000_01D_30S_MO.crx.gz (Attempt 2/3)...\n",
            "⚠️ 0B file removed: IISC00IND_R_20222350000_01D_30S_MO.crx.gz\n",
            "🔄 Retrying IISC00IND_R_20222350000_01D_30S_MO.crx.gz (Attempt 3/3)...\n",
            "⚠️ 0B file removed: IISC00IND_R_20222350000_01D_30S_MO.crx.gz\n",
            "🔄 Retrying IISC00IND_R_20222350000_01D_30S_MO.crx.gz (Attempt 4/3)...\n",
            "❌ Failed after 3 attempts: IISC00IND_R_20222350000_01D_30S_MO.crx.gz\n",
            "⚠️ 0B file removed: IISC00IND_R_20222360000_01D_30S_MO.crx.gz\n",
            "🔄 Retrying IISC00IND_R_20222360000_01D_30S_MO.crx.gz (Attempt 2/3)...\n",
            "⚠️ 0B file removed: IISC00IND_R_20222360000_01D_30S_MO.crx.gz\n",
            "🔄 Retrying IISC00IND_R_20222360000_01D_30S_MO.crx.gz (Attempt 3/3)...\n",
            "⚠️ 0B file removed: IISC00IND_R_20222360000_01D_30S_MO.crx.gz\n",
            "🔄 Retrying IISC00IND_R_20222360000_01D_30S_MO.crx.gz (Attempt 4/3)...\n",
            "❌ Failed after 3 attempts: IISC00IND_R_20222360000_01D_30S_MO.crx.gz\n",
            "⚠️ 0B file removed: IISC00IND_R_20222370000_01D_30S_MO.crx.gz\n",
            "🔄 Retrying IISC00IND_R_20222370000_01D_30S_MO.crx.gz (Attempt 2/3)...\n",
            "⚠️ 0B file removed: IISC00IND_R_20222370000_01D_30S_MO.crx.gz\n",
            "🔄 Retrying IISC00IND_R_20222370000_01D_30S_MO.crx.gz (Attempt 3/3)...\n",
            "⚠️ 0B file removed: IISC00IND_R_20222370000_01D_30S_MO.crx.gz\n",
            "🔄 Retrying IISC00IND_R_20222370000_01D_30S_MO.crx.gz (Attempt 4/3)...\n",
            "❌ Failed after 3 attempts: IISC00IND_R_20222370000_01D_30S_MO.crx.gz\n",
            "⚠️ 0B file removed: IISC00IND_R_20222380000_01D_30S_MO.crx.gz\n",
            "🔄 Retrying IISC00IND_R_20222380000_01D_30S_MO.crx.gz (Attempt 2/3)...\n",
            "⚠️ 0B file removed: IISC00IND_R_20222380000_01D_30S_MO.crx.gz\n",
            "🔄 Retrying IISC00IND_R_20222380000_01D_30S_MO.crx.gz (Attempt 3/3)...\n",
            "⚠️ 0B file removed: IISC00IND_R_20222380000_01D_30S_MO.crx.gz\n",
            "🔄 Retrying IISC00IND_R_20222380000_01D_30S_MO.crx.gz (Attempt 4/3)...\n",
            "❌ Failed after 3 attempts: IISC00IND_R_20222380000_01D_30S_MO.crx.gz\n",
            "⚠️ 0B file removed: IISC00IND_R_20222390000_01D_30S_MO.crx.gz\n",
            "🔄 Retrying IISC00IND_R_20222390000_01D_30S_MO.crx.gz (Attempt 2/3)...\n",
            "⚠️ 0B file removed: IISC00IND_R_20222390000_01D_30S_MO.crx.gz\n",
            "🔄 Retrying IISC00IND_R_20222390000_01D_30S_MO.crx.gz (Attempt 3/3)...\n",
            "⚠️ 0B file removed: IISC00IND_R_20222390000_01D_30S_MO.crx.gz\n",
            "🔄 Retrying IISC00IND_R_20222390000_01D_30S_MO.crx.gz (Attempt 4/3)...\n",
            "❌ Failed after 3 attempts: IISC00IND_R_20222390000_01D_30S_MO.crx.gz\n",
            "⚠️ 0B file removed: IISC00IND_R_20222400000_01D_30S_MO.crx.gz\n",
            "🔄 Retrying IISC00IND_R_20222400000_01D_30S_MO.crx.gz (Attempt 2/3)...\n",
            "⚠️ 0B file removed: IISC00IND_R_20222400000_01D_30S_MO.crx.gz\n",
            "🔄 Retrying IISC00IND_R_20222400000_01D_30S_MO.crx.gz (Attempt 3/3)...\n",
            "⚠️ 0B file removed: IISC00IND_R_20222400000_01D_30S_MO.crx.gz\n",
            "🔄 Retrying IISC00IND_R_20222400000_01D_30S_MO.crx.gz (Attempt 4/3)...\n",
            "❌ Failed after 3 attempts: IISC00IND_R_20222400000_01D_30S_MO.crx.gz\n",
            "⚠️ 0B file removed: IISC00IND_R_20222410000_01D_30S_MO.crx.gz\n",
            "🔄 Retrying IISC00IND_R_20222410000_01D_30S_MO.crx.gz (Attempt 2/3)...\n",
            "⚠️ 0B file removed: IISC00IND_R_20222410000_01D_30S_MO.crx.gz\n",
            "🔄 Retrying IISC00IND_R_20222410000_01D_30S_MO.crx.gz (Attempt 3/3)...\n",
            "⚠️ 0B file removed: IISC00IND_R_20222410000_01D_30S_MO.crx.gz\n",
            "🔄 Retrying IISC00IND_R_20222410000_01D_30S_MO.crx.gz (Attempt 4/3)...\n",
            "❌ Failed after 3 attempts: IISC00IND_R_20222410000_01D_30S_MO.crx.gz\n",
            "⚠️ 0B file removed: IISC00IND_R_20222420000_01D_30S_MO.crx.gz\n",
            "🔄 Retrying IISC00IND_R_20222420000_01D_30S_MO.crx.gz (Attempt 2/3)...\n",
            "⚠️ 0B file removed: IISC00IND_R_20222420000_01D_30S_MO.crx.gz\n",
            "🔄 Retrying IISC00IND_R_20222420000_01D_30S_MO.crx.gz (Attempt 3/3)...\n",
            "⚠️ 0B file removed: IISC00IND_R_20222420000_01D_30S_MO.crx.gz\n",
            "🔄 Retrying IISC00IND_R_20222420000_01D_30S_MO.crx.gz (Attempt 4/3)...\n",
            "❌ Failed after 3 attempts: IISC00IND_R_20222420000_01D_30S_MO.crx.gz\n",
            "✅ Downloaded: IISC00IND_R_20222430000_01D_30S_MO.crx.gz\n",
            "✅ Downloaded: IISC00IND_R_20222440000_01D_30S_MO.crx.gz\n",
            "✅ Downloaded: IISC00IND_R_20222450000_01D_30S_MO.crx.gz\n",
            "✅ Downloaded: IISC00IND_R_20222460000_01D_30S_MO.crx.gz\n",
            "✅ Downloaded: IISC00IND_R_20222470000_01D_30S_MO.crx.gz\n",
            "✅ Downloaded: IISC00IND_R_20222480000_01D_30S_MO.crx.gz\n",
            "✅ Downloaded: IISC00IND_R_20222490000_01D_30S_MO.crx.gz\n",
            "✅ Downloaded: IISC00IND_R_20222500000_01D_30S_MO.crx.gz\n",
            "✅ Downloaded: IISC00IND_R_20222510000_01D_30S_MO.crx.gz\n",
            "✅ Downloaded: IISC00IND_R_20222520000_01D_30S_MO.crx.gz\n",
            "✅ Downloaded: IISC00IND_R_20222530000_01D_30S_MO.crx.gz\n",
            "✅ Downloaded: IISC00IND_R_20222540000_01D_30S_MO.crx.gz\n",
            "✅ Downloaded: IISC00IND_R_20222550000_01D_30S_MO.crx.gz\n",
            "✅ Downloaded: IISC00IND_R_20222560000_01D_30S_MO.crx.gz\n",
            "✅ Downloaded: IISC00IND_R_20222570000_01D_30S_MO.crx.gz\n",
            "✅ Downloaded: IISC00IND_R_20222580000_01D_30S_MO.crx.gz\n",
            "✅ Downloaded: IISC00IND_R_20222590000_01D_30S_MO.crx.gz\n",
            "✅ Downloaded: IISC00IND_R_20222600000_01D_30S_MO.crx.gz\n",
            "✅ Downloaded: IISC00IND_R_20222610000_01D_30S_MO.crx.gz\n",
            "✅ Downloaded: IISC00IND_R_20222620000_01D_30S_MO.crx.gz\n",
            "✅ Downloaded: IISC00IND_R_20222630000_01D_30S_MO.crx.gz\n",
            "✅ Downloaded: IISC00IND_R_20222640000_01D_30S_MO.crx.gz\n",
            "✅ Downloaded: IISC00IND_R_20222650000_01D_30S_MO.crx.gz\n",
            "✅ Downloaded: IISC00IND_R_20222660000_01D_30S_MO.crx.gz\n",
            "✅ Downloaded: IISC00IND_R_20222670000_01D_30S_MO.crx.gz\n",
            "✅ Downloaded: IISC00IND_R_20222680000_01D_30S_MO.crx.gz\n",
            "✅ Downloaded: IISC00IND_R_20222690000_01D_30S_MO.crx.gz\n",
            "✅ Downloaded: IISC00IND_R_20222700000_01D_30S_MO.crx.gz\n",
            "✅ Downloaded: IISC00IND_R_20222710000_01D_30S_MO.crx.gz\n",
            "✅ Downloaded: IISC00IND_R_20222720000_01D_30S_MO.crx.gz\n",
            "✅ Downloaded: IISC00IND_R_20222730000_01D_30S_MO.crx.gz\n",
            "✅ Downloaded: IISC00IND_R_20222740000_01D_30S_MO.crx.gz\n",
            "✅ Downloaded: IISC00IND_R_20222750000_01D_30S_MO.crx.gz\n",
            "✅ Downloaded: IISC00IND_R_20222760000_01D_30S_MO.crx.gz\n",
            "✅ Downloaded: IISC00IND_R_20222770000_01D_30S_MO.crx.gz\n",
            "✅ Downloaded: IISC00IND_R_20222780000_01D_30S_MO.crx.gz\n",
            "✅ Downloaded: IISC00IND_R_20222790000_01D_30S_MO.crx.gz\n",
            "✅ Downloaded: IISC00IND_R_20222800000_01D_30S_MO.crx.gz\n",
            "✅ Downloaded: IISC00IND_R_20222810000_01D_30S_MO.crx.gz\n",
            "✅ Downloaded: IISC00IND_R_20222820000_01D_30S_MO.crx.gz\n",
            "✅ Downloaded: IISC00IND_R_20222830000_01D_30S_MO.crx.gz\n",
            "⚠️ 0B file removed: IISC00IND_R_20222840000_01D_30S_MO.crx.gz\n",
            "🔄 Retrying IISC00IND_R_20222840000_01D_30S_MO.crx.gz (Attempt 2/3)...\n",
            "⚠️ 0B file removed: IISC00IND_R_20222840000_01D_30S_MO.crx.gz\n",
            "🔄 Retrying IISC00IND_R_20222840000_01D_30S_MO.crx.gz (Attempt 3/3)...\n",
            "⚠️ 0B file removed: IISC00IND_R_20222840000_01D_30S_MO.crx.gz\n",
            "🔄 Retrying IISC00IND_R_20222840000_01D_30S_MO.crx.gz (Attempt 4/3)...\n",
            "❌ Failed after 3 attempts: IISC00IND_R_20222840000_01D_30S_MO.crx.gz\n",
            "✅ Downloaded: IISC00IND_R_20222850000_01D_30S_MO.crx.gz\n",
            "✅ Downloaded: IISC00IND_R_20222860000_01D_30S_MO.crx.gz\n",
            "✅ Downloaded: IISC00IND_R_20222870000_01D_30S_MO.crx.gz\n",
            "✅ Downloaded: IISC00IND_R_20222880000_01D_30S_MO.crx.gz\n",
            "✅ Downloaded: IISC00IND_R_20222890000_01D_30S_MO.crx.gz\n",
            "✅ Downloaded: IISC00IND_R_20222900000_01D_30S_MO.crx.gz\n",
            "✅ Downloaded: IISC00IND_R_20222910000_01D_30S_MO.crx.gz\n",
            "✅ Downloaded: IISC00IND_R_20222920000_01D_30S_MO.crx.gz\n",
            "✅ Downloaded: IISC00IND_R_20222930000_01D_30S_MO.crx.gz\n",
            "✅ Downloaded: IISC00IND_R_20222940000_01D_30S_MO.crx.gz\n",
            "✅ Downloaded: IISC00IND_R_20222950000_01D_30S_MO.crx.gz\n",
            "✅ Downloaded: IISC00IND_R_20222960000_01D_30S_MO.crx.gz\n",
            "✅ Downloaded: IISC00IND_R_20222970000_01D_30S_MO.crx.gz\n",
            "✅ Downloaded: IISC00IND_R_20222980000_01D_30S_MO.crx.gz\n",
            "✅ Downloaded: IISC00IND_R_20222990000_01D_30S_MO.crx.gz\n",
            "✅ Downloaded: IISC00IND_R_20223000000_01D_30S_MO.crx.gz\n",
            "✅ Downloaded: IISC00IND_R_20223010000_01D_30S_MO.crx.gz\n",
            "✅ Downloaded: IISC00IND_R_20223020000_01D_30S_MO.crx.gz\n",
            "✅ Downloaded: IISC00IND_R_20223030000_01D_30S_MO.crx.gz\n",
            "✅ Downloaded: IISC00IND_R_20223040000_01D_30S_MO.crx.gz\n",
            "✅ Downloaded: IISC00IND_R_20223050000_01D_30S_MO.crx.gz\n",
            "✅ Downloaded: IISC00IND_R_20223060000_01D_30S_MO.crx.gz\n",
            "✅ Downloaded: IISC00IND_R_20223070000_01D_30S_MO.crx.gz\n",
            "✅ Downloaded: IISC00IND_R_20223080000_01D_30S_MO.crx.gz\n",
            "✅ Downloaded: IISC00IND_R_20223090000_01D_30S_MO.crx.gz\n",
            "✅ Downloaded: IISC00IND_R_20223100000_01D_30S_MO.crx.gz\n",
            "✅ Downloaded: IISC00IND_R_20223110000_01D_30S_MO.crx.gz\n",
            "✅ Downloaded: IISC00IND_R_20223120000_01D_30S_MO.crx.gz\n",
            "✅ Downloaded: IISC00IND_R_20223130000_01D_30S_MO.crx.gz\n",
            "✅ Downloaded: IISC00IND_R_20223140000_01D_30S_MO.crx.gz\n",
            "✅ Downloaded: IISC00IND_R_20223150000_01D_30S_MO.crx.gz\n",
            "✅ Downloaded: IISC00IND_R_20223160000_01D_30S_MO.crx.gz\n",
            "✅ Downloaded: IISC00IND_R_20223170000_01D_30S_MO.crx.gz\n",
            "✅ Downloaded: IISC00IND_R_20223180000_01D_30S_MO.crx.gz\n",
            "✅ Downloaded: IISC00IND_R_20223190000_01D_30S_MO.crx.gz\n",
            "✅ Downloaded: IISC00IND_R_20223200000_01D_30S_MO.crx.gz\n",
            "✅ Downloaded: IISC00IND_R_20223210000_01D_30S_MO.crx.gz\n",
            "✅ Downloaded: IISC00IND_R_20223220000_01D_30S_MO.crx.gz\n",
            "✅ Downloaded: IISC00IND_R_20223230000_01D_30S_MO.crx.gz\n",
            "✅ Downloaded: IISC00IND_R_20223240000_01D_30S_MO.crx.gz\n",
            "✅ Downloaded: IISC00IND_R_20223250000_01D_30S_MO.crx.gz\n",
            "✅ Downloaded: IISC00IND_R_20223260000_01D_30S_MO.crx.gz\n",
            "✅ Downloaded: IISC00IND_R_20223270000_01D_30S_MO.crx.gz\n",
            "✅ Downloaded: IISC00IND_R_20223280000_01D_30S_MO.crx.gz\n",
            "✅ Downloaded: IISC00IND_R_20223290000_01D_30S_MO.crx.gz\n",
            "✅ Downloaded: IISC00IND_R_20223300000_01D_30S_MO.crx.gz\n",
            "✅ Downloaded: IISC00IND_R_20223310000_01D_30S_MO.crx.gz\n",
            "✅ Downloaded: IISC00IND_R_20223320000_01D_30S_MO.crx.gz\n",
            "✅ Downloaded: IISC00IND_R_20223330000_01D_30S_MO.crx.gz\n",
            "✅ Downloaded: IISC00IND_R_20223340000_01D_30S_MO.crx.gz\n",
            "✅ Downloaded: IISC00IND_R_20223350000_01D_30S_MO.crx.gz\n",
            "✅ Downloaded: IISC00IND_R_20223360000_01D_30S_MO.crx.gz\n",
            "✅ Downloaded: IISC00IND_R_20223370000_01D_30S_MO.crx.gz\n",
            "⚠️ 0B file removed: IISC00IND_R_20223380000_01D_30S_MO.crx.gz\n",
            "🔄 Retrying IISC00IND_R_20223380000_01D_30S_MO.crx.gz (Attempt 2/3)...\n",
            "⚠️ 0B file removed: IISC00IND_R_20223380000_01D_30S_MO.crx.gz\n",
            "🔄 Retrying IISC00IND_R_20223380000_01D_30S_MO.crx.gz (Attempt 3/3)...\n",
            "⚠️ 0B file removed: IISC00IND_R_20223380000_01D_30S_MO.crx.gz\n",
            "🔄 Retrying IISC00IND_R_20223380000_01D_30S_MO.crx.gz (Attempt 4/3)...\n",
            "❌ Failed after 3 attempts: IISC00IND_R_20223380000_01D_30S_MO.crx.gz\n",
            "✅ Downloaded: IISC00IND_R_20223390000_01D_30S_MO.crx.gz\n",
            "✅ Downloaded: IISC00IND_R_20223400000_01D_30S_MO.crx.gz\n",
            "⚠️ 0B file removed: IISC00IND_R_20223410000_01D_30S_MO.crx.gz\n",
            "🔄 Retrying IISC00IND_R_20223410000_01D_30S_MO.crx.gz (Attempt 2/3)...\n",
            "⚠️ 0B file removed: IISC00IND_R_20223410000_01D_30S_MO.crx.gz\n",
            "🔄 Retrying IISC00IND_R_20223410000_01D_30S_MO.crx.gz (Attempt 3/3)...\n",
            "⚠️ 0B file removed: IISC00IND_R_20223410000_01D_30S_MO.crx.gz\n",
            "🔄 Retrying IISC00IND_R_20223410000_01D_30S_MO.crx.gz (Attempt 4/3)...\n",
            "❌ Failed after 3 attempts: IISC00IND_R_20223410000_01D_30S_MO.crx.gz\n",
            "✅ Downloaded: IISC00IND_R_20223420000_01D_30S_MO.crx.gz\n",
            "✅ Downloaded: IISC00IND_R_20223430000_01D_30S_MO.crx.gz\n",
            "✅ Downloaded: IISC00IND_R_20223440000_01D_30S_MO.crx.gz\n",
            "✅ Downloaded: IISC00IND_R_20223450000_01D_30S_MO.crx.gz\n",
            "✅ Downloaded: IISC00IND_R_20223460000_01D_30S_MO.crx.gz\n",
            "✅ Downloaded: IISC00IND_R_20223470000_01D_30S_MO.crx.gz\n",
            "✅ Downloaded: IISC00IND_R_20223480000_01D_30S_MO.crx.gz\n",
            "✅ Downloaded: IISC00IND_R_20223490000_01D_30S_MO.crx.gz\n",
            "✅ Downloaded: IISC00IND_R_20223500000_01D_30S_MO.crx.gz\n",
            "✅ Downloaded: IISC00IND_R_20223510000_01D_30S_MO.crx.gz\n",
            "✅ Downloaded: IISC00IND_R_20223520000_01D_30S_MO.crx.gz\n",
            "✅ Downloaded: IISC00IND_R_20223530000_01D_30S_MO.crx.gz\n",
            "✅ Downloaded: IISC00IND_R_20223540000_01D_30S_MO.crx.gz\n",
            "✅ Downloaded: IISC00IND_R_20223550000_01D_30S_MO.crx.gz\n",
            "✅ Downloaded: IISC00IND_R_20223560000_01D_30S_MO.crx.gz\n",
            "✅ Downloaded: IISC00IND_R_20223570000_01D_30S_MO.crx.gz\n",
            "✅ Downloaded: IISC00IND_R_20223580000_01D_30S_MO.crx.gz\n",
            "✅ Downloaded: IISC00IND_R_20223590000_01D_30S_MO.crx.gz\n",
            "✅ Downloaded: IISC00IND_R_20223600000_01D_30S_MO.crx.gz\n",
            "✅ Downloaded: IISC00IND_R_20223610000_01D_30S_MO.crx.gz\n",
            "✅ Downloaded: IISC00IND_R_20223620000_01D_30S_MO.crx.gz\n",
            "✅ Downloaded: IISC00IND_R_20223630000_01D_30S_MO.crx.gz\n",
            "✅ Downloaded: IISC00IND_R_20223640000_01D_30S_MO.crx.gz\n",
            "✅ Downloaded: IISC00IND_R_20223650000_01D_30S_MO.crx.gz\n",
            "✅ Downloaded: IISC00IND_R_20230010000_01D_30S_MO.crx.gz\n",
            "✅ Downloaded: IISC00IND_R_20230020000_01D_30S_MO.crx.gz\n",
            "✅ Downloaded: IISC00IND_R_20230030000_01D_30S_MO.crx.gz\n",
            "✅ Downloaded: IISC00IND_R_20230040000_01D_30S_MO.crx.gz\n",
            "✅ Downloaded: IISC00IND_R_20230050000_01D_30S_MO.crx.gz\n",
            "✅ Downloaded: IISC00IND_R_20230060000_01D_30S_MO.crx.gz\n",
            "✅ Downloaded: IISC00IND_R_20230070000_01D_30S_MO.crx.gz\n",
            "✅ Downloaded: IISC00IND_R_20230080000_01D_30S_MO.crx.gz\n",
            "✅ Downloaded: IISC00IND_R_20230090000_01D_30S_MO.crx.gz\n",
            "✅ Downloaded: IISC00IND_R_20230100000_01D_30S_MO.crx.gz\n",
            "✅ Downloaded: IISC00IND_R_20230110000_01D_30S_MO.crx.gz\n",
            "✅ Downloaded: IISC00IND_R_20230120000_01D_30S_MO.crx.gz\n",
            "✅ Downloaded: IISC00IND_R_20230130000_01D_30S_MO.crx.gz\n",
            "✅ Downloaded: IISC00IND_R_20230140000_01D_30S_MO.crx.gz\n",
            "✅ Downloaded: IISC00IND_R_20230150000_01D_30S_MO.crx.gz\n",
            "✅ Downloaded: IISC00IND_R_20230160000_01D_30S_MO.crx.gz\n",
            "✅ Downloaded: IISC00IND_R_20230170000_01D_30S_MO.crx.gz\n",
            "✅ Downloaded: IISC00IND_R_20230180000_01D_30S_MO.crx.gz\n",
            "✅ Downloaded: IISC00IND_R_20230190000_01D_30S_MO.crx.gz\n",
            "✅ Downloaded: IISC00IND_R_20230200000_01D_30S_MO.crx.gz\n",
            "✅ Downloaded: IISC00IND_R_20230210000_01D_30S_MO.crx.gz\n",
            "✅ Downloaded: IISC00IND_R_20230220000_01D_30S_MO.crx.gz\n",
            "✅ Downloaded: IISC00IND_R_20230230000_01D_30S_MO.crx.gz\n",
            "✅ Downloaded: IISC00IND_R_20230240000_01D_30S_MO.crx.gz\n",
            "✅ Downloaded: IISC00IND_R_20230250000_01D_30S_MO.crx.gz\n",
            "✅ Downloaded: IISC00IND_R_20230260000_01D_30S_MO.crx.gz\n",
            "✅ Downloaded: IISC00IND_R_20230270000_01D_30S_MO.crx.gz\n",
            "✅ Downloaded: IISC00IND_R_20230280000_01D_30S_MO.crx.gz\n",
            "✅ Downloaded: IISC00IND_R_20230290000_01D_30S_MO.crx.gz\n",
            "✅ Downloaded: IISC00IND_R_20230300000_01D_30S_MO.crx.gz\n",
            "✅ Downloaded: IISC00IND_R_20230310000_01D_30S_MO.crx.gz\n",
            "✅ Downloaded: IISC00IND_R_20230320000_01D_30S_MO.crx.gz\n",
            "✅ Downloaded: IISC00IND_R_20230330000_01D_30S_MO.crx.gz\n",
            "✅ Downloaded: IISC00IND_R_20230340000_01D_30S_MO.crx.gz\n",
            "✅ Downloaded: IISC00IND_R_20230350000_01D_30S_MO.crx.gz\n",
            "✅ Downloaded: IISC00IND_R_20230360000_01D_30S_MO.crx.gz\n",
            "✅ Downloaded: IISC00IND_R_20230370000_01D_30S_MO.crx.gz\n",
            "✅ Downloaded: IISC00IND_R_20230380000_01D_30S_MO.crx.gz\n",
            "✅ Downloaded: IISC00IND_R_20230390000_01D_30S_MO.crx.gz\n",
            "✅ Downloaded: IISC00IND_R_20230400000_01D_30S_MO.crx.gz\n",
            "✅ Downloaded: IISC00IND_R_20230410000_01D_30S_MO.crx.gz\n",
            "✅ Downloaded: IISC00IND_R_20230420000_01D_30S_MO.crx.gz\n",
            "✅ Downloaded: IISC00IND_R_20230430000_01D_30S_MO.crx.gz\n",
            "✅ Downloaded: IISC00IND_R_20230440000_01D_30S_MO.crx.gz\n",
            "✅ Downloaded: IISC00IND_R_20230450000_01D_30S_MO.crx.gz\n",
            "✅ Downloaded: IISC00IND_R_20230460000_01D_30S_MO.crx.gz\n",
            "✅ Downloaded: IISC00IND_R_20230470000_01D_30S_MO.crx.gz\n",
            "✅ Downloaded: IISC00IND_R_20230480000_01D_30S_MO.crx.gz\n",
            "✅ Downloaded: IISC00IND_R_20230490000_01D_30S_MO.crx.gz\n",
            "✅ Downloaded: IISC00IND_R_20230500000_01D_30S_MO.crx.gz\n",
            "✅ Downloaded: IISC00IND_R_20230510000_01D_30S_MO.crx.gz\n",
            "✅ Downloaded: IISC00IND_R_20230520000_01D_30S_MO.crx.gz\n",
            "✅ Downloaded: IISC00IND_R_20230530000_01D_30S_MO.crx.gz\n",
            "✅ Downloaded: IISC00IND_R_20230540000_01D_30S_MO.crx.gz\n",
            "✅ Downloaded: IISC00IND_R_20230550000_01D_30S_MO.crx.gz\n",
            "✅ Downloaded: IISC00IND_R_20230560000_01D_30S_MO.crx.gz\n",
            "✅ Downloaded: IISC00IND_R_20230570000_01D_30S_MO.crx.gz\n",
            "✅ Downloaded: IISC00IND_R_20230580000_01D_30S_MO.crx.gz\n",
            "✅ Downloaded: IISC00IND_R_20230590000_01D_30S_MO.crx.gz\n",
            "✅ Downloaded: IISC00IND_R_20230600000_01D_30S_MO.crx.gz\n",
            "✅ Downloaded: IISC00IND_R_20230610000_01D_30S_MO.crx.gz\n",
            "✅ Downloaded: IISC00IND_R_20230620000_01D_30S_MO.crx.gz\n",
            "✅ Downloaded: IISC00IND_R_20230630000_01D_30S_MO.crx.gz\n",
            "✅ Downloaded: IISC00IND_R_20230640000_01D_30S_MO.crx.gz\n",
            "✅ Downloaded: IISC00IND_R_20230650000_01D_30S_MO.crx.gz\n",
            "✅ Downloaded: IISC00IND_R_20230660000_01D_30S_MO.crx.gz\n",
            "✅ Downloaded: IISC00IND_R_20230670000_01D_30S_MO.crx.gz\n",
            "✅ Downloaded: IISC00IND_R_20230680000_01D_30S_MO.crx.gz\n",
            "✅ Downloaded: IISC00IND_R_20230690000_01D_30S_MO.crx.gz\n",
            "✅ Downloaded: IISC00IND_R_20230700000_01D_30S_MO.crx.gz\n",
            "✅ Downloaded: IISC00IND_R_20230710000_01D_30S_MO.crx.gz\n",
            "✅ Downloaded: IISC00IND_R_20230720000_01D_30S_MO.crx.gz\n",
            "✅ Downloaded: IISC00IND_R_20230730000_01D_30S_MO.crx.gz\n",
            "✅ Downloaded: IISC00IND_R_20230740000_01D_30S_MO.crx.gz\n",
            "✅ Downloaded: IISC00IND_R_20230750000_01D_30S_MO.crx.gz\n",
            "✅ Downloaded: IISC00IND_R_20230760000_01D_30S_MO.crx.gz\n",
            "✅ Downloaded: IISC00IND_R_20230770000_01D_30S_MO.crx.gz\n",
            "✅ Downloaded: IISC00IND_R_20230780000_01D_30S_MO.crx.gz\n",
            "✅ Downloaded: IISC00IND_R_20230790000_01D_30S_MO.crx.gz\n",
            "✅ Downloaded: IISC00IND_R_20230800000_01D_30S_MO.crx.gz\n",
            "✅ Downloaded: IISC00IND_R_20230810000_01D_30S_MO.crx.gz\n",
            "✅ Downloaded: IISC00IND_R_20230820000_01D_30S_MO.crx.gz\n",
            "✅ Downloaded: IISC00IND_R_20230830000_01D_30S_MO.crx.gz\n",
            "✅ Downloaded: IISC00IND_R_20230840000_01D_30S_MO.crx.gz\n",
            "✅ Downloaded: IISC00IND_R_20230850000_01D_30S_MO.crx.gz\n",
            "✅ Downloaded: IISC00IND_R_20230860000_01D_30S_MO.crx.gz\n",
            "✅ Downloaded: IISC00IND_R_20230870000_01D_30S_MO.crx.gz\n",
            "✅ Downloaded: IISC00IND_R_20230880000_01D_30S_MO.crx.gz\n",
            "✅ Downloaded: IISC00IND_R_20230890000_01D_30S_MO.crx.gz\n",
            "✅ Downloaded: IISC00IND_R_20230900000_01D_30S_MO.crx.gz\n",
            "✅ Downloaded: IISC00IND_R_20230910000_01D_30S_MO.crx.gz\n",
            "✅ Downloaded: IISC00IND_R_20230920000_01D_30S_MO.crx.gz\n",
            "✅ Downloaded: IISC00IND_R_20230930000_01D_30S_MO.crx.gz\n",
            "✅ Downloaded: IISC00IND_R_20230940000_01D_30S_MO.crx.gz\n",
            "✅ Downloaded: IISC00IND_R_20230950000_01D_30S_MO.crx.gz\n",
            "✅ Downloaded: IISC00IND_R_20230960000_01D_30S_MO.crx.gz\n",
            "✅ Downloaded: IISC00IND_R_20230970000_01D_30S_MO.crx.gz\n",
            "✅ Downloaded: IISC00IND_R_20230980000_01D_30S_MO.crx.gz\n",
            "✅ Downloaded: IISC00IND_R_20230990000_01D_30S_MO.crx.gz\n",
            "✅ Downloaded: IISC00IND_R_20231000000_01D_30S_MO.crx.gz\n",
            "✅ Downloaded: IISC00IND_R_20231010000_01D_30S_MO.crx.gz\n",
            "✅ Downloaded: IISC00IND_R_20231020000_01D_30S_MO.crx.gz\n",
            "✅ Downloaded: IISC00IND_R_20231030000_01D_30S_MO.crx.gz\n",
            "✅ Downloaded: IISC00IND_R_20231040000_01D_30S_MO.crx.gz\n",
            "✅ Downloaded: IISC00IND_R_20231050000_01D_30S_MO.crx.gz\n",
            "✅ Downloaded: IISC00IND_R_20231060000_01D_30S_MO.crx.gz\n",
            "✅ Downloaded: IISC00IND_R_20231070000_01D_30S_MO.crx.gz\n",
            "✅ Downloaded: IISC00IND_R_20231080000_01D_30S_MO.crx.gz\n",
            "✅ Downloaded: IISC00IND_R_20231090000_01D_30S_MO.crx.gz\n",
            "✅ Downloaded: IISC00IND_R_20231100000_01D_30S_MO.crx.gz\n",
            "✅ Downloaded: IISC00IND_R_20231110000_01D_30S_MO.crx.gz\n",
            "✅ Downloaded: IISC00IND_R_20231120000_01D_30S_MO.crx.gz\n",
            "✅ Downloaded: IISC00IND_R_20231130000_01D_30S_MO.crx.gz\n",
            "✅ Downloaded: IISC00IND_R_20231140000_01D_30S_MO.crx.gz\n",
            "✅ Downloaded: IISC00IND_R_20231150000_01D_30S_MO.crx.gz\n",
            "✅ Downloaded: IISC00IND_R_20231160000_01D_30S_MO.crx.gz\n",
            "✅ Downloaded: IISC00IND_R_20231170000_01D_30S_MO.crx.gz\n",
            "✅ Downloaded: IISC00IND_R_20231180000_01D_30S_MO.crx.gz\n",
            "✅ Downloaded: IISC00IND_R_20231190000_01D_30S_MO.crx.gz\n",
            "✅ Downloaded: IISC00IND_R_20231200000_01D_30S_MO.crx.gz\n",
            "✅ Downloaded: IISC00IND_R_20231210000_01D_30S_MO.crx.gz\n",
            "✅ Downloaded: IISC00IND_R_20231220000_01D_30S_MO.crx.gz\n",
            "✅ Downloaded: IISC00IND_R_20231230000_01D_30S_MO.crx.gz\n",
            "✅ Downloaded: IISC00IND_R_20231240000_01D_30S_MO.crx.gz\n",
            "✅ Downloaded: IISC00IND_R_20231250000_01D_30S_MO.crx.gz\n",
            "✅ Downloaded: IISC00IND_R_20231260000_01D_30S_MO.crx.gz\n",
            "✅ Downloaded: IISC00IND_R_20231270000_01D_30S_MO.crx.gz\n",
            "✅ Downloaded: IISC00IND_R_20231280000_01D_30S_MO.crx.gz\n",
            "✅ Downloaded: IISC00IND_R_20231290000_01D_30S_MO.crx.gz\n",
            "✅ Downloaded: IISC00IND_R_20231300000_01D_30S_MO.crx.gz\n",
            "✅ Downloaded: IISC00IND_R_20231310000_01D_30S_MO.crx.gz\n",
            "✅ Downloaded: IISC00IND_R_20231320000_01D_30S_MO.crx.gz\n",
            "✅ Downloaded: IISC00IND_R_20231330000_01D_30S_MO.crx.gz\n",
            "✅ Downloaded: IISC00IND_R_20231340000_01D_30S_MO.crx.gz\n",
            "✅ Downloaded: IISC00IND_R_20231350000_01D_30S_MO.crx.gz\n",
            "✅ Downloaded: IISC00IND_R_20231360000_01D_30S_MO.crx.gz\n",
            "✅ Downloaded: IISC00IND_R_20231370000_01D_30S_MO.crx.gz\n",
            "✅ Downloaded: IISC00IND_R_20231380000_01D_30S_MO.crx.gz\n",
            "✅ Downloaded: IISC00IND_R_20231390000_01D_30S_MO.crx.gz\n",
            "✅ Downloaded: IISC00IND_R_20231400000_01D_30S_MO.crx.gz\n",
            "✅ Downloaded: IISC00IND_R_20231410000_01D_30S_MO.crx.gz\n",
            "✅ Downloaded: IISC00IND_R_20231420000_01D_30S_MO.crx.gz\n",
            "✅ Downloaded: IISC00IND_R_20231430000_01D_30S_MO.crx.gz\n",
            "✅ Downloaded: IISC00IND_R_20231440000_01D_30S_MO.crx.gz\n",
            "✅ Downloaded: IISC00IND_R_20231450000_01D_30S_MO.crx.gz\n",
            "⚠️ 0B file removed: IISC00IND_R_20231460000_01D_30S_MO.crx.gz\n",
            "🔄 Retrying IISC00IND_R_20231460000_01D_30S_MO.crx.gz (Attempt 2/3)...\n",
            "⚠️ 0B file removed: IISC00IND_R_20231460000_01D_30S_MO.crx.gz\n",
            "🔄 Retrying IISC00IND_R_20231460000_01D_30S_MO.crx.gz (Attempt 3/3)...\n",
            "⚠️ 0B file removed: IISC00IND_R_20231460000_01D_30S_MO.crx.gz\n",
            "🔄 Retrying IISC00IND_R_20231460000_01D_30S_MO.crx.gz (Attempt 4/3)...\n",
            "❌ Failed after 3 attempts: IISC00IND_R_20231460000_01D_30S_MO.crx.gz\n",
            "⚠️ 0B file removed: IISC00IND_R_20231470000_01D_30S_MO.crx.gz\n",
            "🔄 Retrying IISC00IND_R_20231470000_01D_30S_MO.crx.gz (Attempt 2/3)...\n",
            "⚠️ 0B file removed: IISC00IND_R_20231470000_01D_30S_MO.crx.gz\n",
            "🔄 Retrying IISC00IND_R_20231470000_01D_30S_MO.crx.gz (Attempt 3/3)...\n",
            "⚠️ 0B file removed: IISC00IND_R_20231470000_01D_30S_MO.crx.gz\n",
            "🔄 Retrying IISC00IND_R_20231470000_01D_30S_MO.crx.gz (Attempt 4/3)...\n",
            "❌ Failed after 3 attempts: IISC00IND_R_20231470000_01D_30S_MO.crx.gz\n",
            "✅ Downloaded: IISC00IND_R_20231480000_01D_30S_MO.crx.gz\n",
            "✅ Downloaded: IISC00IND_R_20231490000_01D_30S_MO.crx.gz\n",
            "✅ Downloaded: IISC00IND_R_20231500000_01D_30S_MO.crx.gz\n",
            "✅ Downloaded: IISC00IND_R_20231510000_01D_30S_MO.crx.gz\n",
            "✅ Downloaded: IISC00IND_R_20231520000_01D_30S_MO.crx.gz\n",
            "✅ Downloaded: IISC00IND_R_20231530000_01D_30S_MO.crx.gz\n",
            "✅ Downloaded: IISC00IND_R_20231540000_01D_30S_MO.crx.gz\n",
            "✅ Downloaded: IISC00IND_R_20231550000_01D_30S_MO.crx.gz\n",
            "✅ Downloaded: IISC00IND_R_20231560000_01D_30S_MO.crx.gz\n",
            "✅ Downloaded: IISC00IND_R_20231570000_01D_30S_MO.crx.gz\n",
            "✅ Downloaded: IISC00IND_R_20231580000_01D_30S_MO.crx.gz\n",
            "✅ Downloaded: IISC00IND_R_20231590000_01D_30S_MO.crx.gz\n",
            "✅ Downloaded: IISC00IND_R_20231600000_01D_30S_MO.crx.gz\n",
            "✅ Downloaded: IISC00IND_R_20231610000_01D_30S_MO.crx.gz\n",
            "✅ Downloaded: IISC00IND_R_20231620000_01D_30S_MO.crx.gz\n",
            "✅ Downloaded: IISC00IND_R_20231630000_01D_30S_MO.crx.gz\n",
            "✅ Downloaded: IISC00IND_R_20231640000_01D_30S_MO.crx.gz\n",
            "✅ Downloaded: IISC00IND_R_20231650000_01D_30S_MO.crx.gz\n",
            "✅ Downloaded: IISC00IND_R_20231660000_01D_30S_MO.crx.gz\n",
            "✅ Downloaded: IISC00IND_R_20231670000_01D_30S_MO.crx.gz\n",
            "✅ Downloaded: IISC00IND_R_20231680000_01D_30S_MO.crx.gz\n",
            "✅ Downloaded: IISC00IND_R_20231690000_01D_30S_MO.crx.gz\n",
            "✅ Downloaded: IISC00IND_R_20231700000_01D_30S_MO.crx.gz\n",
            "✅ Downloaded: IISC00IND_R_20231710000_01D_30S_MO.crx.gz\n",
            "✅ Downloaded: IISC00IND_R_20231720000_01D_30S_MO.crx.gz\n",
            "✅ Downloaded: IISC00IND_R_20231730000_01D_30S_MO.crx.gz\n",
            "✅ Downloaded: IISC00IND_R_20231740000_01D_30S_MO.crx.gz\n",
            "✅ Downloaded: IISC00IND_R_20231750000_01D_30S_MO.crx.gz\n",
            "✅ Downloaded: IISC00IND_R_20231760000_01D_30S_MO.crx.gz\n",
            "✅ Downloaded: IISC00IND_R_20231770000_01D_30S_MO.crx.gz\n",
            "✅ Downloaded: IISC00IND_R_20231780000_01D_30S_MO.crx.gz\n",
            "✅ Downloaded: IISC00IND_R_20231790000_01D_30S_MO.crx.gz\n",
            "✅ Downloaded: IISC00IND_R_20231800000_01D_30S_MO.crx.gz\n",
            "✅ Downloaded: IISC00IND_R_20231810000_01D_30S_MO.crx.gz\n",
            "✅ Downloaded: IISC00IND_R_20231820000_01D_30S_MO.crx.gz\n",
            "✅ Downloaded: IISC00IND_R_20231830000_01D_30S_MO.crx.gz\n",
            "✅ Downloaded: IISC00IND_R_20231840000_01D_30S_MO.crx.gz\n",
            "✅ Downloaded: IISC00IND_R_20231850000_01D_30S_MO.crx.gz\n",
            "✅ Downloaded: IISC00IND_R_20231860000_01D_30S_MO.crx.gz\n",
            "✅ Downloaded: IISC00IND_R_20231870000_01D_30S_MO.crx.gz\n",
            "✅ Downloaded: IISC00IND_R_20231880000_01D_30S_MO.crx.gz\n",
            "✅ Downloaded: IISC00IND_R_20231890000_01D_30S_MO.crx.gz\n",
            "✅ Downloaded: IISC00IND_R_20231900000_01D_30S_MO.crx.gz\n",
            "✅ Downloaded: IISC00IND_R_20231910000_01D_30S_MO.crx.gz\n",
            "✅ Downloaded: IISC00IND_R_20231920000_01D_30S_MO.crx.gz\n",
            "✅ Downloaded: IISC00IND_R_20231930000_01D_30S_MO.crx.gz\n",
            "✅ Downloaded: IISC00IND_R_20231940000_01D_30S_MO.crx.gz\n",
            "✅ Downloaded: IISC00IND_R_20231950000_01D_30S_MO.crx.gz\n",
            "✅ Downloaded: IISC00IND_R_20231960000_01D_30S_MO.crx.gz\n",
            "✅ Downloaded: IISC00IND_R_20231970000_01D_30S_MO.crx.gz\n",
            "✅ Downloaded: IISC00IND_R_20231980000_01D_30S_MO.crx.gz\n",
            "✅ Downloaded: IISC00IND_R_20231990000_01D_30S_MO.crx.gz\n",
            "✅ Downloaded: IISC00IND_R_20232000000_01D_30S_MO.crx.gz\n",
            "✅ Downloaded: IISC00IND_R_20232010000_01D_30S_MO.crx.gz\n",
            "✅ Downloaded: IISC00IND_R_20232020000_01D_30S_MO.crx.gz\n",
            "✅ Downloaded: IISC00IND_R_20232030000_01D_30S_MO.crx.gz\n",
            "✅ Downloaded: IISC00IND_R_20232040000_01D_30S_MO.crx.gz\n",
            "✅ Downloaded: IISC00IND_R_20232050000_01D_30S_MO.crx.gz\n",
            "✅ Downloaded: IISC00IND_R_20232060000_01D_30S_MO.crx.gz\n",
            "✅ Downloaded: IISC00IND_R_20232070000_01D_30S_MO.crx.gz\n",
            "✅ Downloaded: IISC00IND_R_20232080000_01D_30S_MO.crx.gz\n",
            "✅ Downloaded: IISC00IND_R_20232090000_01D_30S_MO.crx.gz\n",
            "✅ Downloaded: IISC00IND_R_20232100000_01D_30S_MO.crx.gz\n",
            "✅ Downloaded: IISC00IND_R_20232110000_01D_30S_MO.crx.gz\n",
            "✅ Downloaded: IISC00IND_R_20232120000_01D_30S_MO.crx.gz\n",
            "✅ Downloaded: IISC00IND_R_20232130000_01D_30S_MO.crx.gz\n",
            "✅ Downloaded: IISC00IND_R_20232140000_01D_30S_MO.crx.gz\n",
            "✅ Downloaded: IISC00IND_R_20232150000_01D_30S_MO.crx.gz\n",
            "✅ Downloaded: IISC00IND_R_20232160000_01D_30S_MO.crx.gz\n",
            "✅ Downloaded: IISC00IND_R_20232170000_01D_30S_MO.crx.gz\n",
            "✅ Downloaded: IISC00IND_R_20232180000_01D_30S_MO.crx.gz\n",
            "✅ Downloaded: IISC00IND_R_20232190000_01D_30S_MO.crx.gz\n",
            "✅ Downloaded: IISC00IND_R_20232200000_01D_30S_MO.crx.gz\n",
            "✅ Downloaded: IISC00IND_R_20232210000_01D_30S_MO.crx.gz\n",
            "✅ Downloaded: IISC00IND_R_20232220000_01D_30S_MO.crx.gz\n",
            "✅ Downloaded: IISC00IND_R_20232230000_01D_30S_MO.crx.gz\n",
            "✅ Downloaded: IISC00IND_R_20232240000_01D_30S_MO.crx.gz\n",
            "✅ Downloaded: IISC00IND_R_20232250000_01D_30S_MO.crx.gz\n",
            "✅ Downloaded: IISC00IND_R_20232260000_01D_30S_MO.crx.gz\n",
            "✅ Downloaded: IISC00IND_R_20232270000_01D_30S_MO.crx.gz\n",
            "✅ Downloaded: IISC00IND_R_20232280000_01D_30S_MO.crx.gz\n",
            "✅ Downloaded: IISC00IND_R_20232290000_01D_30S_MO.crx.gz\n",
            "✅ Downloaded: IISC00IND_R_20232300000_01D_30S_MO.crx.gz\n",
            "✅ Downloaded: IISC00IND_R_20232310000_01D_30S_MO.crx.gz\n",
            "✅ Downloaded: IISC00IND_R_20232320000_01D_30S_MO.crx.gz\n",
            "✅ Downloaded: IISC00IND_R_20232330000_01D_30S_MO.crx.gz\n",
            "✅ Downloaded: IISC00IND_R_20232340000_01D_30S_MO.crx.gz\n",
            "✅ Downloaded: IISC00IND_R_20232350000_01D_30S_MO.crx.gz\n",
            "✅ Downloaded: IISC00IND_R_20232360000_01D_30S_MO.crx.gz\n",
            "✅ Downloaded: IISC00IND_R_20232370000_01D_30S_MO.crx.gz\n",
            "✅ Downloaded: IISC00IND_R_20232380000_01D_30S_MO.crx.gz\n",
            "✅ Downloaded: IISC00IND_R_20232390000_01D_30S_MO.crx.gz\n",
            "✅ Downloaded: IISC00IND_R_20232400000_01D_30S_MO.crx.gz\n",
            "✅ Downloaded: IISC00IND_R_20232410000_01D_30S_MO.crx.gz\n",
            "✅ Downloaded: IISC00IND_R_20232420000_01D_30S_MO.crx.gz\n",
            "✅ Downloaded: IISC00IND_R_20232430000_01D_30S_MO.crx.gz\n",
            "✅ Downloaded: IISC00IND_R_20232440000_01D_30S_MO.crx.gz\n",
            "✅ Downloaded: IISC00IND_R_20232450000_01D_30S_MO.crx.gz\n",
            "✅ Downloaded: IISC00IND_R_20232460000_01D_30S_MO.crx.gz\n",
            "✅ Downloaded: IISC00IND_R_20232470000_01D_30S_MO.crx.gz\n",
            "✅ Downloaded: IISC00IND_R_20232480000_01D_30S_MO.crx.gz\n",
            "✅ Downloaded: IISC00IND_R_20232490000_01D_30S_MO.crx.gz\n",
            "✅ Downloaded: IISC00IND_R_20232500000_01D_30S_MO.crx.gz\n",
            "✅ Downloaded: IISC00IND_R_20232510000_01D_30S_MO.crx.gz\n",
            "✅ Downloaded: IISC00IND_R_20232520000_01D_30S_MO.crx.gz\n",
            "✅ Downloaded: IISC00IND_R_20232530000_01D_30S_MO.crx.gz\n",
            "✅ Downloaded: IISC00IND_R_20232540000_01D_30S_MO.crx.gz\n",
            "✅ Downloaded: IISC00IND_R_20232550000_01D_30S_MO.crx.gz\n",
            "✅ Downloaded: IISC00IND_R_20232560000_01D_30S_MO.crx.gz\n",
            "✅ Downloaded: IISC00IND_R_20232570000_01D_30S_MO.crx.gz\n",
            "✅ Downloaded: IISC00IND_R_20232580000_01D_30S_MO.crx.gz\n",
            "✅ Downloaded: IISC00IND_R_20232590000_01D_30S_MO.crx.gz\n",
            "✅ Downloaded: IISC00IND_R_20232600000_01D_30S_MO.crx.gz\n",
            "✅ Downloaded: IISC00IND_R_20232610000_01D_30S_MO.crx.gz\n",
            "✅ Downloaded: IISC00IND_R_20232620000_01D_30S_MO.crx.gz\n",
            "✅ Downloaded: IISC00IND_R_20232630000_01D_30S_MO.crx.gz\n",
            "✅ Downloaded: IISC00IND_R_20232640000_01D_30S_MO.crx.gz\n",
            "✅ Downloaded: IISC00IND_R_20232650000_01D_30S_MO.crx.gz\n",
            "✅ Downloaded: IISC00IND_R_20232660000_01D_30S_MO.crx.gz\n",
            "✅ Downloaded: IISC00IND_R_20232670000_01D_30S_MO.crx.gz\n",
            "✅ Downloaded: IISC00IND_R_20232680000_01D_30S_MO.crx.gz\n",
            "✅ Downloaded: IISC00IND_R_20232690000_01D_30S_MO.crx.gz\n",
            "✅ Downloaded: IISC00IND_R_20232700000_01D_30S_MO.crx.gz\n",
            "✅ Downloaded: IISC00IND_R_20232710000_01D_30S_MO.crx.gz\n",
            "✅ Downloaded: IISC00IND_R_20232720000_01D_30S_MO.crx.gz\n",
            "✅ Downloaded: IISC00IND_R_20232730000_01D_30S_MO.crx.gz\n",
            "✅ Downloaded: IISC00IND_R_20232740000_01D_30S_MO.crx.gz\n",
            "✅ Downloaded: IISC00IND_R_20232750000_01D_30S_MO.crx.gz\n",
            "✅ Downloaded: IISC00IND_R_20232760000_01D_30S_MO.crx.gz\n",
            "✅ Downloaded: IISC00IND_R_20232770000_01D_30S_MO.crx.gz\n",
            "✅ Downloaded: IISC00IND_R_20232780000_01D_30S_MO.crx.gz\n",
            "✅ Downloaded: IISC00IND_R_20232790000_01D_30S_MO.crx.gz\n",
            "✅ Downloaded: IISC00IND_R_20232800000_01D_30S_MO.crx.gz\n",
            "✅ Downloaded: IISC00IND_R_20232810000_01D_30S_MO.crx.gz\n",
            "✅ Downloaded: IISC00IND_R_20232820000_01D_30S_MO.crx.gz\n",
            "✅ Downloaded: IISC00IND_R_20232830000_01D_30S_MO.crx.gz\n",
            "✅ Downloaded: IISC00IND_R_20232840000_01D_30S_MO.crx.gz\n",
            "✅ Downloaded: IISC00IND_R_20232850000_01D_30S_MO.crx.gz\n",
            "✅ Downloaded: IISC00IND_R_20232860000_01D_30S_MO.crx.gz\n",
            "✅ Downloaded: IISC00IND_R_20232870000_01D_30S_MO.crx.gz\n",
            "✅ Downloaded: IISC00IND_R_20232880000_01D_30S_MO.crx.gz\n",
            "✅ Downloaded: IISC00IND_R_20232890000_01D_30S_MO.crx.gz\n",
            "✅ Downloaded: IISC00IND_R_20232900000_01D_30S_MO.crx.gz\n",
            "✅ Downloaded: IISC00IND_R_20232910000_01D_30S_MO.crx.gz\n",
            "✅ Downloaded: IISC00IND_R_20232920000_01D_30S_MO.crx.gz\n",
            "✅ Downloaded: IISC00IND_R_20232930000_01D_30S_MO.crx.gz\n",
            "✅ Downloaded: IISC00IND_R_20232940000_01D_30S_MO.crx.gz\n",
            "✅ Downloaded: IISC00IND_R_20232950000_01D_30S_MO.crx.gz\n",
            "✅ Downloaded: IISC00IND_R_20232960000_01D_30S_MO.crx.gz\n",
            "✅ Downloaded: IISC00IND_R_20232970000_01D_30S_MO.crx.gz\n",
            "✅ Downloaded: IISC00IND_R_20232980000_01D_30S_MO.crx.gz\n",
            "✅ Downloaded: IISC00IND_R_20232990000_01D_30S_MO.crx.gz\n",
            "✅ Downloaded: IISC00IND_R_20233000000_01D_30S_MO.crx.gz\n",
            "✅ Downloaded: IISC00IND_R_20233010000_01D_30S_MO.crx.gz\n",
            "✅ Downloaded: IISC00IND_R_20233020000_01D_30S_MO.crx.gz\n",
            "✅ Downloaded: IISC00IND_R_20233030000_01D_30S_MO.crx.gz\n",
            "✅ Downloaded: IISC00IND_R_20233040000_01D_30S_MO.crx.gz\n",
            "✅ Downloaded: IISC00IND_R_20233050000_01D_30S_MO.crx.gz\n",
            "✅ Downloaded: IISC00IND_R_20233060000_01D_30S_MO.crx.gz\n",
            "✅ Downloaded: IISC00IND_R_20233070000_01D_30S_MO.crx.gz\n",
            "✅ Downloaded: IISC00IND_R_20233080000_01D_30S_MO.crx.gz\n",
            "✅ Downloaded: IISC00IND_R_20233090000_01D_30S_MO.crx.gz\n",
            "✅ Downloaded: IISC00IND_R_20233100000_01D_30S_MO.crx.gz\n",
            "✅ Downloaded: IISC00IND_R_20233110000_01D_30S_MO.crx.gz\n",
            "✅ Downloaded: IISC00IND_R_20233120000_01D_30S_MO.crx.gz\n",
            "✅ Downloaded: IISC00IND_R_20233130000_01D_30S_MO.crx.gz\n",
            "✅ Downloaded: IISC00IND_R_20233140000_01D_30S_MO.crx.gz\n",
            "✅ Downloaded: IISC00IND_R_20233150000_01D_30S_MO.crx.gz\n",
            "✅ Downloaded: IISC00IND_R_20233160000_01D_30S_MO.crx.gz\n",
            "✅ Downloaded: IISC00IND_R_20233170000_01D_30S_MO.crx.gz\n",
            "✅ Downloaded: IISC00IND_R_20233180000_01D_30S_MO.crx.gz\n",
            "⚠️ 0B file removed: IISC00IND_R_20233190000_01D_30S_MO.crx.gz\n",
            "🔄 Retrying IISC00IND_R_20233190000_01D_30S_MO.crx.gz (Attempt 2/3)...\n",
            "⚠️ 0B file removed: IISC00IND_R_20233190000_01D_30S_MO.crx.gz\n",
            "🔄 Retrying IISC00IND_R_20233190000_01D_30S_MO.crx.gz (Attempt 3/3)...\n",
            "⚠️ 0B file removed: IISC00IND_R_20233190000_01D_30S_MO.crx.gz\n",
            "🔄 Retrying IISC00IND_R_20233190000_01D_30S_MO.crx.gz (Attempt 4/3)...\n",
            "❌ Failed after 3 attempts: IISC00IND_R_20233190000_01D_30S_MO.crx.gz\n",
            "⚠️ 0B file removed: IISC00IND_R_20233200000_01D_30S_MO.crx.gz\n",
            "🔄 Retrying IISC00IND_R_20233200000_01D_30S_MO.crx.gz (Attempt 2/3)...\n",
            "⚠️ 0B file removed: IISC00IND_R_20233200000_01D_30S_MO.crx.gz\n",
            "🔄 Retrying IISC00IND_R_20233200000_01D_30S_MO.crx.gz (Attempt 3/3)...\n",
            "⚠️ 0B file removed: IISC00IND_R_20233200000_01D_30S_MO.crx.gz\n",
            "🔄 Retrying IISC00IND_R_20233200000_01D_30S_MO.crx.gz (Attempt 4/3)...\n",
            "❌ Failed after 3 attempts: IISC00IND_R_20233200000_01D_30S_MO.crx.gz\n",
            "⚠️ 0B file removed: IISC00IND_R_20233210000_01D_30S_MO.crx.gz\n",
            "🔄 Retrying IISC00IND_R_20233210000_01D_30S_MO.crx.gz (Attempt 2/3)...\n",
            "⚠️ 0B file removed: IISC00IND_R_20233210000_01D_30S_MO.crx.gz\n",
            "🔄 Retrying IISC00IND_R_20233210000_01D_30S_MO.crx.gz (Attempt 3/3)...\n",
            "⚠️ 0B file removed: IISC00IND_R_20233210000_01D_30S_MO.crx.gz\n",
            "🔄 Retrying IISC00IND_R_20233210000_01D_30S_MO.crx.gz (Attempt 4/3)...\n",
            "❌ Failed after 3 attempts: IISC00IND_R_20233210000_01D_30S_MO.crx.gz\n",
            "⚠️ 0B file removed: IISC00IND_R_20233220000_01D_30S_MO.crx.gz\n",
            "🔄 Retrying IISC00IND_R_20233220000_01D_30S_MO.crx.gz (Attempt 2/3)...\n",
            "⚠️ 0B file removed: IISC00IND_R_20233220000_01D_30S_MO.crx.gz\n",
            "🔄 Retrying IISC00IND_R_20233220000_01D_30S_MO.crx.gz (Attempt 3/3)...\n",
            "⚠️ 0B file removed: IISC00IND_R_20233220000_01D_30S_MO.crx.gz\n",
            "🔄 Retrying IISC00IND_R_20233220000_01D_30S_MO.crx.gz (Attempt 4/3)...\n",
            "❌ Failed after 3 attempts: IISC00IND_R_20233220000_01D_30S_MO.crx.gz\n",
            "⚠️ 0B file removed: IISC00IND_R_20233230000_01D_30S_MO.crx.gz\n",
            "🔄 Retrying IISC00IND_R_20233230000_01D_30S_MO.crx.gz (Attempt 2/3)...\n",
            "⚠️ 0B file removed: IISC00IND_R_20233230000_01D_30S_MO.crx.gz\n",
            "🔄 Retrying IISC00IND_R_20233230000_01D_30S_MO.crx.gz (Attempt 3/3)...\n",
            "⚠️ 0B file removed: IISC00IND_R_20233230000_01D_30S_MO.crx.gz\n",
            "🔄 Retrying IISC00IND_R_20233230000_01D_30S_MO.crx.gz (Attempt 4/3)...\n",
            "❌ Failed after 3 attempts: IISC00IND_R_20233230000_01D_30S_MO.crx.gz\n",
            "⚠️ 0B file removed: IISC00IND_R_20233240000_01D_30S_MO.crx.gz\n",
            "🔄 Retrying IISC00IND_R_20233240000_01D_30S_MO.crx.gz (Attempt 2/3)...\n",
            "⚠️ 0B file removed: IISC00IND_R_20233240000_01D_30S_MO.crx.gz\n",
            "🔄 Retrying IISC00IND_R_20233240000_01D_30S_MO.crx.gz (Attempt 3/3)...\n",
            "⚠️ 0B file removed: IISC00IND_R_20233240000_01D_30S_MO.crx.gz\n",
            "🔄 Retrying IISC00IND_R_20233240000_01D_30S_MO.crx.gz (Attempt 4/3)...\n",
            "❌ Failed after 3 attempts: IISC00IND_R_20233240000_01D_30S_MO.crx.gz\n",
            "⚠️ 0B file removed: IISC00IND_R_20233250000_01D_30S_MO.crx.gz\n",
            "🔄 Retrying IISC00IND_R_20233250000_01D_30S_MO.crx.gz (Attempt 2/3)...\n",
            "⚠️ 0B file removed: IISC00IND_R_20233250000_01D_30S_MO.crx.gz\n",
            "🔄 Retrying IISC00IND_R_20233250000_01D_30S_MO.crx.gz (Attempt 3/3)...\n",
            "⚠️ 0B file removed: IISC00IND_R_20233250000_01D_30S_MO.crx.gz\n",
            "🔄 Retrying IISC00IND_R_20233250000_01D_30S_MO.crx.gz (Attempt 4/3)...\n",
            "❌ Failed after 3 attempts: IISC00IND_R_20233250000_01D_30S_MO.crx.gz\n",
            "⚠️ 0B file removed: IISC00IND_R_20233260000_01D_30S_MO.crx.gz\n",
            "🔄 Retrying IISC00IND_R_20233260000_01D_30S_MO.crx.gz (Attempt 2/3)...\n",
            "⚠️ 0B file removed: IISC00IND_R_20233260000_01D_30S_MO.crx.gz\n",
            "🔄 Retrying IISC00IND_R_20233260000_01D_30S_MO.crx.gz (Attempt 3/3)...\n",
            "⚠️ 0B file removed: IISC00IND_R_20233260000_01D_30S_MO.crx.gz\n",
            "🔄 Retrying IISC00IND_R_20233260000_01D_30S_MO.crx.gz (Attempt 4/3)...\n",
            "❌ Failed after 3 attempts: IISC00IND_R_20233260000_01D_30S_MO.crx.gz\n",
            "⚠️ 0B file removed: IISC00IND_R_20233270000_01D_30S_MO.crx.gz\n",
            "🔄 Retrying IISC00IND_R_20233270000_01D_30S_MO.crx.gz (Attempt 2/3)...\n",
            "⚠️ 0B file removed: IISC00IND_R_20233270000_01D_30S_MO.crx.gz\n",
            "🔄 Retrying IISC00IND_R_20233270000_01D_30S_MO.crx.gz (Attempt 3/3)...\n",
            "⚠️ 0B file removed: IISC00IND_R_20233270000_01D_30S_MO.crx.gz\n",
            "🔄 Retrying IISC00IND_R_20233270000_01D_30S_MO.crx.gz (Attempt 4/3)...\n",
            "❌ Failed after 3 attempts: IISC00IND_R_20233270000_01D_30S_MO.crx.gz\n",
            "⚠️ 0B file removed: IISC00IND_R_20233280000_01D_30S_MO.crx.gz\n",
            "🔄 Retrying IISC00IND_R_20233280000_01D_30S_MO.crx.gz (Attempt 2/3)...\n",
            "⚠️ 0B file removed: IISC00IND_R_20233280000_01D_30S_MO.crx.gz\n",
            "🔄 Retrying IISC00IND_R_20233280000_01D_30S_MO.crx.gz (Attempt 3/3)...\n",
            "⚠️ 0B file removed: IISC00IND_R_20233280000_01D_30S_MO.crx.gz\n",
            "🔄 Retrying IISC00IND_R_20233280000_01D_30S_MO.crx.gz (Attempt 4/3)...\n",
            "❌ Failed after 3 attempts: IISC00IND_R_20233280000_01D_30S_MO.crx.gz\n",
            "✅ Downloaded: IISC00IND_R_20233290000_01D_30S_MO.crx.gz\n",
            "✅ Downloaded: IISC00IND_R_20233300000_01D_30S_MO.crx.gz\n",
            "✅ Downloaded: IISC00IND_R_20233310000_01D_30S_MO.crx.gz\n",
            "✅ Downloaded: IISC00IND_R_20233320000_01D_30S_MO.crx.gz\n",
            "✅ Downloaded: IISC00IND_R_20233330000_01D_30S_MO.crx.gz\n",
            "✅ Downloaded: IISC00IND_R_20233340000_01D_30S_MO.crx.gz\n",
            "✅ Downloaded: IISC00IND_R_20233350000_01D_30S_MO.crx.gz\n",
            "✅ Downloaded: IISC00IND_R_20233360000_01D_30S_MO.crx.gz\n",
            "✅ Downloaded: IISC00IND_R_20233370000_01D_30S_MO.crx.gz\n",
            "✅ Downloaded: IISC00IND_R_20233380000_01D_30S_MO.crx.gz\n",
            "✅ Downloaded: IISC00IND_R_20233390000_01D_30S_MO.crx.gz\n",
            "✅ Downloaded: IISC00IND_R_20233400000_01D_30S_MO.crx.gz\n",
            "✅ Downloaded: IISC00IND_R_20233410000_01D_30S_MO.crx.gz\n",
            "✅ Downloaded: IISC00IND_R_20233420000_01D_30S_MO.crx.gz\n",
            "✅ Downloaded: IISC00IND_R_20233430000_01D_30S_MO.crx.gz\n",
            "✅ Downloaded: IISC00IND_R_20233440000_01D_30S_MO.crx.gz\n",
            "✅ Downloaded: IISC00IND_R_20233450000_01D_30S_MO.crx.gz\n",
            "✅ Downloaded: IISC00IND_R_20233460000_01D_30S_MO.crx.gz\n",
            "✅ Downloaded: IISC00IND_R_20233470000_01D_30S_MO.crx.gz\n",
            "✅ Downloaded: IISC00IND_R_20233480000_01D_30S_MO.crx.gz\n",
            "✅ Downloaded: IISC00IND_R_20233490000_01D_30S_MO.crx.gz\n",
            "✅ Downloaded: IISC00IND_R_20233500000_01D_30S_MO.crx.gz\n",
            "✅ Downloaded: IISC00IND_R_20233510000_01D_30S_MO.crx.gz\n",
            "✅ Downloaded: IISC00IND_R_20233520000_01D_30S_MO.crx.gz\n",
            "✅ Downloaded: IISC00IND_R_20233530000_01D_30S_MO.crx.gz\n",
            "✅ Downloaded: IISC00IND_R_20233540000_01D_30S_MO.crx.gz\n",
            "⚠️ 0B file removed: IISC00IND_R_20233550000_01D_30S_MO.crx.gz\n",
            "🔄 Retrying IISC00IND_R_20233550000_01D_30S_MO.crx.gz (Attempt 2/3)...\n",
            "⚠️ 0B file removed: IISC00IND_R_20233550000_01D_30S_MO.crx.gz\n",
            "🔄 Retrying IISC00IND_R_20233550000_01D_30S_MO.crx.gz (Attempt 3/3)...\n",
            "⚠️ 0B file removed: IISC00IND_R_20233550000_01D_30S_MO.crx.gz\n",
            "🔄 Retrying IISC00IND_R_20233550000_01D_30S_MO.crx.gz (Attempt 4/3)...\n",
            "❌ Failed after 3 attempts: IISC00IND_R_20233550000_01D_30S_MO.crx.gz\n",
            "✅ Downloaded: IISC00IND_R_20233560000_01D_30S_MO.crx.gz\n",
            "✅ Downloaded: IISC00IND_R_20233570000_01D_30S_MO.crx.gz\n",
            "✅ Downloaded: IISC00IND_R_20233580000_01D_30S_MO.crx.gz\n",
            "✅ Downloaded: IISC00IND_R_20233590000_01D_30S_MO.crx.gz\n",
            "✅ Downloaded: IISC00IND_R_20233600000_01D_30S_MO.crx.gz\n",
            "✅ Downloaded: IISC00IND_R_20233610000_01D_30S_MO.crx.gz\n",
            "✅ Downloaded: IISC00IND_R_20233620000_01D_30S_MO.crx.gz\n",
            "✅ Downloaded: IISC00IND_R_20233630000_01D_30S_MO.crx.gz\n",
            "✅ Downloaded: IISC00IND_R_20233640000_01D_30S_MO.crx.gz\n",
            "✅ Downloaded: IISC00IND_R_20233650000_01D_30S_MO.crx.gz\n",
            "✅ Downloaded: IISC00IND_R_20240010000_01D_30S_MO.crx.gz\n",
            "✅ Downloaded: IISC00IND_R_20240020000_01D_30S_MO.crx.gz\n",
            "✅ Downloaded: IISC00IND_R_20240030000_01D_30S_MO.crx.gz\n",
            "✅ Downloaded: IISC00IND_R_20240040000_01D_30S_MO.crx.gz\n",
            "✅ Downloaded: IISC00IND_R_20240050000_01D_30S_MO.crx.gz\n",
            "✅ Downloaded: IISC00IND_R_20240060000_01D_30S_MO.crx.gz\n",
            "✅ Downloaded: IISC00IND_R_20240070000_01D_30S_MO.crx.gz\n",
            "✅ Downloaded: IISC00IND_R_20240080000_01D_30S_MO.crx.gz\n",
            "✅ Downloaded: IISC00IND_R_20240090000_01D_30S_MO.crx.gz\n",
            "✅ Downloaded: IISC00IND_R_20240100000_01D_30S_MO.crx.gz\n",
            "✅ Downloaded: IISC00IND_R_20240110000_01D_30S_MO.crx.gz\n",
            "✅ Downloaded: IISC00IND_R_20240120000_01D_30S_MO.crx.gz\n",
            "✅ Downloaded: IISC00IND_R_20240130000_01D_30S_MO.crx.gz\n",
            "✅ Downloaded: IISC00IND_R_20240140000_01D_30S_MO.crx.gz\n",
            "✅ Downloaded: IISC00IND_R_20240150000_01D_30S_MO.crx.gz\n",
            "✅ Downloaded: IISC00IND_R_20240160000_01D_30S_MO.crx.gz\n",
            "✅ Downloaded: IISC00IND_R_20240170000_01D_30S_MO.crx.gz\n",
            "✅ Downloaded: IISC00IND_R_20240180000_01D_30S_MO.crx.gz\n",
            "✅ Downloaded: IISC00IND_R_20240190000_01D_30S_MO.crx.gz\n",
            "✅ Downloaded: IISC00IND_R_20240200000_01D_30S_MO.crx.gz\n",
            "✅ Downloaded: IISC00IND_R_20240210000_01D_30S_MO.crx.gz\n",
            "✅ Downloaded: IISC00IND_R_20240220000_01D_30S_MO.crx.gz\n",
            "✅ Downloaded: IISC00IND_R_20240230000_01D_30S_MO.crx.gz\n",
            "✅ Downloaded: IISC00IND_R_20240240000_01D_30S_MO.crx.gz\n",
            "✅ Downloaded: IISC00IND_R_20240250000_01D_30S_MO.crx.gz\n",
            "✅ Downloaded: IISC00IND_R_20240260000_01D_30S_MO.crx.gz\n",
            "✅ Downloaded: IISC00IND_R_20240270000_01D_30S_MO.crx.gz\n",
            "✅ Downloaded: IISC00IND_R_20240280000_01D_30S_MO.crx.gz\n",
            "✅ Downloaded: IISC00IND_R_20240290000_01D_30S_MO.crx.gz\n",
            "✅ Downloaded: IISC00IND_R_20240300000_01D_30S_MO.crx.gz\n",
            "✅ Downloaded: IISC00IND_R_20240310000_01D_30S_MO.crx.gz\n",
            "✅ Downloaded: IISC00IND_R_20240320000_01D_30S_MO.crx.gz\n",
            "✅ Downloaded: IISC00IND_R_20240330000_01D_30S_MO.crx.gz\n",
            "✅ Downloaded: IISC00IND_R_20240340000_01D_30S_MO.crx.gz\n",
            "✅ Downloaded: IISC00IND_R_20240350000_01D_30S_MO.crx.gz\n",
            "✅ Downloaded: IISC00IND_R_20240360000_01D_30S_MO.crx.gz\n",
            "✅ Downloaded: IISC00IND_R_20240370000_01D_30S_MO.crx.gz\n",
            "✅ Downloaded: IISC00IND_R_20240380000_01D_30S_MO.crx.gz\n",
            "✅ Downloaded: IISC00IND_R_20240390000_01D_30S_MO.crx.gz\n",
            "✅ Downloaded: IISC00IND_R_20240400000_01D_30S_MO.crx.gz\n",
            "✅ Downloaded: IISC00IND_R_20240410000_01D_30S_MO.crx.gz\n",
            "✅ Downloaded: IISC00IND_R_20240420000_01D_30S_MO.crx.gz\n",
            "✅ Downloaded: IISC00IND_R_20240430000_01D_30S_MO.crx.gz\n",
            "✅ Downloaded: IISC00IND_R_20240440000_01D_30S_MO.crx.gz\n",
            "✅ Downloaded: IISC00IND_R_20240450000_01D_30S_MO.crx.gz\n",
            "✅ Downloaded: IISC00IND_R_20240460000_01D_30S_MO.crx.gz\n",
            "✅ Downloaded: IISC00IND_R_20240470000_01D_30S_MO.crx.gz\n",
            "✅ Downloaded: IISC00IND_R_20240480000_01D_30S_MO.crx.gz\n",
            "✅ Downloaded: IISC00IND_R_20240490000_01D_30S_MO.crx.gz\n",
            "✅ Downloaded: IISC00IND_R_20240500000_01D_30S_MO.crx.gz\n",
            "✅ Downloaded: IISC00IND_R_20240510000_01D_30S_MO.crx.gz\n",
            "✅ Downloaded: IISC00IND_R_20240520000_01D_30S_MO.crx.gz\n",
            "✅ Downloaded: IISC00IND_R_20240530000_01D_30S_MO.crx.gz\n",
            "✅ Downloaded: IISC00IND_R_20240540000_01D_30S_MO.crx.gz\n",
            "✅ Downloaded: IISC00IND_R_20240550000_01D_30S_MO.crx.gz\n",
            "✅ Downloaded: IISC00IND_R_20240560000_01D_30S_MO.crx.gz\n",
            "✅ Downloaded: IISC00IND_R_20240570000_01D_30S_MO.crx.gz\n",
            "✅ Downloaded: IISC00IND_R_20240580000_01D_30S_MO.crx.gz\n",
            "✅ Downloaded: IISC00IND_R_20240590000_01D_30S_MO.crx.gz\n",
            "✅ Downloaded: IISC00IND_R_20240600000_01D_30S_MO.crx.gz\n",
            "✅ Downloaded: IISC00IND_R_20240610000_01D_30S_MO.crx.gz\n",
            "✅ Downloaded: IISC00IND_R_20240620000_01D_30S_MO.crx.gz\n",
            "✅ Downloaded: IISC00IND_R_20240630000_01D_30S_MO.crx.gz\n",
            "✅ Downloaded: IISC00IND_R_20240640000_01D_30S_MO.crx.gz\n",
            "✅ Downloaded: IISC00IND_R_20240650000_01D_30S_MO.crx.gz\n",
            "✅ Downloaded: IISC00IND_R_20240660000_01D_30S_MO.crx.gz\n",
            "✅ Downloaded: IISC00IND_R_20240670000_01D_30S_MO.crx.gz\n",
            "✅ Downloaded: IISC00IND_R_20240680000_01D_30S_MO.crx.gz\n",
            "✅ Downloaded: IISC00IND_R_20240690000_01D_30S_MO.crx.gz\n",
            "✅ Downloaded: IISC00IND_R_20240700000_01D_30S_MO.crx.gz\n",
            "✅ Downloaded: IISC00IND_R_20240710000_01D_30S_MO.crx.gz\n",
            "✅ Downloaded: IISC00IND_R_20240720000_01D_30S_MO.crx.gz\n",
            "✅ Downloaded: IISC00IND_R_20240730000_01D_30S_MO.crx.gz\n",
            "✅ Downloaded: IISC00IND_R_20240740000_01D_30S_MO.crx.gz\n",
            "✅ Downloaded: IISC00IND_R_20240750000_01D_30S_MO.crx.gz\n",
            "✅ Downloaded: IISC00IND_R_20240760000_01D_30S_MO.crx.gz\n",
            "✅ Downloaded: IISC00IND_R_20240770000_01D_30S_MO.crx.gz\n",
            "✅ Downloaded: IISC00IND_R_20240780000_01D_30S_MO.crx.gz\n",
            "✅ Downloaded: IISC00IND_R_20240790000_01D_30S_MO.crx.gz\n",
            "✅ Downloaded: IISC00IND_R_20240800000_01D_30S_MO.crx.gz\n",
            "✅ Downloaded: IISC00IND_R_20240810000_01D_30S_MO.crx.gz\n",
            "✅ Downloaded: IISC00IND_R_20240820000_01D_30S_MO.crx.gz\n",
            "✅ Downloaded: IISC00IND_R_20240830000_01D_30S_MO.crx.gz\n",
            "✅ Downloaded: IISC00IND_R_20240840000_01D_30S_MO.crx.gz\n",
            "✅ Downloaded: IISC00IND_R_20240850000_01D_30S_MO.crx.gz\n",
            "✅ Downloaded: IISC00IND_R_20240860000_01D_30S_MO.crx.gz\n",
            "✅ Downloaded: IISC00IND_R_20240870000_01D_30S_MO.crx.gz\n",
            "✅ Downloaded: IISC00IND_R_20240880000_01D_30S_MO.crx.gz\n",
            "✅ Downloaded: IISC00IND_R_20240890000_01D_30S_MO.crx.gz\n",
            "✅ Downloaded: IISC00IND_R_20240900000_01D_30S_MO.crx.gz\n",
            "✅ Downloaded: IISC00IND_R_20240910000_01D_30S_MO.crx.gz\n",
            "✅ Downloaded: IISC00IND_R_20240920000_01D_30S_MO.crx.gz\n",
            "✅ Downloaded: IISC00IND_R_20240930000_01D_30S_MO.crx.gz\n",
            "✅ Downloaded: IISC00IND_R_20240940000_01D_30S_MO.crx.gz\n",
            "✅ Downloaded: IISC00IND_R_20240950000_01D_30S_MO.crx.gz\n",
            "✅ Downloaded: IISC00IND_R_20240960000_01D_30S_MO.crx.gz\n",
            "✅ Downloaded: IISC00IND_R_20240970000_01D_30S_MO.crx.gz\n",
            "✅ Downloaded: IISC00IND_R_20240980000_01D_30S_MO.crx.gz\n",
            "✅ Downloaded: IISC00IND_R_20240990000_01D_30S_MO.crx.gz\n",
            "✅ Downloaded: IISC00IND_R_20241000000_01D_30S_MO.crx.gz\n",
            "✅ Downloaded: IISC00IND_R_20241010000_01D_30S_MO.crx.gz\n",
            "✅ Downloaded: IISC00IND_R_20241020000_01D_30S_MO.crx.gz\n",
            "✅ Downloaded: IISC00IND_R_20241030000_01D_30S_MO.crx.gz\n",
            "✅ Downloaded: IISC00IND_R_20241040000_01D_30S_MO.crx.gz\n",
            "✅ Downloaded: IISC00IND_R_20241050000_01D_30S_MO.crx.gz\n",
            "✅ Downloaded: IISC00IND_R_20241060000_01D_30S_MO.crx.gz\n",
            "✅ Downloaded: IISC00IND_R_20241070000_01D_30S_MO.crx.gz\n",
            "✅ Downloaded: IISC00IND_R_20241080000_01D_30S_MO.crx.gz\n",
            "✅ Downloaded: IISC00IND_R_20241090000_01D_30S_MO.crx.gz\n",
            "✅ Downloaded: IISC00IND_R_20241100000_01D_30S_MO.crx.gz\n",
            "✅ Downloaded: IISC00IND_R_20241110000_01D_30S_MO.crx.gz\n",
            "✅ Downloaded: IISC00IND_R_20241120000_01D_30S_MO.crx.gz\n",
            "✅ Downloaded: IISC00IND_R_20241130000_01D_30S_MO.crx.gz\n",
            "✅ Downloaded: IISC00IND_R_20241140000_01D_30S_MO.crx.gz\n",
            "✅ Downloaded: IISC00IND_R_20241150000_01D_30S_MO.crx.gz\n",
            "✅ Downloaded: IISC00IND_R_20241160000_01D_30S_MO.crx.gz\n",
            "✅ Downloaded: IISC00IND_R_20241170000_01D_30S_MO.crx.gz\n",
            "✅ Downloaded: IISC00IND_R_20241180000_01D_30S_MO.crx.gz\n",
            "✅ Downloaded: IISC00IND_R_20241190000_01D_30S_MO.crx.gz\n",
            "✅ Downloaded: IISC00IND_R_20241200000_01D_30S_MO.crx.gz\n",
            "✅ Downloaded: IISC00IND_R_20241210000_01D_30S_MO.crx.gz\n",
            "✅ Downloaded: IISC00IND_R_20241220000_01D_30S_MO.crx.gz\n",
            "✅ Downloaded: IISC00IND_R_20241230000_01D_30S_MO.crx.gz\n",
            "✅ Downloaded: IISC00IND_R_20241240000_01D_30S_MO.crx.gz\n",
            "✅ Downloaded: IISC00IND_R_20241250000_01D_30S_MO.crx.gz\n",
            "✅ Downloaded: IISC00IND_R_20241260000_01D_30S_MO.crx.gz\n",
            "✅ Downloaded: IISC00IND_R_20241270000_01D_30S_MO.crx.gz\n",
            "✅ Downloaded: IISC00IND_R_20241280000_01D_30S_MO.crx.gz\n",
            "✅ Downloaded: IISC00IND_R_20241290000_01D_30S_MO.crx.gz\n",
            "✅ Downloaded: IISC00IND_R_20241300000_01D_30S_MO.crx.gz\n",
            "✅ Downloaded: IISC00IND_R_20241310000_01D_30S_MO.crx.gz\n",
            "✅ Downloaded: IISC00IND_R_20241320000_01D_30S_MO.crx.gz\n",
            "✅ Downloaded: IISC00IND_R_20241330000_01D_30S_MO.crx.gz\n",
            "✅ Downloaded: IISC00IND_R_20241340000_01D_30S_MO.crx.gz\n",
            "✅ Downloaded: IISC00IND_R_20241350000_01D_30S_MO.crx.gz\n",
            "✅ Downloaded: IISC00IND_R_20241360000_01D_30S_MO.crx.gz\n",
            "✅ Downloaded: IISC00IND_R_20241370000_01D_30S_MO.crx.gz\n",
            "✅ Downloaded: IISC00IND_R_20241380000_01D_30S_MO.crx.gz\n",
            "✅ Downloaded: IISC00IND_R_20241390000_01D_30S_MO.crx.gz\n",
            "✅ Downloaded: IISC00IND_R_20241400000_01D_30S_MO.crx.gz\n",
            "✅ Downloaded: IISC00IND_R_20241410000_01D_30S_MO.crx.gz\n",
            "✅ Downloaded: IISC00IND_R_20241420000_01D_30S_MO.crx.gz\n",
            "✅ Downloaded: IISC00IND_R_20241430000_01D_30S_MO.crx.gz\n",
            "✅ Downloaded: IISC00IND_R_20241440000_01D_30S_MO.crx.gz\n",
            "✅ Downloaded: IISC00IND_R_20241450000_01D_30S_MO.crx.gz\n",
            "✅ Downloaded: IISC00IND_R_20241460000_01D_30S_MO.crx.gz\n",
            "✅ Downloaded: IISC00IND_R_20241470000_01D_30S_MO.crx.gz\n",
            "✅ Downloaded: IISC00IND_R_20241480000_01D_30S_MO.crx.gz\n",
            "✅ Downloaded: IISC00IND_R_20241490000_01D_30S_MO.crx.gz\n",
            "✅ Downloaded: IISC00IND_R_20241500000_01D_30S_MO.crx.gz\n",
            "✅ Downloaded: IISC00IND_R_20241510000_01D_30S_MO.crx.gz\n",
            "✅ Downloaded: IISC00IND_R_20241520000_01D_30S_MO.crx.gz\n",
            "✅ Downloaded: IISC00IND_R_20241530000_01D_30S_MO.crx.gz\n",
            "✅ Downloaded: IISC00IND_R_20241540000_01D_30S_MO.crx.gz\n",
            "✅ Downloaded: IISC00IND_R_20241550000_01D_30S_MO.crx.gz\n",
            "✅ Downloaded: IISC00IND_R_20241560000_01D_30S_MO.crx.gz\n",
            "✅ Downloaded: IISC00IND_R_20241570000_01D_30S_MO.crx.gz\n",
            "✅ Downloaded: IISC00IND_R_20241580000_01D_30S_MO.crx.gz\n",
            "✅ Downloaded: IISC00IND_R_20241590000_01D_30S_MO.crx.gz\n",
            "✅ Downloaded: IISC00IND_R_20241600000_01D_30S_MO.crx.gz\n",
            "✅ Downloaded: IISC00IND_R_20241610000_01D_30S_MO.crx.gz\n",
            "✅ Downloaded: IISC00IND_R_20241620000_01D_30S_MO.crx.gz\n",
            "✅ Downloaded: IISC00IND_R_20241630000_01D_30S_MO.crx.gz\n",
            "✅ Downloaded: IISC00IND_R_20241640000_01D_30S_MO.crx.gz\n",
            "✅ Downloaded: IISC00IND_R_20241650000_01D_30S_MO.crx.gz\n",
            "✅ Downloaded: IISC00IND_R_20241660000_01D_30S_MO.crx.gz\n",
            "✅ Downloaded: IISC00IND_R_20241670000_01D_30S_MO.crx.gz\n",
            "✅ Downloaded: IISC00IND_R_20241680000_01D_30S_MO.crx.gz\n",
            "✅ Downloaded: IISC00IND_R_20241690000_01D_30S_MO.crx.gz\n",
            "✅ Downloaded: IISC00IND_R_20241700000_01D_30S_MO.crx.gz\n",
            "✅ Downloaded: IISC00IND_R_20241710000_01D_30S_MO.crx.gz\n",
            "✅ Downloaded: IISC00IND_R_20241720000_01D_30S_MO.crx.gz\n",
            "✅ Downloaded: IISC00IND_R_20241730000_01D_30S_MO.crx.gz\n",
            "✅ Downloaded: IISC00IND_R_20241740000_01D_30S_MO.crx.gz\n",
            "✅ Downloaded: IISC00IND_R_20241750000_01D_30S_MO.crx.gz\n",
            "✅ Downloaded: IISC00IND_R_20241760000_01D_30S_MO.crx.gz\n",
            "✅ Downloaded: IISC00IND_R_20241770000_01D_30S_MO.crx.gz\n",
            "✅ Downloaded: IISC00IND_R_20241780000_01D_30S_MO.crx.gz\n",
            "✅ Downloaded: IISC00IND_R_20241790000_01D_30S_MO.crx.gz\n",
            "✅ Downloaded: IISC00IND_R_20241800000_01D_30S_MO.crx.gz\n",
            "✅ Downloaded: IISC00IND_R_20241810000_01D_30S_MO.crx.gz\n",
            "✅ Downloaded: IISC00IND_R_20241820000_01D_30S_MO.crx.gz\n",
            "✅ Downloaded: IISC00IND_R_20241830000_01D_30S_MO.crx.gz\n",
            "✅ Downloaded: IISC00IND_R_20241840000_01D_30S_MO.crx.gz\n",
            "✅ Downloaded: IISC00IND_R_20241850000_01D_30S_MO.crx.gz\n",
            "✅ Downloaded: IISC00IND_R_20241860000_01D_30S_MO.crx.gz\n",
            "✅ Downloaded: IISC00IND_R_20241870000_01D_30S_MO.crx.gz\n",
            "✅ Downloaded: IISC00IND_R_20241880000_01D_30S_MO.crx.gz\n",
            "✅ Downloaded: IISC00IND_R_20241890000_01D_30S_MO.crx.gz\n",
            "✅ Downloaded: IISC00IND_R_20241900000_01D_30S_MO.crx.gz\n",
            "✅ Downloaded: IISC00IND_R_20241910000_01D_30S_MO.crx.gz\n",
            "✅ Downloaded: IISC00IND_R_20241920000_01D_30S_MO.crx.gz\n",
            "✅ Downloaded: IISC00IND_R_20241930000_01D_30S_MO.crx.gz\n",
            "✅ Downloaded: IISC00IND_R_20241940000_01D_30S_MO.crx.gz\n",
            "✅ Downloaded: IISC00IND_R_20241950000_01D_30S_MO.crx.gz\n",
            "✅ Downloaded: IISC00IND_R_20241960000_01D_30S_MO.crx.gz\n",
            "✅ Downloaded: IISC00IND_R_20241970000_01D_30S_MO.crx.gz\n",
            "✅ Downloaded: IISC00IND_R_20241980000_01D_30S_MO.crx.gz\n",
            "✅ Downloaded: IISC00IND_R_20241990000_01D_30S_MO.crx.gz\n",
            "✅ Downloaded: IISC00IND_R_20242000000_01D_30S_MO.crx.gz\n",
            "✅ Downloaded: IISC00IND_R_20242010000_01D_30S_MO.crx.gz\n",
            "✅ Downloaded: IISC00IND_R_20242020000_01D_30S_MO.crx.gz\n",
            "✅ Downloaded: IISC00IND_R_20242030000_01D_30S_MO.crx.gz\n",
            "✅ Downloaded: IISC00IND_R_20242040000_01D_30S_MO.crx.gz\n",
            "✅ Downloaded: IISC00IND_R_20242050000_01D_30S_MO.crx.gz\n",
            "✅ Downloaded: IISC00IND_R_20242060000_01D_30S_MO.crx.gz\n",
            "✅ Downloaded: IISC00IND_R_20242070000_01D_30S_MO.crx.gz\n",
            "✅ Downloaded: IISC00IND_R_20242080000_01D_30S_MO.crx.gz\n",
            "✅ Downloaded: IISC00IND_R_20242090000_01D_30S_MO.crx.gz\n",
            "✅ Downloaded: IISC00IND_R_20242100000_01D_30S_MO.crx.gz\n",
            "✅ Downloaded: IISC00IND_R_20242110000_01D_30S_MO.crx.gz\n",
            "✅ Downloaded: IISC00IND_R_20242120000_01D_30S_MO.crx.gz\n",
            "✅ Downloaded: IISC00IND_R_20242130000_01D_30S_MO.crx.gz\n",
            "✅ Downloaded: IISC00IND_R_20242140000_01D_30S_MO.crx.gz\n",
            "✅ Downloaded: IISC00IND_R_20242150000_01D_30S_MO.crx.gz\n",
            "✅ Downloaded: IISC00IND_R_20242160000_01D_30S_MO.crx.gz\n",
            "✅ Downloaded: IISC00IND_R_20242170000_01D_30S_MO.crx.gz\n",
            "✅ Downloaded: IISC00IND_R_20242180000_01D_30S_MO.crx.gz\n",
            "✅ Downloaded: IISC00IND_R_20242190000_01D_30S_MO.crx.gz\n",
            "✅ Downloaded: IISC00IND_R_20242200000_01D_30S_MO.crx.gz\n",
            "✅ Downloaded: IISC00IND_R_20242210000_01D_30S_MO.crx.gz\n",
            "✅ Downloaded: IISC00IND_R_20242220000_01D_30S_MO.crx.gz\n",
            "✅ Downloaded: IISC00IND_R_20242230000_01D_30S_MO.crx.gz\n",
            "✅ Downloaded: IISC00IND_R_20242240000_01D_30S_MO.crx.gz\n",
            "✅ Downloaded: IISC00IND_R_20242250000_01D_30S_MO.crx.gz\n",
            "✅ Downloaded: IISC00IND_R_20242260000_01D_30S_MO.crx.gz\n",
            "✅ Downloaded: IISC00IND_R_20242270000_01D_30S_MO.crx.gz\n",
            "✅ Downloaded: IISC00IND_R_20242280000_01D_30S_MO.crx.gz\n",
            "✅ Downloaded: IISC00IND_R_20242290000_01D_30S_MO.crx.gz\n",
            "✅ Downloaded: IISC00IND_R_20242300000_01D_30S_MO.crx.gz\n",
            "✅ Downloaded: IISC00IND_R_20242310000_01D_30S_MO.crx.gz\n",
            "✅ Downloaded: IISC00IND_R_20242320000_01D_30S_MO.crx.gz\n",
            "⚠️ 0B file removed: IISC00IND_R_20242330000_01D_30S_MO.crx.gz\n",
            "🔄 Retrying IISC00IND_R_20242330000_01D_30S_MO.crx.gz (Attempt 2/3)...\n",
            "⚠️ 0B file removed: IISC00IND_R_20242330000_01D_30S_MO.crx.gz\n",
            "🔄 Retrying IISC00IND_R_20242330000_01D_30S_MO.crx.gz (Attempt 3/3)...\n",
            "⚠️ 0B file removed: IISC00IND_R_20242330000_01D_30S_MO.crx.gz\n",
            "🔄 Retrying IISC00IND_R_20242330000_01D_30S_MO.crx.gz (Attempt 4/3)...\n",
            "❌ Failed after 3 attempts: IISC00IND_R_20242330000_01D_30S_MO.crx.gz\n",
            "⚠️ 0B file removed: IISC00IND_R_20242340000_01D_30S_MO.crx.gz\n",
            "🔄 Retrying IISC00IND_R_20242340000_01D_30S_MO.crx.gz (Attempt 2/3)...\n",
            "⚠️ 0B file removed: IISC00IND_R_20242340000_01D_30S_MO.crx.gz\n",
            "🔄 Retrying IISC00IND_R_20242340000_01D_30S_MO.crx.gz (Attempt 3/3)...\n",
            "⚠️ 0B file removed: IISC00IND_R_20242340000_01D_30S_MO.crx.gz\n",
            "🔄 Retrying IISC00IND_R_20242340000_01D_30S_MO.crx.gz (Attempt 4/3)...\n",
            "❌ Failed after 3 attempts: IISC00IND_R_20242340000_01D_30S_MO.crx.gz\n",
            "✅ Downloaded: IISC00IND_R_20242350000_01D_30S_MO.crx.gz\n",
            "✅ Downloaded: IISC00IND_R_20242360000_01D_30S_MO.crx.gz\n",
            "✅ Downloaded: IISC00IND_R_20242370000_01D_30S_MO.crx.gz\n",
            "✅ Downloaded: IISC00IND_R_20242380000_01D_30S_MO.crx.gz\n",
            "✅ Downloaded: IISC00IND_R_20242390000_01D_30S_MO.crx.gz\n",
            "✅ Downloaded: IISC00IND_R_20242400000_01D_30S_MO.crx.gz\n",
            "✅ Downloaded: IISC00IND_R_20242410000_01D_30S_MO.crx.gz\n",
            "✅ Downloaded: IISC00IND_R_20242420000_01D_30S_MO.crx.gz\n",
            "✅ Downloaded: IISC00IND_R_20242430000_01D_30S_MO.crx.gz\n",
            "✅ Downloaded: IISC00IND_R_20242440000_01D_30S_MO.crx.gz\n",
            "✅ Downloaded: IISC00IND_R_20242450000_01D_30S_MO.crx.gz\n",
            "✅ Downloaded: IISC00IND_R_20242460000_01D_30S_MO.crx.gz\n",
            "✅ Downloaded: IISC00IND_R_20242470000_01D_30S_MO.crx.gz\n",
            "✅ Downloaded: IISC00IND_R_20242480000_01D_30S_MO.crx.gz\n",
            "✅ Downloaded: IISC00IND_R_20242490000_01D_30S_MO.crx.gz\n",
            "✅ Downloaded: IISC00IND_R_20242500000_01D_30S_MO.crx.gz\n",
            "✅ Downloaded: IISC00IND_R_20242510000_01D_30S_MO.crx.gz\n",
            "✅ Downloaded: IISC00IND_R_20242520000_01D_30S_MO.crx.gz\n",
            "✅ Downloaded: IISC00IND_R_20242530000_01D_30S_MO.crx.gz\n",
            "✅ Downloaded: IISC00IND_R_20242540000_01D_30S_MO.crx.gz\n",
            "✅ Downloaded: IISC00IND_R_20242550000_01D_30S_MO.crx.gz\n",
            "✅ Downloaded: IISC00IND_R_20242560000_01D_30S_MO.crx.gz\n",
            "✅ Downloaded: IISC00IND_R_20242570000_01D_30S_MO.crx.gz\n",
            "✅ Downloaded: IISC00IND_R_20242580000_01D_30S_MO.crx.gz\n",
            "✅ Downloaded: IISC00IND_R_20242590000_01D_30S_MO.crx.gz\n",
            "✅ Downloaded: IISC00IND_R_20242600000_01D_30S_MO.crx.gz\n",
            "✅ Downloaded: IISC00IND_R_20242610000_01D_30S_MO.crx.gz\n",
            "✅ Downloaded: IISC00IND_R_20242620000_01D_30S_MO.crx.gz\n",
            "✅ Downloaded: IISC00IND_R_20242630000_01D_30S_MO.crx.gz\n",
            "✅ Downloaded: IISC00IND_R_20242640000_01D_30S_MO.crx.gz\n",
            "✅ Downloaded: IISC00IND_R_20242650000_01D_30S_MO.crx.gz\n",
            "✅ Downloaded: IISC00IND_R_20242660000_01D_30S_MO.crx.gz\n",
            "✅ Downloaded: IISC00IND_R_20242670000_01D_30S_MO.crx.gz\n",
            "✅ Downloaded: IISC00IND_R_20242680000_01D_30S_MO.crx.gz\n",
            "⚠️ 0B file removed: IISC00IND_R_20242690000_01D_30S_MO.crx.gz\n",
            "🔄 Retrying IISC00IND_R_20242690000_01D_30S_MO.crx.gz (Attempt 2/3)...\n",
            "⚠️ 0B file removed: IISC00IND_R_20242690000_01D_30S_MO.crx.gz\n",
            "🔄 Retrying IISC00IND_R_20242690000_01D_30S_MO.crx.gz (Attempt 3/3)...\n",
            "⚠️ 0B file removed: IISC00IND_R_20242690000_01D_30S_MO.crx.gz\n",
            "🔄 Retrying IISC00IND_R_20242690000_01D_30S_MO.crx.gz (Attempt 4/3)...\n",
            "❌ Failed after 3 attempts: IISC00IND_R_20242690000_01D_30S_MO.crx.gz\n",
            "⚠️ 0B file removed: IISC00IND_R_20242700000_01D_30S_MO.crx.gz\n",
            "🔄 Retrying IISC00IND_R_20242700000_01D_30S_MO.crx.gz (Attempt 2/3)...\n",
            "⚠️ 0B file removed: IISC00IND_R_20242700000_01D_30S_MO.crx.gz\n",
            "🔄 Retrying IISC00IND_R_20242700000_01D_30S_MO.crx.gz (Attempt 3/3)...\n",
            "⚠️ 0B file removed: IISC00IND_R_20242700000_01D_30S_MO.crx.gz\n",
            "🔄 Retrying IISC00IND_R_20242700000_01D_30S_MO.crx.gz (Attempt 4/3)...\n",
            "❌ Failed after 3 attempts: IISC00IND_R_20242700000_01D_30S_MO.crx.gz\n",
            "✅ Downloaded: IISC00IND_R_20242710000_01D_30S_MO.crx.gz\n",
            "✅ Downloaded: IISC00IND_R_20242720000_01D_30S_MO.crx.gz\n",
            "✅ Downloaded: IISC00IND_R_20242730000_01D_30S_MO.crx.gz\n",
            "✅ Downloaded: IISC00IND_R_20242740000_01D_30S_MO.crx.gz\n",
            "✅ Downloaded: IISC00IND_R_20242750000_01D_30S_MO.crx.gz\n",
            "✅ Downloaded: IISC00IND_R_20242760000_01D_30S_MO.crx.gz\n",
            "✅ Downloaded: IISC00IND_R_20242770000_01D_30S_MO.crx.gz\n",
            "✅ Downloaded: IISC00IND_R_20242780000_01D_30S_MO.crx.gz\n",
            "✅ Downloaded: IISC00IND_R_20242790000_01D_30S_MO.crx.gz\n",
            "✅ Downloaded: IISC00IND_R_20242800000_01D_30S_MO.crx.gz\n",
            "✅ Downloaded: IISC00IND_R_20242810000_01D_30S_MO.crx.gz\n",
            "✅ Downloaded: IISC00IND_R_20242820000_01D_30S_MO.crx.gz\n",
            "✅ Downloaded: IISC00IND_R_20242830000_01D_30S_MO.crx.gz\n",
            "✅ Downloaded: IISC00IND_R_20242840000_01D_30S_MO.crx.gz\n",
            "✅ Downloaded: IISC00IND_R_20242850000_01D_30S_MO.crx.gz\n",
            "✅ Downloaded: IISC00IND_R_20242860000_01D_30S_MO.crx.gz\n",
            "✅ Downloaded: IISC00IND_R_20242870000_01D_30S_MO.crx.gz\n",
            "✅ Downloaded: IISC00IND_R_20242880000_01D_30S_MO.crx.gz\n",
            "✅ Downloaded: IISC00IND_R_20242890000_01D_30S_MO.crx.gz\n",
            "✅ Downloaded: IISC00IND_R_20242900000_01D_30S_MO.crx.gz\n",
            "⚠️ 0B file removed: IISC00IND_R_20242910000_01D_30S_MO.crx.gz\n",
            "🔄 Retrying IISC00IND_R_20242910000_01D_30S_MO.crx.gz (Attempt 2/3)...\n",
            "⚠️ 0B file removed: IISC00IND_R_20242910000_01D_30S_MO.crx.gz\n",
            "🔄 Retrying IISC00IND_R_20242910000_01D_30S_MO.crx.gz (Attempt 3/3)...\n",
            "⚠️ 0B file removed: IISC00IND_R_20242910000_01D_30S_MO.crx.gz\n",
            "🔄 Retrying IISC00IND_R_20242910000_01D_30S_MO.crx.gz (Attempt 4/3)...\n",
            "❌ Failed after 3 attempts: IISC00IND_R_20242910000_01D_30S_MO.crx.gz\n",
            "⚠️ 0B file removed: IISC00IND_R_20242920000_01D_30S_MO.crx.gz\n",
            "🔄 Retrying IISC00IND_R_20242920000_01D_30S_MO.crx.gz (Attempt 2/3)...\n",
            "⚠️ 0B file removed: IISC00IND_R_20242920000_01D_30S_MO.crx.gz\n",
            "🔄 Retrying IISC00IND_R_20242920000_01D_30S_MO.crx.gz (Attempt 3/3)...\n",
            "⚠️ 0B file removed: IISC00IND_R_20242920000_01D_30S_MO.crx.gz\n",
            "🔄 Retrying IISC00IND_R_20242920000_01D_30S_MO.crx.gz (Attempt 4/3)...\n",
            "❌ Failed after 3 attempts: IISC00IND_R_20242920000_01D_30S_MO.crx.gz\n",
            "✅ Downloaded: IISC00IND_R_20242930000_01D_30S_MO.crx.gz\n",
            "✅ Downloaded: IISC00IND_R_20242940000_01D_30S_MO.crx.gz\n",
            "✅ Downloaded: IISC00IND_R_20242950000_01D_30S_MO.crx.gz\n",
            "✅ Downloaded: IISC00IND_R_20242960000_01D_30S_MO.crx.gz\n",
            "✅ Downloaded: IISC00IND_R_20242970000_01D_30S_MO.crx.gz\n",
            "✅ Downloaded: IISC00IND_R_20242980000_01D_30S_MO.crx.gz\n",
            "✅ Downloaded: IISC00IND_R_20242990000_01D_30S_MO.crx.gz\n",
            "✅ Downloaded: IISC00IND_R_20243000000_01D_30S_MO.crx.gz\n",
            "✅ Downloaded: IISC00IND_R_20243010000_01D_30S_MO.crx.gz\n",
            "✅ Downloaded: IISC00IND_R_20243020000_01D_30S_MO.crx.gz\n",
            "✅ Downloaded: IISC00IND_R_20243030000_01D_30S_MO.crx.gz\n",
            "✅ Downloaded: IISC00IND_R_20243040000_01D_30S_MO.crx.gz\n",
            "✅ Downloaded: IISC00IND_R_20243050000_01D_30S_MO.crx.gz\n",
            "✅ Downloaded: IISC00IND_R_20243060000_01D_30S_MO.crx.gz\n",
            "✅ Downloaded: IISC00IND_R_20243070000_01D_30S_MO.crx.gz\n",
            "✅ Downloaded: IISC00IND_R_20243080000_01D_30S_MO.crx.gz\n",
            "✅ Downloaded: IISC00IND_R_20243090000_01D_30S_MO.crx.gz\n",
            "✅ Downloaded: IISC00IND_R_20243100000_01D_30S_MO.crx.gz\n",
            "✅ Downloaded: IISC00IND_R_20243110000_01D_30S_MO.crx.gz\n",
            "✅ Downloaded: IISC00IND_R_20243120000_01D_30S_MO.crx.gz\n",
            "⚠️ 0B file removed: IISC00IND_R_20243130000_01D_30S_MO.crx.gz\n",
            "🔄 Retrying IISC00IND_R_20243130000_01D_30S_MO.crx.gz (Attempt 2/3)...\n",
            "⚠️ 0B file removed: IISC00IND_R_20243130000_01D_30S_MO.crx.gz\n",
            "🔄 Retrying IISC00IND_R_20243130000_01D_30S_MO.crx.gz (Attempt 3/3)...\n",
            "⚠️ 0B file removed: IISC00IND_R_20243130000_01D_30S_MO.crx.gz\n",
            "🔄 Retrying IISC00IND_R_20243130000_01D_30S_MO.crx.gz (Attempt 4/3)...\n",
            "❌ Failed after 3 attempts: IISC00IND_R_20243130000_01D_30S_MO.crx.gz\n",
            "⚠️ 0B file removed: IISC00IND_R_20243140000_01D_30S_MO.crx.gz\n",
            "🔄 Retrying IISC00IND_R_20243140000_01D_30S_MO.crx.gz (Attempt 2/3)...\n",
            "⚠️ 0B file removed: IISC00IND_R_20243140000_01D_30S_MO.crx.gz\n",
            "🔄 Retrying IISC00IND_R_20243140000_01D_30S_MO.crx.gz (Attempt 3/3)...\n",
            "⚠️ 0B file removed: IISC00IND_R_20243140000_01D_30S_MO.crx.gz\n",
            "🔄 Retrying IISC00IND_R_20243140000_01D_30S_MO.crx.gz (Attempt 4/3)...\n",
            "❌ Failed after 3 attempts: IISC00IND_R_20243140000_01D_30S_MO.crx.gz\n",
            "⚠️ 0B file removed: IISC00IND_R_20243150000_01D_30S_MO.crx.gz\n",
            "🔄 Retrying IISC00IND_R_20243150000_01D_30S_MO.crx.gz (Attempt 2/3)...\n",
            "⚠️ 0B file removed: IISC00IND_R_20243150000_01D_30S_MO.crx.gz\n",
            "🔄 Retrying IISC00IND_R_20243150000_01D_30S_MO.crx.gz (Attempt 3/3)...\n",
            "⚠️ 0B file removed: IISC00IND_R_20243150000_01D_30S_MO.crx.gz\n",
            "🔄 Retrying IISC00IND_R_20243150000_01D_30S_MO.crx.gz (Attempt 4/3)...\n",
            "❌ Failed after 3 attempts: IISC00IND_R_20243150000_01D_30S_MO.crx.gz\n",
            "⚠️ 0B file removed: IISC00IND_R_20243160000_01D_30S_MO.crx.gz\n",
            "🔄 Retrying IISC00IND_R_20243160000_01D_30S_MO.crx.gz (Attempt 2/3)...\n",
            "⚠️ 0B file removed: IISC00IND_R_20243160000_01D_30S_MO.crx.gz\n",
            "🔄 Retrying IISC00IND_R_20243160000_01D_30S_MO.crx.gz (Attempt 3/3)...\n",
            "⚠️ 0B file removed: IISC00IND_R_20243160000_01D_30S_MO.crx.gz\n",
            "🔄 Retrying IISC00IND_R_20243160000_01D_30S_MO.crx.gz (Attempt 4/3)...\n",
            "❌ Failed after 3 attempts: IISC00IND_R_20243160000_01D_30S_MO.crx.gz\n",
            "⚠️ 0B file removed: IISC00IND_R_20243170000_01D_30S_MO.crx.gz\n",
            "🔄 Retrying IISC00IND_R_20243170000_01D_30S_MO.crx.gz (Attempt 2/3)...\n",
            "⚠️ 0B file removed: IISC00IND_R_20243170000_01D_30S_MO.crx.gz\n",
            "🔄 Retrying IISC00IND_R_20243170000_01D_30S_MO.crx.gz (Attempt 3/3)...\n",
            "⚠️ 0B file removed: IISC00IND_R_20243170000_01D_30S_MO.crx.gz\n",
            "🔄 Retrying IISC00IND_R_20243170000_01D_30S_MO.crx.gz (Attempt 4/3)...\n",
            "❌ Failed after 3 attempts: IISC00IND_R_20243170000_01D_30S_MO.crx.gz\n",
            "⚠️ 0B file removed: IISC00IND_R_20243180000_01D_30S_MO.crx.gz\n",
            "🔄 Retrying IISC00IND_R_20243180000_01D_30S_MO.crx.gz (Attempt 2/3)...\n",
            "⚠️ 0B file removed: IISC00IND_R_20243180000_01D_30S_MO.crx.gz\n",
            "🔄 Retrying IISC00IND_R_20243180000_01D_30S_MO.crx.gz (Attempt 3/3)...\n",
            "⚠️ 0B file removed: IISC00IND_R_20243180000_01D_30S_MO.crx.gz\n",
            "🔄 Retrying IISC00IND_R_20243180000_01D_30S_MO.crx.gz (Attempt 4/3)...\n",
            "❌ Failed after 3 attempts: IISC00IND_R_20243180000_01D_30S_MO.crx.gz\n",
            "⚠️ 0B file removed: IISC00IND_R_20243190000_01D_30S_MO.crx.gz\n",
            "🔄 Retrying IISC00IND_R_20243190000_01D_30S_MO.crx.gz (Attempt 2/3)...\n",
            "⚠️ 0B file removed: IISC00IND_R_20243190000_01D_30S_MO.crx.gz\n",
            "🔄 Retrying IISC00IND_R_20243190000_01D_30S_MO.crx.gz (Attempt 3/3)...\n",
            "⚠️ 0B file removed: IISC00IND_R_20243190000_01D_30S_MO.crx.gz\n",
            "🔄 Retrying IISC00IND_R_20243190000_01D_30S_MO.crx.gz (Attempt 4/3)...\n",
            "❌ Failed after 3 attempts: IISC00IND_R_20243190000_01D_30S_MO.crx.gz\n",
            "⚠️ 0B file removed: IISC00IND_R_20243200000_01D_30S_MO.crx.gz\n",
            "🔄 Retrying IISC00IND_R_20243200000_01D_30S_MO.crx.gz (Attempt 2/3)...\n",
            "⚠️ 0B file removed: IISC00IND_R_20243200000_01D_30S_MO.crx.gz\n",
            "🔄 Retrying IISC00IND_R_20243200000_01D_30S_MO.crx.gz (Attempt 3/3)...\n",
            "⚠️ 0B file removed: IISC00IND_R_20243200000_01D_30S_MO.crx.gz\n",
            "🔄 Retrying IISC00IND_R_20243200000_01D_30S_MO.crx.gz (Attempt 4/3)...\n",
            "❌ Failed after 3 attempts: IISC00IND_R_20243200000_01D_30S_MO.crx.gz\n",
            "⚠️ 0B file removed: IISC00IND_R_20243210000_01D_30S_MO.crx.gz\n",
            "🔄 Retrying IISC00IND_R_20243210000_01D_30S_MO.crx.gz (Attempt 2/3)...\n",
            "⚠️ 0B file removed: IISC00IND_R_20243210000_01D_30S_MO.crx.gz\n",
            "🔄 Retrying IISC00IND_R_20243210000_01D_30S_MO.crx.gz (Attempt 3/3)...\n",
            "⚠️ 0B file removed: IISC00IND_R_20243210000_01D_30S_MO.crx.gz\n",
            "🔄 Retrying IISC00IND_R_20243210000_01D_30S_MO.crx.gz (Attempt 4/3)...\n",
            "❌ Failed after 3 attempts: IISC00IND_R_20243210000_01D_30S_MO.crx.gz\n",
            "⚠️ 0B file removed: IISC00IND_R_20243220000_01D_30S_MO.crx.gz\n",
            "🔄 Retrying IISC00IND_R_20243220000_01D_30S_MO.crx.gz (Attempt 2/3)...\n",
            "⚠️ 0B file removed: IISC00IND_R_20243220000_01D_30S_MO.crx.gz\n",
            "🔄 Retrying IISC00IND_R_20243220000_01D_30S_MO.crx.gz (Attempt 3/3)...\n",
            "⚠️ 0B file removed: IISC00IND_R_20243220000_01D_30S_MO.crx.gz\n",
            "🔄 Retrying IISC00IND_R_20243220000_01D_30S_MO.crx.gz (Attempt 4/3)...\n",
            "❌ Failed after 3 attempts: IISC00IND_R_20243220000_01D_30S_MO.crx.gz\n",
            "⚠️ 0B file removed: IISC00IND_R_20243230000_01D_30S_MO.crx.gz\n",
            "🔄 Retrying IISC00IND_R_20243230000_01D_30S_MO.crx.gz (Attempt 2/3)...\n",
            "⚠️ 0B file removed: IISC00IND_R_20243230000_01D_30S_MO.crx.gz\n",
            "🔄 Retrying IISC00IND_R_20243230000_01D_30S_MO.crx.gz (Attempt 3/3)...\n",
            "⚠️ 0B file removed: IISC00IND_R_20243230000_01D_30S_MO.crx.gz\n",
            "🔄 Retrying IISC00IND_R_20243230000_01D_30S_MO.crx.gz (Attempt 4/3)...\n",
            "❌ Failed after 3 attempts: IISC00IND_R_20243230000_01D_30S_MO.crx.gz\n",
            "⚠️ 0B file removed: IISC00IND_R_20243240000_01D_30S_MO.crx.gz\n",
            "🔄 Retrying IISC00IND_R_20243240000_01D_30S_MO.crx.gz (Attempt 2/3)...\n",
            "⚠️ 0B file removed: IISC00IND_R_20243240000_01D_30S_MO.crx.gz\n",
            "🔄 Retrying IISC00IND_R_20243240000_01D_30S_MO.crx.gz (Attempt 3/3)...\n",
            "⚠️ 0B file removed: IISC00IND_R_20243240000_01D_30S_MO.crx.gz\n",
            "🔄 Retrying IISC00IND_R_20243240000_01D_30S_MO.crx.gz (Attempt 4/3)...\n",
            "❌ Failed after 3 attempts: IISC00IND_R_20243240000_01D_30S_MO.crx.gz\n",
            "⚠️ 0B file removed: IISC00IND_R_20243250000_01D_30S_MO.crx.gz\n",
            "🔄 Retrying IISC00IND_R_20243250000_01D_30S_MO.crx.gz (Attempt 2/3)...\n",
            "⚠️ 0B file removed: IISC00IND_R_20243250000_01D_30S_MO.crx.gz\n",
            "🔄 Retrying IISC00IND_R_20243250000_01D_30S_MO.crx.gz (Attempt 3/3)...\n",
            "⚠️ 0B file removed: IISC00IND_R_20243250000_01D_30S_MO.crx.gz\n",
            "🔄 Retrying IISC00IND_R_20243250000_01D_30S_MO.crx.gz (Attempt 4/3)...\n",
            "❌ Failed after 3 attempts: IISC00IND_R_20243250000_01D_30S_MO.crx.gz\n",
            "⚠️ 0B file removed: IISC00IND_R_20243260000_01D_30S_MO.crx.gz\n",
            "🔄 Retrying IISC00IND_R_20243260000_01D_30S_MO.crx.gz (Attempt 2/3)...\n",
            "⚠️ 0B file removed: IISC00IND_R_20243260000_01D_30S_MO.crx.gz\n",
            "🔄 Retrying IISC00IND_R_20243260000_01D_30S_MO.crx.gz (Attempt 3/3)...\n",
            "⚠️ 0B file removed: IISC00IND_R_20243260000_01D_30S_MO.crx.gz\n",
            "🔄 Retrying IISC00IND_R_20243260000_01D_30S_MO.crx.gz (Attempt 4/3)...\n",
            "❌ Failed after 3 attempts: IISC00IND_R_20243260000_01D_30S_MO.crx.gz\n",
            "⚠️ 0B file removed: IISC00IND_R_20243270000_01D_30S_MO.crx.gz\n",
            "🔄 Retrying IISC00IND_R_20243270000_01D_30S_MO.crx.gz (Attempt 2/3)...\n",
            "⚠️ 0B file removed: IISC00IND_R_20243270000_01D_30S_MO.crx.gz\n",
            "🔄 Retrying IISC00IND_R_20243270000_01D_30S_MO.crx.gz (Attempt 3/3)...\n",
            "⚠️ 0B file removed: IISC00IND_R_20243270000_01D_30S_MO.crx.gz\n",
            "🔄 Retrying IISC00IND_R_20243270000_01D_30S_MO.crx.gz (Attempt 4/3)...\n",
            "❌ Failed after 3 attempts: IISC00IND_R_20243270000_01D_30S_MO.crx.gz\n",
            "⚠️ 0B file removed: IISC00IND_R_20243280000_01D_30S_MO.crx.gz\n",
            "🔄 Retrying IISC00IND_R_20243280000_01D_30S_MO.crx.gz (Attempt 2/3)...\n",
            "⚠️ 0B file removed: IISC00IND_R_20243280000_01D_30S_MO.crx.gz\n",
            "🔄 Retrying IISC00IND_R_20243280000_01D_30S_MO.crx.gz (Attempt 3/3)...\n",
            "⚠️ 0B file removed: IISC00IND_R_20243280000_01D_30S_MO.crx.gz\n",
            "🔄 Retrying IISC00IND_R_20243280000_01D_30S_MO.crx.gz (Attempt 4/3)...\n",
            "❌ Failed after 3 attempts: IISC00IND_R_20243280000_01D_30S_MO.crx.gz\n",
            "⚠️ 0B file removed: IISC00IND_R_20243290000_01D_30S_MO.crx.gz\n",
            "🔄 Retrying IISC00IND_R_20243290000_01D_30S_MO.crx.gz (Attempt 2/3)...\n",
            "⚠️ 0B file removed: IISC00IND_R_20243290000_01D_30S_MO.crx.gz\n",
            "🔄 Retrying IISC00IND_R_20243290000_01D_30S_MO.crx.gz (Attempt 3/3)...\n",
            "⚠️ 0B file removed: IISC00IND_R_20243290000_01D_30S_MO.crx.gz\n",
            "🔄 Retrying IISC00IND_R_20243290000_01D_30S_MO.crx.gz (Attempt 4/3)...\n",
            "❌ Failed after 3 attempts: IISC00IND_R_20243290000_01D_30S_MO.crx.gz\n",
            "⚠️ 0B file removed: IISC00IND_R_20243300000_01D_30S_MO.crx.gz\n",
            "🔄 Retrying IISC00IND_R_20243300000_01D_30S_MO.crx.gz (Attempt 2/3)...\n",
            "⚠️ 0B file removed: IISC00IND_R_20243300000_01D_30S_MO.crx.gz\n",
            "🔄 Retrying IISC00IND_R_20243300000_01D_30S_MO.crx.gz (Attempt 3/3)...\n",
            "⚠️ 0B file removed: IISC00IND_R_20243300000_01D_30S_MO.crx.gz\n",
            "🔄 Retrying IISC00IND_R_20243300000_01D_30S_MO.crx.gz (Attempt 4/3)...\n",
            "❌ Failed after 3 attempts: IISC00IND_R_20243300000_01D_30S_MO.crx.gz\n",
            "⚠️ 0B file removed: IISC00IND_R_20243310000_01D_30S_MO.crx.gz\n",
            "🔄 Retrying IISC00IND_R_20243310000_01D_30S_MO.crx.gz (Attempt 2/3)...\n",
            "⚠️ 0B file removed: IISC00IND_R_20243310000_01D_30S_MO.crx.gz\n",
            "🔄 Retrying IISC00IND_R_20243310000_01D_30S_MO.crx.gz (Attempt 3/3)...\n",
            "⚠️ 0B file removed: IISC00IND_R_20243310000_01D_30S_MO.crx.gz\n",
            "🔄 Retrying IISC00IND_R_20243310000_01D_30S_MO.crx.gz (Attempt 4/3)...\n",
            "❌ Failed after 3 attempts: IISC00IND_R_20243310000_01D_30S_MO.crx.gz\n",
            "⚠️ 0B file removed: IISC00IND_R_20243320000_01D_30S_MO.crx.gz\n",
            "🔄 Retrying IISC00IND_R_20243320000_01D_30S_MO.crx.gz (Attempt 2/3)...\n",
            "⚠️ 0B file removed: IISC00IND_R_20243320000_01D_30S_MO.crx.gz\n",
            "🔄 Retrying IISC00IND_R_20243320000_01D_30S_MO.crx.gz (Attempt 3/3)...\n",
            "⚠️ 0B file removed: IISC00IND_R_20243320000_01D_30S_MO.crx.gz\n",
            "🔄 Retrying IISC00IND_R_20243320000_01D_30S_MO.crx.gz (Attempt 4/3)...\n",
            "❌ Failed after 3 attempts: IISC00IND_R_20243320000_01D_30S_MO.crx.gz\n",
            "⚠️ 0B file removed: IISC00IND_R_20243330000_01D_30S_MO.crx.gz\n",
            "🔄 Retrying IISC00IND_R_20243330000_01D_30S_MO.crx.gz (Attempt 2/3)...\n",
            "⚠️ 0B file removed: IISC00IND_R_20243330000_01D_30S_MO.crx.gz\n",
            "🔄 Retrying IISC00IND_R_20243330000_01D_30S_MO.crx.gz (Attempt 3/3)...\n",
            "⚠️ 0B file removed: IISC00IND_R_20243330000_01D_30S_MO.crx.gz\n",
            "🔄 Retrying IISC00IND_R_20243330000_01D_30S_MO.crx.gz (Attempt 4/3)...\n",
            "❌ Failed after 3 attempts: IISC00IND_R_20243330000_01D_30S_MO.crx.gz\n",
            "⚠️ 0B file removed: IISC00IND_R_20243340000_01D_30S_MO.crx.gz\n",
            "🔄 Retrying IISC00IND_R_20243340000_01D_30S_MO.crx.gz (Attempt 2/3)...\n",
            "⚠️ 0B file removed: IISC00IND_R_20243340000_01D_30S_MO.crx.gz\n",
            "🔄 Retrying IISC00IND_R_20243340000_01D_30S_MO.crx.gz (Attempt 3/3)...\n",
            "⚠️ 0B file removed: IISC00IND_R_20243340000_01D_30S_MO.crx.gz\n",
            "🔄 Retrying IISC00IND_R_20243340000_01D_30S_MO.crx.gz (Attempt 4/3)...\n",
            "❌ Failed after 3 attempts: IISC00IND_R_20243340000_01D_30S_MO.crx.gz\n",
            "⚠️ 0B file removed: IISC00IND_R_20243350000_01D_30S_MO.crx.gz\n",
            "🔄 Retrying IISC00IND_R_20243350000_01D_30S_MO.crx.gz (Attempt 2/3)...\n",
            "⚠️ 0B file removed: IISC00IND_R_20243350000_01D_30S_MO.crx.gz\n",
            "🔄 Retrying IISC00IND_R_20243350000_01D_30S_MO.crx.gz (Attempt 3/3)...\n",
            "⚠️ 0B file removed: IISC00IND_R_20243350000_01D_30S_MO.crx.gz\n",
            "🔄 Retrying IISC00IND_R_20243350000_01D_30S_MO.crx.gz (Attempt 4/3)...\n",
            "❌ Failed after 3 attempts: IISC00IND_R_20243350000_01D_30S_MO.crx.gz\n",
            "✅ Downloaded: IISC00IND_R_20243360000_01D_30S_MO.crx.gz\n",
            "✅ Downloaded: IISC00IND_R_20243370000_01D_30S_MO.crx.gz\n",
            "✅ Downloaded: IISC00IND_R_20243380000_01D_30S_MO.crx.gz\n",
            "✅ Downloaded: IISC00IND_R_20243390000_01D_30S_MO.crx.gz\n",
            "✅ Downloaded: IISC00IND_R_20243400000_01D_30S_MO.crx.gz\n",
            "✅ Downloaded: IISC00IND_R_20243410000_01D_30S_MO.crx.gz\n",
            "✅ Downloaded: IISC00IND_R_20243420000_01D_30S_MO.crx.gz\n",
            "✅ Downloaded: IISC00IND_R_20243430000_01D_30S_MO.crx.gz\n",
            "✅ Downloaded: IISC00IND_R_20243440000_01D_30S_MO.crx.gz\n",
            "✅ Downloaded: IISC00IND_R_20243450000_01D_30S_MO.crx.gz\n",
            "✅ Downloaded: IISC00IND_R_20243460000_01D_30S_MO.crx.gz\n",
            "✅ Downloaded: IISC00IND_R_20243470000_01D_30S_MO.crx.gz\n",
            "✅ Downloaded: IISC00IND_R_20243480000_01D_30S_MO.crx.gz\n",
            "✅ Downloaded: IISC00IND_R_20243490000_01D_30S_MO.crx.gz\n",
            "✅ Downloaded: IISC00IND_R_20243500000_01D_30S_MO.crx.gz\n",
            "✅ Downloaded: IISC00IND_R_20243510000_01D_30S_MO.crx.gz\n",
            "✅ Downloaded: IISC00IND_R_20243520000_01D_30S_MO.crx.gz\n",
            "✅ Downloaded: IISC00IND_R_20243530000_01D_30S_MO.crx.gz\n",
            "✅ Downloaded: IISC00IND_R_20243540000_01D_30S_MO.crx.gz\n",
            "✅ Downloaded: IISC00IND_R_20243550000_01D_30S_MO.crx.gz\n",
            "✅ Downloaded: IISC00IND_R_20243560000_01D_30S_MO.crx.gz\n",
            "✅ Downloaded: IISC00IND_R_20243570000_01D_30S_MO.crx.gz\n",
            "✅ Downloaded: IISC00IND_R_20243580000_01D_30S_MO.crx.gz\n",
            "✅ Downloaded: IISC00IND_R_20243590000_01D_30S_MO.crx.gz\n",
            "✅ Downloaded: IISC00IND_R_20243600000_01D_30S_MO.crx.gz\n",
            "✅ Downloaded: IISC00IND_R_20243610000_01D_30S_MO.crx.gz\n",
            "✅ Downloaded: IISC00IND_R_20243620000_01D_30S_MO.crx.gz\n",
            "✅ Downloaded: IISC00IND_R_20243630000_01D_30S_MO.crx.gz\n",
            "✅ Downloaded: IISC00IND_R_20243640000_01D_30S_MO.crx.gz\n",
            "✅ Downloaded: IISC00IND_R_20243650000_01D_30S_MO.crx.gz\n",
            "✅ Downloaded: IISC00IND_R_20243660000_01D_30S_MO.crx.gz\n",
            "\n",
            "⚠️ The following files could not be downloaded:\n",
            " - IISC00IND_R_20191280000_01D_30S_MO.crx.gz\n",
            " - IISC00IND_R_20191540000_01D_30S_MO.crx.gz\n",
            " - IISC00IND_R_20191550000_01D_30S_MO.crx.gz\n",
            " - IISC00IND_R_20192780000_01D_30S_MO.crx.gz\n",
            " - IISC00IND_R_20192790000_01D_30S_MO.crx.gz\n",
            " - IISC00IND_R_20192800000_01D_30S_MO.crx.gz\n",
            " - IISC00IND_R_20192810000_01D_30S_MO.crx.gz\n",
            " - IISC00IND_R_20192820000_01D_30S_MO.crx.gz\n",
            " - IISC00IND_R_20192840000_01D_30S_MO.crx.gz\n",
            " - IISC00IND_R_20192850000_01D_30S_MO.crx.gz\n",
            " - IISC00IND_R_20192860000_01D_30S_MO.crx.gz\n",
            " - IISC00IND_R_20193050000_01D_30S_MO.crx.gz\n",
            " - IISC00IND_R_20201130000_01D_30S_MO.crx.gz\n",
            " - IISC00IND_R_20202140000_01D_30S_MO.crx.gz\n",
            " - IISC00IND_R_20202150000_01D_30S_MO.crx.gz\n",
            " - IISC00IND_R_20202160000_01D_30S_MO.crx.gz\n",
            " - IISC00IND_R_20202170000_01D_30S_MO.crx.gz\n",
            " - IISC00IND_R_20202520000_01D_30S_MO.crx.gz\n",
            " - IISC00IND_R_20202640000_01D_30S_MO.crx.gz\n",
            " - IISC00IND_R_20202990000_01D_30S_MO.crx.gz\n",
            " - IISC00IND_R_20211060000_01D_30S_MO.crx.gz\n",
            " - IISC00IND_R_20211070000_01D_30S_MO.crx.gz\n",
            " - IISC00IND_R_20220440000_01D_30S_MO.crx.gz\n",
            " - IISC00IND_R_20220820000_01D_30S_MO.crx.gz\n",
            " - IISC00IND_R_20222150000_01D_30S_MO.crx.gz\n",
            " - IISC00IND_R_20222160000_01D_30S_MO.crx.gz\n",
            " - IISC00IND_R_20222170000_01D_30S_MO.crx.gz\n",
            " - IISC00IND_R_20222180000_01D_30S_MO.crx.gz\n",
            " - IISC00IND_R_20222190000_01D_30S_MO.crx.gz\n",
            " - IISC00IND_R_20222200000_01D_30S_MO.crx.gz\n",
            " - IISC00IND_R_20222210000_01D_30S_MO.crx.gz\n",
            " - IISC00IND_R_20222220000_01D_30S_MO.crx.gz\n",
            " - IISC00IND_R_20222230000_01D_30S_MO.crx.gz\n",
            " - IISC00IND_R_20222240000_01D_30S_MO.crx.gz\n",
            " - IISC00IND_R_20222250000_01D_30S_MO.crx.gz\n",
            " - IISC00IND_R_20222260000_01D_30S_MO.crx.gz\n",
            " - IISC00IND_R_20222270000_01D_30S_MO.crx.gz\n",
            " - IISC00IND_R_20222280000_01D_30S_MO.crx.gz\n",
            " - IISC00IND_R_20222290000_01D_30S_MO.crx.gz\n",
            " - IISC00IND_R_20222300000_01D_30S_MO.crx.gz\n",
            " - IISC00IND_R_20222310000_01D_30S_MO.crx.gz\n",
            " - IISC00IND_R_20222320000_01D_30S_MO.crx.gz\n",
            " - IISC00IND_R_20222330000_01D_30S_MO.crx.gz\n",
            " - IISC00IND_R_20222340000_01D_30S_MO.crx.gz\n",
            " - IISC00IND_R_20222350000_01D_30S_MO.crx.gz\n",
            " - IISC00IND_R_20222360000_01D_30S_MO.crx.gz\n",
            " - IISC00IND_R_20222370000_01D_30S_MO.crx.gz\n",
            " - IISC00IND_R_20222380000_01D_30S_MO.crx.gz\n",
            " - IISC00IND_R_20222390000_01D_30S_MO.crx.gz\n",
            " - IISC00IND_R_20222400000_01D_30S_MO.crx.gz\n",
            " - IISC00IND_R_20222410000_01D_30S_MO.crx.gz\n",
            " - IISC00IND_R_20222420000_01D_30S_MO.crx.gz\n",
            " - IISC00IND_R_20222840000_01D_30S_MO.crx.gz\n",
            " - IISC00IND_R_20223380000_01D_30S_MO.crx.gz\n",
            " - IISC00IND_R_20223410000_01D_30S_MO.crx.gz\n",
            " - IISC00IND_R_20231460000_01D_30S_MO.crx.gz\n",
            " - IISC00IND_R_20231470000_01D_30S_MO.crx.gz\n",
            " - IISC00IND_R_20233190000_01D_30S_MO.crx.gz\n",
            " - IISC00IND_R_20233200000_01D_30S_MO.crx.gz\n",
            " - IISC00IND_R_20233210000_01D_30S_MO.crx.gz\n",
            " - IISC00IND_R_20233220000_01D_30S_MO.crx.gz\n",
            " - IISC00IND_R_20233230000_01D_30S_MO.crx.gz\n",
            " - IISC00IND_R_20233240000_01D_30S_MO.crx.gz\n",
            " - IISC00IND_R_20233250000_01D_30S_MO.crx.gz\n",
            " - IISC00IND_R_20233260000_01D_30S_MO.crx.gz\n",
            " - IISC00IND_R_20233270000_01D_30S_MO.crx.gz\n",
            " - IISC00IND_R_20233280000_01D_30S_MO.crx.gz\n",
            " - IISC00IND_R_20233550000_01D_30S_MO.crx.gz\n",
            " - IISC00IND_R_20242330000_01D_30S_MO.crx.gz\n",
            " - IISC00IND_R_20242340000_01D_30S_MO.crx.gz\n",
            " - IISC00IND_R_20242690000_01D_30S_MO.crx.gz\n",
            " - IISC00IND_R_20242700000_01D_30S_MO.crx.gz\n",
            " - IISC00IND_R_20242910000_01D_30S_MO.crx.gz\n",
            " - IISC00IND_R_20242920000_01D_30S_MO.crx.gz\n",
            " - IISC00IND_R_20243130000_01D_30S_MO.crx.gz\n",
            " - IISC00IND_R_20243140000_01D_30S_MO.crx.gz\n",
            " - IISC00IND_R_20243150000_01D_30S_MO.crx.gz\n",
            " - IISC00IND_R_20243160000_01D_30S_MO.crx.gz\n",
            " - IISC00IND_R_20243170000_01D_30S_MO.crx.gz\n",
            " - IISC00IND_R_20243180000_01D_30S_MO.crx.gz\n",
            " - IISC00IND_R_20243190000_01D_30S_MO.crx.gz\n",
            " - IISC00IND_R_20243200000_01D_30S_MO.crx.gz\n",
            " - IISC00IND_R_20243210000_01D_30S_MO.crx.gz\n",
            " - IISC00IND_R_20243220000_01D_30S_MO.crx.gz\n",
            " - IISC00IND_R_20243230000_01D_30S_MO.crx.gz\n",
            " - IISC00IND_R_20243240000_01D_30S_MO.crx.gz\n",
            " - IISC00IND_R_20243250000_01D_30S_MO.crx.gz\n",
            " - IISC00IND_R_20243260000_01D_30S_MO.crx.gz\n",
            " - IISC00IND_R_20243270000_01D_30S_MO.crx.gz\n",
            " - IISC00IND_R_20243280000_01D_30S_MO.crx.gz\n",
            " - IISC00IND_R_20243290000_01D_30S_MO.crx.gz\n",
            " - IISC00IND_R_20243300000_01D_30S_MO.crx.gz\n",
            " - IISC00IND_R_20243310000_01D_30S_MO.crx.gz\n",
            " - IISC00IND_R_20243320000_01D_30S_MO.crx.gz\n",
            " - IISC00IND_R_20243330000_01D_30S_MO.crx.gz\n",
            " - IISC00IND_R_20243340000_01D_30S_MO.crx.gz\n",
            " - IISC00IND_R_20243350000_01D_30S_MO.crx.gz\n"
          ]
        }
      ],
      "source": [
        "import os\n",
        "import requests\n",
        "from datetime import datetime, timedelta\n",
        "import time\n",
        "\n",
        "# Define base URL for SONEL\n",
        "BASE_URL = \"https://www.sonel.org/squelettes/outils/getRinex.php?\"\n",
        "\n",
        "# Station details and date range\n",
        "station_acronym = \"iisc\"\n",
        "start_date = datetime(2019, 1, 1)\n",
        "end_date = datetime(2024, 12, 31)\n",
        "\n",
        "# Root directory\n",
        "root_dir = \"/content/IISC_GNSS_DATA\"\n",
        "os.makedirs(root_dir, exist_ok=True)\n",
        "\n",
        "# Function to download with retry and 0B check\n",
        "def download_crx_file(year, doy, filename, save_path, retries=3):\n",
        "    url = f\"{BASE_URL}acro={station_acronym}&doy={doy:03d}&year={year}&nomFic={filename}\"\n",
        "\n",
        "    for attempt in range(retries):\n",
        "        try:\n",
        "            response = requests.get(url, stream=True, timeout=30)\n",
        "            if response.status_code == 200:\n",
        "                with open(save_path, \"wb\") as file:\n",
        "                    for chunk in response.iter_content(chunk_size=1024):\n",
        "                        if chunk:\n",
        "                            file.write(chunk)\n",
        "\n",
        "                # Check file size after download\n",
        "                if os.path.getsize(save_path) > 0:\n",
        "                    print(f\"✅ Downloaded: {filename}\")\n",
        "                    return True\n",
        "                else:\n",
        "                    os.remove(save_path)\n",
        "                    print(f\"⚠️ 0B file removed: {filename}\")\n",
        "            else:\n",
        "                print(f\"❌ HTTP {response.status_code} - {filename}\")\n",
        "\n",
        "        except Exception as e:\n",
        "            print(f\"❌ Error downloading {filename}: {e}\")\n",
        "\n",
        "        print(f\"🔄 Retrying {filename} (Attempt {attempt + 2}/{retries})...\")\n",
        "        time.sleep(3)  # Small delay before retry\n",
        "\n",
        "    print(f\"❌ Failed after {retries} attempts: {filename}\")\n",
        "    return False\n",
        "\n",
        "# Iterate over date range\n",
        "failed_downloads = []\n",
        "current_date = start_date\n",
        "while current_date <= end_date:\n",
        "    year = current_date.year\n",
        "    doy = current_date.timetuple().tm_yday\n",
        "    month_dir = os.path.join(root_dir, f\"{year}/{current_date.strftime('%m%b')}\")\n",
        "    os.makedirs(month_dir, exist_ok=True)\n",
        "\n",
        "    # Filename construction\n",
        "    filename = f\"IISC00IND_R_{year}{doy:03d}0000_01D_30S_MO.crx.gz\"\n",
        "    save_path = os.path.join(month_dir, filename)\n",
        "\n",
        "    # Download attempt\n",
        "    success = download_crx_file(year, doy, filename, save_path)\n",
        "    if not success:\n",
        "        failed_downloads.append(filename)\n",
        "\n",
        "    current_date += timedelta(days=1)\n",
        "\n",
        "# Summary of failed downloads\n",
        "if failed_downloads:\n",
        "    print(\"\\n⚠️ The following files could not be downloaded:\")\n",
        "    for fail in failed_downloads:\n",
        "        print(f\" - {fail}\")\n",
        "else:\n",
        "    print(\"🎉 All files downloaded successfully without 0B issues!\")\n"
      ]
    },
    {
      "cell_type": "code",
      "source": [
        "from google.colab import files\n",
        "import shutil\n",
        "\n",
        "# Path to the folder\n",
        "folder_path = \"/content/IISC_GNSS_DATA\"\n",
        "zip_path = \"/content/IISC_GNSS_DATA.zip\"\n",
        "\n",
        "# Zip the folder\n",
        "shutil.make_archive(base_name=zip_path.replace(\".zip\", \"\"), format='zip', root_dir=folder_path)\n",
        "print(f\"✅ Folder zipped at: {zip_path}\")\n",
        "\n",
        "# Provide a download link\n",
        "files.download(zip_path)\n"
      ],
      "metadata": {
        "colab": {
          "base_uri": "https://localhost:8080/",
          "height": 52
        },
        "id": "96IMTLsBTSFF",
        "outputId": "269851cb-bd95-4abc-88f6-54f051ae08f9"
      },
      "execution_count": 5,
      "outputs": [
        {
          "output_type": "stream",
          "name": "stdout",
          "text": [
            "✅ Folder zipped at: /content/IISC_GNSS_DATA.zip\n"
          ]
        },
        {
          "output_type": "display_data",
          "data": {
            "text/plain": [
              "<IPython.core.display.Javascript object>"
            ],
            "application/javascript": [
              "\n",
              "    async function download(id, filename, size) {\n",
              "      if (!google.colab.kernel.accessAllowed) {\n",
              "        return;\n",
              "      }\n",
              "      const div = document.createElement('div');\n",
              "      const label = document.createElement('label');\n",
              "      label.textContent = `Downloading \"${filename}\": `;\n",
              "      div.appendChild(label);\n",
              "      const progress = document.createElement('progress');\n",
              "      progress.max = size;\n",
              "      div.appendChild(progress);\n",
              "      document.body.appendChild(div);\n",
              "\n",
              "      const buffers = [];\n",
              "      let downloaded = 0;\n",
              "\n",
              "      const channel = await google.colab.kernel.comms.open(id);\n",
              "      // Send a message to notify the kernel that we're ready.\n",
              "      channel.send({})\n",
              "\n",
              "      for await (const message of channel.messages) {\n",
              "        // Send a message to notify the kernel that we're ready.\n",
              "        channel.send({})\n",
              "        if (message.buffers) {\n",
              "          for (const buffer of message.buffers) {\n",
              "            buffers.push(buffer);\n",
              "            downloaded += buffer.byteLength;\n",
              "            progress.value = downloaded;\n",
              "          }\n",
              "        }\n",
              "      }\n",
              "      const blob = new Blob(buffers, {type: 'application/binary'});\n",
              "      const a = document.createElement('a');\n",
              "      a.href = window.URL.createObjectURL(blob);\n",
              "      a.download = filename;\n",
              "      div.appendChild(a);\n",
              "      a.click();\n",
              "      div.remove();\n",
              "    }\n",
              "  "
            ]
          },
          "metadata": {}
        },
        {
          "output_type": "display_data",
          "data": {
            "text/plain": [
              "<IPython.core.display.Javascript object>"
            ],
            "application/javascript": [
              "download(\"download_327f579f-19d2-4d4f-aff9-70624adc35fc\", \"IISC_GNSS_DATA.zip\", 7631877174)"
            ]
          },
          "metadata": {}
        }
      ]
    },
    {
      "cell_type": "markdown",
      "source": [
        "#  CRX.GZ → CRX Conversion"
      ],
      "metadata": {
        "id": "LpIyoNIyXzAU"
      }
    },
    {
      "cell_type": "code",
      "source": [
        "import os\n",
        "import gzip\n",
        "import shutil\n",
        "from tqdm import tqdm\n",
        "\n",
        "# Original folder path\n",
        "input_root = \"/content/IISC_GNSS_DATA\"\n",
        "# New folder for extracted CRX files\n",
        "output_root = \"/content/CRX_DATA\"\n",
        "os.makedirs(output_root, exist_ok=True)\n",
        "\n",
        "def extract_crx_gz(input_folder, output_folder):\n",
        "    for year_folder in os.listdir(input_folder):\n",
        "        year_path = os.path.join(input_folder, year_folder)\n",
        "        if os.path.isdir(year_path):\n",
        "            for month_folder in os.listdir(year_path):\n",
        "                month_path = os.path.join(year_path, month_folder)\n",
        "                if os.path.isdir(month_path):\n",
        "                    # Create corresponding output directory\n",
        "                    output_month_path = os.path.join(output_folder, year_folder, month_folder)\n",
        "                    os.makedirs(output_month_path, exist_ok=True)\n",
        "\n",
        "                    # Extract all .crx.gz files\n",
        "                    crx_gz_files = [f for f in os.listdir(month_path) if f.endswith(\".crx.gz\")]\n",
        "                    for file in tqdm(crx_gz_files, desc=f\"Extracting {year_folder}/{month_folder}\"):\n",
        "                        crx_gz_path = os.path.join(month_path, file)\n",
        "                        crx_file_path = os.path.join(output_month_path, file[:-3])  # Remove '.gz' extension\n",
        "\n",
        "                        with gzip.open(crx_gz_path, 'rb') as f_in:\n",
        "                            with open(crx_file_path, 'wb') as f_out:\n",
        "                                shutil.copyfileobj(f_in, f_out)\n",
        "                        print(f\"✅ Extracted: {file} ➔ {file[:-3]}\")\n",
        "\n",
        "# Run the extraction\n",
        "extract_crx_gz(input_root, output_root)\n",
        "print(f\"🎉 All files extracted successfully into {output_root}\")\n"
      ],
      "metadata": {
        "colab": {
          "base_uri": "https://localhost:8080/"
        },
        "id": "JgYVJHslTR7H",
        "outputId": "4fb6b52b-6921-4749-aa48-30298d1c0885"
      },
      "execution_count": 6,
      "outputs": [
        {
          "output_type": "stream",
          "name": "stderr",
          "text": [
            "Extracting 2020/03Mar:   6%|▋         | 2/31 [00:00<00:02, 13.04it/s]"
          ]
        },
        {
          "output_type": "stream",
          "name": "stdout",
          "text": [
            "✅ Extracted: IISC00IND_R_20200780000_01D_30S_MO.crx.gz ➔ IISC00IND_R_20200780000_01D_30S_MO.crx\n",
            "✅ Extracted: IISC00IND_R_20200760000_01D_30S_MO.crx.gz ➔ IISC00IND_R_20200760000_01D_30S_MO.crx\n",
            "✅ Extracted: IISC00IND_R_20200640000_01D_30S_MO.crx.gz ➔ IISC00IND_R_20200640000_01D_30S_MO.crx\n"
          ]
        },
        {
          "output_type": "stream",
          "name": "stderr",
          "text": [
            "\rExtracting 2020/03Mar:  13%|█▎        | 4/31 [00:00<00:02, 13.01it/s]"
          ]
        },
        {
          "output_type": "stream",
          "name": "stdout",
          "text": [
            "✅ Extracted: IISC00IND_R_20200660000_01D_30S_MO.crx.gz ➔ IISC00IND_R_20200660000_01D_30S_MO.crx\n",
            "✅ Extracted: IISC00IND_R_20200620000_01D_30S_MO.crx.gz ➔ IISC00IND_R_20200620000_01D_30S_MO.crx\n"
          ]
        },
        {
          "output_type": "stream",
          "name": "stderr",
          "text": [
            "\rExtracting 2020/03Mar:  19%|█▉        | 6/31 [00:00<00:01, 12.97it/s]"
          ]
        },
        {
          "output_type": "stream",
          "name": "stdout",
          "text": [
            "✅ Extracted: IISC00IND_R_20200890000_01D_30S_MO.crx.gz ➔ IISC00IND_R_20200890000_01D_30S_MO.crx\n"
          ]
        },
        {
          "output_type": "stream",
          "name": "stderr",
          "text": [
            "\rExtracting 2020/03Mar:  26%|██▌       | 8/31 [00:00<00:01, 13.15it/s]"
          ]
        },
        {
          "output_type": "stream",
          "name": "stdout",
          "text": [
            "✅ Extracted: IISC00IND_R_20200650000_01D_30S_MO.crx.gz ➔ IISC00IND_R_20200650000_01D_30S_MO.crx\n",
            "✅ Extracted: IISC00IND_R_20200720000_01D_30S_MO.crx.gz ➔ IISC00IND_R_20200720000_01D_30S_MO.crx\n",
            "✅ Extracted: IISC00IND_R_20200900000_01D_30S_MO.crx.gz ➔ IISC00IND_R_20200900000_01D_30S_MO.crx\n"
          ]
        },
        {
          "output_type": "stream",
          "name": "stderr",
          "text": [
            "\rExtracting 2020/03Mar:  32%|███▏      | 10/31 [00:00<00:01, 12.68it/s]"
          ]
        },
        {
          "output_type": "stream",
          "name": "stdout",
          "text": [
            "✅ Extracted: IISC00IND_R_20200860000_01D_30S_MO.crx.gz ➔ IISC00IND_R_20200860000_01D_30S_MO.crx\n",
            "✅ Extracted: IISC00IND_R_20200830000_01D_30S_MO.crx.gz ➔ IISC00IND_R_20200830000_01D_30S_MO.crx\n"
          ]
        },
        {
          "output_type": "stream",
          "name": "stderr",
          "text": [
            "\rExtracting 2020/03Mar:  39%|███▊      | 12/31 [00:01<00:01, 10.88it/s]"
          ]
        },
        {
          "output_type": "stream",
          "name": "stdout",
          "text": [
            "✅ Extracted: IISC00IND_R_20200730000_01D_30S_MO.crx.gz ➔ IISC00IND_R_20200730000_01D_30S_MO.crx\n",
            "✅ Extracted: IISC00IND_R_20200700000_01D_30S_MO.crx.gz ➔ IISC00IND_R_20200700000_01D_30S_MO.crx\n"
          ]
        },
        {
          "output_type": "stream",
          "name": "stderr",
          "text": [
            "\rExtracting 2020/03Mar:  45%|████▌     | 14/31 [00:01<00:01, 11.37it/s]"
          ]
        },
        {
          "output_type": "stream",
          "name": "stdout",
          "text": [
            "✅ Extracted: IISC00IND_R_20200910000_01D_30S_MO.crx.gz ➔ IISC00IND_R_20200910000_01D_30S_MO.crx\n"
          ]
        },
        {
          "output_type": "stream",
          "name": "stderr",
          "text": [
            "\rExtracting 2020/03Mar:  52%|█████▏    | 16/31 [00:01<00:01, 11.70it/s]"
          ]
        },
        {
          "output_type": "stream",
          "name": "stdout",
          "text": [
            "✅ Extracted: IISC00IND_R_20200750000_01D_30S_MO.crx.gz ➔ IISC00IND_R_20200750000_01D_30S_MO.crx\n",
            "✅ Extracted: IISC00IND_R_20200770000_01D_30S_MO.crx.gz ➔ IISC00IND_R_20200770000_01D_30S_MO.crx\n",
            "✅ Extracted: IISC00IND_R_20200680000_01D_30S_MO.crx.gz ➔ IISC00IND_R_20200680000_01D_30S_MO.crx\n"
          ]
        },
        {
          "output_type": "stream",
          "name": "stderr",
          "text": [
            "\rExtracting 2020/03Mar:  58%|█████▊    | 18/31 [00:01<00:01, 11.78it/s]"
          ]
        },
        {
          "output_type": "stream",
          "name": "stdout",
          "text": [
            "✅ Extracted: IISC00IND_R_20200840000_01D_30S_MO.crx.gz ➔ IISC00IND_R_20200840000_01D_30S_MO.crx\n",
            "✅ Extracted: IISC00IND_R_20200710000_01D_30S_MO.crx.gz ➔ IISC00IND_R_20200710000_01D_30S_MO.crx\n"
          ]
        },
        {
          "output_type": "stream",
          "name": "stderr",
          "text": [
            "\rExtracting 2020/03Mar:  65%|██████▍   | 20/31 [00:01<00:00, 11.88it/s]"
          ]
        },
        {
          "output_type": "stream",
          "name": "stdout",
          "text": [
            "✅ Extracted: IISC00IND_R_20200880000_01D_30S_MO.crx.gz ➔ IISC00IND_R_20200880000_01D_30S_MO.crx\n"
          ]
        },
        {
          "output_type": "stream",
          "name": "stderr",
          "text": [
            "\rExtracting 2020/03Mar:  71%|███████   | 22/31 [00:01<00:00, 12.26it/s]"
          ]
        },
        {
          "output_type": "stream",
          "name": "stdout",
          "text": [
            "✅ Extracted: IISC00IND_R_20200810000_01D_30S_MO.crx.gz ➔ IISC00IND_R_20200810000_01D_30S_MO.crx\n",
            "✅ Extracted: IISC00IND_R_20200820000_01D_30S_MO.crx.gz ➔ IISC00IND_R_20200820000_01D_30S_MO.crx\n",
            "✅ Extracted: IISC00IND_R_20200870000_01D_30S_MO.crx.gz ➔ IISC00IND_R_20200870000_01D_30S_MO.crx\n"
          ]
        },
        {
          "output_type": "stream",
          "name": "stderr",
          "text": [
            "\rExtracting 2020/03Mar:  77%|███████▋  | 24/31 [00:01<00:00, 12.47it/s]"
          ]
        },
        {
          "output_type": "stream",
          "name": "stdout",
          "text": [
            "✅ Extracted: IISC00IND_R_20200670000_01D_30S_MO.crx.gz ➔ IISC00IND_R_20200670000_01D_30S_MO.crx\n",
            "✅ Extracted: IISC00IND_R_20200740000_01D_30S_MO.crx.gz ➔ IISC00IND_R_20200740000_01D_30S_MO.crx\n"
          ]
        },
        {
          "output_type": "stream",
          "name": "stderr",
          "text": [
            "\rExtracting 2020/03Mar:  84%|████████▍ | 26/31 [00:02<00:00, 12.65it/s]"
          ]
        },
        {
          "output_type": "stream",
          "name": "stdout",
          "text": [
            "✅ Extracted: IISC00IND_R_20200630000_01D_30S_MO.crx.gz ➔ IISC00IND_R_20200630000_01D_30S_MO.crx\n"
          ]
        },
        {
          "output_type": "stream",
          "name": "stderr",
          "text": [
            "\rExtracting 2020/03Mar:  90%|█████████ | 28/31 [00:02<00:00, 12.64it/s]"
          ]
        },
        {
          "output_type": "stream",
          "name": "stdout",
          "text": [
            "✅ Extracted: IISC00IND_R_20200790000_01D_30S_MO.crx.gz ➔ IISC00IND_R_20200790000_01D_30S_MO.crx\n",
            "✅ Extracted: IISC00IND_R_20200610000_01D_30S_MO.crx.gz ➔ IISC00IND_R_20200610000_01D_30S_MO.crx\n",
            "✅ Extracted: IISC00IND_R_20200690000_01D_30S_MO.crx.gz ➔ IISC00IND_R_20200690000_01D_30S_MO.crx\n"
          ]
        },
        {
          "output_type": "stream",
          "name": "stderr",
          "text": [
            "Extracting 2020/03Mar: 100%|██████████| 31/31 [00:02<00:00, 12.36it/s]\n"
          ]
        },
        {
          "output_type": "stream",
          "name": "stdout",
          "text": [
            "✅ Extracted: IISC00IND_R_20200850000_01D_30S_MO.crx.gz ➔ IISC00IND_R_20200850000_01D_30S_MO.crx\n",
            "✅ Extracted: IISC00IND_R_20200800000_01D_30S_MO.crx.gz ➔ IISC00IND_R_20200800000_01D_30S_MO.crx\n"
          ]
        },
        {
          "output_type": "stream",
          "name": "stderr",
          "text": [
            "\rExtracting 2020/04Apr:   0%|          | 0/29 [00:00<?, ?it/s]"
          ]
        },
        {
          "output_type": "stream",
          "name": "stdout",
          "text": [
            "✅ Extracted: IISC00IND_R_20201060000_01D_30S_MO.crx.gz ➔ IISC00IND_R_20201060000_01D_30S_MO.crx\n"
          ]
        },
        {
          "output_type": "stream",
          "name": "stderr",
          "text": [
            "Extracting 2020/04Apr:  14%|█▍        | 4/29 [00:00<00:01, 15.91it/s]"
          ]
        },
        {
          "output_type": "stream",
          "name": "stdout",
          "text": [
            "✅ Extracted: IISC00IND_R_20201100000_01D_30S_MO.crx.gz ➔ IISC00IND_R_20201100000_01D_30S_MO.crx\n",
            "✅ Extracted: IISC00IND_R_20201140000_01D_30S_MO.crx.gz ➔ IISC00IND_R_20201140000_01D_30S_MO.crx\n",
            "✅ Extracted: IISC00IND_R_20201200000_01D_30S_MO.crx.gz ➔ IISC00IND_R_20201200000_01D_30S_MO.crx\n"
          ]
        },
        {
          "output_type": "stream",
          "name": "stderr",
          "text": [
            "\rExtracting 2020/04Apr:  21%|██        | 6/29 [00:00<00:02, 10.59it/s]"
          ]
        },
        {
          "output_type": "stream",
          "name": "stdout",
          "text": [
            "✅ Extracted: IISC00IND_R_20201160000_01D_30S_MO.crx.gz ➔ IISC00IND_R_20201160000_01D_30S_MO.crx\n",
            "✅ Extracted: IISC00IND_R_20201190000_01D_30S_MO.crx.gz ➔ IISC00IND_R_20201190000_01D_30S_MO.crx\n"
          ]
        },
        {
          "output_type": "stream",
          "name": "stderr",
          "text": [
            "\rExtracting 2020/04Apr:  28%|██▊       | 8/29 [00:00<00:02,  9.95it/s]"
          ]
        },
        {
          "output_type": "stream",
          "name": "stdout",
          "text": [
            "✅ Extracted: IISC00IND_R_20200970000_01D_30S_MO.crx.gz ➔ IISC00IND_R_20200970000_01D_30S_MO.crx\n",
            "✅ Extracted: IISC00IND_R_20201030000_01D_30S_MO.crx.gz ➔ IISC00IND_R_20201030000_01D_30S_MO.crx\n",
            "✅ Extracted: IISC00IND_R_20201010000_01D_30S_MO.crx.gz ➔ IISC00IND_R_20201010000_01D_30S_MO.crx\n"
          ]
        },
        {
          "output_type": "stream",
          "name": "stderr",
          "text": [
            "Extracting 2020/04Apr:  41%|████▏     | 12/29 [00:01<00:01, 11.60it/s]"
          ]
        },
        {
          "output_type": "stream",
          "name": "stdout",
          "text": [
            "✅ Extracted: IISC00IND_R_20201040000_01D_30S_MO.crx.gz ➔ IISC00IND_R_20201040000_01D_30S_MO.crx\n",
            "✅ Extracted: IISC00IND_R_20201120000_01D_30S_MO.crx.gz ➔ IISC00IND_R_20201120000_01D_30S_MO.crx\n",
            "✅ Extracted: IISC00IND_R_20200950000_01D_30S_MO.crx.gz ➔ IISC00IND_R_20200950000_01D_30S_MO.crx\n"
          ]
        },
        {
          "output_type": "stream",
          "name": "stderr",
          "text": [
            "\rExtracting 2020/04Apr:  48%|████▊     | 14/29 [00:01<00:01, 12.33it/s]"
          ]
        },
        {
          "output_type": "stream",
          "name": "stdout",
          "text": [
            "✅ Extracted: IISC00IND_R_20201210000_01D_30S_MO.crx.gz ➔ IISC00IND_R_20201210000_01D_30S_MO.crx\n",
            "✅ Extracted: IISC00IND_R_20200920000_01D_30S_MO.crx.gz ➔ IISC00IND_R_20200920000_01D_30S_MO.crx\n",
            "✅ Extracted: IISC00IND_R_20201180000_01D_30S_MO.crx.gz ➔ IISC00IND_R_20201180000_01D_30S_MO.crx\n"
          ]
        },
        {
          "output_type": "stream",
          "name": "stderr",
          "text": [
            "Extracting 2020/04Apr:  66%|██████▌   | 19/29 [00:01<00:00, 14.69it/s]"
          ]
        },
        {
          "output_type": "stream",
          "name": "stdout",
          "text": [
            "✅ Extracted: IISC00IND_R_20200960000_01D_30S_MO.crx.gz ➔ IISC00IND_R_20200960000_01D_30S_MO.crx\n",
            "✅ Extracted: IISC00IND_R_20201020000_01D_30S_MO.crx.gz ➔ IISC00IND_R_20201020000_01D_30S_MO.crx\n",
            "✅ Extracted: IISC00IND_R_20201080000_01D_30S_MO.crx.gz ➔ IISC00IND_R_20201080000_01D_30S_MO.crx\n",
            "✅ Extracted: IISC00IND_R_20200980000_01D_30S_MO.crx.gz ➔ IISC00IND_R_20200980000_01D_30S_MO.crx\n"
          ]
        },
        {
          "output_type": "stream",
          "name": "stderr",
          "text": [
            "\rExtracting 2020/04Apr:  72%|███████▏  | 21/29 [00:01<00:00, 14.56it/s]"
          ]
        },
        {
          "output_type": "stream",
          "name": "stdout",
          "text": [
            "✅ Extracted: IISC00IND_R_20201070000_01D_30S_MO.crx.gz ➔ IISC00IND_R_20201070000_01D_30S_MO.crx\n",
            "✅ Extracted: IISC00IND_R_20201090000_01D_30S_MO.crx.gz ➔ IISC00IND_R_20201090000_01D_30S_MO.crx\n",
            "✅ Extracted: IISC00IND_R_20200990000_01D_30S_MO.crx.gz ➔ IISC00IND_R_20200990000_01D_30S_MO.crx\n"
          ]
        },
        {
          "output_type": "stream",
          "name": "stderr",
          "text": [
            "Extracting 2020/04Apr:  86%|████████▌ | 25/29 [00:02<00:00, 11.83it/s]"
          ]
        },
        {
          "output_type": "stream",
          "name": "stdout",
          "text": [
            "✅ Extracted: IISC00IND_R_20200940000_01D_30S_MO.crx.gz ➔ IISC00IND_R_20200940000_01D_30S_MO.crx\n",
            "✅ Extracted: IISC00IND_R_20201110000_01D_30S_MO.crx.gz ➔ IISC00IND_R_20201110000_01D_30S_MO.crx\n",
            "✅ Extracted: IISC00IND_R_20200930000_01D_30S_MO.crx.gz ➔ IISC00IND_R_20200930000_01D_30S_MO.crx\n"
          ]
        },
        {
          "output_type": "stream",
          "name": "stderr",
          "text": [
            "\rExtracting 2020/04Apr:  93%|█████████▎| 27/29 [00:02<00:00, 12.15it/s]"
          ]
        },
        {
          "output_type": "stream",
          "name": "stdout",
          "text": [
            "✅ Extracted: IISC00IND_R_20201000000_01D_30S_MO.crx.gz ➔ IISC00IND_R_20201000000_01D_30S_MO.crx\n",
            "✅ Extracted: IISC00IND_R_20201150000_01D_30S_MO.crx.gz ➔ IISC00IND_R_20201150000_01D_30S_MO.crx\n",
            "✅ Extracted: IISC00IND_R_20201170000_01D_30S_MO.crx.gz ➔ IISC00IND_R_20201170000_01D_30S_MO.crx\n"
          ]
        },
        {
          "output_type": "stream",
          "name": "stderr",
          "text": [
            "Extracting 2020/04Apr: 100%|██████████| 29/29 [00:02<00:00, 12.22it/s]\n"
          ]
        },
        {
          "output_type": "stream",
          "name": "stdout",
          "text": [
            "✅ Extracted: IISC00IND_R_20201050000_01D_30S_MO.crx.gz ➔ IISC00IND_R_20201050000_01D_30S_MO.crx\n"
          ]
        },
        {
          "output_type": "stream",
          "name": "stderr",
          "text": [
            "Extracting 2020/07Jul:   6%|▋         | 2/31 [00:00<00:02, 13.58it/s]"
          ]
        },
        {
          "output_type": "stream",
          "name": "stdout",
          "text": [
            "✅ Extracted: IISC00IND_R_20201890000_01D_30S_MO.crx.gz ➔ IISC00IND_R_20201890000_01D_30S_MO.crx\n",
            "✅ Extracted: IISC00IND_R_20201920000_01D_30S_MO.crx.gz ➔ IISC00IND_R_20201920000_01D_30S_MO.crx\n",
            "✅ Extracted: IISC00IND_R_20202040000_01D_30S_MO.crx.gz ➔ IISC00IND_R_20202040000_01D_30S_MO.crx\n"
          ]
        },
        {
          "output_type": "stream",
          "name": "stderr",
          "text": [
            "\rExtracting 2020/07Jul:  13%|█▎        | 4/31 [00:00<00:02, 12.98it/s]"
          ]
        },
        {
          "output_type": "stream",
          "name": "stdout",
          "text": [
            "✅ Extracted: IISC00IND_R_20201900000_01D_30S_MO.crx.gz ➔ IISC00IND_R_20201900000_01D_30S_MO.crx\n",
            "✅ Extracted: IISC00IND_R_20202110000_01D_30S_MO.crx.gz ➔ IISC00IND_R_20202110000_01D_30S_MO.crx\n"
          ]
        },
        {
          "output_type": "stream",
          "name": "stderr",
          "text": [
            "\rExtracting 2020/07Jul:  19%|█▉        | 6/31 [00:00<00:01, 12.86it/s]"
          ]
        },
        {
          "output_type": "stream",
          "name": "stdout",
          "text": [
            "✅ Extracted: IISC00IND_R_20201840000_01D_30S_MO.crx.gz ➔ IISC00IND_R_20201840000_01D_30S_MO.crx\n"
          ]
        },
        {
          "output_type": "stream",
          "name": "stderr",
          "text": [
            "\rExtracting 2020/07Jul:  26%|██▌       | 8/31 [00:00<00:01, 13.18it/s]"
          ]
        },
        {
          "output_type": "stream",
          "name": "stdout",
          "text": [
            "✅ Extracted: IISC00IND_R_20201850000_01D_30S_MO.crx.gz ➔ IISC00IND_R_20201850000_01D_30S_MO.crx\n",
            "✅ Extracted: IISC00IND_R_20202070000_01D_30S_MO.crx.gz ➔ IISC00IND_R_20202070000_01D_30S_MO.crx\n",
            "✅ Extracted: IISC00IND_R_20202030000_01D_30S_MO.crx.gz ➔ IISC00IND_R_20202030000_01D_30S_MO.crx\n"
          ]
        },
        {
          "output_type": "stream",
          "name": "stderr",
          "text": [
            "\rExtracting 2020/07Jul:  32%|███▏      | 10/31 [00:00<00:01, 13.24it/s]"
          ]
        },
        {
          "output_type": "stream",
          "name": "stdout",
          "text": [
            "✅ Extracted: IISC00IND_R_20201980000_01D_30S_MO.crx.gz ➔ IISC00IND_R_20201980000_01D_30S_MO.crx\n",
            "✅ Extracted: IISC00IND_R_20201970000_01D_30S_MO.crx.gz ➔ IISC00IND_R_20201970000_01D_30S_MO.crx\n"
          ]
        },
        {
          "output_type": "stream",
          "name": "stderr",
          "text": [
            "\rExtracting 2020/07Jul:  39%|███▊      | 12/31 [00:00<00:01, 13.13it/s]"
          ]
        },
        {
          "output_type": "stream",
          "name": "stdout",
          "text": [
            "✅ Extracted: IISC00IND_R_20202120000_01D_30S_MO.crx.gz ➔ IISC00IND_R_20202120000_01D_30S_MO.crx\n"
          ]
        },
        {
          "output_type": "stream",
          "name": "stderr",
          "text": [
            "\rExtracting 2020/07Jul:  45%|████▌     | 14/31 [00:01<00:01, 13.37it/s]"
          ]
        },
        {
          "output_type": "stream",
          "name": "stdout",
          "text": [
            "✅ Extracted: IISC00IND_R_20202080000_01D_30S_MO.crx.gz ➔ IISC00IND_R_20202080000_01D_30S_MO.crx\n",
            "✅ Extracted: IISC00IND_R_20201930000_01D_30S_MO.crx.gz ➔ IISC00IND_R_20201930000_01D_30S_MO.crx\n",
            "✅ Extracted: IISC00IND_R_20201940000_01D_30S_MO.crx.gz ➔ IISC00IND_R_20201940000_01D_30S_MO.crx\n"
          ]
        },
        {
          "output_type": "stream",
          "name": "stderr",
          "text": [
            "\rExtracting 2020/07Jul:  52%|█████▏    | 16/31 [00:01<00:01, 13.51it/s]"
          ]
        },
        {
          "output_type": "stream",
          "name": "stdout",
          "text": [
            "✅ Extracted: IISC00IND_R_20202050000_01D_30S_MO.crx.gz ➔ IISC00IND_R_20202050000_01D_30S_MO.crx\n",
            "✅ Extracted: IISC00IND_R_20201990000_01D_30S_MO.crx.gz ➔ IISC00IND_R_20201990000_01D_30S_MO.crx\n"
          ]
        },
        {
          "output_type": "stream",
          "name": "stderr",
          "text": [
            "\rExtracting 2020/07Jul:  58%|█████▊    | 18/31 [00:01<00:00, 13.73it/s]"
          ]
        },
        {
          "output_type": "stream",
          "name": "stdout",
          "text": [
            "✅ Extracted: IISC00IND_R_20201830000_01D_30S_MO.crx.gz ➔ IISC00IND_R_20201830000_01D_30S_MO.crx\n"
          ]
        },
        {
          "output_type": "stream",
          "name": "stderr",
          "text": [
            "\rExtracting 2020/07Jul:  65%|██████▍   | 20/31 [00:01<00:00, 13.69it/s]"
          ]
        },
        {
          "output_type": "stream",
          "name": "stdout",
          "text": [
            "✅ Extracted: IISC00IND_R_20202130000_01D_30S_MO.crx.gz ➔ IISC00IND_R_20202130000_01D_30S_MO.crx\n",
            "✅ Extracted: IISC00IND_R_20201880000_01D_30S_MO.crx.gz ➔ IISC00IND_R_20201880000_01D_30S_MO.crx\n"
          ]
        },
        {
          "output_type": "stream",
          "name": "stderr",
          "text": [
            "\rExtracting 2020/07Jul:  71%|███████   | 22/31 [00:01<00:00, 11.23it/s]"
          ]
        },
        {
          "output_type": "stream",
          "name": "stdout",
          "text": [
            "✅ Extracted: IISC00IND_R_20201910000_01D_30S_MO.crx.gz ➔ IISC00IND_R_20201910000_01D_30S_MO.crx\n",
            "✅ Extracted: IISC00IND_R_20202100000_01D_30S_MO.crx.gz ➔ IISC00IND_R_20202100000_01D_30S_MO.crx\n",
            "✅ Extracted: IISC00IND_R_20201960000_01D_30S_MO.crx.gz ➔ IISC00IND_R_20201960000_01D_30S_MO.crx\n"
          ]
        },
        {
          "output_type": "stream",
          "name": "stderr",
          "text": [
            "Extracting 2020/07Jul:  84%|████████▍ | 26/31 [00:02<00:00, 12.20it/s]"
          ]
        },
        {
          "output_type": "stream",
          "name": "stdout",
          "text": [
            "✅ Extracted: IISC00IND_R_20202000000_01D_30S_MO.crx.gz ➔ IISC00IND_R_20202000000_01D_30S_MO.crx\n",
            "✅ Extracted: IISC00IND_R_20202010000_01D_30S_MO.crx.gz ➔ IISC00IND_R_20202010000_01D_30S_MO.crx\n",
            "✅ Extracted: IISC00IND_R_20202060000_01D_30S_MO.crx.gz ➔ IISC00IND_R_20202060000_01D_30S_MO.crx\n"
          ]
        },
        {
          "output_type": "stream",
          "name": "stderr",
          "text": [
            "\rExtracting 2020/07Jul:  90%|█████████ | 28/31 [00:02<00:00, 12.54it/s]"
          ]
        },
        {
          "output_type": "stream",
          "name": "stdout",
          "text": [
            "✅ Extracted: IISC00IND_R_20201950000_01D_30S_MO.crx.gz ➔ IISC00IND_R_20201950000_01D_30S_MO.crx\n",
            "✅ Extracted: IISC00IND_R_20201860000_01D_30S_MO.crx.gz ➔ IISC00IND_R_20201860000_01D_30S_MO.crx\n",
            "✅ Extracted: IISC00IND_R_20202020000_01D_30S_MO.crx.gz ➔ IISC00IND_R_20202020000_01D_30S_MO.crx\n"
          ]
        },
        {
          "output_type": "stream",
          "name": "stderr",
          "text": [
            "Extracting 2020/07Jul: 100%|██████████| 31/31 [00:02<00:00, 12.86it/s]\n"
          ]
        },
        {
          "output_type": "stream",
          "name": "stdout",
          "text": [
            "✅ Extracted: IISC00IND_R_20201870000_01D_30S_MO.crx.gz ➔ IISC00IND_R_20201870000_01D_30S_MO.crx\n",
            "✅ Extracted: IISC00IND_R_20202090000_01D_30S_MO.crx.gz ➔ IISC00IND_R_20202090000_01D_30S_MO.crx\n"
          ]
        },
        {
          "output_type": "stream",
          "name": "stderr",
          "text": [
            "\rExtracting 2020/09Sep:   0%|          | 0/28 [00:00<?, ?it/s]"
          ]
        },
        {
          "output_type": "stream",
          "name": "stdout",
          "text": [
            "✅ Extracted: IISC00IND_R_20202630000_01D_30S_MO.crx.gz ➔ IISC00IND_R_20202630000_01D_30S_MO.crx\n"
          ]
        },
        {
          "output_type": "stream",
          "name": "stderr",
          "text": [
            "\rExtracting 2020/09Sep:   7%|▋         | 2/28 [00:00<00:02, 12.44it/s]"
          ]
        },
        {
          "output_type": "stream",
          "name": "stdout",
          "text": [
            "✅ Extracted: IISC00IND_R_20202470000_01D_30S_MO.crx.gz ➔ IISC00IND_R_20202470000_01D_30S_MO.crx\n",
            "✅ Extracted: IISC00IND_R_20202680000_01D_30S_MO.crx.gz ➔ IISC00IND_R_20202680000_01D_30S_MO.crx\n"
          ]
        },
        {
          "output_type": "stream",
          "name": "stderr",
          "text": [
            "\rExtracting 2020/09Sep:  14%|█▍        | 4/28 [00:00<00:02, 11.56it/s]"
          ]
        },
        {
          "output_type": "stream",
          "name": "stdout",
          "text": [
            "✅ Extracted: IISC00IND_R_20202450000_01D_30S_MO.crx.gz ➔ IISC00IND_R_20202450000_01D_30S_MO.crx\n"
          ]
        },
        {
          "output_type": "stream",
          "name": "stderr",
          "text": [
            "\rExtracting 2020/09Sep:  21%|██▏       | 6/28 [00:00<00:02, 10.89it/s]"
          ]
        },
        {
          "output_type": "stream",
          "name": "stdout",
          "text": [
            "✅ Extracted: IISC00IND_R_20202560000_01D_30S_MO.crx.gz ➔ IISC00IND_R_20202560000_01D_30S_MO.crx\n",
            "✅ Extracted: IISC00IND_R_20202580000_01D_30S_MO.crx.gz ➔ IISC00IND_R_20202580000_01D_30S_MO.crx\n"
          ]
        },
        {
          "output_type": "stream",
          "name": "stderr",
          "text": [
            "\rExtracting 2020/09Sep:  29%|██▊       | 8/28 [00:00<00:02,  9.91it/s]"
          ]
        },
        {
          "output_type": "stream",
          "name": "stdout",
          "text": [
            "✅ Extracted: IISC00IND_R_20202570000_01D_30S_MO.crx.gz ➔ IISC00IND_R_20202570000_01D_30S_MO.crx\n",
            "✅ Extracted: IISC00IND_R_20202700000_01D_30S_MO.crx.gz ➔ IISC00IND_R_20202700000_01D_30S_MO.crx\n"
          ]
        },
        {
          "output_type": "stream",
          "name": "stderr",
          "text": [
            "\rExtracting 2020/09Sep:  36%|███▌      | 10/28 [00:01<00:01,  9.18it/s]"
          ]
        },
        {
          "output_type": "stream",
          "name": "stdout",
          "text": [
            "✅ Extracted: IISC00IND_R_20202550000_01D_30S_MO.crx.gz ➔ IISC00IND_R_20202550000_01D_30S_MO.crx\n",
            "✅ Extracted: IISC00IND_R_20202720000_01D_30S_MO.crx.gz ➔ IISC00IND_R_20202720000_01D_30S_MO.crx\n"
          ]
        },
        {
          "output_type": "stream",
          "name": "stderr",
          "text": [
            "Extracting 2020/09Sep:  43%|████▎     | 12/28 [00:01<00:01,  8.90it/s]"
          ]
        },
        {
          "output_type": "stream",
          "name": "stdout",
          "text": [
            "✅ Extracted: IISC00IND_R_20202600000_01D_30S_MO.crx.gz ➔ IISC00IND_R_20202600000_01D_30S_MO.crx\n",
            "✅ Extracted: IISC00IND_R_20202670000_01D_30S_MO.crx.gz ➔ IISC00IND_R_20202670000_01D_30S_MO.crx\n"
          ]
        },
        {
          "output_type": "stream",
          "name": "stderr",
          "text": [
            "Extracting 2020/09Sep:  50%|█████     | 14/28 [00:01<00:01,  8.16it/s]"
          ]
        },
        {
          "output_type": "stream",
          "name": "stdout",
          "text": [
            "✅ Extracted: IISC00IND_R_20202610000_01D_30S_MO.crx.gz ➔ IISC00IND_R_20202610000_01D_30S_MO.crx\n",
            "✅ Extracted: IISC00IND_R_20202740000_01D_30S_MO.crx.gz ➔ IISC00IND_R_20202740000_01D_30S_MO.crx\n"
          ]
        },
        {
          "output_type": "stream",
          "name": "stderr",
          "text": [
            "Extracting 2020/09Sep:  57%|█████▋    | 16/28 [00:01<00:01,  8.25it/s]"
          ]
        },
        {
          "output_type": "stream",
          "name": "stdout",
          "text": [
            "✅ Extracted: IISC00IND_R_20202490000_01D_30S_MO.crx.gz ➔ IISC00IND_R_20202490000_01D_30S_MO.crx\n",
            "✅ Extracted: IISC00IND_R_20202660000_01D_30S_MO.crx.gz ➔ IISC00IND_R_20202660000_01D_30S_MO.crx\n"
          ]
        },
        {
          "output_type": "stream",
          "name": "stderr",
          "text": [
            "Extracting 2020/09Sep:  64%|██████▍   | 18/28 [00:01<00:01,  8.75it/s]"
          ]
        },
        {
          "output_type": "stream",
          "name": "stdout",
          "text": [
            "✅ Extracted: IISC00IND_R_20202650000_01D_30S_MO.crx.gz ➔ IISC00IND_R_20202650000_01D_30S_MO.crx\n",
            "✅ Extracted: IISC00IND_R_20202510000_01D_30S_MO.crx.gz ➔ IISC00IND_R_20202510000_01D_30S_MO.crx\n"
          ]
        },
        {
          "output_type": "stream",
          "name": "stderr",
          "text": [
            "Extracting 2020/09Sep:  71%|███████▏  | 20/28 [00:02<00:00,  8.98it/s]"
          ]
        },
        {
          "output_type": "stream",
          "name": "stdout",
          "text": [
            "✅ Extracted: IISC00IND_R_20202540000_01D_30S_MO.crx.gz ➔ IISC00IND_R_20202540000_01D_30S_MO.crx\n",
            "✅ Extracted: IISC00IND_R_20202730000_01D_30S_MO.crx.gz ➔ IISC00IND_R_20202730000_01D_30S_MO.crx\n",
            "✅ Extracted: IISC00IND_R_20202530000_01D_30S_MO.crx.gz ➔ IISC00IND_R_20202530000_01D_30S_MO.crx\n"
          ]
        },
        {
          "output_type": "stream",
          "name": "stderr",
          "text": [
            "Extracting 2020/09Sep:  86%|████████▌ | 24/28 [00:02<00:00, 10.14it/s]"
          ]
        },
        {
          "output_type": "stream",
          "name": "stdout",
          "text": [
            "✅ Extracted: IISC00IND_R_20202690000_01D_30S_MO.crx.gz ➔ IISC00IND_R_20202690000_01D_30S_MO.crx\n",
            "✅ Extracted: IISC00IND_R_20202480000_01D_30S_MO.crx.gz ➔ IISC00IND_R_20202480000_01D_30S_MO.crx\n",
            "✅ Extracted: IISC00IND_R_20202620000_01D_30S_MO.crx.gz ➔ IISC00IND_R_20202620000_01D_30S_MO.crx\n"
          ]
        },
        {
          "output_type": "stream",
          "name": "stderr",
          "text": [
            "\rExtracting 2020/09Sep:  93%|█████████▎| 26/28 [00:02<00:00, 10.12it/s]"
          ]
        },
        {
          "output_type": "stream",
          "name": "stdout",
          "text": [
            "✅ Extracted: IISC00IND_R_20202500000_01D_30S_MO.crx.gz ➔ IISC00IND_R_20202500000_01D_30S_MO.crx\n",
            "✅ Extracted: IISC00IND_R_20202590000_01D_30S_MO.crx.gz ➔ IISC00IND_R_20202590000_01D_30S_MO.crx\n",
            "✅ Extracted: IISC00IND_R_20202460000_01D_30S_MO.crx.gz ➔ IISC00IND_R_20202460000_01D_30S_MO.crx\n"
          ]
        },
        {
          "output_type": "stream",
          "name": "stderr",
          "text": [
            "Extracting 2020/09Sep: 100%|██████████| 28/28 [00:02<00:00,  9.50it/s]\n"
          ]
        },
        {
          "output_type": "stream",
          "name": "stdout",
          "text": [
            "✅ Extracted: IISC00IND_R_20202710000_01D_30S_MO.crx.gz ➔ IISC00IND_R_20202710000_01D_30S_MO.crx\n"
          ]
        },
        {
          "output_type": "stream",
          "name": "stderr",
          "text": [
            "Extracting 2020/11Nov:   7%|▋         | 2/30 [00:00<00:02, 11.65it/s]"
          ]
        },
        {
          "output_type": "stream",
          "name": "stdout",
          "text": [
            "✅ Extracted: IISC00IND_R_20203110000_01D_30S_MO.crx.gz ➔ IISC00IND_R_20203110000_01D_30S_MO.crx\n",
            "✅ Extracted: IISC00IND_R_20203280000_01D_30S_MO.crx.gz ➔ IISC00IND_R_20203280000_01D_30S_MO.crx\n",
            "✅ Extracted: IISC00IND_R_20203140000_01D_30S_MO.crx.gz ➔ IISC00IND_R_20203140000_01D_30S_MO.crx\n"
          ]
        },
        {
          "output_type": "stream",
          "name": "stderr",
          "text": [
            "\rExtracting 2020/11Nov:  13%|█▎        | 4/30 [00:00<00:02, 12.58it/s]"
          ]
        },
        {
          "output_type": "stream",
          "name": "stdout",
          "text": [
            "✅ Extracted: IISC00IND_R_20203220000_01D_30S_MO.crx.gz ➔ IISC00IND_R_20203220000_01D_30S_MO.crx\n",
            "✅ Extracted: IISC00IND_R_20203080000_01D_30S_MO.crx.gz ➔ IISC00IND_R_20203080000_01D_30S_MO.crx\n"
          ]
        },
        {
          "output_type": "stream",
          "name": "stderr",
          "text": [
            "Extracting 2020/11Nov:  27%|██▋       | 8/30 [00:00<00:01, 11.77it/s]"
          ]
        },
        {
          "output_type": "stream",
          "name": "stdout",
          "text": [
            "✅ Extracted: IISC00IND_R_20203340000_01D_30S_MO.crx.gz ➔ IISC00IND_R_20203340000_01D_30S_MO.crx\n",
            "✅ Extracted: IISC00IND_R_20203060000_01D_30S_MO.crx.gz ➔ IISC00IND_R_20203060000_01D_30S_MO.crx\n",
            "✅ Extracted: IISC00IND_R_20203180000_01D_30S_MO.crx.gz ➔ IISC00IND_R_20203180000_01D_30S_MO.crx\n"
          ]
        },
        {
          "output_type": "stream",
          "name": "stderr",
          "text": [
            "\rExtracting 2020/11Nov:  33%|███▎      | 10/30 [00:00<00:01, 12.44it/s]"
          ]
        },
        {
          "output_type": "stream",
          "name": "stdout",
          "text": [
            "✅ Extracted: IISC00IND_R_20203130000_01D_30S_MO.crx.gz ➔ IISC00IND_R_20203130000_01D_30S_MO.crx\n",
            "✅ Extracted: IISC00IND_R_20203120000_01D_30S_MO.crx.gz ➔ IISC00IND_R_20203120000_01D_30S_MO.crx\n",
            "✅ Extracted: IISC00IND_R_20203090000_01D_30S_MO.crx.gz ➔ IISC00IND_R_20203090000_01D_30S_MO.crx\n"
          ]
        },
        {
          "output_type": "stream",
          "name": "stderr",
          "text": [
            "Extracting 2020/11Nov:  47%|████▋     | 14/30 [00:01<00:01, 13.11it/s]"
          ]
        },
        {
          "output_type": "stream",
          "name": "stdout",
          "text": [
            "✅ Extracted: IISC00IND_R_20203290000_01D_30S_MO.crx.gz ➔ IISC00IND_R_20203290000_01D_30S_MO.crx\n",
            "✅ Extracted: IISC00IND_R_20203190000_01D_30S_MO.crx.gz ➔ IISC00IND_R_20203190000_01D_30S_MO.crx\n",
            "✅ Extracted: IISC00IND_R_20203310000_01D_30S_MO.crx.gz ➔ IISC00IND_R_20203310000_01D_30S_MO.crx\n"
          ]
        },
        {
          "output_type": "stream",
          "name": "stderr",
          "text": [
            "\rExtracting 2020/11Nov:  53%|█████▎    | 16/30 [00:01<00:01, 12.58it/s]"
          ]
        },
        {
          "output_type": "stream",
          "name": "stdout",
          "text": [
            "✅ Extracted: IISC00IND_R_20203350000_01D_30S_MO.crx.gz ➔ IISC00IND_R_20203350000_01D_30S_MO.crx\n",
            "✅ Extracted: IISC00IND_R_20203070000_01D_30S_MO.crx.gz ➔ IISC00IND_R_20203070000_01D_30S_MO.crx\n",
            "✅ Extracted: IISC00IND_R_20203210000_01D_30S_MO.crx.gz ➔ IISC00IND_R_20203210000_01D_30S_MO.crx\n"
          ]
        },
        {
          "output_type": "stream",
          "name": "stderr",
          "text": [
            "Extracting 2020/11Nov:  67%|██████▋   | 20/30 [00:01<00:00, 13.22it/s]"
          ]
        },
        {
          "output_type": "stream",
          "name": "stdout",
          "text": [
            "✅ Extracted: IISC00IND_R_20203320000_01D_30S_MO.crx.gz ➔ IISC00IND_R_20203320000_01D_30S_MO.crx\n",
            "✅ Extracted: IISC00IND_R_20203270000_01D_30S_MO.crx.gz ➔ IISC00IND_R_20203270000_01D_30S_MO.crx\n",
            "✅ Extracted: IISC00IND_R_20203230000_01D_30S_MO.crx.gz ➔ IISC00IND_R_20203230000_01D_30S_MO.crx\n"
          ]
        },
        {
          "output_type": "stream",
          "name": "stderr",
          "text": [
            "\rExtracting 2020/11Nov:  73%|███████▎  | 22/30 [00:01<00:00, 13.42it/s]"
          ]
        },
        {
          "output_type": "stream",
          "name": "stdout",
          "text": [
            "✅ Extracted: IISC00IND_R_20203330000_01D_30S_MO.crx.gz ➔ IISC00IND_R_20203330000_01D_30S_MO.crx\n",
            "✅ Extracted: IISC00IND_R_20203170000_01D_30S_MO.crx.gz ➔ IISC00IND_R_20203170000_01D_30S_MO.crx\n",
            "✅ Extracted: IISC00IND_R_20203200000_01D_30S_MO.crx.gz ➔ IISC00IND_R_20203200000_01D_30S_MO.crx\n"
          ]
        },
        {
          "output_type": "stream",
          "name": "stderr",
          "text": [
            "Extracting 2020/11Nov:  87%|████████▋ | 26/30 [00:02<00:00, 13.86it/s]"
          ]
        },
        {
          "output_type": "stream",
          "name": "stdout",
          "text": [
            "✅ Extracted: IISC00IND_R_20203300000_01D_30S_MO.crx.gz ➔ IISC00IND_R_20203300000_01D_30S_MO.crx\n",
            "✅ Extracted: IISC00IND_R_20203150000_01D_30S_MO.crx.gz ➔ IISC00IND_R_20203150000_01D_30S_MO.crx\n",
            "✅ Extracted: IISC00IND_R_20203240000_01D_30S_MO.crx.gz ➔ IISC00IND_R_20203240000_01D_30S_MO.crx\n",
            "✅ Extracted: IISC00IND_R_20203250000_01D_30S_MO.crx.gz ➔ IISC00IND_R_20203250000_01D_30S_MO.crx\n"
          ]
        },
        {
          "output_type": "stream",
          "name": "stderr",
          "text": [
            "Extracting 2020/11Nov: 100%|██████████| 30/30 [00:02<00:00, 13.16it/s]\n"
          ]
        },
        {
          "output_type": "stream",
          "name": "stdout",
          "text": [
            "✅ Extracted: IISC00IND_R_20203260000_01D_30S_MO.crx.gz ➔ IISC00IND_R_20203260000_01D_30S_MO.crx\n",
            "✅ Extracted: IISC00IND_R_20203160000_01D_30S_MO.crx.gz ➔ IISC00IND_R_20203160000_01D_30S_MO.crx\n",
            "✅ Extracted: IISC00IND_R_20203100000_01D_30S_MO.crx.gz ➔ IISC00IND_R_20203100000_01D_30S_MO.crx\n"
          ]
        },
        {
          "output_type": "stream",
          "name": "stderr",
          "text": [
            "Extracting 2020/01Jan:   6%|▋         | 2/31 [00:00<00:02, 12.91it/s]"
          ]
        },
        {
          "output_type": "stream",
          "name": "stdout",
          "text": [
            "✅ Extracted: IISC00IND_R_20200290000_01D_30S_MO.crx.gz ➔ IISC00IND_R_20200290000_01D_30S_MO.crx\n",
            "✅ Extracted: IISC00IND_R_20200060000_01D_30S_MO.crx.gz ➔ IISC00IND_R_20200060000_01D_30S_MO.crx\n"
          ]
        },
        {
          "output_type": "stream",
          "name": "stderr",
          "text": [
            "\rExtracting 2020/01Jan:  13%|█▎        | 4/31 [00:00<00:02,  9.22it/s]"
          ]
        },
        {
          "output_type": "stream",
          "name": "stdout",
          "text": [
            "✅ Extracted: IISC00IND_R_20200310000_01D_30S_MO.crx.gz ➔ IISC00IND_R_20200310000_01D_30S_MO.crx\n",
            "✅ Extracted: IISC00IND_R_20200300000_01D_30S_MO.crx.gz ➔ IISC00IND_R_20200300000_01D_30S_MO.crx\n",
            "✅ Extracted: IISC00IND_R_20200040000_01D_30S_MO.crx.gz ➔ IISC00IND_R_20200040000_01D_30S_MO.crx\n"
          ]
        },
        {
          "output_type": "stream",
          "name": "stderr",
          "text": [
            "Extracting 2020/01Jan:  26%|██▌       | 8/31 [00:00<00:02,  9.92it/s]"
          ]
        },
        {
          "output_type": "stream",
          "name": "stdout",
          "text": [
            "✅ Extracted: IISC00IND_R_20200010000_01D_30S_MO.crx.gz ➔ IISC00IND_R_20200010000_01D_30S_MO.crx\n",
            "✅ Extracted: IISC00IND_R_20200280000_01D_30S_MO.crx.gz ➔ IISC00IND_R_20200280000_01D_30S_MO.crx\n",
            "✅ Extracted: IISC00IND_R_20200120000_01D_30S_MO.crx.gz ➔ IISC00IND_R_20200120000_01D_30S_MO.crx\n"
          ]
        },
        {
          "output_type": "stream",
          "name": "stderr",
          "text": [
            "\rExtracting 2020/01Jan:  32%|███▏      | 10/31 [00:00<00:01, 10.90it/s]"
          ]
        },
        {
          "output_type": "stream",
          "name": "stdout",
          "text": [
            "✅ Extracted: IISC00IND_R_20200140000_01D_30S_MO.crx.gz ➔ IISC00IND_R_20200140000_01D_30S_MO.crx\n",
            "✅ Extracted: IISC00IND_R_20200050000_01D_30S_MO.crx.gz ➔ IISC00IND_R_20200050000_01D_30S_MO.crx\n",
            "✅ Extracted: IISC00IND_R_20200110000_01D_30S_MO.crx.gz ➔ IISC00IND_R_20200110000_01D_30S_MO.crx\n"
          ]
        },
        {
          "output_type": "stream",
          "name": "stderr",
          "text": [
            "Extracting 2020/01Jan:  45%|████▌     | 14/31 [00:01<00:01, 12.19it/s]"
          ]
        },
        {
          "output_type": "stream",
          "name": "stdout",
          "text": [
            "✅ Extracted: IISC00IND_R_20200070000_01D_30S_MO.crx.gz ➔ IISC00IND_R_20200070000_01D_30S_MO.crx\n",
            "✅ Extracted: IISC00IND_R_20200180000_01D_30S_MO.crx.gz ➔ IISC00IND_R_20200180000_01D_30S_MO.crx\n",
            "✅ Extracted: IISC00IND_R_20200170000_01D_30S_MO.crx.gz ➔ IISC00IND_R_20200170000_01D_30S_MO.crx\n"
          ]
        },
        {
          "output_type": "stream",
          "name": "stderr",
          "text": [
            "\rExtracting 2020/01Jan:  52%|█████▏    | 16/31 [00:01<00:01, 12.67it/s]"
          ]
        },
        {
          "output_type": "stream",
          "name": "stdout",
          "text": [
            "✅ Extracted: IISC00IND_R_20200030000_01D_30S_MO.crx.gz ➔ IISC00IND_R_20200030000_01D_30S_MO.crx\n",
            "✅ Extracted: IISC00IND_R_20200090000_01D_30S_MO.crx.gz ➔ IISC00IND_R_20200090000_01D_30S_MO.crx\n",
            "✅ Extracted: IISC00IND_R_20200270000_01D_30S_MO.crx.gz ➔ IISC00IND_R_20200270000_01D_30S_MO.crx\n"
          ]
        },
        {
          "output_type": "stream",
          "name": "stderr",
          "text": [
            "Extracting 2020/01Jan:  65%|██████▍   | 20/31 [00:01<00:00, 12.68it/s]"
          ]
        },
        {
          "output_type": "stream",
          "name": "stdout",
          "text": [
            "✅ Extracted: IISC00IND_R_20200020000_01D_30S_MO.crx.gz ➔ IISC00IND_R_20200020000_01D_30S_MO.crx\n",
            "✅ Extracted: IISC00IND_R_20200230000_01D_30S_MO.crx.gz ➔ IISC00IND_R_20200230000_01D_30S_MO.crx\n",
            "✅ Extracted: IISC00IND_R_20200200000_01D_30S_MO.crx.gz ➔ IISC00IND_R_20200200000_01D_30S_MO.crx\n"
          ]
        },
        {
          "output_type": "stream",
          "name": "stderr",
          "text": [
            "\rExtracting 2020/01Jan:  71%|███████   | 22/31 [00:01<00:00, 11.04it/s]"
          ]
        },
        {
          "output_type": "stream",
          "name": "stdout",
          "text": [
            "✅ Extracted: IISC00IND_R_20200240000_01D_30S_MO.crx.gz ➔ IISC00IND_R_20200240000_01D_30S_MO.crx\n",
            "✅ Extracted: IISC00IND_R_20200220000_01D_30S_MO.crx.gz ➔ IISC00IND_R_20200220000_01D_30S_MO.crx\n",
            "✅ Extracted: IISC00IND_R_20200100000_01D_30S_MO.crx.gz ➔ IISC00IND_R_20200100000_01D_30S_MO.crx\n"
          ]
        },
        {
          "output_type": "stream",
          "name": "stderr",
          "text": [
            "Extracting 2020/01Jan:  84%|████████▍ | 26/31 [00:02<00:00, 11.78it/s]"
          ]
        },
        {
          "output_type": "stream",
          "name": "stdout",
          "text": [
            "✅ Extracted: IISC00IND_R_20200260000_01D_30S_MO.crx.gz ➔ IISC00IND_R_20200260000_01D_30S_MO.crx\n",
            "✅ Extracted: IISC00IND_R_20200160000_01D_30S_MO.crx.gz ➔ IISC00IND_R_20200160000_01D_30S_MO.crx\n",
            "✅ Extracted: IISC00IND_R_20200250000_01D_30S_MO.crx.gz ➔ IISC00IND_R_20200250000_01D_30S_MO.crx\n"
          ]
        },
        {
          "output_type": "stream",
          "name": "stderr",
          "text": [
            "\rExtracting 2020/01Jan:  90%|█████████ | 28/31 [00:02<00:00, 11.92it/s]"
          ]
        },
        {
          "output_type": "stream",
          "name": "stdout",
          "text": [
            "✅ Extracted: IISC00IND_R_20200190000_01D_30S_MO.crx.gz ➔ IISC00IND_R_20200190000_01D_30S_MO.crx\n",
            "✅ Extracted: IISC00IND_R_20200130000_01D_30S_MO.crx.gz ➔ IISC00IND_R_20200130000_01D_30S_MO.crx\n",
            "✅ Extracted: IISC00IND_R_20200080000_01D_30S_MO.crx.gz ➔ IISC00IND_R_20200080000_01D_30S_MO.crx\n"
          ]
        },
        {
          "output_type": "stream",
          "name": "stderr",
          "text": [
            "Extracting 2020/01Jan: 100%|██████████| 31/31 [00:02<00:00, 11.63it/s]\n"
          ]
        },
        {
          "output_type": "stream",
          "name": "stdout",
          "text": [
            "✅ Extracted: IISC00IND_R_20200210000_01D_30S_MO.crx.gz ➔ IISC00IND_R_20200210000_01D_30S_MO.crx\n",
            "✅ Extracted: IISC00IND_R_20200150000_01D_30S_MO.crx.gz ➔ IISC00IND_R_20200150000_01D_30S_MO.crx\n"
          ]
        },
        {
          "output_type": "stream",
          "name": "stderr",
          "text": [
            "\rExtracting 2020/06Jun:   0%|          | 0/30 [00:00<?, ?it/s]"
          ]
        },
        {
          "output_type": "stream",
          "name": "stdout",
          "text": [
            "✅ Extracted: IISC00IND_R_20201630000_01D_30S_MO.crx.gz ➔ IISC00IND_R_20201630000_01D_30S_MO.crx\n"
          ]
        },
        {
          "output_type": "stream",
          "name": "stderr",
          "text": [
            "\rExtracting 2020/06Jun:   7%|▋         | 2/30 [00:00<00:02, 13.22it/s]"
          ]
        },
        {
          "output_type": "stream",
          "name": "stdout",
          "text": [
            "✅ Extracted: IISC00IND_R_20201540000_01D_30S_MO.crx.gz ➔ IISC00IND_R_20201540000_01D_30S_MO.crx\n",
            "✅ Extracted: IISC00IND_R_20201790000_01D_30S_MO.crx.gz ➔ IISC00IND_R_20201790000_01D_30S_MO.crx\n"
          ]
        },
        {
          "output_type": "stream",
          "name": "stderr",
          "text": [
            "\rExtracting 2020/06Jun:  13%|█▎        | 4/30 [00:00<00:01, 13.25it/s]"
          ]
        },
        {
          "output_type": "stream",
          "name": "stdout",
          "text": [
            "✅ Extracted: IISC00IND_R_20201810000_01D_30S_MO.crx.gz ➔ IISC00IND_R_20201810000_01D_30S_MO.crx\n"
          ]
        },
        {
          "output_type": "stream",
          "name": "stderr",
          "text": [
            "\rExtracting 2020/06Jun:  20%|██        | 6/30 [00:00<00:01, 13.58it/s]"
          ]
        },
        {
          "output_type": "stream",
          "name": "stdout",
          "text": [
            "✅ Extracted: IISC00IND_R_20201560000_01D_30S_MO.crx.gz ➔ IISC00IND_R_20201560000_01D_30S_MO.crx\n",
            "✅ Extracted: IISC00IND_R_20201570000_01D_30S_MO.crx.gz ➔ IISC00IND_R_20201570000_01D_30S_MO.crx\n",
            "✅ Extracted: IISC00IND_R_20201730000_01D_30S_MO.crx.gz ➔ IISC00IND_R_20201730000_01D_30S_MO.crx\n"
          ]
        },
        {
          "output_type": "stream",
          "name": "stderr",
          "text": [
            "\rExtracting 2020/06Jun:  27%|██▋       | 8/30 [00:00<00:01, 11.61it/s]"
          ]
        },
        {
          "output_type": "stream",
          "name": "stdout",
          "text": [
            "✅ Extracted: IISC00IND_R_20201700000_01D_30S_MO.crx.gz ➔ IISC00IND_R_20201700000_01D_30S_MO.crx\n"
          ]
        },
        {
          "output_type": "stream",
          "name": "stderr",
          "text": [
            "\rExtracting 2020/06Jun:  33%|███▎      | 10/30 [00:00<00:01, 12.01it/s]"
          ]
        },
        {
          "output_type": "stream",
          "name": "stdout",
          "text": [
            "✅ Extracted: IISC00IND_R_20201800000_01D_30S_MO.crx.gz ➔ IISC00IND_R_20201800000_01D_30S_MO.crx\n",
            "✅ Extracted: IISC00IND_R_20201690000_01D_30S_MO.crx.gz ➔ IISC00IND_R_20201690000_01D_30S_MO.crx\n",
            "✅ Extracted: IISC00IND_R_20201640000_01D_30S_MO.crx.gz ➔ IISC00IND_R_20201640000_01D_30S_MO.crx\n"
          ]
        },
        {
          "output_type": "stream",
          "name": "stderr",
          "text": [
            "\rExtracting 2020/06Jun:  40%|████      | 12/30 [00:00<00:01, 12.32it/s]"
          ]
        },
        {
          "output_type": "stream",
          "name": "stdout",
          "text": [
            "✅ Extracted: IISC00IND_R_20201660000_01D_30S_MO.crx.gz ➔ IISC00IND_R_20201660000_01D_30S_MO.crx\n",
            "✅ Extracted: IISC00IND_R_20201680000_01D_30S_MO.crx.gz ➔ IISC00IND_R_20201680000_01D_30S_MO.crx\n"
          ]
        },
        {
          "output_type": "stream",
          "name": "stderr",
          "text": [
            "\rExtracting 2020/06Jun:  47%|████▋     | 14/30 [00:01<00:01, 12.66it/s]"
          ]
        },
        {
          "output_type": "stream",
          "name": "stdout",
          "text": [
            "✅ Extracted: IISC00IND_R_20201780000_01D_30S_MO.crx.gz ➔ IISC00IND_R_20201780000_01D_30S_MO.crx\n"
          ]
        },
        {
          "output_type": "stream",
          "name": "stderr",
          "text": [
            "\rExtracting 2020/06Jun:  53%|█████▎    | 16/30 [00:01<00:01, 12.67it/s]"
          ]
        },
        {
          "output_type": "stream",
          "name": "stdout",
          "text": [
            "✅ Extracted: IISC00IND_R_20201670000_01D_30S_MO.crx.gz ➔ IISC00IND_R_20201670000_01D_30S_MO.crx\n",
            "✅ Extracted: IISC00IND_R_20201600000_01D_30S_MO.crx.gz ➔ IISC00IND_R_20201600000_01D_30S_MO.crx\n",
            "✅ Extracted: IISC00IND_R_20201820000_01D_30S_MO.crx.gz ➔ IISC00IND_R_20201820000_01D_30S_MO.crx\n"
          ]
        },
        {
          "output_type": "stream",
          "name": "stderr",
          "text": [
            "\rExtracting 2020/06Jun:  60%|██████    | 18/30 [00:01<00:00, 12.78it/s]"
          ]
        },
        {
          "output_type": "stream",
          "name": "stdout",
          "text": [
            "✅ Extracted: IISC00IND_R_20201770000_01D_30S_MO.crx.gz ➔ IISC00IND_R_20201770000_01D_30S_MO.crx\n",
            "✅ Extracted: IISC00IND_R_20201530000_01D_30S_MO.crx.gz ➔ IISC00IND_R_20201530000_01D_30S_MO.crx\n"
          ]
        },
        {
          "output_type": "stream",
          "name": "stderr",
          "text": [
            "\rExtracting 2020/06Jun:  67%|██████▋   | 20/30 [00:01<00:00, 12.51it/s]"
          ]
        },
        {
          "output_type": "stream",
          "name": "stdout",
          "text": [
            "✅ Extracted: IISC00IND_R_20201580000_01D_30S_MO.crx.gz ➔ IISC00IND_R_20201580000_01D_30S_MO.crx\n"
          ]
        },
        {
          "output_type": "stream",
          "name": "stderr",
          "text": [
            "\rExtracting 2020/06Jun:  73%|███████▎  | 22/30 [00:01<00:00, 12.76it/s]"
          ]
        },
        {
          "output_type": "stream",
          "name": "stdout",
          "text": [
            "✅ Extracted: IISC00IND_R_20201710000_01D_30S_MO.crx.gz ➔ IISC00IND_R_20201710000_01D_30S_MO.crx\n",
            "✅ Extracted: IISC00IND_R_20201740000_01D_30S_MO.crx.gz ➔ IISC00IND_R_20201740000_01D_30S_MO.crx\n",
            "✅ Extracted: IISC00IND_R_20201590000_01D_30S_MO.crx.gz ➔ IISC00IND_R_20201590000_01D_30S_MO.crx\n"
          ]
        },
        {
          "output_type": "stream",
          "name": "stderr",
          "text": [
            "\rExtracting 2020/06Jun:  80%|████████  | 24/30 [00:01<00:00, 12.78it/s]"
          ]
        },
        {
          "output_type": "stream",
          "name": "stdout",
          "text": [
            "✅ Extracted: IISC00IND_R_20201760000_01D_30S_MO.crx.gz ➔ IISC00IND_R_20201760000_01D_30S_MO.crx\n",
            "✅ Extracted: IISC00IND_R_20201550000_01D_30S_MO.crx.gz ➔ IISC00IND_R_20201550000_01D_30S_MO.crx\n"
          ]
        },
        {
          "output_type": "stream",
          "name": "stderr",
          "text": [
            "Extracting 2020/06Jun:  93%|█████████▎| 28/30 [00:04<00:00,  2.90it/s]"
          ]
        },
        {
          "output_type": "stream",
          "name": "stdout",
          "text": [
            "✅ Extracted: IISC00IND_R_20201650000_01D_30S_MO.crx.gz ➔ IISC00IND_R_20201650000_01D_30S_MO.crx\n",
            "✅ Extracted: IISC00IND_R_20201720000_01D_30S_MO.crx.gz ➔ IISC00IND_R_20201720000_01D_30S_MO.crx\n",
            "✅ Extracted: IISC00IND_R_20201620000_01D_30S_MO.crx.gz ➔ IISC00IND_R_20201620000_01D_30S_MO.crx\n"
          ]
        },
        {
          "output_type": "stream",
          "name": "stderr",
          "text": [
            "Extracting 2020/06Jun: 100%|██████████| 30/30 [00:04<00:00,  6.14it/s]\n"
          ]
        },
        {
          "output_type": "stream",
          "name": "stdout",
          "text": [
            "✅ Extracted: IISC00IND_R_20201750000_01D_30S_MO.crx.gz ➔ IISC00IND_R_20201750000_01D_30S_MO.crx\n",
            "✅ Extracted: IISC00IND_R_20201610000_01D_30S_MO.crx.gz ➔ IISC00IND_R_20201610000_01D_30S_MO.crx\n"
          ]
        },
        {
          "output_type": "stream",
          "name": "stderr",
          "text": [
            "\rExtracting 2020/05May:   0%|          | 0/31 [00:00<?, ?it/s]"
          ]
        },
        {
          "output_type": "stream",
          "name": "stdout",
          "text": [
            "✅ Extracted: IISC00IND_R_20201290000_01D_30S_MO.crx.gz ➔ IISC00IND_R_20201290000_01D_30S_MO.crx\n"
          ]
        },
        {
          "output_type": "stream",
          "name": "stderr",
          "text": [
            "\rExtracting 2020/05May:   6%|▋         | 2/31 [00:00<00:02, 13.35it/s]"
          ]
        },
        {
          "output_type": "stream",
          "name": "stdout",
          "text": [
            "✅ Extracted: IISC00IND_R_20201470000_01D_30S_MO.crx.gz ➔ IISC00IND_R_20201470000_01D_30S_MO.crx\n",
            "✅ Extracted: IISC00IND_R_20201430000_01D_30S_MO.crx.gz ➔ IISC00IND_R_20201430000_01D_30S_MO.crx\n"
          ]
        },
        {
          "output_type": "stream",
          "name": "stderr",
          "text": [
            "\rExtracting 2020/05May:  13%|█▎        | 4/31 [00:00<00:02, 12.58it/s]"
          ]
        },
        {
          "output_type": "stream",
          "name": "stdout",
          "text": [
            "✅ Extracted: IISC00IND_R_20201280000_01D_30S_MO.crx.gz ➔ IISC00IND_R_20201280000_01D_30S_MO.crx\n"
          ]
        },
        {
          "output_type": "stream",
          "name": "stderr",
          "text": [
            "\rExtracting 2020/05May:  19%|█▉        | 6/31 [00:00<00:02, 11.48it/s]"
          ]
        },
        {
          "output_type": "stream",
          "name": "stdout",
          "text": [
            "✅ Extracted: IISC00IND_R_20201510000_01D_30S_MO.crx.gz ➔ IISC00IND_R_20201510000_01D_30S_MO.crx\n",
            "✅ Extracted: IISC00IND_R_20201330000_01D_30S_MO.crx.gz ➔ IISC00IND_R_20201330000_01D_30S_MO.crx\n",
            "✅ Extracted: IISC00IND_R_20201360000_01D_30S_MO.crx.gz ➔ IISC00IND_R_20201360000_01D_30S_MO.crx\n"
          ]
        },
        {
          "output_type": "stream",
          "name": "stderr",
          "text": [
            "\rExtracting 2020/05May:  26%|██▌       | 8/31 [00:00<00:02, 11.02it/s]"
          ]
        },
        {
          "output_type": "stream",
          "name": "stdout",
          "text": [
            "✅ Extracted: IISC00IND_R_20201250000_01D_30S_MO.crx.gz ➔ IISC00IND_R_20201250000_01D_30S_MO.crx\n",
            "✅ Extracted: IISC00IND_R_20201420000_01D_30S_MO.crx.gz ➔ IISC00IND_R_20201420000_01D_30S_MO.crx\n"
          ]
        },
        {
          "output_type": "stream",
          "name": "stderr",
          "text": [
            "\rExtracting 2020/05May:  32%|███▏      | 10/31 [00:00<00:02, 10.46it/s]"
          ]
        },
        {
          "output_type": "stream",
          "name": "stdout",
          "text": [
            "✅ Extracted: IISC00IND_R_20201410000_01D_30S_MO.crx.gz ➔ IISC00IND_R_20201410000_01D_30S_MO.crx\n",
            "✅ Extracted: IISC00IND_R_20201350000_01D_30S_MO.crx.gz ➔ IISC00IND_R_20201350000_01D_30S_MO.crx\n"
          ]
        },
        {
          "output_type": "stream",
          "name": "stderr",
          "text": [
            "Extracting 2020/05May:  42%|████▏     | 13/31 [00:01<00:02,  8.01it/s]"
          ]
        },
        {
          "output_type": "stream",
          "name": "stdout",
          "text": [
            "✅ Extracted: IISC00IND_R_20201320000_01D_30S_MO.crx.gz ➔ IISC00IND_R_20201320000_01D_30S_MO.crx\n",
            "✅ Extracted: IISC00IND_R_20201460000_01D_30S_MO.crx.gz ➔ IISC00IND_R_20201460000_01D_30S_MO.crx\n"
          ]
        },
        {
          "output_type": "stream",
          "name": "stderr",
          "text": [
            "Extracting 2020/05May:  48%|████▊     | 15/31 [00:01<00:01,  8.45it/s]"
          ]
        },
        {
          "output_type": "stream",
          "name": "stdout",
          "text": [
            "✅ Extracted: IISC00IND_R_20201340000_01D_30S_MO.crx.gz ➔ IISC00IND_R_20201340000_01D_30S_MO.crx\n",
            "✅ Extracted: IISC00IND_R_20201370000_01D_30S_MO.crx.gz ➔ IISC00IND_R_20201370000_01D_30S_MO.crx\n"
          ]
        },
        {
          "output_type": "stream",
          "name": "stderr",
          "text": [
            "Extracting 2020/05May:  55%|█████▍    | 17/31 [00:01<00:01,  8.52it/s]"
          ]
        },
        {
          "output_type": "stream",
          "name": "stdout",
          "text": [
            "✅ Extracted: IISC00IND_R_20201240000_01D_30S_MO.crx.gz ➔ IISC00IND_R_20201240000_01D_30S_MO.crx\n",
            "✅ Extracted: IISC00IND_R_20201270000_01D_30S_MO.crx.gz ➔ IISC00IND_R_20201270000_01D_30S_MO.crx\n"
          ]
        },
        {
          "output_type": "stream",
          "name": "stderr",
          "text": [
            "Extracting 2020/05May:  61%|██████▏   | 19/31 [00:02<00:01,  8.85it/s]"
          ]
        },
        {
          "output_type": "stream",
          "name": "stdout",
          "text": [
            "✅ Extracted: IISC00IND_R_20201440000_01D_30S_MO.crx.gz ➔ IISC00IND_R_20201440000_01D_30S_MO.crx\n",
            "✅ Extracted: IISC00IND_R_20201260000_01D_30S_MO.crx.gz ➔ IISC00IND_R_20201260000_01D_30S_MO.crx\n"
          ]
        },
        {
          "output_type": "stream",
          "name": "stderr",
          "text": [
            "Extracting 2020/05May:  68%|██████▊   | 21/31 [00:02<00:01,  8.52it/s]"
          ]
        },
        {
          "output_type": "stream",
          "name": "stdout",
          "text": [
            "✅ Extracted: IISC00IND_R_20201310000_01D_30S_MO.crx.gz ➔ IISC00IND_R_20201310000_01D_30S_MO.crx\n",
            "✅ Extracted: IISC00IND_R_20201400000_01D_30S_MO.crx.gz ➔ IISC00IND_R_20201400000_01D_30S_MO.crx\n"
          ]
        },
        {
          "output_type": "stream",
          "name": "stderr",
          "text": [
            "Extracting 2020/05May:  74%|███████▍  | 23/31 [00:02<00:00,  8.70it/s]"
          ]
        },
        {
          "output_type": "stream",
          "name": "stdout",
          "text": [
            "✅ Extracted: IISC00IND_R_20201380000_01D_30S_MO.crx.gz ➔ IISC00IND_R_20201380000_01D_30S_MO.crx\n",
            "✅ Extracted: IISC00IND_R_20201390000_01D_30S_MO.crx.gz ➔ IISC00IND_R_20201390000_01D_30S_MO.crx\n"
          ]
        },
        {
          "output_type": "stream",
          "name": "stderr",
          "text": [
            "Extracting 2020/05May:  81%|████████  | 25/31 [00:02<00:00,  8.83it/s]"
          ]
        },
        {
          "output_type": "stream",
          "name": "stdout",
          "text": [
            "✅ Extracted: IISC00IND_R_20201220000_01D_30S_MO.crx.gz ➔ IISC00IND_R_20201220000_01D_30S_MO.crx\n",
            "✅ Extracted: IISC00IND_R_20201230000_01D_30S_MO.crx.gz ➔ IISC00IND_R_20201230000_01D_30S_MO.crx\n"
          ]
        },
        {
          "output_type": "stream",
          "name": "stderr",
          "text": [
            "Extracting 2020/05May:  90%|█████████ | 28/31 [00:03<00:00,  9.44it/s]"
          ]
        },
        {
          "output_type": "stream",
          "name": "stdout",
          "text": [
            "✅ Extracted: IISC00IND_R_20201490000_01D_30S_MO.crx.gz ➔ IISC00IND_R_20201490000_01D_30S_MO.crx\n",
            "✅ Extracted: IISC00IND_R_20201520000_01D_30S_MO.crx.gz ➔ IISC00IND_R_20201520000_01D_30S_MO.crx\n",
            "✅ Extracted: IISC00IND_R_20201300000_01D_30S_MO.crx.gz ➔ IISC00IND_R_20201300000_01D_30S_MO.crx\n"
          ]
        },
        {
          "output_type": "stream",
          "name": "stderr",
          "text": [
            "Extracting 2020/05May: 100%|██████████| 31/31 [00:03<00:00,  9.38it/s]\n"
          ]
        },
        {
          "output_type": "stream",
          "name": "stdout",
          "text": [
            "✅ Extracted: IISC00IND_R_20201450000_01D_30S_MO.crx.gz ➔ IISC00IND_R_20201450000_01D_30S_MO.crx\n",
            "✅ Extracted: IISC00IND_R_20201480000_01D_30S_MO.crx.gz ➔ IISC00IND_R_20201480000_01D_30S_MO.crx\n",
            "✅ Extracted: IISC00IND_R_20201500000_01D_30S_MO.crx.gz ➔ IISC00IND_R_20201500000_01D_30S_MO.crx\n"
          ]
        },
        {
          "output_type": "stream",
          "name": "stderr",
          "text": [
            "\rExtracting 2020/08Aug:   0%|          | 0/27 [00:00<?, ?it/s]"
          ]
        },
        {
          "output_type": "stream",
          "name": "stdout",
          "text": [
            "✅ Extracted: IISC00IND_R_20202180000_01D_30S_MO.crx.gz ➔ IISC00IND_R_20202180000_01D_30S_MO.crx\n"
          ]
        },
        {
          "output_type": "stream",
          "name": "stderr",
          "text": [
            "\rExtracting 2020/08Aug:   7%|▋         | 2/27 [00:00<00:01, 16.08it/s]"
          ]
        },
        {
          "output_type": "stream",
          "name": "stdout",
          "text": [
            "✅ Extracted: IISC00IND_R_20202440000_01D_30S_MO.crx.gz ➔ IISC00IND_R_20202440000_01D_30S_MO.crx\n",
            "✅ Extracted: IISC00IND_R_20202330000_01D_30S_MO.crx.gz ➔ IISC00IND_R_20202330000_01D_30S_MO.crx\n"
          ]
        },
        {
          "output_type": "stream",
          "name": "stderr",
          "text": [
            "\rExtracting 2020/08Aug:  15%|█▍        | 4/27 [00:00<00:01, 14.82it/s]"
          ]
        },
        {
          "output_type": "stream",
          "name": "stdout",
          "text": [
            "✅ Extracted: IISC00IND_R_20202420000_01D_30S_MO.crx.gz ➔ IISC00IND_R_20202420000_01D_30S_MO.crx\n"
          ]
        },
        {
          "output_type": "stream",
          "name": "stderr",
          "text": [
            "\rExtracting 2020/08Aug:  22%|██▏       | 6/27 [00:00<00:01, 13.77it/s]"
          ]
        },
        {
          "output_type": "stream",
          "name": "stdout",
          "text": [
            "✅ Extracted: IISC00IND_R_20202220000_01D_30S_MO.crx.gz ➔ IISC00IND_R_20202220000_01D_30S_MO.crx\n",
            "✅ Extracted: IISC00IND_R_20202260000_01D_30S_MO.crx.gz ➔ IISC00IND_R_20202260000_01D_30S_MO.crx\n"
          ]
        },
        {
          "output_type": "stream",
          "name": "stderr",
          "text": [
            "\rExtracting 2020/08Aug:  30%|██▉       | 8/27 [00:00<00:01, 10.59it/s]"
          ]
        },
        {
          "output_type": "stream",
          "name": "stdout",
          "text": [
            "✅ Extracted: IISC00IND_R_20202320000_01D_30S_MO.crx.gz ➔ IISC00IND_R_20202320000_01D_30S_MO.crx\n",
            "✅ Extracted: IISC00IND_R_20202410000_01D_30S_MO.crx.gz ➔ IISC00IND_R_20202410000_01D_30S_MO.crx\n",
            "✅ Extracted: IISC00IND_R_20202400000_01D_30S_MO.crx.gz ➔ IISC00IND_R_20202400000_01D_30S_MO.crx\n"
          ]
        },
        {
          "output_type": "stream",
          "name": "stderr",
          "text": [
            "Extracting 2020/08Aug:  44%|████▍     | 12/27 [00:00<00:01, 12.00it/s]"
          ]
        },
        {
          "output_type": "stream",
          "name": "stdout",
          "text": [
            "✅ Extracted: IISC00IND_R_20202360000_01D_30S_MO.crx.gz ➔ IISC00IND_R_20202360000_01D_30S_MO.crx\n",
            "✅ Extracted: IISC00IND_R_20202340000_01D_30S_MO.crx.gz ➔ IISC00IND_R_20202340000_01D_30S_MO.crx\n",
            "✅ Extracted: IISC00IND_R_20202430000_01D_30S_MO.crx.gz ➔ IISC00IND_R_20202430000_01D_30S_MO.crx\n"
          ]
        },
        {
          "output_type": "stream",
          "name": "stderr",
          "text": [
            "\rExtracting 2020/08Aug:  52%|█████▏    | 14/27 [00:01<00:01, 12.31it/s]"
          ]
        },
        {
          "output_type": "stream",
          "name": "stdout",
          "text": [
            "✅ Extracted: IISC00IND_R_20202380000_01D_30S_MO.crx.gz ➔ IISC00IND_R_20202380000_01D_30S_MO.crx\n",
            "✅ Extracted: IISC00IND_R_20202250000_01D_30S_MO.crx.gz ➔ IISC00IND_R_20202250000_01D_30S_MO.crx\n",
            "✅ Extracted: IISC00IND_R_20202240000_01D_30S_MO.crx.gz ➔ IISC00IND_R_20202240000_01D_30S_MO.crx\n"
          ]
        },
        {
          "output_type": "stream",
          "name": "stderr",
          "text": [
            "Extracting 2020/08Aug:  67%|██████▋   | 18/27 [00:01<00:00, 12.74it/s]"
          ]
        },
        {
          "output_type": "stream",
          "name": "stdout",
          "text": [
            "✅ Extracted: IISC00IND_R_20202370000_01D_30S_MO.crx.gz ➔ IISC00IND_R_20202370000_01D_30S_MO.crx\n",
            "✅ Extracted: IISC00IND_R_20202310000_01D_30S_MO.crx.gz ➔ IISC00IND_R_20202310000_01D_30S_MO.crx\n",
            "✅ Extracted: IISC00IND_R_20202280000_01D_30S_MO.crx.gz ➔ IISC00IND_R_20202280000_01D_30S_MO.crx\n"
          ]
        },
        {
          "output_type": "stream",
          "name": "stderr",
          "text": [
            "\rExtracting 2020/08Aug:  74%|███████▍  | 20/27 [00:01<00:00, 13.03it/s]"
          ]
        },
        {
          "output_type": "stream",
          "name": "stdout",
          "text": [
            "✅ Extracted: IISC00IND_R_20202200000_01D_30S_MO.crx.gz ➔ IISC00IND_R_20202200000_01D_30S_MO.crx\n",
            "✅ Extracted: IISC00IND_R_20202190000_01D_30S_MO.crx.gz ➔ IISC00IND_R_20202190000_01D_30S_MO.crx\n",
            "✅ Extracted: IISC00IND_R_20202210000_01D_30S_MO.crx.gz ➔ IISC00IND_R_20202210000_01D_30S_MO.crx\n"
          ]
        },
        {
          "output_type": "stream",
          "name": "stderr",
          "text": [
            "Extracting 2020/08Aug:  89%|████████▉ | 24/27 [00:01<00:00, 13.43it/s]"
          ]
        },
        {
          "output_type": "stream",
          "name": "stdout",
          "text": [
            "✅ Extracted: IISC00IND_R_20202390000_01D_30S_MO.crx.gz ➔ IISC00IND_R_20202390000_01D_30S_MO.crx\n",
            "✅ Extracted: IISC00IND_R_20202290000_01D_30S_MO.crx.gz ➔ IISC00IND_R_20202290000_01D_30S_MO.crx\n",
            "✅ Extracted: IISC00IND_R_20202350000_01D_30S_MO.crx.gz ➔ IISC00IND_R_20202350000_01D_30S_MO.crx\n"
          ]
        },
        {
          "output_type": "stream",
          "name": "stderr",
          "text": [
            "Extracting 2020/08Aug: 100%|██████████| 27/27 [00:02<00:00, 12.91it/s]\n"
          ]
        },
        {
          "output_type": "stream",
          "name": "stdout",
          "text": [
            "✅ Extracted: IISC00IND_R_20202230000_01D_30S_MO.crx.gz ➔ IISC00IND_R_20202230000_01D_30S_MO.crx\n",
            "✅ Extracted: IISC00IND_R_20202270000_01D_30S_MO.crx.gz ➔ IISC00IND_R_20202270000_01D_30S_MO.crx\n",
            "✅ Extracted: IISC00IND_R_20202300000_01D_30S_MO.crx.gz ➔ IISC00IND_R_20202300000_01D_30S_MO.crx\n"
          ]
        },
        {
          "output_type": "stream",
          "name": "stderr",
          "text": [
            "Extracting 2020/10Oct:   7%|▋         | 2/30 [00:00<00:01, 15.04it/s]"
          ]
        },
        {
          "output_type": "stream",
          "name": "stdout",
          "text": [
            "✅ Extracted: IISC00IND_R_20202870000_01D_30S_MO.crx.gz ➔ IISC00IND_R_20202870000_01D_30S_MO.crx\n",
            "✅ Extracted: IISC00IND_R_20202920000_01D_30S_MO.crx.gz ➔ IISC00IND_R_20202920000_01D_30S_MO.crx\n",
            "✅ Extracted: IISC00IND_R_20203020000_01D_30S_MO.crx.gz ➔ IISC00IND_R_20203020000_01D_30S_MO.crx\n"
          ]
        },
        {
          "output_type": "stream",
          "name": "stderr",
          "text": [
            "Extracting 2020/10Oct:  20%|██        | 6/30 [00:00<00:01, 14.57it/s]"
          ]
        },
        {
          "output_type": "stream",
          "name": "stdout",
          "text": [
            "✅ Extracted: IISC00IND_R_20202970000_01D_30S_MO.crx.gz ➔ IISC00IND_R_20202970000_01D_30S_MO.crx\n",
            "✅ Extracted: IISC00IND_R_20202830000_01D_30S_MO.crx.gz ➔ IISC00IND_R_20202830000_01D_30S_MO.crx\n",
            "✅ Extracted: IISC00IND_R_20202960000_01D_30S_MO.crx.gz ➔ IISC00IND_R_20202960000_01D_30S_MO.crx\n"
          ]
        },
        {
          "output_type": "stream",
          "name": "stderr",
          "text": [
            "Extracting 2020/10Oct:  33%|███▎      | 10/30 [00:00<00:01, 12.68it/s]"
          ]
        },
        {
          "output_type": "stream",
          "name": "stdout",
          "text": [
            "✅ Extracted: IISC00IND_R_20202800000_01D_30S_MO.crx.gz ➔ IISC00IND_R_20202800000_01D_30S_MO.crx\n",
            "✅ Extracted: IISC00IND_R_20202840000_01D_30S_MO.crx.gz ➔ IISC00IND_R_20202840000_01D_30S_MO.crx\n",
            "✅ Extracted: IISC00IND_R_20203040000_01D_30S_MO.crx.gz ➔ IISC00IND_R_20203040000_01D_30S_MO.crx\n",
            "✅ Extracted: IISC00IND_R_20203000000_01D_30S_MO.crx.gz ➔ IISC00IND_R_20203000000_01D_30S_MO.crx\n"
          ]
        },
        {
          "output_type": "stream",
          "name": "stderr",
          "text": [
            "\rExtracting 2020/10Oct:  40%|████      | 12/30 [00:00<00:01, 12.75it/s]"
          ]
        },
        {
          "output_type": "stream",
          "name": "stdout",
          "text": [
            "✅ Extracted: IISC00IND_R_20202980000_01D_30S_MO.crx.gz ➔ IISC00IND_R_20202980000_01D_30S_MO.crx\n",
            "✅ Extracted: IISC00IND_R_20202770000_01D_30S_MO.crx.gz ➔ IISC00IND_R_20202770000_01D_30S_MO.crx\n"
          ]
        },
        {
          "output_type": "stream",
          "name": "stderr",
          "text": [
            "\rExtracting 2020/10Oct:  47%|████▋     | 14/30 [00:01<00:01, 11.68it/s]"
          ]
        },
        {
          "output_type": "stream",
          "name": "stdout",
          "text": [
            "✅ Extracted: IISC00IND_R_20203030000_01D_30S_MO.crx.gz ➔ IISC00IND_R_20203030000_01D_30S_MO.crx\n",
            "✅ Extracted: IISC00IND_R_20202900000_01D_30S_MO.crx.gz ➔ IISC00IND_R_20202900000_01D_30S_MO.crx\n",
            "✅ Extracted: IISC00IND_R_20202910000_01D_30S_MO.crx.gz ➔ IISC00IND_R_20202910000_01D_30S_MO.crx\n"
          ]
        },
        {
          "output_type": "stream",
          "name": "stderr",
          "text": [
            "Extracting 2020/10Oct:  60%|██████    | 18/30 [00:01<00:01, 11.96it/s]"
          ]
        },
        {
          "output_type": "stream",
          "name": "stdout",
          "text": [
            "✅ Extracted: IISC00IND_R_20202750000_01D_30S_MO.crx.gz ➔ IISC00IND_R_20202750000_01D_30S_MO.crx\n",
            "✅ Extracted: IISC00IND_R_20202890000_01D_30S_MO.crx.gz ➔ IISC00IND_R_20202890000_01D_30S_MO.crx\n",
            "✅ Extracted: IISC00IND_R_20202940000_01D_30S_MO.crx.gz ➔ IISC00IND_R_20202940000_01D_30S_MO.crx\n"
          ]
        },
        {
          "output_type": "stream",
          "name": "stderr",
          "text": [
            "\rExtracting 2020/10Oct:  67%|██████▋   | 20/30 [00:01<00:00, 12.48it/s]"
          ]
        },
        {
          "output_type": "stream",
          "name": "stdout",
          "text": [
            "✅ Extracted: IISC00IND_R_20202850000_01D_30S_MO.crx.gz ➔ IISC00IND_R_20202850000_01D_30S_MO.crx\n",
            "✅ Extracted: IISC00IND_R_20202810000_01D_30S_MO.crx.gz ➔ IISC00IND_R_20202810000_01D_30S_MO.crx\n",
            "✅ Extracted: IISC00IND_R_20202880000_01D_30S_MO.crx.gz ➔ IISC00IND_R_20202880000_01D_30S_MO.crx\n"
          ]
        },
        {
          "output_type": "stream",
          "name": "stderr",
          "text": [
            "Extracting 2020/10Oct:  80%|████████  | 24/30 [00:01<00:00, 13.64it/s]"
          ]
        },
        {
          "output_type": "stream",
          "name": "stdout",
          "text": [
            "✅ Extracted: IISC00IND_R_20202820000_01D_30S_MO.crx.gz ➔ IISC00IND_R_20202820000_01D_30S_MO.crx\n",
            "✅ Extracted: IISC00IND_R_20202760000_01D_30S_MO.crx.gz ➔ IISC00IND_R_20202760000_01D_30S_MO.crx\n",
            "✅ Extracted: IISC00IND_R_20202790000_01D_30S_MO.crx.gz ➔ IISC00IND_R_20202790000_01D_30S_MO.crx\n"
          ]
        },
        {
          "output_type": "stream",
          "name": "stderr",
          "text": [
            "Extracting 2020/10Oct:  93%|█████████▎| 28/30 [00:02<00:00, 14.38it/s]"
          ]
        },
        {
          "output_type": "stream",
          "name": "stdout",
          "text": [
            "✅ Extracted: IISC00IND_R_20202860000_01D_30S_MO.crx.gz ➔ IISC00IND_R_20202860000_01D_30S_MO.crx\n",
            "✅ Extracted: IISC00IND_R_20202930000_01D_30S_MO.crx.gz ➔ IISC00IND_R_20202930000_01D_30S_MO.crx\n",
            "✅ Extracted: IISC00IND_R_20203050000_01D_30S_MO.crx.gz ➔ IISC00IND_R_20203050000_01D_30S_MO.crx\n",
            "✅ Extracted: IISC00IND_R_20203010000_01D_30S_MO.crx.gz ➔ IISC00IND_R_20203010000_01D_30S_MO.crx\n"
          ]
        },
        {
          "output_type": "stream",
          "name": "stderr",
          "text": [
            "Extracting 2020/10Oct: 100%|██████████| 30/30 [00:02<00:00, 12.81it/s]\n"
          ]
        },
        {
          "output_type": "stream",
          "name": "stdout",
          "text": [
            "✅ Extracted: IISC00IND_R_20202780000_01D_30S_MO.crx.gz ➔ IISC00IND_R_20202780000_01D_30S_MO.crx\n",
            "✅ Extracted: IISC00IND_R_20202950000_01D_30S_MO.crx.gz ➔ IISC00IND_R_20202950000_01D_30S_MO.crx\n"
          ]
        },
        {
          "output_type": "stream",
          "name": "stderr",
          "text": [
            "Extracting 2020/12Dec:   6%|▋         | 2/31 [00:00<00:02, 13.24it/s]"
          ]
        },
        {
          "output_type": "stream",
          "name": "stdout",
          "text": [
            "✅ Extracted: IISC00IND_R_20203640000_01D_30S_MO.crx.gz ➔ IISC00IND_R_20203640000_01D_30S_MO.crx\n",
            "✅ Extracted: IISC00IND_R_20203560000_01D_30S_MO.crx.gz ➔ IISC00IND_R_20203560000_01D_30S_MO.crx\n",
            "✅ Extracted: IISC00IND_R_20203460000_01D_30S_MO.crx.gz ➔ IISC00IND_R_20203460000_01D_30S_MO.crx\n"
          ]
        },
        {
          "output_type": "stream",
          "name": "stderr",
          "text": [
            "Extracting 2020/12Dec:  19%|█▉        | 6/31 [00:00<00:01, 13.82it/s]"
          ]
        },
        {
          "output_type": "stream",
          "name": "stdout",
          "text": [
            "✅ Extracted: IISC00IND_R_20203480000_01D_30S_MO.crx.gz ➔ IISC00IND_R_20203480000_01D_30S_MO.crx\n",
            "✅ Extracted: IISC00IND_R_20203490000_01D_30S_MO.crx.gz ➔ IISC00IND_R_20203490000_01D_30S_MO.crx\n",
            "✅ Extracted: IISC00IND_R_20203420000_01D_30S_MO.crx.gz ➔ IISC00IND_R_20203420000_01D_30S_MO.crx\n",
            "✅ Extracted: IISC00IND_R_20203580000_01D_30S_MO.crx.gz ➔ IISC00IND_R_20203580000_01D_30S_MO.crx\n"
          ]
        },
        {
          "output_type": "stream",
          "name": "stderr",
          "text": [
            "Extracting 2020/12Dec:  32%|███▏      | 10/31 [00:00<00:01, 14.39it/s]"
          ]
        },
        {
          "output_type": "stream",
          "name": "stdout",
          "text": [
            "✅ Extracted: IISC00IND_R_20203510000_01D_30S_MO.crx.gz ➔ IISC00IND_R_20203510000_01D_30S_MO.crx\n",
            "✅ Extracted: IISC00IND_R_20203370000_01D_30S_MO.crx.gz ➔ IISC00IND_R_20203370000_01D_30S_MO.crx\n",
            "✅ Extracted: IISC00IND_R_20203550000_01D_30S_MO.crx.gz ➔ IISC00IND_R_20203550000_01D_30S_MO.crx\n"
          ]
        },
        {
          "output_type": "stream",
          "name": "stderr",
          "text": [
            "\rExtracting 2020/12Dec:  39%|███▊      | 12/31 [00:00<00:01, 14.44it/s]"
          ]
        },
        {
          "output_type": "stream",
          "name": "stdout",
          "text": [
            "✅ Extracted: IISC00IND_R_20203610000_01D_30S_MO.crx.gz ➔ IISC00IND_R_20203610000_01D_30S_MO.crx\n",
            "✅ Extracted: IISC00IND_R_20203630000_01D_30S_MO.crx.gz ➔ IISC00IND_R_20203630000_01D_30S_MO.crx\n",
            "✅ Extracted: IISC00IND_R_20203600000_01D_30S_MO.crx.gz ➔ IISC00IND_R_20203600000_01D_30S_MO.crx\n"
          ]
        },
        {
          "output_type": "stream",
          "name": "stderr",
          "text": [
            "Extracting 2020/12Dec:  52%|█████▏    | 16/31 [00:01<00:01, 14.65it/s]"
          ]
        },
        {
          "output_type": "stream",
          "name": "stdout",
          "text": [
            "✅ Extracted: IISC00IND_R_20203520000_01D_30S_MO.crx.gz ➔ IISC00IND_R_20203520000_01D_30S_MO.crx\n",
            "✅ Extracted: IISC00IND_R_20203360000_01D_30S_MO.crx.gz ➔ IISC00IND_R_20203360000_01D_30S_MO.crx\n",
            "✅ Extracted: IISC00IND_R_20203540000_01D_30S_MO.crx.gz ➔ IISC00IND_R_20203540000_01D_30S_MO.crx\n"
          ]
        },
        {
          "output_type": "stream",
          "name": "stderr",
          "text": [
            "\rExtracting 2020/12Dec:  58%|█████▊    | 18/31 [00:01<00:01, 11.41it/s]"
          ]
        },
        {
          "output_type": "stream",
          "name": "stdout",
          "text": [
            "✅ Extracted: IISC00IND_R_20203570000_01D_30S_MO.crx.gz ➔ IISC00IND_R_20203570000_01D_30S_MO.crx\n",
            "✅ Extracted: IISC00IND_R_20203390000_01D_30S_MO.crx.gz ➔ IISC00IND_R_20203390000_01D_30S_MO.crx\n",
            "✅ Extracted: IISC00IND_R_20203380000_01D_30S_MO.crx.gz ➔ IISC00IND_R_20203380000_01D_30S_MO.crx\n"
          ]
        },
        {
          "output_type": "stream",
          "name": "stderr",
          "text": [
            "Extracting 2020/12Dec:  71%|███████   | 22/31 [00:01<00:00, 12.51it/s]"
          ]
        },
        {
          "output_type": "stream",
          "name": "stdout",
          "text": [
            "✅ Extracted: IISC00IND_R_20203430000_01D_30S_MO.crx.gz ➔ IISC00IND_R_20203430000_01D_30S_MO.crx\n",
            "✅ Extracted: IISC00IND_R_20203440000_01D_30S_MO.crx.gz ➔ IISC00IND_R_20203440000_01D_30S_MO.crx\n",
            "✅ Extracted: IISC00IND_R_20203410000_01D_30S_MO.crx.gz ➔ IISC00IND_R_20203410000_01D_30S_MO.crx\n"
          ]
        },
        {
          "output_type": "stream",
          "name": "stderr",
          "text": [
            "\rExtracting 2020/12Dec:  77%|███████▋  | 24/31 [00:01<00:00, 12.80it/s]"
          ]
        },
        {
          "output_type": "stream",
          "name": "stdout",
          "text": [
            "✅ Extracted: IISC00IND_R_20203500000_01D_30S_MO.crx.gz ➔ IISC00IND_R_20203500000_01D_30S_MO.crx\n",
            "✅ Extracted: IISC00IND_R_20203660000_01D_30S_MO.crx.gz ➔ IISC00IND_R_20203660000_01D_30S_MO.crx\n",
            "✅ Extracted: IISC00IND_R_20203620000_01D_30S_MO.crx.gz ➔ IISC00IND_R_20203620000_01D_30S_MO.crx\n"
          ]
        },
        {
          "output_type": "stream",
          "name": "stderr",
          "text": [
            "Extracting 2020/12Dec:  90%|█████████ | 28/31 [00:02<00:00, 12.92it/s]"
          ]
        },
        {
          "output_type": "stream",
          "name": "stdout",
          "text": [
            "✅ Extracted: IISC00IND_R_20203400000_01D_30S_MO.crx.gz ➔ IISC00IND_R_20203400000_01D_30S_MO.crx\n",
            "✅ Extracted: IISC00IND_R_20203650000_01D_30S_MO.crx.gz ➔ IISC00IND_R_20203650000_01D_30S_MO.crx\n",
            "✅ Extracted: IISC00IND_R_20203530000_01D_30S_MO.crx.gz ➔ IISC00IND_R_20203530000_01D_30S_MO.crx\n"
          ]
        },
        {
          "output_type": "stream",
          "name": "stderr",
          "text": [
            "Extracting 2020/12Dec: 100%|██████████| 31/31 [00:02<00:00, 13.19it/s]\n"
          ]
        },
        {
          "output_type": "stream",
          "name": "stdout",
          "text": [
            "✅ Extracted: IISC00IND_R_20203470000_01D_30S_MO.crx.gz ➔ IISC00IND_R_20203470000_01D_30S_MO.crx\n",
            "✅ Extracted: IISC00IND_R_20203590000_01D_30S_MO.crx.gz ➔ IISC00IND_R_20203590000_01D_30S_MO.crx\n",
            "✅ Extracted: IISC00IND_R_20203450000_01D_30S_MO.crx.gz ➔ IISC00IND_R_20203450000_01D_30S_MO.crx\n"
          ]
        },
        {
          "output_type": "stream",
          "name": "stderr",
          "text": [
            "Extracting 2020/02Feb:   7%|▋         | 2/29 [00:00<00:01, 13.53it/s]"
          ]
        },
        {
          "output_type": "stream",
          "name": "stdout",
          "text": [
            "✅ Extracted: IISC00IND_R_20200490000_01D_30S_MO.crx.gz ➔ IISC00IND_R_20200490000_01D_30S_MO.crx\n",
            "✅ Extracted: IISC00IND_R_20200500000_01D_30S_MO.crx.gz ➔ IISC00IND_R_20200500000_01D_30S_MO.crx\n",
            "✅ Extracted: IISC00IND_R_20200400000_01D_30S_MO.crx.gz ➔ IISC00IND_R_20200400000_01D_30S_MO.crx\n"
          ]
        },
        {
          "output_type": "stream",
          "name": "stderr",
          "text": [
            "\rExtracting 2020/02Feb:  14%|█▍        | 4/29 [00:00<00:01, 13.24it/s]"
          ]
        },
        {
          "output_type": "stream",
          "name": "stdout",
          "text": [
            "✅ Extracted: IISC00IND_R_20200340000_01D_30S_MO.crx.gz ➔ IISC00IND_R_20200340000_01D_30S_MO.crx\n",
            "✅ Extracted: IISC00IND_R_20200560000_01D_30S_MO.crx.gz ➔ IISC00IND_R_20200560000_01D_30S_MO.crx\n"
          ]
        },
        {
          "output_type": "stream",
          "name": "stderr",
          "text": [
            "Extracting 2020/02Feb:  28%|██▊       | 8/29 [00:00<00:01, 11.98it/s]"
          ]
        },
        {
          "output_type": "stream",
          "name": "stdout",
          "text": [
            "✅ Extracted: IISC00IND_R_20200570000_01D_30S_MO.crx.gz ➔ IISC00IND_R_20200570000_01D_30S_MO.crx\n",
            "✅ Extracted: IISC00IND_R_20200360000_01D_30S_MO.crx.gz ➔ IISC00IND_R_20200360000_01D_30S_MO.crx\n",
            "✅ Extracted: IISC00IND_R_20200430000_01D_30S_MO.crx.gz ➔ IISC00IND_R_20200430000_01D_30S_MO.crx\n"
          ]
        },
        {
          "output_type": "stream",
          "name": "stderr",
          "text": [
            "\rExtracting 2020/02Feb:  34%|███▍      | 10/29 [00:00<00:01, 12.11it/s]"
          ]
        },
        {
          "output_type": "stream",
          "name": "stdout",
          "text": [
            "✅ Extracted: IISC00IND_R_20200380000_01D_30S_MO.crx.gz ➔ IISC00IND_R_20200380000_01D_30S_MO.crx\n",
            "✅ Extracted: IISC00IND_R_20200530000_01D_30S_MO.crx.gz ➔ IISC00IND_R_20200530000_01D_30S_MO.crx\n",
            "✅ Extracted: IISC00IND_R_20200450000_01D_30S_MO.crx.gz ➔ IISC00IND_R_20200450000_01D_30S_MO.crx\n"
          ]
        },
        {
          "output_type": "stream",
          "name": "stderr",
          "text": [
            "Extracting 2020/02Feb:  48%|████▊     | 14/29 [00:01<00:01, 12.32it/s]"
          ]
        },
        {
          "output_type": "stream",
          "name": "stdout",
          "text": [
            "✅ Extracted: IISC00IND_R_20200520000_01D_30S_MO.crx.gz ➔ IISC00IND_R_20200520000_01D_30S_MO.crx\n",
            "✅ Extracted: IISC00IND_R_20200390000_01D_30S_MO.crx.gz ➔ IISC00IND_R_20200390000_01D_30S_MO.crx\n",
            "✅ Extracted: IISC00IND_R_20200540000_01D_30S_MO.crx.gz ➔ IISC00IND_R_20200540000_01D_30S_MO.crx\n"
          ]
        },
        {
          "output_type": "stream",
          "name": "stderr",
          "text": [
            "\rExtracting 2020/02Feb:  55%|█████▌    | 16/29 [00:01<00:01, 12.31it/s]"
          ]
        },
        {
          "output_type": "stream",
          "name": "stdout",
          "text": [
            "✅ Extracted: IISC00IND_R_20200600000_01D_30S_MO.crx.gz ➔ IISC00IND_R_20200600000_01D_30S_MO.crx\n",
            "✅ Extracted: IISC00IND_R_20200580000_01D_30S_MO.crx.gz ➔ IISC00IND_R_20200580000_01D_30S_MO.crx\n",
            "✅ Extracted: IISC00IND_R_20200510000_01D_30S_MO.crx.gz ➔ IISC00IND_R_20200510000_01D_30S_MO.crx\n"
          ]
        },
        {
          "output_type": "stream",
          "name": "stderr",
          "text": [
            "Extracting 2020/02Feb:  69%|██████▉   | 20/29 [00:01<00:00, 12.69it/s]"
          ]
        },
        {
          "output_type": "stream",
          "name": "stdout",
          "text": [
            "✅ Extracted: IISC00IND_R_20200550000_01D_30S_MO.crx.gz ➔ IISC00IND_R_20200550000_01D_30S_MO.crx\n",
            "✅ Extracted: IISC00IND_R_20200350000_01D_30S_MO.crx.gz ➔ IISC00IND_R_20200350000_01D_30S_MO.crx\n",
            "✅ Extracted: IISC00IND_R_20200330000_01D_30S_MO.crx.gz ➔ IISC00IND_R_20200330000_01D_30S_MO.crx\n",
            "✅ Extracted: IISC00IND_R_20200320000_01D_30S_MO.crx.gz ➔ IISC00IND_R_20200320000_01D_30S_MO.crx\n"
          ]
        },
        {
          "output_type": "stream",
          "name": "stderr",
          "text": [
            "Extracting 2020/02Feb:  79%|███████▉  | 23/29 [00:04<00:02,  2.80it/s]"
          ]
        },
        {
          "output_type": "stream",
          "name": "stdout",
          "text": [
            "✅ Extracted: IISC00IND_R_20200420000_01D_30S_MO.crx.gz ➔ IISC00IND_R_20200420000_01D_30S_MO.crx\n",
            "✅ Extracted: IISC00IND_R_20200440000_01D_30S_MO.crx.gz ➔ IISC00IND_R_20200440000_01D_30S_MO.crx\n"
          ]
        },
        {
          "output_type": "stream",
          "name": "stderr",
          "text": [
            "Extracting 2020/02Feb:  90%|████████▉ | 26/29 [00:04<00:00,  4.36it/s]"
          ]
        },
        {
          "output_type": "stream",
          "name": "stdout",
          "text": [
            "✅ Extracted: IISC00IND_R_20200410000_01D_30S_MO.crx.gz ➔ IISC00IND_R_20200410000_01D_30S_MO.crx\n",
            "✅ Extracted: IISC00IND_R_20200470000_01D_30S_MO.crx.gz ➔ IISC00IND_R_20200470000_01D_30S_MO.crx\n",
            "✅ Extracted: IISC00IND_R_20200590000_01D_30S_MO.crx.gz ➔ IISC00IND_R_20200590000_01D_30S_MO.crx\n"
          ]
        },
        {
          "output_type": "stream",
          "name": "stderr",
          "text": [
            "Extracting 2020/02Feb: 100%|██████████| 29/29 [00:04<00:00,  6.22it/s]\n"
          ]
        },
        {
          "output_type": "stream",
          "name": "stdout",
          "text": [
            "✅ Extracted: IISC00IND_R_20200480000_01D_30S_MO.crx.gz ➔ IISC00IND_R_20200480000_01D_30S_MO.crx\n",
            "✅ Extracted: IISC00IND_R_20200370000_01D_30S_MO.crx.gz ➔ IISC00IND_R_20200370000_01D_30S_MO.crx\n",
            "✅ Extracted: IISC00IND_R_20200460000_01D_30S_MO.crx.gz ➔ IISC00IND_R_20200460000_01D_30S_MO.crx\n"
          ]
        },
        {
          "output_type": "stream",
          "name": "stderr",
          "text": [
            "Extracting 2024/03Mar:   6%|▋         | 2/31 [00:00<00:04,  7.17it/s]"
          ]
        },
        {
          "output_type": "stream",
          "name": "stdout",
          "text": [
            "✅ Extracted: IISC00IND_R_20240890000_01D_30S_MO.crx.gz ➔ IISC00IND_R_20240890000_01D_30S_MO.crx\n",
            "✅ Extracted: IISC00IND_R_20240640000_01D_30S_MO.crx.gz ➔ IISC00IND_R_20240640000_01D_30S_MO.crx\n"
          ]
        },
        {
          "output_type": "stream",
          "name": "stderr",
          "text": [
            "Extracting 2024/03Mar:  13%|█▎        | 4/31 [00:00<00:03,  6.90it/s]"
          ]
        },
        {
          "output_type": "stream",
          "name": "stdout",
          "text": [
            "✅ Extracted: IISC00IND_R_20240700000_01D_30S_MO.crx.gz ➔ IISC00IND_R_20240700000_01D_30S_MO.crx\n",
            "✅ Extracted: IISC00IND_R_20240820000_01D_30S_MO.crx.gz ➔ IISC00IND_R_20240820000_01D_30S_MO.crx\n"
          ]
        },
        {
          "output_type": "stream",
          "name": "stderr",
          "text": [
            "\rExtracting 2024/03Mar:  19%|█▉        | 6/31 [00:00<00:03,  8.10it/s]"
          ]
        },
        {
          "output_type": "stream",
          "name": "stdout",
          "text": [
            "✅ Extracted: IISC00IND_R_20240730000_01D_30S_MO.crx.gz ➔ IISC00IND_R_20240730000_01D_30S_MO.crx\n",
            "✅ Extracted: IISC00IND_R_20240620000_01D_30S_MO.crx.gz ➔ IISC00IND_R_20240620000_01D_30S_MO.crx\n"
          ]
        },
        {
          "output_type": "stream",
          "name": "stderr",
          "text": [
            "Extracting 2024/03Mar:  26%|██▌       | 8/31 [00:01<00:02,  7.89it/s]"
          ]
        },
        {
          "output_type": "stream",
          "name": "stdout",
          "text": [
            "✅ Extracted: IISC00IND_R_20240630000_01D_30S_MO.crx.gz ➔ IISC00IND_R_20240630000_01D_30S_MO.crx\n",
            "✅ Extracted: IISC00IND_R_20240720000_01D_30S_MO.crx.gz ➔ IISC00IND_R_20240720000_01D_30S_MO.crx\n"
          ]
        },
        {
          "output_type": "stream",
          "name": "stderr",
          "text": [
            "Extracting 2024/03Mar:  32%|███▏      | 10/31 [00:01<00:02,  8.61it/s]"
          ]
        },
        {
          "output_type": "stream",
          "name": "stdout",
          "text": [
            "✅ Extracted: IISC00IND_R_20240790000_01D_30S_MO.crx.gz ➔ IISC00IND_R_20240790000_01D_30S_MO.crx\n",
            "✅ Extracted: IISC00IND_R_20240860000_01D_30S_MO.crx.gz ➔ IISC00IND_R_20240860000_01D_30S_MO.crx\n"
          ]
        },
        {
          "output_type": "stream",
          "name": "stderr",
          "text": [
            "Extracting 2024/03Mar:  39%|███▊      | 12/31 [00:01<00:02,  8.86it/s]"
          ]
        },
        {
          "output_type": "stream",
          "name": "stdout",
          "text": [
            "✅ Extracted: IISC00IND_R_20240900000_01D_30S_MO.crx.gz ➔ IISC00IND_R_20240900000_01D_30S_MO.crx\n",
            "✅ Extracted: IISC00IND_R_20240870000_01D_30S_MO.crx.gz ➔ IISC00IND_R_20240870000_01D_30S_MO.crx\n"
          ]
        },
        {
          "output_type": "stream",
          "name": "stderr",
          "text": [
            "Extracting 2024/03Mar:  45%|████▌     | 14/31 [00:01<00:01,  8.64it/s]"
          ]
        },
        {
          "output_type": "stream",
          "name": "stdout",
          "text": [
            "✅ Extracted: IISC00IND_R_20240760000_01D_30S_MO.crx.gz ➔ IISC00IND_R_20240760000_01D_30S_MO.crx\n",
            "✅ Extracted: IISC00IND_R_20240830000_01D_30S_MO.crx.gz ➔ IISC00IND_R_20240830000_01D_30S_MO.crx\n"
          ]
        },
        {
          "output_type": "stream",
          "name": "stderr",
          "text": [
            "Extracting 2024/03Mar:  52%|█████▏    | 16/31 [00:01<00:01,  9.16it/s]"
          ]
        },
        {
          "output_type": "stream",
          "name": "stdout",
          "text": [
            "✅ Extracted: IISC00IND_R_20240810000_01D_30S_MO.crx.gz ➔ IISC00IND_R_20240810000_01D_30S_MO.crx\n",
            "✅ Extracted: IISC00IND_R_20240650000_01D_30S_MO.crx.gz ➔ IISC00IND_R_20240650000_01D_30S_MO.crx\n"
          ]
        },
        {
          "output_type": "stream",
          "name": "stderr",
          "text": [
            "Extracting 2024/03Mar:  58%|█████▊    | 18/31 [00:02<00:01,  9.36it/s]"
          ]
        },
        {
          "output_type": "stream",
          "name": "stdout",
          "text": [
            "✅ Extracted: IISC00IND_R_20240690000_01D_30S_MO.crx.gz ➔ IISC00IND_R_20240690000_01D_30S_MO.crx\n",
            "✅ Extracted: IISC00IND_R_20240610000_01D_30S_MO.crx.gz ➔ IISC00IND_R_20240610000_01D_30S_MO.crx\n"
          ]
        },
        {
          "output_type": "stream",
          "name": "stderr",
          "text": [
            "Extracting 2024/03Mar:  68%|██████▊   | 21/31 [00:02<00:01,  9.99it/s]"
          ]
        },
        {
          "output_type": "stream",
          "name": "stdout",
          "text": [
            "✅ Extracted: IISC00IND_R_20240880000_01D_30S_MO.crx.gz ➔ IISC00IND_R_20240880000_01D_30S_MO.crx\n",
            "✅ Extracted: IISC00IND_R_20240840000_01D_30S_MO.crx.gz ➔ IISC00IND_R_20240840000_01D_30S_MO.crx\n",
            "✅ Extracted: IISC00IND_R_20240680000_01D_30S_MO.crx.gz ➔ IISC00IND_R_20240680000_01D_30S_MO.crx\n"
          ]
        },
        {
          "output_type": "stream",
          "name": "stderr",
          "text": [
            "\rExtracting 2024/03Mar:  74%|███████▍  | 23/31 [00:02<00:00, 10.00it/s]"
          ]
        },
        {
          "output_type": "stream",
          "name": "stdout",
          "text": [
            "✅ Extracted: IISC00IND_R_20240660000_01D_30S_MO.crx.gz ➔ IISC00IND_R_20240660000_01D_30S_MO.crx\n",
            "✅ Extracted: IISC00IND_R_20240770000_01D_30S_MO.crx.gz ➔ IISC00IND_R_20240770000_01D_30S_MO.crx\n",
            "✅ Extracted: IISC00IND_R_20240800000_01D_30S_MO.crx.gz ➔ IISC00IND_R_20240800000_01D_30S_MO.crx\n"
          ]
        },
        {
          "output_type": "stream",
          "name": "stderr",
          "text": [
            "Extracting 2024/03Mar:  84%|████████▍ | 26/31 [00:03<00:00,  8.59it/s]"
          ]
        },
        {
          "output_type": "stream",
          "name": "stdout",
          "text": [
            "✅ Extracted: IISC00IND_R_20240850000_01D_30S_MO.crx.gz ➔ IISC00IND_R_20240850000_01D_30S_MO.crx\n",
            "✅ Extracted: IISC00IND_R_20240740000_01D_30S_MO.crx.gz ➔ IISC00IND_R_20240740000_01D_30S_MO.crx\n"
          ]
        },
        {
          "output_type": "stream",
          "name": "stderr",
          "text": [
            "Extracting 2024/03Mar:  90%|█████████ | 28/31 [00:03<00:00,  8.18it/s]"
          ]
        },
        {
          "output_type": "stream",
          "name": "stdout",
          "text": [
            "✅ Extracted: IISC00IND_R_20240710000_01D_30S_MO.crx.gz ➔ IISC00IND_R_20240710000_01D_30S_MO.crx\n",
            "✅ Extracted: IISC00IND_R_20240750000_01D_30S_MO.crx.gz ➔ IISC00IND_R_20240750000_01D_30S_MO.crx\n"
          ]
        },
        {
          "output_type": "stream",
          "name": "stderr",
          "text": [
            "Extracting 2024/03Mar:  97%|█████████▋| 30/31 [00:03<00:00,  8.05it/s]"
          ]
        },
        {
          "output_type": "stream",
          "name": "stdout",
          "text": [
            "✅ Extracted: IISC00IND_R_20240910000_01D_30S_MO.crx.gz ➔ IISC00IND_R_20240910000_01D_30S_MO.crx\n",
            "✅ Extracted: IISC00IND_R_20240780000_01D_30S_MO.crx.gz ➔ IISC00IND_R_20240780000_01D_30S_MO.crx\n"
          ]
        },
        {
          "output_type": "stream",
          "name": "stderr",
          "text": [
            "Extracting 2024/03Mar: 100%|██████████| 31/31 [00:03<00:00,  8.45it/s]\n"
          ]
        },
        {
          "output_type": "stream",
          "name": "stdout",
          "text": [
            "✅ Extracted: IISC00IND_R_20240670000_01D_30S_MO.crx.gz ➔ IISC00IND_R_20240670000_01D_30S_MO.crx\n"
          ]
        },
        {
          "output_type": "stream",
          "name": "stderr",
          "text": [
            "Extracting 2024/04Apr:   3%|▎         | 1/30 [00:00<00:03,  9.60it/s]"
          ]
        },
        {
          "output_type": "stream",
          "name": "stdout",
          "text": [
            "✅ Extracted: IISC00IND_R_20241140000_01D_30S_MO.crx.gz ➔ IISC00IND_R_20241140000_01D_30S_MO.crx\n"
          ]
        },
        {
          "output_type": "stream",
          "name": "stderr",
          "text": [
            "\rExtracting 2024/04Apr:  10%|█         | 3/30 [00:00<00:02, 10.30it/s]"
          ]
        },
        {
          "output_type": "stream",
          "name": "stdout",
          "text": [
            "✅ Extracted: IISC00IND_R_20241210000_01D_30S_MO.crx.gz ➔ IISC00IND_R_20241210000_01D_30S_MO.crx\n",
            "✅ Extracted: IISC00IND_R_20241200000_01D_30S_MO.crx.gz ➔ IISC00IND_R_20241200000_01D_30S_MO.crx\n",
            "✅ Extracted: IISC00IND_R_20241160000_01D_30S_MO.crx.gz ➔ IISC00IND_R_20241160000_01D_30S_MO.crx\n"
          ]
        },
        {
          "output_type": "stream",
          "name": "stderr",
          "text": [
            "\rExtracting 2024/04Apr:  17%|█▋        | 5/30 [00:00<00:02, 10.25it/s]"
          ]
        },
        {
          "output_type": "stream",
          "name": "stdout",
          "text": [
            "✅ Extracted: IISC00IND_R_20241110000_01D_30S_MO.crx.gz ➔ IISC00IND_R_20241110000_01D_30S_MO.crx\n",
            "✅ Extracted: IISC00IND_R_20241130000_01D_30S_MO.crx.gz ➔ IISC00IND_R_20241130000_01D_30S_MO.crx\n"
          ]
        },
        {
          "output_type": "stream",
          "name": "stderr",
          "text": [
            "\rExtracting 2024/04Apr:  23%|██▎       | 7/30 [00:00<00:02, 10.30it/s]"
          ]
        },
        {
          "output_type": "stream",
          "name": "stdout",
          "text": [
            "✅ Extracted: IISC00IND_R_20240920000_01D_30S_MO.crx.gz ➔ IISC00IND_R_20240920000_01D_30S_MO.crx\n"
          ]
        },
        {
          "output_type": "stream",
          "name": "stderr",
          "text": [
            "\rExtracting 2024/04Apr:  30%|███       | 9/30 [00:01<00:02,  8.22it/s]"
          ]
        },
        {
          "output_type": "stream",
          "name": "stdout",
          "text": [
            "✅ Extracted: IISC00IND_R_20241180000_01D_30S_MO.crx.gz ➔ IISC00IND_R_20241180000_01D_30S_MO.crx\n",
            "✅ Extracted: IISC00IND_R_20240970000_01D_30S_MO.crx.gz ➔ IISC00IND_R_20240970000_01D_30S_MO.crx\n"
          ]
        },
        {
          "output_type": "stream",
          "name": "stderr",
          "text": [
            "Extracting 2024/04Apr:  37%|███▋      | 11/30 [00:01<00:02,  8.65it/s]"
          ]
        },
        {
          "output_type": "stream",
          "name": "stdout",
          "text": [
            "✅ Extracted: IISC00IND_R_20240990000_01D_30S_MO.crx.gz ➔ IISC00IND_R_20240990000_01D_30S_MO.crx\n",
            "✅ Extracted: IISC00IND_R_20241030000_01D_30S_MO.crx.gz ➔ IISC00IND_R_20241030000_01D_30S_MO.crx\n"
          ]
        },
        {
          "output_type": "stream",
          "name": "stderr",
          "text": [
            "Extracting 2024/04Apr:  43%|████▎     | 13/30 [00:01<00:01,  9.01it/s]"
          ]
        },
        {
          "output_type": "stream",
          "name": "stdout",
          "text": [
            "✅ Extracted: IISC00IND_R_20241060000_01D_30S_MO.crx.gz ➔ IISC00IND_R_20241060000_01D_30S_MO.crx\n",
            "✅ Extracted: IISC00IND_R_20241070000_01D_30S_MO.crx.gz ➔ IISC00IND_R_20241070000_01D_30S_MO.crx\n"
          ]
        },
        {
          "output_type": "stream",
          "name": "stderr",
          "text": [
            "Extracting 2024/04Apr:  50%|█████     | 15/30 [00:01<00:01,  8.94it/s]"
          ]
        },
        {
          "output_type": "stream",
          "name": "stdout",
          "text": [
            "✅ Extracted: IISC00IND_R_20240940000_01D_30S_MO.crx.gz ➔ IISC00IND_R_20240940000_01D_30S_MO.crx\n",
            "✅ Extracted: IISC00IND_R_20241020000_01D_30S_MO.crx.gz ➔ IISC00IND_R_20241020000_01D_30S_MO.crx\n"
          ]
        },
        {
          "output_type": "stream",
          "name": "stderr",
          "text": [
            "Extracting 2024/04Apr:  60%|██████    | 18/30 [00:01<00:01,  9.59it/s]"
          ]
        },
        {
          "output_type": "stream",
          "name": "stdout",
          "text": [
            "✅ Extracted: IISC00IND_R_20241040000_01D_30S_MO.crx.gz ➔ IISC00IND_R_20241040000_01D_30S_MO.crx\n",
            "✅ Extracted: IISC00IND_R_20241120000_01D_30S_MO.crx.gz ➔ IISC00IND_R_20241120000_01D_30S_MO.crx\n",
            "✅ Extracted: IISC00IND_R_20240960000_01D_30S_MO.crx.gz ➔ IISC00IND_R_20240960000_01D_30S_MO.crx\n"
          ]
        },
        {
          "output_type": "stream",
          "name": "stderr",
          "text": [
            "Extracting 2024/04Apr:  70%|███████   | 21/30 [00:02<00:00,  9.69it/s]"
          ]
        },
        {
          "output_type": "stream",
          "name": "stdout",
          "text": [
            "✅ Extracted: IISC00IND_R_20241010000_01D_30S_MO.crx.gz ➔ IISC00IND_R_20241010000_01D_30S_MO.crx\n",
            "✅ Extracted: IISC00IND_R_20241080000_01D_30S_MO.crx.gz ➔ IISC00IND_R_20241080000_01D_30S_MO.crx\n",
            "✅ Extracted: IISC00IND_R_20241100000_01D_30S_MO.crx.gz ➔ IISC00IND_R_20241100000_01D_30S_MO.crx\n"
          ]
        },
        {
          "output_type": "stream",
          "name": "stderr",
          "text": [
            "\rExtracting 2024/04Apr:  77%|███████▋  | 23/30 [00:02<00:00, 10.01it/s]"
          ]
        },
        {
          "output_type": "stream",
          "name": "stdout",
          "text": [
            "✅ Extracted: IISC00IND_R_20241190000_01D_30S_MO.crx.gz ➔ IISC00IND_R_20241190000_01D_30S_MO.crx\n",
            "✅ Extracted: IISC00IND_R_20241000000_01D_30S_MO.crx.gz ➔ IISC00IND_R_20241000000_01D_30S_MO.crx\n",
            "✅ Extracted: IISC00IND_R_20240950000_01D_30S_MO.crx.gz ➔ IISC00IND_R_20240950000_01D_30S_MO.crx\n"
          ]
        },
        {
          "output_type": "stream",
          "name": "stderr",
          "text": [
            "\rExtracting 2024/04Apr:  83%|████████▎ | 25/30 [00:02<00:00, 10.11it/s]"
          ]
        },
        {
          "output_type": "stream",
          "name": "stdout",
          "text": [
            "✅ Extracted: IISC00IND_R_20241050000_01D_30S_MO.crx.gz ➔ IISC00IND_R_20241050000_01D_30S_MO.crx\n",
            "✅ Extracted: IISC00IND_R_20241170000_01D_30S_MO.crx.gz ➔ IISC00IND_R_20241170000_01D_30S_MO.crx\n"
          ]
        },
        {
          "output_type": "stream",
          "name": "stderr",
          "text": [
            "Extracting 2024/04Apr:  93%|█████████▎| 28/30 [00:03<00:00,  8.60it/s]"
          ]
        },
        {
          "output_type": "stream",
          "name": "stdout",
          "text": [
            "✅ Extracted: IISC00IND_R_20241090000_01D_30S_MO.crx.gz ➔ IISC00IND_R_20241090000_01D_30S_MO.crx\n",
            "✅ Extracted: IISC00IND_R_20240980000_01D_30S_MO.crx.gz ➔ IISC00IND_R_20240980000_01D_30S_MO.crx\n"
          ]
        },
        {
          "output_type": "stream",
          "name": "stderr",
          "text": [
            "Extracting 2024/04Apr: 100%|██████████| 30/30 [00:03<00:00,  9.14it/s]\n"
          ]
        },
        {
          "output_type": "stream",
          "name": "stdout",
          "text": [
            "✅ Extracted: IISC00IND_R_20240930000_01D_30S_MO.crx.gz ➔ IISC00IND_R_20240930000_01D_30S_MO.crx\n",
            "✅ Extracted: IISC00IND_R_20241150000_01D_30S_MO.crx.gz ➔ IISC00IND_R_20241150000_01D_30S_MO.crx\n"
          ]
        },
        {
          "output_type": "stream",
          "name": "stderr",
          "text": [
            "Extracting 2024/07Jul:  10%|▉         | 3/31 [00:00<00:02, 10.69it/s]"
          ]
        },
        {
          "output_type": "stream",
          "name": "stdout",
          "text": [
            "✅ Extracted: IISC00IND_R_20242020000_01D_30S_MO.crx.gz ➔ IISC00IND_R_20242020000_01D_30S_MO.crx\n",
            "✅ Extracted: IISC00IND_R_20241830000_01D_30S_MO.crx.gz ➔ IISC00IND_R_20241830000_01D_30S_MO.crx\n",
            "✅ Extracted: IISC00IND_R_20242040000_01D_30S_MO.crx.gz ➔ IISC00IND_R_20242040000_01D_30S_MO.crx\n"
          ]
        },
        {
          "output_type": "stream",
          "name": "stderr",
          "text": [
            "\rExtracting 2024/07Jul:  16%|█▌        | 5/31 [00:00<00:02, 10.76it/s]"
          ]
        },
        {
          "output_type": "stream",
          "name": "stdout",
          "text": [
            "✅ Extracted: IISC00IND_R_20242100000_01D_30S_MO.crx.gz ➔ IISC00IND_R_20242100000_01D_30S_MO.crx\n",
            "✅ Extracted: IISC00IND_R_20241990000_01D_30S_MO.crx.gz ➔ IISC00IND_R_20241990000_01D_30S_MO.crx\n",
            "✅ Extracted: IISC00IND_R_20241970000_01D_30S_MO.crx.gz ➔ IISC00IND_R_20241970000_01D_30S_MO.crx\n"
          ]
        },
        {
          "output_type": "stream",
          "name": "stderr",
          "text": [
            "\rExtracting 2024/07Jul:  23%|██▎       | 7/31 [00:00<00:02, 10.70it/s]"
          ]
        },
        {
          "output_type": "stream",
          "name": "stdout",
          "text": [
            "✅ Extracted: IISC00IND_R_20242060000_01D_30S_MO.crx.gz ➔ IISC00IND_R_20242060000_01D_30S_MO.crx\n",
            "✅ Extracted: IISC00IND_R_20241910000_01D_30S_MO.crx.gz ➔ IISC00IND_R_20241910000_01D_30S_MO.crx\n"
          ]
        },
        {
          "output_type": "stream",
          "name": "stderr",
          "text": [
            "Extracting 2024/07Jul:  32%|███▏      | 10/31 [00:01<00:02,  9.03it/s]"
          ]
        },
        {
          "output_type": "stream",
          "name": "stdout",
          "text": [
            "✅ Extracted: IISC00IND_R_20242050000_01D_30S_MO.crx.gz ➔ IISC00IND_R_20242050000_01D_30S_MO.crx\n",
            "✅ Extracted: IISC00IND_R_20242110000_01D_30S_MO.crx.gz ➔ IISC00IND_R_20242110000_01D_30S_MO.crx\n"
          ]
        },
        {
          "output_type": "stream",
          "name": "stderr",
          "text": [
            "\rExtracting 2024/07Jul:  35%|███▌      | 11/31 [00:01<00:02,  9.06it/s]"
          ]
        },
        {
          "output_type": "stream",
          "name": "stdout",
          "text": [
            "✅ Extracted: IISC00IND_R_20241850000_01D_30S_MO.crx.gz ➔ IISC00IND_R_20241850000_01D_30S_MO.crx\n",
            "✅ Extracted: IISC00IND_R_20241840000_01D_30S_MO.crx.gz ➔ IISC00IND_R_20241840000_01D_30S_MO.crx\n"
          ]
        },
        {
          "output_type": "stream",
          "name": "stderr",
          "text": [
            "Extracting 2024/07Jul:  48%|████▊     | 15/31 [00:01<00:01,  9.34it/s]"
          ]
        },
        {
          "output_type": "stream",
          "name": "stdout",
          "text": [
            "✅ Extracted: IISC00IND_R_20242080000_01D_30S_MO.crx.gz ➔ IISC00IND_R_20242080000_01D_30S_MO.crx\n",
            "✅ Extracted: IISC00IND_R_20242000000_01D_30S_MO.crx.gz ➔ IISC00IND_R_20242000000_01D_30S_MO.crx\n",
            "✅ Extracted: IISC00IND_R_20241940000_01D_30S_MO.crx.gz ➔ IISC00IND_R_20241940000_01D_30S_MO.crx\n"
          ]
        },
        {
          "output_type": "stream",
          "name": "stderr",
          "text": [
            "\rExtracting 2024/07Jul:  55%|█████▍    | 17/31 [00:01<00:01,  9.77it/s]"
          ]
        },
        {
          "output_type": "stream",
          "name": "stdout",
          "text": [
            "✅ Extracted: IISC00IND_R_20242090000_01D_30S_MO.crx.gz ➔ IISC00IND_R_20242090000_01D_30S_MO.crx\n",
            "✅ Extracted: IISC00IND_R_20241950000_01D_30S_MO.crx.gz ➔ IISC00IND_R_20241950000_01D_30S_MO.crx\n",
            "✅ Extracted: IISC00IND_R_20241960000_01D_30S_MO.crx.gz ➔ IISC00IND_R_20241960000_01D_30S_MO.crx\n"
          ]
        },
        {
          "output_type": "stream",
          "name": "stderr",
          "text": [
            "Extracting 2024/07Jul:  68%|██████▊   | 21/31 [00:02<00:00, 10.38it/s]"
          ]
        },
        {
          "output_type": "stream",
          "name": "stdout",
          "text": [
            "✅ Extracted: IISC00IND_R_20241870000_01D_30S_MO.crx.gz ➔ IISC00IND_R_20241870000_01D_30S_MO.crx\n",
            "✅ Extracted: IISC00IND_R_20242130000_01D_30S_MO.crx.gz ➔ IISC00IND_R_20242130000_01D_30S_MO.crx\n",
            "✅ Extracted: IISC00IND_R_20242120000_01D_30S_MO.crx.gz ➔ IISC00IND_R_20242120000_01D_30S_MO.crx\n"
          ]
        },
        {
          "output_type": "stream",
          "name": "stderr",
          "text": [
            "\rExtracting 2024/07Jul:  74%|███████▍  | 23/31 [00:02<00:00, 10.37it/s]"
          ]
        },
        {
          "output_type": "stream",
          "name": "stdout",
          "text": [
            "✅ Extracted: IISC00IND_R_20241890000_01D_30S_MO.crx.gz ➔ IISC00IND_R_20241890000_01D_30S_MO.crx\n",
            "✅ Extracted: IISC00IND_R_20241900000_01D_30S_MO.crx.gz ➔ IISC00IND_R_20241900000_01D_30S_MO.crx\n"
          ]
        },
        {
          "output_type": "stream",
          "name": "stderr",
          "text": [
            "\rExtracting 2024/07Jul:  81%|████████  | 25/31 [00:02<00:00,  9.09it/s]"
          ]
        },
        {
          "output_type": "stream",
          "name": "stdout",
          "text": [
            "✅ Extracted: IISC00IND_R_20242030000_01D_30S_MO.crx.gz ➔ IISC00IND_R_20242030000_01D_30S_MO.crx\n",
            "✅ Extracted: IISC00IND_R_20241920000_01D_30S_MO.crx.gz ➔ IISC00IND_R_20241920000_01D_30S_MO.crx\n",
            "✅ Extracted: IISC00IND_R_20242070000_01D_30S_MO.crx.gz ➔ IISC00IND_R_20242070000_01D_30S_MO.crx\n"
          ]
        },
        {
          "output_type": "stream",
          "name": "stderr",
          "text": [
            "Extracting 2024/07Jul:  90%|█████████ | 28/31 [00:02<00:00,  9.39it/s]"
          ]
        },
        {
          "output_type": "stream",
          "name": "stdout",
          "text": [
            "✅ Extracted: IISC00IND_R_20241880000_01D_30S_MO.crx.gz ➔ IISC00IND_R_20241880000_01D_30S_MO.crx\n",
            "✅ Extracted: IISC00IND_R_20241980000_01D_30S_MO.crx.gz ➔ IISC00IND_R_20241980000_01D_30S_MO.crx\n"
          ]
        },
        {
          "output_type": "stream",
          "name": "stderr",
          "text": [
            "Extracting 2024/07Jul:  97%|█████████▋| 30/31 [00:03<00:00,  9.52it/s]"
          ]
        },
        {
          "output_type": "stream",
          "name": "stdout",
          "text": [
            "✅ Extracted: IISC00IND_R_20241930000_01D_30S_MO.crx.gz ➔ IISC00IND_R_20241930000_01D_30S_MO.crx\n",
            "✅ Extracted: IISC00IND_R_20242010000_01D_30S_MO.crx.gz ➔ IISC00IND_R_20242010000_01D_30S_MO.crx\n"
          ]
        },
        {
          "output_type": "stream",
          "name": "stderr",
          "text": [
            "Extracting 2024/07Jul: 100%|██████████| 31/31 [00:03<00:00,  9.59it/s]\n"
          ]
        },
        {
          "output_type": "stream",
          "name": "stdout",
          "text": [
            "✅ Extracted: IISC00IND_R_20241860000_01D_30S_MO.crx.gz ➔ IISC00IND_R_20241860000_01D_30S_MO.crx\n"
          ]
        },
        {
          "output_type": "stream",
          "name": "stderr",
          "text": [
            "Extracting 2024/09Sep:   4%|▎         | 1/28 [00:00<00:02,  9.72it/s]"
          ]
        },
        {
          "output_type": "stream",
          "name": "stdout",
          "text": [
            "✅ Extracted: IISC00IND_R_20242590000_01D_30S_MO.crx.gz ➔ IISC00IND_R_20242590000_01D_30S_MO.crx\n"
          ]
        },
        {
          "output_type": "stream",
          "name": "stderr",
          "text": [
            "\rExtracting 2024/09Sep:   7%|▋         | 2/28 [00:00<00:02,  9.87it/s]"
          ]
        },
        {
          "output_type": "stream",
          "name": "stdout",
          "text": [
            "✅ Extracted: IISC00IND_R_20242740000_01D_30S_MO.crx.gz ➔ IISC00IND_R_20242740000_01D_30S_MO.crx\n",
            "✅ Extracted: IISC00IND_R_20242450000_01D_30S_MO.crx.gz ➔ IISC00IND_R_20242450000_01D_30S_MO.crx\n"
          ]
        },
        {
          "output_type": "stream",
          "name": "stderr",
          "text": [
            "Extracting 2024/09Sep:  18%|█▊        | 5/28 [00:00<00:02,  8.72it/s]"
          ]
        },
        {
          "output_type": "stream",
          "name": "stdout",
          "text": [
            "✅ Extracted: IISC00IND_R_20242530000_01D_30S_MO.crx.gz ➔ IISC00IND_R_20242530000_01D_30S_MO.crx\n",
            "✅ Extracted: IISC00IND_R_20242660000_01D_30S_MO.crx.gz ➔ IISC00IND_R_20242660000_01D_30S_MO.crx\n"
          ]
        },
        {
          "output_type": "stream",
          "name": "stderr",
          "text": [
            "Extracting 2024/09Sep:  25%|██▌       | 7/28 [00:00<00:02,  8.17it/s]"
          ]
        },
        {
          "output_type": "stream",
          "name": "stdout",
          "text": [
            "✅ Extracted: IISC00IND_R_20242680000_01D_30S_MO.crx.gz ➔ IISC00IND_R_20242680000_01D_30S_MO.crx\n",
            "✅ Extracted: IISC00IND_R_20242510000_01D_30S_MO.crx.gz ➔ IISC00IND_R_20242510000_01D_30S_MO.crx\n"
          ]
        },
        {
          "output_type": "stream",
          "name": "stderr",
          "text": [
            "Extracting 2024/09Sep:  32%|███▏      | 9/28 [00:01<00:02,  7.86it/s]"
          ]
        },
        {
          "output_type": "stream",
          "name": "stdout",
          "text": [
            "✅ Extracted: IISC00IND_R_20242670000_01D_30S_MO.crx.gz ➔ IISC00IND_R_20242670000_01D_30S_MO.crx\n",
            "✅ Extracted: IISC00IND_R_20242550000_01D_30S_MO.crx.gz ➔ IISC00IND_R_20242550000_01D_30S_MO.crx\n"
          ]
        },
        {
          "output_type": "stream",
          "name": "stderr",
          "text": [
            "Extracting 2024/09Sep:  39%|███▉      | 11/28 [00:01<00:02,  7.96it/s]"
          ]
        },
        {
          "output_type": "stream",
          "name": "stdout",
          "text": [
            "✅ Extracted: IISC00IND_R_20242640000_01D_30S_MO.crx.gz ➔ IISC00IND_R_20242640000_01D_30S_MO.crx\n",
            "✅ Extracted: IISC00IND_R_20242580000_01D_30S_MO.crx.gz ➔ IISC00IND_R_20242580000_01D_30S_MO.crx\n"
          ]
        },
        {
          "output_type": "stream",
          "name": "stderr",
          "text": [
            "\rExtracting 2024/09Sep:  43%|████▎     | 12/28 [00:01<00:02,  7.80it/s]"
          ]
        },
        {
          "output_type": "stream",
          "name": "stdout",
          "text": [
            "✅ Extracted: IISC00IND_R_20242730000_01D_30S_MO.crx.gz ➔ IISC00IND_R_20242730000_01D_30S_MO.crx\n"
          ]
        },
        {
          "output_type": "stream",
          "name": "stderr",
          "text": [
            "Extracting 2024/09Sep:  50%|█████     | 14/28 [00:01<00:02,  5.99it/s]"
          ]
        },
        {
          "output_type": "stream",
          "name": "stdout",
          "text": [
            "✅ Extracted: IISC00IND_R_20242710000_01D_30S_MO.crx.gz ➔ IISC00IND_R_20242710000_01D_30S_MO.crx\n",
            "✅ Extracted: IISC00IND_R_20242720000_01D_30S_MO.crx.gz ➔ IISC00IND_R_20242720000_01D_30S_MO.crx\n"
          ]
        },
        {
          "output_type": "stream",
          "name": "stderr",
          "text": [
            "Extracting 2024/09Sep:  57%|█████▋    | 16/28 [00:02<00:01,  6.53it/s]"
          ]
        },
        {
          "output_type": "stream",
          "name": "stdout",
          "text": [
            "✅ Extracted: IISC00IND_R_20242600000_01D_30S_MO.crx.gz ➔ IISC00IND_R_20242600000_01D_30S_MO.crx\n",
            "✅ Extracted: IISC00IND_R_20242540000_01D_30S_MO.crx.gz ➔ IISC00IND_R_20242540000_01D_30S_MO.crx\n"
          ]
        },
        {
          "output_type": "stream",
          "name": "stderr",
          "text": [
            "Extracting 2024/09Sep:  64%|██████▍   | 18/28 [00:02<00:01,  6.87it/s]"
          ]
        },
        {
          "output_type": "stream",
          "name": "stdout",
          "text": [
            "✅ Extracted: IISC00IND_R_20242560000_01D_30S_MO.crx.gz ➔ IISC00IND_R_20242560000_01D_30S_MO.crx\n",
            "✅ Extracted: IISC00IND_R_20242460000_01D_30S_MO.crx.gz ➔ IISC00IND_R_20242460000_01D_30S_MO.crx\n"
          ]
        },
        {
          "output_type": "stream",
          "name": "stderr",
          "text": [
            "Extracting 2024/09Sep:  71%|███████▏  | 20/28 [00:02<00:01,  7.03it/s]"
          ]
        },
        {
          "output_type": "stream",
          "name": "stdout",
          "text": [
            "✅ Extracted: IISC00IND_R_20242470000_01D_30S_MO.crx.gz ➔ IISC00IND_R_20242470000_01D_30S_MO.crx\n",
            "✅ Extracted: IISC00IND_R_20242620000_01D_30S_MO.crx.gz ➔ IISC00IND_R_20242620000_01D_30S_MO.crx\n"
          ]
        },
        {
          "output_type": "stream",
          "name": "stderr",
          "text": [
            "\rExtracting 2024/09Sep:  75%|███████▌  | 21/28 [00:02<00:01,  6.84it/s]"
          ]
        },
        {
          "output_type": "stream",
          "name": "stdout",
          "text": [
            "✅ Extracted: IISC00IND_R_20242570000_01D_30S_MO.crx.gz ➔ IISC00IND_R_20242570000_01D_30S_MO.crx\n",
            "✅ Extracted: IISC00IND_R_20242480000_01D_30S_MO.crx.gz ➔ IISC00IND_R_20242480000_01D_30S_MO.crx\n"
          ]
        },
        {
          "output_type": "stream",
          "name": "stderr",
          "text": [
            "Extracting 2024/09Sep:  86%|████████▌ | 24/28 [00:03<00:00,  7.07it/s]"
          ]
        },
        {
          "output_type": "stream",
          "name": "stdout",
          "text": [
            "✅ Extracted: IISC00IND_R_20242630000_01D_30S_MO.crx.gz ➔ IISC00IND_R_20242630000_01D_30S_MO.crx\n",
            "✅ Extracted: IISC00IND_R_20242520000_01D_30S_MO.crx.gz ➔ IISC00IND_R_20242520000_01D_30S_MO.crx\n"
          ]
        },
        {
          "output_type": "stream",
          "name": "stderr",
          "text": [
            "\rExtracting 2024/09Sep:  93%|█████████▎| 26/28 [00:03<00:00,  8.25it/s]"
          ]
        },
        {
          "output_type": "stream",
          "name": "stdout",
          "text": [
            "✅ Extracted: IISC00IND_R_20242490000_01D_30S_MO.crx.gz ➔ IISC00IND_R_20242490000_01D_30S_MO.crx\n",
            "✅ Extracted: IISC00IND_R_20242650000_01D_30S_MO.crx.gz ➔ IISC00IND_R_20242650000_01D_30S_MO.crx\n",
            "✅ Extracted: IISC00IND_R_20242610000_01D_30S_MO.crx.gz ➔ IISC00IND_R_20242610000_01D_30S_MO.crx\n"
          ]
        },
        {
          "output_type": "stream",
          "name": "stderr",
          "text": [
            "Extracting 2024/09Sep: 100%|██████████| 28/28 [00:03<00:00,  7.53it/s]\n"
          ]
        },
        {
          "output_type": "stream",
          "name": "stdout",
          "text": [
            "✅ Extracted: IISC00IND_R_20242500000_01D_30S_MO.crx.gz ➔ IISC00IND_R_20242500000_01D_30S_MO.crx\n"
          ]
        },
        {
          "output_type": "stream",
          "name": "stderr",
          "text": [
            "Extracting 2024/11Nov:  14%|█▍        | 1/7 [00:00<00:00,  9.84it/s]"
          ]
        },
        {
          "output_type": "stream",
          "name": "stdout",
          "text": [
            "✅ Extracted: IISC00IND_R_20243060000_01D_30S_MO.crx.gz ➔ IISC00IND_R_20243060000_01D_30S_MO.crx\n"
          ]
        },
        {
          "output_type": "stream",
          "name": "stderr",
          "text": [
            "\rExtracting 2024/11Nov:  43%|████▎     | 3/7 [00:00<00:00, 10.36it/s]"
          ]
        },
        {
          "output_type": "stream",
          "name": "stdout",
          "text": [
            "✅ Extracted: IISC00IND_R_20243070000_01D_30S_MO.crx.gz ➔ IISC00IND_R_20243070000_01D_30S_MO.crx\n",
            "✅ Extracted: IISC00IND_R_20243080000_01D_30S_MO.crx.gz ➔ IISC00IND_R_20243080000_01D_30S_MO.crx\n",
            "✅ Extracted: IISC00IND_R_20243090000_01D_30S_MO.crx.gz ➔ IISC00IND_R_20243090000_01D_30S_MO.crx\n"
          ]
        },
        {
          "output_type": "stream",
          "name": "stderr",
          "text": [
            "\rExtracting 2024/11Nov:  71%|███████▏  | 5/7 [00:00<00:00, 10.35it/s]"
          ]
        },
        {
          "output_type": "stream",
          "name": "stdout",
          "text": [
            "✅ Extracted: IISC00IND_R_20243110000_01D_30S_MO.crx.gz ➔ IISC00IND_R_20243110000_01D_30S_MO.crx\n",
            "✅ Extracted: IISC00IND_R_20243120000_01D_30S_MO.crx.gz ➔ IISC00IND_R_20243120000_01D_30S_MO.crx\n"
          ]
        },
        {
          "output_type": "stream",
          "name": "stderr",
          "text": [
            "Extracting 2024/11Nov: 100%|██████████| 7/7 [00:00<00:00,  9.13it/s]\n"
          ]
        },
        {
          "output_type": "stream",
          "name": "stdout",
          "text": [
            "✅ Extracted: IISC00IND_R_20243100000_01D_30S_MO.crx.gz ➔ IISC00IND_R_20243100000_01D_30S_MO.crx\n"
          ]
        },
        {
          "output_type": "stream",
          "name": "stderr",
          "text": [
            "Extracting 2024/01Jan:   3%|▎         | 1/31 [00:00<00:03,  9.26it/s]"
          ]
        },
        {
          "output_type": "stream",
          "name": "stdout",
          "text": [
            "✅ Extracted: IISC00IND_R_20240310000_01D_30S_MO.crx.gz ➔ IISC00IND_R_20240310000_01D_30S_MO.crx\n"
          ]
        },
        {
          "output_type": "stream",
          "name": "stderr",
          "text": [
            "\rExtracting 2024/01Jan:   6%|▋         | 2/31 [00:00<00:03,  9.49it/s]"
          ]
        },
        {
          "output_type": "stream",
          "name": "stdout",
          "text": [
            "✅ Extracted: IISC00IND_R_20240030000_01D_30S_MO.crx.gz ➔ IISC00IND_R_20240030000_01D_30S_MO.crx\n"
          ]
        },
        {
          "output_type": "stream",
          "name": "stderr",
          "text": [
            "\rExtracting 2024/01Jan:  10%|▉         | 3/31 [00:00<00:02,  9.55it/s]"
          ]
        },
        {
          "output_type": "stream",
          "name": "stdout",
          "text": [
            "✅ Extracted: IISC00IND_R_20240150000_01D_30S_MO.crx.gz ➔ IISC00IND_R_20240150000_01D_30S_MO.crx\n"
          ]
        },
        {
          "output_type": "stream",
          "name": "stderr",
          "text": [
            "\rExtracting 2024/01Jan:  13%|█▎        | 4/31 [00:00<00:02,  9.16it/s]"
          ]
        },
        {
          "output_type": "stream",
          "name": "stdout",
          "text": [
            "✅ Extracted: IISC00IND_R_20240300000_01D_30S_MO.crx.gz ➔ IISC00IND_R_20240300000_01D_30S_MO.crx\n"
          ]
        },
        {
          "output_type": "stream",
          "name": "stderr",
          "text": [
            "\rExtracting 2024/01Jan:  16%|█▌        | 5/31 [00:00<00:02,  9.16it/s]"
          ]
        },
        {
          "output_type": "stream",
          "name": "stdout",
          "text": [
            "✅ Extracted: IISC00IND_R_20240180000_01D_30S_MO.crx.gz ➔ IISC00IND_R_20240180000_01D_30S_MO.crx\n"
          ]
        },
        {
          "output_type": "stream",
          "name": "stderr",
          "text": [
            "\rExtracting 2024/01Jan:  19%|█▉        | 6/31 [00:00<00:02,  9.18it/s]"
          ]
        },
        {
          "output_type": "stream",
          "name": "stdout",
          "text": [
            "✅ Extracted: IISC00IND_R_20240040000_01D_30S_MO.crx.gz ➔ IISC00IND_R_20240040000_01D_30S_MO.crx\n"
          ]
        },
        {
          "output_type": "stream",
          "name": "stderr",
          "text": [
            "\rExtracting 2024/01Jan:  23%|██▎       | 7/31 [00:00<00:02,  9.09it/s]"
          ]
        },
        {
          "output_type": "stream",
          "name": "stdout",
          "text": [
            "✅ Extracted: IISC00IND_R_20240050000_01D_30S_MO.crx.gz ➔ IISC00IND_R_20240050000_01D_30S_MO.crx\n"
          ]
        },
        {
          "output_type": "stream",
          "name": "stderr",
          "text": [
            "\rExtracting 2024/01Jan:  26%|██▌       | 8/31 [00:00<00:02,  9.33it/s]"
          ]
        },
        {
          "output_type": "stream",
          "name": "stdout",
          "text": [
            "✅ Extracted: IISC00IND_R_20240060000_01D_30S_MO.crx.gz ➔ IISC00IND_R_20240060000_01D_30S_MO.crx\n",
            "✅ Extracted: IISC00IND_R_20240200000_01D_30S_MO.crx.gz ➔ IISC00IND_R_20240200000_01D_30S_MO.crx\n"
          ]
        },
        {
          "output_type": "stream",
          "name": "stderr",
          "text": [
            "Extracting 2024/01Jan:  39%|███▊      | 12/31 [00:01<00:01,  9.85it/s]"
          ]
        },
        {
          "output_type": "stream",
          "name": "stdout",
          "text": [
            "✅ Extracted: IISC00IND_R_20240240000_01D_30S_MO.crx.gz ➔ IISC00IND_R_20240240000_01D_30S_MO.crx\n",
            "✅ Extracted: IISC00IND_R_20240070000_01D_30S_MO.crx.gz ➔ IISC00IND_R_20240070000_01D_30S_MO.crx\n",
            "✅ Extracted: IISC00IND_R_20240100000_01D_30S_MO.crx.gz ➔ IISC00IND_R_20240100000_01D_30S_MO.crx\n"
          ]
        },
        {
          "output_type": "stream",
          "name": "stderr",
          "text": [
            "Extracting 2024/01Jan:  48%|████▊     | 15/31 [00:01<00:01,  9.87it/s]"
          ]
        },
        {
          "output_type": "stream",
          "name": "stdout",
          "text": [
            "✅ Extracted: IISC00IND_R_20240170000_01D_30S_MO.crx.gz ➔ IISC00IND_R_20240170000_01D_30S_MO.crx\n",
            "✅ Extracted: IISC00IND_R_20240080000_01D_30S_MO.crx.gz ➔ IISC00IND_R_20240080000_01D_30S_MO.crx\n",
            "✅ Extracted: IISC00IND_R_20240140000_01D_30S_MO.crx.gz ➔ IISC00IND_R_20240140000_01D_30S_MO.crx\n"
          ]
        },
        {
          "output_type": "stream",
          "name": "stderr",
          "text": [
            "\rExtracting 2024/01Jan:  55%|█████▍    | 17/31 [00:01<00:01, 10.09it/s]"
          ]
        },
        {
          "output_type": "stream",
          "name": "stdout",
          "text": [
            "✅ Extracted: IISC00IND_R_20240110000_01D_30S_MO.crx.gz ➔ IISC00IND_R_20240110000_01D_30S_MO.crx\n",
            "✅ Extracted: IISC00IND_R_20240230000_01D_30S_MO.crx.gz ➔ IISC00IND_R_20240230000_01D_30S_MO.crx\n",
            "✅ Extracted: IISC00IND_R_20240220000_01D_30S_MO.crx.gz ➔ IISC00IND_R_20240220000_01D_30S_MO.crx\n"
          ]
        },
        {
          "output_type": "stream",
          "name": "stderr",
          "text": [
            "\rExtracting 2024/01Jan:  61%|██████▏   | 19/31 [00:01<00:01, 10.27it/s]"
          ]
        },
        {
          "output_type": "stream",
          "name": "stdout",
          "text": [
            "✅ Extracted: IISC00IND_R_20240210000_01D_30S_MO.crx.gz ➔ IISC00IND_R_20240210000_01D_30S_MO.crx\n",
            "✅ Extracted: IISC00IND_R_20240090000_01D_30S_MO.crx.gz ➔ IISC00IND_R_20240090000_01D_30S_MO.crx\n"
          ]
        },
        {
          "output_type": "stream",
          "name": "stderr",
          "text": [
            "\rExtracting 2024/01Jan:  68%|██████▊   | 21/31 [00:02<00:01,  8.85it/s]"
          ]
        },
        {
          "output_type": "stream",
          "name": "stdout",
          "text": [
            "✅ Extracted: IISC00IND_R_20240160000_01D_30S_MO.crx.gz ➔ IISC00IND_R_20240160000_01D_30S_MO.crx\n",
            "✅ Extracted: IISC00IND_R_20240130000_01D_30S_MO.crx.gz ➔ IISC00IND_R_20240130000_01D_30S_MO.crx\n"
          ]
        },
        {
          "output_type": "stream",
          "name": "stderr",
          "text": [
            "Extracting 2024/01Jan:  77%|███████▋  | 24/31 [00:02<00:00,  9.19it/s]"
          ]
        },
        {
          "output_type": "stream",
          "name": "stdout",
          "text": [
            "✅ Extracted: IISC00IND_R_20240010000_01D_30S_MO.crx.gz ➔ IISC00IND_R_20240010000_01D_30S_MO.crx\n",
            "✅ Extracted: IISC00IND_R_20240290000_01D_30S_MO.crx.gz ➔ IISC00IND_R_20240290000_01D_30S_MO.crx\n"
          ]
        },
        {
          "output_type": "stream",
          "name": "stderr",
          "text": [
            "Extracting 2024/01Jan:  84%|████████▍ | 26/31 [00:02<00:00,  9.42it/s]"
          ]
        },
        {
          "output_type": "stream",
          "name": "stdout",
          "text": [
            "✅ Extracted: IISC00IND_R_20240020000_01D_30S_MO.crx.gz ➔ IISC00IND_R_20240020000_01D_30S_MO.crx\n",
            "✅ Extracted: IISC00IND_R_20240250000_01D_30S_MO.crx.gz ➔ IISC00IND_R_20240250000_01D_30S_MO.crx\n"
          ]
        },
        {
          "output_type": "stream",
          "name": "stderr",
          "text": [
            "Extracting 2024/01Jan:  94%|█████████▎| 29/31 [00:03<00:00,  9.69it/s]"
          ]
        },
        {
          "output_type": "stream",
          "name": "stdout",
          "text": [
            "✅ Extracted: IISC00IND_R_20240120000_01D_30S_MO.crx.gz ➔ IISC00IND_R_20240120000_01D_30S_MO.crx\n",
            "✅ Extracted: IISC00IND_R_20240190000_01D_30S_MO.crx.gz ➔ IISC00IND_R_20240190000_01D_30S_MO.crx\n",
            "✅ Extracted: IISC00IND_R_20240270000_01D_30S_MO.crx.gz ➔ IISC00IND_R_20240270000_01D_30S_MO.crx\n"
          ]
        },
        {
          "output_type": "stream",
          "name": "stderr",
          "text": [
            "Extracting 2024/01Jan: 100%|██████████| 31/31 [00:03<00:00,  9.51it/s]\n"
          ]
        },
        {
          "output_type": "stream",
          "name": "stdout",
          "text": [
            "✅ Extracted: IISC00IND_R_20240280000_01D_30S_MO.crx.gz ➔ IISC00IND_R_20240280000_01D_30S_MO.crx\n",
            "✅ Extracted: IISC00IND_R_20240260000_01D_30S_MO.crx.gz ➔ IISC00IND_R_20240260000_01D_30S_MO.crx\n"
          ]
        },
        {
          "output_type": "stream",
          "name": "stderr",
          "text": [
            "Extracting 2024/06Jun:   7%|▋         | 2/30 [00:01<00:13,  2.04it/s]"
          ]
        },
        {
          "output_type": "stream",
          "name": "stdout",
          "text": [
            "✅ Extracted: IISC00IND_R_20241640000_01D_30S_MO.crx.gz ➔ IISC00IND_R_20241640000_01D_30S_MO.crx\n",
            "✅ Extracted: IISC00IND_R_20241740000_01D_30S_MO.crx.gz ➔ IISC00IND_R_20241740000_01D_30S_MO.crx\n"
          ]
        },
        {
          "output_type": "stream",
          "name": "stderr",
          "text": [
            "Extracting 2024/06Jun:  13%|█▎        | 4/30 [00:01<00:06,  4.31it/s]"
          ]
        },
        {
          "output_type": "stream",
          "name": "stdout",
          "text": [
            "✅ Extracted: IISC00IND_R_20241770000_01D_30S_MO.crx.gz ➔ IISC00IND_R_20241770000_01D_30S_MO.crx\n",
            "✅ Extracted: IISC00IND_R_20241630000_01D_30S_MO.crx.gz ➔ IISC00IND_R_20241630000_01D_30S_MO.crx\n",
            "✅ Extracted: IISC00IND_R_20241590000_01D_30S_MO.crx.gz ➔ IISC00IND_R_20241590000_01D_30S_MO.crx\n"
          ]
        },
        {
          "output_type": "stream",
          "name": "stderr",
          "text": [
            "Extracting 2024/06Jun:  27%|██▋       | 8/30 [00:01<00:02,  7.55it/s]"
          ]
        },
        {
          "output_type": "stream",
          "name": "stdout",
          "text": [
            "✅ Extracted: IISC00IND_R_20241730000_01D_30S_MO.crx.gz ➔ IISC00IND_R_20241730000_01D_30S_MO.crx\n",
            "✅ Extracted: IISC00IND_R_20241780000_01D_30S_MO.crx.gz ➔ IISC00IND_R_20241780000_01D_30S_MO.crx\n",
            "✅ Extracted: IISC00IND_R_20241570000_01D_30S_MO.crx.gz ➔ IISC00IND_R_20241570000_01D_30S_MO.crx\n"
          ]
        },
        {
          "output_type": "stream",
          "name": "stderr",
          "text": [
            "\rExtracting 2024/06Jun:  33%|███▎      | 10/30 [00:01<00:02,  8.58it/s]"
          ]
        },
        {
          "output_type": "stream",
          "name": "stdout",
          "text": [
            "✅ Extracted: IISC00IND_R_20241670000_01D_30S_MO.crx.gz ➔ IISC00IND_R_20241670000_01D_30S_MO.crx\n",
            "✅ Extracted: IISC00IND_R_20241800000_01D_30S_MO.crx.gz ➔ IISC00IND_R_20241800000_01D_30S_MO.crx\n",
            "✅ Extracted: IISC00IND_R_20241660000_01D_30S_MO.crx.gz ➔ IISC00IND_R_20241660000_01D_30S_MO.crx\n"
          ]
        },
        {
          "output_type": "stream",
          "name": "stderr",
          "text": [
            "\rExtracting 2024/06Jun:  40%|████      | 12/30 [00:02<00:01,  9.26it/s]"
          ]
        },
        {
          "output_type": "stream",
          "name": "stdout",
          "text": [
            "✅ Extracted: IISC00IND_R_20241690000_01D_30S_MO.crx.gz ➔ IISC00IND_R_20241690000_01D_30S_MO.crx\n",
            "✅ Extracted: IISC00IND_R_20241610000_01D_30S_MO.crx.gz ➔ IISC00IND_R_20241610000_01D_30S_MO.crx\n"
          ]
        },
        {
          "output_type": "stream",
          "name": "stderr",
          "text": [
            "Extracting 2024/06Jun:  53%|█████▎    | 16/30 [00:02<00:01,  9.21it/s]"
          ]
        },
        {
          "output_type": "stream",
          "name": "stdout",
          "text": [
            "✅ Extracted: IISC00IND_R_20241700000_01D_30S_MO.crx.gz ➔ IISC00IND_R_20241700000_01D_30S_MO.crx\n",
            "✅ Extracted: IISC00IND_R_20241650000_01D_30S_MO.crx.gz ➔ IISC00IND_R_20241650000_01D_30S_MO.crx\n",
            "✅ Extracted: IISC00IND_R_20241600000_01D_30S_MO.crx.gz ➔ IISC00IND_R_20241600000_01D_30S_MO.crx\n"
          ]
        },
        {
          "output_type": "stream",
          "name": "stderr",
          "text": [
            "Extracting 2024/06Jun:  63%|██████▎   | 19/30 [00:02<00:01,  9.63it/s]"
          ]
        },
        {
          "output_type": "stream",
          "name": "stdout",
          "text": [
            "✅ Extracted: IISC00IND_R_20241540000_01D_30S_MO.crx.gz ➔ IISC00IND_R_20241540000_01D_30S_MO.crx\n",
            "✅ Extracted: IISC00IND_R_20241550000_01D_30S_MO.crx.gz ➔ IISC00IND_R_20241550000_01D_30S_MO.crx\n",
            "✅ Extracted: IISC00IND_R_20241620000_01D_30S_MO.crx.gz ➔ IISC00IND_R_20241620000_01D_30S_MO.crx\n"
          ]
        },
        {
          "output_type": "stream",
          "name": "stderr",
          "text": [
            "Extracting 2024/06Jun:  70%|███████   | 21/30 [00:03<00:00,  9.54it/s]"
          ]
        },
        {
          "output_type": "stream",
          "name": "stdout",
          "text": [
            "✅ Extracted: IISC00IND_R_20241790000_01D_30S_MO.crx.gz ➔ IISC00IND_R_20241790000_01D_30S_MO.crx\n",
            "✅ Extracted: IISC00IND_R_20241560000_01D_30S_MO.crx.gz ➔ IISC00IND_R_20241560000_01D_30S_MO.crx\n"
          ]
        },
        {
          "output_type": "stream",
          "name": "stderr",
          "text": [
            "Extracting 2024/06Jun:  77%|███████▋  | 23/30 [00:03<00:00,  9.67it/s]"
          ]
        },
        {
          "output_type": "stream",
          "name": "stdout",
          "text": [
            "✅ Extracted: IISC00IND_R_20241720000_01D_30S_MO.crx.gz ➔ IISC00IND_R_20241720000_01D_30S_MO.crx\n",
            "✅ Extracted: IISC00IND_R_20241750000_01D_30S_MO.crx.gz ➔ IISC00IND_R_20241750000_01D_30S_MO.crx\n"
          ]
        },
        {
          "output_type": "stream",
          "name": "stderr",
          "text": [
            "Extracting 2024/06Jun:  87%|████████▋ | 26/30 [00:03<00:00, 10.07it/s]"
          ]
        },
        {
          "output_type": "stream",
          "name": "stdout",
          "text": [
            "✅ Extracted: IISC00IND_R_20241680000_01D_30S_MO.crx.gz ➔ IISC00IND_R_20241680000_01D_30S_MO.crx\n",
            "✅ Extracted: IISC00IND_R_20241710000_01D_30S_MO.crx.gz ➔ IISC00IND_R_20241710000_01D_30S_MO.crx\n",
            "✅ Extracted: IISC00IND_R_20241580000_01D_30S_MO.crx.gz ➔ IISC00IND_R_20241580000_01D_30S_MO.crx\n"
          ]
        },
        {
          "output_type": "stream",
          "name": "stderr",
          "text": [
            "Extracting 2024/06Jun:  97%|█████████▋| 29/30 [00:03<00:00, 10.49it/s]"
          ]
        },
        {
          "output_type": "stream",
          "name": "stdout",
          "text": [
            "✅ Extracted: IISC00IND_R_20241810000_01D_30S_MO.crx.gz ➔ IISC00IND_R_20241810000_01D_30S_MO.crx\n",
            "✅ Extracted: IISC00IND_R_20241530000_01D_30S_MO.crx.gz ➔ IISC00IND_R_20241530000_01D_30S_MO.crx\n",
            "✅ Extracted: IISC00IND_R_20241760000_01D_30S_MO.crx.gz ➔ IISC00IND_R_20241760000_01D_30S_MO.crx\n"
          ]
        },
        {
          "output_type": "stream",
          "name": "stderr",
          "text": [
            "\rExtracting 2024/06Jun: 100%|██████████| 30/30 [00:03<00:00,  7.62it/s]\n"
          ]
        },
        {
          "output_type": "stream",
          "name": "stdout",
          "text": [
            "✅ Extracted: IISC00IND_R_20241820000_01D_30S_MO.crx.gz ➔ IISC00IND_R_20241820000_01D_30S_MO.crx\n"
          ]
        },
        {
          "output_type": "stream",
          "name": "stderr",
          "text": [
            "Extracting 2024/05May:   6%|▋         | 2/31 [00:00<00:02, 10.41it/s]"
          ]
        },
        {
          "output_type": "stream",
          "name": "stdout",
          "text": [
            "✅ Extracted: IISC00IND_R_20241280000_01D_30S_MO.crx.gz ➔ IISC00IND_R_20241280000_01D_30S_MO.crx\n",
            "✅ Extracted: IISC00IND_R_20241520000_01D_30S_MO.crx.gz ➔ IISC00IND_R_20241520000_01D_30S_MO.crx\n",
            "✅ Extracted: IISC00IND_R_20241510000_01D_30S_MO.crx.gz ➔ IISC00IND_R_20241510000_01D_30S_MO.crx\n"
          ]
        },
        {
          "output_type": "stream",
          "name": "stderr",
          "text": [
            "Extracting 2024/05May:  16%|█▌        | 5/31 [00:00<00:03,  8.18it/s]"
          ]
        },
        {
          "output_type": "stream",
          "name": "stdout",
          "text": [
            "✅ Extracted: IISC00IND_R_20241330000_01D_30S_MO.crx.gz ➔ IISC00IND_R_20241330000_01D_30S_MO.crx\n",
            "✅ Extracted: IISC00IND_R_20241250000_01D_30S_MO.crx.gz ➔ IISC00IND_R_20241250000_01D_30S_MO.crx\n"
          ]
        },
        {
          "output_type": "stream",
          "name": "stderr",
          "text": [
            "Extracting 2024/05May:  26%|██▌       | 8/31 [00:00<00:02,  9.21it/s]"
          ]
        },
        {
          "output_type": "stream",
          "name": "stdout",
          "text": [
            "✅ Extracted: IISC00IND_R_20241270000_01D_30S_MO.crx.gz ➔ IISC00IND_R_20241270000_01D_30S_MO.crx\n",
            "✅ Extracted: IISC00IND_R_20241260000_01D_30S_MO.crx.gz ➔ IISC00IND_R_20241260000_01D_30S_MO.crx\n",
            "✅ Extracted: IISC00IND_R_20241370000_01D_30S_MO.crx.gz ➔ IISC00IND_R_20241370000_01D_30S_MO.crx\n"
          ]
        },
        {
          "output_type": "stream",
          "name": "stderr",
          "text": [
            "Extracting 2024/05May:  35%|███▌      | 11/31 [00:01<00:02,  9.58it/s]"
          ]
        },
        {
          "output_type": "stream",
          "name": "stdout",
          "text": [
            "✅ Extracted: IISC00IND_R_20241290000_01D_30S_MO.crx.gz ➔ IISC00IND_R_20241290000_01D_30S_MO.crx\n",
            "✅ Extracted: IISC00IND_R_20241480000_01D_30S_MO.crx.gz ➔ IISC00IND_R_20241480000_01D_30S_MO.crx\n",
            "✅ Extracted: IISC00IND_R_20241240000_01D_30S_MO.crx.gz ➔ IISC00IND_R_20241240000_01D_30S_MO.crx\n"
          ]
        },
        {
          "output_type": "stream",
          "name": "stderr",
          "text": [
            "Extracting 2024/05May:  42%|████▏     | 13/31 [00:01<00:02,  8.95it/s]"
          ]
        },
        {
          "output_type": "stream",
          "name": "stdout",
          "text": [
            "✅ Extracted: IISC00IND_R_20241490000_01D_30S_MO.crx.gz ➔ IISC00IND_R_20241490000_01D_30S_MO.crx\n",
            "✅ Extracted: IISC00IND_R_20241470000_01D_30S_MO.crx.gz ➔ IISC00IND_R_20241470000_01D_30S_MO.crx\n"
          ]
        },
        {
          "output_type": "stream",
          "name": "stderr",
          "text": [
            "Extracting 2024/05May:  48%|████▊     | 15/31 [00:01<00:01,  8.72it/s]"
          ]
        },
        {
          "output_type": "stream",
          "name": "stdout",
          "text": [
            "✅ Extracted: IISC00IND_R_20241390000_01D_30S_MO.crx.gz ➔ IISC00IND_R_20241390000_01D_30S_MO.crx\n",
            "✅ Extracted: IISC00IND_R_20241410000_01D_30S_MO.crx.gz ➔ IISC00IND_R_20241410000_01D_30S_MO.crx\n"
          ]
        },
        {
          "output_type": "stream",
          "name": "stderr",
          "text": [
            "Extracting 2024/05May:  55%|█████▍    | 17/31 [00:01<00:01,  8.01it/s]"
          ]
        },
        {
          "output_type": "stream",
          "name": "stdout",
          "text": [
            "✅ Extracted: IISC00IND_R_20241380000_01D_30S_MO.crx.gz ➔ IISC00IND_R_20241380000_01D_30S_MO.crx\n",
            "✅ Extracted: IISC00IND_R_20241310000_01D_30S_MO.crx.gz ➔ IISC00IND_R_20241310000_01D_30S_MO.crx\n"
          ]
        },
        {
          "output_type": "stream",
          "name": "stderr",
          "text": [
            "Extracting 2024/05May:  61%|██████▏   | 19/31 [00:02<00:01,  7.81it/s]"
          ]
        },
        {
          "output_type": "stream",
          "name": "stdout",
          "text": [
            "✅ Extracted: IISC00IND_R_20241320000_01D_30S_MO.crx.gz ➔ IISC00IND_R_20241320000_01D_30S_MO.crx\n",
            "✅ Extracted: IISC00IND_R_20241220000_01D_30S_MO.crx.gz ➔ IISC00IND_R_20241220000_01D_30S_MO.crx\n"
          ]
        },
        {
          "output_type": "stream",
          "name": "stderr",
          "text": [
            "Extracting 2024/05May:  68%|██████▊   | 21/31 [00:02<00:01,  7.52it/s]"
          ]
        },
        {
          "output_type": "stream",
          "name": "stdout",
          "text": [
            "✅ Extracted: IISC00IND_R_20241460000_01D_30S_MO.crx.gz ➔ IISC00IND_R_20241460000_01D_30S_MO.crx\n",
            "✅ Extracted: IISC00IND_R_20241420000_01D_30S_MO.crx.gz ➔ IISC00IND_R_20241420000_01D_30S_MO.crx\n"
          ]
        },
        {
          "output_type": "stream",
          "name": "stderr",
          "text": [
            "Extracting 2024/05May:  74%|███████▍  | 23/31 [00:02<00:01,  7.65it/s]"
          ]
        },
        {
          "output_type": "stream",
          "name": "stdout",
          "text": [
            "✅ Extracted: IISC00IND_R_20241340000_01D_30S_MO.crx.gz ➔ IISC00IND_R_20241340000_01D_30S_MO.crx\n",
            "✅ Extracted: IISC00IND_R_20241430000_01D_30S_MO.crx.gz ➔ IISC00IND_R_20241430000_01D_30S_MO.crx\n"
          ]
        },
        {
          "output_type": "stream",
          "name": "stderr",
          "text": [
            "\rExtracting 2024/05May:  77%|███████▋  | 24/31 [00:02<00:00,  7.70it/s]"
          ]
        },
        {
          "output_type": "stream",
          "name": "stdout",
          "text": [
            "✅ Extracted: IISC00IND_R_20241350000_01D_30S_MO.crx.gz ➔ IISC00IND_R_20241350000_01D_30S_MO.crx\n"
          ]
        },
        {
          "output_type": "stream",
          "name": "stderr",
          "text": [
            "\rExtracting 2024/05May:  81%|████████  | 25/31 [00:03<00:00,  6.32it/s]"
          ]
        },
        {
          "output_type": "stream",
          "name": "stdout",
          "text": [
            "✅ Extracted: IISC00IND_R_20241450000_01D_30S_MO.crx.gz ➔ IISC00IND_R_20241450000_01D_30S_MO.crx\n"
          ]
        },
        {
          "output_type": "stream",
          "name": "stderr",
          "text": [
            "Extracting 2024/05May:  87%|████████▋ | 27/31 [00:03<00:00,  5.53it/s]"
          ]
        },
        {
          "output_type": "stream",
          "name": "stdout",
          "text": [
            "✅ Extracted: IISC00IND_R_20241360000_01D_30S_MO.crx.gz ➔ IISC00IND_R_20241360000_01D_30S_MO.crx\n",
            "✅ Extracted: IISC00IND_R_20241500000_01D_30S_MO.crx.gz ➔ IISC00IND_R_20241500000_01D_30S_MO.crx\n"
          ]
        },
        {
          "output_type": "stream",
          "name": "stderr",
          "text": [
            "Extracting 2024/05May:  94%|█████████▎| 29/31 [00:03<00:00,  6.10it/s]"
          ]
        },
        {
          "output_type": "stream",
          "name": "stdout",
          "text": [
            "✅ Extracted: IISC00IND_R_20241230000_01D_30S_MO.crx.gz ➔ IISC00IND_R_20241230000_01D_30S_MO.crx\n",
            "✅ Extracted: IISC00IND_R_20241300000_01D_30S_MO.crx.gz ➔ IISC00IND_R_20241300000_01D_30S_MO.crx\n"
          ]
        },
        {
          "output_type": "stream",
          "name": "stderr",
          "text": [
            "Extracting 2024/05May: 100%|██████████| 31/31 [00:04<00:00,  7.49it/s]\n"
          ]
        },
        {
          "output_type": "stream",
          "name": "stdout",
          "text": [
            "✅ Extracted: IISC00IND_R_20241440000_01D_30S_MO.crx.gz ➔ IISC00IND_R_20241440000_01D_30S_MO.crx\n",
            "✅ Extracted: IISC00IND_R_20241400000_01D_30S_MO.crx.gz ➔ IISC00IND_R_20241400000_01D_30S_MO.crx\n"
          ]
        },
        {
          "output_type": "stream",
          "name": "stderr",
          "text": [
            "Extracting 2024/.ipynb_checkpoints: 0it [00:00, ?it/s]\n",
            "Extracting 2024/08Aug:   7%|▋         | 2/29 [00:00<00:03,  6.77it/s]"
          ]
        },
        {
          "output_type": "stream",
          "name": "stdout",
          "text": [
            "✅ Extracted: IISC00IND_R_20242430000_01D_30S_MO.crx.gz ➔ IISC00IND_R_20242430000_01D_30S_MO.crx\n",
            "✅ Extracted: IISC00IND_R_20242200000_01D_30S_MO.crx.gz ➔ IISC00IND_R_20242200000_01D_30S_MO.crx\n"
          ]
        },
        {
          "output_type": "stream",
          "name": "stderr",
          "text": [
            "Extracting 2024/08Aug:  14%|█▍        | 4/29 [00:00<00:03,  8.24it/s]"
          ]
        },
        {
          "output_type": "stream",
          "name": "stdout",
          "text": [
            "✅ Extracted: IISC00IND_R_20242240000_01D_30S_MO.crx.gz ➔ IISC00IND_R_20242240000_01D_30S_MO.crx\n",
            "✅ Extracted: IISC00IND_R_20242370000_01D_30S_MO.crx.gz ➔ IISC00IND_R_20242370000_01D_30S_MO.crx\n"
          ]
        },
        {
          "output_type": "stream",
          "name": "stderr",
          "text": [
            "Extracting 2024/08Aug:  24%|██▍       | 7/29 [00:00<00:02,  9.69it/s]"
          ]
        },
        {
          "output_type": "stream",
          "name": "stdout",
          "text": [
            "✅ Extracted: IISC00IND_R_20242380000_01D_30S_MO.crx.gz ➔ IISC00IND_R_20242380000_01D_30S_MO.crx\n",
            "✅ Extracted: IISC00IND_R_20242360000_01D_30S_MO.crx.gz ➔ IISC00IND_R_20242360000_01D_30S_MO.crx\n",
            "✅ Extracted: IISC00IND_R_20242190000_01D_30S_MO.crx.gz ➔ IISC00IND_R_20242190000_01D_30S_MO.crx\n"
          ]
        },
        {
          "output_type": "stream",
          "name": "stderr",
          "text": [
            "\rExtracting 2024/08Aug:  31%|███       | 9/29 [00:00<00:01, 10.14it/s]"
          ]
        },
        {
          "output_type": "stream",
          "name": "stdout",
          "text": [
            "✅ Extracted: IISC00IND_R_20242180000_01D_30S_MO.crx.gz ➔ IISC00IND_R_20242180000_01D_30S_MO.crx\n",
            "✅ Extracted: IISC00IND_R_20242350000_01D_30S_MO.crx.gz ➔ IISC00IND_R_20242350000_01D_30S_MO.crx\n",
            "✅ Extracted: IISC00IND_R_20242270000_01D_30S_MO.crx.gz ➔ IISC00IND_R_20242270000_01D_30S_MO.crx\n"
          ]
        },
        {
          "output_type": "stream",
          "name": "stderr",
          "text": [
            "\rExtracting 2024/08Aug:  38%|███▊      | 11/29 [00:01<00:01, 10.38it/s]"
          ]
        },
        {
          "output_type": "stream",
          "name": "stdout",
          "text": [
            "✅ Extracted: IISC00IND_R_20242300000_01D_30S_MO.crx.gz ➔ IISC00IND_R_20242300000_01D_30S_MO.crx\n",
            "✅ Extracted: IISC00IND_R_20242320000_01D_30S_MO.crx.gz ➔ IISC00IND_R_20242320000_01D_30S_MO.crx\n"
          ]
        },
        {
          "output_type": "stream",
          "name": "stderr",
          "text": [
            "Extracting 2024/08Aug:  48%|████▊     | 14/29 [00:01<00:01,  8.48it/s]"
          ]
        },
        {
          "output_type": "stream",
          "name": "stdout",
          "text": [
            "✅ Extracted: IISC00IND_R_20242400000_01D_30S_MO.crx.gz ➔ IISC00IND_R_20242400000_01D_30S_MO.crx\n",
            "✅ Extracted: IISC00IND_R_20242150000_01D_30S_MO.crx.gz ➔ IISC00IND_R_20242150000_01D_30S_MO.crx\n"
          ]
        },
        {
          "output_type": "stream",
          "name": "stderr",
          "text": [
            "Extracting 2024/08Aug:  59%|█████▊    | 17/29 [00:01<00:01,  9.33it/s]"
          ]
        },
        {
          "output_type": "stream",
          "name": "stdout",
          "text": [
            "✅ Extracted: IISC00IND_R_20242280000_01D_30S_MO.crx.gz ➔ IISC00IND_R_20242280000_01D_30S_MO.crx\n",
            "✅ Extracted: IISC00IND_R_20242250000_01D_30S_MO.crx.gz ➔ IISC00IND_R_20242250000_01D_30S_MO.crx\n",
            "✅ Extracted: IISC00IND_R_20242440000_01D_30S_MO.crx.gz ➔ IISC00IND_R_20242440000_01D_30S_MO.crx\n"
          ]
        },
        {
          "output_type": "stream",
          "name": "stderr",
          "text": [
            "Extracting 2024/08Aug:  66%|██████▌   | 19/29 [00:02<00:01,  9.33it/s]"
          ]
        },
        {
          "output_type": "stream",
          "name": "stdout",
          "text": [
            "✅ Extracted: IISC00IND_R_20242220000_01D_30S_MO.crx.gz ➔ IISC00IND_R_20242220000_01D_30S_MO.crx\n",
            "✅ Extracted: IISC00IND_R_20242420000_01D_30S_MO.crx.gz ➔ IISC00IND_R_20242420000_01D_30S_MO.crx\n"
          ]
        },
        {
          "output_type": "stream",
          "name": "stderr",
          "text": [
            "Extracting 2024/08Aug:  76%|███████▌  | 22/29 [00:02<00:00,  9.79it/s]"
          ]
        },
        {
          "output_type": "stream",
          "name": "stdout",
          "text": [
            "✅ Extracted: IISC00IND_R_20242160000_01D_30S_MO.crx.gz ➔ IISC00IND_R_20242160000_01D_30S_MO.crx\n",
            "✅ Extracted: IISC00IND_R_20242260000_01D_30S_MO.crx.gz ➔ IISC00IND_R_20242260000_01D_30S_MO.crx\n",
            "✅ Extracted: IISC00IND_R_20242230000_01D_30S_MO.crx.gz ➔ IISC00IND_R_20242230000_01D_30S_MO.crx\n"
          ]
        },
        {
          "output_type": "stream",
          "name": "stderr",
          "text": [
            "Extracting 2024/08Aug:  83%|████████▎ | 24/29 [00:02<00:00,  9.74it/s]"
          ]
        },
        {
          "output_type": "stream",
          "name": "stdout",
          "text": [
            "✅ Extracted: IISC00IND_R_20242210000_01D_30S_MO.crx.gz ➔ IISC00IND_R_20242210000_01D_30S_MO.crx\n",
            "✅ Extracted: IISC00IND_R_20242390000_01D_30S_MO.crx.gz ➔ IISC00IND_R_20242390000_01D_30S_MO.crx\n"
          ]
        },
        {
          "output_type": "stream",
          "name": "stderr",
          "text": [
            "\rExtracting 2024/08Aug:  90%|████████▉ | 26/29 [00:02<00:00,  9.99it/s]"
          ]
        },
        {
          "output_type": "stream",
          "name": "stdout",
          "text": [
            "✅ Extracted: IISC00IND_R_20242140000_01D_30S_MO.crx.gz ➔ IISC00IND_R_20242140000_01D_30S_MO.crx\n",
            "✅ Extracted: IISC00IND_R_20242310000_01D_30S_MO.crx.gz ➔ IISC00IND_R_20242310000_01D_30S_MO.crx\n",
            "✅ Extracted: IISC00IND_R_20242410000_01D_30S_MO.crx.gz ➔ IISC00IND_R_20242410000_01D_30S_MO.crx\n"
          ]
        },
        {
          "output_type": "stream",
          "name": "stderr",
          "text": [
            "Extracting 2024/08Aug: 100%|██████████| 29/29 [00:03<00:00,  9.50it/s]\n"
          ]
        },
        {
          "output_type": "stream",
          "name": "stdout",
          "text": [
            "✅ Extracted: IISC00IND_R_20242290000_01D_30S_MO.crx.gz ➔ IISC00IND_R_20242290000_01D_30S_MO.crx\n",
            "✅ Extracted: IISC00IND_R_20242170000_01D_30S_MO.crx.gz ➔ IISC00IND_R_20242170000_01D_30S_MO.crx\n"
          ]
        },
        {
          "output_type": "stream",
          "name": "stderr",
          "text": [
            "\rExtracting 2024/10Oct:   0%|          | 0/29 [00:00<?, ?it/s]"
          ]
        },
        {
          "output_type": "stream",
          "name": "stdout",
          "text": [
            "✅ Extracted: IISC00IND_R_20243020000_01D_30S_MO.crx.gz ➔ IISC00IND_R_20243020000_01D_30S_MO.crx\n"
          ]
        },
        {
          "output_type": "stream",
          "name": "stderr",
          "text": [
            "\rExtracting 2024/10Oct:   7%|▋         | 2/29 [00:00<00:02, 10.26it/s]"
          ]
        },
        {
          "output_type": "stream",
          "name": "stdout",
          "text": [
            "✅ Extracted: IISC00IND_R_20242800000_01D_30S_MO.crx.gz ➔ IISC00IND_R_20242800000_01D_30S_MO.crx\n",
            "✅ Extracted: IISC00IND_R_20243010000_01D_30S_MO.crx.gz ➔ IISC00IND_R_20243010000_01D_30S_MO.crx\n"
          ]
        },
        {
          "output_type": "stream",
          "name": "stderr",
          "text": [
            "Extracting 2024/10Oct:  21%|██        | 6/29 [00:00<00:02,  8.53it/s]"
          ]
        },
        {
          "output_type": "stream",
          "name": "stdout",
          "text": [
            "✅ Extracted: IISC00IND_R_20242760000_01D_30S_MO.crx.gz ➔ IISC00IND_R_20242760000_01D_30S_MO.crx\n",
            "✅ Extracted: IISC00IND_R_20242980000_01D_30S_MO.crx.gz ➔ IISC00IND_R_20242980000_01D_30S_MO.crx\n",
            "✅ Extracted: IISC00IND_R_20242950000_01D_30S_MO.crx.gz ➔ IISC00IND_R_20242950000_01D_30S_MO.crx\n"
          ]
        },
        {
          "output_type": "stream",
          "name": "stderr",
          "text": [
            "Extracting 2024/10Oct:  28%|██▊       | 8/29 [00:00<00:02,  9.05it/s]"
          ]
        },
        {
          "output_type": "stream",
          "name": "stdout",
          "text": [
            "✅ Extracted: IISC00IND_R_20242750000_01D_30S_MO.crx.gz ➔ IISC00IND_R_20242750000_01D_30S_MO.crx\n",
            "✅ Extracted: IISC00IND_R_20243040000_01D_30S_MO.crx.gz ➔ IISC00IND_R_20243040000_01D_30S_MO.crx\n"
          ]
        },
        {
          "output_type": "stream",
          "name": "stderr",
          "text": [
            "Extracting 2024/10Oct:  34%|███▍      | 10/29 [00:01<00:02,  9.16it/s]"
          ]
        },
        {
          "output_type": "stream",
          "name": "stdout",
          "text": [
            "✅ Extracted: IISC00IND_R_20242870000_01D_30S_MO.crx.gz ➔ IISC00IND_R_20242870000_01D_30S_MO.crx\n",
            "✅ Extracted: IISC00IND_R_20243050000_01D_30S_MO.crx.gz ➔ IISC00IND_R_20243050000_01D_30S_MO.crx\n"
          ]
        },
        {
          "output_type": "stream",
          "name": "stderr",
          "text": [
            "Extracting 2024/10Oct:  45%|████▍     | 13/29 [00:01<00:01,  9.75it/s]"
          ]
        },
        {
          "output_type": "stream",
          "name": "stdout",
          "text": [
            "✅ Extracted: IISC00IND_R_20242900000_01D_30S_MO.crx.gz ➔ IISC00IND_R_20242900000_01D_30S_MO.crx\n",
            "✅ Extracted: IISC00IND_R_20242830000_01D_30S_MO.crx.gz ➔ IISC00IND_R_20242830000_01D_30S_MO.crx\n",
            "✅ Extracted: IISC00IND_R_20242820000_01D_30S_MO.crx.gz ➔ IISC00IND_R_20242820000_01D_30S_MO.crx\n"
          ]
        },
        {
          "output_type": "stream",
          "name": "stderr",
          "text": [
            "Extracting 2024/10Oct:  52%|█████▏    | 15/29 [00:01<00:01,  9.66it/s]"
          ]
        },
        {
          "output_type": "stream",
          "name": "stdout",
          "text": [
            "✅ Extracted: IISC00IND_R_20242790000_01D_30S_MO.crx.gz ➔ IISC00IND_R_20242790000_01D_30S_MO.crx\n",
            "✅ Extracted: IISC00IND_R_20242880000_01D_30S_MO.crx.gz ➔ IISC00IND_R_20242880000_01D_30S_MO.crx\n",
            "✅ Extracted: IISC00IND_R_20242890000_01D_30S_MO.crx.gz ➔ IISC00IND_R_20242890000_01D_30S_MO.crx\n"
          ]
        },
        {
          "output_type": "stream",
          "name": "stderr",
          "text": [
            "Extracting 2024/10Oct:  66%|██████▌   | 19/29 [00:02<00:00, 10.23it/s]"
          ]
        },
        {
          "output_type": "stream",
          "name": "stdout",
          "text": [
            "✅ Extracted: IISC00IND_R_20242930000_01D_30S_MO.crx.gz ➔ IISC00IND_R_20242930000_01D_30S_MO.crx\n",
            "✅ Extracted: IISC00IND_R_20242940000_01D_30S_MO.crx.gz ➔ IISC00IND_R_20242940000_01D_30S_MO.crx\n",
            "✅ Extracted: IISC00IND_R_20242860000_01D_30S_MO.crx.gz ➔ IISC00IND_R_20242860000_01D_30S_MO.crx\n"
          ]
        },
        {
          "output_type": "stream",
          "name": "stderr",
          "text": [
            "\rExtracting 2024/10Oct:  72%|███████▏  | 21/29 [00:02<00:00, 10.30it/s]"
          ]
        },
        {
          "output_type": "stream",
          "name": "stdout",
          "text": [
            "✅ Extracted: IISC00IND_R_20242780000_01D_30S_MO.crx.gz ➔ IISC00IND_R_20242780000_01D_30S_MO.crx\n",
            "✅ Extracted: IISC00IND_R_20242960000_01D_30S_MO.crx.gz ➔ IISC00IND_R_20242960000_01D_30S_MO.crx\n",
            "✅ Extracted: IISC00IND_R_20242770000_01D_30S_MO.crx.gz ➔ IISC00IND_R_20242770000_01D_30S_MO.crx\n"
          ]
        },
        {
          "output_type": "stream",
          "name": "stderr",
          "text": [
            "\rExtracting 2024/10Oct:  79%|███████▉  | 23/29 [00:02<00:00, 10.39it/s]"
          ]
        },
        {
          "output_type": "stream",
          "name": "stdout",
          "text": [
            "✅ Extracted: IISC00IND_R_20242850000_01D_30S_MO.crx.gz ➔ IISC00IND_R_20242850000_01D_30S_MO.crx\n",
            "✅ Extracted: IISC00IND_R_20243000000_01D_30S_MO.crx.gz ➔ IISC00IND_R_20243000000_01D_30S_MO.crx\n"
          ]
        },
        {
          "output_type": "stream",
          "name": "stderr",
          "text": [
            "Extracting 2024/10Oct:  93%|█████████▎| 27/29 [00:02<00:00,  9.13it/s]"
          ]
        },
        {
          "output_type": "stream",
          "name": "stdout",
          "text": [
            "✅ Extracted: IISC00IND_R_20242810000_01D_30S_MO.crx.gz ➔ IISC00IND_R_20242810000_01D_30S_MO.crx\n",
            "✅ Extracted: IISC00IND_R_20242990000_01D_30S_MO.crx.gz ➔ IISC00IND_R_20242990000_01D_30S_MO.crx\n",
            "✅ Extracted: IISC00IND_R_20243030000_01D_30S_MO.crx.gz ➔ IISC00IND_R_20243030000_01D_30S_MO.crx\n"
          ]
        },
        {
          "output_type": "stream",
          "name": "stderr",
          "text": [
            "Extracting 2024/10Oct: 100%|██████████| 29/29 [00:03<00:00,  9.35it/s]\n"
          ]
        },
        {
          "output_type": "stream",
          "name": "stdout",
          "text": [
            "✅ Extracted: IISC00IND_R_20242970000_01D_30S_MO.crx.gz ➔ IISC00IND_R_20242970000_01D_30S_MO.crx\n",
            "✅ Extracted: IISC00IND_R_20242840000_01D_30S_MO.crx.gz ➔ IISC00IND_R_20242840000_01D_30S_MO.crx\n"
          ]
        },
        {
          "output_type": "stream",
          "name": "stderr",
          "text": [
            "Extracting 2024/12Dec:  10%|▉         | 3/31 [00:00<00:03,  8.60it/s]"
          ]
        },
        {
          "output_type": "stream",
          "name": "stdout",
          "text": [
            "✅ Extracted: IISC00IND_R_20243500000_01D_30S_MO.crx.gz ➔ IISC00IND_R_20243500000_01D_30S_MO.crx\n",
            "✅ Extracted: IISC00IND_R_20243460000_01D_30S_MO.crx.gz ➔ IISC00IND_R_20243460000_01D_30S_MO.crx\n",
            "✅ Extracted: IISC00IND_R_20243640000_01D_30S_MO.crx.gz ➔ IISC00IND_R_20243640000_01D_30S_MO.crx\n"
          ]
        },
        {
          "output_type": "stream",
          "name": "stderr",
          "text": [
            "Extracting 2024/12Dec:  16%|█▌        | 5/31 [00:00<00:02,  9.35it/s]"
          ]
        },
        {
          "output_type": "stream",
          "name": "stdout",
          "text": [
            "✅ Extracted: IISC00IND_R_20243380000_01D_30S_MO.crx.gz ➔ IISC00IND_R_20243380000_01D_30S_MO.crx\n",
            "✅ Extracted: IISC00IND_R_20243480000_01D_30S_MO.crx.gz ➔ IISC00IND_R_20243480000_01D_30S_MO.crx\n",
            "✅ Extracted: IISC00IND_R_20243540000_01D_30S_MO.crx.gz ➔ IISC00IND_R_20243540000_01D_30S_MO.crx\n"
          ]
        },
        {
          "output_type": "stream",
          "name": "stderr",
          "text": [
            "Extracting 2024/12Dec:  26%|██▌       | 8/31 [00:00<00:02,  8.21it/s]"
          ]
        },
        {
          "output_type": "stream",
          "name": "stdout",
          "text": [
            "✅ Extracted: IISC00IND_R_20243510000_01D_30S_MO.crx.gz ➔ IISC00IND_R_20243510000_01D_30S_MO.crx\n",
            "✅ Extracted: IISC00IND_R_20243400000_01D_30S_MO.crx.gz ➔ IISC00IND_R_20243400000_01D_30S_MO.crx\n"
          ]
        },
        {
          "output_type": "stream",
          "name": "stderr",
          "text": [
            "Extracting 2024/12Dec:  32%|███▏      | 10/31 [00:01<00:02,  8.82it/s]"
          ]
        },
        {
          "output_type": "stream",
          "name": "stdout",
          "text": [
            "✅ Extracted: IISC00IND_R_20243470000_01D_30S_MO.crx.gz ➔ IISC00IND_R_20243470000_01D_30S_MO.crx\n",
            "✅ Extracted: IISC00IND_R_20243630000_01D_30S_MO.crx.gz ➔ IISC00IND_R_20243630000_01D_30S_MO.crx\n"
          ]
        },
        {
          "output_type": "stream",
          "name": "stderr",
          "text": [
            "\rExtracting 2024/12Dec:  35%|███▌      | 11/31 [00:01<00:02,  8.95it/s]"
          ]
        },
        {
          "output_type": "stream",
          "name": "stdout",
          "text": [
            "✅ Extracted: IISC00IND_R_20243550000_01D_30S_MO.crx.gz ➔ IISC00IND_R_20243550000_01D_30S_MO.crx\n",
            "✅ Extracted: IISC00IND_R_20243360000_01D_30S_MO.crx.gz ➔ IISC00IND_R_20243360000_01D_30S_MO.crx\n"
          ]
        },
        {
          "output_type": "stream",
          "name": "stderr",
          "text": [
            "Extracting 2024/12Dec:  48%|████▊     | 15/31 [00:01<00:01,  9.10it/s]"
          ]
        },
        {
          "output_type": "stream",
          "name": "stdout",
          "text": [
            "✅ Extracted: IISC00IND_R_20243520000_01D_30S_MO.crx.gz ➔ IISC00IND_R_20243520000_01D_30S_MO.crx\n",
            "✅ Extracted: IISC00IND_R_20243390000_01D_30S_MO.crx.gz ➔ IISC00IND_R_20243390000_01D_30S_MO.crx\n",
            "✅ Extracted: IISC00IND_R_20243420000_01D_30S_MO.crx.gz ➔ IISC00IND_R_20243420000_01D_30S_MO.crx\n"
          ]
        },
        {
          "output_type": "stream",
          "name": "stderr",
          "text": [
            "\rExtracting 2024/12Dec:  55%|█████▍    | 17/31 [00:01<00:01,  9.50it/s]"
          ]
        },
        {
          "output_type": "stream",
          "name": "stdout",
          "text": [
            "✅ Extracted: IISC00IND_R_20243660000_01D_30S_MO.crx.gz ➔ IISC00IND_R_20243660000_01D_30S_MO.crx\n",
            "✅ Extracted: IISC00IND_R_20243570000_01D_30S_MO.crx.gz ➔ IISC00IND_R_20243570000_01D_30S_MO.crx\n"
          ]
        },
        {
          "output_type": "stream",
          "name": "stderr",
          "text": [
            "Extracting 2024/12Dec:  65%|██████▍   | 20/31 [00:02<00:01,  9.89it/s]"
          ]
        },
        {
          "output_type": "stream",
          "name": "stdout",
          "text": [
            "✅ Extracted: IISC00IND_R_20243440000_01D_30S_MO.crx.gz ➔ IISC00IND_R_20243440000_01D_30S_MO.crx\n",
            "✅ Extracted: IISC00IND_R_20243650000_01D_30S_MO.crx.gz ➔ IISC00IND_R_20243650000_01D_30S_MO.crx\n",
            "✅ Extracted: IISC00IND_R_20243590000_01D_30S_MO.crx.gz ➔ IISC00IND_R_20243590000_01D_30S_MO.crx\n"
          ]
        },
        {
          "output_type": "stream",
          "name": "stderr",
          "text": [
            "\rExtracting 2024/12Dec:  71%|███████   | 22/31 [00:02<00:00, 10.17it/s]"
          ]
        },
        {
          "output_type": "stream",
          "name": "stdout",
          "text": [
            "✅ Extracted: IISC00IND_R_20243620000_01D_30S_MO.crx.gz ➔ IISC00IND_R_20243620000_01D_30S_MO.crx\n",
            "✅ Extracted: IISC00IND_R_20243410000_01D_30S_MO.crx.gz ➔ IISC00IND_R_20243410000_01D_30S_MO.crx\n",
            "✅ Extracted: IISC00IND_R_20243490000_01D_30S_MO.crx.gz ➔ IISC00IND_R_20243490000_01D_30S_MO.crx\n"
          ]
        },
        {
          "output_type": "stream",
          "name": "stderr",
          "text": [
            "\rExtracting 2024/12Dec:  77%|███████▋  | 24/31 [00:02<00:00, 10.14it/s]"
          ]
        },
        {
          "output_type": "stream",
          "name": "stdout",
          "text": [
            "✅ Extracted: IISC00IND_R_20243600000_01D_30S_MO.crx.gz ➔ IISC00IND_R_20243600000_01D_30S_MO.crx\n",
            "✅ Extracted: IISC00IND_R_20243450000_01D_30S_MO.crx.gz ➔ IISC00IND_R_20243450000_01D_30S_MO.crx\n"
          ]
        },
        {
          "output_type": "stream",
          "name": "stderr",
          "text": [
            "Extracting 2024/12Dec:  87%|████████▋ | 27/31 [00:02<00:00,  8.97it/s]"
          ]
        },
        {
          "output_type": "stream",
          "name": "stdout",
          "text": [
            "✅ Extracted: IISC00IND_R_20243580000_01D_30S_MO.crx.gz ➔ IISC00IND_R_20243580000_01D_30S_MO.crx\n",
            "✅ Extracted: IISC00IND_R_20243370000_01D_30S_MO.crx.gz ➔ IISC00IND_R_20243370000_01D_30S_MO.crx\n"
          ]
        },
        {
          "output_type": "stream",
          "name": "stderr",
          "text": [
            "Extracting 2024/12Dec:  97%|█████████▋| 30/31 [00:03<00:00,  9.52it/s]"
          ]
        },
        {
          "output_type": "stream",
          "name": "stdout",
          "text": [
            "✅ Extracted: IISC00IND_R_20243430000_01D_30S_MO.crx.gz ➔ IISC00IND_R_20243430000_01D_30S_MO.crx\n",
            "✅ Extracted: IISC00IND_R_20243530000_01D_30S_MO.crx.gz ➔ IISC00IND_R_20243530000_01D_30S_MO.crx\n",
            "✅ Extracted: IISC00IND_R_20243610000_01D_30S_MO.crx.gz ➔ IISC00IND_R_20243610000_01D_30S_MO.crx\n"
          ]
        },
        {
          "output_type": "stream",
          "name": "stderr",
          "text": [
            "Extracting 2024/12Dec: 100%|██████████| 31/31 [00:03<00:00,  9.17it/s]\n"
          ]
        },
        {
          "output_type": "stream",
          "name": "stdout",
          "text": [
            "✅ Extracted: IISC00IND_R_20243560000_01D_30S_MO.crx.gz ➔ IISC00IND_R_20243560000_01D_30S_MO.crx\n"
          ]
        },
        {
          "output_type": "stream",
          "name": "stderr",
          "text": [
            "Extracting 2024/02Feb:   3%|▎         | 1/29 [00:00<00:03,  8.47it/s]"
          ]
        },
        {
          "output_type": "stream",
          "name": "stdout",
          "text": [
            "✅ Extracted: IISC00IND_R_20240460000_01D_30S_MO.crx.gz ➔ IISC00IND_R_20240460000_01D_30S_MO.crx\n"
          ]
        },
        {
          "output_type": "stream",
          "name": "stderr",
          "text": [
            "\rExtracting 2024/02Feb:   7%|▋         | 2/29 [00:00<00:03,  8.12it/s]"
          ]
        },
        {
          "output_type": "stream",
          "name": "stdout",
          "text": [
            "✅ Extracted: IISC00IND_R_20240480000_01D_30S_MO.crx.gz ➔ IISC00IND_R_20240480000_01D_30S_MO.crx\n"
          ]
        },
        {
          "output_type": "stream",
          "name": "stderr",
          "text": [
            "\rExtracting 2024/02Feb:  10%|█         | 3/29 [00:00<00:02,  8.84it/s]"
          ]
        },
        {
          "output_type": "stream",
          "name": "stdout",
          "text": [
            "✅ Extracted: IISC00IND_R_20240500000_01D_30S_MO.crx.gz ➔ IISC00IND_R_20240500000_01D_30S_MO.crx\n"
          ]
        },
        {
          "output_type": "stream",
          "name": "stderr",
          "text": [
            "\rExtracting 2024/02Feb:  14%|█▍        | 4/29 [00:00<00:02,  9.09it/s]"
          ]
        },
        {
          "output_type": "stream",
          "name": "stdout",
          "text": [
            "✅ Extracted: IISC00IND_R_20240400000_01D_30S_MO.crx.gz ➔ IISC00IND_R_20240400000_01D_30S_MO.crx\n"
          ]
        },
        {
          "output_type": "stream",
          "name": "stderr",
          "text": [
            "\rExtracting 2024/02Feb:  17%|█▋        | 5/29 [00:00<00:02,  9.19it/s]"
          ]
        },
        {
          "output_type": "stream",
          "name": "stdout",
          "text": [
            "✅ Extracted: IISC00IND_R_20240420000_01D_30S_MO.crx.gz ➔ IISC00IND_R_20240420000_01D_30S_MO.crx\n"
          ]
        },
        {
          "output_type": "stream",
          "name": "stderr",
          "text": [
            "\rExtracting 2024/02Feb:  21%|██        | 6/29 [00:00<00:02,  8.97it/s]"
          ]
        },
        {
          "output_type": "stream",
          "name": "stdout",
          "text": [
            "✅ Extracted: IISC00IND_R_20240440000_01D_30S_MO.crx.gz ➔ IISC00IND_R_20240440000_01D_30S_MO.crx\n"
          ]
        },
        {
          "output_type": "stream",
          "name": "stderr",
          "text": [
            "\rExtracting 2024/02Feb:  24%|██▍       | 7/29 [00:00<00:02,  8.97it/s]"
          ]
        },
        {
          "output_type": "stream",
          "name": "stdout",
          "text": [
            "✅ Extracted: IISC00IND_R_20240490000_01D_30S_MO.crx.gz ➔ IISC00IND_R_20240490000_01D_30S_MO.crx\n"
          ]
        },
        {
          "output_type": "stream",
          "name": "stderr",
          "text": [
            "\rExtracting 2024/02Feb:  28%|██▊       | 8/29 [00:00<00:02,  8.44it/s]"
          ]
        },
        {
          "output_type": "stream",
          "name": "stdout",
          "text": [
            "✅ Extracted: IISC00IND_R_20240510000_01D_30S_MO.crx.gz ➔ IISC00IND_R_20240510000_01D_30S_MO.crx\n"
          ]
        },
        {
          "output_type": "stream",
          "name": "stderr",
          "text": [
            "Extracting 2024/02Feb:  34%|███▍      | 10/29 [00:01<00:02,  6.36it/s]"
          ]
        },
        {
          "output_type": "stream",
          "name": "stdout",
          "text": [
            "✅ Extracted: IISC00IND_R_20240370000_01D_30S_MO.crx.gz ➔ IISC00IND_R_20240370000_01D_30S_MO.crx\n",
            "✅ Extracted: IISC00IND_R_20240470000_01D_30S_MO.crx.gz ➔ IISC00IND_R_20240470000_01D_30S_MO.crx\n"
          ]
        },
        {
          "output_type": "stream",
          "name": "stderr",
          "text": [
            "Extracting 2024/02Feb:  41%|████▏     | 12/29 [00:01<00:02,  6.40it/s]"
          ]
        },
        {
          "output_type": "stream",
          "name": "stdout",
          "text": [
            "✅ Extracted: IISC00IND_R_20240550000_01D_30S_MO.crx.gz ➔ IISC00IND_R_20240550000_01D_30S_MO.crx\n",
            "✅ Extracted: IISC00IND_R_20240540000_01D_30S_MO.crx.gz ➔ IISC00IND_R_20240540000_01D_30S_MO.crx\n"
          ]
        },
        {
          "output_type": "stream",
          "name": "stderr",
          "text": [
            "Extracting 2024/02Feb:  48%|████▊     | 14/29 [00:01<00:02,  6.89it/s]"
          ]
        },
        {
          "output_type": "stream",
          "name": "stdout",
          "text": [
            "✅ Extracted: IISC00IND_R_20240410000_01D_30S_MO.crx.gz ➔ IISC00IND_R_20240410000_01D_30S_MO.crx\n",
            "✅ Extracted: IISC00IND_R_20240530000_01D_30S_MO.crx.gz ➔ IISC00IND_R_20240530000_01D_30S_MO.crx\n"
          ]
        },
        {
          "output_type": "stream",
          "name": "stderr",
          "text": [
            "Extracting 2024/02Feb:  55%|█████▌    | 16/29 [00:02<00:01,  7.06it/s]"
          ]
        },
        {
          "output_type": "stream",
          "name": "stdout",
          "text": [
            "✅ Extracted: IISC00IND_R_20240320000_01D_30S_MO.crx.gz ➔ IISC00IND_R_20240320000_01D_30S_MO.crx\n",
            "✅ Extracted: IISC00IND_R_20240590000_01D_30S_MO.crx.gz ➔ IISC00IND_R_20240590000_01D_30S_MO.crx\n"
          ]
        },
        {
          "output_type": "stream",
          "name": "stderr",
          "text": [
            "Extracting 2024/02Feb:  62%|██████▏   | 18/29 [00:02<00:01,  6.97it/s]"
          ]
        },
        {
          "output_type": "stream",
          "name": "stdout",
          "text": [
            "✅ Extracted: IISC00IND_R_20240560000_01D_30S_MO.crx.gz ➔ IISC00IND_R_20240560000_01D_30S_MO.crx\n",
            "✅ Extracted: IISC00IND_R_20240330000_01D_30S_MO.crx.gz ➔ IISC00IND_R_20240330000_01D_30S_MO.crx\n"
          ]
        },
        {
          "output_type": "stream",
          "name": "stderr",
          "text": [
            "\rExtracting 2024/02Feb:  66%|██████▌   | 19/29 [00:02<00:01,  5.97it/s]"
          ]
        },
        {
          "output_type": "stream",
          "name": "stdout",
          "text": [
            "✅ Extracted: IISC00IND_R_20240380000_01D_30S_MO.crx.gz ➔ IISC00IND_R_20240380000_01D_30S_MO.crx\n"
          ]
        },
        {
          "output_type": "stream",
          "name": "stderr",
          "text": [
            "\rExtracting 2024/02Feb:  69%|██████▉   | 20/29 [00:02<00:01,  5.56it/s]"
          ]
        },
        {
          "output_type": "stream",
          "name": "stdout",
          "text": [
            "✅ Extracted: IISC00IND_R_20240350000_01D_30S_MO.crx.gz ➔ IISC00IND_R_20240350000_01D_30S_MO.crx\n"
          ]
        },
        {
          "output_type": "stream",
          "name": "stderr",
          "text": [
            "Extracting 2024/02Feb:  76%|███████▌  | 22/29 [00:03<00:01,  5.15it/s]"
          ]
        },
        {
          "output_type": "stream",
          "name": "stdout",
          "text": [
            "✅ Extracted: IISC00IND_R_20240340000_01D_30S_MO.crx.gz ➔ IISC00IND_R_20240340000_01D_30S_MO.crx\n",
            "✅ Extracted: IISC00IND_R_20240430000_01D_30S_MO.crx.gz ➔ IISC00IND_R_20240430000_01D_30S_MO.crx\n"
          ]
        },
        {
          "output_type": "stream",
          "name": "stderr",
          "text": [
            "Extracting 2024/02Feb:  83%|████████▎ | 24/29 [00:03<00:00,  5.84it/s]"
          ]
        },
        {
          "output_type": "stream",
          "name": "stdout",
          "text": [
            "✅ Extracted: IISC00IND_R_20240390000_01D_30S_MO.crx.gz ➔ IISC00IND_R_20240390000_01D_30S_MO.crx\n",
            "✅ Extracted: IISC00IND_R_20240450000_01D_30S_MO.crx.gz ➔ IISC00IND_R_20240450000_01D_30S_MO.crx\n"
          ]
        },
        {
          "output_type": "stream",
          "name": "stderr",
          "text": [
            "Extracting 2024/02Feb:  90%|████████▉ | 26/29 [00:03<00:00,  6.81it/s]"
          ]
        },
        {
          "output_type": "stream",
          "name": "stdout",
          "text": [
            "✅ Extracted: IISC00IND_R_20240580000_01D_30S_MO.crx.gz ➔ IISC00IND_R_20240580000_01D_30S_MO.crx\n",
            "✅ Extracted: IISC00IND_R_20240600000_01D_30S_MO.crx.gz ➔ IISC00IND_R_20240600000_01D_30S_MO.crx\n"
          ]
        },
        {
          "output_type": "stream",
          "name": "stderr",
          "text": [
            "Extracting 2024/02Feb:  97%|█████████▋| 28/29 [00:04<00:00,  8.04it/s]"
          ]
        },
        {
          "output_type": "stream",
          "name": "stdout",
          "text": [
            "✅ Extracted: IISC00IND_R_20240360000_01D_30S_MO.crx.gz ➔ IISC00IND_R_20240360000_01D_30S_MO.crx\n",
            "✅ Extracted: IISC00IND_R_20240570000_01D_30S_MO.crx.gz ➔ IISC00IND_R_20240570000_01D_30S_MO.crx\n"
          ]
        },
        {
          "output_type": "stream",
          "name": "stderr",
          "text": [
            "Extracting 2024/02Feb: 100%|██████████| 29/29 [00:04<00:00,  6.89it/s]\n"
          ]
        },
        {
          "output_type": "stream",
          "name": "stdout",
          "text": [
            "✅ Extracted: IISC00IND_R_20240520000_01D_30S_MO.crx.gz ➔ IISC00IND_R_20240520000_01D_30S_MO.crx\n"
          ]
        },
        {
          "output_type": "stream",
          "name": "stderr",
          "text": [
            "Extracting 2022/03Mar:   3%|▎         | 1/30 [00:00<00:03,  8.61it/s]"
          ]
        },
        {
          "output_type": "stream",
          "name": "stdout",
          "text": [
            "✅ Extracted: IISC00IND_R_20220890000_01D_30S_MO.crx.gz ➔ IISC00IND_R_20220890000_01D_30S_MO.crx\n"
          ]
        },
        {
          "output_type": "stream",
          "name": "stderr",
          "text": [
            "\rExtracting 2022/03Mar:   7%|▋         | 2/30 [00:00<00:03,  8.58it/s]"
          ]
        },
        {
          "output_type": "stream",
          "name": "stdout",
          "text": [
            "✅ Extracted: IISC00IND_R_20220770000_01D_30S_MO.crx.gz ➔ IISC00IND_R_20220770000_01D_30S_MO.crx\n"
          ]
        },
        {
          "output_type": "stream",
          "name": "stderr",
          "text": [
            "\rExtracting 2022/03Mar:  10%|█         | 3/30 [00:00<00:03,  8.83it/s]"
          ]
        },
        {
          "output_type": "stream",
          "name": "stdout",
          "text": [
            "✅ Extracted: IISC00IND_R_20220900000_01D_30S_MO.crx.gz ➔ IISC00IND_R_20220900000_01D_30S_MO.crx\n"
          ]
        },
        {
          "output_type": "stream",
          "name": "stderr",
          "text": [
            "\rExtracting 2022/03Mar:  13%|█▎        | 4/30 [00:00<00:02,  8.70it/s]"
          ]
        },
        {
          "output_type": "stream",
          "name": "stdout",
          "text": [
            "✅ Extracted: IISC00IND_R_20220760000_01D_30S_MO.crx.gz ➔ IISC00IND_R_20220760000_01D_30S_MO.crx\n"
          ]
        },
        {
          "output_type": "stream",
          "name": "stderr",
          "text": [
            "\rExtracting 2022/03Mar:  17%|█▋        | 5/30 [00:00<00:02,  8.76it/s]"
          ]
        },
        {
          "output_type": "stream",
          "name": "stdout",
          "text": [
            "✅ Extracted: IISC00IND_R_20220690000_01D_30S_MO.crx.gz ➔ IISC00IND_R_20220690000_01D_30S_MO.crx\n"
          ]
        },
        {
          "output_type": "stream",
          "name": "stderr",
          "text": [
            "\rExtracting 2022/03Mar:  20%|██        | 6/30 [00:00<00:02,  8.68it/s]"
          ]
        },
        {
          "output_type": "stream",
          "name": "stdout",
          "text": [
            "✅ Extracted: IISC00IND_R_20220710000_01D_30S_MO.crx.gz ➔ IISC00IND_R_20220710000_01D_30S_MO.crx\n"
          ]
        },
        {
          "output_type": "stream",
          "name": "stderr",
          "text": [
            "\rExtracting 2022/03Mar:  23%|██▎       | 7/30 [00:00<00:02,  8.72it/s]"
          ]
        },
        {
          "output_type": "stream",
          "name": "stdout",
          "text": [
            "✅ Extracted: IISC00IND_R_20220660000_01D_30S_MO.crx.gz ➔ IISC00IND_R_20220660000_01D_30S_MO.crx\n"
          ]
        },
        {
          "output_type": "stream",
          "name": "stderr",
          "text": [
            "\rExtracting 2022/03Mar:  27%|██▋       | 8/30 [00:00<00:02,  8.80it/s]"
          ]
        },
        {
          "output_type": "stream",
          "name": "stdout",
          "text": [
            "✅ Extracted: IISC00IND_R_20220630000_01D_30S_MO.crx.gz ➔ IISC00IND_R_20220630000_01D_30S_MO.crx\n"
          ]
        },
        {
          "output_type": "stream",
          "name": "stderr",
          "text": [
            "\rExtracting 2022/03Mar:  30%|███       | 9/30 [00:01<00:02,  8.89it/s]"
          ]
        },
        {
          "output_type": "stream",
          "name": "stdout",
          "text": [
            "✅ Extracted: IISC00IND_R_20220830000_01D_30S_MO.crx.gz ➔ IISC00IND_R_20220830000_01D_30S_MO.crx\n"
          ]
        },
        {
          "output_type": "stream",
          "name": "stderr",
          "text": [
            "\rExtracting 2022/03Mar:  33%|███▎      | 10/30 [00:01<00:02,  9.05it/s]"
          ]
        },
        {
          "output_type": "stream",
          "name": "stdout",
          "text": [
            "✅ Extracted: IISC00IND_R_20220680000_01D_30S_MO.crx.gz ➔ IISC00IND_R_20220680000_01D_30S_MO.crx\n"
          ]
        },
        {
          "output_type": "stream",
          "name": "stderr",
          "text": [
            "\rExtracting 2022/03Mar:  37%|███▋      | 11/30 [00:01<00:02,  8.95it/s]"
          ]
        },
        {
          "output_type": "stream",
          "name": "stdout",
          "text": [
            "✅ Extracted: IISC00IND_R_20220840000_01D_30S_MO.crx.gz ➔ IISC00IND_R_20220840000_01D_30S_MO.crx\n"
          ]
        },
        {
          "output_type": "stream",
          "name": "stderr",
          "text": [
            "\rExtracting 2022/03Mar:  40%|████      | 12/30 [00:01<00:02,  8.67it/s]"
          ]
        },
        {
          "output_type": "stream",
          "name": "stdout",
          "text": [
            "✅ Extracted: IISC00IND_R_20220670000_01D_30S_MO.crx.gz ➔ IISC00IND_R_20220670000_01D_30S_MO.crx\n"
          ]
        },
        {
          "output_type": "stream",
          "name": "stderr",
          "text": [
            "\rExtracting 2022/03Mar:  43%|████▎     | 13/30 [00:01<00:01,  8.77it/s]"
          ]
        },
        {
          "output_type": "stream",
          "name": "stdout",
          "text": [
            "✅ Extracted: IISC00IND_R_20220720000_01D_30S_MO.crx.gz ➔ IISC00IND_R_20220720000_01D_30S_MO.crx\n"
          ]
        },
        {
          "output_type": "stream",
          "name": "stderr",
          "text": [
            "\rExtracting 2022/03Mar:  47%|████▋     | 14/30 [00:01<00:01,  8.90it/s]"
          ]
        },
        {
          "output_type": "stream",
          "name": "stdout",
          "text": [
            "✅ Extracted: IISC00IND_R_20220810000_01D_30S_MO.crx.gz ➔ IISC00IND_R_20220810000_01D_30S_MO.crx\n"
          ]
        },
        {
          "output_type": "stream",
          "name": "stderr",
          "text": [
            "\rExtracting 2022/03Mar:  50%|█████     | 15/30 [00:01<00:01,  8.99it/s]"
          ]
        },
        {
          "output_type": "stream",
          "name": "stdout",
          "text": [
            "✅ Extracted: IISC00IND_R_20220740000_01D_30S_MO.crx.gz ➔ IISC00IND_R_20220740000_01D_30S_MO.crx\n"
          ]
        },
        {
          "output_type": "stream",
          "name": "stderr",
          "text": [
            "\rExtracting 2022/03Mar:  53%|█████▎    | 16/30 [00:01<00:01,  9.00it/s]"
          ]
        },
        {
          "output_type": "stream",
          "name": "stdout",
          "text": [
            "✅ Extracted: IISC00IND_R_20220730000_01D_30S_MO.crx.gz ➔ IISC00IND_R_20220730000_01D_30S_MO.crx\n"
          ]
        },
        {
          "output_type": "stream",
          "name": "stderr",
          "text": [
            "\rExtracting 2022/03Mar:  57%|█████▋    | 17/30 [00:01<00:01,  9.27it/s]"
          ]
        },
        {
          "output_type": "stream",
          "name": "stdout",
          "text": [
            "✅ Extracted: IISC00IND_R_20220850000_01D_30S_MO.crx.gz ➔ IISC00IND_R_20220850000_01D_30S_MO.crx\n",
            "✅ Extracted: IISC00IND_R_20220750000_01D_30S_MO.crx.gz ➔ IISC00IND_R_20220750000_01D_30S_MO.crx\n"
          ]
        },
        {
          "output_type": "stream",
          "name": "stderr",
          "text": [
            "\rExtracting 2022/03Mar:  63%|██████▎   | 19/30 [00:02<00:01,  9.69it/s]"
          ]
        },
        {
          "output_type": "stream",
          "name": "stdout",
          "text": [
            "✅ Extracted: IISC00IND_R_20220870000_01D_30S_MO.crx.gz ➔ IISC00IND_R_20220870000_01D_30S_MO.crx\n"
          ]
        },
        {
          "output_type": "stream",
          "name": "stderr",
          "text": [
            "\rExtracting 2022/03Mar:  67%|██████▋   | 20/30 [00:02<00:01,  9.69it/s]"
          ]
        },
        {
          "output_type": "stream",
          "name": "stdout",
          "text": [
            "✅ Extracted: IISC00IND_R_20220700000_01D_30S_MO.crx.gz ➔ IISC00IND_R_20220700000_01D_30S_MO.crx\n"
          ]
        },
        {
          "output_type": "stream",
          "name": "stderr",
          "text": [
            "\rExtracting 2022/03Mar:  70%|███████   | 21/30 [00:02<00:00,  9.66it/s]"
          ]
        },
        {
          "output_type": "stream",
          "name": "stdout",
          "text": [
            "✅ Extracted: IISC00IND_R_20220860000_01D_30S_MO.crx.gz ➔ IISC00IND_R_20220860000_01D_30S_MO.crx\n"
          ]
        },
        {
          "output_type": "stream",
          "name": "stderr",
          "text": [
            "\rExtracting 2022/03Mar:  73%|███████▎  | 22/30 [00:02<00:00,  9.57it/s]"
          ]
        },
        {
          "output_type": "stream",
          "name": "stdout",
          "text": [
            "✅ Extracted: IISC00IND_R_20220780000_01D_30S_MO.crx.gz ➔ IISC00IND_R_20220780000_01D_30S_MO.crx\n"
          ]
        },
        {
          "output_type": "stream",
          "name": "stderr",
          "text": [
            "Extracting 2022/03Mar:  80%|████████  | 24/30 [00:02<00:00,  7.68it/s]"
          ]
        },
        {
          "output_type": "stream",
          "name": "stdout",
          "text": [
            "✅ Extracted: IISC00IND_R_20220880000_01D_30S_MO.crx.gz ➔ IISC00IND_R_20220880000_01D_30S_MO.crx\n",
            "✅ Extracted: IISC00IND_R_20220610000_01D_30S_MO.crx.gz ➔ IISC00IND_R_20220610000_01D_30S_MO.crx\n"
          ]
        },
        {
          "output_type": "stream",
          "name": "stderr",
          "text": [
            "Extracting 2022/03Mar:  87%|████████▋ | 26/30 [00:02<00:00,  8.38it/s]"
          ]
        },
        {
          "output_type": "stream",
          "name": "stdout",
          "text": [
            "✅ Extracted: IISC00IND_R_20220650000_01D_30S_MO.crx.gz ➔ IISC00IND_R_20220650000_01D_30S_MO.crx\n",
            "✅ Extracted: IISC00IND_R_20220600000_01D_30S_MO.crx.gz ➔ IISC00IND_R_20220600000_01D_30S_MO.crx\n"
          ]
        },
        {
          "output_type": "stream",
          "name": "stderr",
          "text": [
            "Extracting 2022/03Mar:  93%|█████████▎| 28/30 [00:03<00:00,  8.78it/s]"
          ]
        },
        {
          "output_type": "stream",
          "name": "stdout",
          "text": [
            "✅ Extracted: IISC00IND_R_20220800000_01D_30S_MO.crx.gz ➔ IISC00IND_R_20220800000_01D_30S_MO.crx\n",
            "✅ Extracted: IISC00IND_R_20220790000_01D_30S_MO.crx.gz ➔ IISC00IND_R_20220790000_01D_30S_MO.crx\n"
          ]
        },
        {
          "output_type": "stream",
          "name": "stderr",
          "text": [
            "Extracting 2022/03Mar: 100%|██████████| 30/30 [00:03<00:00,  8.74it/s]\n"
          ]
        },
        {
          "output_type": "stream",
          "name": "stdout",
          "text": [
            "✅ Extracted: IISC00IND_R_20220640000_01D_30S_MO.crx.gz ➔ IISC00IND_R_20220640000_01D_30S_MO.crx\n",
            "✅ Extracted: IISC00IND_R_20220620000_01D_30S_MO.crx.gz ➔ IISC00IND_R_20220620000_01D_30S_MO.crx\n"
          ]
        },
        {
          "output_type": "stream",
          "name": "stderr",
          "text": [
            "Extracting 2022/04Apr:   7%|▋         | 2/30 [00:00<00:03,  9.00it/s]"
          ]
        },
        {
          "output_type": "stream",
          "name": "stdout",
          "text": [
            "✅ Extracted: IISC00IND_R_20221010000_01D_30S_MO.crx.gz ➔ IISC00IND_R_20221010000_01D_30S_MO.crx\n",
            "✅ Extracted: IISC00IND_R_20221140000_01D_30S_MO.crx.gz ➔ IISC00IND_R_20221140000_01D_30S_MO.crx\n"
          ]
        },
        {
          "output_type": "stream",
          "name": "stderr",
          "text": [
            "Extracting 2022/04Apr:  13%|█▎        | 4/30 [00:00<00:02,  9.62it/s]"
          ]
        },
        {
          "output_type": "stream",
          "name": "stdout",
          "text": [
            "✅ Extracted: IISC00IND_R_20221180000_01D_30S_MO.crx.gz ➔ IISC00IND_R_20221180000_01D_30S_MO.crx\n",
            "✅ Extracted: IISC00IND_R_20221110000_01D_30S_MO.crx.gz ➔ IISC00IND_R_20221110000_01D_30S_MO.crx\n"
          ]
        },
        {
          "output_type": "stream",
          "name": "stderr",
          "text": [
            "Extracting 2022/04Apr:  20%|██        | 6/30 [00:00<00:02,  9.35it/s]"
          ]
        },
        {
          "output_type": "stream",
          "name": "stdout",
          "text": [
            "✅ Extracted: IISC00IND_R_20220970000_01D_30S_MO.crx.gz ➔ IISC00IND_R_20220970000_01D_30S_MO.crx\n",
            "✅ Extracted: IISC00IND_R_20221080000_01D_30S_MO.crx.gz ➔ IISC00IND_R_20221080000_01D_30S_MO.crx\n"
          ]
        },
        {
          "output_type": "stream",
          "name": "stderr",
          "text": [
            "\rExtracting 2022/04Apr:  23%|██▎       | 7/30 [00:00<00:02,  9.46it/s]"
          ]
        },
        {
          "output_type": "stream",
          "name": "stdout",
          "text": [
            "✅ Extracted: IISC00IND_R_20221170000_01D_30S_MO.crx.gz ➔ IISC00IND_R_20221170000_01D_30S_MO.crx\n",
            "✅ Extracted: IISC00IND_R_20221070000_01D_30S_MO.crx.gz ➔ IISC00IND_R_20221070000_01D_30S_MO.crx\n"
          ]
        },
        {
          "output_type": "stream",
          "name": "stderr",
          "text": [
            "Extracting 2022/04Apr:  33%|███▎      | 10/30 [00:01<00:02,  9.66it/s]"
          ]
        },
        {
          "output_type": "stream",
          "name": "stdout",
          "text": [
            "✅ Extracted: IISC00IND_R_20220910000_01D_30S_MO.crx.gz ➔ IISC00IND_R_20220910000_01D_30S_MO.crx\n",
            "✅ Extracted: IISC00IND_R_20221060000_01D_30S_MO.crx.gz ➔ IISC00IND_R_20221060000_01D_30S_MO.crx\n"
          ]
        },
        {
          "output_type": "stream",
          "name": "stderr",
          "text": [
            "Extracting 2022/04Apr:  40%|████      | 12/30 [00:01<00:02,  8.85it/s]"
          ]
        },
        {
          "output_type": "stream",
          "name": "stdout",
          "text": [
            "✅ Extracted: IISC00IND_R_20220940000_01D_30S_MO.crx.gz ➔ IISC00IND_R_20220940000_01D_30S_MO.crx\n",
            "✅ Extracted: IISC00IND_R_20220950000_01D_30S_MO.crx.gz ➔ IISC00IND_R_20220950000_01D_30S_MO.crx\n"
          ]
        },
        {
          "output_type": "stream",
          "name": "stderr",
          "text": [
            "Extracting 2022/04Apr:  47%|████▋     | 14/30 [00:01<00:02,  7.98it/s]"
          ]
        },
        {
          "output_type": "stream",
          "name": "stdout",
          "text": [
            "✅ Extracted: IISC00IND_R_20221040000_01D_30S_MO.crx.gz ➔ IISC00IND_R_20221040000_01D_30S_MO.crx\n",
            "✅ Extracted: IISC00IND_R_20221150000_01D_30S_MO.crx.gz ➔ IISC00IND_R_20221150000_01D_30S_MO.crx\n"
          ]
        },
        {
          "output_type": "stream",
          "name": "stderr",
          "text": [
            "Extracting 2022/04Apr:  53%|█████▎    | 16/30 [00:01<00:01,  8.50it/s]"
          ]
        },
        {
          "output_type": "stream",
          "name": "stdout",
          "text": [
            "✅ Extracted: IISC00IND_R_20221050000_01D_30S_MO.crx.gz ➔ IISC00IND_R_20221050000_01D_30S_MO.crx\n",
            "✅ Extracted: IISC00IND_R_20221120000_01D_30S_MO.crx.gz ➔ IISC00IND_R_20221120000_01D_30S_MO.crx\n"
          ]
        },
        {
          "output_type": "stream",
          "name": "stderr",
          "text": [
            "Extracting 2022/04Apr:  60%|██████    | 18/30 [00:02<00:01,  8.57it/s]"
          ]
        },
        {
          "output_type": "stream",
          "name": "stdout",
          "text": [
            "✅ Extracted: IISC00IND_R_20221160000_01D_30S_MO.crx.gz ➔ IISC00IND_R_20221160000_01D_30S_MO.crx\n",
            "✅ Extracted: IISC00IND_R_20220920000_01D_30S_MO.crx.gz ➔ IISC00IND_R_20220920000_01D_30S_MO.crx\n"
          ]
        },
        {
          "output_type": "stream",
          "name": "stderr",
          "text": [
            "Extracting 2022/04Apr:  67%|██████▋   | 20/30 [00:02<00:01,  8.71it/s]"
          ]
        },
        {
          "output_type": "stream",
          "name": "stdout",
          "text": [
            "✅ Extracted: IISC00IND_R_20220930000_01D_30S_MO.crx.gz ➔ IISC00IND_R_20220930000_01D_30S_MO.crx\n",
            "✅ Extracted: IISC00IND_R_20221200000_01D_30S_MO.crx.gz ➔ IISC00IND_R_20221200000_01D_30S_MO.crx\n"
          ]
        },
        {
          "output_type": "stream",
          "name": "stderr",
          "text": [
            "Extracting 2022/04Apr:  73%|███████▎  | 22/30 [00:02<00:00,  9.13it/s]"
          ]
        },
        {
          "output_type": "stream",
          "name": "stdout",
          "text": [
            "✅ Extracted: IISC00IND_R_20221090000_01D_30S_MO.crx.gz ➔ IISC00IND_R_20221090000_01D_30S_MO.crx\n",
            "✅ Extracted: IISC00IND_R_20220990000_01D_30S_MO.crx.gz ➔ IISC00IND_R_20220990000_01D_30S_MO.crx\n"
          ]
        },
        {
          "output_type": "stream",
          "name": "stderr",
          "text": [
            "Extracting 2022/04Apr:  83%|████████▎ | 25/30 [00:02<00:00,  9.69it/s]"
          ]
        },
        {
          "output_type": "stream",
          "name": "stdout",
          "text": [
            "✅ Extracted: IISC00IND_R_20220980000_01D_30S_MO.crx.gz ➔ IISC00IND_R_20220980000_01D_30S_MO.crx\n",
            "✅ Extracted: IISC00IND_R_20221020000_01D_30S_MO.crx.gz ➔ IISC00IND_R_20221020000_01D_30S_MO.crx\n",
            "✅ Extracted: IISC00IND_R_20221030000_01D_30S_MO.crx.gz ➔ IISC00IND_R_20221030000_01D_30S_MO.crx\n"
          ]
        },
        {
          "output_type": "stream",
          "name": "stderr",
          "text": [
            "\rExtracting 2022/04Apr:  90%|█████████ | 27/30 [00:03<00:00,  8.60it/s]"
          ]
        },
        {
          "output_type": "stream",
          "name": "stdout",
          "text": [
            "✅ Extracted: IISC00IND_R_20221130000_01D_30S_MO.crx.gz ➔ IISC00IND_R_20221130000_01D_30S_MO.crx\n",
            "✅ Extracted: IISC00IND_R_20220960000_01D_30S_MO.crx.gz ➔ IISC00IND_R_20220960000_01D_30S_MO.crx\n"
          ]
        },
        {
          "output_type": "stream",
          "name": "stderr",
          "text": [
            "Extracting 2022/04Apr:  97%|█████████▋| 29/30 [00:03<00:00,  8.84it/s]"
          ]
        },
        {
          "output_type": "stream",
          "name": "stdout",
          "text": [
            "✅ Extracted: IISC00IND_R_20221100000_01D_30S_MO.crx.gz ➔ IISC00IND_R_20221100000_01D_30S_MO.crx\n",
            "✅ Extracted: IISC00IND_R_20221000000_01D_30S_MO.crx.gz ➔ IISC00IND_R_20221000000_01D_30S_MO.crx\n"
          ]
        },
        {
          "output_type": "stream",
          "name": "stderr",
          "text": [
            "Extracting 2022/04Apr: 100%|██████████| 30/30 [00:03<00:00,  8.89it/s]\n"
          ]
        },
        {
          "output_type": "stream",
          "name": "stdout",
          "text": [
            "✅ Extracted: IISC00IND_R_20221190000_01D_30S_MO.crx.gz ➔ IISC00IND_R_20221190000_01D_30S_MO.crx\n"
          ]
        },
        {
          "output_type": "stream",
          "name": "stderr",
          "text": [
            "Extracting 2022/07Jul:   3%|▎         | 1/31 [00:00<00:03,  9.23it/s]"
          ]
        },
        {
          "output_type": "stream",
          "name": "stdout",
          "text": [
            "✅ Extracted: IISC00IND_R_20222000000_01D_30S_MO.crx.gz ➔ IISC00IND_R_20222000000_01D_30S_MO.crx\n"
          ]
        },
        {
          "output_type": "stream",
          "name": "stderr",
          "text": [
            "\rExtracting 2022/07Jul:   6%|▋         | 2/31 [00:00<00:03,  8.87it/s]"
          ]
        },
        {
          "output_type": "stream",
          "name": "stdout",
          "text": [
            "✅ Extracted: IISC00IND_R_20221820000_01D_30S_MO.crx.gz ➔ IISC00IND_R_20221820000_01D_30S_MO.crx\n"
          ]
        },
        {
          "output_type": "stream",
          "name": "stderr",
          "text": [
            "\rExtracting 2022/07Jul:  10%|▉         | 3/31 [00:00<00:03,  9.23it/s]"
          ]
        },
        {
          "output_type": "stream",
          "name": "stdout",
          "text": [
            "✅ Extracted: IISC00IND_R_20222050000_01D_30S_MO.crx.gz ➔ IISC00IND_R_20222050000_01D_30S_MO.crx\n"
          ]
        },
        {
          "output_type": "stream",
          "name": "stderr",
          "text": [
            "\rExtracting 2022/07Jul:  13%|█▎        | 4/31 [00:00<00:02,  9.46it/s]"
          ]
        },
        {
          "output_type": "stream",
          "name": "stdout",
          "text": [
            "✅ Extracted: IISC00IND_R_20222060000_01D_30S_MO.crx.gz ➔ IISC00IND_R_20222060000_01D_30S_MO.crx\n"
          ]
        },
        {
          "output_type": "stream",
          "name": "stderr",
          "text": [
            "\rExtracting 2022/07Jul:  16%|█▌        | 5/31 [00:00<00:02,  9.45it/s]"
          ]
        },
        {
          "output_type": "stream",
          "name": "stdout",
          "text": [
            "✅ Extracted: IISC00IND_R_20221840000_01D_30S_MO.crx.gz ➔ IISC00IND_R_20221840000_01D_30S_MO.crx\n"
          ]
        },
        {
          "output_type": "stream",
          "name": "stderr",
          "text": [
            "\rExtracting 2022/07Jul:  19%|█▉        | 6/31 [00:00<00:02,  9.09it/s]"
          ]
        },
        {
          "output_type": "stream",
          "name": "stdout",
          "text": [
            "✅ Extracted: IISC00IND_R_20221970000_01D_30S_MO.crx.gz ➔ IISC00IND_R_20221970000_01D_30S_MO.crx\n"
          ]
        },
        {
          "output_type": "stream",
          "name": "stderr",
          "text": [
            "\rExtracting 2022/07Jul:  23%|██▎       | 7/31 [00:00<00:02,  9.21it/s]"
          ]
        },
        {
          "output_type": "stream",
          "name": "stdout",
          "text": [
            "✅ Extracted: IISC00IND_R_20222100000_01D_30S_MO.crx.gz ➔ IISC00IND_R_20222100000_01D_30S_MO.crx\n"
          ]
        },
        {
          "output_type": "stream",
          "name": "stderr",
          "text": [
            "\rExtracting 2022/07Jul:  26%|██▌       | 8/31 [00:00<00:02,  9.32it/s]"
          ]
        },
        {
          "output_type": "stream",
          "name": "stdout",
          "text": [
            "✅ Extracted: IISC00IND_R_20221990000_01D_30S_MO.crx.gz ➔ IISC00IND_R_20221990000_01D_30S_MO.crx\n"
          ]
        },
        {
          "output_type": "stream",
          "name": "stderr",
          "text": [
            "\rExtracting 2022/07Jul:  29%|██▉       | 9/31 [00:01<00:05,  3.80it/s]"
          ]
        },
        {
          "output_type": "stream",
          "name": "stdout",
          "text": [
            "✅ Extracted: IISC00IND_R_20221980000_01D_30S_MO.crx.gz ➔ IISC00IND_R_20221980000_01D_30S_MO.crx\n"
          ]
        },
        {
          "output_type": "stream",
          "name": "stderr",
          "text": [
            "Extracting 2022/07Jul:  35%|███▌      | 11/31 [00:02<00:07,  2.77it/s]"
          ]
        },
        {
          "output_type": "stream",
          "name": "stdout",
          "text": [
            "✅ Extracted: IISC00IND_R_20222080000_01D_30S_MO.crx.gz ➔ IISC00IND_R_20222080000_01D_30S_MO.crx\n",
            "✅ Extracted: IISC00IND_R_20221890000_01D_30S_MO.crx.gz ➔ IISC00IND_R_20221890000_01D_30S_MO.crx\n"
          ]
        },
        {
          "output_type": "stream",
          "name": "stderr",
          "text": [
            "\rExtracting 2022/07Jul:  42%|████▏     | 13/31 [00:02<00:04,  4.20it/s]"
          ]
        },
        {
          "output_type": "stream",
          "name": "stdout",
          "text": [
            "✅ Extracted: IISC00IND_R_20221940000_01D_30S_MO.crx.gz ➔ IISC00IND_R_20221940000_01D_30S_MO.crx\n",
            "✅ Extracted: IISC00IND_R_20221870000_01D_30S_MO.crx.gz ➔ IISC00IND_R_20221870000_01D_30S_MO.crx\n"
          ]
        },
        {
          "output_type": "stream",
          "name": "stderr",
          "text": [
            "Extracting 2022/07Jul:  48%|████▊     | 15/31 [00:02<00:02,  5.34it/s]"
          ]
        },
        {
          "output_type": "stream",
          "name": "stdout",
          "text": [
            "✅ Extracted: IISC00IND_R_20222020000_01D_30S_MO.crx.gz ➔ IISC00IND_R_20222020000_01D_30S_MO.crx\n",
            "✅ Extracted: IISC00IND_R_20222070000_01D_30S_MO.crx.gz ➔ IISC00IND_R_20222070000_01D_30S_MO.crx\n"
          ]
        },
        {
          "output_type": "stream",
          "name": "stderr",
          "text": [
            "Extracting 2022/07Jul:  55%|█████▍    | 17/31 [00:03<00:02,  6.30it/s]"
          ]
        },
        {
          "output_type": "stream",
          "name": "stdout",
          "text": [
            "✅ Extracted: IISC00IND_R_20222090000_01D_30S_MO.crx.gz ➔ IISC00IND_R_20222090000_01D_30S_MO.crx\n",
            "✅ Extracted: IISC00IND_R_20221900000_01D_30S_MO.crx.gz ➔ IISC00IND_R_20221900000_01D_30S_MO.crx\n"
          ]
        },
        {
          "output_type": "stream",
          "name": "stderr",
          "text": [
            "Extracting 2022/07Jul:  61%|██████▏   | 19/31 [00:03<00:01,  6.85it/s]"
          ]
        },
        {
          "output_type": "stream",
          "name": "stdout",
          "text": [
            "✅ Extracted: IISC00IND_R_20221950000_01D_30S_MO.crx.gz ➔ IISC00IND_R_20221950000_01D_30S_MO.crx\n",
            "✅ Extracted: IISC00IND_R_20221910000_01D_30S_MO.crx.gz ➔ IISC00IND_R_20221910000_01D_30S_MO.crx\n"
          ]
        },
        {
          "output_type": "stream",
          "name": "stderr",
          "text": [
            "Extracting 2022/07Jul:  68%|██████▊   | 21/31 [00:03<00:01,  7.24it/s]"
          ]
        },
        {
          "output_type": "stream",
          "name": "stdout",
          "text": [
            "✅ Extracted: IISC00IND_R_20222110000_01D_30S_MO.crx.gz ➔ IISC00IND_R_20222110000_01D_30S_MO.crx\n",
            "✅ Extracted: IISC00IND_R_20222040000_01D_30S_MO.crx.gz ➔ IISC00IND_R_20222040000_01D_30S_MO.crx\n"
          ]
        },
        {
          "output_type": "stream",
          "name": "stderr",
          "text": [
            "Extracting 2022/07Jul:  74%|███████▍  | 23/31 [00:04<00:01,  5.50it/s]"
          ]
        },
        {
          "output_type": "stream",
          "name": "stdout",
          "text": [
            "✅ Extracted: IISC00IND_R_20222010000_01D_30S_MO.crx.gz ➔ IISC00IND_R_20222010000_01D_30S_MO.crx\n",
            "✅ Extracted: IISC00IND_R_20221880000_01D_30S_MO.crx.gz ➔ IISC00IND_R_20221880000_01D_30S_MO.crx\n"
          ]
        },
        {
          "output_type": "stream",
          "name": "stderr",
          "text": [
            "Extracting 2022/07Jul:  81%|████████  | 25/31 [00:04<00:00,  6.20it/s]"
          ]
        },
        {
          "output_type": "stream",
          "name": "stdout",
          "text": [
            "✅ Extracted: IISC00IND_R_20222120000_01D_30S_MO.crx.gz ➔ IISC00IND_R_20222120000_01D_30S_MO.crx\n",
            "✅ Extracted: IISC00IND_R_20221920000_01D_30S_MO.crx.gz ➔ IISC00IND_R_20221920000_01D_30S_MO.crx\n"
          ]
        },
        {
          "output_type": "stream",
          "name": "stderr",
          "text": [
            "Extracting 2022/07Jul:  87%|████████▋ | 27/31 [00:04<00:00,  6.86it/s]"
          ]
        },
        {
          "output_type": "stream",
          "name": "stdout",
          "text": [
            "✅ Extracted: IISC00IND_R_20221830000_01D_30S_MO.crx.gz ➔ IISC00IND_R_20221830000_01D_30S_MO.crx\n",
            "✅ Extracted: IISC00IND_R_20221960000_01D_30S_MO.crx.gz ➔ IISC00IND_R_20221960000_01D_30S_MO.crx\n"
          ]
        },
        {
          "output_type": "stream",
          "name": "stderr",
          "text": [
            "Extracting 2022/07Jul:  94%|█████████▎| 29/31 [00:05<00:00,  6.99it/s]"
          ]
        },
        {
          "output_type": "stream",
          "name": "stdout",
          "text": [
            "✅ Extracted: IISC00IND_R_20221930000_01D_30S_MO.crx.gz ➔ IISC00IND_R_20221930000_01D_30S_MO.crx\n",
            "✅ Extracted: IISC00IND_R_20221850000_01D_30S_MO.crx.gz ➔ IISC00IND_R_20221850000_01D_30S_MO.crx\n"
          ]
        },
        {
          "output_type": "stream",
          "name": "stderr",
          "text": [
            "Extracting 2022/07Jul: 100%|██████████| 31/31 [00:05<00:00,  5.81it/s]\n"
          ]
        },
        {
          "output_type": "stream",
          "name": "stdout",
          "text": [
            "✅ Extracted: IISC00IND_R_20221860000_01D_30S_MO.crx.gz ➔ IISC00IND_R_20221860000_01D_30S_MO.crx\n",
            "✅ Extracted: IISC00IND_R_20222030000_01D_30S_MO.crx.gz ➔ IISC00IND_R_20222030000_01D_30S_MO.crx\n"
          ]
        },
        {
          "output_type": "stream",
          "name": "stderr",
          "text": [
            "Extracting 2022/09Sep:   7%|▋         | 2/30 [00:00<00:03,  8.05it/s]"
          ]
        },
        {
          "output_type": "stream",
          "name": "stdout",
          "text": [
            "✅ Extracted: IISC00IND_R_20222680000_01D_30S_MO.crx.gz ➔ IISC00IND_R_20222680000_01D_30S_MO.crx\n",
            "✅ Extracted: IISC00IND_R_20222700000_01D_30S_MO.crx.gz ➔ IISC00IND_R_20222700000_01D_30S_MO.crx\n"
          ]
        },
        {
          "output_type": "stream",
          "name": "stderr",
          "text": [
            "\rExtracting 2022/09Sep:  10%|█         | 3/30 [00:00<00:03,  7.57it/s]"
          ]
        },
        {
          "output_type": "stream",
          "name": "stdout",
          "text": [
            "✅ Extracted: IISC00IND_R_20222690000_01D_30S_MO.crx.gz ➔ IISC00IND_R_20222690000_01D_30S_MO.crx\n",
            "✅ Extracted: IISC00IND_R_20222560000_01D_30S_MO.crx.gz ➔ IISC00IND_R_20222560000_01D_30S_MO.crx\n"
          ]
        },
        {
          "output_type": "stream",
          "name": "stderr",
          "text": [
            "Extracting 2022/09Sep:  20%|██        | 6/30 [00:00<00:03,  7.23it/s]"
          ]
        },
        {
          "output_type": "stream",
          "name": "stdout",
          "text": [
            "✅ Extracted: IISC00IND_R_20222500000_01D_30S_MO.crx.gz ➔ IISC00IND_R_20222500000_01D_30S_MO.crx\n",
            "✅ Extracted: IISC00IND_R_20222480000_01D_30S_MO.crx.gz ➔ IISC00IND_R_20222480000_01D_30S_MO.crx\n"
          ]
        },
        {
          "output_type": "stream",
          "name": "stderr",
          "text": [
            "Extracting 2022/09Sep:  30%|███       | 9/30 [00:01<00:02,  8.85it/s]"
          ]
        },
        {
          "output_type": "stream",
          "name": "stdout",
          "text": [
            "✅ Extracted: IISC00IND_R_20222520000_01D_30S_MO.crx.gz ➔ IISC00IND_R_20222520000_01D_30S_MO.crx\n",
            "✅ Extracted: IISC00IND_R_20222670000_01D_30S_MO.crx.gz ➔ IISC00IND_R_20222670000_01D_30S_MO.crx\n",
            "✅ Extracted: IISC00IND_R_20222730000_01D_30S_MO.crx.gz ➔ IISC00IND_R_20222730000_01D_30S_MO.crx\n"
          ]
        },
        {
          "output_type": "stream",
          "name": "stderr",
          "text": [
            "Extracting 2022/09Sep:  37%|███▋      | 11/30 [00:01<00:02,  8.19it/s]"
          ]
        },
        {
          "output_type": "stream",
          "name": "stdout",
          "text": [
            "✅ Extracted: IISC00IND_R_20222470000_01D_30S_MO.crx.gz ➔ IISC00IND_R_20222470000_01D_30S_MO.crx\n",
            "✅ Extracted: IISC00IND_R_20222490000_01D_30S_MO.crx.gz ➔ IISC00IND_R_20222490000_01D_30S_MO.crx\n"
          ]
        },
        {
          "output_type": "stream",
          "name": "stderr",
          "text": [
            "Extracting 2022/09Sep:  43%|████▎     | 13/30 [00:01<00:02,  7.67it/s]"
          ]
        },
        {
          "output_type": "stream",
          "name": "stdout",
          "text": [
            "✅ Extracted: IISC00IND_R_20222630000_01D_30S_MO.crx.gz ➔ IISC00IND_R_20222630000_01D_30S_MO.crx\n",
            "✅ Extracted: IISC00IND_R_20222530000_01D_30S_MO.crx.gz ➔ IISC00IND_R_20222530000_01D_30S_MO.crx\n"
          ]
        },
        {
          "output_type": "stream",
          "name": "stderr",
          "text": [
            "Extracting 2022/09Sep:  53%|█████▎    | 16/30 [00:01<00:01,  8.62it/s]"
          ]
        },
        {
          "output_type": "stream",
          "name": "stdout",
          "text": [
            "✅ Extracted: IISC00IND_R_20222450000_01D_30S_MO.crx.gz ➔ IISC00IND_R_20222450000_01D_30S_MO.crx\n",
            "✅ Extracted: IISC00IND_R_20222610000_01D_30S_MO.crx.gz ➔ IISC00IND_R_20222610000_01D_30S_MO.crx\n",
            "✅ Extracted: IISC00IND_R_20222510000_01D_30S_MO.crx.gz ➔ IISC00IND_R_20222510000_01D_30S_MO.crx\n"
          ]
        },
        {
          "output_type": "stream",
          "name": "stderr",
          "text": [
            "\rExtracting 2022/09Sep:  60%|██████    | 18/30 [00:02<00:01,  9.29it/s]"
          ]
        },
        {
          "output_type": "stream",
          "name": "stdout",
          "text": [
            "✅ Extracted: IISC00IND_R_20222550000_01D_30S_MO.crx.gz ➔ IISC00IND_R_20222550000_01D_30S_MO.crx\n",
            "✅ Extracted: IISC00IND_R_20222580000_01D_30S_MO.crx.gz ➔ IISC00IND_R_20222580000_01D_30S_MO.crx\n",
            "✅ Extracted: IISC00IND_R_20222620000_01D_30S_MO.crx.gz ➔ IISC00IND_R_20222620000_01D_30S_MO.crx\n"
          ]
        },
        {
          "output_type": "stream",
          "name": "stderr",
          "text": [
            "Extracting 2022/09Sep:  73%|███████▎  | 22/30 [00:02<00:00, 10.17it/s]"
          ]
        },
        {
          "output_type": "stream",
          "name": "stdout",
          "text": [
            "✅ Extracted: IISC00IND_R_20222590000_01D_30S_MO.crx.gz ➔ IISC00IND_R_20222590000_01D_30S_MO.crx\n",
            "✅ Extracted: IISC00IND_R_20222600000_01D_30S_MO.crx.gz ➔ IISC00IND_R_20222600000_01D_30S_MO.crx\n",
            "✅ Extracted: IISC00IND_R_20222650000_01D_30S_MO.crx.gz ➔ IISC00IND_R_20222650000_01D_30S_MO.crx\n"
          ]
        },
        {
          "output_type": "stream",
          "name": "stderr",
          "text": [
            "\rExtracting 2022/09Sep:  80%|████████  | 24/30 [00:02<00:00,  8.62it/s]"
          ]
        },
        {
          "output_type": "stream",
          "name": "stdout",
          "text": [
            "✅ Extracted: IISC00IND_R_20222710000_01D_30S_MO.crx.gz ➔ IISC00IND_R_20222710000_01D_30S_MO.crx\n",
            "✅ Extracted: IISC00IND_R_20222660000_01D_30S_MO.crx.gz ➔ IISC00IND_R_20222660000_01D_30S_MO.crx\n"
          ]
        },
        {
          "output_type": "stream",
          "name": "stderr",
          "text": [
            "Extracting 2022/09Sep:  87%|████████▋ | 26/30 [00:03<00:00,  9.01it/s]"
          ]
        },
        {
          "output_type": "stream",
          "name": "stdout",
          "text": [
            "✅ Extracted: IISC00IND_R_20222640000_01D_30S_MO.crx.gz ➔ IISC00IND_R_20222640000_01D_30S_MO.crx\n",
            "✅ Extracted: IISC00IND_R_20222720000_01D_30S_MO.crx.gz ➔ IISC00IND_R_20222720000_01D_30S_MO.crx\n",
            "✅ Extracted: IISC00IND_R_20222440000_01D_30S_MO.crx.gz ➔ IISC00IND_R_20222440000_01D_30S_MO.crx\n"
          ]
        },
        {
          "output_type": "stream",
          "name": "stderr",
          "text": [
            "Extracting 2022/09Sep:  97%|█████████▋| 29/30 [00:03<00:00,  9.41it/s]"
          ]
        },
        {
          "output_type": "stream",
          "name": "stdout",
          "text": [
            "✅ Extracted: IISC00IND_R_20222570000_01D_30S_MO.crx.gz ➔ IISC00IND_R_20222570000_01D_30S_MO.crx\n",
            "✅ Extracted: IISC00IND_R_20222540000_01D_30S_MO.crx.gz ➔ IISC00IND_R_20222540000_01D_30S_MO.crx\n"
          ]
        },
        {
          "output_type": "stream",
          "name": "stderr",
          "text": [
            "\rExtracting 2022/09Sep: 100%|██████████| 30/30 [00:03<00:00,  8.78it/s]\n"
          ]
        },
        {
          "output_type": "stream",
          "name": "stdout",
          "text": [
            "✅ Extracted: IISC00IND_R_20222460000_01D_30S_MO.crx.gz ➔ IISC00IND_R_20222460000_01D_30S_MO.crx\n"
          ]
        },
        {
          "output_type": "stream",
          "name": "stderr",
          "text": [
            "Extracting 2022/11Nov:   3%|▎         | 1/30 [00:00<00:03,  9.03it/s]"
          ]
        },
        {
          "output_type": "stream",
          "name": "stdout",
          "text": [
            "✅ Extracted: IISC00IND_R_20223190000_01D_30S_MO.crx.gz ➔ IISC00IND_R_20223190000_01D_30S_MO.crx\n"
          ]
        },
        {
          "output_type": "stream",
          "name": "stderr",
          "text": [
            "\rExtracting 2022/11Nov:   7%|▋         | 2/30 [00:00<00:02,  9.42it/s]"
          ]
        },
        {
          "output_type": "stream",
          "name": "stdout",
          "text": [
            "✅ Extracted: IISC00IND_R_20223330000_01D_30S_MO.crx.gz ➔ IISC00IND_R_20223330000_01D_30S_MO.crx\n"
          ]
        },
        {
          "output_type": "stream",
          "name": "stderr",
          "text": [
            "\rExtracting 2022/11Nov:  10%|█         | 3/30 [00:00<00:02,  9.19it/s]"
          ]
        },
        {
          "output_type": "stream",
          "name": "stdout",
          "text": [
            "✅ Extracted: IISC00IND_R_20223290000_01D_30S_MO.crx.gz ➔ IISC00IND_R_20223290000_01D_30S_MO.crx\n"
          ]
        },
        {
          "output_type": "stream",
          "name": "stderr",
          "text": [
            "\rExtracting 2022/11Nov:  13%|█▎        | 4/30 [00:00<00:02,  9.42it/s]"
          ]
        },
        {
          "output_type": "stream",
          "name": "stdout",
          "text": [
            "✅ Extracted: IISC00IND_R_20223140000_01D_30S_MO.crx.gz ➔ IISC00IND_R_20223140000_01D_30S_MO.crx\n",
            "✅ Extracted: IISC00IND_R_20223260000_01D_30S_MO.crx.gz ➔ IISC00IND_R_20223260000_01D_30S_MO.crx\n"
          ]
        },
        {
          "output_type": "stream",
          "name": "stderr",
          "text": [
            "\rExtracting 2022/11Nov:  20%|██        | 6/30 [00:00<00:02, 10.03it/s]"
          ]
        },
        {
          "output_type": "stream",
          "name": "stdout",
          "text": [
            "✅ Extracted: IISC00IND_R_20223340000_01D_30S_MO.crx.gz ➔ IISC00IND_R_20223340000_01D_30S_MO.crx\n",
            "✅ Extracted: IISC00IND_R_20223090000_01D_30S_MO.crx.gz ➔ IISC00IND_R_20223090000_01D_30S_MO.crx\n"
          ]
        },
        {
          "output_type": "stream",
          "name": "stderr",
          "text": [
            "\rExtracting 2022/11Nov:  27%|██▋       | 8/30 [00:00<00:02,  8.89it/s]"
          ]
        },
        {
          "output_type": "stream",
          "name": "stdout",
          "text": [
            "✅ Extracted: IISC00IND_R_20223060000_01D_30S_MO.crx.gz ➔ IISC00IND_R_20223060000_01D_30S_MO.crx\n"
          ]
        },
        {
          "output_type": "stream",
          "name": "stderr",
          "text": [
            "\rExtracting 2022/11Nov:  30%|███       | 9/30 [00:00<00:02,  9.02it/s]"
          ]
        },
        {
          "output_type": "stream",
          "name": "stdout",
          "text": [
            "✅ Extracted: IISC00IND_R_20223230000_01D_30S_MO.crx.gz ➔ IISC00IND_R_20223230000_01D_30S_MO.crx\n"
          ]
        },
        {
          "output_type": "stream",
          "name": "stderr",
          "text": [
            "\rExtracting 2022/11Nov:  33%|███▎      | 10/30 [00:01<00:02,  9.15it/s]"
          ]
        },
        {
          "output_type": "stream",
          "name": "stdout",
          "text": [
            "✅ Extracted: IISC00IND_R_20223220000_01D_30S_MO.crx.gz ➔ IISC00IND_R_20223220000_01D_30S_MO.crx\n"
          ]
        },
        {
          "output_type": "stream",
          "name": "stderr",
          "text": [
            "\rExtracting 2022/11Nov:  37%|███▋      | 11/30 [00:01<00:02,  9.18it/s]"
          ]
        },
        {
          "output_type": "stream",
          "name": "stdout",
          "text": [
            "✅ Extracted: IISC00IND_R_20223070000_01D_30S_MO.crx.gz ➔ IISC00IND_R_20223070000_01D_30S_MO.crx\n"
          ]
        },
        {
          "output_type": "stream",
          "name": "stderr",
          "text": [
            "\rExtracting 2022/11Nov:  40%|████      | 12/30 [00:01<00:01,  9.27it/s]"
          ]
        },
        {
          "output_type": "stream",
          "name": "stdout",
          "text": [
            "✅ Extracted: IISC00IND_R_20223110000_01D_30S_MO.crx.gz ➔ IISC00IND_R_20223110000_01D_30S_MO.crx\n"
          ]
        },
        {
          "output_type": "stream",
          "name": "stderr",
          "text": [
            "\rExtracting 2022/11Nov:  43%|████▎     | 13/30 [00:01<00:01,  9.01it/s]"
          ]
        },
        {
          "output_type": "stream",
          "name": "stdout",
          "text": [
            "✅ Extracted: IISC00IND_R_20223270000_01D_30S_MO.crx.gz ➔ IISC00IND_R_20223270000_01D_30S_MO.crx\n"
          ]
        },
        {
          "output_type": "stream",
          "name": "stderr",
          "text": [
            "\rExtracting 2022/11Nov:  47%|████▋     | 14/30 [00:01<00:01,  9.23it/s]"
          ]
        },
        {
          "output_type": "stream",
          "name": "stdout",
          "text": [
            "✅ Extracted: IISC00IND_R_20223100000_01D_30S_MO.crx.gz ➔ IISC00IND_R_20223100000_01D_30S_MO.crx\n"
          ]
        },
        {
          "output_type": "stream",
          "name": "stderr",
          "text": [
            "\rExtracting 2022/11Nov:  50%|█████     | 15/30 [00:01<00:01,  9.41it/s]"
          ]
        },
        {
          "output_type": "stream",
          "name": "stdout",
          "text": [
            "✅ Extracted: IISC00IND_R_20223250000_01D_30S_MO.crx.gz ➔ IISC00IND_R_20223250000_01D_30S_MO.crx\n"
          ]
        },
        {
          "output_type": "stream",
          "name": "stderr",
          "text": [
            "\rExtracting 2022/11Nov:  53%|█████▎    | 16/30 [00:01<00:01,  9.48it/s]"
          ]
        },
        {
          "output_type": "stream",
          "name": "stdout",
          "text": [
            "✅ Extracted: IISC00IND_R_20223210000_01D_30S_MO.crx.gz ➔ IISC00IND_R_20223210000_01D_30S_MO.crx\n"
          ]
        },
        {
          "output_type": "stream",
          "name": "stderr",
          "text": [
            "\rExtracting 2022/11Nov:  57%|█████▋    | 17/30 [00:01<00:01,  9.37it/s]"
          ]
        },
        {
          "output_type": "stream",
          "name": "stdout",
          "text": [
            "✅ Extracted: IISC00IND_R_20223200000_01D_30S_MO.crx.gz ➔ IISC00IND_R_20223200000_01D_30S_MO.crx\n"
          ]
        },
        {
          "output_type": "stream",
          "name": "stderr",
          "text": [
            "\rExtracting 2022/11Nov:  60%|██████    | 18/30 [00:01<00:01,  9.50it/s]"
          ]
        },
        {
          "output_type": "stream",
          "name": "stdout",
          "text": [
            "✅ Extracted: IISC00IND_R_20223300000_01D_30S_MO.crx.gz ➔ IISC00IND_R_20223300000_01D_30S_MO.crx\n",
            "✅ Extracted: IISC00IND_R_20223170000_01D_30S_MO.crx.gz ➔ IISC00IND_R_20223170000_01D_30S_MO.crx\n"
          ]
        },
        {
          "output_type": "stream",
          "name": "stderr",
          "text": [
            "\rExtracting 2022/11Nov:  67%|██████▋   | 20/30 [00:02<00:02,  4.10it/s]"
          ]
        },
        {
          "output_type": "stream",
          "name": "stdout",
          "text": [
            "✅ Extracted: IISC00IND_R_20223180000_01D_30S_MO.crx.gz ➔ IISC00IND_R_20223180000_01D_30S_MO.crx\n"
          ]
        },
        {
          "output_type": "stream",
          "name": "stderr",
          "text": [
            "Extracting 2022/11Nov:  73%|███████▎  | 22/30 [00:03<00:01,  4.61it/s]"
          ]
        },
        {
          "output_type": "stream",
          "name": "stdout",
          "text": [
            "✅ Extracted: IISC00IND_R_20223130000_01D_30S_MO.crx.gz ➔ IISC00IND_R_20223130000_01D_30S_MO.crx\n",
            "✅ Extracted: IISC00IND_R_20223080000_01D_30S_MO.crx.gz ➔ IISC00IND_R_20223080000_01D_30S_MO.crx\n"
          ]
        },
        {
          "output_type": "stream",
          "name": "stderr",
          "text": [
            "\rExtracting 2022/11Nov:  77%|███████▋  | 23/30 [00:03<00:01,  5.38it/s]"
          ]
        },
        {
          "output_type": "stream",
          "name": "stdout",
          "text": [
            "✅ Extracted: IISC00IND_R_20223150000_01D_30S_MO.crx.gz ➔ IISC00IND_R_20223150000_01D_30S_MO.crx\n",
            "✅ Extracted: IISC00IND_R_20223280000_01D_30S_MO.crx.gz ➔ IISC00IND_R_20223280000_01D_30S_MO.crx\n"
          ]
        },
        {
          "output_type": "stream",
          "name": "stderr",
          "text": [
            "Extracting 2022/11Nov:  87%|████████▋ | 26/30 [00:03<00:00,  7.23it/s]"
          ]
        },
        {
          "output_type": "stream",
          "name": "stdout",
          "text": [
            "✅ Extracted: IISC00IND_R_20223320000_01D_30S_MO.crx.gz ➔ IISC00IND_R_20223320000_01D_30S_MO.crx\n",
            "✅ Extracted: IISC00IND_R_20223050000_01D_30S_MO.crx.gz ➔ IISC00IND_R_20223050000_01D_30S_MO.crx\n",
            "✅ Extracted: IISC00IND_R_20223240000_01D_30S_MO.crx.gz ➔ IISC00IND_R_20223240000_01D_30S_MO.crx\n"
          ]
        },
        {
          "output_type": "stream",
          "name": "stderr",
          "text": [
            "Extracting 2022/11Nov: 100%|██████████| 30/30 [00:03<00:00,  7.65it/s]\n"
          ]
        },
        {
          "output_type": "stream",
          "name": "stdout",
          "text": [
            "✅ Extracted: IISC00IND_R_20223120000_01D_30S_MO.crx.gz ➔ IISC00IND_R_20223120000_01D_30S_MO.crx\n",
            "✅ Extracted: IISC00IND_R_20223160000_01D_30S_MO.crx.gz ➔ IISC00IND_R_20223160000_01D_30S_MO.crx\n",
            "✅ Extracted: IISC00IND_R_20223310000_01D_30S_MO.crx.gz ➔ IISC00IND_R_20223310000_01D_30S_MO.crx\n"
          ]
        },
        {
          "output_type": "stream",
          "name": "stderr",
          "text": [
            "Extracting 2022/01Jan:   6%|▋         | 2/31 [00:00<00:03,  9.49it/s]"
          ]
        },
        {
          "output_type": "stream",
          "name": "stdout",
          "text": [
            "✅ Extracted: IISC00IND_R_20220060000_01D_30S_MO.crx.gz ➔ IISC00IND_R_20220060000_01D_30S_MO.crx\n",
            "✅ Extracted: IISC00IND_R_20220070000_01D_30S_MO.crx.gz ➔ IISC00IND_R_20220070000_01D_30S_MO.crx\n",
            "✅ Extracted: IISC00IND_R_20220010000_01D_30S_MO.crx.gz ➔ IISC00IND_R_20220010000_01D_30S_MO.crx\n"
          ]
        },
        {
          "output_type": "stream",
          "name": "stderr",
          "text": [
            "Extracting 2022/01Jan:  19%|█▉        | 6/31 [00:00<00:03,  8.29it/s]"
          ]
        },
        {
          "output_type": "stream",
          "name": "stdout",
          "text": [
            "✅ Extracted: IISC00IND_R_20220160000_01D_30S_MO.crx.gz ➔ IISC00IND_R_20220160000_01D_30S_MO.crx\n",
            "✅ Extracted: IISC00IND_R_20220020000_01D_30S_MO.crx.gz ➔ IISC00IND_R_20220020000_01D_30S_MO.crx\n",
            "✅ Extracted: IISC00IND_R_20220180000_01D_30S_MO.crx.gz ➔ IISC00IND_R_20220180000_01D_30S_MO.crx\n"
          ]
        },
        {
          "output_type": "stream",
          "name": "stderr",
          "text": [
            "Extracting 2022/01Jan:  26%|██▌       | 8/31 [00:00<00:02,  8.71it/s]"
          ]
        },
        {
          "output_type": "stream",
          "name": "stdout",
          "text": [
            "✅ Extracted: IISC00IND_R_20220200000_01D_30S_MO.crx.gz ➔ IISC00IND_R_20220200000_01D_30S_MO.crx\n",
            "✅ Extracted: IISC00IND_R_20220250000_01D_30S_MO.crx.gz ➔ IISC00IND_R_20220250000_01D_30S_MO.crx\n"
          ]
        },
        {
          "output_type": "stream",
          "name": "stderr",
          "text": [
            "Extracting 2022/01Jan:  32%|███▏      | 10/31 [00:01<00:02,  8.74it/s]"
          ]
        },
        {
          "output_type": "stream",
          "name": "stdout",
          "text": [
            "✅ Extracted: IISC00IND_R_20220110000_01D_30S_MO.crx.gz ➔ IISC00IND_R_20220110000_01D_30S_MO.crx\n",
            "✅ Extracted: IISC00IND_R_20220240000_01D_30S_MO.crx.gz ➔ IISC00IND_R_20220240000_01D_30S_MO.crx\n"
          ]
        },
        {
          "output_type": "stream",
          "name": "stderr",
          "text": [
            "Extracting 2022/01Jan:  39%|███▊      | 12/31 [00:01<00:02,  8.82it/s]"
          ]
        },
        {
          "output_type": "stream",
          "name": "stdout",
          "text": [
            "✅ Extracted: IISC00IND_R_20220080000_01D_30S_MO.crx.gz ➔ IISC00IND_R_20220080000_01D_30S_MO.crx\n",
            "✅ Extracted: IISC00IND_R_20220230000_01D_30S_MO.crx.gz ➔ IISC00IND_R_20220230000_01D_30S_MO.crx\n"
          ]
        },
        {
          "output_type": "stream",
          "name": "stderr",
          "text": [
            "Extracting 2022/01Jan:  45%|████▌     | 14/31 [00:01<00:01,  8.94it/s]"
          ]
        },
        {
          "output_type": "stream",
          "name": "stdout",
          "text": [
            "✅ Extracted: IISC00IND_R_20220220000_01D_30S_MO.crx.gz ➔ IISC00IND_R_20220220000_01D_30S_MO.crx\n",
            "✅ Extracted: IISC00IND_R_20220270000_01D_30S_MO.crx.gz ➔ IISC00IND_R_20220270000_01D_30S_MO.crx\n"
          ]
        },
        {
          "output_type": "stream",
          "name": "stderr",
          "text": [
            "\rExtracting 2022/01Jan:  52%|█████▏    | 16/31 [00:01<00:01,  9.54it/s]"
          ]
        },
        {
          "output_type": "stream",
          "name": "stdout",
          "text": [
            "✅ Extracted: IISC00IND_R_20220090000_01D_30S_MO.crx.gz ➔ IISC00IND_R_20220090000_01D_30S_MO.crx\n",
            "✅ Extracted: IISC00IND_R_20220310000_01D_30S_MO.crx.gz ➔ IISC00IND_R_20220310000_01D_30S_MO.crx\n"
          ]
        },
        {
          "output_type": "stream",
          "name": "stderr",
          "text": [
            "Extracting 2022/01Jan:  58%|█████▊    | 18/31 [00:02<00:01,  8.81it/s]"
          ]
        },
        {
          "output_type": "stream",
          "name": "stdout",
          "text": [
            "✅ Extracted: IISC00IND_R_20220170000_01D_30S_MO.crx.gz ➔ IISC00IND_R_20220170000_01D_30S_MO.crx\n",
            "✅ Extracted: IISC00IND_R_20220280000_01D_30S_MO.crx.gz ➔ IISC00IND_R_20220280000_01D_30S_MO.crx\n"
          ]
        },
        {
          "output_type": "stream",
          "name": "stderr",
          "text": [
            "Extracting 2022/01Jan:  65%|██████▍   | 20/31 [00:02<00:01,  9.03it/s]"
          ]
        },
        {
          "output_type": "stream",
          "name": "stdout",
          "text": [
            "✅ Extracted: IISC00IND_R_20220260000_01D_30S_MO.crx.gz ➔ IISC00IND_R_20220260000_01D_30S_MO.crx\n",
            "✅ Extracted: IISC00IND_R_20220130000_01D_30S_MO.crx.gz ➔ IISC00IND_R_20220130000_01D_30S_MO.crx\n"
          ]
        },
        {
          "output_type": "stream",
          "name": "stderr",
          "text": [
            "Extracting 2022/01Jan:  71%|███████   | 22/31 [00:02<00:00,  9.28it/s]"
          ]
        },
        {
          "output_type": "stream",
          "name": "stdout",
          "text": [
            "✅ Extracted: IISC00IND_R_20220030000_01D_30S_MO.crx.gz ➔ IISC00IND_R_20220030000_01D_30S_MO.crx\n",
            "✅ Extracted: IISC00IND_R_20220150000_01D_30S_MO.crx.gz ➔ IISC00IND_R_20220150000_01D_30S_MO.crx\n"
          ]
        },
        {
          "output_type": "stream",
          "name": "stderr",
          "text": [
            "Extracting 2022/01Jan:  77%|███████▋  | 24/31 [00:02<00:00,  9.19it/s]"
          ]
        },
        {
          "output_type": "stream",
          "name": "stdout",
          "text": [
            "✅ Extracted: IISC00IND_R_20220300000_01D_30S_MO.crx.gz ➔ IISC00IND_R_20220300000_01D_30S_MO.crx\n",
            "✅ Extracted: IISC00IND_R_20220040000_01D_30S_MO.crx.gz ➔ IISC00IND_R_20220040000_01D_30S_MO.crx\n",
            "✅ Extracted: IISC00IND_R_20220120000_01D_30S_MO.crx.gz ➔ IISC00IND_R_20220120000_01D_30S_MO.crx\n"
          ]
        },
        {
          "output_type": "stream",
          "name": "stderr",
          "text": [
            "\rExtracting 2022/01Jan:  84%|████████▍ | 26/31 [00:02<00:00,  9.52it/s]"
          ]
        },
        {
          "output_type": "stream",
          "name": "stdout",
          "text": [
            "✅ Extracted: IISC00IND_R_20220140000_01D_30S_MO.crx.gz ➔ IISC00IND_R_20220140000_01D_30S_MO.crx\n",
            "✅ Extracted: IISC00IND_R_20220190000_01D_30S_MO.crx.gz ➔ IISC00IND_R_20220190000_01D_30S_MO.crx\n"
          ]
        },
        {
          "output_type": "stream",
          "name": "stderr",
          "text": [
            "\rExtracting 2022/01Jan:  90%|█████████ | 28/31 [00:03<00:00,  9.07it/s]"
          ]
        },
        {
          "output_type": "stream",
          "name": "stdout",
          "text": [
            "✅ Extracted: IISC00IND_R_20220290000_01D_30S_MO.crx.gz ➔ IISC00IND_R_20220290000_01D_30S_MO.crx\n"
          ]
        },
        {
          "output_type": "stream",
          "name": "stderr",
          "text": [
            "\rExtracting 2022/01Jan:  94%|█████████▎| 29/31 [00:05<00:01,  1.95it/s]"
          ]
        },
        {
          "output_type": "stream",
          "name": "stdout",
          "text": [
            "✅ Extracted: IISC00IND_R_20220100000_01D_30S_MO.crx.gz ➔ IISC00IND_R_20220100000_01D_30S_MO.crx\n"
          ]
        },
        {
          "output_type": "stream",
          "name": "stderr",
          "text": [
            "Extracting 2022/01Jan: 100%|██████████| 31/31 [00:05<00:00,  5.52it/s]\n"
          ]
        },
        {
          "output_type": "stream",
          "name": "stdout",
          "text": [
            "✅ Extracted: IISC00IND_R_20220050000_01D_30S_MO.crx.gz ➔ IISC00IND_R_20220050000_01D_30S_MO.crx\n",
            "✅ Extracted: IISC00IND_R_20220210000_01D_30S_MO.crx.gz ➔ IISC00IND_R_20220210000_01D_30S_MO.crx\n"
          ]
        },
        {
          "output_type": "stream",
          "name": "stderr",
          "text": [
            "Extracting 2022/06Jun:  10%|█         | 3/30 [00:00<00:02, 10.18it/s]"
          ]
        },
        {
          "output_type": "stream",
          "name": "stdout",
          "text": [
            "✅ Extracted: IISC00IND_R_20221700000_01D_30S_MO.crx.gz ➔ IISC00IND_R_20221700000_01D_30S_MO.crx\n",
            "✅ Extracted: IISC00IND_R_20221540000_01D_30S_MO.crx.gz ➔ IISC00IND_R_20221540000_01D_30S_MO.crx\n",
            "✅ Extracted: IISC00IND_R_20221760000_01D_30S_MO.crx.gz ➔ IISC00IND_R_20221760000_01D_30S_MO.crx\n"
          ]
        },
        {
          "output_type": "stream",
          "name": "stderr",
          "text": [
            "\rExtracting 2022/06Jun:  17%|█▋        | 5/30 [00:00<00:02, 10.39it/s]"
          ]
        },
        {
          "output_type": "stream",
          "name": "stdout",
          "text": [
            "✅ Extracted: IISC00IND_R_20221520000_01D_30S_MO.crx.gz ➔ IISC00IND_R_20221520000_01D_30S_MO.crx\n",
            "✅ Extracted: IISC00IND_R_20221810000_01D_30S_MO.crx.gz ➔ IISC00IND_R_20221810000_01D_30S_MO.crx\n",
            "✅ Extracted: IISC00IND_R_20221570000_01D_30S_MO.crx.gz ➔ IISC00IND_R_20221570000_01D_30S_MO.crx\n"
          ]
        },
        {
          "output_type": "stream",
          "name": "stderr",
          "text": [
            "Extracting 2022/06Jun:  30%|███       | 9/30 [00:00<00:02, 10.41it/s]"
          ]
        },
        {
          "output_type": "stream",
          "name": "stdout",
          "text": [
            "✅ Extracted: IISC00IND_R_20221550000_01D_30S_MO.crx.gz ➔ IISC00IND_R_20221550000_01D_30S_MO.crx\n",
            "✅ Extracted: IISC00IND_R_20221560000_01D_30S_MO.crx.gz ➔ IISC00IND_R_20221560000_01D_30S_MO.crx\n",
            "✅ Extracted: IISC00IND_R_20221720000_01D_30S_MO.crx.gz ➔ IISC00IND_R_20221720000_01D_30S_MO.crx\n"
          ]
        },
        {
          "output_type": "stream",
          "name": "stderr",
          "text": [
            "\rExtracting 2022/06Jun:  37%|███▋      | 11/30 [00:01<00:02,  8.63it/s]"
          ]
        },
        {
          "output_type": "stream",
          "name": "stdout",
          "text": [
            "✅ Extracted: IISC00IND_R_20221630000_01D_30S_MO.crx.gz ➔ IISC00IND_R_20221630000_01D_30S_MO.crx\n",
            "✅ Extracted: IISC00IND_R_20221670000_01D_30S_MO.crx.gz ➔ IISC00IND_R_20221670000_01D_30S_MO.crx\n"
          ]
        },
        {
          "output_type": "stream",
          "name": "stderr",
          "text": [
            "Extracting 2022/06Jun:  43%|████▎     | 13/30 [00:01<00:01,  8.98it/s]"
          ]
        },
        {
          "output_type": "stream",
          "name": "stdout",
          "text": [
            "✅ Extracted: IISC00IND_R_20221660000_01D_30S_MO.crx.gz ➔ IISC00IND_R_20221660000_01D_30S_MO.crx\n",
            "✅ Extracted: IISC00IND_R_20221590000_01D_30S_MO.crx.gz ➔ IISC00IND_R_20221590000_01D_30S_MO.crx\n"
          ]
        },
        {
          "output_type": "stream",
          "name": "stderr",
          "text": [
            "Extracting 2022/06Jun:  50%|█████     | 15/30 [00:01<00:01,  9.15it/s]"
          ]
        },
        {
          "output_type": "stream",
          "name": "stdout",
          "text": [
            "✅ Extracted: IISC00IND_R_20221640000_01D_30S_MO.crx.gz ➔ IISC00IND_R_20221640000_01D_30S_MO.crx\n",
            "✅ Extracted: IISC00IND_R_20221710000_01D_30S_MO.crx.gz ➔ IISC00IND_R_20221710000_01D_30S_MO.crx\n"
          ]
        },
        {
          "output_type": "stream",
          "name": "stderr",
          "text": [
            "Extracting 2022/06Jun:  57%|█████▋    | 17/30 [00:01<00:01,  9.10it/s]"
          ]
        },
        {
          "output_type": "stream",
          "name": "stdout",
          "text": [
            "✅ Extracted: IISC00IND_R_20221600000_01D_30S_MO.crx.gz ➔ IISC00IND_R_20221600000_01D_30S_MO.crx\n",
            "✅ Extracted: IISC00IND_R_20221750000_01D_30S_MO.crx.gz ➔ IISC00IND_R_20221750000_01D_30S_MO.crx\n"
          ]
        },
        {
          "output_type": "stream",
          "name": "stderr",
          "text": [
            "Extracting 2022/06Jun:  63%|██████▎   | 19/30 [00:02<00:01,  9.37it/s]"
          ]
        },
        {
          "output_type": "stream",
          "name": "stdout",
          "text": [
            "✅ Extracted: IISC00IND_R_20221770000_01D_30S_MO.crx.gz ➔ IISC00IND_R_20221770000_01D_30S_MO.crx\n",
            "✅ Extracted: IISC00IND_R_20221800000_01D_30S_MO.crx.gz ➔ IISC00IND_R_20221800000_01D_30S_MO.crx\n"
          ]
        },
        {
          "output_type": "stream",
          "name": "stderr",
          "text": [
            "Extracting 2022/06Jun:  73%|███████▎  | 22/30 [00:02<00:00,  9.74it/s]"
          ]
        },
        {
          "output_type": "stream",
          "name": "stdout",
          "text": [
            "✅ Extracted: IISC00IND_R_20221730000_01D_30S_MO.crx.gz ➔ IISC00IND_R_20221730000_01D_30S_MO.crx\n",
            "✅ Extracted: IISC00IND_R_20221650000_01D_30S_MO.crx.gz ➔ IISC00IND_R_20221650000_01D_30S_MO.crx\n",
            "✅ Extracted: IISC00IND_R_20221530000_01D_30S_MO.crx.gz ➔ IISC00IND_R_20221530000_01D_30S_MO.crx\n"
          ]
        },
        {
          "output_type": "stream",
          "name": "stderr",
          "text": [
            "Extracting 2022/06Jun:  83%|████████▎ | 25/30 [00:02<00:00, 10.06it/s]"
          ]
        },
        {
          "output_type": "stream",
          "name": "stdout",
          "text": [
            "✅ Extracted: IISC00IND_R_20221620000_01D_30S_MO.crx.gz ➔ IISC00IND_R_20221620000_01D_30S_MO.crx\n",
            "✅ Extracted: IISC00IND_R_20221580000_01D_30S_MO.crx.gz ➔ IISC00IND_R_20221580000_01D_30S_MO.crx\n",
            "✅ Extracted: IISC00IND_R_20221790000_01D_30S_MO.crx.gz ➔ IISC00IND_R_20221790000_01D_30S_MO.crx\n"
          ]
        },
        {
          "output_type": "stream",
          "name": "stderr",
          "text": [
            "Extracting 2022/06Jun:  93%|█████████▎| 28/30 [00:02<00:00, 10.43it/s]"
          ]
        },
        {
          "output_type": "stream",
          "name": "stdout",
          "text": [
            "✅ Extracted: IISC00IND_R_20221690000_01D_30S_MO.crx.gz ➔ IISC00IND_R_20221690000_01D_30S_MO.crx\n",
            "✅ Extracted: IISC00IND_R_20221680000_01D_30S_MO.crx.gz ➔ IISC00IND_R_20221680000_01D_30S_MO.crx\n",
            "✅ Extracted: IISC00IND_R_20221780000_01D_30S_MO.crx.gz ➔ IISC00IND_R_20221780000_01D_30S_MO.crx\n"
          ]
        },
        {
          "output_type": "stream",
          "name": "stderr",
          "text": [
            "Extracting 2022/06Jun: 100%|██████████| 30/30 [00:03<00:00,  9.73it/s]\n"
          ]
        },
        {
          "output_type": "stream",
          "name": "stdout",
          "text": [
            "✅ Extracted: IISC00IND_R_20221740000_01D_30S_MO.crx.gz ➔ IISC00IND_R_20221740000_01D_30S_MO.crx\n",
            "✅ Extracted: IISC00IND_R_20221610000_01D_30S_MO.crx.gz ➔ IISC00IND_R_20221610000_01D_30S_MO.crx\n"
          ]
        },
        {
          "output_type": "stream",
          "name": "stderr",
          "text": [
            "Extracting 2022/05May:   3%|▎         | 1/31 [00:00<00:07,  3.78it/s]"
          ]
        },
        {
          "output_type": "stream",
          "name": "stdout",
          "text": [
            "✅ Extracted: IISC00IND_R_20221450000_01D_30S_MO.crx.gz ➔ IISC00IND_R_20221450000_01D_30S_MO.crx\n",
            "✅ Extracted: IISC00IND_R_20221350000_01D_30S_MO.crx.gz ➔ IISC00IND_R_20221350000_01D_30S_MO.crx\n"
          ]
        },
        {
          "output_type": "stream",
          "name": "stderr",
          "text": [
            "Extracting 2022/05May:  13%|█▎        | 4/31 [00:00<00:03,  7.18it/s]"
          ]
        },
        {
          "output_type": "stream",
          "name": "stdout",
          "text": [
            "✅ Extracted: IISC00IND_R_20221420000_01D_30S_MO.crx.gz ➔ IISC00IND_R_20221420000_01D_30S_MO.crx\n",
            "✅ Extracted: IISC00IND_R_20221260000_01D_30S_MO.crx.gz ➔ IISC00IND_R_20221260000_01D_30S_MO.crx\n"
          ]
        },
        {
          "output_type": "stream",
          "name": "stderr",
          "text": [
            "Extracting 2022/05May:  23%|██▎       | 7/31 [00:00<00:02,  8.90it/s]"
          ]
        },
        {
          "output_type": "stream",
          "name": "stdout",
          "text": [
            "✅ Extracted: IISC00IND_R_20221510000_01D_30S_MO.crx.gz ➔ IISC00IND_R_20221510000_01D_30S_MO.crx\n",
            "✅ Extracted: IISC00IND_R_20221430000_01D_30S_MO.crx.gz ➔ IISC00IND_R_20221430000_01D_30S_MO.crx\n",
            "✅ Extracted: IISC00IND_R_20221330000_01D_30S_MO.crx.gz ➔ IISC00IND_R_20221330000_01D_30S_MO.crx\n"
          ]
        },
        {
          "output_type": "stream",
          "name": "stderr",
          "text": [
            "Extracting 2022/05May:  32%|███▏      | 10/31 [00:01<00:02,  9.49it/s]"
          ]
        },
        {
          "output_type": "stream",
          "name": "stdout",
          "text": [
            "✅ Extracted: IISC00IND_R_20221380000_01D_30S_MO.crx.gz ➔ IISC00IND_R_20221380000_01D_30S_MO.crx\n",
            "✅ Extracted: IISC00IND_R_20221230000_01D_30S_MO.crx.gz ➔ IISC00IND_R_20221230000_01D_30S_MO.crx\n",
            "✅ Extracted: IISC00IND_R_20221250000_01D_30S_MO.crx.gz ➔ IISC00IND_R_20221250000_01D_30S_MO.crx\n"
          ]
        },
        {
          "output_type": "stream",
          "name": "stderr",
          "text": [
            "\rExtracting 2022/05May:  39%|███▊      | 12/31 [00:01<00:01,  9.60it/s]"
          ]
        },
        {
          "output_type": "stream",
          "name": "stdout",
          "text": [
            "✅ Extracted: IISC00IND_R_20221240000_01D_30S_MO.crx.gz ➔ IISC00IND_R_20221240000_01D_30S_MO.crx\n",
            "✅ Extracted: IISC00IND_R_20221210000_01D_30S_MO.crx.gz ➔ IISC00IND_R_20221210000_01D_30S_MO.crx\n"
          ]
        },
        {
          "output_type": "stream",
          "name": "stderr",
          "text": [
            "Extracting 2022/05May:  45%|████▌     | 14/31 [00:01<00:02,  8.17it/s]"
          ]
        },
        {
          "output_type": "stream",
          "name": "stdout",
          "text": [
            "✅ Extracted: IISC00IND_R_20221300000_01D_30S_MO.crx.gz ➔ IISC00IND_R_20221300000_01D_30S_MO.crx\n",
            "✅ Extracted: IISC00IND_R_20221480000_01D_30S_MO.crx.gz ➔ IISC00IND_R_20221480000_01D_30S_MO.crx\n"
          ]
        },
        {
          "output_type": "stream",
          "name": "stderr",
          "text": [
            "Extracting 2022/05May:  52%|█████▏    | 16/31 [00:01<00:01,  8.73it/s]"
          ]
        },
        {
          "output_type": "stream",
          "name": "stdout",
          "text": [
            "✅ Extracted: IISC00IND_R_20221490000_01D_30S_MO.crx.gz ➔ IISC00IND_R_20221490000_01D_30S_MO.crx\n",
            "✅ Extracted: IISC00IND_R_20221370000_01D_30S_MO.crx.gz ➔ IISC00IND_R_20221370000_01D_30S_MO.crx\n"
          ]
        },
        {
          "output_type": "stream",
          "name": "stderr",
          "text": [
            "Extracting 2022/05May:  58%|█████▊    | 18/31 [00:02<00:01,  8.81it/s]"
          ]
        },
        {
          "output_type": "stream",
          "name": "stdout",
          "text": [
            "✅ Extracted: IISC00IND_R_20221410000_01D_30S_MO.crx.gz ➔ IISC00IND_R_20221410000_01D_30S_MO.crx\n",
            "✅ Extracted: IISC00IND_R_20221440000_01D_30S_MO.crx.gz ➔ IISC00IND_R_20221440000_01D_30S_MO.crx\n"
          ]
        },
        {
          "output_type": "stream",
          "name": "stderr",
          "text": [
            "Extracting 2022/05May:  65%|██████▍   | 20/31 [00:02<00:01,  8.91it/s]"
          ]
        },
        {
          "output_type": "stream",
          "name": "stdout",
          "text": [
            "✅ Extracted: IISC00IND_R_20221470000_01D_30S_MO.crx.gz ➔ IISC00IND_R_20221470000_01D_30S_MO.crx\n",
            "✅ Extracted: IISC00IND_R_20221360000_01D_30S_MO.crx.gz ➔ IISC00IND_R_20221360000_01D_30S_MO.crx\n"
          ]
        },
        {
          "output_type": "stream",
          "name": "stderr",
          "text": [
            "Extracting 2022/05May:  71%|███████   | 22/31 [00:02<00:00,  9.12it/s]"
          ]
        },
        {
          "output_type": "stream",
          "name": "stdout",
          "text": [
            "✅ Extracted: IISC00IND_R_20221500000_01D_30S_MO.crx.gz ➔ IISC00IND_R_20221500000_01D_30S_MO.crx\n",
            "✅ Extracted: IISC00IND_R_20221280000_01D_30S_MO.crx.gz ➔ IISC00IND_R_20221280000_01D_30S_MO.crx\n"
          ]
        },
        {
          "output_type": "stream",
          "name": "stderr",
          "text": [
            "Extracting 2022/05May:  81%|████████  | 25/31 [00:02<00:00,  9.71it/s]"
          ]
        },
        {
          "output_type": "stream",
          "name": "stdout",
          "text": [
            "✅ Extracted: IISC00IND_R_20221400000_01D_30S_MO.crx.gz ➔ IISC00IND_R_20221400000_01D_30S_MO.crx\n",
            "✅ Extracted: IISC00IND_R_20221460000_01D_30S_MO.crx.gz ➔ IISC00IND_R_20221460000_01D_30S_MO.crx\n",
            "✅ Extracted: IISC00IND_R_20221340000_01D_30S_MO.crx.gz ➔ IISC00IND_R_20221340000_01D_30S_MO.crx\n"
          ]
        },
        {
          "output_type": "stream",
          "name": "stderr",
          "text": [
            "Extracting 2022/05May:  87%|████████▋ | 27/31 [00:03<00:00,  8.67it/s]"
          ]
        },
        {
          "output_type": "stream",
          "name": "stdout",
          "text": [
            "✅ Extracted: IISC00IND_R_20221220000_01D_30S_MO.crx.gz ➔ IISC00IND_R_20221220000_01D_30S_MO.crx\n",
            "✅ Extracted: IISC00IND_R_20221290000_01D_30S_MO.crx.gz ➔ IISC00IND_R_20221290000_01D_30S_MO.crx\n"
          ]
        },
        {
          "output_type": "stream",
          "name": "stderr",
          "text": [
            "Extracting 2022/05May:  94%|█████████▎| 29/31 [00:03<00:00,  8.88it/s]"
          ]
        },
        {
          "output_type": "stream",
          "name": "stdout",
          "text": [
            "✅ Extracted: IISC00IND_R_20221310000_01D_30S_MO.crx.gz ➔ IISC00IND_R_20221310000_01D_30S_MO.crx\n",
            "✅ Extracted: IISC00IND_R_20221320000_01D_30S_MO.crx.gz ➔ IISC00IND_R_20221320000_01D_30S_MO.crx\n"
          ]
        },
        {
          "output_type": "stream",
          "name": "stderr",
          "text": [
            "Extracting 2022/05May: 100%|██████████| 31/31 [00:03<00:00,  8.61it/s]\n"
          ]
        },
        {
          "output_type": "stream",
          "name": "stdout",
          "text": [
            "✅ Extracted: IISC00IND_R_20221390000_01D_30S_MO.crx.gz ➔ IISC00IND_R_20221390000_01D_30S_MO.crx\n",
            "✅ Extracted: IISC00IND_R_20221270000_01D_30S_MO.crx.gz ➔ IISC00IND_R_20221270000_01D_30S_MO.crx\n"
          ]
        },
        {
          "output_type": "stream",
          "name": "stderr",
          "text": [
            "Extracting 2022/08Aug: 100%|██████████| 3/3 [00:00<00:00,  9.98it/s]\n"
          ]
        },
        {
          "output_type": "stream",
          "name": "stdout",
          "text": [
            "✅ Extracted: IISC00IND_R_20222430000_01D_30S_MO.crx.gz ➔ IISC00IND_R_20222430000_01D_30S_MO.crx\n",
            "✅ Extracted: IISC00IND_R_20222140000_01D_30S_MO.crx.gz ➔ IISC00IND_R_20222140000_01D_30S_MO.crx\n",
            "✅ Extracted: IISC00IND_R_20222130000_01D_30S_MO.crx.gz ➔ IISC00IND_R_20222130000_01D_30S_MO.crx\n"
          ]
        },
        {
          "output_type": "stream",
          "name": "stderr",
          "text": [
            "Extracting 2022/10Oct:   3%|▎         | 1/30 [00:00<00:03,  8.64it/s]"
          ]
        },
        {
          "output_type": "stream",
          "name": "stdout",
          "text": [
            "✅ Extracted: IISC00IND_R_20222900000_01D_30S_MO.crx.gz ➔ IISC00IND_R_20222900000_01D_30S_MO.crx\n",
            "✅ Extracted: IISC00IND_R_20222960000_01D_30S_MO.crx.gz ➔ IISC00IND_R_20222960000_01D_30S_MO.crx\n"
          ]
        },
        {
          "output_type": "stream",
          "name": "stderr",
          "text": [
            "Extracting 2022/10Oct:  13%|█▎        | 4/30 [00:00<00:02,  9.51it/s]"
          ]
        },
        {
          "output_type": "stream",
          "name": "stdout",
          "text": [
            "✅ Extracted: IISC00IND_R_20222980000_01D_30S_MO.crx.gz ➔ IISC00IND_R_20222980000_01D_30S_MO.crx\n",
            "✅ Extracted: IISC00IND_R_20223030000_01D_30S_MO.crx.gz ➔ IISC00IND_R_20223030000_01D_30S_MO.crx\n"
          ]
        },
        {
          "output_type": "stream",
          "name": "stderr",
          "text": [
            "Extracting 2022/10Oct:  20%|██        | 6/30 [00:03<00:16,  1.46it/s]"
          ]
        },
        {
          "output_type": "stream",
          "name": "stdout",
          "text": [
            "✅ Extracted: IISC00IND_R_20222940000_01D_30S_MO.crx.gz ➔ IISC00IND_R_20222940000_01D_30S_MO.crx\n",
            "✅ Extracted: IISC00IND_R_20223040000_01D_30S_MO.crx.gz ➔ IISC00IND_R_20223040000_01D_30S_MO.crx\n"
          ]
        },
        {
          "output_type": "stream",
          "name": "stderr",
          "text": [
            "Extracting 2022/10Oct:  27%|██▋       | 8/30 [00:03<00:08,  2.52it/s]"
          ]
        },
        {
          "output_type": "stream",
          "name": "stdout",
          "text": [
            "✅ Extracted: IISC00IND_R_20222930000_01D_30S_MO.crx.gz ➔ IISC00IND_R_20222930000_01D_30S_MO.crx\n",
            "✅ Extracted: IISC00IND_R_20222970000_01D_30S_MO.crx.gz ➔ IISC00IND_R_20222970000_01D_30S_MO.crx\n"
          ]
        },
        {
          "output_type": "stream",
          "name": "stderr",
          "text": [
            "Extracting 2022/10Oct:  33%|███▎      | 10/30 [00:03<00:05,  3.84it/s]"
          ]
        },
        {
          "output_type": "stream",
          "name": "stdout",
          "text": [
            "✅ Extracted: IISC00IND_R_20222790000_01D_30S_MO.crx.gz ➔ IISC00IND_R_20222790000_01D_30S_MO.crx\n",
            "✅ Extracted: IISC00IND_R_20222950000_01D_30S_MO.crx.gz ➔ IISC00IND_R_20222950000_01D_30S_MO.crx\n"
          ]
        },
        {
          "output_type": "stream",
          "name": "stderr",
          "text": [
            "Extracting 2022/10Oct:  40%|████      | 12/30 [00:04<00:03,  5.11it/s]"
          ]
        },
        {
          "output_type": "stream",
          "name": "stdout",
          "text": [
            "✅ Extracted: IISC00IND_R_20222760000_01D_30S_MO.crx.gz ➔ IISC00IND_R_20222760000_01D_30S_MO.crx\n",
            "✅ Extracted: IISC00IND_R_20222740000_01D_30S_MO.crx.gz ➔ IISC00IND_R_20222740000_01D_30S_MO.crx\n"
          ]
        },
        {
          "output_type": "stream",
          "name": "stderr",
          "text": [
            "Extracting 2022/10Oct:  47%|████▋     | 14/30 [00:04<00:02,  6.11it/s]"
          ]
        },
        {
          "output_type": "stream",
          "name": "stdout",
          "text": [
            "✅ Extracted: IISC00IND_R_20222870000_01D_30S_MO.crx.gz ➔ IISC00IND_R_20222870000_01D_30S_MO.crx\n",
            "✅ Extracted: IISC00IND_R_20222800000_01D_30S_MO.crx.gz ➔ IISC00IND_R_20222800000_01D_30S_MO.crx\n"
          ]
        },
        {
          "output_type": "stream",
          "name": "stderr",
          "text": [
            "Extracting 2022/10Oct:  53%|█████▎    | 16/30 [00:04<00:02,  6.62it/s]"
          ]
        },
        {
          "output_type": "stream",
          "name": "stdout",
          "text": [
            "✅ Extracted: IISC00IND_R_20222780000_01D_30S_MO.crx.gz ➔ IISC00IND_R_20222780000_01D_30S_MO.crx\n",
            "✅ Extracted: IISC00IND_R_20223000000_01D_30S_MO.crx.gz ➔ IISC00IND_R_20223000000_01D_30S_MO.crx\n"
          ]
        },
        {
          "output_type": "stream",
          "name": "stderr",
          "text": [
            "Extracting 2022/10Oct:  60%|██████    | 18/30 [00:04<00:01,  7.40it/s]"
          ]
        },
        {
          "output_type": "stream",
          "name": "stdout",
          "text": [
            "✅ Extracted: IISC00IND_R_20222850000_01D_30S_MO.crx.gz ➔ IISC00IND_R_20222850000_01D_30S_MO.crx\n",
            "✅ Extracted: IISC00IND_R_20222910000_01D_30S_MO.crx.gz ➔ IISC00IND_R_20222910000_01D_30S_MO.crx\n"
          ]
        },
        {
          "output_type": "stream",
          "name": "stderr",
          "text": [
            "Extracting 2022/10Oct:  70%|███████   | 21/30 [00:05<00:00,  9.15it/s]"
          ]
        },
        {
          "output_type": "stream",
          "name": "stdout",
          "text": [
            "✅ Extracted: IISC00IND_R_20222810000_01D_30S_MO.crx.gz ➔ IISC00IND_R_20222810000_01D_30S_MO.crx\n",
            "✅ Extracted: IISC00IND_R_20222990000_01D_30S_MO.crx.gz ➔ IISC00IND_R_20222990000_01D_30S_MO.crx\n",
            "✅ Extracted: IISC00IND_R_20222770000_01D_30S_MO.crx.gz ➔ IISC00IND_R_20222770000_01D_30S_MO.crx\n"
          ]
        },
        {
          "output_type": "stream",
          "name": "stderr",
          "text": [
            "\rExtracting 2022/10Oct:  77%|███████▋  | 23/30 [00:05<00:00,  9.61it/s]"
          ]
        },
        {
          "output_type": "stream",
          "name": "stdout",
          "text": [
            "✅ Extracted: IISC00IND_R_20222750000_01D_30S_MO.crx.gz ➔ IISC00IND_R_20222750000_01D_30S_MO.crx\n",
            "✅ Extracted: IISC00IND_R_20222880000_01D_30S_MO.crx.gz ➔ IISC00IND_R_20222880000_01D_30S_MO.crx\n",
            "✅ Extracted: IISC00IND_R_20222820000_01D_30S_MO.crx.gz ➔ IISC00IND_R_20222820000_01D_30S_MO.crx\n"
          ]
        },
        {
          "output_type": "stream",
          "name": "stderr",
          "text": [
            "Extracting 2022/10Oct:  90%|█████████ | 27/30 [00:05<00:00, 10.25it/s]"
          ]
        },
        {
          "output_type": "stream",
          "name": "stdout",
          "text": [
            "✅ Extracted: IISC00IND_R_20222830000_01D_30S_MO.crx.gz ➔ IISC00IND_R_20222830000_01D_30S_MO.crx\n",
            "✅ Extracted: IISC00IND_R_20222860000_01D_30S_MO.crx.gz ➔ IISC00IND_R_20222860000_01D_30S_MO.crx\n",
            "✅ Extracted: IISC00IND_R_20223010000_01D_30S_MO.crx.gz ➔ IISC00IND_R_20223010000_01D_30S_MO.crx\n"
          ]
        },
        {
          "output_type": "stream",
          "name": "stderr",
          "text": [
            "\rExtracting 2022/10Oct:  97%|█████████▋| 29/30 [00:05<00:00,  8.91it/s]"
          ]
        },
        {
          "output_type": "stream",
          "name": "stdout",
          "text": [
            "✅ Extracted: IISC00IND_R_20223020000_01D_30S_MO.crx.gz ➔ IISC00IND_R_20223020000_01D_30S_MO.crx\n",
            "✅ Extracted: IISC00IND_R_20222890000_01D_30S_MO.crx.gz ➔ IISC00IND_R_20222890000_01D_30S_MO.crx\n"
          ]
        },
        {
          "output_type": "stream",
          "name": "stderr",
          "text": [
            "Extracting 2022/10Oct: 100%|██████████| 30/30 [00:06<00:00,  4.94it/s]\n"
          ]
        },
        {
          "output_type": "stream",
          "name": "stdout",
          "text": [
            "✅ Extracted: IISC00IND_R_20222920000_01D_30S_MO.crx.gz ➔ IISC00IND_R_20222920000_01D_30S_MO.crx\n"
          ]
        },
        {
          "output_type": "stream",
          "name": "stderr",
          "text": [
            "Extracting 2022/12Dec:   3%|▎         | 1/29 [00:00<00:04,  5.61it/s]"
          ]
        },
        {
          "output_type": "stream",
          "name": "stdout",
          "text": [
            "✅ Extracted: IISC00IND_R_20223480000_01D_30S_MO.crx.gz ➔ IISC00IND_R_20223480000_01D_30S_MO.crx\n"
          ]
        },
        {
          "output_type": "stream",
          "name": "stderr",
          "text": [
            "Extracting 2022/12Dec:  14%|█▍        | 4/29 [00:00<00:04,  5.73it/s]"
          ]
        },
        {
          "output_type": "stream",
          "name": "stdout",
          "text": [
            "✅ Extracted: IISC00IND_R_20223570000_01D_30S_MO.crx.gz ➔ IISC00IND_R_20223570000_01D_30S_MO.crx\n",
            "✅ Extracted: IISC00IND_R_20223500000_01D_30S_MO.crx.gz ➔ IISC00IND_R_20223500000_01D_30S_MO.crx\n",
            "✅ Extracted: IISC00IND_R_20223560000_01D_30S_MO.crx.gz ➔ IISC00IND_R_20223560000_01D_30S_MO.crx\n"
          ]
        },
        {
          "output_type": "stream",
          "name": "stderr",
          "text": [
            "\rExtracting 2022/12Dec:  21%|██        | 6/29 [00:00<00:03,  7.40it/s]"
          ]
        },
        {
          "output_type": "stream",
          "name": "stdout",
          "text": [
            "✅ Extracted: IISC00IND_R_20223650000_01D_30S_MO.crx.gz ➔ IISC00IND_R_20223650000_01D_30S_MO.crx\n",
            "✅ Extracted: IISC00IND_R_20223440000_01D_30S_MO.crx.gz ➔ IISC00IND_R_20223440000_01D_30S_MO.crx\n",
            "✅ Extracted: IISC00IND_R_20223490000_01D_30S_MO.crx.gz ➔ IISC00IND_R_20223490000_01D_30S_MO.crx\n"
          ]
        },
        {
          "output_type": "stream",
          "name": "stderr",
          "text": [
            "Extracting 2022/12Dec:  31%|███       | 9/29 [00:01<00:02,  8.97it/s]"
          ]
        },
        {
          "output_type": "stream",
          "name": "stdout",
          "text": [
            "✅ Extracted: IISC00IND_R_20223370000_01D_30S_MO.crx.gz ➔ IISC00IND_R_20223370000_01D_30S_MO.crx\n",
            "✅ Extracted: IISC00IND_R_20223580000_01D_30S_MO.crx.gz ➔ IISC00IND_R_20223580000_01D_30S_MO.crx\n",
            "✅ Extracted: IISC00IND_R_20223620000_01D_30S_MO.crx.gz ➔ IISC00IND_R_20223620000_01D_30S_MO.crx\n"
          ]
        },
        {
          "output_type": "stream",
          "name": "stderr",
          "text": [
            "Extracting 2022/12Dec:  41%|████▏     | 12/29 [00:01<00:01,  9.36it/s]"
          ]
        },
        {
          "output_type": "stream",
          "name": "stdout",
          "text": [
            "✅ Extracted: IISC00IND_R_20223600000_01D_30S_MO.crx.gz ➔ IISC00IND_R_20223600000_01D_30S_MO.crx\n",
            "✅ Extracted: IISC00IND_R_20223460000_01D_30S_MO.crx.gz ➔ IISC00IND_R_20223460000_01D_30S_MO.crx\n"
          ]
        },
        {
          "output_type": "stream",
          "name": "stderr",
          "text": [
            "Extracting 2022/12Dec:  48%|████▊     | 14/29 [00:01<00:01,  7.75it/s]"
          ]
        },
        {
          "output_type": "stream",
          "name": "stdout",
          "text": [
            "✅ Extracted: IISC00IND_R_20223540000_01D_30S_MO.crx.gz ➔ IISC00IND_R_20223540000_01D_30S_MO.crx\n",
            "✅ Extracted: IISC00IND_R_20223400000_01D_30S_MO.crx.gz ➔ IISC00IND_R_20223400000_01D_30S_MO.crx\n"
          ]
        },
        {
          "output_type": "stream",
          "name": "stderr",
          "text": [
            "\rExtracting 2022/12Dec:  55%|█████▌    | 16/29 [00:02<00:01,  8.97it/s]"
          ]
        },
        {
          "output_type": "stream",
          "name": "stdout",
          "text": [
            "✅ Extracted: IISC00IND_R_20223390000_01D_30S_MO.crx.gz ➔ IISC00IND_R_20223390000_01D_30S_MO.crx\n",
            "✅ Extracted: IISC00IND_R_20223640000_01D_30S_MO.crx.gz ➔ IISC00IND_R_20223640000_01D_30S_MO.crx\n",
            "✅ Extracted: IISC00IND_R_20223630000_01D_30S_MO.crx.gz ➔ IISC00IND_R_20223630000_01D_30S_MO.crx\n"
          ]
        },
        {
          "output_type": "stream",
          "name": "stderr",
          "text": [
            "Extracting 2022/12Dec:  69%|██████▉   | 20/29 [00:02<00:00, 10.13it/s]"
          ]
        },
        {
          "output_type": "stream",
          "name": "stdout",
          "text": [
            "✅ Extracted: IISC00IND_R_20223470000_01D_30S_MO.crx.gz ➔ IISC00IND_R_20223470000_01D_30S_MO.crx\n",
            "✅ Extracted: IISC00IND_R_20223420000_01D_30S_MO.crx.gz ➔ IISC00IND_R_20223420000_01D_30S_MO.crx\n",
            "✅ Extracted: IISC00IND_R_20223550000_01D_30S_MO.crx.gz ➔ IISC00IND_R_20223550000_01D_30S_MO.crx\n"
          ]
        },
        {
          "output_type": "stream",
          "name": "stderr",
          "text": [
            "\rExtracting 2022/12Dec:  76%|███████▌  | 22/29 [00:02<00:00,  9.80it/s]"
          ]
        },
        {
          "output_type": "stream",
          "name": "stdout",
          "text": [
            "✅ Extracted: IISC00IND_R_20223610000_01D_30S_MO.crx.gz ➔ IISC00IND_R_20223610000_01D_30S_MO.crx\n",
            "✅ Extracted: IISC00IND_R_20223590000_01D_30S_MO.crx.gz ➔ IISC00IND_R_20223590000_01D_30S_MO.crx\n",
            "✅ Extracted: IISC00IND_R_20223530000_01D_30S_MO.crx.gz ➔ IISC00IND_R_20223530000_01D_30S_MO.crx\n"
          ]
        },
        {
          "output_type": "stream",
          "name": "stderr",
          "text": [
            "Extracting 2022/12Dec:  90%|████████▉ | 26/29 [00:02<00:00, 10.10it/s]"
          ]
        },
        {
          "output_type": "stream",
          "name": "stdout",
          "text": [
            "✅ Extracted: IISC00IND_R_20223450000_01D_30S_MO.crx.gz ➔ IISC00IND_R_20223450000_01D_30S_MO.crx\n",
            "✅ Extracted: IISC00IND_R_20223350000_01D_30S_MO.crx.gz ➔ IISC00IND_R_20223350000_01D_30S_MO.crx\n",
            "✅ Extracted: IISC00IND_R_20223510000_01D_30S_MO.crx.gz ➔ IISC00IND_R_20223510000_01D_30S_MO.crx\n"
          ]
        },
        {
          "output_type": "stream",
          "name": "stderr",
          "text": [
            "Extracting 2022/12Dec: 100%|██████████| 29/29 [00:03<00:00,  8.87it/s]\n"
          ]
        },
        {
          "output_type": "stream",
          "name": "stdout",
          "text": [
            "✅ Extracted: IISC00IND_R_20223360000_01D_30S_MO.crx.gz ➔ IISC00IND_R_20223360000_01D_30S_MO.crx\n",
            "✅ Extracted: IISC00IND_R_20223520000_01D_30S_MO.crx.gz ➔ IISC00IND_R_20223520000_01D_30S_MO.crx\n",
            "✅ Extracted: IISC00IND_R_20223430000_01D_30S_MO.crx.gz ➔ IISC00IND_R_20223430000_01D_30S_MO.crx\n"
          ]
        },
        {
          "output_type": "stream",
          "name": "stderr",
          "text": [
            "Extracting 2022/02Feb:   7%|▋         | 2/27 [00:00<00:02,  9.75it/s]"
          ]
        },
        {
          "output_type": "stream",
          "name": "stdout",
          "text": [
            "✅ Extracted: IISC00IND_R_20220370000_01D_30S_MO.crx.gz ➔ IISC00IND_R_20220370000_01D_30S_MO.crx\n",
            "✅ Extracted: IISC00IND_R_20220530000_01D_30S_MO.crx.gz ➔ IISC00IND_R_20220530000_01D_30S_MO.crx\n"
          ]
        },
        {
          "output_type": "stream",
          "name": "stderr",
          "text": [
            "Extracting 2022/02Feb:  15%|█▍        | 4/27 [00:00<00:02,  9.14it/s]"
          ]
        },
        {
          "output_type": "stream",
          "name": "stdout",
          "text": [
            "✅ Extracted: IISC00IND_R_20220430000_01D_30S_MO.crx.gz ➔ IISC00IND_R_20220430000_01D_30S_MO.crx\n",
            "✅ Extracted: IISC00IND_R_20220470000_01D_30S_MO.crx.gz ➔ IISC00IND_R_20220470000_01D_30S_MO.crx\n"
          ]
        },
        {
          "output_type": "stream",
          "name": "stderr",
          "text": [
            "Extracting 2022/02Feb:  22%|██▏       | 6/27 [00:00<00:02,  7.55it/s]"
          ]
        },
        {
          "output_type": "stream",
          "name": "stdout",
          "text": [
            "✅ Extracted: IISC00IND_R_20220460000_01D_30S_MO.crx.gz ➔ IISC00IND_R_20220460000_01D_30S_MO.crx\n",
            "✅ Extracted: IISC00IND_R_20220540000_01D_30S_MO.crx.gz ➔ IISC00IND_R_20220540000_01D_30S_MO.crx\n"
          ]
        },
        {
          "output_type": "stream",
          "name": "stderr",
          "text": [
            "Extracting 2022/02Feb:  30%|██▉       | 8/27 [00:00<00:02,  8.33it/s]"
          ]
        },
        {
          "output_type": "stream",
          "name": "stdout",
          "text": [
            "✅ Extracted: IISC00IND_R_20220420000_01D_30S_MO.crx.gz ➔ IISC00IND_R_20220420000_01D_30S_MO.crx\n",
            "✅ Extracted: IISC00IND_R_20220490000_01D_30S_MO.crx.gz ➔ IISC00IND_R_20220490000_01D_30S_MO.crx\n"
          ]
        },
        {
          "output_type": "stream",
          "name": "stderr",
          "text": [
            "Extracting 2022/02Feb:  37%|███▋      | 10/27 [00:01<00:02,  8.07it/s]"
          ]
        },
        {
          "output_type": "stream",
          "name": "stdout",
          "text": [
            "✅ Extracted: IISC00IND_R_20220450000_01D_30S_MO.crx.gz ➔ IISC00IND_R_20220450000_01D_30S_MO.crx\n",
            "✅ Extracted: IISC00IND_R_20220410000_01D_30S_MO.crx.gz ➔ IISC00IND_R_20220410000_01D_30S_MO.crx\n"
          ]
        },
        {
          "output_type": "stream",
          "name": "stderr",
          "text": [
            "Extracting 2022/02Feb:  44%|████▍     | 12/27 [00:01<00:01,  8.06it/s]"
          ]
        },
        {
          "output_type": "stream",
          "name": "stdout",
          "text": [
            "✅ Extracted: IISC00IND_R_20220380000_01D_30S_MO.crx.gz ➔ IISC00IND_R_20220380000_01D_30S_MO.crx\n",
            "✅ Extracted: IISC00IND_R_20220520000_01D_30S_MO.crx.gz ➔ IISC00IND_R_20220520000_01D_30S_MO.crx\n"
          ]
        },
        {
          "output_type": "stream",
          "name": "stderr",
          "text": [
            "Extracting 2022/02Feb:  52%|█████▏    | 14/27 [00:01<00:01,  7.66it/s]"
          ]
        },
        {
          "output_type": "stream",
          "name": "stdout",
          "text": [
            "✅ Extracted: IISC00IND_R_20220330000_01D_30S_MO.crx.gz ➔ IISC00IND_R_20220330000_01D_30S_MO.crx\n",
            "✅ Extracted: IISC00IND_R_20220560000_01D_30S_MO.crx.gz ➔ IISC00IND_R_20220560000_01D_30S_MO.crx\n"
          ]
        },
        {
          "output_type": "stream",
          "name": "stderr",
          "text": [
            "Extracting 2022/02Feb:  59%|█████▉    | 16/27 [00:02<00:01,  7.71it/s]"
          ]
        },
        {
          "output_type": "stream",
          "name": "stdout",
          "text": [
            "✅ Extracted: IISC00IND_R_20220360000_01D_30S_MO.crx.gz ➔ IISC00IND_R_20220360000_01D_30S_MO.crx\n",
            "✅ Extracted: IISC00IND_R_20220350000_01D_30S_MO.crx.gz ➔ IISC00IND_R_20220350000_01D_30S_MO.crx\n"
          ]
        },
        {
          "output_type": "stream",
          "name": "stderr",
          "text": [
            "Extracting 2022/02Feb:  67%|██████▋   | 18/27 [00:02<00:01,  7.63it/s]"
          ]
        },
        {
          "output_type": "stream",
          "name": "stdout",
          "text": [
            "✅ Extracted: IISC00IND_R_20220510000_01D_30S_MO.crx.gz ➔ IISC00IND_R_20220510000_01D_30S_MO.crx\n",
            "✅ Extracted: IISC00IND_R_20220390000_01D_30S_MO.crx.gz ➔ IISC00IND_R_20220390000_01D_30S_MO.crx\n"
          ]
        },
        {
          "output_type": "stream",
          "name": "stderr",
          "text": [
            "Extracting 2022/02Feb:  74%|███████▍  | 20/27 [00:02<00:01,  6.73it/s]"
          ]
        },
        {
          "output_type": "stream",
          "name": "stdout",
          "text": [
            "✅ Extracted: IISC00IND_R_20220320000_01D_30S_MO.crx.gz ➔ IISC00IND_R_20220320000_01D_30S_MO.crx\n",
            "✅ Extracted: IISC00IND_R_20220570000_01D_30S_MO.crx.gz ➔ IISC00IND_R_20220570000_01D_30S_MO.crx\n"
          ]
        },
        {
          "output_type": "stream",
          "name": "stderr",
          "text": [
            "Extracting 2022/02Feb:  81%|████████▏ | 22/27 [00:02<00:00,  6.03it/s]"
          ]
        },
        {
          "output_type": "stream",
          "name": "stdout",
          "text": [
            "✅ Extracted: IISC00IND_R_20220400000_01D_30S_MO.crx.gz ➔ IISC00IND_R_20220400000_01D_30S_MO.crx\n",
            "✅ Extracted: IISC00IND_R_20220480000_01D_30S_MO.crx.gz ➔ IISC00IND_R_20220480000_01D_30S_MO.crx\n"
          ]
        },
        {
          "output_type": "stream",
          "name": "stderr",
          "text": [
            "Extracting 2022/02Feb:  89%|████████▉ | 24/27 [00:03<00:00,  6.80it/s]"
          ]
        },
        {
          "output_type": "stream",
          "name": "stdout",
          "text": [
            "✅ Extracted: IISC00IND_R_20220580000_01D_30S_MO.crx.gz ➔ IISC00IND_R_20220580000_01D_30S_MO.crx\n",
            "✅ Extracted: IISC00IND_R_20220500000_01D_30S_MO.crx.gz ➔ IISC00IND_R_20220500000_01D_30S_MO.crx\n"
          ]
        },
        {
          "output_type": "stream",
          "name": "stderr",
          "text": [
            "Extracting 2022/02Feb:  96%|█████████▋| 26/27 [00:03<00:00,  7.39it/s]"
          ]
        },
        {
          "output_type": "stream",
          "name": "stdout",
          "text": [
            "✅ Extracted: IISC00IND_R_20220590000_01D_30S_MO.crx.gz ➔ IISC00IND_R_20220590000_01D_30S_MO.crx\n",
            "✅ Extracted: IISC00IND_R_20220340000_01D_30S_MO.crx.gz ➔ IISC00IND_R_20220340000_01D_30S_MO.crx\n"
          ]
        },
        {
          "output_type": "stream",
          "name": "stderr",
          "text": [
            "Extracting 2022/02Feb: 100%|██████████| 27/27 [00:03<00:00,  7.43it/s]\n"
          ]
        },
        {
          "output_type": "stream",
          "name": "stdout",
          "text": [
            "✅ Extracted: IISC00IND_R_20220550000_01D_30S_MO.crx.gz ➔ IISC00IND_R_20220550000_01D_30S_MO.crx\n"
          ]
        },
        {
          "output_type": "stream",
          "name": "stderr",
          "text": [
            "Extracting 2023/03Mar:   3%|▎         | 1/31 [00:00<00:03,  8.63it/s]"
          ]
        },
        {
          "output_type": "stream",
          "name": "stdout",
          "text": [
            "✅ Extracted: IISC00IND_R_20230730000_01D_30S_MO.crx.gz ➔ IISC00IND_R_20230730000_01D_30S_MO.crx\n"
          ]
        },
        {
          "output_type": "stream",
          "name": "stderr",
          "text": [
            "\rExtracting 2023/03Mar:   6%|▋         | 2/31 [00:00<00:03,  8.48it/s]"
          ]
        },
        {
          "output_type": "stream",
          "name": "stdout",
          "text": [
            "✅ Extracted: IISC00IND_R_20230750000_01D_30S_MO.crx.gz ➔ IISC00IND_R_20230750000_01D_30S_MO.crx\n"
          ]
        },
        {
          "output_type": "stream",
          "name": "stderr",
          "text": [
            "\rExtracting 2023/03Mar:  10%|▉         | 3/31 [00:00<00:03,  8.44it/s]"
          ]
        },
        {
          "output_type": "stream",
          "name": "stdout",
          "text": [
            "✅ Extracted: IISC00IND_R_20230720000_01D_30S_MO.crx.gz ➔ IISC00IND_R_20230720000_01D_30S_MO.crx\n"
          ]
        },
        {
          "output_type": "stream",
          "name": "stderr",
          "text": [
            "\rExtracting 2023/03Mar:  13%|█▎        | 4/31 [00:00<00:03,  8.92it/s]"
          ]
        },
        {
          "output_type": "stream",
          "name": "stdout",
          "text": [
            "✅ Extracted: IISC00IND_R_20230670000_01D_30S_MO.crx.gz ➔ IISC00IND_R_20230670000_01D_30S_MO.crx\n"
          ]
        },
        {
          "output_type": "stream",
          "name": "stderr",
          "text": [
            "\rExtracting 2023/03Mar:  16%|█▌        | 5/31 [00:00<00:02,  9.12it/s]"
          ]
        },
        {
          "output_type": "stream",
          "name": "stdout",
          "text": [
            "✅ Extracted: IISC00IND_R_20230660000_01D_30S_MO.crx.gz ➔ IISC00IND_R_20230660000_01D_30S_MO.crx\n"
          ]
        },
        {
          "output_type": "stream",
          "name": "stderr",
          "text": [
            "\rExtracting 2023/03Mar:  19%|█▉        | 6/31 [00:00<00:03,  7.86it/s]"
          ]
        },
        {
          "output_type": "stream",
          "name": "stdout",
          "text": [
            "✅ Extracted: IISC00IND_R_20230870000_01D_30S_MO.crx.gz ➔ IISC00IND_R_20230870000_01D_30S_MO.crx\n"
          ]
        },
        {
          "output_type": "stream",
          "name": "stderr",
          "text": [
            "\rExtracting 2023/03Mar:  23%|██▎       | 7/31 [00:00<00:03,  7.71it/s]"
          ]
        },
        {
          "output_type": "stream",
          "name": "stdout",
          "text": [
            "✅ Extracted: IISC00IND_R_20230650000_01D_30S_MO.crx.gz ➔ IISC00IND_R_20230650000_01D_30S_MO.crx\n"
          ]
        },
        {
          "output_type": "stream",
          "name": "stderr",
          "text": [
            "\rExtracting 2023/03Mar:  26%|██▌       | 8/31 [00:00<00:02,  7.71it/s]"
          ]
        },
        {
          "output_type": "stream",
          "name": "stdout",
          "text": [
            "✅ Extracted: IISC00IND_R_20230860000_01D_30S_MO.crx.gz ➔ IISC00IND_R_20230860000_01D_30S_MO.crx\n"
          ]
        },
        {
          "output_type": "stream",
          "name": "stderr",
          "text": [
            "\rExtracting 2023/03Mar:  29%|██▉       | 9/31 [00:01<00:02,  7.49it/s]"
          ]
        },
        {
          "output_type": "stream",
          "name": "stdout",
          "text": [
            "✅ Extracted: IISC00IND_R_20230740000_01D_30S_MO.crx.gz ➔ IISC00IND_R_20230740000_01D_30S_MO.crx\n"
          ]
        },
        {
          "output_type": "stream",
          "name": "stderr",
          "text": [
            "\rExtracting 2023/03Mar:  32%|███▏      | 10/31 [00:01<00:02,  7.63it/s]"
          ]
        },
        {
          "output_type": "stream",
          "name": "stdout",
          "text": [
            "✅ Extracted: IISC00IND_R_20230770000_01D_30S_MO.crx.gz ➔ IISC00IND_R_20230770000_01D_30S_MO.crx\n"
          ]
        },
        {
          "output_type": "stream",
          "name": "stderr",
          "text": [
            "\rExtracting 2023/03Mar:  35%|███▌      | 11/31 [00:01<00:02,  7.92it/s]"
          ]
        },
        {
          "output_type": "stream",
          "name": "stdout",
          "text": [
            "✅ Extracted: IISC00IND_R_20230890000_01D_30S_MO.crx.gz ➔ IISC00IND_R_20230890000_01D_30S_MO.crx\n"
          ]
        },
        {
          "output_type": "stream",
          "name": "stderr",
          "text": [
            "Extracting 2023/03Mar:  42%|████▏     | 13/31 [00:01<00:02,  6.18it/s]"
          ]
        },
        {
          "output_type": "stream",
          "name": "stdout",
          "text": [
            "✅ Extracted: IISC00IND_R_20230630000_01D_30S_MO.crx.gz ➔ IISC00IND_R_20230630000_01D_30S_MO.crx\n",
            "✅ Extracted: IISC00IND_R_20230840000_01D_30S_MO.crx.gz ➔ IISC00IND_R_20230840000_01D_30S_MO.crx\n"
          ]
        },
        {
          "output_type": "stream",
          "name": "stderr",
          "text": [
            "Extracting 2023/03Mar:  48%|████▊     | 15/31 [00:02<00:02,  6.21it/s]"
          ]
        },
        {
          "output_type": "stream",
          "name": "stdout",
          "text": [
            "✅ Extracted: IISC00IND_R_20230700000_01D_30S_MO.crx.gz ➔ IISC00IND_R_20230700000_01D_30S_MO.crx\n",
            "✅ Extracted: IISC00IND_R_20230810000_01D_30S_MO.crx.gz ➔ IISC00IND_R_20230810000_01D_30S_MO.crx\n"
          ]
        },
        {
          "output_type": "stream",
          "name": "stderr",
          "text": [
            "Extracting 2023/03Mar:  55%|█████▍    | 17/31 [00:02<00:02,  6.40it/s]"
          ]
        },
        {
          "output_type": "stream",
          "name": "stdout",
          "text": [
            "✅ Extracted: IISC00IND_R_20230820000_01D_30S_MO.crx.gz ➔ IISC00IND_R_20230820000_01D_30S_MO.crx\n",
            "✅ Extracted: IISC00IND_R_20230690000_01D_30S_MO.crx.gz ➔ IISC00IND_R_20230690000_01D_30S_MO.crx\n"
          ]
        },
        {
          "output_type": "stream",
          "name": "stderr",
          "text": [
            "Extracting 2023/03Mar:  61%|██████▏   | 19/31 [00:02<00:01,  6.33it/s]"
          ]
        },
        {
          "output_type": "stream",
          "name": "stdout",
          "text": [
            "✅ Extracted: IISC00IND_R_20230600000_01D_30S_MO.crx.gz ➔ IISC00IND_R_20230600000_01D_30S_MO.crx\n",
            "✅ Extracted: IISC00IND_R_20230780000_01D_30S_MO.crx.gz ➔ IISC00IND_R_20230780000_01D_30S_MO.crx\n"
          ]
        },
        {
          "output_type": "stream",
          "name": "stderr",
          "text": [
            "Extracting 2023/03Mar:  68%|██████▊   | 21/31 [00:03<00:01,  6.69it/s]"
          ]
        },
        {
          "output_type": "stream",
          "name": "stdout",
          "text": [
            "✅ Extracted: IISC00IND_R_20230680000_01D_30S_MO.crx.gz ➔ IISC00IND_R_20230680000_01D_30S_MO.crx\n",
            "✅ Extracted: IISC00IND_R_20230880000_01D_30S_MO.crx.gz ➔ IISC00IND_R_20230880000_01D_30S_MO.crx\n"
          ]
        },
        {
          "output_type": "stream",
          "name": "stderr",
          "text": [
            "Extracting 2023/03Mar:  74%|███████▍  | 23/31 [00:03<00:01,  7.03it/s]"
          ]
        },
        {
          "output_type": "stream",
          "name": "stdout",
          "text": [
            "✅ Extracted: IISC00IND_R_20230830000_01D_30S_MO.crx.gz ➔ IISC00IND_R_20230830000_01D_30S_MO.crx\n",
            "✅ Extracted: IISC00IND_R_20230610000_01D_30S_MO.crx.gz ➔ IISC00IND_R_20230610000_01D_30S_MO.crx\n"
          ]
        },
        {
          "output_type": "stream",
          "name": "stderr",
          "text": [
            "\rExtracting 2023/03Mar:  77%|███████▋  | 24/31 [00:03<00:01,  6.31it/s]"
          ]
        },
        {
          "output_type": "stream",
          "name": "stdout",
          "text": [
            "✅ Extracted: IISC00IND_R_20230620000_01D_30S_MO.crx.gz ➔ IISC00IND_R_20230620000_01D_30S_MO.crx\n"
          ]
        },
        {
          "output_type": "stream",
          "name": "stderr",
          "text": [
            "Extracting 2023/03Mar:  84%|████████▍ | 26/31 [00:03<00:00,  5.45it/s]"
          ]
        },
        {
          "output_type": "stream",
          "name": "stdout",
          "text": [
            "✅ Extracted: IISC00IND_R_20230900000_01D_30S_MO.crx.gz ➔ IISC00IND_R_20230900000_01D_30S_MO.crx\n",
            "✅ Extracted: IISC00IND_R_20230790000_01D_30S_MO.crx.gz ➔ IISC00IND_R_20230790000_01D_30S_MO.crx\n"
          ]
        },
        {
          "output_type": "stream",
          "name": "stderr",
          "text": [
            "Extracting 2023/03Mar:  90%|█████████ | 28/31 [00:04<00:00,  5.69it/s]"
          ]
        },
        {
          "output_type": "stream",
          "name": "stdout",
          "text": [
            "✅ Extracted: IISC00IND_R_20230760000_01D_30S_MO.crx.gz ➔ IISC00IND_R_20230760000_01D_30S_MO.crx\n",
            "✅ Extracted: IISC00IND_R_20230640000_01D_30S_MO.crx.gz ➔ IISC00IND_R_20230640000_01D_30S_MO.crx\n"
          ]
        },
        {
          "output_type": "stream",
          "name": "stderr",
          "text": [
            "Extracting 2023/03Mar:  97%|█████████▋| 30/31 [00:04<00:00,  5.62it/s]"
          ]
        },
        {
          "output_type": "stream",
          "name": "stdout",
          "text": [
            "✅ Extracted: IISC00IND_R_20230710000_01D_30S_MO.crx.gz ➔ IISC00IND_R_20230710000_01D_30S_MO.crx\n",
            "✅ Extracted: IISC00IND_R_20230850000_01D_30S_MO.crx.gz ➔ IISC00IND_R_20230850000_01D_30S_MO.crx\n"
          ]
        },
        {
          "output_type": "stream",
          "name": "stderr",
          "text": [
            "Extracting 2023/03Mar: 100%|██████████| 31/31 [00:04<00:00,  6.47it/s]\n"
          ]
        },
        {
          "output_type": "stream",
          "name": "stdout",
          "text": [
            "✅ Extracted: IISC00IND_R_20230800000_01D_30S_MO.crx.gz ➔ IISC00IND_R_20230800000_01D_30S_MO.crx\n"
          ]
        },
        {
          "output_type": "stream",
          "name": "stderr",
          "text": [
            "Extracting 2023/04Apr:   3%|▎         | 1/30 [00:00<00:04,  7.18it/s]"
          ]
        },
        {
          "output_type": "stream",
          "name": "stdout",
          "text": [
            "✅ Extracted: IISC00IND_R_20231150000_01D_30S_MO.crx.gz ➔ IISC00IND_R_20231150000_01D_30S_MO.crx\n"
          ]
        },
        {
          "output_type": "stream",
          "name": "stderr",
          "text": [
            "\rExtracting 2023/04Apr:   7%|▋         | 2/30 [00:00<00:04,  6.85it/s]"
          ]
        },
        {
          "output_type": "stream",
          "name": "stdout",
          "text": [
            "✅ Extracted: IISC00IND_R_20231180000_01D_30S_MO.crx.gz ➔ IISC00IND_R_20231180000_01D_30S_MO.crx\n"
          ]
        },
        {
          "output_type": "stream",
          "name": "stderr",
          "text": [
            "\rExtracting 2023/04Apr:  10%|█         | 3/30 [00:00<00:03,  7.29it/s]"
          ]
        },
        {
          "output_type": "stream",
          "name": "stdout",
          "text": [
            "✅ Extracted: IISC00IND_R_20231100000_01D_30S_MO.crx.gz ➔ IISC00IND_R_20231100000_01D_30S_MO.crx\n"
          ]
        },
        {
          "output_type": "stream",
          "name": "stderr",
          "text": [
            "\rExtracting 2023/04Apr:  13%|█▎        | 4/30 [00:00<00:03,  7.87it/s]"
          ]
        },
        {
          "output_type": "stream",
          "name": "stdout",
          "text": [
            "✅ Extracted: IISC00IND_R_20231140000_01D_30S_MO.crx.gz ➔ IISC00IND_R_20231140000_01D_30S_MO.crx\n"
          ]
        },
        {
          "output_type": "stream",
          "name": "stderr",
          "text": [
            "\rExtracting 2023/04Apr:  17%|█▋        | 5/30 [00:00<00:03,  8.22it/s]"
          ]
        },
        {
          "output_type": "stream",
          "name": "stdout",
          "text": [
            "✅ Extracted: IISC00IND_R_20231030000_01D_30S_MO.crx.gz ➔ IISC00IND_R_20231030000_01D_30S_MO.crx\n"
          ]
        },
        {
          "output_type": "stream",
          "name": "stderr",
          "text": [
            "\rExtracting 2023/04Apr:  20%|██        | 6/30 [00:00<00:02,  8.59it/s]"
          ]
        },
        {
          "output_type": "stream",
          "name": "stdout",
          "text": [
            "✅ Extracted: IISC00IND_R_20231090000_01D_30S_MO.crx.gz ➔ IISC00IND_R_20231090000_01D_30S_MO.crx\n"
          ]
        },
        {
          "output_type": "stream",
          "name": "stderr",
          "text": [
            "\rExtracting 2023/04Apr:  23%|██▎       | 7/30 [00:00<00:02,  8.79it/s]"
          ]
        },
        {
          "output_type": "stream",
          "name": "stdout",
          "text": [
            "✅ Extracted: IISC00IND_R_20231050000_01D_30S_MO.crx.gz ➔ IISC00IND_R_20231050000_01D_30S_MO.crx\n"
          ]
        },
        {
          "output_type": "stream",
          "name": "stderr",
          "text": [
            "\rExtracting 2023/04Apr:  27%|██▋       | 8/30 [00:00<00:02,  9.00it/s]"
          ]
        },
        {
          "output_type": "stream",
          "name": "stdout",
          "text": [
            "✅ Extracted: IISC00IND_R_20231190000_01D_30S_MO.crx.gz ➔ IISC00IND_R_20231190000_01D_30S_MO.crx\n"
          ]
        },
        {
          "output_type": "stream",
          "name": "stderr",
          "text": [
            "\rExtracting 2023/04Apr:  30%|███       | 9/30 [00:01<00:02,  8.88it/s]"
          ]
        },
        {
          "output_type": "stream",
          "name": "stdout",
          "text": [
            "✅ Extracted: IISC00IND_R_20231070000_01D_30S_MO.crx.gz ➔ IISC00IND_R_20231070000_01D_30S_MO.crx\n"
          ]
        },
        {
          "output_type": "stream",
          "name": "stderr",
          "text": [
            "\rExtracting 2023/04Apr:  33%|███▎      | 10/30 [00:01<00:02,  8.93it/s]"
          ]
        },
        {
          "output_type": "stream",
          "name": "stdout",
          "text": [
            "✅ Extracted: IISC00IND_R_20230930000_01D_30S_MO.crx.gz ➔ IISC00IND_R_20230930000_01D_30S_MO.crx\n"
          ]
        },
        {
          "output_type": "stream",
          "name": "stderr",
          "text": [
            "\rExtracting 2023/04Apr:  37%|███▋      | 11/30 [00:01<00:02,  7.98it/s]"
          ]
        },
        {
          "output_type": "stream",
          "name": "stdout",
          "text": [
            "✅ Extracted: IISC00IND_R_20231020000_01D_30S_MO.crx.gz ➔ IISC00IND_R_20231020000_01D_30S_MO.crx\n"
          ]
        },
        {
          "output_type": "stream",
          "name": "stderr",
          "text": [
            "\rExtracting 2023/04Apr:  40%|████      | 12/30 [00:01<00:02,  6.92it/s]"
          ]
        },
        {
          "output_type": "stream",
          "name": "stdout",
          "text": [
            "✅ Extracted: IISC00IND_R_20230910000_01D_30S_MO.crx.gz ➔ IISC00IND_R_20230910000_01D_30S_MO.crx\n"
          ]
        },
        {
          "output_type": "stream",
          "name": "stderr",
          "text": [
            "\rExtracting 2023/04Apr:  43%|████▎     | 13/30 [00:01<00:02,  7.43it/s]"
          ]
        },
        {
          "output_type": "stream",
          "name": "stdout",
          "text": [
            "✅ Extracted: IISC00IND_R_20230950000_01D_30S_MO.crx.gz ➔ IISC00IND_R_20230950000_01D_30S_MO.crx\n"
          ]
        },
        {
          "output_type": "stream",
          "name": "stderr",
          "text": [
            "\rExtracting 2023/04Apr:  47%|████▋     | 14/30 [00:01<00:02,  7.80it/s]"
          ]
        },
        {
          "output_type": "stream",
          "name": "stdout",
          "text": [
            "✅ Extracted: IISC00IND_R_20230940000_01D_30S_MO.crx.gz ➔ IISC00IND_R_20230940000_01D_30S_MO.crx\n"
          ]
        },
        {
          "output_type": "stream",
          "name": "stderr",
          "text": [
            "\rExtracting 2023/04Apr:  50%|█████     | 15/30 [00:01<00:01,  8.03it/s]"
          ]
        },
        {
          "output_type": "stream",
          "name": "stdout",
          "text": [
            "✅ Extracted: IISC00IND_R_20231080000_01D_30S_MO.crx.gz ➔ IISC00IND_R_20231080000_01D_30S_MO.crx\n"
          ]
        },
        {
          "output_type": "stream",
          "name": "stderr",
          "text": [
            "\rExtracting 2023/04Apr:  53%|█████▎    | 16/30 [00:01<00:01,  8.28it/s]"
          ]
        },
        {
          "output_type": "stream",
          "name": "stdout",
          "text": [
            "✅ Extracted: IISC00IND_R_20230960000_01D_30S_MO.crx.gz ➔ IISC00IND_R_20230960000_01D_30S_MO.crx\n"
          ]
        },
        {
          "output_type": "stream",
          "name": "stderr",
          "text": [
            "\rExtracting 2023/04Apr:  57%|█████▋    | 17/30 [00:02<00:01,  8.51it/s]"
          ]
        },
        {
          "output_type": "stream",
          "name": "stdout",
          "text": [
            "✅ Extracted: IISC00IND_R_20230920000_01D_30S_MO.crx.gz ➔ IISC00IND_R_20230920000_01D_30S_MO.crx\n"
          ]
        },
        {
          "output_type": "stream",
          "name": "stderr",
          "text": [
            "\rExtracting 2023/04Apr:  60%|██████    | 18/30 [00:02<00:01,  8.65it/s]"
          ]
        },
        {
          "output_type": "stream",
          "name": "stdout",
          "text": [
            "✅ Extracted: IISC00IND_R_20231130000_01D_30S_MO.crx.gz ➔ IISC00IND_R_20231130000_01D_30S_MO.crx\n"
          ]
        },
        {
          "output_type": "stream",
          "name": "stderr",
          "text": [
            "\rExtracting 2023/04Apr:  63%|██████▎   | 19/30 [00:02<00:01,  8.64it/s]"
          ]
        },
        {
          "output_type": "stream",
          "name": "stdout",
          "text": [
            "✅ Extracted: IISC00IND_R_20230990000_01D_30S_MO.crx.gz ➔ IISC00IND_R_20230990000_01D_30S_MO.crx\n"
          ]
        },
        {
          "output_type": "stream",
          "name": "stderr",
          "text": [
            "\rExtracting 2023/04Apr:  67%|██████▋   | 20/30 [00:02<00:01,  8.81it/s]"
          ]
        },
        {
          "output_type": "stream",
          "name": "stdout",
          "text": [
            "✅ Extracted: IISC00IND_R_20231160000_01D_30S_MO.crx.gz ➔ IISC00IND_R_20231160000_01D_30S_MO.crx\n"
          ]
        },
        {
          "output_type": "stream",
          "name": "stderr",
          "text": [
            "\rExtracting 2023/04Apr:  70%|███████   | 21/30 [00:02<00:01,  8.85it/s]"
          ]
        },
        {
          "output_type": "stream",
          "name": "stdout",
          "text": [
            "✅ Extracted: IISC00IND_R_20231040000_01D_30S_MO.crx.gz ➔ IISC00IND_R_20231040000_01D_30S_MO.crx\n"
          ]
        },
        {
          "output_type": "stream",
          "name": "stderr",
          "text": [
            "\rExtracting 2023/04Apr:  73%|███████▎  | 22/30 [00:02<00:00,  8.90it/s]"
          ]
        },
        {
          "output_type": "stream",
          "name": "stdout",
          "text": [
            "✅ Extracted: IISC00IND_R_20230970000_01D_30S_MO.crx.gz ➔ IISC00IND_R_20230970000_01D_30S_MO.crx\n"
          ]
        },
        {
          "output_type": "stream",
          "name": "stderr",
          "text": [
            "Extracting 2023/04Apr:  80%|████████  | 24/30 [00:03<00:01,  3.90it/s]"
          ]
        },
        {
          "output_type": "stream",
          "name": "stdout",
          "text": [
            "✅ Extracted: IISC00IND_R_20231060000_01D_30S_MO.crx.gz ➔ IISC00IND_R_20231060000_01D_30S_MO.crx\n",
            "✅ Extracted: IISC00IND_R_20231200000_01D_30S_MO.crx.gz ➔ IISC00IND_R_20231200000_01D_30S_MO.crx\n"
          ]
        },
        {
          "output_type": "stream",
          "name": "stderr",
          "text": [
            "Extracting 2023/04Apr:  87%|████████▋ | 26/30 [00:03<00:00,  5.28it/s]"
          ]
        },
        {
          "output_type": "stream",
          "name": "stdout",
          "text": [
            "✅ Extracted: IISC00IND_R_20231000000_01D_30S_MO.crx.gz ➔ IISC00IND_R_20231000000_01D_30S_MO.crx\n",
            "✅ Extracted: IISC00IND_R_20230980000_01D_30S_MO.crx.gz ➔ IISC00IND_R_20230980000_01D_30S_MO.crx\n"
          ]
        },
        {
          "output_type": "stream",
          "name": "stderr",
          "text": [
            "Extracting 2023/04Apr:  93%|█████████▎| 28/30 [00:04<00:00,  3.91it/s]"
          ]
        },
        {
          "output_type": "stream",
          "name": "stdout",
          "text": [
            "✅ Extracted: IISC00IND_R_20231010000_01D_30S_MO.crx.gz ➔ IISC00IND_R_20231010000_01D_30S_MO.crx\n",
            "✅ Extracted: IISC00IND_R_20231170000_01D_30S_MO.crx.gz ➔ IISC00IND_R_20231170000_01D_30S_MO.crx\n"
          ]
        },
        {
          "output_type": "stream",
          "name": "stderr",
          "text": [
            "Extracting 2023/04Apr: 100%|██████████| 30/30 [00:04<00:00,  6.31it/s]\n"
          ]
        },
        {
          "output_type": "stream",
          "name": "stdout",
          "text": [
            "✅ Extracted: IISC00IND_R_20231120000_01D_30S_MO.crx.gz ➔ IISC00IND_R_20231120000_01D_30S_MO.crx\n",
            "✅ Extracted: IISC00IND_R_20231110000_01D_30S_MO.crx.gz ➔ IISC00IND_R_20231110000_01D_30S_MO.crx\n"
          ]
        },
        {
          "output_type": "stream",
          "name": "stderr",
          "text": [
            "Extracting 2023/07Jul:  10%|▉         | 3/31 [00:00<00:02,  9.44it/s]"
          ]
        },
        {
          "output_type": "stream",
          "name": "stdout",
          "text": [
            "✅ Extracted: IISC00IND_R_20231990000_01D_30S_MO.crx.gz ➔ IISC00IND_R_20231990000_01D_30S_MO.crx\n",
            "✅ Extracted: IISC00IND_R_20231820000_01D_30S_MO.crx.gz ➔ IISC00IND_R_20231820000_01D_30S_MO.crx\n",
            "✅ Extracted: IISC00IND_R_20232120000_01D_30S_MO.crx.gz ➔ IISC00IND_R_20232120000_01D_30S_MO.crx\n"
          ]
        },
        {
          "output_type": "stream",
          "name": "stderr",
          "text": [
            "\rExtracting 2023/07Jul:  13%|█▎        | 4/31 [00:00<00:02,  9.60it/s]"
          ]
        },
        {
          "output_type": "stream",
          "name": "stdout",
          "text": [
            "✅ Extracted: IISC00IND_R_20232080000_01D_30S_MO.crx.gz ➔ IISC00IND_R_20232080000_01D_30S_MO.crx\n",
            "✅ Extracted: IISC00IND_R_20232040000_01D_30S_MO.crx.gz ➔ IISC00IND_R_20232040000_01D_30S_MO.crx\n"
          ]
        },
        {
          "output_type": "stream",
          "name": "stderr",
          "text": [
            "Extracting 2023/07Jul:  23%|██▎       | 7/31 [00:00<00:02,  9.23it/s]"
          ]
        },
        {
          "output_type": "stream",
          "name": "stdout",
          "text": [
            "✅ Extracted: IISC00IND_R_20231940000_01D_30S_MO.crx.gz ➔ IISC00IND_R_20231940000_01D_30S_MO.crx\n",
            "✅ Extracted: IISC00IND_R_20232110000_01D_30S_MO.crx.gz ➔ IISC00IND_R_20232110000_01D_30S_MO.crx\n"
          ]
        },
        {
          "output_type": "stream",
          "name": "stderr",
          "text": [
            "\rExtracting 2023/07Jul:  26%|██▌       | 8/31 [00:00<00:02,  8.96it/s]"
          ]
        },
        {
          "output_type": "stream",
          "name": "stdout",
          "text": [
            "✅ Extracted: IISC00IND_R_20231930000_01D_30S_MO.crx.gz ➔ IISC00IND_R_20231930000_01D_30S_MO.crx\n",
            "✅ Extracted: IISC00IND_R_20231870000_01D_30S_MO.crx.gz ➔ IISC00IND_R_20231870000_01D_30S_MO.crx\n"
          ]
        },
        {
          "output_type": "stream",
          "name": "stderr",
          "text": [
            "Extracting 2023/07Jul:  39%|███▊      | 12/31 [00:01<00:01,  9.79it/s]"
          ]
        },
        {
          "output_type": "stream",
          "name": "stdout",
          "text": [
            "✅ Extracted: IISC00IND_R_20232060000_01D_30S_MO.crx.gz ➔ IISC00IND_R_20232060000_01D_30S_MO.crx\n",
            "✅ Extracted: IISC00IND_R_20231910000_01D_30S_MO.crx.gz ➔ IISC00IND_R_20231910000_01D_30S_MO.crx\n",
            "✅ Extracted: IISC00IND_R_20231850000_01D_30S_MO.crx.gz ➔ IISC00IND_R_20231850000_01D_30S_MO.crx\n"
          ]
        },
        {
          "output_type": "stream",
          "name": "stderr",
          "text": [
            "\rExtracting 2023/07Jul:  45%|████▌     | 14/31 [00:01<00:01, 10.08it/s]"
          ]
        },
        {
          "output_type": "stream",
          "name": "stdout",
          "text": [
            "✅ Extracted: IISC00IND_R_20231860000_01D_30S_MO.crx.gz ➔ IISC00IND_R_20231860000_01D_30S_MO.crx\n",
            "✅ Extracted: IISC00IND_R_20231950000_01D_30S_MO.crx.gz ➔ IISC00IND_R_20231950000_01D_30S_MO.crx\n",
            "✅ Extracted: IISC00IND_R_20231960000_01D_30S_MO.crx.gz ➔ IISC00IND_R_20231960000_01D_30S_MO.crx\n"
          ]
        },
        {
          "output_type": "stream",
          "name": "stderr",
          "text": [
            "Extracting 2023/07Jul:  58%|█████▊    | 18/31 [00:01<00:01, 10.51it/s]"
          ]
        },
        {
          "output_type": "stream",
          "name": "stdout",
          "text": [
            "✅ Extracted: IISC00IND_R_20231840000_01D_30S_MO.crx.gz ➔ IISC00IND_R_20231840000_01D_30S_MO.crx\n",
            "✅ Extracted: IISC00IND_R_20231900000_01D_30S_MO.crx.gz ➔ IISC00IND_R_20231900000_01D_30S_MO.crx\n",
            "✅ Extracted: IISC00IND_R_20232090000_01D_30S_MO.crx.gz ➔ IISC00IND_R_20232090000_01D_30S_MO.crx\n"
          ]
        },
        {
          "output_type": "stream",
          "name": "stderr",
          "text": [
            "\rExtracting 2023/07Jul:  65%|██████▍   | 20/31 [00:02<00:01,  9.85it/s]"
          ]
        },
        {
          "output_type": "stream",
          "name": "stdout",
          "text": [
            "✅ Extracted: IISC00IND_R_20232100000_01D_30S_MO.crx.gz ➔ IISC00IND_R_20232100000_01D_30S_MO.crx\n",
            "✅ Extracted: IISC00IND_R_20232000000_01D_30S_MO.crx.gz ➔ IISC00IND_R_20232000000_01D_30S_MO.crx\n"
          ]
        },
        {
          "output_type": "stream",
          "name": "stderr",
          "text": [
            "Extracting 2023/07Jul:  74%|███████▍  | 23/31 [00:02<00:00,  9.27it/s]"
          ]
        },
        {
          "output_type": "stream",
          "name": "stdout",
          "text": [
            "✅ Extracted: IISC00IND_R_20231880000_01D_30S_MO.crx.gz ➔ IISC00IND_R_20231880000_01D_30S_MO.crx\n",
            "✅ Extracted: IISC00IND_R_20231920000_01D_30S_MO.crx.gz ➔ IISC00IND_R_20231920000_01D_30S_MO.crx\n",
            "✅ Extracted: IISC00IND_R_20231980000_01D_30S_MO.crx.gz ➔ IISC00IND_R_20231980000_01D_30S_MO.crx\n"
          ]
        },
        {
          "output_type": "stream",
          "name": "stderr",
          "text": [
            "\rExtracting 2023/07Jul:  81%|████████  | 25/31 [00:02<00:00,  9.69it/s]"
          ]
        },
        {
          "output_type": "stream",
          "name": "stdout",
          "text": [
            "✅ Extracted: IISC00IND_R_20232070000_01D_30S_MO.crx.gz ➔ IISC00IND_R_20232070000_01D_30S_MO.crx\n",
            "✅ Extracted: IISC00IND_R_20232020000_01D_30S_MO.crx.gz ➔ IISC00IND_R_20232020000_01D_30S_MO.crx\n",
            "✅ Extracted: IISC00IND_R_20231890000_01D_30S_MO.crx.gz ➔ IISC00IND_R_20231890000_01D_30S_MO.crx\n"
          ]
        },
        {
          "output_type": "stream",
          "name": "stderr",
          "text": [
            "Extracting 2023/07Jul:  94%|█████████▎| 29/31 [00:02<00:00, 10.22it/s]"
          ]
        },
        {
          "output_type": "stream",
          "name": "stdout",
          "text": [
            "✅ Extracted: IISC00IND_R_20232030000_01D_30S_MO.crx.gz ➔ IISC00IND_R_20232030000_01D_30S_MO.crx\n",
            "✅ Extracted: IISC00IND_R_20232050000_01D_30S_MO.crx.gz ➔ IISC00IND_R_20232050000_01D_30S_MO.crx\n",
            "✅ Extracted: IISC00IND_R_20232010000_01D_30S_MO.crx.gz ➔ IISC00IND_R_20232010000_01D_30S_MO.crx\n"
          ]
        },
        {
          "output_type": "stream",
          "name": "stderr",
          "text": [
            "Extracting 2023/07Jul: 100%|██████████| 31/31 [00:03<00:00,  9.78it/s]\n"
          ]
        },
        {
          "output_type": "stream",
          "name": "stdout",
          "text": [
            "✅ Extracted: IISC00IND_R_20231970000_01D_30S_MO.crx.gz ➔ IISC00IND_R_20231970000_01D_30S_MO.crx\n",
            "✅ Extracted: IISC00IND_R_20231830000_01D_30S_MO.crx.gz ➔ IISC00IND_R_20231830000_01D_30S_MO.crx\n"
          ]
        },
        {
          "output_type": "stream",
          "name": "stderr",
          "text": [
            "Extracting 2023/09Sep:   3%|▎         | 1/30 [00:00<00:02,  9.74it/s]"
          ]
        },
        {
          "output_type": "stream",
          "name": "stdout",
          "text": [
            "✅ Extracted: IISC00IND_R_20232560000_01D_30S_MO.crx.gz ➔ IISC00IND_R_20232560000_01D_30S_MO.crx\n"
          ]
        },
        {
          "output_type": "stream",
          "name": "stderr",
          "text": [
            "\rExtracting 2023/09Sep:   7%|▋         | 2/30 [00:00<00:03,  7.18it/s]"
          ]
        },
        {
          "output_type": "stream",
          "name": "stdout",
          "text": [
            "✅ Extracted: IISC00IND_R_20232440000_01D_30S_MO.crx.gz ➔ IISC00IND_R_20232440000_01D_30S_MO.crx\n"
          ]
        },
        {
          "output_type": "stream",
          "name": "stderr",
          "text": [
            "\rExtracting 2023/09Sep:  10%|█         | 3/30 [00:00<00:03,  7.08it/s]"
          ]
        },
        {
          "output_type": "stream",
          "name": "stdout",
          "text": [
            "✅ Extracted: IISC00IND_R_20232650000_01D_30S_MO.crx.gz ➔ IISC00IND_R_20232650000_01D_30S_MO.crx\n"
          ]
        },
        {
          "output_type": "stream",
          "name": "stderr",
          "text": [
            "\rExtracting 2023/09Sep:  13%|█▎        | 4/30 [00:00<00:03,  7.80it/s]"
          ]
        },
        {
          "output_type": "stream",
          "name": "stdout",
          "text": [
            "✅ Extracted: IISC00IND_R_20232710000_01D_30S_MO.crx.gz ➔ IISC00IND_R_20232710000_01D_30S_MO.crx\n"
          ]
        },
        {
          "output_type": "stream",
          "name": "stderr",
          "text": [
            "\rExtracting 2023/09Sep:  17%|█▋        | 5/30 [00:00<00:03,  7.22it/s]"
          ]
        },
        {
          "output_type": "stream",
          "name": "stdout",
          "text": [
            "✅ Extracted: IISC00IND_R_20232610000_01D_30S_MO.crx.gz ➔ IISC00IND_R_20232610000_01D_30S_MO.crx\n",
            "✅ Extracted: IISC00IND_R_20232620000_01D_30S_MO.crx.gz ➔ IISC00IND_R_20232620000_01D_30S_MO.crx\n"
          ]
        },
        {
          "output_type": "stream",
          "name": "stderr",
          "text": [
            "\rExtracting 2023/09Sep:  23%|██▎       | 7/30 [00:00<00:02,  8.06it/s]"
          ]
        },
        {
          "output_type": "stream",
          "name": "stdout",
          "text": [
            "✅ Extracted: IISC00IND_R_20232730000_01D_30S_MO.crx.gz ➔ IISC00IND_R_20232730000_01D_30S_MO.crx\n"
          ]
        },
        {
          "output_type": "stream",
          "name": "stderr",
          "text": [
            "\rExtracting 2023/09Sep:  27%|██▋       | 8/30 [00:01<00:02,  8.31it/s]"
          ]
        },
        {
          "output_type": "stream",
          "name": "stdout",
          "text": [
            "✅ Extracted: IISC00IND_R_20232510000_01D_30S_MO.crx.gz ➔ IISC00IND_R_20232510000_01D_30S_MO.crx\n"
          ]
        },
        {
          "output_type": "stream",
          "name": "stderr",
          "text": [
            "\rExtracting 2023/09Sep:  30%|███       | 9/30 [00:01<00:02,  8.41it/s]"
          ]
        },
        {
          "output_type": "stream",
          "name": "stdout",
          "text": [
            "✅ Extracted: IISC00IND_R_20232490000_01D_30S_MO.crx.gz ➔ IISC00IND_R_20232490000_01D_30S_MO.crx\n"
          ]
        },
        {
          "output_type": "stream",
          "name": "stderr",
          "text": [
            "\rExtracting 2023/09Sep:  37%|███▋      | 11/30 [00:01<00:02,  9.37it/s]"
          ]
        },
        {
          "output_type": "stream",
          "name": "stdout",
          "text": [
            "✅ Extracted: IISC00IND_R_20232660000_01D_30S_MO.crx.gz ➔ IISC00IND_R_20232660000_01D_30S_MO.crx\n",
            "✅ Extracted: IISC00IND_R_20232690000_01D_30S_MO.crx.gz ➔ IISC00IND_R_20232690000_01D_30S_MO.crx\n",
            "✅ Extracted: IISC00IND_R_20232500000_01D_30S_MO.crx.gz ➔ IISC00IND_R_20232500000_01D_30S_MO.crx\n"
          ]
        },
        {
          "output_type": "stream",
          "name": "stderr",
          "text": [
            "\rExtracting 2023/09Sep:  43%|████▎     | 13/30 [00:01<00:01,  9.78it/s]"
          ]
        },
        {
          "output_type": "stream",
          "name": "stdout",
          "text": [
            "✅ Extracted: IISC00IND_R_20232700000_01D_30S_MO.crx.gz ➔ IISC00IND_R_20232700000_01D_30S_MO.crx\n",
            "✅ Extracted: IISC00IND_R_20232550000_01D_30S_MO.crx.gz ➔ IISC00IND_R_20232550000_01D_30S_MO.crx\n"
          ]
        },
        {
          "output_type": "stream",
          "name": "stderr",
          "text": [
            "\rExtracting 2023/09Sep:  50%|█████     | 15/30 [00:01<00:01,  9.92it/s]"
          ]
        },
        {
          "output_type": "stream",
          "name": "stdout",
          "text": [
            "✅ Extracted: IISC00IND_R_20232470000_01D_30S_MO.crx.gz ➔ IISC00IND_R_20232470000_01D_30S_MO.crx\n",
            "✅ Extracted: IISC00IND_R_20232580000_01D_30S_MO.crx.gz ➔ IISC00IND_R_20232580000_01D_30S_MO.crx\n"
          ]
        },
        {
          "output_type": "stream",
          "name": "stderr",
          "text": [
            "Extracting 2023/09Sep:  60%|██████    | 18/30 [00:02<00:01,  8.20it/s]"
          ]
        },
        {
          "output_type": "stream",
          "name": "stdout",
          "text": [
            "✅ Extracted: IISC00IND_R_20232520000_01D_30S_MO.crx.gz ➔ IISC00IND_R_20232520000_01D_30S_MO.crx\n",
            "✅ Extracted: IISC00IND_R_20232540000_01D_30S_MO.crx.gz ➔ IISC00IND_R_20232540000_01D_30S_MO.crx\n"
          ]
        },
        {
          "output_type": "stream",
          "name": "stderr",
          "text": [
            "Extracting 2023/09Sep:  67%|██████▋   | 20/30 [00:02<00:01,  7.70it/s]"
          ]
        },
        {
          "output_type": "stream",
          "name": "stdout",
          "text": [
            "✅ Extracted: IISC00IND_R_20232640000_01D_30S_MO.crx.gz ➔ IISC00IND_R_20232640000_01D_30S_MO.crx\n",
            "✅ Extracted: IISC00IND_R_20232570000_01D_30S_MO.crx.gz ➔ IISC00IND_R_20232570000_01D_30S_MO.crx\n"
          ]
        },
        {
          "output_type": "stream",
          "name": "stderr",
          "text": [
            "Extracting 2023/09Sep:  73%|███████▎  | 22/30 [00:02<00:01,  7.34it/s]"
          ]
        },
        {
          "output_type": "stream",
          "name": "stdout",
          "text": [
            "✅ Extracted: IISC00IND_R_20232530000_01D_30S_MO.crx.gz ➔ IISC00IND_R_20232530000_01D_30S_MO.crx\n",
            "✅ Extracted: IISC00IND_R_20232720000_01D_30S_MO.crx.gz ➔ IISC00IND_R_20232720000_01D_30S_MO.crx\n"
          ]
        },
        {
          "output_type": "stream",
          "name": "stderr",
          "text": [
            "Extracting 2023/09Sep:  80%|████████  | 24/30 [00:02<00:00,  7.12it/s]"
          ]
        },
        {
          "output_type": "stream",
          "name": "stdout",
          "text": [
            "✅ Extracted: IISC00IND_R_20232480000_01D_30S_MO.crx.gz ➔ IISC00IND_R_20232480000_01D_30S_MO.crx\n",
            "✅ Extracted: IISC00IND_R_20232600000_01D_30S_MO.crx.gz ➔ IISC00IND_R_20232600000_01D_30S_MO.crx\n"
          ]
        },
        {
          "output_type": "stream",
          "name": "stderr",
          "text": [
            "Extracting 2023/09Sep:  87%|████████▋ | 26/30 [00:03<00:00,  7.22it/s]"
          ]
        },
        {
          "output_type": "stream",
          "name": "stdout",
          "text": [
            "✅ Extracted: IISC00IND_R_20232630000_01D_30S_MO.crx.gz ➔ IISC00IND_R_20232630000_01D_30S_MO.crx\n",
            "✅ Extracted: IISC00IND_R_20232450000_01D_30S_MO.crx.gz ➔ IISC00IND_R_20232450000_01D_30S_MO.crx\n"
          ]
        },
        {
          "output_type": "stream",
          "name": "stderr",
          "text": [
            "Extracting 2023/09Sep:  93%|█████████▎| 28/30 [00:03<00:00,  7.22it/s]"
          ]
        },
        {
          "output_type": "stream",
          "name": "stdout",
          "text": [
            "✅ Extracted: IISC00IND_R_20232460000_01D_30S_MO.crx.gz ➔ IISC00IND_R_20232460000_01D_30S_MO.crx\n",
            "✅ Extracted: IISC00IND_R_20232680000_01D_30S_MO.crx.gz ➔ IISC00IND_R_20232680000_01D_30S_MO.crx\n"
          ]
        },
        {
          "output_type": "stream",
          "name": "stderr",
          "text": [
            "Extracting 2023/09Sep: 100%|██████████| 30/30 [00:03<00:00,  7.83it/s]\n"
          ]
        },
        {
          "output_type": "stream",
          "name": "stdout",
          "text": [
            "✅ Extracted: IISC00IND_R_20232590000_01D_30S_MO.crx.gz ➔ IISC00IND_R_20232590000_01D_30S_MO.crx\n",
            "✅ Extracted: IISC00IND_R_20232670000_01D_30S_MO.crx.gz ➔ IISC00IND_R_20232670000_01D_30S_MO.crx\n"
          ]
        },
        {
          "output_type": "stream",
          "name": "stderr",
          "text": [
            "Extracting 2023/11Nov:  10%|█         | 2/20 [00:00<00:02,  8.14it/s]"
          ]
        },
        {
          "output_type": "stream",
          "name": "stdout",
          "text": [
            "✅ Extracted: IISC00IND_R_20233090000_01D_30S_MO.crx.gz ➔ IISC00IND_R_20233090000_01D_30S_MO.crx\n",
            "✅ Extracted: IISC00IND_R_20233180000_01D_30S_MO.crx.gz ➔ IISC00IND_R_20233180000_01D_30S_MO.crx\n"
          ]
        },
        {
          "output_type": "stream",
          "name": "stderr",
          "text": [
            "Extracting 2023/11Nov:  20%|██        | 4/20 [00:00<00:02,  7.99it/s]"
          ]
        },
        {
          "output_type": "stream",
          "name": "stdout",
          "text": [
            "✅ Extracted: IISC00IND_R_20233160000_01D_30S_MO.crx.gz ➔ IISC00IND_R_20233160000_01D_30S_MO.crx\n",
            "✅ Extracted: IISC00IND_R_20233060000_01D_30S_MO.crx.gz ➔ IISC00IND_R_20233060000_01D_30S_MO.crx\n"
          ]
        },
        {
          "output_type": "stream",
          "name": "stderr",
          "text": [
            "\rExtracting 2023/11Nov:  25%|██▌       | 5/20 [00:00<00:01,  7.82it/s]"
          ]
        },
        {
          "output_type": "stream",
          "name": "stdout",
          "text": [
            "✅ Extracted: IISC00IND_R_20233140000_01D_30S_MO.crx.gz ➔ IISC00IND_R_20233140000_01D_30S_MO.crx\n"
          ]
        },
        {
          "output_type": "stream",
          "name": "stderr",
          "text": [
            "\rExtracting 2023/11Nov:  30%|███       | 6/20 [00:00<00:02,  6.40it/s]"
          ]
        },
        {
          "output_type": "stream",
          "name": "stdout",
          "text": [
            "✅ Extracted: IISC00IND_R_20233310000_01D_30S_MO.crx.gz ➔ IISC00IND_R_20233310000_01D_30S_MO.crx\n"
          ]
        },
        {
          "output_type": "stream",
          "name": "stderr",
          "text": [
            "Extracting 2023/11Nov:  40%|████      | 8/20 [00:01<00:01,  6.04it/s]"
          ]
        },
        {
          "output_type": "stream",
          "name": "stdout",
          "text": [
            "✅ Extracted: IISC00IND_R_20233080000_01D_30S_MO.crx.gz ➔ IISC00IND_R_20233080000_01D_30S_MO.crx\n",
            "✅ Extracted: IISC00IND_R_20233110000_01D_30S_MO.crx.gz ➔ IISC00IND_R_20233110000_01D_30S_MO.crx\n"
          ]
        },
        {
          "output_type": "stream",
          "name": "stderr",
          "text": [
            "Extracting 2023/11Nov:  50%|█████     | 10/20 [00:01<00:01,  6.44it/s]"
          ]
        },
        {
          "output_type": "stream",
          "name": "stdout",
          "text": [
            "✅ Extracted: IISC00IND_R_20233330000_01D_30S_MO.crx.gz ➔ IISC00IND_R_20233330000_01D_30S_MO.crx\n",
            "✅ Extracted: IISC00IND_R_20233290000_01D_30S_MO.crx.gz ➔ IISC00IND_R_20233290000_01D_30S_MO.crx\n"
          ]
        },
        {
          "output_type": "stream",
          "name": "stderr",
          "text": [
            "\rExtracting 2023/11Nov:  60%|██████    | 12/20 [00:01<00:01,  7.78it/s]"
          ]
        },
        {
          "output_type": "stream",
          "name": "stdout",
          "text": [
            "✅ Extracted: IISC00IND_R_20233120000_01D_30S_MO.crx.gz ➔ IISC00IND_R_20233120000_01D_30S_MO.crx\n",
            "✅ Extracted: IISC00IND_R_20233170000_01D_30S_MO.crx.gz ➔ IISC00IND_R_20233170000_01D_30S_MO.crx\n"
          ]
        },
        {
          "output_type": "stream",
          "name": "stderr",
          "text": [
            "Extracting 2023/11Nov:  70%|███████   | 14/20 [00:02<00:00,  7.08it/s]"
          ]
        },
        {
          "output_type": "stream",
          "name": "stdout",
          "text": [
            "✅ Extracted: IISC00IND_R_20233320000_01D_30S_MO.crx.gz ➔ IISC00IND_R_20233320000_01D_30S_MO.crx\n",
            "✅ Extracted: IISC00IND_R_20233070000_01D_30S_MO.crx.gz ➔ IISC00IND_R_20233070000_01D_30S_MO.crx\n"
          ]
        },
        {
          "output_type": "stream",
          "name": "stderr",
          "text": [
            "Extracting 2023/11Nov:  85%|████████▌ | 17/20 [00:02<00:00,  8.77it/s]"
          ]
        },
        {
          "output_type": "stream",
          "name": "stdout",
          "text": [
            "✅ Extracted: IISC00IND_R_20233340000_01D_30S_MO.crx.gz ➔ IISC00IND_R_20233340000_01D_30S_MO.crx\n",
            "✅ Extracted: IISC00IND_R_20233130000_01D_30S_MO.crx.gz ➔ IISC00IND_R_20233130000_01D_30S_MO.crx\n",
            "✅ Extracted: IISC00IND_R_20233100000_01D_30S_MO.crx.gz ➔ IISC00IND_R_20233100000_01D_30S_MO.crx\n"
          ]
        },
        {
          "output_type": "stream",
          "name": "stderr",
          "text": [
            "Extracting 2023/11Nov: 100%|██████████| 20/20 [00:02<00:00,  7.74it/s]\n"
          ]
        },
        {
          "output_type": "stream",
          "name": "stdout",
          "text": [
            "✅ Extracted: IISC00IND_R_20233150000_01D_30S_MO.crx.gz ➔ IISC00IND_R_20233150000_01D_30S_MO.crx\n",
            "✅ Extracted: IISC00IND_R_20233300000_01D_30S_MO.crx.gz ➔ IISC00IND_R_20233300000_01D_30S_MO.crx\n",
            "✅ Extracted: IISC00IND_R_20233050000_01D_30S_MO.crx.gz ➔ IISC00IND_R_20233050000_01D_30S_MO.crx\n"
          ]
        },
        {
          "output_type": "stream",
          "name": "stderr",
          "text": [
            "Extracting 2023/01Jan:   6%|▋         | 2/31 [00:00<00:03,  9.40it/s]"
          ]
        },
        {
          "output_type": "stream",
          "name": "stdout",
          "text": [
            "✅ Extracted: IISC00IND_R_20230290000_01D_30S_MO.crx.gz ➔ IISC00IND_R_20230290000_01D_30S_MO.crx\n",
            "✅ Extracted: IISC00IND_R_20230300000_01D_30S_MO.crx.gz ➔ IISC00IND_R_20230300000_01D_30S_MO.crx\n"
          ]
        },
        {
          "output_type": "stream",
          "name": "stderr",
          "text": [
            "Extracting 2023/01Jan:  13%|█▎        | 4/31 [00:00<00:02,  9.19it/s]"
          ]
        },
        {
          "output_type": "stream",
          "name": "stdout",
          "text": [
            "✅ Extracted: IISC00IND_R_20230140000_01D_30S_MO.crx.gz ➔ IISC00IND_R_20230140000_01D_30S_MO.crx\n",
            "✅ Extracted: IISC00IND_R_20230110000_01D_30S_MO.crx.gz ➔ IISC00IND_R_20230110000_01D_30S_MO.crx\n"
          ]
        },
        {
          "output_type": "stream",
          "name": "stderr",
          "text": [
            "Extracting 2023/01Jan:  19%|█▉        | 6/31 [00:00<00:03,  7.46it/s]"
          ]
        },
        {
          "output_type": "stream",
          "name": "stdout",
          "text": [
            "✅ Extracted: IISC00IND_R_20230200000_01D_30S_MO.crx.gz ➔ IISC00IND_R_20230200000_01D_30S_MO.crx\n",
            "✅ Extracted: IISC00IND_R_20230310000_01D_30S_MO.crx.gz ➔ IISC00IND_R_20230310000_01D_30S_MO.crx\n"
          ]
        },
        {
          "output_type": "stream",
          "name": "stderr",
          "text": [
            "Extracting 2023/01Jan:  26%|██▌       | 8/31 [00:00<00:02,  8.36it/s]"
          ]
        },
        {
          "output_type": "stream",
          "name": "stdout",
          "text": [
            "✅ Extracted: IISC00IND_R_20230160000_01D_30S_MO.crx.gz ➔ IISC00IND_R_20230160000_01D_30S_MO.crx\n",
            "✅ Extracted: IISC00IND_R_20230070000_01D_30S_MO.crx.gz ➔ IISC00IND_R_20230070000_01D_30S_MO.crx\n"
          ]
        },
        {
          "output_type": "stream",
          "name": "stderr",
          "text": [
            "Extracting 2023/01Jan:  32%|███▏      | 10/31 [00:01<00:02,  8.75it/s]"
          ]
        },
        {
          "output_type": "stream",
          "name": "stdout",
          "text": [
            "✅ Extracted: IISC00IND_R_20230020000_01D_30S_MO.crx.gz ➔ IISC00IND_R_20230020000_01D_30S_MO.crx\n",
            "✅ Extracted: IISC00IND_R_20230230000_01D_30S_MO.crx.gz ➔ IISC00IND_R_20230230000_01D_30S_MO.crx\n"
          ]
        },
        {
          "output_type": "stream",
          "name": "stderr",
          "text": [
            "Extracting 2023/01Jan:  39%|███▊      | 12/31 [00:01<00:02,  8.83it/s]"
          ]
        },
        {
          "output_type": "stream",
          "name": "stdout",
          "text": [
            "✅ Extracted: IISC00IND_R_20230220000_01D_30S_MO.crx.gz ➔ IISC00IND_R_20230220000_01D_30S_MO.crx\n",
            "✅ Extracted: IISC00IND_R_20230130000_01D_30S_MO.crx.gz ➔ IISC00IND_R_20230130000_01D_30S_MO.crx\n"
          ]
        },
        {
          "output_type": "stream",
          "name": "stderr",
          "text": [
            "Extracting 2023/01Jan:  45%|████▌     | 14/31 [00:01<00:01,  8.88it/s]"
          ]
        },
        {
          "output_type": "stream",
          "name": "stdout",
          "text": [
            "✅ Extracted: IISC00IND_R_20230240000_01D_30S_MO.crx.gz ➔ IISC00IND_R_20230240000_01D_30S_MO.crx\n",
            "✅ Extracted: IISC00IND_R_20230180000_01D_30S_MO.crx.gz ➔ IISC00IND_R_20230180000_01D_30S_MO.crx\n"
          ]
        },
        {
          "output_type": "stream",
          "name": "stderr",
          "text": [
            "Extracting 2023/01Jan:  52%|█████▏    | 16/31 [00:01<00:01,  9.24it/s]"
          ]
        },
        {
          "output_type": "stream",
          "name": "stdout",
          "text": [
            "✅ Extracted: IISC00IND_R_20230260000_01D_30S_MO.crx.gz ➔ IISC00IND_R_20230260000_01D_30S_MO.crx\n",
            "✅ Extracted: IISC00IND_R_20230010000_01D_30S_MO.crx.gz ➔ IISC00IND_R_20230010000_01D_30S_MO.crx\n"
          ]
        },
        {
          "output_type": "stream",
          "name": "stderr",
          "text": [
            "Extracting 2023/01Jan:  61%|██████▏   | 19/31 [00:02<00:01,  9.77it/s]"
          ]
        },
        {
          "output_type": "stream",
          "name": "stdout",
          "text": [
            "✅ Extracted: IISC00IND_R_20230250000_01D_30S_MO.crx.gz ➔ IISC00IND_R_20230250000_01D_30S_MO.crx\n",
            "✅ Extracted: IISC00IND_R_20230060000_01D_30S_MO.crx.gz ➔ IISC00IND_R_20230060000_01D_30S_MO.crx\n",
            "✅ Extracted: IISC00IND_R_20230270000_01D_30S_MO.crx.gz ➔ IISC00IND_R_20230270000_01D_30S_MO.crx\n"
          ]
        },
        {
          "output_type": "stream",
          "name": "stderr",
          "text": [
            "Extracting 2023/01Jan:  68%|██████▊   | 21/31 [00:02<00:01,  8.70it/s]"
          ]
        },
        {
          "output_type": "stream",
          "name": "stdout",
          "text": [
            "✅ Extracted: IISC00IND_R_20230100000_01D_30S_MO.crx.gz ➔ IISC00IND_R_20230100000_01D_30S_MO.crx\n",
            "✅ Extracted: IISC00IND_R_20230150000_01D_30S_MO.crx.gz ➔ IISC00IND_R_20230150000_01D_30S_MO.crx\n"
          ]
        },
        {
          "output_type": "stream",
          "name": "stderr",
          "text": [
            "Extracting 2023/01Jan:  74%|███████▍  | 23/31 [00:02<00:00,  8.85it/s]"
          ]
        },
        {
          "output_type": "stream",
          "name": "stdout",
          "text": [
            "✅ Extracted: IISC00IND_R_20230050000_01D_30S_MO.crx.gz ➔ IISC00IND_R_20230050000_01D_30S_MO.crx\n",
            "✅ Extracted: IISC00IND_R_20230080000_01D_30S_MO.crx.gz ➔ IISC00IND_R_20230080000_01D_30S_MO.crx\n"
          ]
        },
        {
          "output_type": "stream",
          "name": "stderr",
          "text": [
            "\rExtracting 2023/01Jan:  81%|████████  | 25/31 [00:02<00:00,  9.28it/s]"
          ]
        },
        {
          "output_type": "stream",
          "name": "stdout",
          "text": [
            "✅ Extracted: IISC00IND_R_20230090000_01D_30S_MO.crx.gz ➔ IISC00IND_R_20230090000_01D_30S_MO.crx\n",
            "✅ Extracted: IISC00IND_R_20230040000_01D_30S_MO.crx.gz ➔ IISC00IND_R_20230040000_01D_30S_MO.crx\n"
          ]
        },
        {
          "output_type": "stream",
          "name": "stderr",
          "text": [
            "Extracting 2023/01Jan:  87%|████████▋ | 27/31 [00:03<00:00,  9.38it/s]"
          ]
        },
        {
          "output_type": "stream",
          "name": "stdout",
          "text": [
            "✅ Extracted: IISC00IND_R_20230210000_01D_30S_MO.crx.gz ➔ IISC00IND_R_20230210000_01D_30S_MO.crx\n",
            "✅ Extracted: IISC00IND_R_20230190000_01D_30S_MO.crx.gz ➔ IISC00IND_R_20230190000_01D_30S_MO.crx\n"
          ]
        },
        {
          "output_type": "stream",
          "name": "stderr",
          "text": [
            "Extracting 2023/01Jan:  94%|█████████▎| 29/31 [00:03<00:00,  9.39it/s]"
          ]
        },
        {
          "output_type": "stream",
          "name": "stdout",
          "text": [
            "✅ Extracted: IISC00IND_R_20230280000_01D_30S_MO.crx.gz ➔ IISC00IND_R_20230280000_01D_30S_MO.crx\n",
            "✅ Extracted: IISC00IND_R_20230030000_01D_30S_MO.crx.gz ➔ IISC00IND_R_20230030000_01D_30S_MO.crx\n"
          ]
        },
        {
          "output_type": "stream",
          "name": "stderr",
          "text": [
            "Extracting 2023/01Jan: 100%|██████████| 31/31 [00:03<00:00,  8.86it/s]\n"
          ]
        },
        {
          "output_type": "stream",
          "name": "stdout",
          "text": [
            "✅ Extracted: IISC00IND_R_20230170000_01D_30S_MO.crx.gz ➔ IISC00IND_R_20230170000_01D_30S_MO.crx\n",
            "✅ Extracted: IISC00IND_R_20230120000_01D_30S_MO.crx.gz ➔ IISC00IND_R_20230120000_01D_30S_MO.crx\n"
          ]
        },
        {
          "output_type": "stream",
          "name": "stderr",
          "text": [
            "Extracting 2023/06Jun:  10%|█         | 3/30 [00:02<00:17,  1.54it/s]"
          ]
        },
        {
          "output_type": "stream",
          "name": "stdout",
          "text": [
            "✅ Extracted: IISC00IND_R_20231710000_01D_30S_MO.crx.gz ➔ IISC00IND_R_20231710000_01D_30S_MO.crx\n",
            "✅ Extracted: IISC00IND_R_20231620000_01D_30S_MO.crx.gz ➔ IISC00IND_R_20231620000_01D_30S_MO.crx\n",
            "✅ Extracted: IISC00IND_R_20231650000_01D_30S_MO.crx.gz ➔ IISC00IND_R_20231650000_01D_30S_MO.crx\n"
          ]
        },
        {
          "output_type": "stream",
          "name": "stderr",
          "text": [
            "Extracting 2023/06Jun:  20%|██        | 6/30 [00:02<00:06,  3.60it/s]"
          ]
        },
        {
          "output_type": "stream",
          "name": "stdout",
          "text": [
            "✅ Extracted: IISC00IND_R_20231580000_01D_30S_MO.crx.gz ➔ IISC00IND_R_20231580000_01D_30S_MO.crx\n",
            "✅ Extracted: IISC00IND_R_20231600000_01D_30S_MO.crx.gz ➔ IISC00IND_R_20231600000_01D_30S_MO.crx\n",
            "✅ Extracted: IISC00IND_R_20231570000_01D_30S_MO.crx.gz ➔ IISC00IND_R_20231570000_01D_30S_MO.crx\n"
          ]
        },
        {
          "output_type": "stream",
          "name": "stderr",
          "text": [
            "Extracting 2023/06Jun:  30%|███       | 9/30 [00:02<00:03,  5.81it/s]"
          ]
        },
        {
          "output_type": "stream",
          "name": "stdout",
          "text": [
            "✅ Extracted: IISC00IND_R_20231610000_01D_30S_MO.crx.gz ➔ IISC00IND_R_20231610000_01D_30S_MO.crx\n",
            "✅ Extracted: IISC00IND_R_20231810000_01D_30S_MO.crx.gz ➔ IISC00IND_R_20231810000_01D_30S_MO.crx\n",
            "✅ Extracted: IISC00IND_R_20231670000_01D_30S_MO.crx.gz ➔ IISC00IND_R_20231670000_01D_30S_MO.crx\n"
          ]
        },
        {
          "output_type": "stream",
          "name": "stderr",
          "text": [
            "Extracting 2023/06Jun:  37%|███▋      | 11/30 [00:03<00:02,  6.97it/s]"
          ]
        },
        {
          "output_type": "stream",
          "name": "stdout",
          "text": [
            "✅ Extracted: IISC00IND_R_20231540000_01D_30S_MO.crx.gz ➔ IISC00IND_R_20231540000_01D_30S_MO.crx\n",
            "✅ Extracted: IISC00IND_R_20231520000_01D_30S_MO.crx.gz ➔ IISC00IND_R_20231520000_01D_30S_MO.crx\n",
            "✅ Extracted: IISC00IND_R_20231790000_01D_30S_MO.crx.gz ➔ IISC00IND_R_20231790000_01D_30S_MO.crx\n"
          ]
        },
        {
          "output_type": "stream",
          "name": "stderr",
          "text": [
            "Extracting 2023/06Jun:  47%|████▋     | 14/30 [00:03<00:02,  7.13it/s]"
          ]
        },
        {
          "output_type": "stream",
          "name": "stdout",
          "text": [
            "✅ Extracted: IISC00IND_R_20231690000_01D_30S_MO.crx.gz ➔ IISC00IND_R_20231690000_01D_30S_MO.crx\n",
            "✅ Extracted: IISC00IND_R_20231730000_01D_30S_MO.crx.gz ➔ IISC00IND_R_20231730000_01D_30S_MO.crx\n"
          ]
        },
        {
          "output_type": "stream",
          "name": "stderr",
          "text": [
            "Extracting 2023/06Jun:  53%|█████▎    | 16/30 [00:03<00:01,  8.02it/s]"
          ]
        },
        {
          "output_type": "stream",
          "name": "stdout",
          "text": [
            "✅ Extracted: IISC00IND_R_20231660000_01D_30S_MO.crx.gz ➔ IISC00IND_R_20231660000_01D_30S_MO.crx\n",
            "✅ Extracted: IISC00IND_R_20231700000_01D_30S_MO.crx.gz ➔ IISC00IND_R_20231700000_01D_30S_MO.crx\n"
          ]
        },
        {
          "output_type": "stream",
          "name": "stderr",
          "text": [
            "Extracting 2023/06Jun:  60%|██████    | 18/30 [00:04<00:01,  7.55it/s]"
          ]
        },
        {
          "output_type": "stream",
          "name": "stdout",
          "text": [
            "✅ Extracted: IISC00IND_R_20231590000_01D_30S_MO.crx.gz ➔ IISC00IND_R_20231590000_01D_30S_MO.crx\n",
            "✅ Extracted: IISC00IND_R_20231630000_01D_30S_MO.crx.gz ➔ IISC00IND_R_20231630000_01D_30S_MO.crx\n"
          ]
        },
        {
          "output_type": "stream",
          "name": "stderr",
          "text": [
            "Extracting 2023/06Jun:  70%|███████   | 21/30 [00:04<00:01,  8.23it/s]"
          ]
        },
        {
          "output_type": "stream",
          "name": "stdout",
          "text": [
            "✅ Extracted: IISC00IND_R_20231740000_01D_30S_MO.crx.gz ➔ IISC00IND_R_20231740000_01D_30S_MO.crx\n",
            "✅ Extracted: IISC00IND_R_20231530000_01D_30S_MO.crx.gz ➔ IISC00IND_R_20231530000_01D_30S_MO.crx\n",
            "✅ Extracted: IISC00IND_R_20231720000_01D_30S_MO.crx.gz ➔ IISC00IND_R_20231720000_01D_30S_MO.crx\n"
          ]
        },
        {
          "output_type": "stream",
          "name": "stderr",
          "text": [
            "Extracting 2023/06Jun:  80%|████████  | 24/30 [00:04<00:00,  9.42it/s]"
          ]
        },
        {
          "output_type": "stream",
          "name": "stdout",
          "text": [
            "✅ Extracted: IISC00IND_R_20231770000_01D_30S_MO.crx.gz ➔ IISC00IND_R_20231770000_01D_30S_MO.crx\n",
            "✅ Extracted: IISC00IND_R_20231680000_01D_30S_MO.crx.gz ➔ IISC00IND_R_20231680000_01D_30S_MO.crx\n",
            "✅ Extracted: IISC00IND_R_20231640000_01D_30S_MO.crx.gz ➔ IISC00IND_R_20231640000_01D_30S_MO.crx\n"
          ]
        },
        {
          "output_type": "stream",
          "name": "stderr",
          "text": [
            "\rExtracting 2023/06Jun:  87%|████████▋ | 26/30 [00:04<00:00,  9.81it/s]"
          ]
        },
        {
          "output_type": "stream",
          "name": "stdout",
          "text": [
            "✅ Extracted: IISC00IND_R_20231800000_01D_30S_MO.crx.gz ➔ IISC00IND_R_20231800000_01D_30S_MO.crx\n",
            "✅ Extracted: IISC00IND_R_20231750000_01D_30S_MO.crx.gz ➔ IISC00IND_R_20231750000_01D_30S_MO.crx\n",
            "✅ Extracted: IISC00IND_R_20231780000_01D_30S_MO.crx.gz ➔ IISC00IND_R_20231780000_01D_30S_MO.crx\n"
          ]
        },
        {
          "output_type": "stream",
          "name": "stderr",
          "text": [
            "\rExtracting 2023/06Jun:  93%|█████████▎| 28/30 [00:05<00:00, 10.01it/s]"
          ]
        },
        {
          "output_type": "stream",
          "name": "stdout",
          "text": [
            "✅ Extracted: IISC00IND_R_20231550000_01D_30S_MO.crx.gz ➔ IISC00IND_R_20231550000_01D_30S_MO.crx\n",
            "✅ Extracted: IISC00IND_R_20231760000_01D_30S_MO.crx.gz ➔ IISC00IND_R_20231760000_01D_30S_MO.crx\n"
          ]
        },
        {
          "output_type": "stream",
          "name": "stderr",
          "text": [
            "Extracting 2023/06Jun: 100%|██████████| 30/30 [00:05<00:00,  5.54it/s]\n"
          ]
        },
        {
          "output_type": "stream",
          "name": "stdout",
          "text": [
            "✅ Extracted: IISC00IND_R_20231560000_01D_30S_MO.crx.gz ➔ IISC00IND_R_20231560000_01D_30S_MO.crx\n"
          ]
        },
        {
          "output_type": "stream",
          "name": "stderr",
          "text": [
            "Extracting 2023/05May:   7%|▋         | 2/29 [00:00<00:04,  5.56it/s]"
          ]
        },
        {
          "output_type": "stream",
          "name": "stdout",
          "text": [
            "✅ Extracted: IISC00IND_R_20231280000_01D_30S_MO.crx.gz ➔ IISC00IND_R_20231280000_01D_30S_MO.crx\n",
            "✅ Extracted: IISC00IND_R_20231500000_01D_30S_MO.crx.gz ➔ IISC00IND_R_20231500000_01D_30S_MO.crx\n"
          ]
        },
        {
          "output_type": "stream",
          "name": "stderr",
          "text": [
            "Extracting 2023/05May:  14%|█▍        | 4/29 [00:00<00:03,  6.64it/s]"
          ]
        },
        {
          "output_type": "stream",
          "name": "stdout",
          "text": [
            "✅ Extracted: IISC00IND_R_20231220000_01D_30S_MO.crx.gz ➔ IISC00IND_R_20231220000_01D_30S_MO.crx\n",
            "✅ Extracted: IISC00IND_R_20231340000_01D_30S_MO.crx.gz ➔ IISC00IND_R_20231340000_01D_30S_MO.crx\n"
          ]
        },
        {
          "output_type": "stream",
          "name": "stderr",
          "text": [
            "Extracting 2023/05May:  21%|██        | 6/29 [00:00<00:03,  6.92it/s]"
          ]
        },
        {
          "output_type": "stream",
          "name": "stdout",
          "text": [
            "✅ Extracted: IISC00IND_R_20231360000_01D_30S_MO.crx.gz ➔ IISC00IND_R_20231360000_01D_30S_MO.crx\n",
            "✅ Extracted: IISC00IND_R_20231400000_01D_30S_MO.crx.gz ➔ IISC00IND_R_20231400000_01D_30S_MO.crx\n"
          ]
        },
        {
          "output_type": "stream",
          "name": "stderr",
          "text": [
            "Extracting 2023/05May:  28%|██▊       | 8/29 [00:01<00:02,  7.24it/s]"
          ]
        },
        {
          "output_type": "stream",
          "name": "stdout",
          "text": [
            "✅ Extracted: IISC00IND_R_20231390000_01D_30S_MO.crx.gz ➔ IISC00IND_R_20231390000_01D_30S_MO.crx\n",
            "✅ Extracted: IISC00IND_R_20231440000_01D_30S_MO.crx.gz ➔ IISC00IND_R_20231440000_01D_30S_MO.crx\n"
          ]
        },
        {
          "output_type": "stream",
          "name": "stderr",
          "text": [
            "Extracting 2023/05May:  34%|███▍      | 10/29 [00:01<00:02,  7.37it/s]"
          ]
        },
        {
          "output_type": "stream",
          "name": "stdout",
          "text": [
            "✅ Extracted: IISC00IND_R_20231310000_01D_30S_MO.crx.gz ➔ IISC00IND_R_20231310000_01D_30S_MO.crx\n",
            "✅ Extracted: IISC00IND_R_20231260000_01D_30S_MO.crx.gz ➔ IISC00IND_R_20231260000_01D_30S_MO.crx\n"
          ]
        },
        {
          "output_type": "stream",
          "name": "stderr",
          "text": [
            "Extracting 2023/05May:  41%|████▏     | 12/29 [00:01<00:02,  7.51it/s]"
          ]
        },
        {
          "output_type": "stream",
          "name": "stdout",
          "text": [
            "✅ Extracted: IISC00IND_R_20231250000_01D_30S_MO.crx.gz ➔ IISC00IND_R_20231250000_01D_30S_MO.crx\n",
            "✅ Extracted: IISC00IND_R_20231490000_01D_30S_MO.crx.gz ➔ IISC00IND_R_20231490000_01D_30S_MO.crx\n"
          ]
        },
        {
          "output_type": "stream",
          "name": "stderr",
          "text": [
            "\rExtracting 2023/05May:  45%|████▍     | 13/29 [00:01<00:02,  6.13it/s]"
          ]
        },
        {
          "output_type": "stream",
          "name": "stdout",
          "text": [
            "✅ Extracted: IISC00IND_R_20231300000_01D_30S_MO.crx.gz ➔ IISC00IND_R_20231300000_01D_30S_MO.crx\n"
          ]
        },
        {
          "output_type": "stream",
          "name": "stderr",
          "text": [
            "Extracting 2023/05May:  52%|█████▏    | 15/29 [00:02<00:02,  5.90it/s]"
          ]
        },
        {
          "output_type": "stream",
          "name": "stdout",
          "text": [
            "✅ Extracted: IISC00IND_R_20231370000_01D_30S_MO.crx.gz ➔ IISC00IND_R_20231370000_01D_30S_MO.crx\n",
            "✅ Extracted: IISC00IND_R_20231230000_01D_30S_MO.crx.gz ➔ IISC00IND_R_20231230000_01D_30S_MO.crx\n"
          ]
        },
        {
          "output_type": "stream",
          "name": "stderr",
          "text": [
            "Extracting 2023/05May:  59%|█████▊    | 17/29 [00:02<00:01,  6.22it/s]"
          ]
        },
        {
          "output_type": "stream",
          "name": "stdout",
          "text": [
            "✅ Extracted: IISC00IND_R_20231330000_01D_30S_MO.crx.gz ➔ IISC00IND_R_20231330000_01D_30S_MO.crx\n",
            "✅ Extracted: IISC00IND_R_20231320000_01D_30S_MO.crx.gz ➔ IISC00IND_R_20231320000_01D_30S_MO.crx\n"
          ]
        },
        {
          "output_type": "stream",
          "name": "stderr",
          "text": [
            "Extracting 2023/05May:  66%|██████▌   | 19/29 [00:02<00:01,  6.40it/s]"
          ]
        },
        {
          "output_type": "stream",
          "name": "stdout",
          "text": [
            "✅ Extracted: IISC00IND_R_20231240000_01D_30S_MO.crx.gz ➔ IISC00IND_R_20231240000_01D_30S_MO.crx\n",
            "✅ Extracted: IISC00IND_R_20231350000_01D_30S_MO.crx.gz ➔ IISC00IND_R_20231350000_01D_30S_MO.crx\n"
          ]
        },
        {
          "output_type": "stream",
          "name": "stderr",
          "text": [
            "Extracting 2023/05May:  72%|███████▏  | 21/29 [00:03<00:01,  6.74it/s]"
          ]
        },
        {
          "output_type": "stream",
          "name": "stdout",
          "text": [
            "✅ Extracted: IISC00IND_R_20231410000_01D_30S_MO.crx.gz ➔ IISC00IND_R_20231410000_01D_30S_MO.crx\n",
            "✅ Extracted: IISC00IND_R_20231450000_01D_30S_MO.crx.gz ➔ IISC00IND_R_20231450000_01D_30S_MO.crx\n"
          ]
        },
        {
          "output_type": "stream",
          "name": "stderr",
          "text": [
            "Extracting 2023/05May:  83%|████████▎ | 24/29 [00:03<00:00,  8.57it/s]"
          ]
        },
        {
          "output_type": "stream",
          "name": "stdout",
          "text": [
            "✅ Extracted: IISC00IND_R_20231210000_01D_30S_MO.crx.gz ➔ IISC00IND_R_20231210000_01D_30S_MO.crx\n",
            "✅ Extracted: IISC00IND_R_20231430000_01D_30S_MO.crx.gz ➔ IISC00IND_R_20231430000_01D_30S_MO.crx\n",
            "✅ Extracted: IISC00IND_R_20231510000_01D_30S_MO.crx.gz ➔ IISC00IND_R_20231510000_01D_30S_MO.crx\n"
          ]
        },
        {
          "output_type": "stream",
          "name": "stderr",
          "text": [
            "Extracting 2023/05May:  93%|█████████▎| 27/29 [00:03<00:00,  9.46it/s]"
          ]
        },
        {
          "output_type": "stream",
          "name": "stdout",
          "text": [
            "✅ Extracted: IISC00IND_R_20231290000_01D_30S_MO.crx.gz ➔ IISC00IND_R_20231290000_01D_30S_MO.crx\n",
            "✅ Extracted: IISC00IND_R_20231480000_01D_30S_MO.crx.gz ➔ IISC00IND_R_20231480000_01D_30S_MO.crx\n",
            "✅ Extracted: IISC00IND_R_20231380000_01D_30S_MO.crx.gz ➔ IISC00IND_R_20231380000_01D_30S_MO.crx\n"
          ]
        },
        {
          "output_type": "stream",
          "name": "stderr",
          "text": [
            "Extracting 2023/05May: 100%|██████████| 29/29 [00:04<00:00,  7.25it/s]\n"
          ]
        },
        {
          "output_type": "stream",
          "name": "stdout",
          "text": [
            "✅ Extracted: IISC00IND_R_20231420000_01D_30S_MO.crx.gz ➔ IISC00IND_R_20231420000_01D_30S_MO.crx\n",
            "✅ Extracted: IISC00IND_R_20231270000_01D_30S_MO.crx.gz ➔ IISC00IND_R_20231270000_01D_30S_MO.crx\n"
          ]
        },
        {
          "output_type": "stream",
          "name": "stderr",
          "text": [
            "Extracting 2023/08Aug:   3%|▎         | 1/31 [00:00<00:03,  8.00it/s]"
          ]
        },
        {
          "output_type": "stream",
          "name": "stdout",
          "text": [
            "✅ Extracted: IISC00IND_R_20232410000_01D_30S_MO.crx.gz ➔ IISC00IND_R_20232410000_01D_30S_MO.crx\n",
            "✅ Extracted: IISC00IND_R_20232280000_01D_30S_MO.crx.gz ➔ IISC00IND_R_20232280000_01D_30S_MO.crx\n"
          ]
        },
        {
          "output_type": "stream",
          "name": "stderr",
          "text": [
            "Extracting 2023/08Aug:  13%|█▎        | 4/31 [00:00<00:03,  7.39it/s]"
          ]
        },
        {
          "output_type": "stream",
          "name": "stdout",
          "text": [
            "✅ Extracted: IISC00IND_R_20232250000_01D_30S_MO.crx.gz ➔ IISC00IND_R_20232250000_01D_30S_MO.crx\n",
            "✅ Extracted: IISC00IND_R_20232260000_01D_30S_MO.crx.gz ➔ IISC00IND_R_20232260000_01D_30S_MO.crx\n"
          ]
        },
        {
          "output_type": "stream",
          "name": "stderr",
          "text": [
            "Extracting 2023/08Aug:  19%|█▉        | 6/31 [00:00<00:02,  8.42it/s]"
          ]
        },
        {
          "output_type": "stream",
          "name": "stdout",
          "text": [
            "✅ Extracted: IISC00IND_R_20232420000_01D_30S_MO.crx.gz ➔ IISC00IND_R_20232420000_01D_30S_MO.crx\n",
            "✅ Extracted: IISC00IND_R_20232310000_01D_30S_MO.crx.gz ➔ IISC00IND_R_20232310000_01D_30S_MO.crx\n"
          ]
        },
        {
          "output_type": "stream",
          "name": "stderr",
          "text": [
            "Extracting 2023/08Aug:  29%|██▉       | 9/31 [00:01<00:02,  9.31it/s]"
          ]
        },
        {
          "output_type": "stream",
          "name": "stdout",
          "text": [
            "✅ Extracted: IISC00IND_R_20232380000_01D_30S_MO.crx.gz ➔ IISC00IND_R_20232380000_01D_30S_MO.crx\n",
            "✅ Extracted: IISC00IND_R_20232170000_01D_30S_MO.crx.gz ➔ IISC00IND_R_20232170000_01D_30S_MO.crx\n",
            "✅ Extracted: IISC00IND_R_20232140000_01D_30S_MO.crx.gz ➔ IISC00IND_R_20232140000_01D_30S_MO.crx\n"
          ]
        },
        {
          "output_type": "stream",
          "name": "stderr",
          "text": [
            "Extracting 2023/08Aug:  35%|███▌      | 11/31 [00:01<00:02,  8.79it/s]"
          ]
        },
        {
          "output_type": "stream",
          "name": "stdout",
          "text": [
            "✅ Extracted: IISC00IND_R_20232160000_01D_30S_MO.crx.gz ➔ IISC00IND_R_20232160000_01D_30S_MO.crx\n",
            "✅ Extracted: IISC00IND_R_20232370000_01D_30S_MO.crx.gz ➔ IISC00IND_R_20232370000_01D_30S_MO.crx\n"
          ]
        },
        {
          "output_type": "stream",
          "name": "stderr",
          "text": [
            "Extracting 2023/08Aug:  42%|████▏     | 13/31 [00:01<00:01,  9.07it/s]"
          ]
        },
        {
          "output_type": "stream",
          "name": "stdout",
          "text": [
            "✅ Extracted: IISC00IND_R_20232320000_01D_30S_MO.crx.gz ➔ IISC00IND_R_20232320000_01D_30S_MO.crx\n",
            "✅ Extracted: IISC00IND_R_20232180000_01D_30S_MO.crx.gz ➔ IISC00IND_R_20232180000_01D_30S_MO.crx\n"
          ]
        },
        {
          "output_type": "stream",
          "name": "stderr",
          "text": [
            "Extracting 2023/08Aug:  48%|████▊     | 15/31 [00:01<00:02,  7.33it/s]"
          ]
        },
        {
          "output_type": "stream",
          "name": "stdout",
          "text": [
            "✅ Extracted: IISC00IND_R_20232150000_01D_30S_MO.crx.gz ➔ IISC00IND_R_20232150000_01D_30S_MO.crx\n",
            "✅ Extracted: IISC00IND_R_20232350000_01D_30S_MO.crx.gz ➔ IISC00IND_R_20232350000_01D_30S_MO.crx\n"
          ]
        },
        {
          "output_type": "stream",
          "name": "stderr",
          "text": [
            "Extracting 2023/08Aug:  55%|█████▍    | 17/31 [00:02<00:01,  8.17it/s]"
          ]
        },
        {
          "output_type": "stream",
          "name": "stdout",
          "text": [
            "✅ Extracted: IISC00IND_R_20232190000_01D_30S_MO.crx.gz ➔ IISC00IND_R_20232190000_01D_30S_MO.crx\n",
            "✅ Extracted: IISC00IND_R_20232210000_01D_30S_MO.crx.gz ➔ IISC00IND_R_20232210000_01D_30S_MO.crx\n"
          ]
        },
        {
          "output_type": "stream",
          "name": "stderr",
          "text": [
            "\rExtracting 2023/08Aug:  61%|██████▏   | 19/31 [00:02<00:01,  8.75it/s]"
          ]
        },
        {
          "output_type": "stream",
          "name": "stdout",
          "text": [
            "✅ Extracted: IISC00IND_R_20232300000_01D_30S_MO.crx.gz ➔ IISC00IND_R_20232300000_01D_30S_MO.crx\n",
            "✅ Extracted: IISC00IND_R_20232430000_01D_30S_MO.crx.gz ➔ IISC00IND_R_20232430000_01D_30S_MO.crx\n"
          ]
        },
        {
          "output_type": "stream",
          "name": "stderr",
          "text": [
            "\rExtracting 2023/08Aug:  68%|██████▊   | 21/31 [00:02<00:01,  9.38it/s]"
          ]
        },
        {
          "output_type": "stream",
          "name": "stdout",
          "text": [
            "✅ Extracted: IISC00IND_R_20232390000_01D_30S_MO.crx.gz ➔ IISC00IND_R_20232390000_01D_30S_MO.crx\n",
            "✅ Extracted: IISC00IND_R_20232400000_01D_30S_MO.crx.gz ➔ IISC00IND_R_20232400000_01D_30S_MO.crx\n",
            "✅ Extracted: IISC00IND_R_20232130000_01D_30S_MO.crx.gz ➔ IISC00IND_R_20232130000_01D_30S_MO.crx\n"
          ]
        },
        {
          "output_type": "stream",
          "name": "stderr",
          "text": [
            "Extracting 2023/08Aug:  81%|████████  | 25/31 [00:02<00:00, 10.00it/s]"
          ]
        },
        {
          "output_type": "stream",
          "name": "stdout",
          "text": [
            "✅ Extracted: IISC00IND_R_20232220000_01D_30S_MO.crx.gz ➔ IISC00IND_R_20232220000_01D_30S_MO.crx\n",
            "✅ Extracted: IISC00IND_R_20232290000_01D_30S_MO.crx.gz ➔ IISC00IND_R_20232290000_01D_30S_MO.crx\n",
            "✅ Extracted: IISC00IND_R_20232200000_01D_30S_MO.crx.gz ➔ IISC00IND_R_20232200000_01D_30S_MO.crx\n"
          ]
        },
        {
          "output_type": "stream",
          "name": "stderr",
          "text": [
            "Extracting 2023/08Aug:  90%|█████████ | 28/31 [00:03<00:00, 10.19it/s]"
          ]
        },
        {
          "output_type": "stream",
          "name": "stdout",
          "text": [
            "✅ Extracted: IISC00IND_R_20232240000_01D_30S_MO.crx.gz ➔ IISC00IND_R_20232240000_01D_30S_MO.crx\n",
            "✅ Extracted: IISC00IND_R_20232340000_01D_30S_MO.crx.gz ➔ IISC00IND_R_20232340000_01D_30S_MO.crx\n",
            "✅ Extracted: IISC00IND_R_20232230000_01D_30S_MO.crx.gz ➔ IISC00IND_R_20232230000_01D_30S_MO.crx\n"
          ]
        },
        {
          "output_type": "stream",
          "name": "stderr",
          "text": [
            "Extracting 2023/08Aug: 100%|██████████| 31/31 [00:03<00:00,  9.05it/s]\n"
          ]
        },
        {
          "output_type": "stream",
          "name": "stdout",
          "text": [
            "✅ Extracted: IISC00IND_R_20232360000_01D_30S_MO.crx.gz ➔ IISC00IND_R_20232360000_01D_30S_MO.crx\n",
            "✅ Extracted: IISC00IND_R_20232270000_01D_30S_MO.crx.gz ➔ IISC00IND_R_20232270000_01D_30S_MO.crx\n",
            "✅ Extracted: IISC00IND_R_20232330000_01D_30S_MO.crx.gz ➔ IISC00IND_R_20232330000_01D_30S_MO.crx\n"
          ]
        },
        {
          "output_type": "stream",
          "name": "stderr",
          "text": [
            "Extracting 2023/10Oct:  10%|▉         | 3/31 [00:00<00:02,  9.94it/s]"
          ]
        },
        {
          "output_type": "stream",
          "name": "stdout",
          "text": [
            "✅ Extracted: IISC00IND_R_20232890000_01D_30S_MO.crx.gz ➔ IISC00IND_R_20232890000_01D_30S_MO.crx\n",
            "✅ Extracted: IISC00IND_R_20233040000_01D_30S_MO.crx.gz ➔ IISC00IND_R_20233040000_01D_30S_MO.crx\n",
            "✅ Extracted: IISC00IND_R_20232790000_01D_30S_MO.crx.gz ➔ IISC00IND_R_20232790000_01D_30S_MO.crx\n"
          ]
        },
        {
          "output_type": "stream",
          "name": "stderr",
          "text": [
            "Extracting 2023/10Oct:  16%|█▌        | 5/31 [00:00<00:02,  9.65it/s]"
          ]
        },
        {
          "output_type": "stream",
          "name": "stdout",
          "text": [
            "✅ Extracted: IISC00IND_R_20232800000_01D_30S_MO.crx.gz ➔ IISC00IND_R_20232800000_01D_30S_MO.crx\n",
            "✅ Extracted: IISC00IND_R_20232830000_01D_30S_MO.crx.gz ➔ IISC00IND_R_20232830000_01D_30S_MO.crx\n"
          ]
        },
        {
          "output_type": "stream",
          "name": "stderr",
          "text": [
            "Extracting 2023/10Oct:  26%|██▌       | 8/31 [00:00<00:02,  9.86it/s]"
          ]
        },
        {
          "output_type": "stream",
          "name": "stdout",
          "text": [
            "✅ Extracted: IISC00IND_R_20232850000_01D_30S_MO.crx.gz ➔ IISC00IND_R_20232850000_01D_30S_MO.crx\n",
            "✅ Extracted: IISC00IND_R_20233020000_01D_30S_MO.crx.gz ➔ IISC00IND_R_20233020000_01D_30S_MO.crx\n",
            "✅ Extracted: IISC00IND_R_20232740000_01D_30S_MO.crx.gz ➔ IISC00IND_R_20232740000_01D_30S_MO.crx\n"
          ]
        },
        {
          "output_type": "stream",
          "name": "stderr",
          "text": [
            "\rExtracting 2023/10Oct:  32%|███▏      | 10/31 [00:01<00:02, 10.20it/s]"
          ]
        },
        {
          "output_type": "stream",
          "name": "stdout",
          "text": [
            "✅ Extracted: IISC00IND_R_20233030000_01D_30S_MO.crx.gz ➔ IISC00IND_R_20233030000_01D_30S_MO.crx\n",
            "✅ Extracted: IISC00IND_R_20232750000_01D_30S_MO.crx.gz ➔ IISC00IND_R_20232750000_01D_30S_MO.crx\n",
            "✅ Extracted: IISC00IND_R_20232960000_01D_30S_MO.crx.gz ➔ IISC00IND_R_20232960000_01D_30S_MO.crx\n"
          ]
        },
        {
          "output_type": "stream",
          "name": "stderr",
          "text": [
            "Extracting 2023/10Oct:  45%|████▌     | 14/31 [00:01<00:01, 10.63it/s]"
          ]
        },
        {
          "output_type": "stream",
          "name": "stdout",
          "text": [
            "✅ Extracted: IISC00IND_R_20233010000_01D_30S_MO.crx.gz ➔ IISC00IND_R_20233010000_01D_30S_MO.crx\n",
            "✅ Extracted: IISC00IND_R_20232840000_01D_30S_MO.crx.gz ➔ IISC00IND_R_20232840000_01D_30S_MO.crx\n",
            "✅ Extracted: IISC00IND_R_20232940000_01D_30S_MO.crx.gz ➔ IISC00IND_R_20232940000_01D_30S_MO.crx\n"
          ]
        },
        {
          "output_type": "stream",
          "name": "stderr",
          "text": [
            "\rExtracting 2023/10Oct:  52%|█████▏    | 16/31 [00:01<00:01, 10.76it/s]"
          ]
        },
        {
          "output_type": "stream",
          "name": "stdout",
          "text": [
            "✅ Extracted: IISC00IND_R_20232760000_01D_30S_MO.crx.gz ➔ IISC00IND_R_20232760000_01D_30S_MO.crx\n",
            "✅ Extracted: IISC00IND_R_20232820000_01D_30S_MO.crx.gz ➔ IISC00IND_R_20232820000_01D_30S_MO.crx\n",
            "✅ Extracted: IISC00IND_R_20232990000_01D_30S_MO.crx.gz ➔ IISC00IND_R_20232990000_01D_30S_MO.crx\n"
          ]
        },
        {
          "output_type": "stream",
          "name": "stderr",
          "text": [
            "\rExtracting 2023/10Oct:  58%|█████▊    | 18/31 [00:01<00:01, 10.87it/s]"
          ]
        },
        {
          "output_type": "stream",
          "name": "stdout",
          "text": [
            "✅ Extracted: IISC00IND_R_20232770000_01D_30S_MO.crx.gz ➔ IISC00IND_R_20232770000_01D_30S_MO.crx\n"
          ]
        },
        {
          "output_type": "stream",
          "name": "stderr",
          "text": [
            "\rExtracting 2023/10Oct:  65%|██████▍   | 20/31 [00:02<00:01,  9.00it/s]"
          ]
        },
        {
          "output_type": "stream",
          "name": "stdout",
          "text": [
            "✅ Extracted: IISC00IND_R_20232780000_01D_30S_MO.crx.gz ➔ IISC00IND_R_20232780000_01D_30S_MO.crx\n",
            "✅ Extracted: IISC00IND_R_20232810000_01D_30S_MO.crx.gz ➔ IISC00IND_R_20232810000_01D_30S_MO.crx\n",
            "✅ Extracted: IISC00IND_R_20232980000_01D_30S_MO.crx.gz ➔ IISC00IND_R_20232980000_01D_30S_MO.crx\n"
          ]
        },
        {
          "output_type": "stream",
          "name": "stderr",
          "text": [
            "Extracting 2023/10Oct:  77%|███████▋  | 24/31 [00:02<00:00,  9.65it/s]"
          ]
        },
        {
          "output_type": "stream",
          "name": "stdout",
          "text": [
            "✅ Extracted: IISC00IND_R_20232870000_01D_30S_MO.crx.gz ➔ IISC00IND_R_20232870000_01D_30S_MO.crx\n",
            "✅ Extracted: IISC00IND_R_20232920000_01D_30S_MO.crx.gz ➔ IISC00IND_R_20232920000_01D_30S_MO.crx\n",
            "✅ Extracted: IISC00IND_R_20233000000_01D_30S_MO.crx.gz ➔ IISC00IND_R_20233000000_01D_30S_MO.crx\n"
          ]
        },
        {
          "output_type": "stream",
          "name": "stderr",
          "text": [
            "Extracting 2023/10Oct:  87%|████████▋ | 27/31 [00:02<00:00,  9.83it/s]"
          ]
        },
        {
          "output_type": "stream",
          "name": "stdout",
          "text": [
            "✅ Extracted: IISC00IND_R_20232900000_01D_30S_MO.crx.gz ➔ IISC00IND_R_20232900000_01D_30S_MO.crx\n",
            "✅ Extracted: IISC00IND_R_20232910000_01D_30S_MO.crx.gz ➔ IISC00IND_R_20232910000_01D_30S_MO.crx\n",
            "✅ Extracted: IISC00IND_R_20232930000_01D_30S_MO.crx.gz ➔ IISC00IND_R_20232930000_01D_30S_MO.crx\n"
          ]
        },
        {
          "output_type": "stream",
          "name": "stderr",
          "text": [
            "Extracting 2023/10Oct:  94%|█████████▎| 29/31 [00:02<00:00,  9.47it/s]"
          ]
        },
        {
          "output_type": "stream",
          "name": "stdout",
          "text": [
            "✅ Extracted: IISC00IND_R_20232970000_01D_30S_MO.crx.gz ➔ IISC00IND_R_20232970000_01D_30S_MO.crx\n",
            "✅ Extracted: IISC00IND_R_20232860000_01D_30S_MO.crx.gz ➔ IISC00IND_R_20232860000_01D_30S_MO.crx\n"
          ]
        },
        {
          "output_type": "stream",
          "name": "stderr",
          "text": [
            "Extracting 2023/10Oct: 100%|██████████| 31/31 [00:03<00:00,  9.85it/s]\n"
          ]
        },
        {
          "output_type": "stream",
          "name": "stdout",
          "text": [
            "✅ Extracted: IISC00IND_R_20232950000_01D_30S_MO.crx.gz ➔ IISC00IND_R_20232950000_01D_30S_MO.crx\n",
            "✅ Extracted: IISC00IND_R_20232880000_01D_30S_MO.crx.gz ➔ IISC00IND_R_20232880000_01D_30S_MO.crx\n"
          ]
        },
        {
          "output_type": "stream",
          "name": "stderr",
          "text": [
            "Extracting 2023/12Dec:  10%|█         | 3/30 [00:00<00:02,  9.91it/s]"
          ]
        },
        {
          "output_type": "stream",
          "name": "stdout",
          "text": [
            "✅ Extracted: IISC00IND_R_20233430000_01D_30S_MO.crx.gz ➔ IISC00IND_R_20233430000_01D_30S_MO.crx\n",
            "✅ Extracted: IISC00IND_R_20233380000_01D_30S_MO.crx.gz ➔ IISC00IND_R_20233380000_01D_30S_MO.crx\n",
            "✅ Extracted: IISC00IND_R_20233350000_01D_30S_MO.crx.gz ➔ IISC00IND_R_20233350000_01D_30S_MO.crx\n"
          ]
        },
        {
          "output_type": "stream",
          "name": "stderr",
          "text": [
            "\rExtracting 2023/12Dec:  17%|█▋        | 5/30 [00:00<00:02, 10.23it/s]"
          ]
        },
        {
          "output_type": "stream",
          "name": "stdout",
          "text": [
            "✅ Extracted: IISC00IND_R_20233530000_01D_30S_MO.crx.gz ➔ IISC00IND_R_20233530000_01D_30S_MO.crx\n",
            "✅ Extracted: IISC00IND_R_20233640000_01D_30S_MO.crx.gz ➔ IISC00IND_R_20233640000_01D_30S_MO.crx\n",
            "✅ Extracted: IISC00IND_R_20233360000_01D_30S_MO.crx.gz ➔ IISC00IND_R_20233360000_01D_30S_MO.crx\n"
          ]
        },
        {
          "output_type": "stream",
          "name": "stderr",
          "text": [
            "Extracting 2023/12Dec:  30%|███       | 9/30 [00:00<00:02, 10.27it/s]"
          ]
        },
        {
          "output_type": "stream",
          "name": "stdout",
          "text": [
            "✅ Extracted: IISC00IND_R_20233460000_01D_30S_MO.crx.gz ➔ IISC00IND_R_20233460000_01D_30S_MO.crx\n",
            "✅ Extracted: IISC00IND_R_20233620000_01D_30S_MO.crx.gz ➔ IISC00IND_R_20233620000_01D_30S_MO.crx\n",
            "✅ Extracted: IISC00IND_R_20233590000_01D_30S_MO.crx.gz ➔ IISC00IND_R_20233590000_01D_30S_MO.crx\n"
          ]
        },
        {
          "output_type": "stream",
          "name": "stderr",
          "text": [
            "\rExtracting 2023/12Dec:  37%|███▋      | 11/30 [00:01<00:02,  8.66it/s]"
          ]
        },
        {
          "output_type": "stream",
          "name": "stdout",
          "text": [
            "✅ Extracted: IISC00IND_R_20233650000_01D_30S_MO.crx.gz ➔ IISC00IND_R_20233650000_01D_30S_MO.crx\n",
            "✅ Extracted: IISC00IND_R_20233520000_01D_30S_MO.crx.gz ➔ IISC00IND_R_20233520000_01D_30S_MO.crx\n"
          ]
        },
        {
          "output_type": "stream",
          "name": "stderr",
          "text": [
            "Extracting 2023/12Dec:  47%|████▋     | 14/30 [00:01<00:01,  9.34it/s]"
          ]
        },
        {
          "output_type": "stream",
          "name": "stdout",
          "text": [
            "✅ Extracted: IISC00IND_R_20233560000_01D_30S_MO.crx.gz ➔ IISC00IND_R_20233560000_01D_30S_MO.crx\n",
            "✅ Extracted: IISC00IND_R_20233480000_01D_30S_MO.crx.gz ➔ IISC00IND_R_20233480000_01D_30S_MO.crx\n",
            "✅ Extracted: IISC00IND_R_20233440000_01D_30S_MO.crx.gz ➔ IISC00IND_R_20233440000_01D_30S_MO.crx\n"
          ]
        },
        {
          "output_type": "stream",
          "name": "stderr",
          "text": [
            "Extracting 2023/12Dec:  53%|█████▎    | 16/30 [00:01<00:01,  9.24it/s]"
          ]
        },
        {
          "output_type": "stream",
          "name": "stdout",
          "text": [
            "✅ Extracted: IISC00IND_R_20233600000_01D_30S_MO.crx.gz ➔ IISC00IND_R_20233600000_01D_30S_MO.crx\n",
            "✅ Extracted: IISC00IND_R_20233470000_01D_30S_MO.crx.gz ➔ IISC00IND_R_20233470000_01D_30S_MO.crx\n"
          ]
        },
        {
          "output_type": "stream",
          "name": "stderr",
          "text": [
            "Extracting 2023/12Dec:  60%|██████    | 18/30 [00:01<00:01,  9.03it/s]"
          ]
        },
        {
          "output_type": "stream",
          "name": "stdout",
          "text": [
            "✅ Extracted: IISC00IND_R_20233630000_01D_30S_MO.crx.gz ➔ IISC00IND_R_20233630000_01D_30S_MO.crx\n",
            "✅ Extracted: IISC00IND_R_20233580000_01D_30S_MO.crx.gz ➔ IISC00IND_R_20233580000_01D_30S_MO.crx\n",
            "✅ Extracted: IISC00IND_R_20233370000_01D_30S_MO.crx.gz ➔ IISC00IND_R_20233370000_01D_30S_MO.crx\n"
          ]
        },
        {
          "output_type": "stream",
          "name": "stderr",
          "text": [
            "Extracting 2023/12Dec:  73%|███████▎  | 22/30 [00:02<00:00,  9.97it/s]"
          ]
        },
        {
          "output_type": "stream",
          "name": "stdout",
          "text": [
            "✅ Extracted: IISC00IND_R_20233450000_01D_30S_MO.crx.gz ➔ IISC00IND_R_20233450000_01D_30S_MO.crx\n",
            "✅ Extracted: IISC00IND_R_20233420000_01D_30S_MO.crx.gz ➔ IISC00IND_R_20233420000_01D_30S_MO.crx\n",
            "✅ Extracted: IISC00IND_R_20233390000_01D_30S_MO.crx.gz ➔ IISC00IND_R_20233390000_01D_30S_MO.crx\n"
          ]
        },
        {
          "output_type": "stream",
          "name": "stderr",
          "text": [
            "\rExtracting 2023/12Dec:  80%|████████  | 24/30 [00:02<00:00, 10.21it/s]"
          ]
        },
        {
          "output_type": "stream",
          "name": "stdout",
          "text": [
            "✅ Extracted: IISC00IND_R_20233410000_01D_30S_MO.crx.gz ➔ IISC00IND_R_20233410000_01D_30S_MO.crx\n",
            "✅ Extracted: IISC00IND_R_20233540000_01D_30S_MO.crx.gz ➔ IISC00IND_R_20233540000_01D_30S_MO.crx\n",
            "✅ Extracted: IISC00IND_R_20233510000_01D_30S_MO.crx.gz ➔ IISC00IND_R_20233510000_01D_30S_MO.crx\n"
          ]
        },
        {
          "output_type": "stream",
          "name": "stderr",
          "text": [
            "\rExtracting 2023/12Dec:  87%|████████▋ | 26/30 [00:02<00:00,  9.77it/s]"
          ]
        },
        {
          "output_type": "stream",
          "name": "stdout",
          "text": [
            "✅ Extracted: IISC00IND_R_20233400000_01D_30S_MO.crx.gz ➔ IISC00IND_R_20233400000_01D_30S_MO.crx\n"
          ]
        },
        {
          "output_type": "stream",
          "name": "stderr",
          "text": [
            "Extracting 2023/12Dec:  93%|█████████▎| 28/30 [00:03<00:00,  7.05it/s]"
          ]
        },
        {
          "output_type": "stream",
          "name": "stdout",
          "text": [
            "✅ Extracted: IISC00IND_R_20233570000_01D_30S_MO.crx.gz ➔ IISC00IND_R_20233570000_01D_30S_MO.crx\n",
            "✅ Extracted: IISC00IND_R_20233500000_01D_30S_MO.crx.gz ➔ IISC00IND_R_20233500000_01D_30S_MO.crx\n"
          ]
        },
        {
          "output_type": "stream",
          "name": "stderr",
          "text": [
            "Extracting 2023/12Dec: 100%|██████████| 30/30 [00:03<00:00,  8.68it/s]\n"
          ]
        },
        {
          "output_type": "stream",
          "name": "stdout",
          "text": [
            "✅ Extracted: IISC00IND_R_20233490000_01D_30S_MO.crx.gz ➔ IISC00IND_R_20233490000_01D_30S_MO.crx\n",
            "✅ Extracted: IISC00IND_R_20233610000_01D_30S_MO.crx.gz ➔ IISC00IND_R_20233610000_01D_30S_MO.crx\n"
          ]
        },
        {
          "output_type": "stream",
          "name": "stderr",
          "text": [
            "Extracting 2023/02Feb:   7%|▋         | 2/28 [00:00<00:04,  6.44it/s]"
          ]
        },
        {
          "output_type": "stream",
          "name": "stdout",
          "text": [
            "✅ Extracted: IISC00IND_R_20230450000_01D_30S_MO.crx.gz ➔ IISC00IND_R_20230450000_01D_30S_MO.crx\n",
            "✅ Extracted: IISC00IND_R_20230590000_01D_30S_MO.crx.gz ➔ IISC00IND_R_20230590000_01D_30S_MO.crx\n"
          ]
        },
        {
          "output_type": "stream",
          "name": "stderr",
          "text": [
            "Extracting 2023/02Feb:  14%|█▍        | 4/28 [00:00<00:03,  6.31it/s]"
          ]
        },
        {
          "output_type": "stream",
          "name": "stdout",
          "text": [
            "✅ Extracted: IISC00IND_R_20230510000_01D_30S_MO.crx.gz ➔ IISC00IND_R_20230510000_01D_30S_MO.crx\n",
            "✅ Extracted: IISC00IND_R_20230430000_01D_30S_MO.crx.gz ➔ IISC00IND_R_20230430000_01D_30S_MO.crx\n"
          ]
        },
        {
          "output_type": "stream",
          "name": "stderr",
          "text": [
            "Extracting 2023/02Feb:  21%|██▏       | 6/28 [00:00<00:03,  6.29it/s]"
          ]
        },
        {
          "output_type": "stream",
          "name": "stdout",
          "text": [
            "✅ Extracted: IISC00IND_R_20230530000_01D_30S_MO.crx.gz ➔ IISC00IND_R_20230530000_01D_30S_MO.crx\n",
            "✅ Extracted: IISC00IND_R_20230550000_01D_30S_MO.crx.gz ➔ IISC00IND_R_20230550000_01D_30S_MO.crx\n"
          ]
        },
        {
          "output_type": "stream",
          "name": "stderr",
          "text": [
            "Extracting 2023/02Feb:  29%|██▊       | 8/28 [00:01<00:03,  6.05it/s]"
          ]
        },
        {
          "output_type": "stream",
          "name": "stdout",
          "text": [
            "✅ Extracted: IISC00IND_R_20230570000_01D_30S_MO.crx.gz ➔ IISC00IND_R_20230570000_01D_30S_MO.crx\n",
            "✅ Extracted: IISC00IND_R_20230370000_01D_30S_MO.crx.gz ➔ IISC00IND_R_20230370000_01D_30S_MO.crx\n"
          ]
        },
        {
          "output_type": "stream",
          "name": "stderr",
          "text": [
            "Extracting 2023/02Feb:  36%|███▌      | 10/28 [00:01<00:02,  6.39it/s]"
          ]
        },
        {
          "output_type": "stream",
          "name": "stdout",
          "text": [
            "✅ Extracted: IISC00IND_R_20230520000_01D_30S_MO.crx.gz ➔ IISC00IND_R_20230520000_01D_30S_MO.crx\n",
            "✅ Extracted: IISC00IND_R_20230490000_01D_30S_MO.crx.gz ➔ IISC00IND_R_20230490000_01D_30S_MO.crx\n"
          ]
        },
        {
          "output_type": "stream",
          "name": "stderr",
          "text": [
            "Extracting 2023/02Feb:  43%|████▎     | 12/28 [00:01<00:02,  6.60it/s]"
          ]
        },
        {
          "output_type": "stream",
          "name": "stdout",
          "text": [
            "✅ Extracted: IISC00IND_R_20230320000_01D_30S_MO.crx.gz ➔ IISC00IND_R_20230320000_01D_30S_MO.crx\n",
            "✅ Extracted: IISC00IND_R_20230340000_01D_30S_MO.crx.gz ➔ IISC00IND_R_20230340000_01D_30S_MO.crx\n"
          ]
        },
        {
          "output_type": "stream",
          "name": "stderr",
          "text": [
            "Extracting 2023/02Feb:  50%|█████     | 14/28 [00:02<00:02,  6.92it/s]"
          ]
        },
        {
          "output_type": "stream",
          "name": "stdout",
          "text": [
            "✅ Extracted: IISC00IND_R_20230390000_01D_30S_MO.crx.gz ➔ IISC00IND_R_20230390000_01D_30S_MO.crx\n",
            "✅ Extracted: IISC00IND_R_20230460000_01D_30S_MO.crx.gz ➔ IISC00IND_R_20230460000_01D_30S_MO.crx\n"
          ]
        },
        {
          "output_type": "stream",
          "name": "stderr",
          "text": [
            "Extracting 2023/02Feb:  57%|█████▋    | 16/28 [00:02<00:01,  7.53it/s]"
          ]
        },
        {
          "output_type": "stream",
          "name": "stdout",
          "text": [
            "✅ Extracted: IISC00IND_R_20230560000_01D_30S_MO.crx.gz ➔ IISC00IND_R_20230560000_01D_30S_MO.crx\n",
            "✅ Extracted: IISC00IND_R_20230350000_01D_30S_MO.crx.gz ➔ IISC00IND_R_20230350000_01D_30S_MO.crx\n"
          ]
        },
        {
          "output_type": "stream",
          "name": "stderr",
          "text": [
            "Extracting 2023/02Feb:  64%|██████▍   | 18/28 [00:02<00:01,  8.36it/s]"
          ]
        },
        {
          "output_type": "stream",
          "name": "stdout",
          "text": [
            "✅ Extracted: IISC00IND_R_20230360000_01D_30S_MO.crx.gz ➔ IISC00IND_R_20230360000_01D_30S_MO.crx\n",
            "✅ Extracted: IISC00IND_R_20230470000_01D_30S_MO.crx.gz ➔ IISC00IND_R_20230470000_01D_30S_MO.crx\n"
          ]
        },
        {
          "output_type": "stream",
          "name": "stderr",
          "text": [
            "Extracting 2023/02Feb:  71%|███████▏  | 20/28 [00:02<00:01,  7.80it/s]"
          ]
        },
        {
          "output_type": "stream",
          "name": "stdout",
          "text": [
            "✅ Extracted: IISC00IND_R_20230410000_01D_30S_MO.crx.gz ➔ IISC00IND_R_20230410000_01D_30S_MO.crx\n",
            "✅ Extracted: IISC00IND_R_20230380000_01D_30S_MO.crx.gz ➔ IISC00IND_R_20230380000_01D_30S_MO.crx\n"
          ]
        },
        {
          "output_type": "stream",
          "name": "stderr",
          "text": [
            "Extracting 2023/02Feb:  79%|███████▊  | 22/28 [00:03<00:00,  7.72it/s]"
          ]
        },
        {
          "output_type": "stream",
          "name": "stdout",
          "text": [
            "✅ Extracted: IISC00IND_R_20230330000_01D_30S_MO.crx.gz ➔ IISC00IND_R_20230330000_01D_30S_MO.crx\n",
            "✅ Extracted: IISC00IND_R_20230500000_01D_30S_MO.crx.gz ➔ IISC00IND_R_20230500000_01D_30S_MO.crx\n"
          ]
        },
        {
          "output_type": "stream",
          "name": "stderr",
          "text": [
            "Extracting 2023/02Feb:  86%|████████▌ | 24/28 [00:03<00:00,  8.42it/s]"
          ]
        },
        {
          "output_type": "stream",
          "name": "stdout",
          "text": [
            "✅ Extracted: IISC00IND_R_20230580000_01D_30S_MO.crx.gz ➔ IISC00IND_R_20230580000_01D_30S_MO.crx\n",
            "✅ Extracted: IISC00IND_R_20230400000_01D_30S_MO.crx.gz ➔ IISC00IND_R_20230400000_01D_30S_MO.crx\n"
          ]
        },
        {
          "output_type": "stream",
          "name": "stderr",
          "text": [
            "Extracting 2023/02Feb:  93%|█████████▎| 26/28 [00:03<00:00,  8.38it/s]"
          ]
        },
        {
          "output_type": "stream",
          "name": "stdout",
          "text": [
            "✅ Extracted: IISC00IND_R_20230420000_01D_30S_MO.crx.gz ➔ IISC00IND_R_20230420000_01D_30S_MO.crx\n",
            "✅ Extracted: IISC00IND_R_20230540000_01D_30S_MO.crx.gz ➔ IISC00IND_R_20230540000_01D_30S_MO.crx\n"
          ]
        },
        {
          "output_type": "stream",
          "name": "stderr",
          "text": [
            "Extracting 2023/02Feb: 100%|██████████| 28/28 [00:03<00:00,  7.27it/s]\n"
          ]
        },
        {
          "output_type": "stream",
          "name": "stdout",
          "text": [
            "✅ Extracted: IISC00IND_R_20230480000_01D_30S_MO.crx.gz ➔ IISC00IND_R_20230480000_01D_30S_MO.crx\n",
            "✅ Extracted: IISC00IND_R_20230440000_01D_30S_MO.crx.gz ➔ IISC00IND_R_20230440000_01D_30S_MO.crx\n"
          ]
        },
        {
          "output_type": "stream",
          "name": "stderr",
          "text": [
            "Extracting 2021/03Mar:   6%|▋         | 2/31 [00:00<00:03,  9.02it/s]"
          ]
        },
        {
          "output_type": "stream",
          "name": "stdout",
          "text": [
            "✅ Extracted: IISC00IND_R_20210860000_01D_30S_MO.crx.gz ➔ IISC00IND_R_20210860000_01D_30S_MO.crx\n",
            "✅ Extracted: IISC00IND_R_20210750000_01D_30S_MO.crx.gz ➔ IISC00IND_R_20210750000_01D_30S_MO.crx\n"
          ]
        },
        {
          "output_type": "stream",
          "name": "stderr",
          "text": [
            "Extracting 2021/03Mar:  13%|█▎        | 4/31 [00:00<00:02,  9.09it/s]"
          ]
        },
        {
          "output_type": "stream",
          "name": "stdout",
          "text": [
            "✅ Extracted: IISC00IND_R_20210810000_01D_30S_MO.crx.gz ➔ IISC00IND_R_20210810000_01D_30S_MO.crx\n",
            "✅ Extracted: IISC00IND_R_20210700000_01D_30S_MO.crx.gz ➔ IISC00IND_R_20210700000_01D_30S_MO.crx\n"
          ]
        },
        {
          "output_type": "stream",
          "name": "stderr",
          "text": [
            "Extracting 2021/03Mar:  19%|█▉        | 6/31 [00:00<00:02,  9.18it/s]"
          ]
        },
        {
          "output_type": "stream",
          "name": "stdout",
          "text": [
            "✅ Extracted: IISC00IND_R_20210890000_01D_30S_MO.crx.gz ➔ IISC00IND_R_20210890000_01D_30S_MO.crx\n",
            "✅ Extracted: IISC00IND_R_20210800000_01D_30S_MO.crx.gz ➔ IISC00IND_R_20210800000_01D_30S_MO.crx\n"
          ]
        },
        {
          "output_type": "stream",
          "name": "stderr",
          "text": [
            "Extracting 2021/03Mar:  26%|██▌       | 8/31 [00:00<00:02,  8.90it/s]"
          ]
        },
        {
          "output_type": "stream",
          "name": "stdout",
          "text": [
            "✅ Extracted: IISC00IND_R_20210730000_01D_30S_MO.crx.gz ➔ IISC00IND_R_20210730000_01D_30S_MO.crx\n",
            "✅ Extracted: IISC00IND_R_20210820000_01D_30S_MO.crx.gz ➔ IISC00IND_R_20210820000_01D_30S_MO.crx\n"
          ]
        },
        {
          "output_type": "stream",
          "name": "stderr",
          "text": [
            "Extracting 2021/03Mar:  32%|███▏      | 10/31 [00:01<00:02,  9.16it/s]"
          ]
        },
        {
          "output_type": "stream",
          "name": "stdout",
          "text": [
            "✅ Extracted: IISC00IND_R_20210770000_01D_30S_MO.crx.gz ➔ IISC00IND_R_20210770000_01D_30S_MO.crx\n",
            "✅ Extracted: IISC00IND_R_20210790000_01D_30S_MO.crx.gz ➔ IISC00IND_R_20210790000_01D_30S_MO.crx\n"
          ]
        },
        {
          "output_type": "stream",
          "name": "stderr",
          "text": [
            "Extracting 2021/03Mar:  39%|███▊      | 12/31 [00:01<00:02,  7.51it/s]"
          ]
        },
        {
          "output_type": "stream",
          "name": "stdout",
          "text": [
            "✅ Extracted: IISC00IND_R_20210710000_01D_30S_MO.crx.gz ➔ IISC00IND_R_20210710000_01D_30S_MO.crx\n",
            "✅ Extracted: IISC00IND_R_20210600000_01D_30S_MO.crx.gz ➔ IISC00IND_R_20210600000_01D_30S_MO.crx\n"
          ]
        },
        {
          "output_type": "stream",
          "name": "stderr",
          "text": [
            "Extracting 2021/03Mar:  45%|████▌     | 14/31 [00:01<00:02,  8.19it/s]"
          ]
        },
        {
          "output_type": "stream",
          "name": "stdout",
          "text": [
            "✅ Extracted: IISC00IND_R_20210740000_01D_30S_MO.crx.gz ➔ IISC00IND_R_20210740000_01D_30S_MO.crx\n",
            "✅ Extracted: IISC00IND_R_20210630000_01D_30S_MO.crx.gz ➔ IISC00IND_R_20210630000_01D_30S_MO.crx\n"
          ]
        },
        {
          "output_type": "stream",
          "name": "stderr",
          "text": [
            "Extracting 2021/03Mar:  52%|█████▏    | 16/31 [00:01<00:01,  8.55it/s]"
          ]
        },
        {
          "output_type": "stream",
          "name": "stdout",
          "text": [
            "✅ Extracted: IISC00IND_R_20210680000_01D_30S_MO.crx.gz ➔ IISC00IND_R_20210680000_01D_30S_MO.crx\n",
            "✅ Extracted: IISC00IND_R_20210780000_01D_30S_MO.crx.gz ➔ IISC00IND_R_20210780000_01D_30S_MO.crx\n"
          ]
        },
        {
          "output_type": "stream",
          "name": "stderr",
          "text": [
            "Extracting 2021/03Mar:  58%|█████▊    | 18/31 [00:02<00:01,  9.04it/s]"
          ]
        },
        {
          "output_type": "stream",
          "name": "stdout",
          "text": [
            "✅ Extracted: IISC00IND_R_20210640000_01D_30S_MO.crx.gz ➔ IISC00IND_R_20210640000_01D_30S_MO.crx\n",
            "✅ Extracted: IISC00IND_R_20210650000_01D_30S_MO.crx.gz ➔ IISC00IND_R_20210650000_01D_30S_MO.crx\n",
            "✅ Extracted: IISC00IND_R_20210660000_01D_30S_MO.crx.gz ➔ IISC00IND_R_20210660000_01D_30S_MO.crx\n"
          ]
        },
        {
          "output_type": "stream",
          "name": "stderr",
          "text": [
            "Extracting 2021/03Mar:  68%|██████▊   | 21/31 [00:02<00:01,  9.56it/s]"
          ]
        },
        {
          "output_type": "stream",
          "name": "stdout",
          "text": [
            "✅ Extracted: IISC00IND_R_20210830000_01D_30S_MO.crx.gz ➔ IISC00IND_R_20210830000_01D_30S_MO.crx\n",
            "✅ Extracted: IISC00IND_R_20210610000_01D_30S_MO.crx.gz ➔ IISC00IND_R_20210610000_01D_30S_MO.crx\n"
          ]
        },
        {
          "output_type": "stream",
          "name": "stderr",
          "text": [
            "\rExtracting 2021/03Mar:  71%|███████   | 22/31 [00:02<00:00,  9.40it/s]"
          ]
        },
        {
          "output_type": "stream",
          "name": "stdout",
          "text": [
            "✅ Extracted: IISC00IND_R_20210760000_01D_30S_MO.crx.gz ➔ IISC00IND_R_20210760000_01D_30S_MO.crx\n"
          ]
        },
        {
          "output_type": "stream",
          "name": "stderr",
          "text": [
            "Extracting 2021/03Mar:  77%|███████▋  | 24/31 [00:02<00:00,  7.57it/s]"
          ]
        },
        {
          "output_type": "stream",
          "name": "stdout",
          "text": [
            "✅ Extracted: IISC00IND_R_20210690000_01D_30S_MO.crx.gz ➔ IISC00IND_R_20210690000_01D_30S_MO.crx\n",
            "✅ Extracted: IISC00IND_R_20210880000_01D_30S_MO.crx.gz ➔ IISC00IND_R_20210880000_01D_30S_MO.crx\n"
          ]
        },
        {
          "output_type": "stream",
          "name": "stderr",
          "text": [
            "Extracting 2021/03Mar:  84%|████████▍ | 26/31 [00:03<00:00,  8.11it/s]"
          ]
        },
        {
          "output_type": "stream",
          "name": "stdout",
          "text": [
            "✅ Extracted: IISC00IND_R_20210620000_01D_30S_MO.crx.gz ➔ IISC00IND_R_20210620000_01D_30S_MO.crx\n",
            "✅ Extracted: IISC00IND_R_20210670000_01D_30S_MO.crx.gz ➔ IISC00IND_R_20210670000_01D_30S_MO.crx\n"
          ]
        },
        {
          "output_type": "stream",
          "name": "stderr",
          "text": [
            "Extracting 2021/03Mar:  90%|█████████ | 28/31 [00:03<00:00,  8.48it/s]"
          ]
        },
        {
          "output_type": "stream",
          "name": "stdout",
          "text": [
            "✅ Extracted: IISC00IND_R_20210900000_01D_30S_MO.crx.gz ➔ IISC00IND_R_20210900000_01D_30S_MO.crx\n",
            "✅ Extracted: IISC00IND_R_20210840000_01D_30S_MO.crx.gz ➔ IISC00IND_R_20210840000_01D_30S_MO.crx\n"
          ]
        },
        {
          "output_type": "stream",
          "name": "stderr",
          "text": [
            "Extracting 2021/03Mar:  97%|█████████▋| 30/31 [00:03<00:00,  8.47it/s]"
          ]
        },
        {
          "output_type": "stream",
          "name": "stdout",
          "text": [
            "✅ Extracted: IISC00IND_R_20210850000_01D_30S_MO.crx.gz ➔ IISC00IND_R_20210850000_01D_30S_MO.crx\n",
            "✅ Extracted: IISC00IND_R_20210720000_01D_30S_MO.crx.gz ➔ IISC00IND_R_20210720000_01D_30S_MO.crx\n"
          ]
        },
        {
          "output_type": "stream",
          "name": "stderr",
          "text": [
            "Extracting 2021/03Mar: 100%|██████████| 31/31 [00:03<00:00,  8.49it/s]\n"
          ]
        },
        {
          "output_type": "stream",
          "name": "stdout",
          "text": [
            "✅ Extracted: IISC00IND_R_20210870000_01D_30S_MO.crx.gz ➔ IISC00IND_R_20210870000_01D_30S_MO.crx\n"
          ]
        },
        {
          "output_type": "stream",
          "name": "stderr",
          "text": [
            "Extracting 2021/04Apr:   4%|▎         | 1/28 [00:00<00:03,  8.17it/s]"
          ]
        },
        {
          "output_type": "stream",
          "name": "stdout",
          "text": [
            "✅ Extracted: IISC00IND_R_20210930000_01D_30S_MO.crx.gz ➔ IISC00IND_R_20210930000_01D_30S_MO.crx\n"
          ]
        },
        {
          "output_type": "stream",
          "name": "stderr",
          "text": [
            "\rExtracting 2021/04Apr:   7%|▋         | 2/28 [00:00<00:03,  8.38it/s]"
          ]
        },
        {
          "output_type": "stream",
          "name": "stdout",
          "text": [
            "✅ Extracted: IISC00IND_R_20211140000_01D_30S_MO.crx.gz ➔ IISC00IND_R_20211140000_01D_30S_MO.crx\n"
          ]
        },
        {
          "output_type": "stream",
          "name": "stderr",
          "text": [
            "\rExtracting 2021/04Apr:  11%|█         | 3/28 [00:00<00:03,  8.17it/s]"
          ]
        },
        {
          "output_type": "stream",
          "name": "stdout",
          "text": [
            "✅ Extracted: IISC00IND_R_20210970000_01D_30S_MO.crx.gz ➔ IISC00IND_R_20210970000_01D_30S_MO.crx\n"
          ]
        },
        {
          "output_type": "stream",
          "name": "stderr",
          "text": [
            "\rExtracting 2021/04Apr:  14%|█▍        | 4/28 [00:00<00:02,  8.52it/s]"
          ]
        },
        {
          "output_type": "stream",
          "name": "stdout",
          "text": [
            "✅ Extracted: IISC00IND_R_20211000000_01D_30S_MO.crx.gz ➔ IISC00IND_R_20211000000_01D_30S_MO.crx\n"
          ]
        },
        {
          "output_type": "stream",
          "name": "stderr",
          "text": [
            "\rExtracting 2021/04Apr:  18%|█▊        | 5/28 [00:00<00:02,  8.81it/s]"
          ]
        },
        {
          "output_type": "stream",
          "name": "stdout",
          "text": [
            "✅ Extracted: IISC00IND_R_20210940000_01D_30S_MO.crx.gz ➔ IISC00IND_R_20210940000_01D_30S_MO.crx\n"
          ]
        },
        {
          "output_type": "stream",
          "name": "stderr",
          "text": [
            "\rExtracting 2021/04Apr:  21%|██▏       | 6/28 [00:00<00:02,  9.16it/s]"
          ]
        },
        {
          "output_type": "stream",
          "name": "stdout",
          "text": [
            "✅ Extracted: IISC00IND_R_20211190000_01D_30S_MO.crx.gz ➔ IISC00IND_R_20211190000_01D_30S_MO.crx\n"
          ]
        },
        {
          "output_type": "stream",
          "name": "stderr",
          "text": [
            "\rExtracting 2021/04Apr:  25%|██▌       | 7/28 [00:00<00:02,  9.25it/s]"
          ]
        },
        {
          "output_type": "stream",
          "name": "stdout",
          "text": [
            "✅ Extracted: IISC00IND_R_20211050000_01D_30S_MO.crx.gz ➔ IISC00IND_R_20211050000_01D_30S_MO.crx\n"
          ]
        },
        {
          "output_type": "stream",
          "name": "stderr",
          "text": [
            "\rExtracting 2021/04Apr:  29%|██▊       | 8/28 [00:00<00:02,  9.35it/s]"
          ]
        },
        {
          "output_type": "stream",
          "name": "stdout",
          "text": [
            "✅ Extracted: IISC00IND_R_20211170000_01D_30S_MO.crx.gz ➔ IISC00IND_R_20211170000_01D_30S_MO.crx\n",
            "✅ Extracted: IISC00IND_R_20211080000_01D_30S_MO.crx.gz ➔ IISC00IND_R_20211080000_01D_30S_MO.crx\n"
          ]
        },
        {
          "output_type": "stream",
          "name": "stderr",
          "text": [
            "Extracting 2021/04Apr:  39%|███▉      | 11/28 [00:01<00:02,  7.82it/s]"
          ]
        },
        {
          "output_type": "stream",
          "name": "stdout",
          "text": [
            "✅ Extracted: IISC00IND_R_20211130000_01D_30S_MO.crx.gz ➔ IISC00IND_R_20211130000_01D_30S_MO.crx\n",
            "✅ Extracted: IISC00IND_R_20210980000_01D_30S_MO.crx.gz ➔ IISC00IND_R_20210980000_01D_30S_MO.crx\n"
          ]
        },
        {
          "output_type": "stream",
          "name": "stderr",
          "text": [
            "Extracting 2021/04Apr:  46%|████▋     | 13/28 [00:01<00:01,  8.45it/s]"
          ]
        },
        {
          "output_type": "stream",
          "name": "stdout",
          "text": [
            "✅ Extracted: IISC00IND_R_20211150000_01D_30S_MO.crx.gz ➔ IISC00IND_R_20211150000_01D_30S_MO.crx\n",
            "✅ Extracted: IISC00IND_R_20211160000_01D_30S_MO.crx.gz ➔ IISC00IND_R_20211160000_01D_30S_MO.crx\n"
          ]
        },
        {
          "output_type": "stream",
          "name": "stderr",
          "text": [
            "Extracting 2021/04Apr:  54%|█████▎    | 15/28 [00:01<00:01,  8.67it/s]"
          ]
        },
        {
          "output_type": "stream",
          "name": "stdout",
          "text": [
            "✅ Extracted: IISC00IND_R_20211200000_01D_30S_MO.crx.gz ➔ IISC00IND_R_20211200000_01D_30S_MO.crx\n",
            "✅ Extracted: IISC00IND_R_20211090000_01D_30S_MO.crx.gz ➔ IISC00IND_R_20211090000_01D_30S_MO.crx\n"
          ]
        },
        {
          "output_type": "stream",
          "name": "stderr",
          "text": [
            "Extracting 2021/04Apr:  61%|██████    | 17/28 [00:01<00:01,  8.95it/s]"
          ]
        },
        {
          "output_type": "stream",
          "name": "stdout",
          "text": [
            "✅ Extracted: IISC00IND_R_20211180000_01D_30S_MO.crx.gz ➔ IISC00IND_R_20211180000_01D_30S_MO.crx\n",
            "✅ Extracted: IISC00IND_R_20211010000_01D_30S_MO.crx.gz ➔ IISC00IND_R_20211010000_01D_30S_MO.crx\n"
          ]
        },
        {
          "output_type": "stream",
          "name": "stderr",
          "text": [
            "Extracting 2021/04Apr:  68%|██████▊   | 19/28 [00:02<00:01,  8.99it/s]"
          ]
        },
        {
          "output_type": "stream",
          "name": "stdout",
          "text": [
            "✅ Extracted: IISC00IND_R_20211100000_01D_30S_MO.crx.gz ➔ IISC00IND_R_20211100000_01D_30S_MO.crx\n",
            "✅ Extracted: IISC00IND_R_20211040000_01D_30S_MO.crx.gz ➔ IISC00IND_R_20211040000_01D_30S_MO.crx\n"
          ]
        },
        {
          "output_type": "stream",
          "name": "stderr",
          "text": [
            "Extracting 2021/04Apr:  75%|███████▌  | 21/28 [00:02<00:00,  8.83it/s]"
          ]
        },
        {
          "output_type": "stream",
          "name": "stdout",
          "text": [
            "✅ Extracted: IISC00IND_R_20210960000_01D_30S_MO.crx.gz ➔ IISC00IND_R_20210960000_01D_30S_MO.crx\n",
            "✅ Extracted: IISC00IND_R_20210950000_01D_30S_MO.crx.gz ➔ IISC00IND_R_20210950000_01D_30S_MO.crx\n"
          ]
        },
        {
          "output_type": "stream",
          "name": "stderr",
          "text": [
            "Extracting 2021/04Apr:  86%|████████▌ | 24/28 [00:04<00:01,  2.39it/s]"
          ]
        },
        {
          "output_type": "stream",
          "name": "stdout",
          "text": [
            "✅ Extracted: IISC00IND_R_20210910000_01D_30S_MO.crx.gz ➔ IISC00IND_R_20210910000_01D_30S_MO.crx\n",
            "✅ Extracted: IISC00IND_R_20210990000_01D_30S_MO.crx.gz ➔ IISC00IND_R_20210990000_01D_30S_MO.crx\n",
            "✅ Extracted: IISC00IND_R_20211030000_01D_30S_MO.crx.gz ➔ IISC00IND_R_20211030000_01D_30S_MO.crx\n"
          ]
        },
        {
          "output_type": "stream",
          "name": "stderr",
          "text": [
            "Extracting 2021/04Apr:  93%|█████████▎| 26/28 [00:04<00:00,  3.46it/s]"
          ]
        },
        {
          "output_type": "stream",
          "name": "stdout",
          "text": [
            "✅ Extracted: IISC00IND_R_20211020000_01D_30S_MO.crx.gz ➔ IISC00IND_R_20211020000_01D_30S_MO.crx\n",
            "✅ Extracted: IISC00IND_R_20210920000_01D_30S_MO.crx.gz ➔ IISC00IND_R_20210920000_01D_30S_MO.crx\n"
          ]
        },
        {
          "output_type": "stream",
          "name": "stderr",
          "text": [
            "Extracting 2021/04Apr: 100%|██████████| 28/28 [00:05<00:00,  5.40it/s]\n"
          ]
        },
        {
          "output_type": "stream",
          "name": "stdout",
          "text": [
            "✅ Extracted: IISC00IND_R_20211120000_01D_30S_MO.crx.gz ➔ IISC00IND_R_20211120000_01D_30S_MO.crx\n",
            "✅ Extracted: IISC00IND_R_20211110000_01D_30S_MO.crx.gz ➔ IISC00IND_R_20211110000_01D_30S_MO.crx\n"
          ]
        },
        {
          "output_type": "stream",
          "name": "stderr",
          "text": [
            "Extracting 2021/07Jul:   6%|▋         | 2/31 [00:00<00:04,  6.97it/s]"
          ]
        },
        {
          "output_type": "stream",
          "name": "stdout",
          "text": [
            "✅ Extracted: IISC00IND_R_20211920000_01D_30S_MO.crx.gz ➔ IISC00IND_R_20211920000_01D_30S_MO.crx\n",
            "✅ Extracted: IISC00IND_R_20211870000_01D_30S_MO.crx.gz ➔ IISC00IND_R_20211870000_01D_30S_MO.crx\n"
          ]
        },
        {
          "output_type": "stream",
          "name": "stderr",
          "text": [
            "Extracting 2021/07Jul:  13%|█▎        | 4/31 [00:00<00:03,  7.11it/s]"
          ]
        },
        {
          "output_type": "stream",
          "name": "stdout",
          "text": [
            "✅ Extracted: IISC00IND_R_20211950000_01D_30S_MO.crx.gz ➔ IISC00IND_R_20211950000_01D_30S_MO.crx\n",
            "✅ Extracted: IISC00IND_R_20212070000_01D_30S_MO.crx.gz ➔ IISC00IND_R_20212070000_01D_30S_MO.crx\n"
          ]
        },
        {
          "output_type": "stream",
          "name": "stderr",
          "text": [
            "\rExtracting 2021/07Jul:  16%|█▌        | 5/31 [00:00<00:04,  5.20it/s]"
          ]
        },
        {
          "output_type": "stream",
          "name": "stdout",
          "text": [
            "✅ Extracted: IISC00IND_R_20211910000_01D_30S_MO.crx.gz ➔ IISC00IND_R_20211910000_01D_30S_MO.crx\n"
          ]
        },
        {
          "output_type": "stream",
          "name": "stderr",
          "text": [
            "Extracting 2021/07Jul:  23%|██▎       | 7/31 [00:01<00:04,  5.38it/s]"
          ]
        },
        {
          "output_type": "stream",
          "name": "stdout",
          "text": [
            "✅ Extracted: IISC00IND_R_20211840000_01D_30S_MO.crx.gz ➔ IISC00IND_R_20211840000_01D_30S_MO.crx\n",
            "✅ Extracted: IISC00IND_R_20211990000_01D_30S_MO.crx.gz ➔ IISC00IND_R_20211990000_01D_30S_MO.crx\n"
          ]
        },
        {
          "output_type": "stream",
          "name": "stderr",
          "text": [
            "Extracting 2021/07Jul:  29%|██▉       | 9/31 [00:01<00:03,  5.85it/s]"
          ]
        },
        {
          "output_type": "stream",
          "name": "stdout",
          "text": [
            "✅ Extracted: IISC00IND_R_20212120000_01D_30S_MO.crx.gz ➔ IISC00IND_R_20212120000_01D_30S_MO.crx\n",
            "✅ Extracted: IISC00IND_R_20212050000_01D_30S_MO.crx.gz ➔ IISC00IND_R_20212050000_01D_30S_MO.crx\n"
          ]
        },
        {
          "output_type": "stream",
          "name": "stderr",
          "text": [
            "Extracting 2021/07Jul:  35%|███▌      | 11/31 [00:01<00:03,  6.33it/s]"
          ]
        },
        {
          "output_type": "stream",
          "name": "stdout",
          "text": [
            "✅ Extracted: IISC00IND_R_20212010000_01D_30S_MO.crx.gz ➔ IISC00IND_R_20212010000_01D_30S_MO.crx\n",
            "✅ Extracted: IISC00IND_R_20211880000_01D_30S_MO.crx.gz ➔ IISC00IND_R_20211880000_01D_30S_MO.crx\n"
          ]
        },
        {
          "output_type": "stream",
          "name": "stderr",
          "text": [
            "Extracting 2021/07Jul:  42%|████▏     | 13/31 [00:02<00:02,  6.72it/s]"
          ]
        },
        {
          "output_type": "stream",
          "name": "stdout",
          "text": [
            "✅ Extracted: IISC00IND_R_20212020000_01D_30S_MO.crx.gz ➔ IISC00IND_R_20212020000_01D_30S_MO.crx\n",
            "✅ Extracted: IISC00IND_R_20212080000_01D_30S_MO.crx.gz ➔ IISC00IND_R_20212080000_01D_30S_MO.crx\n"
          ]
        },
        {
          "output_type": "stream",
          "name": "stderr",
          "text": [
            "Extracting 2021/07Jul:  48%|████▊     | 15/31 [00:02<00:02,  6.63it/s]"
          ]
        },
        {
          "output_type": "stream",
          "name": "stdout",
          "text": [
            "✅ Extracted: IISC00IND_R_20211930000_01D_30S_MO.crx.gz ➔ IISC00IND_R_20211930000_01D_30S_MO.crx\n",
            "✅ Extracted: IISC00IND_R_20211830000_01D_30S_MO.crx.gz ➔ IISC00IND_R_20211830000_01D_30S_MO.crx\n"
          ]
        },
        {
          "output_type": "stream",
          "name": "stderr",
          "text": [
            "Extracting 2021/07Jul:  55%|█████▍    | 17/31 [00:02<00:01,  7.02it/s]"
          ]
        },
        {
          "output_type": "stream",
          "name": "stdout",
          "text": [
            "✅ Extracted: IISC00IND_R_20212000000_01D_30S_MO.crx.gz ➔ IISC00IND_R_20212000000_01D_30S_MO.crx\n",
            "✅ Extracted: IISC00IND_R_20212090000_01D_30S_MO.crx.gz ➔ IISC00IND_R_20212090000_01D_30S_MO.crx\n"
          ]
        },
        {
          "output_type": "stream",
          "name": "stderr",
          "text": [
            "Extracting 2021/07Jul:  61%|██████▏   | 19/31 [00:02<00:01,  8.02it/s]"
          ]
        },
        {
          "output_type": "stream",
          "name": "stdout",
          "text": [
            "✅ Extracted: IISC00IND_R_20211860000_01D_30S_MO.crx.gz ➔ IISC00IND_R_20211860000_01D_30S_MO.crx\n",
            "✅ Extracted: IISC00IND_R_20211900000_01D_30S_MO.crx.gz ➔ IISC00IND_R_20211900000_01D_30S_MO.crx\n"
          ]
        },
        {
          "output_type": "stream",
          "name": "stderr",
          "text": [
            "Extracting 2021/07Jul:  68%|██████▊   | 21/31 [00:03<00:01,  7.24it/s]"
          ]
        },
        {
          "output_type": "stream",
          "name": "stdout",
          "text": [
            "✅ Extracted: IISC00IND_R_20212100000_01D_30S_MO.crx.gz ➔ IISC00IND_R_20212100000_01D_30S_MO.crx\n",
            "✅ Extracted: IISC00IND_R_20211960000_01D_30S_MO.crx.gz ➔ IISC00IND_R_20211960000_01D_30S_MO.crx\n"
          ]
        },
        {
          "output_type": "stream",
          "name": "stderr",
          "text": [
            "Extracting 2021/07Jul:  74%|███████▍  | 23/31 [00:03<00:01,  7.94it/s]"
          ]
        },
        {
          "output_type": "stream",
          "name": "stdout",
          "text": [
            "✅ Extracted: IISC00IND_R_20211980000_01D_30S_MO.crx.gz ➔ IISC00IND_R_20211980000_01D_30S_MO.crx\n",
            "✅ Extracted: IISC00IND_R_20212060000_01D_30S_MO.crx.gz ➔ IISC00IND_R_20212060000_01D_30S_MO.crx\n"
          ]
        },
        {
          "output_type": "stream",
          "name": "stderr",
          "text": [
            "Extracting 2021/07Jul:  81%|████████  | 25/31 [00:03<00:00,  7.91it/s]"
          ]
        },
        {
          "output_type": "stream",
          "name": "stdout",
          "text": [
            "✅ Extracted: IISC00IND_R_20211890000_01D_30S_MO.crx.gz ➔ IISC00IND_R_20211890000_01D_30S_MO.crx\n",
            "✅ Extracted: IISC00IND_R_20212030000_01D_30S_MO.crx.gz ➔ IISC00IND_R_20212030000_01D_30S_MO.crx\n"
          ]
        },
        {
          "output_type": "stream",
          "name": "stderr",
          "text": [
            "Extracting 2021/07Jul:  87%|████████▋ | 27/31 [00:03<00:00,  8.65it/s]"
          ]
        },
        {
          "output_type": "stream",
          "name": "stdout",
          "text": [
            "✅ Extracted: IISC00IND_R_20212040000_01D_30S_MO.crx.gz ➔ IISC00IND_R_20212040000_01D_30S_MO.crx\n",
            "✅ Extracted: IISC00IND_R_20211940000_01D_30S_MO.crx.gz ➔ IISC00IND_R_20211940000_01D_30S_MO.crx\n"
          ]
        },
        {
          "output_type": "stream",
          "name": "stderr",
          "text": [
            "Extracting 2021/07Jul:  97%|█████████▋| 30/31 [00:04<00:00,  9.51it/s]"
          ]
        },
        {
          "output_type": "stream",
          "name": "stdout",
          "text": [
            "✅ Extracted: IISC00IND_R_20211820000_01D_30S_MO.crx.gz ➔ IISC00IND_R_20211820000_01D_30S_MO.crx\n",
            "✅ Extracted: IISC00IND_R_20211850000_01D_30S_MO.crx.gz ➔ IISC00IND_R_20211850000_01D_30S_MO.crx\n",
            "✅ Extracted: IISC00IND_R_20211970000_01D_30S_MO.crx.gz ➔ IISC00IND_R_20211970000_01D_30S_MO.crx\n"
          ]
        },
        {
          "output_type": "stream",
          "name": "stderr",
          "text": [
            "Extracting 2021/07Jul: 100%|██████████| 31/31 [00:04<00:00,  7.14it/s]\n"
          ]
        },
        {
          "output_type": "stream",
          "name": "stdout",
          "text": [
            "✅ Extracted: IISC00IND_R_20212110000_01D_30S_MO.crx.gz ➔ IISC00IND_R_20212110000_01D_30S_MO.crx\n"
          ]
        },
        {
          "output_type": "stream",
          "name": "stderr",
          "text": [
            "Extracting 2021/09Sep:   3%|▎         | 1/30 [00:00<00:03,  7.98it/s]"
          ]
        },
        {
          "output_type": "stream",
          "name": "stdout",
          "text": [
            "✅ Extracted: IISC00IND_R_20212620000_01D_30S_MO.crx.gz ➔ IISC00IND_R_20212620000_01D_30S_MO.crx\n"
          ]
        },
        {
          "output_type": "stream",
          "name": "stderr",
          "text": [
            "\rExtracting 2021/09Sep:   7%|▋         | 2/30 [00:00<00:03,  8.95it/s]"
          ]
        },
        {
          "output_type": "stream",
          "name": "stdout",
          "text": [
            "✅ Extracted: IISC00IND_R_20212480000_01D_30S_MO.crx.gz ➔ IISC00IND_R_20212480000_01D_30S_MO.crx\n"
          ]
        },
        {
          "output_type": "stream",
          "name": "stderr",
          "text": [
            "\rExtracting 2021/09Sep:  10%|█         | 3/30 [00:00<00:04,  6.68it/s]"
          ]
        },
        {
          "output_type": "stream",
          "name": "stdout",
          "text": [
            "✅ Extracted: IISC00IND_R_20212550000_01D_30S_MO.crx.gz ➔ IISC00IND_R_20212550000_01D_30S_MO.crx\n"
          ]
        },
        {
          "output_type": "stream",
          "name": "stderr",
          "text": [
            "\rExtracting 2021/09Sep:  13%|█▎        | 4/30 [00:00<00:03,  6.73it/s]"
          ]
        },
        {
          "output_type": "stream",
          "name": "stdout",
          "text": [
            "✅ Extracted: IISC00IND_R_20212570000_01D_30S_MO.crx.gz ➔ IISC00IND_R_20212570000_01D_30S_MO.crx\n"
          ]
        },
        {
          "output_type": "stream",
          "name": "stderr",
          "text": [
            "\rExtracting 2021/09Sep:  17%|█▋        | 5/30 [00:00<00:03,  7.30it/s]"
          ]
        },
        {
          "output_type": "stream",
          "name": "stdout",
          "text": [
            "✅ Extracted: IISC00IND_R_20212610000_01D_30S_MO.crx.gz ➔ IISC00IND_R_20212610000_01D_30S_MO.crx\n"
          ]
        },
        {
          "output_type": "stream",
          "name": "stderr",
          "text": [
            "\rExtracting 2021/09Sep:  20%|██        | 6/30 [00:00<00:03,  7.88it/s]"
          ]
        },
        {
          "output_type": "stream",
          "name": "stdout",
          "text": [
            "✅ Extracted: IISC00IND_R_20212640000_01D_30S_MO.crx.gz ➔ IISC00IND_R_20212640000_01D_30S_MO.crx\n"
          ]
        },
        {
          "output_type": "stream",
          "name": "stderr",
          "text": [
            "\rExtracting 2021/09Sep:  23%|██▎       | 7/30 [00:00<00:02,  8.29it/s]"
          ]
        },
        {
          "output_type": "stream",
          "name": "stdout",
          "text": [
            "✅ Extracted: IISC00IND_R_20212540000_01D_30S_MO.crx.gz ➔ IISC00IND_R_20212540000_01D_30S_MO.crx\n"
          ]
        },
        {
          "output_type": "stream",
          "name": "stderr",
          "text": [
            "\rExtracting 2021/09Sep:  27%|██▋       | 8/30 [00:01<00:02,  8.57it/s]"
          ]
        },
        {
          "output_type": "stream",
          "name": "stdout",
          "text": [
            "✅ Extracted: IISC00IND_R_20212680000_01D_30S_MO.crx.gz ➔ IISC00IND_R_20212680000_01D_30S_MO.crx\n"
          ]
        },
        {
          "output_type": "stream",
          "name": "stderr",
          "text": [
            "\rExtracting 2021/09Sep:  30%|███       | 9/30 [00:01<00:02,  8.86it/s]"
          ]
        },
        {
          "output_type": "stream",
          "name": "stdout",
          "text": [
            "✅ Extracted: IISC00IND_R_20212720000_01D_30S_MO.crx.gz ➔ IISC00IND_R_20212720000_01D_30S_MO.crx\n"
          ]
        },
        {
          "output_type": "stream",
          "name": "stderr",
          "text": [
            "\rExtracting 2021/09Sep:  33%|███▎      | 10/30 [00:01<00:02,  8.70it/s]"
          ]
        },
        {
          "output_type": "stream",
          "name": "stdout",
          "text": [
            "✅ Extracted: IISC00IND_R_20212670000_01D_30S_MO.crx.gz ➔ IISC00IND_R_20212670000_01D_30S_MO.crx\n"
          ]
        },
        {
          "output_type": "stream",
          "name": "stderr",
          "text": [
            "\rExtracting 2021/09Sep:  37%|███▋      | 11/30 [00:01<00:02,  8.91it/s]"
          ]
        },
        {
          "output_type": "stream",
          "name": "stdout",
          "text": [
            "✅ Extracted: IISC00IND_R_20212590000_01D_30S_MO.crx.gz ➔ IISC00IND_R_20212590000_01D_30S_MO.crx\n"
          ]
        },
        {
          "output_type": "stream",
          "name": "stderr",
          "text": [
            "\rExtracting 2021/09Sep:  40%|████      | 12/30 [00:01<00:01,  9.06it/s]"
          ]
        },
        {
          "output_type": "stream",
          "name": "stdout",
          "text": [
            "✅ Extracted: IISC00IND_R_20212510000_01D_30S_MO.crx.gz ➔ IISC00IND_R_20212510000_01D_30S_MO.crx\n"
          ]
        },
        {
          "output_type": "stream",
          "name": "stderr",
          "text": [
            "\rExtracting 2021/09Sep:  43%|████▎     | 13/30 [00:01<00:01,  9.32it/s]"
          ]
        },
        {
          "output_type": "stream",
          "name": "stdout",
          "text": [
            "✅ Extracted: IISC00IND_R_20212490000_01D_30S_MO.crx.gz ➔ IISC00IND_R_20212490000_01D_30S_MO.crx\n"
          ]
        },
        {
          "output_type": "stream",
          "name": "stderr",
          "text": [
            "\rExtracting 2021/09Sep:  47%|████▋     | 14/30 [00:01<00:01,  9.30it/s]"
          ]
        },
        {
          "output_type": "stream",
          "name": "stdout",
          "text": [
            "✅ Extracted: IISC00IND_R_20212530000_01D_30S_MO.crx.gz ➔ IISC00IND_R_20212530000_01D_30S_MO.crx\n"
          ]
        },
        {
          "output_type": "stream",
          "name": "stderr",
          "text": [
            "\rExtracting 2021/09Sep:  50%|█████     | 15/30 [00:01<00:01,  8.10it/s]"
          ]
        },
        {
          "output_type": "stream",
          "name": "stdout",
          "text": [
            "✅ Extracted: IISC00IND_R_20212440000_01D_30S_MO.crx.gz ➔ IISC00IND_R_20212440000_01D_30S_MO.crx\n"
          ]
        },
        {
          "output_type": "stream",
          "name": "stderr",
          "text": [
            "\rExtracting 2021/09Sep:  53%|█████▎    | 16/30 [00:01<00:01,  7.29it/s]"
          ]
        },
        {
          "output_type": "stream",
          "name": "stdout",
          "text": [
            "✅ Extracted: IISC00IND_R_20212630000_01D_30S_MO.crx.gz ➔ IISC00IND_R_20212630000_01D_30S_MO.crx\n"
          ]
        },
        {
          "output_type": "stream",
          "name": "stderr",
          "text": [
            "\rExtracting 2021/09Sep:  57%|█████▋    | 17/30 [00:02<00:01,  7.71it/s]"
          ]
        },
        {
          "output_type": "stream",
          "name": "stdout",
          "text": [
            "✅ Extracted: IISC00IND_R_20212560000_01D_30S_MO.crx.gz ➔ IISC00IND_R_20212560000_01D_30S_MO.crx\n"
          ]
        },
        {
          "output_type": "stream",
          "name": "stderr",
          "text": [
            "\rExtracting 2021/09Sep:  60%|██████    | 18/30 [00:02<00:01,  7.65it/s]"
          ]
        },
        {
          "output_type": "stream",
          "name": "stdout",
          "text": [
            "✅ Extracted: IISC00IND_R_20212660000_01D_30S_MO.crx.gz ➔ IISC00IND_R_20212660000_01D_30S_MO.crx\n"
          ]
        },
        {
          "output_type": "stream",
          "name": "stderr",
          "text": [
            "\rExtracting 2021/09Sep:  63%|██████▎   | 19/30 [00:02<00:01,  7.90it/s]"
          ]
        },
        {
          "output_type": "stream",
          "name": "stdout",
          "text": [
            "✅ Extracted: IISC00IND_R_20212690000_01D_30S_MO.crx.gz ➔ IISC00IND_R_20212690000_01D_30S_MO.crx\n"
          ]
        },
        {
          "output_type": "stream",
          "name": "stderr",
          "text": [
            "\rExtracting 2021/09Sep:  67%|██████▋   | 20/30 [00:02<00:01,  7.95it/s]"
          ]
        },
        {
          "output_type": "stream",
          "name": "stdout",
          "text": [
            "✅ Extracted: IISC00IND_R_20212470000_01D_30S_MO.crx.gz ➔ IISC00IND_R_20212470000_01D_30S_MO.crx\n"
          ]
        },
        {
          "output_type": "stream",
          "name": "stderr",
          "text": [
            "\rExtracting 2021/09Sep:  70%|███████   | 21/30 [00:02<00:01,  8.02it/s]"
          ]
        },
        {
          "output_type": "stream",
          "name": "stdout",
          "text": [
            "✅ Extracted: IISC00IND_R_20212710000_01D_30S_MO.crx.gz ➔ IISC00IND_R_20212710000_01D_30S_MO.crx\n"
          ]
        },
        {
          "output_type": "stream",
          "name": "stderr",
          "text": [
            "\rExtracting 2021/09Sep:  73%|███████▎  | 22/30 [00:02<00:00,  8.16it/s]"
          ]
        },
        {
          "output_type": "stream",
          "name": "stdout",
          "text": [
            "✅ Extracted: IISC00IND_R_20212460000_01D_30S_MO.crx.gz ➔ IISC00IND_R_20212460000_01D_30S_MO.crx\n"
          ]
        },
        {
          "output_type": "stream",
          "name": "stderr",
          "text": [
            "\rExtracting 2021/09Sep:  77%|███████▋  | 23/30 [00:02<00:00,  8.34it/s]"
          ]
        },
        {
          "output_type": "stream",
          "name": "stdout",
          "text": [
            "✅ Extracted: IISC00IND_R_20212700000_01D_30S_MO.crx.gz ➔ IISC00IND_R_20212700000_01D_30S_MO.crx\n"
          ]
        },
        {
          "output_type": "stream",
          "name": "stderr",
          "text": [
            "\rExtracting 2021/09Sep:  80%|████████  | 24/30 [00:02<00:00,  8.54it/s]"
          ]
        },
        {
          "output_type": "stream",
          "name": "stdout",
          "text": [
            "✅ Extracted: IISC00IND_R_20212730000_01D_30S_MO.crx.gz ➔ IISC00IND_R_20212730000_01D_30S_MO.crx\n"
          ]
        },
        {
          "output_type": "stream",
          "name": "stderr",
          "text": [
            "\rExtracting 2021/09Sep:  83%|████████▎ | 25/30 [00:03<00:00,  8.71it/s]"
          ]
        },
        {
          "output_type": "stream",
          "name": "stdout",
          "text": [
            "✅ Extracted: IISC00IND_R_20212650000_01D_30S_MO.crx.gz ➔ IISC00IND_R_20212650000_01D_30S_MO.crx\n"
          ]
        },
        {
          "output_type": "stream",
          "name": "stderr",
          "text": [
            "\rExtracting 2021/09Sep:  87%|████████▋ | 26/30 [00:03<00:00,  8.84it/s]"
          ]
        },
        {
          "output_type": "stream",
          "name": "stdout",
          "text": [
            "✅ Extracted: IISC00IND_R_20212520000_01D_30S_MO.crx.gz ➔ IISC00IND_R_20212520000_01D_30S_MO.crx\n"
          ]
        },
        {
          "output_type": "stream",
          "name": "stderr",
          "text": [
            "\rExtracting 2021/09Sep:  90%|█████████ | 27/30 [00:03<00:00,  8.74it/s]"
          ]
        },
        {
          "output_type": "stream",
          "name": "stdout",
          "text": [
            "✅ Extracted: IISC00IND_R_20212580000_01D_30S_MO.crx.gz ➔ IISC00IND_R_20212580000_01D_30S_MO.crx\n"
          ]
        },
        {
          "output_type": "stream",
          "name": "stderr",
          "text": [
            "\rExtracting 2021/09Sep:  93%|█████████▎| 28/30 [00:03<00:00,  8.95it/s]"
          ]
        },
        {
          "output_type": "stream",
          "name": "stdout",
          "text": [
            "✅ Extracted: IISC00IND_R_20212450000_01D_30S_MO.crx.gz ➔ IISC00IND_R_20212450000_01D_30S_MO.crx\n"
          ]
        },
        {
          "output_type": "stream",
          "name": "stderr",
          "text": [
            "\rExtracting 2021/09Sep:  97%|█████████▋| 29/30 [00:03<00:00,  8.93it/s]"
          ]
        },
        {
          "output_type": "stream",
          "name": "stdout",
          "text": [
            "✅ Extracted: IISC00IND_R_20212500000_01D_30S_MO.crx.gz ➔ IISC00IND_R_20212500000_01D_30S_MO.crx\n"
          ]
        },
        {
          "output_type": "stream",
          "name": "stderr",
          "text": [
            "Extracting 2021/09Sep: 100%|██████████| 30/30 [00:03<00:00,  8.35it/s]\n"
          ]
        },
        {
          "output_type": "stream",
          "name": "stdout",
          "text": [
            "✅ Extracted: IISC00IND_R_20212600000_01D_30S_MO.crx.gz ➔ IISC00IND_R_20212600000_01D_30S_MO.crx\n"
          ]
        },
        {
          "output_type": "stream",
          "name": "stderr",
          "text": [
            "Extracting 2021/11Nov:   3%|▎         | 1/30 [00:00<00:03,  8.21it/s]"
          ]
        },
        {
          "output_type": "stream",
          "name": "stdout",
          "text": [
            "✅ Extracted: IISC00IND_R_20213270000_01D_30S_MO.crx.gz ➔ IISC00IND_R_20213270000_01D_30S_MO.crx\n"
          ]
        },
        {
          "output_type": "stream",
          "name": "stderr",
          "text": [
            "\rExtracting 2021/11Nov:   7%|▋         | 2/30 [00:00<00:03,  8.77it/s]"
          ]
        },
        {
          "output_type": "stream",
          "name": "stdout",
          "text": [
            "✅ Extracted: IISC00IND_R_20213150000_01D_30S_MO.crx.gz ➔ IISC00IND_R_20213150000_01D_30S_MO.crx\n"
          ]
        },
        {
          "output_type": "stream",
          "name": "stderr",
          "text": [
            "\rExtracting 2021/11Nov:  10%|█         | 3/30 [00:00<00:02,  9.27it/s]"
          ]
        },
        {
          "output_type": "stream",
          "name": "stdout",
          "text": [
            "✅ Extracted: IISC00IND_R_20213260000_01D_30S_MO.crx.gz ➔ IISC00IND_R_20213260000_01D_30S_MO.crx\n"
          ]
        },
        {
          "output_type": "stream",
          "name": "stderr",
          "text": [
            "\rExtracting 2021/11Nov:  13%|█▎        | 4/30 [00:00<00:03,  8.23it/s]"
          ]
        },
        {
          "output_type": "stream",
          "name": "stdout",
          "text": [
            "✅ Extracted: IISC00IND_R_20213110000_01D_30S_MO.crx.gz ➔ IISC00IND_R_20213110000_01D_30S_MO.crx\n"
          ]
        },
        {
          "output_type": "stream",
          "name": "stderr",
          "text": [
            "\rExtracting 2021/11Nov:  17%|█▋        | 5/30 [00:00<00:03,  6.91it/s]"
          ]
        },
        {
          "output_type": "stream",
          "name": "stdout",
          "text": [
            "✅ Extracted: IISC00IND_R_20213250000_01D_30S_MO.crx.gz ➔ IISC00IND_R_20213250000_01D_30S_MO.crx\n"
          ]
        },
        {
          "output_type": "stream",
          "name": "stderr",
          "text": [
            "\rExtracting 2021/11Nov:  20%|██        | 6/30 [00:00<00:03,  7.45it/s]"
          ]
        },
        {
          "output_type": "stream",
          "name": "stdout",
          "text": [
            "✅ Extracted: IISC00IND_R_20213170000_01D_30S_MO.crx.gz ➔ IISC00IND_R_20213170000_01D_30S_MO.crx\n"
          ]
        },
        {
          "output_type": "stream",
          "name": "stderr",
          "text": [
            "\rExtracting 2021/11Nov:  23%|██▎       | 7/30 [00:00<00:02,  7.75it/s]"
          ]
        },
        {
          "output_type": "stream",
          "name": "stdout",
          "text": [
            "✅ Extracted: IISC00IND_R_20213200000_01D_30S_MO.crx.gz ➔ IISC00IND_R_20213200000_01D_30S_MO.crx\n"
          ]
        },
        {
          "output_type": "stream",
          "name": "stderr",
          "text": [
            "\rExtracting 2021/11Nov:  27%|██▋       | 8/30 [00:01<00:02,  8.14it/s]"
          ]
        },
        {
          "output_type": "stream",
          "name": "stdout",
          "text": [
            "✅ Extracted: IISC00IND_R_20213160000_01D_30S_MO.crx.gz ➔ IISC00IND_R_20213160000_01D_30S_MO.crx\n"
          ]
        },
        {
          "output_type": "stream",
          "name": "stderr",
          "text": [
            "\rExtracting 2021/11Nov:  30%|███       | 9/30 [00:01<00:02,  8.27it/s]"
          ]
        },
        {
          "output_type": "stream",
          "name": "stdout",
          "text": [
            "✅ Extracted: IISC00IND_R_20213100000_01D_30S_MO.crx.gz ➔ IISC00IND_R_20213100000_01D_30S_MO.crx\n"
          ]
        },
        {
          "output_type": "stream",
          "name": "stderr",
          "text": [
            "\rExtracting 2021/11Nov:  33%|███▎      | 10/30 [00:01<00:02,  8.39it/s]"
          ]
        },
        {
          "output_type": "stream",
          "name": "stdout",
          "text": [
            "✅ Extracted: IISC00IND_R_20213330000_01D_30S_MO.crx.gz ➔ IISC00IND_R_20213330000_01D_30S_MO.crx\n"
          ]
        },
        {
          "output_type": "stream",
          "name": "stderr",
          "text": [
            "\rExtracting 2021/11Nov:  37%|███▋      | 11/30 [00:01<00:02,  8.34it/s]"
          ]
        },
        {
          "output_type": "stream",
          "name": "stdout",
          "text": [
            "✅ Extracted: IISC00IND_R_20213240000_01D_30S_MO.crx.gz ➔ IISC00IND_R_20213240000_01D_30S_MO.crx\n"
          ]
        },
        {
          "output_type": "stream",
          "name": "stderr",
          "text": [
            "\rExtracting 2021/11Nov:  40%|████      | 12/30 [00:01<00:02,  8.54it/s]"
          ]
        },
        {
          "output_type": "stream",
          "name": "stdout",
          "text": [
            "✅ Extracted: IISC00IND_R_20213320000_01D_30S_MO.crx.gz ➔ IISC00IND_R_20213320000_01D_30S_MO.crx\n"
          ]
        },
        {
          "output_type": "stream",
          "name": "stderr",
          "text": [
            "\rExtracting 2021/11Nov:  43%|████▎     | 13/30 [00:01<00:01,  8.71it/s]"
          ]
        },
        {
          "output_type": "stream",
          "name": "stdout",
          "text": [
            "✅ Extracted: IISC00IND_R_20213050000_01D_30S_MO.crx.gz ➔ IISC00IND_R_20213050000_01D_30S_MO.crx\n"
          ]
        },
        {
          "output_type": "stream",
          "name": "stderr",
          "text": [
            "\rExtracting 2021/11Nov:  47%|████▋     | 14/30 [00:01<00:01,  8.96it/s]"
          ]
        },
        {
          "output_type": "stream",
          "name": "stdout",
          "text": [
            "✅ Extracted: IISC00IND_R_20213090000_01D_30S_MO.crx.gz ➔ IISC00IND_R_20213090000_01D_30S_MO.crx\n"
          ]
        },
        {
          "output_type": "stream",
          "name": "stderr",
          "text": [
            "\rExtracting 2021/11Nov:  50%|█████     | 15/30 [00:01<00:01,  8.76it/s]"
          ]
        },
        {
          "output_type": "stream",
          "name": "stdout",
          "text": [
            "✅ Extracted: IISC00IND_R_20213210000_01D_30S_MO.crx.gz ➔ IISC00IND_R_20213210000_01D_30S_MO.crx\n"
          ]
        },
        {
          "output_type": "stream",
          "name": "stderr",
          "text": [
            "\rExtracting 2021/11Nov:  53%|█████▎    | 16/30 [00:01<00:01,  8.84it/s]"
          ]
        },
        {
          "output_type": "stream",
          "name": "stdout",
          "text": [
            "✅ Extracted: IISC00IND_R_20213080000_01D_30S_MO.crx.gz ➔ IISC00IND_R_20213080000_01D_30S_MO.crx\n"
          ]
        },
        {
          "output_type": "stream",
          "name": "stderr",
          "text": [
            "\rExtracting 2021/11Nov:  57%|█████▋    | 17/30 [00:02<00:01,  8.90it/s]"
          ]
        },
        {
          "output_type": "stream",
          "name": "stdout",
          "text": [
            "✅ Extracted: IISC00IND_R_20213340000_01D_30S_MO.crx.gz ➔ IISC00IND_R_20213340000_01D_30S_MO.crx\n"
          ]
        },
        {
          "output_type": "stream",
          "name": "stderr",
          "text": [
            "\rExtracting 2021/11Nov:  60%|██████    | 18/30 [00:02<00:01,  9.21it/s]"
          ]
        },
        {
          "output_type": "stream",
          "name": "stdout",
          "text": [
            "✅ Extracted: IISC00IND_R_20213120000_01D_30S_MO.crx.gz ➔ IISC00IND_R_20213120000_01D_30S_MO.crx\n",
            "✅ Extracted: IISC00IND_R_20213300000_01D_30S_MO.crx.gz ➔ IISC00IND_R_20213300000_01D_30S_MO.crx\n"
          ]
        },
        {
          "output_type": "stream",
          "name": "stderr",
          "text": [
            "\rExtracting 2021/11Nov:  67%|██████▋   | 20/30 [00:02<00:01,  9.67it/s]"
          ]
        },
        {
          "output_type": "stream",
          "name": "stdout",
          "text": [
            "✅ Extracted: IISC00IND_R_20213130000_01D_30S_MO.crx.gz ➔ IISC00IND_R_20213130000_01D_30S_MO.crx\n"
          ]
        },
        {
          "output_type": "stream",
          "name": "stderr",
          "text": [
            "\rExtracting 2021/11Nov:  70%|███████   | 21/30 [00:02<00:00,  9.68it/s]"
          ]
        },
        {
          "output_type": "stream",
          "name": "stdout",
          "text": [
            "✅ Extracted: IISC00IND_R_20213220000_01D_30S_MO.crx.gz ➔ IISC00IND_R_20213220000_01D_30S_MO.crx\n"
          ]
        },
        {
          "output_type": "stream",
          "name": "stderr",
          "text": [
            "\rExtracting 2021/11Nov:  77%|███████▋  | 23/30 [00:02<00:00,  9.87it/s]"
          ]
        },
        {
          "output_type": "stream",
          "name": "stdout",
          "text": [
            "✅ Extracted: IISC00IND_R_20213060000_01D_30S_MO.crx.gz ➔ IISC00IND_R_20213060000_01D_30S_MO.crx\n",
            "✅ Extracted: IISC00IND_R_20213180000_01D_30S_MO.crx.gz ➔ IISC00IND_R_20213180000_01D_30S_MO.crx\n"
          ]
        },
        {
          "output_type": "stream",
          "name": "stderr",
          "text": [
            "Extracting 2021/11Nov:  83%|████████▎ | 25/30 [00:02<00:00,  8.04it/s]"
          ]
        },
        {
          "output_type": "stream",
          "name": "stdout",
          "text": [
            "✅ Extracted: IISC00IND_R_20213290000_01D_30S_MO.crx.gz ➔ IISC00IND_R_20213290000_01D_30S_MO.crx\n",
            "✅ Extracted: IISC00IND_R_20213140000_01D_30S_MO.crx.gz ➔ IISC00IND_R_20213140000_01D_30S_MO.crx\n"
          ]
        },
        {
          "output_type": "stream",
          "name": "stderr",
          "text": [
            "Extracting 2021/11Nov:  90%|█████████ | 27/30 [00:03<00:00,  8.60it/s]"
          ]
        },
        {
          "output_type": "stream",
          "name": "stdout",
          "text": [
            "✅ Extracted: IISC00IND_R_20213070000_01D_30S_MO.crx.gz ➔ IISC00IND_R_20213070000_01D_30S_MO.crx\n",
            "✅ Extracted: IISC00IND_R_20213310000_01D_30S_MO.crx.gz ➔ IISC00IND_R_20213310000_01D_30S_MO.crx\n"
          ]
        },
        {
          "output_type": "stream",
          "name": "stderr",
          "text": [
            "Extracting 2021/11Nov:  97%|█████████▋| 29/30 [00:03<00:00,  9.02it/s]"
          ]
        },
        {
          "output_type": "stream",
          "name": "stdout",
          "text": [
            "✅ Extracted: IISC00IND_R_20213230000_01D_30S_MO.crx.gz ➔ IISC00IND_R_20213230000_01D_30S_MO.crx\n",
            "✅ Extracted: IISC00IND_R_20213280000_01D_30S_MO.crx.gz ➔ IISC00IND_R_20213280000_01D_30S_MO.crx\n"
          ]
        },
        {
          "output_type": "stream",
          "name": "stderr",
          "text": [
            "Extracting 2021/11Nov: 100%|██████████| 30/30 [00:03<00:00,  8.61it/s]\n"
          ]
        },
        {
          "output_type": "stream",
          "name": "stdout",
          "text": [
            "✅ Extracted: IISC00IND_R_20213190000_01D_30S_MO.crx.gz ➔ IISC00IND_R_20213190000_01D_30S_MO.crx\n"
          ]
        },
        {
          "output_type": "stream",
          "name": "stderr",
          "text": [
            "Extracting 2021/01Jan:   3%|▎         | 1/31 [00:00<00:03,  9.92it/s]"
          ]
        },
        {
          "output_type": "stream",
          "name": "stdout",
          "text": [
            "✅ Extracted: IISC00IND_R_20210140000_01D_30S_MO.crx.gz ➔ IISC00IND_R_20210140000_01D_30S_MO.crx\n",
            "✅ Extracted: IISC00IND_R_20210190000_01D_30S_MO.crx.gz ➔ IISC00IND_R_20210190000_01D_30S_MO.crx\n"
          ]
        },
        {
          "output_type": "stream",
          "name": "stderr",
          "text": [
            "\rExtracting 2021/01Jan:  10%|▉         | 3/31 [00:00<00:02, 11.95it/s]"
          ]
        },
        {
          "output_type": "stream",
          "name": "stdout",
          "text": [
            "✅ Extracted: IISC00IND_R_20210230000_01D_30S_MO.crx.gz ➔ IISC00IND_R_20210230000_01D_30S_MO.crx\n"
          ]
        },
        {
          "output_type": "stream",
          "name": "stderr",
          "text": [
            "\rExtracting 2021/01Jan:  16%|█▌        | 5/31 [00:00<00:02, 11.32it/s]"
          ]
        },
        {
          "output_type": "stream",
          "name": "stdout",
          "text": [
            "✅ Extracted: IISC00IND_R_20210280000_01D_30S_MO.crx.gz ➔ IISC00IND_R_20210280000_01D_30S_MO.crx\n",
            "✅ Extracted: IISC00IND_R_20210080000_01D_30S_MO.crx.gz ➔ IISC00IND_R_20210080000_01D_30S_MO.crx\n",
            "✅ Extracted: IISC00IND_R_20210090000_01D_30S_MO.crx.gz ➔ IISC00IND_R_20210090000_01D_30S_MO.crx\n"
          ]
        },
        {
          "output_type": "stream",
          "name": "stderr",
          "text": [
            "\rExtracting 2021/01Jan:  23%|██▎       | 7/31 [00:01<00:08,  2.98it/s]"
          ]
        },
        {
          "output_type": "stream",
          "name": "stdout",
          "text": [
            "✅ Extracted: IISC00IND_R_20210290000_01D_30S_MO.crx.gz ➔ IISC00IND_R_20210290000_01D_30S_MO.crx\n"
          ]
        },
        {
          "output_type": "stream",
          "name": "stderr",
          "text": [
            "Extracting 2021/01Jan:  32%|███▏      | 10/31 [00:03<00:09,  2.22it/s]"
          ]
        },
        {
          "output_type": "stream",
          "name": "stdout",
          "text": [
            "✅ Extracted: IISC00IND_R_20210160000_01D_30S_MO.crx.gz ➔ IISC00IND_R_20210160000_01D_30S_MO.crx\n",
            "✅ Extracted: IISC00IND_R_20210040000_01D_30S_MO.crx.gz ➔ IISC00IND_R_20210040000_01D_30S_MO.crx\n",
            "✅ Extracted: IISC00IND_R_20210100000_01D_30S_MO.crx.gz ➔ IISC00IND_R_20210100000_01D_30S_MO.crx\n"
          ]
        },
        {
          "output_type": "stream",
          "name": "stderr",
          "text": [
            "\rExtracting 2021/01Jan:  39%|███▊      | 12/31 [00:04<00:05,  3.17it/s]"
          ]
        },
        {
          "output_type": "stream",
          "name": "stdout",
          "text": [
            "✅ Extracted: IISC00IND_R_20210070000_01D_30S_MO.crx.gz ➔ IISC00IND_R_20210070000_01D_30S_MO.crx\n",
            "✅ Extracted: IISC00IND_R_20210270000_01D_30S_MO.crx.gz ➔ IISC00IND_R_20210270000_01D_30S_MO.crx\n",
            "✅ Extracted: IISC00IND_R_20210130000_01D_30S_MO.crx.gz ➔ IISC00IND_R_20210130000_01D_30S_MO.crx\n"
          ]
        },
        {
          "output_type": "stream",
          "name": "stderr",
          "text": [
            "Extracting 2021/01Jan:  52%|█████▏    | 16/31 [00:04<00:02,  5.53it/s]"
          ]
        },
        {
          "output_type": "stream",
          "name": "stdout",
          "text": [
            "✅ Extracted: IISC00IND_R_20210260000_01D_30S_MO.crx.gz ➔ IISC00IND_R_20210260000_01D_30S_MO.crx\n",
            "✅ Extracted: IISC00IND_R_20210200000_01D_30S_MO.crx.gz ➔ IISC00IND_R_20210200000_01D_30S_MO.crx\n",
            "✅ Extracted: IISC00IND_R_20210060000_01D_30S_MO.crx.gz ➔ IISC00IND_R_20210060000_01D_30S_MO.crx\n"
          ]
        },
        {
          "output_type": "stream",
          "name": "stderr",
          "text": [
            "\rExtracting 2021/01Jan:  58%|█████▊    | 18/31 [00:04<00:01,  6.78it/s]"
          ]
        },
        {
          "output_type": "stream",
          "name": "stdout",
          "text": [
            "✅ Extracted: IISC00IND_R_20210150000_01D_30S_MO.crx.gz ➔ IISC00IND_R_20210150000_01D_30S_MO.crx\n",
            "✅ Extracted: IISC00IND_R_20210030000_01D_30S_MO.crx.gz ➔ IISC00IND_R_20210030000_01D_30S_MO.crx\n",
            "✅ Extracted: IISC00IND_R_20210250000_01D_30S_MO.crx.gz ➔ IISC00IND_R_20210250000_01D_30S_MO.crx\n"
          ]
        },
        {
          "output_type": "stream",
          "name": "stderr",
          "text": [
            "Extracting 2021/01Jan:  71%|███████   | 22/31 [00:04<00:01,  8.89it/s]"
          ]
        },
        {
          "output_type": "stream",
          "name": "stdout",
          "text": [
            "✅ Extracted: IISC00IND_R_20210050000_01D_30S_MO.crx.gz ➔ IISC00IND_R_20210050000_01D_30S_MO.crx\n",
            "✅ Extracted: IISC00IND_R_20210220000_01D_30S_MO.crx.gz ➔ IISC00IND_R_20210220000_01D_30S_MO.crx\n",
            "✅ Extracted: IISC00IND_R_20210300000_01D_30S_MO.crx.gz ➔ IISC00IND_R_20210300000_01D_30S_MO.crx\n"
          ]
        },
        {
          "output_type": "stream",
          "name": "stderr",
          "text": [
            "\rExtracting 2021/01Jan:  77%|███████▋  | 24/31 [00:05<00:00,  8.52it/s]"
          ]
        },
        {
          "output_type": "stream",
          "name": "stdout",
          "text": [
            "✅ Extracted: IISC00IND_R_20210120000_01D_30S_MO.crx.gz ➔ IISC00IND_R_20210120000_01D_30S_MO.crx\n",
            "✅ Extracted: IISC00IND_R_20210020000_01D_30S_MO.crx.gz ➔ IISC00IND_R_20210020000_01D_30S_MO.crx\n"
          ]
        },
        {
          "output_type": "stream",
          "name": "stderr",
          "text": [
            "\rExtracting 2021/01Jan:  84%|████████▍ | 26/31 [00:05<00:00,  9.07it/s]"
          ]
        },
        {
          "output_type": "stream",
          "name": "stdout",
          "text": [
            "✅ Extracted: IISC00IND_R_20210310000_01D_30S_MO.crx.gz ➔ IISC00IND_R_20210310000_01D_30S_MO.crx\n",
            "✅ Extracted: IISC00IND_R_20210240000_01D_30S_MO.crx.gz ➔ IISC00IND_R_20210240000_01D_30S_MO.crx\n",
            "✅ Extracted: IISC00IND_R_20210170000_01D_30S_MO.crx.gz ➔ IISC00IND_R_20210170000_01D_30S_MO.crx\n"
          ]
        },
        {
          "output_type": "stream",
          "name": "stderr",
          "text": [
            "Extracting 2021/01Jan:  97%|█████████▋| 30/31 [00:05<00:00, 10.51it/s]"
          ]
        },
        {
          "output_type": "stream",
          "name": "stdout",
          "text": [
            "✅ Extracted: IISC00IND_R_20210210000_01D_30S_MO.crx.gz ➔ IISC00IND_R_20210210000_01D_30S_MO.crx\n",
            "✅ Extracted: IISC00IND_R_20210110000_01D_30S_MO.crx.gz ➔ IISC00IND_R_20210110000_01D_30S_MO.crx\n",
            "✅ Extracted: IISC00IND_R_20210180000_01D_30S_MO.crx.gz ➔ IISC00IND_R_20210180000_01D_30S_MO.crx\n"
          ]
        },
        {
          "output_type": "stream",
          "name": "stderr",
          "text": [
            "\rExtracting 2021/01Jan: 100%|██████████| 31/31 [00:05<00:00,  5.50it/s]\n"
          ]
        },
        {
          "output_type": "stream",
          "name": "stdout",
          "text": [
            "✅ Extracted: IISC00IND_R_20210010000_01D_30S_MO.crx.gz ➔ IISC00IND_R_20210010000_01D_30S_MO.crx\n"
          ]
        },
        {
          "output_type": "stream",
          "name": "stderr",
          "text": [
            "Extracting 2021/06Jun:   3%|▎         | 1/30 [00:00<00:03,  7.84it/s]"
          ]
        },
        {
          "output_type": "stream",
          "name": "stdout",
          "text": [
            "✅ Extracted: IISC00IND_R_20211690000_01D_30S_MO.crx.gz ➔ IISC00IND_R_20211690000_01D_30S_MO.crx\n"
          ]
        },
        {
          "output_type": "stream",
          "name": "stderr",
          "text": [
            "\rExtracting 2021/06Jun:   7%|▋         | 2/30 [00:00<00:03,  8.61it/s]"
          ]
        },
        {
          "output_type": "stream",
          "name": "stdout",
          "text": [
            "✅ Extracted: IISC00IND_R_20211740000_01D_30S_MO.crx.gz ➔ IISC00IND_R_20211740000_01D_30S_MO.crx\n"
          ]
        },
        {
          "output_type": "stream",
          "name": "stderr",
          "text": [
            "\rExtracting 2021/06Jun:  10%|█         | 3/30 [00:00<00:03,  8.61it/s]"
          ]
        },
        {
          "output_type": "stream",
          "name": "stdout",
          "text": [
            "✅ Extracted: IISC00IND_R_20211680000_01D_30S_MO.crx.gz ➔ IISC00IND_R_20211680000_01D_30S_MO.crx\n"
          ]
        },
        {
          "output_type": "stream",
          "name": "stderr",
          "text": [
            "\rExtracting 2021/06Jun:  13%|█▎        | 4/30 [00:00<00:03,  8.66it/s]"
          ]
        },
        {
          "output_type": "stream",
          "name": "stdout",
          "text": [
            "✅ Extracted: IISC00IND_R_20211780000_01D_30S_MO.crx.gz ➔ IISC00IND_R_20211780000_01D_30S_MO.crx\n"
          ]
        },
        {
          "output_type": "stream",
          "name": "stderr",
          "text": [
            "\rExtracting 2021/06Jun:  17%|█▋        | 5/30 [00:00<00:02,  8.84it/s]"
          ]
        },
        {
          "output_type": "stream",
          "name": "stdout",
          "text": [
            "✅ Extracted: IISC00IND_R_20211600000_01D_30S_MO.crx.gz ➔ IISC00IND_R_20211600000_01D_30S_MO.crx\n"
          ]
        },
        {
          "output_type": "stream",
          "name": "stderr",
          "text": [
            "\rExtracting 2021/06Jun:  20%|██        | 6/30 [00:00<00:02,  8.86it/s]"
          ]
        },
        {
          "output_type": "stream",
          "name": "stdout",
          "text": [
            "✅ Extracted: IISC00IND_R_20211580000_01D_30S_MO.crx.gz ➔ IISC00IND_R_20211580000_01D_30S_MO.crx\n"
          ]
        },
        {
          "output_type": "stream",
          "name": "stderr",
          "text": [
            "\rExtracting 2021/06Jun:  23%|██▎       | 7/30 [00:00<00:02,  8.98it/s]"
          ]
        },
        {
          "output_type": "stream",
          "name": "stdout",
          "text": [
            "✅ Extracted: IISC00IND_R_20211760000_01D_30S_MO.crx.gz ➔ IISC00IND_R_20211760000_01D_30S_MO.crx\n"
          ]
        },
        {
          "output_type": "stream",
          "name": "stderr",
          "text": [
            "\rExtracting 2021/06Jun:  27%|██▋       | 8/30 [00:00<00:02,  8.89it/s]"
          ]
        },
        {
          "output_type": "stream",
          "name": "stdout",
          "text": [
            "✅ Extracted: IISC00IND_R_20211630000_01D_30S_MO.crx.gz ➔ IISC00IND_R_20211630000_01D_30S_MO.crx\n"
          ]
        },
        {
          "output_type": "stream",
          "name": "stderr",
          "text": [
            "\rExtracting 2021/06Jun:  30%|███       | 9/30 [00:01<00:02,  9.08it/s]"
          ]
        },
        {
          "output_type": "stream",
          "name": "stdout",
          "text": [
            "✅ Extracted: IISC00IND_R_20211800000_01D_30S_MO.crx.gz ➔ IISC00IND_R_20211800000_01D_30S_MO.crx\n"
          ]
        },
        {
          "output_type": "stream",
          "name": "stderr",
          "text": [
            "\rExtracting 2021/06Jun:  37%|███▋      | 11/30 [00:01<00:01,  9.61it/s]"
          ]
        },
        {
          "output_type": "stream",
          "name": "stdout",
          "text": [
            "✅ Extracted: IISC00IND_R_20211610000_01D_30S_MO.crx.gz ➔ IISC00IND_R_20211610000_01D_30S_MO.crx\n",
            "✅ Extracted: IISC00IND_R_20211640000_01D_30S_MO.crx.gz ➔ IISC00IND_R_20211640000_01D_30S_MO.crx\n"
          ]
        },
        {
          "output_type": "stream",
          "name": "stderr",
          "text": [
            "\rExtracting 2021/06Jun:  40%|████      | 12/30 [00:01<00:01,  9.62it/s]"
          ]
        },
        {
          "output_type": "stream",
          "name": "stdout",
          "text": [
            "✅ Extracted: IISC00IND_R_20211750000_01D_30S_MO.crx.gz ➔ IISC00IND_R_20211750000_01D_30S_MO.crx\n"
          ]
        },
        {
          "output_type": "stream",
          "name": "stderr",
          "text": [
            "Extracting 2021/06Jun:  47%|████▋     | 14/30 [00:01<00:02,  7.84it/s]"
          ]
        },
        {
          "output_type": "stream",
          "name": "stdout",
          "text": [
            "✅ Extracted: IISC00IND_R_20211670000_01D_30S_MO.crx.gz ➔ IISC00IND_R_20211670000_01D_30S_MO.crx\n",
            "✅ Extracted: IISC00IND_R_20211550000_01D_30S_MO.crx.gz ➔ IISC00IND_R_20211550000_01D_30S_MO.crx\n"
          ]
        },
        {
          "output_type": "stream",
          "name": "stderr",
          "text": [
            "Extracting 2021/06Jun:  53%|█████▎    | 16/30 [00:01<00:01,  8.04it/s]"
          ]
        },
        {
          "output_type": "stream",
          "name": "stdout",
          "text": [
            "✅ Extracted: IISC00IND_R_20211520000_01D_30S_MO.crx.gz ➔ IISC00IND_R_20211520000_01D_30S_MO.crx\n",
            "✅ Extracted: IISC00IND_R_20211620000_01D_30S_MO.crx.gz ➔ IISC00IND_R_20211620000_01D_30S_MO.crx\n"
          ]
        },
        {
          "output_type": "stream",
          "name": "stderr",
          "text": [
            "Extracting 2021/06Jun:  60%|██████    | 18/30 [00:02<00:01,  8.52it/s]"
          ]
        },
        {
          "output_type": "stream",
          "name": "stdout",
          "text": [
            "✅ Extracted: IISC00IND_R_20211730000_01D_30S_MO.crx.gz ➔ IISC00IND_R_20211730000_01D_30S_MO.crx\n",
            "✅ Extracted: IISC00IND_R_20211720000_01D_30S_MO.crx.gz ➔ IISC00IND_R_20211720000_01D_30S_MO.crx\n"
          ]
        },
        {
          "output_type": "stream",
          "name": "stderr",
          "text": [
            "Extracting 2021/06Jun:  67%|██████▋   | 20/30 [00:02<00:01,  8.73it/s]"
          ]
        },
        {
          "output_type": "stream",
          "name": "stdout",
          "text": [
            "✅ Extracted: IISC00IND_R_20211560000_01D_30S_MO.crx.gz ➔ IISC00IND_R_20211560000_01D_30S_MO.crx\n",
            "✅ Extracted: IISC00IND_R_20211540000_01D_30S_MO.crx.gz ➔ IISC00IND_R_20211540000_01D_30S_MO.crx\n"
          ]
        },
        {
          "output_type": "stream",
          "name": "stderr",
          "text": [
            "Extracting 2021/06Jun:  73%|███████▎  | 22/30 [00:02<00:00,  8.96it/s]"
          ]
        },
        {
          "output_type": "stream",
          "name": "stdout",
          "text": [
            "✅ Extracted: IISC00IND_R_20211790000_01D_30S_MO.crx.gz ➔ IISC00IND_R_20211790000_01D_30S_MO.crx\n",
            "✅ Extracted: IISC00IND_R_20211590000_01D_30S_MO.crx.gz ➔ IISC00IND_R_20211590000_01D_30S_MO.crx\n"
          ]
        },
        {
          "output_type": "stream",
          "name": "stderr",
          "text": [
            "Extracting 2021/06Jun:  80%|████████  | 24/30 [00:02<00:00,  9.22it/s]"
          ]
        },
        {
          "output_type": "stream",
          "name": "stdout",
          "text": [
            "✅ Extracted: IISC00IND_R_20211530000_01D_30S_MO.crx.gz ➔ IISC00IND_R_20211530000_01D_30S_MO.crx\n",
            "✅ Extracted: IISC00IND_R_20211570000_01D_30S_MO.crx.gz ➔ IISC00IND_R_20211570000_01D_30S_MO.crx\n"
          ]
        },
        {
          "output_type": "stream",
          "name": "stderr",
          "text": [
            "Extracting 2021/06Jun:  87%|████████▋ | 26/30 [00:02<00:00,  8.88it/s]"
          ]
        },
        {
          "output_type": "stream",
          "name": "stdout",
          "text": [
            "✅ Extracted: IISC00IND_R_20211710000_01D_30S_MO.crx.gz ➔ IISC00IND_R_20211710000_01D_30S_MO.crx\n",
            "✅ Extracted: IISC00IND_R_20211700000_01D_30S_MO.crx.gz ➔ IISC00IND_R_20211700000_01D_30S_MO.crx\n"
          ]
        },
        {
          "output_type": "stream",
          "name": "stderr",
          "text": [
            "Extracting 2021/06Jun:  97%|█████████▋| 29/30 [00:03<00:00,  9.70it/s]"
          ]
        },
        {
          "output_type": "stream",
          "name": "stdout",
          "text": [
            "✅ Extracted: IISC00IND_R_20211650000_01D_30S_MO.crx.gz ➔ IISC00IND_R_20211650000_01D_30S_MO.crx\n",
            "✅ Extracted: IISC00IND_R_20211810000_01D_30S_MO.crx.gz ➔ IISC00IND_R_20211810000_01D_30S_MO.crx\n",
            "✅ Extracted: IISC00IND_R_20211770000_01D_30S_MO.crx.gz ➔ IISC00IND_R_20211770000_01D_30S_MO.crx\n"
          ]
        },
        {
          "output_type": "stream",
          "name": "stderr",
          "text": [
            "Extracting 2021/06Jun: 100%|██████████| 30/30 [00:03<00:00,  8.81it/s]\n"
          ]
        },
        {
          "output_type": "stream",
          "name": "stdout",
          "text": [
            "✅ Extracted: IISC00IND_R_20211660000_01D_30S_MO.crx.gz ➔ IISC00IND_R_20211660000_01D_30S_MO.crx\n"
          ]
        },
        {
          "output_type": "stream",
          "name": "stderr",
          "text": [
            "Extracting 2021/05May:   3%|▎         | 1/31 [00:00<00:04,  7.25it/s]"
          ]
        },
        {
          "output_type": "stream",
          "name": "stdout",
          "text": [
            "✅ Extracted: IISC00IND_R_20211440000_01D_30S_MO.crx.gz ➔ IISC00IND_R_20211440000_01D_30S_MO.crx\n"
          ]
        },
        {
          "output_type": "stream",
          "name": "stderr",
          "text": [
            "Extracting 2021/05May:  10%|▉         | 3/31 [00:00<00:04,  6.78it/s]"
          ]
        },
        {
          "output_type": "stream",
          "name": "stdout",
          "text": [
            "✅ Extracted: IISC00IND_R_20211210000_01D_30S_MO.crx.gz ➔ IISC00IND_R_20211210000_01D_30S_MO.crx\n",
            "✅ Extracted: IISC00IND_R_20211310000_01D_30S_MO.crx.gz ➔ IISC00IND_R_20211310000_01D_30S_MO.crx\n"
          ]
        },
        {
          "output_type": "stream",
          "name": "stderr",
          "text": [
            "Extracting 2021/05May:  16%|█▌        | 5/31 [00:00<00:03,  7.78it/s]"
          ]
        },
        {
          "output_type": "stream",
          "name": "stdout",
          "text": [
            "✅ Extracted: IISC00IND_R_20211300000_01D_30S_MO.crx.gz ➔ IISC00IND_R_20211300000_01D_30S_MO.crx\n",
            "✅ Extracted: IISC00IND_R_20211510000_01D_30S_MO.crx.gz ➔ IISC00IND_R_20211510000_01D_30S_MO.crx\n"
          ]
        },
        {
          "output_type": "stream",
          "name": "stderr",
          "text": [
            "Extracting 2021/05May:  23%|██▎       | 7/31 [00:00<00:02,  8.33it/s]"
          ]
        },
        {
          "output_type": "stream",
          "name": "stdout",
          "text": [
            "✅ Extracted: IISC00IND_R_20211350000_01D_30S_MO.crx.gz ➔ IISC00IND_R_20211350000_01D_30S_MO.crx\n",
            "✅ Extracted: IISC00IND_R_20211330000_01D_30S_MO.crx.gz ➔ IISC00IND_R_20211330000_01D_30S_MO.crx\n"
          ]
        },
        {
          "output_type": "stream",
          "name": "stderr",
          "text": [
            "Extracting 2021/05May:  29%|██▉       | 9/31 [00:01<00:02,  8.72it/s]"
          ]
        },
        {
          "output_type": "stream",
          "name": "stdout",
          "text": [
            "✅ Extracted: IISC00IND_R_20211280000_01D_30S_MO.crx.gz ➔ IISC00IND_R_20211280000_01D_30S_MO.crx\n",
            "✅ Extracted: IISC00IND_R_20211320000_01D_30S_MO.crx.gz ➔ IISC00IND_R_20211320000_01D_30S_MO.crx\n"
          ]
        },
        {
          "output_type": "stream",
          "name": "stderr",
          "text": [
            "Extracting 2021/05May:  35%|███▌      | 11/31 [00:01<00:02,  8.68it/s]"
          ]
        },
        {
          "output_type": "stream",
          "name": "stdout",
          "text": [
            "✅ Extracted: IISC00IND_R_20211400000_01D_30S_MO.crx.gz ➔ IISC00IND_R_20211400000_01D_30S_MO.crx\n",
            "✅ Extracted: IISC00IND_R_20211500000_01D_30S_MO.crx.gz ➔ IISC00IND_R_20211500000_01D_30S_MO.crx\n"
          ]
        },
        {
          "output_type": "stream",
          "name": "stderr",
          "text": [
            "\rExtracting 2021/05May:  39%|███▊      | 12/31 [00:01<00:02,  8.60it/s]"
          ]
        },
        {
          "output_type": "stream",
          "name": "stdout",
          "text": [
            "✅ Extracted: IISC00IND_R_20211430000_01D_30S_MO.crx.gz ➔ IISC00IND_R_20211430000_01D_30S_MO.crx\n"
          ]
        },
        {
          "output_type": "stream",
          "name": "stderr",
          "text": [
            "\rExtracting 2021/05May:  42%|████▏     | 13/31 [00:04<00:15,  1.14it/s]"
          ]
        },
        {
          "output_type": "stream",
          "name": "stdout",
          "text": [
            "✅ Extracted: IISC00IND_R_20211340000_01D_30S_MO.crx.gz ➔ IISC00IND_R_20211340000_01D_30S_MO.crx\n"
          ]
        },
        {
          "output_type": "stream",
          "name": "stderr",
          "text": [
            "Extracting 2021/05May:  48%|████▊     | 15/31 [00:05<00:10,  1.55it/s]"
          ]
        },
        {
          "output_type": "stream",
          "name": "stdout",
          "text": [
            "✅ Extracted: IISC00IND_R_20211290000_01D_30S_MO.crx.gz ➔ IISC00IND_R_20211290000_01D_30S_MO.crx\n",
            "✅ Extracted: IISC00IND_R_20211260000_01D_30S_MO.crx.gz ➔ IISC00IND_R_20211260000_01D_30S_MO.crx\n"
          ]
        },
        {
          "output_type": "stream",
          "name": "stderr",
          "text": [
            "Extracting 2021/05May:  55%|█████▍    | 17/31 [00:05<00:05,  2.57it/s]"
          ]
        },
        {
          "output_type": "stream",
          "name": "stdout",
          "text": [
            "✅ Extracted: IISC00IND_R_20211250000_01D_30S_MO.crx.gz ➔ IISC00IND_R_20211250000_01D_30S_MO.crx\n",
            "✅ Extracted: IISC00IND_R_20211220000_01D_30S_MO.crx.gz ➔ IISC00IND_R_20211220000_01D_30S_MO.crx\n"
          ]
        },
        {
          "output_type": "stream",
          "name": "stderr",
          "text": [
            "Extracting 2021/05May:  61%|██████▏   | 19/31 [00:05<00:03,  3.73it/s]"
          ]
        },
        {
          "output_type": "stream",
          "name": "stdout",
          "text": [
            "✅ Extracted: IISC00IND_R_20211460000_01D_30S_MO.crx.gz ➔ IISC00IND_R_20211460000_01D_30S_MO.crx\n",
            "✅ Extracted: IISC00IND_R_20211380000_01D_30S_MO.crx.gz ➔ IISC00IND_R_20211380000_01D_30S_MO.crx\n"
          ]
        },
        {
          "output_type": "stream",
          "name": "stderr",
          "text": [
            "Extracting 2021/05May:  68%|██████▊   | 21/31 [00:05<00:02,  4.87it/s]"
          ]
        },
        {
          "output_type": "stream",
          "name": "stdout",
          "text": [
            "✅ Extracted: IISC00IND_R_20211450000_01D_30S_MO.crx.gz ➔ IISC00IND_R_20211450000_01D_30S_MO.crx\n",
            "✅ Extracted: IISC00IND_R_20211410000_01D_30S_MO.crx.gz ➔ IISC00IND_R_20211410000_01D_30S_MO.crx\n"
          ]
        },
        {
          "output_type": "stream",
          "name": "stderr",
          "text": [
            "Extracting 2021/05May:  74%|███████▍  | 23/31 [00:06<00:01,  5.90it/s]"
          ]
        },
        {
          "output_type": "stream",
          "name": "stdout",
          "text": [
            "✅ Extracted: IISC00IND_R_20211490000_01D_30S_MO.crx.gz ➔ IISC00IND_R_20211490000_01D_30S_MO.crx\n",
            "✅ Extracted: IISC00IND_R_20211390000_01D_30S_MO.crx.gz ➔ IISC00IND_R_20211390000_01D_30S_MO.crx\n"
          ]
        },
        {
          "output_type": "stream",
          "name": "stderr",
          "text": [
            "\rExtracting 2021/05May:  77%|███████▋  | 24/31 [00:06<00:01,  6.59it/s]"
          ]
        },
        {
          "output_type": "stream",
          "name": "stdout",
          "text": [
            "✅ Extracted: IISC00IND_R_20211370000_01D_30S_MO.crx.gz ➔ IISC00IND_R_20211370000_01D_30S_MO.crx\n"
          ]
        },
        {
          "output_type": "stream",
          "name": "stderr",
          "text": [
            "Extracting 2021/05May:  84%|████████▍ | 26/31 [00:06<00:00,  6.62it/s]"
          ]
        },
        {
          "output_type": "stream",
          "name": "stdout",
          "text": [
            "✅ Extracted: IISC00IND_R_20211480000_01D_30S_MO.crx.gz ➔ IISC00IND_R_20211480000_01D_30S_MO.crx\n",
            "✅ Extracted: IISC00IND_R_20211360000_01D_30S_MO.crx.gz ➔ IISC00IND_R_20211360000_01D_30S_MO.crx\n"
          ]
        },
        {
          "output_type": "stream",
          "name": "stderr",
          "text": [
            "Extracting 2021/05May:  90%|█████████ | 28/31 [00:06<00:00,  7.63it/s]"
          ]
        },
        {
          "output_type": "stream",
          "name": "stdout",
          "text": [
            "✅ Extracted: IISC00IND_R_20211470000_01D_30S_MO.crx.gz ➔ IISC00IND_R_20211470000_01D_30S_MO.crx\n",
            "✅ Extracted: IISC00IND_R_20211240000_01D_30S_MO.crx.gz ➔ IISC00IND_R_20211240000_01D_30S_MO.crx\n"
          ]
        },
        {
          "output_type": "stream",
          "name": "stderr",
          "text": [
            "Extracting 2021/05May:  97%|█████████▋| 30/31 [00:07<00:00,  8.08it/s]"
          ]
        },
        {
          "output_type": "stream",
          "name": "stdout",
          "text": [
            "✅ Extracted: IISC00IND_R_20211270000_01D_30S_MO.crx.gz ➔ IISC00IND_R_20211270000_01D_30S_MO.crx\n",
            "✅ Extracted: IISC00IND_R_20211230000_01D_30S_MO.crx.gz ➔ IISC00IND_R_20211230000_01D_30S_MO.crx\n"
          ]
        },
        {
          "output_type": "stream",
          "name": "stderr",
          "text": [
            "Extracting 2021/05May: 100%|██████████| 31/31 [00:07<00:00,  4.27it/s]\n"
          ]
        },
        {
          "output_type": "stream",
          "name": "stdout",
          "text": [
            "✅ Extracted: IISC00IND_R_20211420000_01D_30S_MO.crx.gz ➔ IISC00IND_R_20211420000_01D_30S_MO.crx\n"
          ]
        },
        {
          "output_type": "stream",
          "name": "stderr",
          "text": [
            "Extracting 2021/08Aug:   3%|▎         | 1/31 [00:00<00:03,  7.94it/s]"
          ]
        },
        {
          "output_type": "stream",
          "name": "stdout",
          "text": [
            "✅ Extracted: IISC00IND_R_20212290000_01D_30S_MO.crx.gz ➔ IISC00IND_R_20212290000_01D_30S_MO.crx\n"
          ]
        },
        {
          "output_type": "stream",
          "name": "stderr",
          "text": [
            "\rExtracting 2021/08Aug:   6%|▋         | 2/31 [00:00<00:03,  8.42it/s]"
          ]
        },
        {
          "output_type": "stream",
          "name": "stdout",
          "text": [
            "✅ Extracted: IISC00IND_R_20212180000_01D_30S_MO.crx.gz ➔ IISC00IND_R_20212180000_01D_30S_MO.crx\n"
          ]
        },
        {
          "output_type": "stream",
          "name": "stderr",
          "text": [
            "\rExtracting 2021/08Aug:  10%|▉         | 3/31 [00:00<00:03,  8.68it/s]"
          ]
        },
        {
          "output_type": "stream",
          "name": "stdout",
          "text": [
            "✅ Extracted: IISC00IND_R_20212360000_01D_30S_MO.crx.gz ➔ IISC00IND_R_20212360000_01D_30S_MO.crx\n"
          ]
        },
        {
          "output_type": "stream",
          "name": "stderr",
          "text": [
            "\rExtracting 2021/08Aug:  13%|█▎        | 4/31 [00:00<00:03,  8.74it/s]"
          ]
        },
        {
          "output_type": "stream",
          "name": "stdout",
          "text": [
            "✅ Extracted: IISC00IND_R_20212280000_01D_30S_MO.crx.gz ➔ IISC00IND_R_20212280000_01D_30S_MO.crx\n"
          ]
        },
        {
          "output_type": "stream",
          "name": "stderr",
          "text": [
            "\rExtracting 2021/08Aug:  16%|█▌        | 5/31 [00:00<00:03,  8.51it/s]"
          ]
        },
        {
          "output_type": "stream",
          "name": "stdout",
          "text": [
            "✅ Extracted: IISC00IND_R_20212390000_01D_30S_MO.crx.gz ➔ IISC00IND_R_20212390000_01D_30S_MO.crx\n"
          ]
        },
        {
          "output_type": "stream",
          "name": "stderr",
          "text": [
            "\rExtracting 2021/08Aug:  19%|█▉        | 6/31 [00:00<00:02,  8.74it/s]"
          ]
        },
        {
          "output_type": "stream",
          "name": "stdout",
          "text": [
            "✅ Extracted: IISC00IND_R_20212200000_01D_30S_MO.crx.gz ➔ IISC00IND_R_20212200000_01D_30S_MO.crx\n"
          ]
        },
        {
          "output_type": "stream",
          "name": "stderr",
          "text": [
            "\rExtracting 2021/08Aug:  23%|██▎       | 7/31 [00:00<00:02,  9.00it/s]"
          ]
        },
        {
          "output_type": "stream",
          "name": "stdout",
          "text": [
            "✅ Extracted: IISC00IND_R_20212170000_01D_30S_MO.crx.gz ➔ IISC00IND_R_20212170000_01D_30S_MO.crx\n"
          ]
        },
        {
          "output_type": "stream",
          "name": "stderr",
          "text": [
            "\rExtracting 2021/08Aug:  26%|██▌       | 8/31 [00:00<00:02,  9.29it/s]"
          ]
        },
        {
          "output_type": "stream",
          "name": "stdout",
          "text": [
            "✅ Extracted: IISC00IND_R_20212160000_01D_30S_MO.crx.gz ➔ IISC00IND_R_20212160000_01D_30S_MO.crx\n"
          ]
        },
        {
          "output_type": "stream",
          "name": "stderr",
          "text": [
            "\rExtracting 2021/08Aug:  29%|██▉       | 9/31 [00:01<00:02,  9.29it/s]"
          ]
        },
        {
          "output_type": "stream",
          "name": "stdout",
          "text": [
            "✅ Extracted: IISC00IND_R_20212140000_01D_30S_MO.crx.gz ➔ IISC00IND_R_20212140000_01D_30S_MO.crx\n"
          ]
        },
        {
          "output_type": "stream",
          "name": "stderr",
          "text": [
            "\rExtracting 2021/08Aug:  32%|███▏      | 10/31 [00:01<00:02,  9.36it/s]"
          ]
        },
        {
          "output_type": "stream",
          "name": "stdout",
          "text": [
            "✅ Extracted: IISC00IND_R_20212300000_01D_30S_MO.crx.gz ➔ IISC00IND_R_20212300000_01D_30S_MO.crx\n"
          ]
        },
        {
          "output_type": "stream",
          "name": "stderr",
          "text": [
            "\rExtracting 2021/08Aug:  35%|███▌      | 11/31 [00:01<00:02,  9.44it/s]"
          ]
        },
        {
          "output_type": "stream",
          "name": "stdout",
          "text": [
            "✅ Extracted: IISC00IND_R_20212250000_01D_30S_MO.crx.gz ➔ IISC00IND_R_20212250000_01D_30S_MO.crx\n"
          ]
        },
        {
          "output_type": "stream",
          "name": "stderr",
          "text": [
            "\rExtracting 2021/08Aug:  39%|███▊      | 12/31 [00:01<00:02,  9.07it/s]"
          ]
        },
        {
          "output_type": "stream",
          "name": "stdout",
          "text": [
            "✅ Extracted: IISC00IND_R_20212210000_01D_30S_MO.crx.gz ➔ IISC00IND_R_20212210000_01D_30S_MO.crx\n"
          ]
        },
        {
          "output_type": "stream",
          "name": "stderr",
          "text": [
            "Extracting 2021/08Aug:  45%|████▌     | 14/31 [00:01<00:02,  7.68it/s]"
          ]
        },
        {
          "output_type": "stream",
          "name": "stdout",
          "text": [
            "✅ Extracted: IISC00IND_R_20212430000_01D_30S_MO.crx.gz ➔ IISC00IND_R_20212430000_01D_30S_MO.crx\n",
            "✅ Extracted: IISC00IND_R_20212270000_01D_30S_MO.crx.gz ➔ IISC00IND_R_20212270000_01D_30S_MO.crx\n"
          ]
        },
        {
          "output_type": "stream",
          "name": "stderr",
          "text": [
            "Extracting 2021/08Aug:  52%|█████▏    | 16/31 [00:01<00:01,  8.38it/s]"
          ]
        },
        {
          "output_type": "stream",
          "name": "stdout",
          "text": [
            "✅ Extracted: IISC00IND_R_20212230000_01D_30S_MO.crx.gz ➔ IISC00IND_R_20212230000_01D_30S_MO.crx\n",
            "✅ Extracted: IISC00IND_R_20212400000_01D_30S_MO.crx.gz ➔ IISC00IND_R_20212400000_01D_30S_MO.crx\n"
          ]
        },
        {
          "output_type": "stream",
          "name": "stderr",
          "text": [
            "Extracting 2021/08Aug:  58%|█████▊    | 18/31 [00:02<00:01,  8.41it/s]"
          ]
        },
        {
          "output_type": "stream",
          "name": "stdout",
          "text": [
            "✅ Extracted: IISC00IND_R_20212380000_01D_30S_MO.crx.gz ➔ IISC00IND_R_20212380000_01D_30S_MO.crx\n",
            "✅ Extracted: IISC00IND_R_20212190000_01D_30S_MO.crx.gz ➔ IISC00IND_R_20212190000_01D_30S_MO.crx\n"
          ]
        },
        {
          "output_type": "stream",
          "name": "stderr",
          "text": [
            "Extracting 2021/08Aug:  65%|██████▍   | 20/31 [00:02<00:01,  8.71it/s]"
          ]
        },
        {
          "output_type": "stream",
          "name": "stdout",
          "text": [
            "✅ Extracted: IISC00IND_R_20212220000_01D_30S_MO.crx.gz ➔ IISC00IND_R_20212220000_01D_30S_MO.crx\n",
            "✅ Extracted: IISC00IND_R_20212410000_01D_30S_MO.crx.gz ➔ IISC00IND_R_20212410000_01D_30S_MO.crx\n"
          ]
        },
        {
          "output_type": "stream",
          "name": "stderr",
          "text": [
            "Extracting 2021/08Aug:  71%|███████   | 22/31 [00:02<00:01,  8.85it/s]"
          ]
        },
        {
          "output_type": "stream",
          "name": "stdout",
          "text": [
            "✅ Extracted: IISC00IND_R_20212150000_01D_30S_MO.crx.gz ➔ IISC00IND_R_20212150000_01D_30S_MO.crx\n",
            "✅ Extracted: IISC00IND_R_20212370000_01D_30S_MO.crx.gz ➔ IISC00IND_R_20212370000_01D_30S_MO.crx\n"
          ]
        },
        {
          "output_type": "stream",
          "name": "stderr",
          "text": [
            "Extracting 2021/08Aug:  77%|███████▋  | 24/31 [00:02<00:00,  9.06it/s]"
          ]
        },
        {
          "output_type": "stream",
          "name": "stdout",
          "text": [
            "✅ Extracted: IISC00IND_R_20212310000_01D_30S_MO.crx.gz ➔ IISC00IND_R_20212310000_01D_30S_MO.crx\n",
            "✅ Extracted: IISC00IND_R_20212420000_01D_30S_MO.crx.gz ➔ IISC00IND_R_20212420000_01D_30S_MO.crx\n",
            "✅ Extracted: IISC00IND_R_20212320000_01D_30S_MO.crx.gz ➔ IISC00IND_R_20212320000_01D_30S_MO.crx\n"
          ]
        },
        {
          "output_type": "stream",
          "name": "stderr",
          "text": [
            "Extracting 2021/08Aug:  87%|████████▋ | 27/31 [00:03<00:00,  9.69it/s]"
          ]
        },
        {
          "output_type": "stream",
          "name": "stdout",
          "text": [
            "✅ Extracted: IISC00IND_R_20212260000_01D_30S_MO.crx.gz ➔ IISC00IND_R_20212260000_01D_30S_MO.crx\n",
            "✅ Extracted: IISC00IND_R_20212240000_01D_30S_MO.crx.gz ➔ IISC00IND_R_20212240000_01D_30S_MO.crx\n",
            "✅ Extracted: IISC00IND_R_20212340000_01D_30S_MO.crx.gz ➔ IISC00IND_R_20212340000_01D_30S_MO.crx\n"
          ]
        },
        {
          "output_type": "stream",
          "name": "stderr",
          "text": [
            "Extracting 2021/08Aug: 100%|██████████| 31/31 [00:03<00:00,  8.95it/s]\n"
          ]
        },
        {
          "output_type": "stream",
          "name": "stdout",
          "text": [
            "✅ Extracted: IISC00IND_R_20212350000_01D_30S_MO.crx.gz ➔ IISC00IND_R_20212350000_01D_30S_MO.crx\n",
            "✅ Extracted: IISC00IND_R_20212130000_01D_30S_MO.crx.gz ➔ IISC00IND_R_20212130000_01D_30S_MO.crx\n",
            "✅ Extracted: IISC00IND_R_20212330000_01D_30S_MO.crx.gz ➔ IISC00IND_R_20212330000_01D_30S_MO.crx\n"
          ]
        },
        {
          "output_type": "stream",
          "name": "stderr",
          "text": [
            "Extracting 2021/10Oct:   6%|▋         | 2/31 [00:00<00:04,  6.25it/s]"
          ]
        },
        {
          "output_type": "stream",
          "name": "stdout",
          "text": [
            "✅ Extracted: IISC00IND_R_20212820000_01D_30S_MO.crx.gz ➔ IISC00IND_R_20212820000_01D_30S_MO.crx\n",
            "✅ Extracted: IISC00IND_R_20212920000_01D_30S_MO.crx.gz ➔ IISC00IND_R_20212920000_01D_30S_MO.crx\n"
          ]
        },
        {
          "output_type": "stream",
          "name": "stderr",
          "text": [
            "Extracting 2021/10Oct:  13%|█▎        | 4/31 [00:00<00:03,  7.73it/s]"
          ]
        },
        {
          "output_type": "stream",
          "name": "stdout",
          "text": [
            "✅ Extracted: IISC00IND_R_20213040000_01D_30S_MO.crx.gz ➔ IISC00IND_R_20213040000_01D_30S_MO.crx\n",
            "✅ Extracted: IISC00IND_R_20212950000_01D_30S_MO.crx.gz ➔ IISC00IND_R_20212950000_01D_30S_MO.crx\n"
          ]
        },
        {
          "output_type": "stream",
          "name": "stderr",
          "text": [
            "Extracting 2021/10Oct:  19%|█▉        | 6/31 [00:00<00:03,  7.31it/s]"
          ]
        },
        {
          "output_type": "stream",
          "name": "stdout",
          "text": [
            "✅ Extracted: IISC00IND_R_20213010000_01D_30S_MO.crx.gz ➔ IISC00IND_R_20213010000_01D_30S_MO.crx\n",
            "✅ Extracted: IISC00IND_R_20212790000_01D_30S_MO.crx.gz ➔ IISC00IND_R_20212790000_01D_30S_MO.crx\n"
          ]
        },
        {
          "output_type": "stream",
          "name": "stderr",
          "text": [
            "Extracting 2021/10Oct:  26%|██▌       | 8/31 [00:01<00:02,  7.75it/s]"
          ]
        },
        {
          "output_type": "stream",
          "name": "stdout",
          "text": [
            "✅ Extracted: IISC00IND_R_20212980000_01D_30S_MO.crx.gz ➔ IISC00IND_R_20212980000_01D_30S_MO.crx\n",
            "✅ Extracted: IISC00IND_R_20212940000_01D_30S_MO.crx.gz ➔ IISC00IND_R_20212940000_01D_30S_MO.crx\n"
          ]
        },
        {
          "output_type": "stream",
          "name": "stderr",
          "text": [
            "Extracting 2021/10Oct:  35%|███▌      | 11/31 [00:01<00:02,  9.04it/s]"
          ]
        },
        {
          "output_type": "stream",
          "name": "stdout",
          "text": [
            "✅ Extracted: IISC00IND_R_20212870000_01D_30S_MO.crx.gz ➔ IISC00IND_R_20212870000_01D_30S_MO.crx\n",
            "✅ Extracted: IISC00IND_R_20212880000_01D_30S_MO.crx.gz ➔ IISC00IND_R_20212880000_01D_30S_MO.crx\n",
            "✅ Extracted: IISC00IND_R_20212990000_01D_30S_MO.crx.gz ➔ IISC00IND_R_20212990000_01D_30S_MO.crx\n"
          ]
        },
        {
          "output_type": "stream",
          "name": "stderr",
          "text": [
            "Extracting 2021/10Oct:  42%|████▏     | 13/31 [00:01<00:01,  9.30it/s]"
          ]
        },
        {
          "output_type": "stream",
          "name": "stdout",
          "text": [
            "✅ Extracted: IISC00IND_R_20212740000_01D_30S_MO.crx.gz ➔ IISC00IND_R_20212740000_01D_30S_MO.crx\n",
            "✅ Extracted: IISC00IND_R_20212840000_01D_30S_MO.crx.gz ➔ IISC00IND_R_20212840000_01D_30S_MO.crx\n",
            "✅ Extracted: IISC00IND_R_20212750000_01D_30S_MO.crx.gz ➔ IISC00IND_R_20212750000_01D_30S_MO.crx\n"
          ]
        },
        {
          "output_type": "stream",
          "name": "stderr",
          "text": [
            "\rExtracting 2021/10Oct:  48%|████▊     | 15/31 [00:01<00:01,  9.73it/s]"
          ]
        },
        {
          "output_type": "stream",
          "name": "stdout",
          "text": [
            "✅ Extracted: IISC00IND_R_20212890000_01D_30S_MO.crx.gz ➔ IISC00IND_R_20212890000_01D_30S_MO.crx\n"
          ]
        },
        {
          "output_type": "stream",
          "name": "stderr",
          "text": [
            "Extracting 2021/10Oct:  55%|█████▍    | 17/31 [00:02<00:01,  8.08it/s]"
          ]
        },
        {
          "output_type": "stream",
          "name": "stdout",
          "text": [
            "✅ Extracted: IISC00IND_R_20213020000_01D_30S_MO.crx.gz ➔ IISC00IND_R_20213020000_01D_30S_MO.crx\n",
            "✅ Extracted: IISC00IND_R_20212860000_01D_30S_MO.crx.gz ➔ IISC00IND_R_20212860000_01D_30S_MO.crx\n"
          ]
        },
        {
          "output_type": "stream",
          "name": "stderr",
          "text": [
            "Extracting 2021/10Oct:  61%|██████▏   | 19/31 [00:02<00:01,  7.29it/s]"
          ]
        },
        {
          "output_type": "stream",
          "name": "stdout",
          "text": [
            "✅ Extracted: IISC00IND_R_20212810000_01D_30S_MO.crx.gz ➔ IISC00IND_R_20212810000_01D_30S_MO.crx\n",
            "✅ Extracted: IISC00IND_R_20212850000_01D_30S_MO.crx.gz ➔ IISC00IND_R_20212850000_01D_30S_MO.crx\n"
          ]
        },
        {
          "output_type": "stream",
          "name": "stderr",
          "text": [
            "Extracting 2021/10Oct:  68%|██████▊   | 21/31 [00:02<00:01,  8.24it/s]"
          ]
        },
        {
          "output_type": "stream",
          "name": "stdout",
          "text": [
            "✅ Extracted: IISC00IND_R_20212930000_01D_30S_MO.crx.gz ➔ IISC00IND_R_20212930000_01D_30S_MO.crx\n",
            "✅ Extracted: IISC00IND_R_20212900000_01D_30S_MO.crx.gz ➔ IISC00IND_R_20212900000_01D_30S_MO.crx\n"
          ]
        },
        {
          "output_type": "stream",
          "name": "stderr",
          "text": [
            "Extracting 2021/10Oct:  74%|███████▍  | 23/31 [00:02<00:00,  8.92it/s]"
          ]
        },
        {
          "output_type": "stream",
          "name": "stdout",
          "text": [
            "✅ Extracted: IISC00IND_R_20212780000_01D_30S_MO.crx.gz ➔ IISC00IND_R_20212780000_01D_30S_MO.crx\n",
            "✅ Extracted: IISC00IND_R_20213030000_01D_30S_MO.crx.gz ➔ IISC00IND_R_20213030000_01D_30S_MO.crx\n",
            "✅ Extracted: IISC00IND_R_20212800000_01D_30S_MO.crx.gz ➔ IISC00IND_R_20212800000_01D_30S_MO.crx\n"
          ]
        },
        {
          "output_type": "stream",
          "name": "stderr",
          "text": [
            "Extracting 2021/10Oct:  87%|████████▋ | 27/31 [00:03<00:00,  9.76it/s]"
          ]
        },
        {
          "output_type": "stream",
          "name": "stdout",
          "text": [
            "✅ Extracted: IISC00IND_R_20213000000_01D_30S_MO.crx.gz ➔ IISC00IND_R_20213000000_01D_30S_MO.crx\n",
            "✅ Extracted: IISC00IND_R_20212770000_01D_30S_MO.crx.gz ➔ IISC00IND_R_20212770000_01D_30S_MO.crx\n",
            "✅ Extracted: IISC00IND_R_20212910000_01D_30S_MO.crx.gz ➔ IISC00IND_R_20212910000_01D_30S_MO.crx\n"
          ]
        },
        {
          "output_type": "stream",
          "name": "stderr",
          "text": [
            "\rExtracting 2021/10Oct:  90%|█████████ | 28/31 [00:03<00:00,  9.80it/s]"
          ]
        },
        {
          "output_type": "stream",
          "name": "stdout",
          "text": [
            "✅ Extracted: IISC00IND_R_20212970000_01D_30S_MO.crx.gz ➔ IISC00IND_R_20212970000_01D_30S_MO.crx\n"
          ]
        },
        {
          "output_type": "stream",
          "name": "stderr",
          "text": [
            "Extracting 2021/10Oct:  97%|█████████▋| 30/31 [00:03<00:00,  8.09it/s]"
          ]
        },
        {
          "output_type": "stream",
          "name": "stdout",
          "text": [
            "✅ Extracted: IISC00IND_R_20212760000_01D_30S_MO.crx.gz ➔ IISC00IND_R_20212760000_01D_30S_MO.crx\n",
            "✅ Extracted: IISC00IND_R_20212830000_01D_30S_MO.crx.gz ➔ IISC00IND_R_20212830000_01D_30S_MO.crx\n"
          ]
        },
        {
          "output_type": "stream",
          "name": "stderr",
          "text": [
            "Extracting 2021/10Oct: 100%|██████████| 31/31 [00:03<00:00,  8.21it/s]\n"
          ]
        },
        {
          "output_type": "stream",
          "name": "stdout",
          "text": [
            "✅ Extracted: IISC00IND_R_20212960000_01D_30S_MO.crx.gz ➔ IISC00IND_R_20212960000_01D_30S_MO.crx\n"
          ]
        },
        {
          "output_type": "stream",
          "name": "stderr",
          "text": [
            "Extracting 2021/12Dec:   3%|▎         | 1/31 [00:00<00:03,  7.96it/s]"
          ]
        },
        {
          "output_type": "stream",
          "name": "stdout",
          "text": [
            "✅ Extracted: IISC00IND_R_20213580000_01D_30S_MO.crx.gz ➔ IISC00IND_R_20213580000_01D_30S_MO.crx\n"
          ]
        },
        {
          "output_type": "stream",
          "name": "stderr",
          "text": [
            "\rExtracting 2021/12Dec:   6%|▋         | 2/31 [00:00<00:03,  8.54it/s]"
          ]
        },
        {
          "output_type": "stream",
          "name": "stdout",
          "text": [
            "✅ Extracted: IISC00IND_R_20213410000_01D_30S_MO.crx.gz ➔ IISC00IND_R_20213410000_01D_30S_MO.crx\n"
          ]
        },
        {
          "output_type": "stream",
          "name": "stderr",
          "text": [
            "\rExtracting 2021/12Dec:  10%|▉         | 3/31 [00:00<00:03,  8.65it/s]"
          ]
        },
        {
          "output_type": "stream",
          "name": "stdout",
          "text": [
            "✅ Extracted: IISC00IND_R_20213450000_01D_30S_MO.crx.gz ➔ IISC00IND_R_20213450000_01D_30S_MO.crx\n"
          ]
        },
        {
          "output_type": "stream",
          "name": "stderr",
          "text": [
            "\rExtracting 2021/12Dec:  13%|█▎        | 4/31 [00:00<00:03,  8.16it/s]"
          ]
        },
        {
          "output_type": "stream",
          "name": "stdout",
          "text": [
            "✅ Extracted: IISC00IND_R_20213460000_01D_30S_MO.crx.gz ➔ IISC00IND_R_20213460000_01D_30S_MO.crx\n"
          ]
        },
        {
          "output_type": "stream",
          "name": "stderr",
          "text": [
            "\rExtracting 2021/12Dec:  16%|█▌        | 5/31 [00:00<00:03,  8.21it/s]"
          ]
        },
        {
          "output_type": "stream",
          "name": "stdout",
          "text": [
            "✅ Extracted: IISC00IND_R_20213440000_01D_30S_MO.crx.gz ➔ IISC00IND_R_20213440000_01D_30S_MO.crx\n"
          ]
        },
        {
          "output_type": "stream",
          "name": "stderr",
          "text": [
            "\rExtracting 2021/12Dec:  19%|█▉        | 6/31 [00:00<00:02,  8.65it/s]"
          ]
        },
        {
          "output_type": "stream",
          "name": "stdout",
          "text": [
            "✅ Extracted: IISC00IND_R_20213350000_01D_30S_MO.crx.gz ➔ IISC00IND_R_20213350000_01D_30S_MO.crx\n"
          ]
        },
        {
          "output_type": "stream",
          "name": "stderr",
          "text": [
            "\rExtracting 2021/12Dec:  23%|██▎       | 7/31 [00:00<00:02,  8.88it/s]"
          ]
        },
        {
          "output_type": "stream",
          "name": "stdout",
          "text": [
            "✅ Extracted: IISC00IND_R_20213620000_01D_30S_MO.crx.gz ➔ IISC00IND_R_20213620000_01D_30S_MO.crx\n"
          ]
        },
        {
          "output_type": "stream",
          "name": "stderr",
          "text": [
            "\rExtracting 2021/12Dec:  26%|██▌       | 8/31 [00:00<00:02,  8.74it/s]"
          ]
        },
        {
          "output_type": "stream",
          "name": "stdout",
          "text": [
            "✅ Extracted: IISC00IND_R_20213390000_01D_30S_MO.crx.gz ➔ IISC00IND_R_20213390000_01D_30S_MO.crx\n"
          ]
        },
        {
          "output_type": "stream",
          "name": "stderr",
          "text": [
            "\rExtracting 2021/12Dec:  29%|██▉       | 9/31 [00:01<00:02,  8.87it/s]"
          ]
        },
        {
          "output_type": "stream",
          "name": "stdout",
          "text": [
            "✅ Extracted: IISC00IND_R_20213430000_01D_30S_MO.crx.gz ➔ IISC00IND_R_20213430000_01D_30S_MO.crx\n"
          ]
        },
        {
          "output_type": "stream",
          "name": "stderr",
          "text": [
            "\rExtracting 2021/12Dec:  32%|███▏      | 10/31 [00:01<00:02,  8.78it/s]"
          ]
        },
        {
          "output_type": "stream",
          "name": "stdout",
          "text": [
            "✅ Extracted: IISC00IND_R_20213610000_01D_30S_MO.crx.gz ➔ IISC00IND_R_20213610000_01D_30S_MO.crx\n"
          ]
        },
        {
          "output_type": "stream",
          "name": "stderr",
          "text": [
            "\rExtracting 2021/12Dec:  35%|███▌      | 11/31 [00:01<00:02,  9.11it/s]"
          ]
        },
        {
          "output_type": "stream",
          "name": "stdout",
          "text": [
            "✅ Extracted: IISC00IND_R_20213540000_01D_30S_MO.crx.gz ➔ IISC00IND_R_20213540000_01D_30S_MO.crx\n",
            "✅ Extracted: IISC00IND_R_20213600000_01D_30S_MO.crx.gz ➔ IISC00IND_R_20213600000_01D_30S_MO.crx\n"
          ]
        },
        {
          "output_type": "stream",
          "name": "stderr",
          "text": [
            "\rExtracting 2021/12Dec:  42%|████▏     | 13/31 [00:01<00:01,  9.59it/s]"
          ]
        },
        {
          "output_type": "stream",
          "name": "stdout",
          "text": [
            "✅ Extracted: IISC00IND_R_20213360000_01D_30S_MO.crx.gz ➔ IISC00IND_R_20213360000_01D_30S_MO.crx\n"
          ]
        },
        {
          "output_type": "stream",
          "name": "stderr",
          "text": [
            "\rExtracting 2021/12Dec:  45%|████▌     | 14/31 [00:01<00:01,  9.40it/s]"
          ]
        },
        {
          "output_type": "stream",
          "name": "stdout",
          "text": [
            "✅ Extracted: IISC00IND_R_20213590000_01D_30S_MO.crx.gz ➔ IISC00IND_R_20213590000_01D_30S_MO.crx\n"
          ]
        },
        {
          "output_type": "stream",
          "name": "stderr",
          "text": [
            "\rExtracting 2021/12Dec:  48%|████▊     | 15/31 [00:01<00:01,  9.27it/s]"
          ]
        },
        {
          "output_type": "stream",
          "name": "stdout",
          "text": [
            "✅ Extracted: IISC00IND_R_20213650000_01D_30S_MO.crx.gz ➔ IISC00IND_R_20213650000_01D_30S_MO.crx\n"
          ]
        },
        {
          "output_type": "stream",
          "name": "stderr",
          "text": [
            "\rExtracting 2021/12Dec:  52%|█████▏    | 16/31 [00:01<00:01,  8.68it/s]"
          ]
        },
        {
          "output_type": "stream",
          "name": "stdout",
          "text": [
            "✅ Extracted: IISC00IND_R_20213550000_01D_30S_MO.crx.gz ➔ IISC00IND_R_20213550000_01D_30S_MO.crx\n"
          ]
        },
        {
          "output_type": "stream",
          "name": "stderr",
          "text": [
            "Extracting 2021/12Dec:  58%|█████▊    | 18/31 [00:02<00:02,  6.26it/s]"
          ]
        },
        {
          "output_type": "stream",
          "name": "stdout",
          "text": [
            "✅ Extracted: IISC00IND_R_20213510000_01D_30S_MO.crx.gz ➔ IISC00IND_R_20213510000_01D_30S_MO.crx\n",
            "✅ Extracted: IISC00IND_R_20213420000_01D_30S_MO.crx.gz ➔ IISC00IND_R_20213420000_01D_30S_MO.crx\n"
          ]
        },
        {
          "output_type": "stream",
          "name": "stderr",
          "text": [
            "Extracting 2021/12Dec:  65%|██████▍   | 20/31 [00:02<00:01,  6.44it/s]"
          ]
        },
        {
          "output_type": "stream",
          "name": "stdout",
          "text": [
            "✅ Extracted: IISC00IND_R_20213380000_01D_30S_MO.crx.gz ➔ IISC00IND_R_20213380000_01D_30S_MO.crx\n",
            "✅ Extracted: IISC00IND_R_20213560000_01D_30S_MO.crx.gz ➔ IISC00IND_R_20213560000_01D_30S_MO.crx\n"
          ]
        },
        {
          "output_type": "stream",
          "name": "stderr",
          "text": [
            "Extracting 2021/12Dec:  71%|███████   | 22/31 [00:02<00:01,  6.74it/s]"
          ]
        },
        {
          "output_type": "stream",
          "name": "stdout",
          "text": [
            "✅ Extracted: IISC00IND_R_20213640000_01D_30S_MO.crx.gz ➔ IISC00IND_R_20213640000_01D_30S_MO.crx\n",
            "✅ Extracted: IISC00IND_R_20213470000_01D_30S_MO.crx.gz ➔ IISC00IND_R_20213470000_01D_30S_MO.crx\n"
          ]
        },
        {
          "output_type": "stream",
          "name": "stderr",
          "text": [
            "Extracting 2021/12Dec:  77%|███████▋  | 24/31 [00:03<00:00,  7.05it/s]"
          ]
        },
        {
          "output_type": "stream",
          "name": "stdout",
          "text": [
            "✅ Extracted: IISC00IND_R_20213370000_01D_30S_MO.crx.gz ➔ IISC00IND_R_20213370000_01D_30S_MO.crx\n",
            "✅ Extracted: IISC00IND_R_20213530000_01D_30S_MO.crx.gz ➔ IISC00IND_R_20213530000_01D_30S_MO.crx\n"
          ]
        },
        {
          "output_type": "stream",
          "name": "stderr",
          "text": [
            "Extracting 2021/12Dec:  84%|████████▍ | 26/31 [00:03<00:00,  6.92it/s]"
          ]
        },
        {
          "output_type": "stream",
          "name": "stdout",
          "text": [
            "✅ Extracted: IISC00IND_R_20213520000_01D_30S_MO.crx.gz ➔ IISC00IND_R_20213520000_01D_30S_MO.crx\n",
            "✅ Extracted: IISC00IND_R_20213630000_01D_30S_MO.crx.gz ➔ IISC00IND_R_20213630000_01D_30S_MO.crx\n"
          ]
        },
        {
          "output_type": "stream",
          "name": "stderr",
          "text": [
            "Extracting 2021/12Dec:  90%|█████████ | 28/31 [00:03<00:00,  6.78it/s]"
          ]
        },
        {
          "output_type": "stream",
          "name": "stdout",
          "text": [
            "✅ Extracted: IISC00IND_R_20213480000_01D_30S_MO.crx.gz ➔ IISC00IND_R_20213480000_01D_30S_MO.crx\n",
            "✅ Extracted: IISC00IND_R_20213570000_01D_30S_MO.crx.gz ➔ IISC00IND_R_20213570000_01D_30S_MO.crx\n"
          ]
        },
        {
          "output_type": "stream",
          "name": "stderr",
          "text": [
            "Extracting 2021/12Dec:  97%|█████████▋| 30/31 [00:03<00:00,  6.76it/s]"
          ]
        },
        {
          "output_type": "stream",
          "name": "stdout",
          "text": [
            "✅ Extracted: IISC00IND_R_20213500000_01D_30S_MO.crx.gz ➔ IISC00IND_R_20213500000_01D_30S_MO.crx\n",
            "✅ Extracted: IISC00IND_R_20213490000_01D_30S_MO.crx.gz ➔ IISC00IND_R_20213490000_01D_30S_MO.crx\n"
          ]
        },
        {
          "output_type": "stream",
          "name": "stderr",
          "text": [
            "Extracting 2021/12Dec: 100%|██████████| 31/31 [00:04<00:00,  7.45it/s]\n"
          ]
        },
        {
          "output_type": "stream",
          "name": "stdout",
          "text": [
            "✅ Extracted: IISC00IND_R_20213400000_01D_30S_MO.crx.gz ➔ IISC00IND_R_20213400000_01D_30S_MO.crx\n"
          ]
        },
        {
          "output_type": "stream",
          "name": "stderr",
          "text": [
            "Extracting 2021/02Feb:   4%|▎         | 1/28 [00:00<00:04,  6.43it/s]"
          ]
        },
        {
          "output_type": "stream",
          "name": "stdout",
          "text": [
            "✅ Extracted: IISC00IND_R_20210410000_01D_30S_MO.crx.gz ➔ IISC00IND_R_20210410000_01D_30S_MO.crx\n"
          ]
        },
        {
          "output_type": "stream",
          "name": "stderr",
          "text": [
            "\rExtracting 2021/02Feb:   7%|▋         | 2/28 [00:00<00:04,  6.46it/s]"
          ]
        },
        {
          "output_type": "stream",
          "name": "stdout",
          "text": [
            "✅ Extracted: IISC00IND_R_20210590000_01D_30S_MO.crx.gz ➔ IISC00IND_R_20210590000_01D_30S_MO.crx\n"
          ]
        },
        {
          "output_type": "stream",
          "name": "stderr",
          "text": [
            "\rExtracting 2021/02Feb:  11%|█         | 3/28 [00:00<00:03,  6.70it/s]"
          ]
        },
        {
          "output_type": "stream",
          "name": "stdout",
          "text": [
            "✅ Extracted: IISC00IND_R_20210500000_01D_30S_MO.crx.gz ➔ IISC00IND_R_20210500000_01D_30S_MO.crx\n"
          ]
        },
        {
          "output_type": "stream",
          "name": "stderr",
          "text": [
            "\rExtracting 2021/02Feb:  14%|█▍        | 4/28 [00:00<00:03,  6.60it/s]"
          ]
        },
        {
          "output_type": "stream",
          "name": "stdout",
          "text": [
            "✅ Extracted: IISC00IND_R_20210440000_01D_30S_MO.crx.gz ➔ IISC00IND_R_20210440000_01D_30S_MO.crx\n"
          ]
        },
        {
          "output_type": "stream",
          "name": "stderr",
          "text": [
            "\rExtracting 2021/02Feb:  18%|█▊        | 5/28 [00:00<00:03,  6.56it/s]"
          ]
        },
        {
          "output_type": "stream",
          "name": "stdout",
          "text": [
            "✅ Extracted: IISC00IND_R_20210380000_01D_30S_MO.crx.gz ➔ IISC00IND_R_20210380000_01D_30S_MO.crx\n"
          ]
        },
        {
          "output_type": "stream",
          "name": "stderr",
          "text": [
            "\rExtracting 2021/02Feb:  21%|██▏       | 6/28 [00:00<00:03,  6.54it/s]"
          ]
        },
        {
          "output_type": "stream",
          "name": "stdout",
          "text": [
            "✅ Extracted: IISC00IND_R_20210580000_01D_30S_MO.crx.gz ➔ IISC00IND_R_20210580000_01D_30S_MO.crx\n"
          ]
        },
        {
          "output_type": "stream",
          "name": "stderr",
          "text": [
            "\rExtracting 2021/02Feb:  25%|██▌       | 7/28 [00:01<00:03,  6.54it/s]"
          ]
        },
        {
          "output_type": "stream",
          "name": "stdout",
          "text": [
            "✅ Extracted: IISC00IND_R_20210490000_01D_30S_MO.crx.gz ➔ IISC00IND_R_20210490000_01D_30S_MO.crx\n"
          ]
        },
        {
          "output_type": "stream",
          "name": "stderr",
          "text": [
            "\rExtracting 2021/02Feb:  29%|██▊       | 8/28 [00:01<00:03,  6.45it/s]"
          ]
        },
        {
          "output_type": "stream",
          "name": "stdout",
          "text": [
            "✅ Extracted: IISC00IND_R_20210420000_01D_30S_MO.crx.gz ➔ IISC00IND_R_20210420000_01D_30S_MO.crx\n"
          ]
        },
        {
          "output_type": "stream",
          "name": "stderr",
          "text": [
            "\rExtracting 2021/02Feb:  32%|███▏      | 9/28 [00:01<00:03,  6.12it/s]"
          ]
        },
        {
          "output_type": "stream",
          "name": "stdout",
          "text": [
            "✅ Extracted: IISC00IND_R_20210560000_01D_30S_MO.crx.gz ➔ IISC00IND_R_20210560000_01D_30S_MO.crx\n"
          ]
        },
        {
          "output_type": "stream",
          "name": "stderr",
          "text": [
            "\rExtracting 2021/02Feb:  36%|███▌      | 10/28 [00:01<00:02,  6.70it/s]"
          ]
        },
        {
          "output_type": "stream",
          "name": "stdout",
          "text": [
            "✅ Extracted: IISC00IND_R_20210370000_01D_30S_MO.crx.gz ➔ IISC00IND_R_20210370000_01D_30S_MO.crx\n"
          ]
        },
        {
          "output_type": "stream",
          "name": "stderr",
          "text": [
            "\rExtracting 2021/02Feb:  39%|███▉      | 11/28 [00:01<00:02,  6.92it/s]"
          ]
        },
        {
          "output_type": "stream",
          "name": "stdout",
          "text": [
            "✅ Extracted: IISC00IND_R_20210350000_01D_30S_MO.crx.gz ➔ IISC00IND_R_20210350000_01D_30S_MO.crx\n"
          ]
        },
        {
          "output_type": "stream",
          "name": "stderr",
          "text": [
            "\rExtracting 2021/02Feb:  43%|████▎     | 12/28 [00:01<00:02,  7.38it/s]"
          ]
        },
        {
          "output_type": "stream",
          "name": "stdout",
          "text": [
            "✅ Extracted: IISC00IND_R_20210340000_01D_30S_MO.crx.gz ➔ IISC00IND_R_20210340000_01D_30S_MO.crx\n"
          ]
        },
        {
          "output_type": "stream",
          "name": "stderr",
          "text": [
            "\rExtracting 2021/02Feb:  46%|████▋     | 13/28 [00:01<00:01,  7.65it/s]"
          ]
        },
        {
          "output_type": "stream",
          "name": "stdout",
          "text": [
            "✅ Extracted: IISC00IND_R_20210540000_01D_30S_MO.crx.gz ➔ IISC00IND_R_20210540000_01D_30S_MO.crx\n"
          ]
        },
        {
          "output_type": "stream",
          "name": "stderr",
          "text": [
            "\rExtracting 2021/02Feb:  50%|█████     | 14/28 [00:02<00:01,  7.73it/s]"
          ]
        },
        {
          "output_type": "stream",
          "name": "stdout",
          "text": [
            "✅ Extracted: IISC00IND_R_20210330000_01D_30S_MO.crx.gz ➔ IISC00IND_R_20210330000_01D_30S_MO.crx\n"
          ]
        },
        {
          "output_type": "stream",
          "name": "stderr",
          "text": [
            "\rExtracting 2021/02Feb:  54%|█████▎    | 15/28 [00:02<00:01,  7.69it/s]"
          ]
        },
        {
          "output_type": "stream",
          "name": "stdout",
          "text": [
            "✅ Extracted: IISC00IND_R_20210320000_01D_30S_MO.crx.gz ➔ IISC00IND_R_20210320000_01D_30S_MO.crx\n"
          ]
        },
        {
          "output_type": "stream",
          "name": "stderr",
          "text": [
            "\rExtracting 2021/02Feb:  57%|█████▋    | 16/28 [00:02<00:01,  7.99it/s]"
          ]
        },
        {
          "output_type": "stream",
          "name": "stdout",
          "text": [
            "✅ Extracted: IISC00IND_R_20210480000_01D_30S_MO.crx.gz ➔ IISC00IND_R_20210480000_01D_30S_MO.crx\n"
          ]
        },
        {
          "output_type": "stream",
          "name": "stderr",
          "text": [
            "\rExtracting 2021/02Feb:  61%|██████    | 17/28 [00:02<00:01,  8.21it/s]"
          ]
        },
        {
          "output_type": "stream",
          "name": "stdout",
          "text": [
            "✅ Extracted: IISC00IND_R_20210400000_01D_30S_MO.crx.gz ➔ IISC00IND_R_20210400000_01D_30S_MO.crx\n"
          ]
        },
        {
          "output_type": "stream",
          "name": "stderr",
          "text": [
            "\rExtracting 2021/02Feb:  64%|██████▍   | 18/28 [00:02<00:01,  8.45it/s]"
          ]
        },
        {
          "output_type": "stream",
          "name": "stdout",
          "text": [
            "✅ Extracted: IISC00IND_R_20210570000_01D_30S_MO.crx.gz ➔ IISC00IND_R_20210570000_01D_30S_MO.crx\n"
          ]
        },
        {
          "output_type": "stream",
          "name": "stderr",
          "text": [
            "\rExtracting 2021/02Feb:  68%|██████▊   | 19/28 [00:02<00:01,  8.64it/s]"
          ]
        },
        {
          "output_type": "stream",
          "name": "stdout",
          "text": [
            "✅ Extracted: IISC00IND_R_20210460000_01D_30S_MO.crx.gz ➔ IISC00IND_R_20210460000_01D_30S_MO.crx\n"
          ]
        },
        {
          "output_type": "stream",
          "name": "stderr",
          "text": [
            "\rExtracting 2021/02Feb:  71%|███████▏  | 20/28 [00:02<00:00,  8.44it/s]"
          ]
        },
        {
          "output_type": "stream",
          "name": "stdout",
          "text": [
            "✅ Extracted: IISC00IND_R_20210450000_01D_30S_MO.crx.gz ➔ IISC00IND_R_20210450000_01D_30S_MO.crx\n"
          ]
        },
        {
          "output_type": "stream",
          "name": "stderr",
          "text": [
            "\rExtracting 2021/02Feb:  75%|███████▌  | 21/28 [00:02<00:00,  8.73it/s]"
          ]
        },
        {
          "output_type": "stream",
          "name": "stdout",
          "text": [
            "✅ Extracted: IISC00IND_R_20210550000_01D_30S_MO.crx.gz ➔ IISC00IND_R_20210550000_01D_30S_MO.crx\n"
          ]
        },
        {
          "output_type": "stream",
          "name": "stderr",
          "text": [
            "\rExtracting 2021/02Feb:  79%|███████▊  | 22/28 [00:02<00:00,  9.06it/s]"
          ]
        },
        {
          "output_type": "stream",
          "name": "stdout",
          "text": [
            "✅ Extracted: IISC00IND_R_20210360000_01D_30S_MO.crx.gz ➔ IISC00IND_R_20210360000_01D_30S_MO.crx\n"
          ]
        },
        {
          "output_type": "stream",
          "name": "stderr",
          "text": [
            "\rExtracting 2021/02Feb:  82%|████████▏ | 23/28 [00:03<00:00,  9.04it/s]"
          ]
        },
        {
          "output_type": "stream",
          "name": "stdout",
          "text": [
            "✅ Extracted: IISC00IND_R_20210530000_01D_30S_MO.crx.gz ➔ IISC00IND_R_20210530000_01D_30S_MO.crx\n"
          ]
        },
        {
          "output_type": "stream",
          "name": "stderr",
          "text": [
            "\rExtracting 2021/02Feb:  89%|████████▉ | 25/28 [00:03<00:00,  9.55it/s]"
          ]
        },
        {
          "output_type": "stream",
          "name": "stdout",
          "text": [
            "✅ Extracted: IISC00IND_R_20210430000_01D_30S_MO.crx.gz ➔ IISC00IND_R_20210430000_01D_30S_MO.crx\n",
            "✅ Extracted: IISC00IND_R_20210470000_01D_30S_MO.crx.gz ➔ IISC00IND_R_20210470000_01D_30S_MO.crx\n"
          ]
        },
        {
          "output_type": "stream",
          "name": "stderr",
          "text": [
            "Extracting 2021/02Feb:  96%|█████████▋| 27/28 [00:03<00:00,  8.05it/s]"
          ]
        },
        {
          "output_type": "stream",
          "name": "stdout",
          "text": [
            "✅ Extracted: IISC00IND_R_20210390000_01D_30S_MO.crx.gz ➔ IISC00IND_R_20210390000_01D_30S_MO.crx\n",
            "✅ Extracted: IISC00IND_R_20210510000_01D_30S_MO.crx.gz ➔ IISC00IND_R_20210510000_01D_30S_MO.crx\n"
          ]
        },
        {
          "output_type": "stream",
          "name": "stderr",
          "text": [
            "Extracting 2021/02Feb: 100%|██████████| 28/28 [00:03<00:00,  7.61it/s]\n"
          ]
        },
        {
          "output_type": "stream",
          "name": "stdout",
          "text": [
            "✅ Extracted: IISC00IND_R_20210520000_01D_30S_MO.crx.gz ➔ IISC00IND_R_20210520000_01D_30S_MO.crx\n"
          ]
        },
        {
          "output_type": "stream",
          "name": "stderr",
          "text": [
            "Extracting 2019/03Mar:   6%|▋         | 2/31 [00:00<00:02, 11.65it/s]"
          ]
        },
        {
          "output_type": "stream",
          "name": "stdout",
          "text": [
            "✅ Extracted: IISC00IND_R_20190650000_01D_30S_MO.crx.gz ➔ IISC00IND_R_20190650000_01D_30S_MO.crx\n",
            "✅ Extracted: IISC00IND_R_20190800000_01D_30S_MO.crx.gz ➔ IISC00IND_R_20190800000_01D_30S_MO.crx\n",
            "✅ Extracted: IISC00IND_R_20190880000_01D_30S_MO.crx.gz ➔ IISC00IND_R_20190880000_01D_30S_MO.crx\n"
          ]
        },
        {
          "output_type": "stream",
          "name": "stderr",
          "text": [
            "\rExtracting 2019/03Mar:  13%|█▎        | 4/31 [00:00<00:02, 11.97it/s]"
          ]
        },
        {
          "output_type": "stream",
          "name": "stdout",
          "text": [
            "✅ Extracted: IISC00IND_R_20190770000_01D_30S_MO.crx.gz ➔ IISC00IND_R_20190770000_01D_30S_MO.crx\n",
            "✅ Extracted: IISC00IND_R_20190850000_01D_30S_MO.crx.gz ➔ IISC00IND_R_20190850000_01D_30S_MO.crx\n"
          ]
        },
        {
          "output_type": "stream",
          "name": "stderr",
          "text": [
            "\rExtracting 2019/03Mar:  19%|█▉        | 6/31 [00:00<00:02, 12.06it/s]"
          ]
        },
        {
          "output_type": "stream",
          "name": "stdout",
          "text": [
            "✅ Extracted: IISC00IND_R_20190830000_01D_30S_MO.crx.gz ➔ IISC00IND_R_20190830000_01D_30S_MO.crx\n"
          ]
        },
        {
          "output_type": "stream",
          "name": "stderr",
          "text": [
            "\rExtracting 2019/03Mar:  26%|██▌       | 8/31 [00:00<00:01, 11.53it/s]"
          ]
        },
        {
          "output_type": "stream",
          "name": "stdout",
          "text": [
            "✅ Extracted: IISC00IND_R_20190710000_01D_30S_MO.crx.gz ➔ IISC00IND_R_20190710000_01D_30S_MO.crx\n",
            "✅ Extracted: IISC00IND_R_20190610000_01D_30S_MO.crx.gz ➔ IISC00IND_R_20190610000_01D_30S_MO.crx\n"
          ]
        },
        {
          "output_type": "stream",
          "name": "stderr",
          "text": [
            "\rExtracting 2019/03Mar:  32%|███▏      | 10/31 [00:00<00:01, 10.91it/s]"
          ]
        },
        {
          "output_type": "stream",
          "name": "stdout",
          "text": [
            "✅ Extracted: IISC00IND_R_20190890000_01D_30S_MO.crx.gz ➔ IISC00IND_R_20190890000_01D_30S_MO.crx\n",
            "✅ Extracted: IISC00IND_R_20190640000_01D_30S_MO.crx.gz ➔ IISC00IND_R_20190640000_01D_30S_MO.crx\n",
            "✅ Extracted: IISC00IND_R_20190780000_01D_30S_MO.crx.gz ➔ IISC00IND_R_20190780000_01D_30S_MO.crx\n"
          ]
        },
        {
          "output_type": "stream",
          "name": "stderr",
          "text": [
            "Extracting 2019/03Mar:  45%|████▌     | 14/31 [00:01<00:01, 11.61it/s]"
          ]
        },
        {
          "output_type": "stream",
          "name": "stdout",
          "text": [
            "✅ Extracted: IISC00IND_R_20190860000_01D_30S_MO.crx.gz ➔ IISC00IND_R_20190860000_01D_30S_MO.crx\n",
            "✅ Extracted: IISC00IND_R_20190600000_01D_30S_MO.crx.gz ➔ IISC00IND_R_20190600000_01D_30S_MO.crx\n",
            "✅ Extracted: IISC00IND_R_20190720000_01D_30S_MO.crx.gz ➔ IISC00IND_R_20190720000_01D_30S_MO.crx\n"
          ]
        },
        {
          "output_type": "stream",
          "name": "stderr",
          "text": [
            "\rExtracting 2019/03Mar:  52%|█████▏    | 16/31 [00:01<00:01, 12.26it/s]"
          ]
        },
        {
          "output_type": "stream",
          "name": "stdout",
          "text": [
            "✅ Extracted: IISC00IND_R_20190700000_01D_30S_MO.crx.gz ➔ IISC00IND_R_20190700000_01D_30S_MO.crx\n",
            "✅ Extracted: IISC00IND_R_20190670000_01D_30S_MO.crx.gz ➔ IISC00IND_R_20190670000_01D_30S_MO.crx\n",
            "✅ Extracted: IISC00IND_R_20190790000_01D_30S_MO.crx.gz ➔ IISC00IND_R_20190790000_01D_30S_MO.crx\n"
          ]
        },
        {
          "output_type": "stream",
          "name": "stderr",
          "text": [
            "Extracting 2019/03Mar:  65%|██████▍   | 20/31 [00:01<00:00, 13.19it/s]"
          ]
        },
        {
          "output_type": "stream",
          "name": "stdout",
          "text": [
            "✅ Extracted: IISC00IND_R_20190820000_01D_30S_MO.crx.gz ➔ IISC00IND_R_20190820000_01D_30S_MO.crx\n",
            "✅ Extracted: IISC00IND_R_20190900000_01D_30S_MO.crx.gz ➔ IISC00IND_R_20190900000_01D_30S_MO.crx\n",
            "✅ Extracted: IISC00IND_R_20190680000_01D_30S_MO.crx.gz ➔ IISC00IND_R_20190680000_01D_30S_MO.crx\n"
          ]
        },
        {
          "output_type": "stream",
          "name": "stderr",
          "text": [
            "\rExtracting 2019/03Mar:  71%|███████   | 22/31 [00:01<00:00, 13.41it/s]"
          ]
        },
        {
          "output_type": "stream",
          "name": "stdout",
          "text": [
            "✅ Extracted: IISC00IND_R_20190750000_01D_30S_MO.crx.gz ➔ IISC00IND_R_20190750000_01D_30S_MO.crx\n",
            "✅ Extracted: IISC00IND_R_20190740000_01D_30S_MO.crx.gz ➔ IISC00IND_R_20190740000_01D_30S_MO.crx\n",
            "✅ Extracted: IISC00IND_R_20190620000_01D_30S_MO.crx.gz ➔ IISC00IND_R_20190620000_01D_30S_MO.crx\n"
          ]
        },
        {
          "output_type": "stream",
          "name": "stderr",
          "text": [
            "Extracting 2019/03Mar:  84%|████████▍ | 26/31 [00:02<00:00, 11.25it/s]"
          ]
        },
        {
          "output_type": "stream",
          "name": "stdout",
          "text": [
            "✅ Extracted: IISC00IND_R_20190630000_01D_30S_MO.crx.gz ➔ IISC00IND_R_20190630000_01D_30S_MO.crx\n",
            "✅ Extracted: IISC00IND_R_20190810000_01D_30S_MO.crx.gz ➔ IISC00IND_R_20190810000_01D_30S_MO.crx\n",
            "✅ Extracted: IISC00IND_R_20190730000_01D_30S_MO.crx.gz ➔ IISC00IND_R_20190730000_01D_30S_MO.crx\n"
          ]
        },
        {
          "output_type": "stream",
          "name": "stderr",
          "text": [
            "\rExtracting 2019/03Mar:  90%|█████████ | 28/31 [00:02<00:00, 11.93it/s]"
          ]
        },
        {
          "output_type": "stream",
          "name": "stdout",
          "text": [
            "✅ Extracted: IISC00IND_R_20190760000_01D_30S_MO.crx.gz ➔ IISC00IND_R_20190760000_01D_30S_MO.crx\n",
            "✅ Extracted: IISC00IND_R_20190870000_01D_30S_MO.crx.gz ➔ IISC00IND_R_20190870000_01D_30S_MO.crx\n",
            "✅ Extracted: IISC00IND_R_20190660000_01D_30S_MO.crx.gz ➔ IISC00IND_R_20190660000_01D_30S_MO.crx\n"
          ]
        },
        {
          "output_type": "stream",
          "name": "stderr",
          "text": [
            "Extracting 2019/03Mar: 100%|██████████| 31/31 [00:02<00:00, 11.80it/s]\n"
          ]
        },
        {
          "output_type": "stream",
          "name": "stdout",
          "text": [
            "✅ Extracted: IISC00IND_R_20190690000_01D_30S_MO.crx.gz ➔ IISC00IND_R_20190690000_01D_30S_MO.crx\n",
            "✅ Extracted: IISC00IND_R_20190840000_01D_30S_MO.crx.gz ➔ IISC00IND_R_20190840000_01D_30S_MO.crx\n"
          ]
        },
        {
          "output_type": "stream",
          "name": "stderr",
          "text": [
            "\rExtracting 2019/04Apr:   0%|          | 0/30 [00:00<?, ?it/s]"
          ]
        },
        {
          "output_type": "stream",
          "name": "stdout",
          "text": [
            "✅ Extracted: IISC00IND_R_20191020000_01D_30S_MO.crx.gz ➔ IISC00IND_R_20191020000_01D_30S_MO.crx\n"
          ]
        },
        {
          "output_type": "stream",
          "name": "stderr",
          "text": [
            "\rExtracting 2019/04Apr:   7%|▋         | 2/30 [00:00<00:02, 11.15it/s]"
          ]
        },
        {
          "output_type": "stream",
          "name": "stdout",
          "text": [
            "✅ Extracted: IISC00IND_R_20190930000_01D_30S_MO.crx.gz ➔ IISC00IND_R_20190930000_01D_30S_MO.crx\n",
            "✅ Extracted: IISC00IND_R_20191010000_01D_30S_MO.crx.gz ➔ IISC00IND_R_20191010000_01D_30S_MO.crx\n"
          ]
        },
        {
          "output_type": "stream",
          "name": "stderr",
          "text": [
            "\rExtracting 2019/04Apr:  13%|█▎        | 4/30 [00:00<00:02, 11.88it/s]"
          ]
        },
        {
          "output_type": "stream",
          "name": "stdout",
          "text": [
            "✅ Extracted: IISC00IND_R_20191150000_01D_30S_MO.crx.gz ➔ IISC00IND_R_20191150000_01D_30S_MO.crx\n"
          ]
        },
        {
          "output_type": "stream",
          "name": "stderr",
          "text": [
            "\rExtracting 2019/04Apr:  20%|██        | 6/30 [00:00<00:01, 12.39it/s]"
          ]
        },
        {
          "output_type": "stream",
          "name": "stdout",
          "text": [
            "✅ Extracted: IISC00IND_R_20191170000_01D_30S_MO.crx.gz ➔ IISC00IND_R_20191170000_01D_30S_MO.crx\n",
            "✅ Extracted: IISC00IND_R_20191160000_01D_30S_MO.crx.gz ➔ IISC00IND_R_20191160000_01D_30S_MO.crx\n",
            "✅ Extracted: IISC00IND_R_20191080000_01D_30S_MO.crx.gz ➔ IISC00IND_R_20191080000_01D_30S_MO.crx\n"
          ]
        },
        {
          "output_type": "stream",
          "name": "stderr",
          "text": [
            "\rExtracting 2019/04Apr:  27%|██▋       | 8/30 [00:00<00:01, 11.65it/s]"
          ]
        },
        {
          "output_type": "stream",
          "name": "stdout",
          "text": [
            "✅ Extracted: IISC00IND_R_20191180000_01D_30S_MO.crx.gz ➔ IISC00IND_R_20191180000_01D_30S_MO.crx\n",
            "✅ Extracted: IISC00IND_R_20191140000_01D_30S_MO.crx.gz ➔ IISC00IND_R_20191140000_01D_30S_MO.crx\n"
          ]
        },
        {
          "output_type": "stream",
          "name": "stderr",
          "text": [
            "\rExtracting 2019/04Apr:  33%|███▎      | 10/30 [00:00<00:01, 12.05it/s]"
          ]
        },
        {
          "output_type": "stream",
          "name": "stdout",
          "text": [
            "✅ Extracted: IISC00IND_R_20191130000_01D_30S_MO.crx.gz ➔ IISC00IND_R_20191130000_01D_30S_MO.crx\n"
          ]
        },
        {
          "output_type": "stream",
          "name": "stderr",
          "text": [
            "\rExtracting 2019/04Apr:  40%|████      | 12/30 [00:00<00:01, 12.38it/s]"
          ]
        },
        {
          "output_type": "stream",
          "name": "stdout",
          "text": [
            "✅ Extracted: IISC00IND_R_20190970000_01D_30S_MO.crx.gz ➔ IISC00IND_R_20190970000_01D_30S_MO.crx\n",
            "✅ Extracted: IISC00IND_R_20191090000_01D_30S_MO.crx.gz ➔ IISC00IND_R_20191090000_01D_30S_MO.crx\n",
            "✅ Extracted: IISC00IND_R_20190980000_01D_30S_MO.crx.gz ➔ IISC00IND_R_20190980000_01D_30S_MO.crx\n"
          ]
        },
        {
          "output_type": "stream",
          "name": "stderr",
          "text": [
            "\rExtracting 2019/04Apr:  47%|████▋     | 14/30 [00:01<00:01, 12.53it/s]"
          ]
        },
        {
          "output_type": "stream",
          "name": "stdout",
          "text": [
            "✅ Extracted: IISC00IND_R_20190990000_01D_30S_MO.crx.gz ➔ IISC00IND_R_20190990000_01D_30S_MO.crx\n",
            "✅ Extracted: IISC00IND_R_20191030000_01D_30S_MO.crx.gz ➔ IISC00IND_R_20191030000_01D_30S_MO.crx\n"
          ]
        },
        {
          "output_type": "stream",
          "name": "stderr",
          "text": [
            "\rExtracting 2019/04Apr:  53%|█████▎    | 16/30 [00:01<00:01, 12.84it/s]"
          ]
        },
        {
          "output_type": "stream",
          "name": "stdout",
          "text": [
            "✅ Extracted: IISC00IND_R_20190950000_01D_30S_MO.crx.gz ➔ IISC00IND_R_20190950000_01D_30S_MO.crx\n"
          ]
        },
        {
          "output_type": "stream",
          "name": "stderr",
          "text": [
            "\rExtracting 2019/04Apr:  60%|██████    | 18/30 [00:01<00:00, 13.22it/s]"
          ]
        },
        {
          "output_type": "stream",
          "name": "stdout",
          "text": [
            "✅ Extracted: IISC00IND_R_20191200000_01D_30S_MO.crx.gz ➔ IISC00IND_R_20191200000_01D_30S_MO.crx\n",
            "✅ Extracted: IISC00IND_R_20191100000_01D_30S_MO.crx.gz ➔ IISC00IND_R_20191100000_01D_30S_MO.crx\n",
            "✅ Extracted: IISC00IND_R_20191120000_01D_30S_MO.crx.gz ➔ IISC00IND_R_20191120000_01D_30S_MO.crx\n"
          ]
        },
        {
          "output_type": "stream",
          "name": "stderr",
          "text": [
            "\rExtracting 2019/04Apr:  67%|██████▋   | 20/30 [00:01<00:00, 12.93it/s]"
          ]
        },
        {
          "output_type": "stream",
          "name": "stdout",
          "text": [
            "✅ Extracted: IISC00IND_R_20191190000_01D_30S_MO.crx.gz ➔ IISC00IND_R_20191190000_01D_30S_MO.crx\n",
            "✅ Extracted: IISC00IND_R_20191060000_01D_30S_MO.crx.gz ➔ IISC00IND_R_20191060000_01D_30S_MO.crx\n"
          ]
        },
        {
          "output_type": "stream",
          "name": "stderr",
          "text": [
            "\rExtracting 2019/04Apr:  73%|███████▎  | 22/30 [00:01<00:00, 13.23it/s]"
          ]
        },
        {
          "output_type": "stream",
          "name": "stdout",
          "text": [
            "✅ Extracted: IISC00IND_R_20190920000_01D_30S_MO.crx.gz ➔ IISC00IND_R_20190920000_01D_30S_MO.crx\n"
          ]
        },
        {
          "output_type": "stream",
          "name": "stderr",
          "text": [
            "\rExtracting 2019/04Apr:  80%|████████  | 24/30 [00:01<00:00, 13.36it/s]"
          ]
        },
        {
          "output_type": "stream",
          "name": "stdout",
          "text": [
            "✅ Extracted: IISC00IND_R_20190940000_01D_30S_MO.crx.gz ➔ IISC00IND_R_20190940000_01D_30S_MO.crx\n",
            "✅ Extracted: IISC00IND_R_20191000000_01D_30S_MO.crx.gz ➔ IISC00IND_R_20191000000_01D_30S_MO.crx\n",
            "✅ Extracted: IISC00IND_R_20191110000_01D_30S_MO.crx.gz ➔ IISC00IND_R_20191110000_01D_30S_MO.crx\n"
          ]
        },
        {
          "output_type": "stream",
          "name": "stderr",
          "text": [
            "\rExtracting 2019/04Apr:  87%|████████▋ | 26/30 [00:02<00:00, 11.90it/s]"
          ]
        },
        {
          "output_type": "stream",
          "name": "stdout",
          "text": [
            "✅ Extracted: IISC00IND_R_20190960000_01D_30S_MO.crx.gz ➔ IISC00IND_R_20190960000_01D_30S_MO.crx\n",
            "✅ Extracted: IISC00IND_R_20191070000_01D_30S_MO.crx.gz ➔ IISC00IND_R_20191070000_01D_30S_MO.crx\n"
          ]
        },
        {
          "output_type": "stream",
          "name": "stderr",
          "text": [
            "\rExtracting 2019/04Apr:  93%|█████████▎| 28/30 [00:02<00:00, 10.96it/s]"
          ]
        },
        {
          "output_type": "stream",
          "name": "stdout",
          "text": [
            "✅ Extracted: IISC00IND_R_20190910000_01D_30S_MO.crx.gz ➔ IISC00IND_R_20190910000_01D_30S_MO.crx\n",
            "✅ Extracted: IISC00IND_R_20191050000_01D_30S_MO.crx.gz ➔ IISC00IND_R_20191050000_01D_30S_MO.crx\n"
          ]
        },
        {
          "output_type": "stream",
          "name": "stderr",
          "text": [
            "Extracting 2019/04Apr: 100%|██████████| 30/30 [00:02<00:00, 12.13it/s]\n"
          ]
        },
        {
          "output_type": "stream",
          "name": "stdout",
          "text": [
            "✅ Extracted: IISC00IND_R_20191040000_01D_30S_MO.crx.gz ➔ IISC00IND_R_20191040000_01D_30S_MO.crx\n"
          ]
        },
        {
          "output_type": "stream",
          "name": "stderr",
          "text": [
            "Extracting 2019/07Jul:   3%|▎         | 1/31 [00:00<00:03,  8.26it/s]"
          ]
        },
        {
          "output_type": "stream",
          "name": "stdout",
          "text": [
            "✅ Extracted: IISC00IND_R_20191840000_01D_30S_MO.crx.gz ➔ IISC00IND_R_20191840000_01D_30S_MO.crx\n"
          ]
        },
        {
          "output_type": "stream",
          "name": "stderr",
          "text": [
            "\rExtracting 2019/07Jul:  10%|▉         | 3/31 [00:00<00:02, 10.48it/s]"
          ]
        },
        {
          "output_type": "stream",
          "name": "stdout",
          "text": [
            "✅ Extracted: IISC00IND_R_20192120000_01D_30S_MO.crx.gz ➔ IISC00IND_R_20192120000_01D_30S_MO.crx\n",
            "✅ Extracted: IISC00IND_R_20191960000_01D_30S_MO.crx.gz ➔ IISC00IND_R_20191960000_01D_30S_MO.crx\n"
          ]
        },
        {
          "output_type": "stream",
          "name": "stderr",
          "text": [
            "\rExtracting 2019/07Jul:  16%|█▌        | 5/31 [00:00<00:02,  9.55it/s]"
          ]
        },
        {
          "output_type": "stream",
          "name": "stdout",
          "text": [
            "✅ Extracted: IISC00IND_R_20191850000_01D_30S_MO.crx.gz ➔ IISC00IND_R_20191850000_01D_30S_MO.crx\n",
            "✅ Extracted: IISC00IND_R_20191990000_01D_30S_MO.crx.gz ➔ IISC00IND_R_20191990000_01D_30S_MO.crx\n"
          ]
        },
        {
          "output_type": "stream",
          "name": "stderr",
          "text": [
            "\rExtracting 2019/07Jul:  19%|█▉        | 6/31 [00:00<00:02,  8.81it/s]"
          ]
        },
        {
          "output_type": "stream",
          "name": "stdout",
          "text": [
            "✅ Extracted: IISC00IND_R_20191940000_01D_30S_MO.crx.gz ➔ IISC00IND_R_20191940000_01D_30S_MO.crx\n",
            "✅ Extracted: IISC00IND_R_20192110000_01D_30S_MO.crx.gz ➔ IISC00IND_R_20192110000_01D_30S_MO.crx\n"
          ]
        },
        {
          "output_type": "stream",
          "name": "stderr",
          "text": [
            "Extracting 2019/07Jul:  32%|███▏      | 10/31 [00:01<00:02, 10.05it/s]"
          ]
        },
        {
          "output_type": "stream",
          "name": "stdout",
          "text": [
            "✅ Extracted: IISC00IND_R_20191950000_01D_30S_MO.crx.gz ➔ IISC00IND_R_20191950000_01D_30S_MO.crx\n",
            "✅ Extracted: IISC00IND_R_20192050000_01D_30S_MO.crx.gz ➔ IISC00IND_R_20192050000_01D_30S_MO.crx\n",
            "✅ Extracted: IISC00IND_R_20191870000_01D_30S_MO.crx.gz ➔ IISC00IND_R_20191870000_01D_30S_MO.crx\n"
          ]
        },
        {
          "output_type": "stream",
          "name": "stderr",
          "text": [
            "\rExtracting 2019/07Jul:  39%|███▊      | 12/31 [00:01<00:01, 10.57it/s]"
          ]
        },
        {
          "output_type": "stream",
          "name": "stdout",
          "text": [
            "✅ Extracted: IISC00IND_R_20191930000_01D_30S_MO.crx.gz ➔ IISC00IND_R_20191930000_01D_30S_MO.crx\n",
            "✅ Extracted: IISC00IND_R_20191920000_01D_30S_MO.crx.gz ➔ IISC00IND_R_20191920000_01D_30S_MO.crx\n",
            "✅ Extracted: IISC00IND_R_20192040000_01D_30S_MO.crx.gz ➔ IISC00IND_R_20192040000_01D_30S_MO.crx\n"
          ]
        },
        {
          "output_type": "stream",
          "name": "stderr",
          "text": [
            "Extracting 2019/07Jul:  52%|█████▏    | 16/31 [00:01<00:01, 11.81it/s]"
          ]
        },
        {
          "output_type": "stream",
          "name": "stdout",
          "text": [
            "✅ Extracted: IISC00IND_R_20192090000_01D_30S_MO.crx.gz ➔ IISC00IND_R_20192090000_01D_30S_MO.crx\n",
            "✅ Extracted: IISC00IND_R_20192010000_01D_30S_MO.crx.gz ➔ IISC00IND_R_20192010000_01D_30S_MO.crx\n",
            "✅ Extracted: IISC00IND_R_20192080000_01D_30S_MO.crx.gz ➔ IISC00IND_R_20192080000_01D_30S_MO.crx\n"
          ]
        },
        {
          "output_type": "stream",
          "name": "stderr",
          "text": [
            "\rExtracting 2019/07Jul:  58%|█████▊    | 18/31 [00:01<00:01, 12.06it/s]"
          ]
        },
        {
          "output_type": "stream",
          "name": "stdout",
          "text": [
            "✅ Extracted: IISC00IND_R_20191910000_01D_30S_MO.crx.gz ➔ IISC00IND_R_20191910000_01D_30S_MO.crx\n",
            "✅ Extracted: IISC00IND_R_20191980000_01D_30S_MO.crx.gz ➔ IISC00IND_R_20191980000_01D_30S_MO.crx\n",
            "✅ Extracted: IISC00IND_R_20191820000_01D_30S_MO.crx.gz ➔ IISC00IND_R_20191820000_01D_30S_MO.crx\n"
          ]
        },
        {
          "output_type": "stream",
          "name": "stderr",
          "text": [
            "Extracting 2019/07Jul:  71%|███████   | 22/31 [00:02<00:00, 10.55it/s]"
          ]
        },
        {
          "output_type": "stream",
          "name": "stdout",
          "text": [
            "✅ Extracted: IISC00IND_R_20192020000_01D_30S_MO.crx.gz ➔ IISC00IND_R_20192020000_01D_30S_MO.crx\n",
            "✅ Extracted: IISC00IND_R_20191970000_01D_30S_MO.crx.gz ➔ IISC00IND_R_20191970000_01D_30S_MO.crx\n",
            "✅ Extracted: IISC00IND_R_20192000000_01D_30S_MO.crx.gz ➔ IISC00IND_R_20192000000_01D_30S_MO.crx\n"
          ]
        },
        {
          "output_type": "stream",
          "name": "stderr",
          "text": [
            "\rExtracting 2019/07Jul:  77%|███████▋  | 24/31 [00:02<00:00, 10.71it/s]"
          ]
        },
        {
          "output_type": "stream",
          "name": "stdout",
          "text": [
            "✅ Extracted: IISC00IND_R_20192030000_01D_30S_MO.crx.gz ➔ IISC00IND_R_20192030000_01D_30S_MO.crx\n",
            "✅ Extracted: IISC00IND_R_20191890000_01D_30S_MO.crx.gz ➔ IISC00IND_R_20191890000_01D_30S_MO.crx\n",
            "✅ Extracted: IISC00IND_R_20192070000_01D_30S_MO.crx.gz ➔ IISC00IND_R_20192070000_01D_30S_MO.crx\n"
          ]
        },
        {
          "output_type": "stream",
          "name": "stderr",
          "text": [
            "\rExtracting 2019/07Jul:  84%|████████▍ | 26/31 [00:02<00:00, 10.09it/s]"
          ]
        },
        {
          "output_type": "stream",
          "name": "stdout",
          "text": [
            "✅ Extracted: IISC00IND_R_20191830000_01D_30S_MO.crx.gz ➔ IISC00IND_R_20191830000_01D_30S_MO.crx\n",
            "✅ Extracted: IISC00IND_R_20192100000_01D_30S_MO.crx.gz ➔ IISC00IND_R_20192100000_01D_30S_MO.crx\n"
          ]
        },
        {
          "output_type": "stream",
          "name": "stderr",
          "text": [
            "Extracting 2019/07Jul:  94%|█████████▎| 29/31 [00:02<00:00,  9.33it/s]"
          ]
        },
        {
          "output_type": "stream",
          "name": "stdout",
          "text": [
            "✅ Extracted: IISC00IND_R_20191900000_01D_30S_MO.crx.gz ➔ IISC00IND_R_20191900000_01D_30S_MO.crx\n",
            "✅ Extracted: IISC00IND_R_20192060000_01D_30S_MO.crx.gz ➔ IISC00IND_R_20192060000_01D_30S_MO.crx\n"
          ]
        },
        {
          "output_type": "stream",
          "name": "stderr",
          "text": [
            "Extracting 2019/07Jul: 100%|██████████| 31/31 [00:03<00:00,  9.86it/s]\n"
          ]
        },
        {
          "output_type": "stream",
          "name": "stdout",
          "text": [
            "✅ Extracted: IISC00IND_R_20191860000_01D_30S_MO.crx.gz ➔ IISC00IND_R_20191860000_01D_30S_MO.crx\n",
            "✅ Extracted: IISC00IND_R_20191880000_01D_30S_MO.crx.gz ➔ IISC00IND_R_20191880000_01D_30S_MO.crx\n"
          ]
        },
        {
          "output_type": "stream",
          "name": "stderr",
          "text": [
            "Extracting 2019/09Sep:   7%|▋         | 2/30 [00:00<00:03,  8.63it/s]"
          ]
        },
        {
          "output_type": "stream",
          "name": "stdout",
          "text": [
            "✅ Extracted: IISC00IND_R_20192630000_01D_30S_MO.crx.gz ➔ IISC00IND_R_20192630000_01D_30S_MO.crx\n",
            "✅ Extracted: IISC00IND_R_20192540000_01D_30S_MO.crx.gz ➔ IISC00IND_R_20192540000_01D_30S_MO.crx\n"
          ]
        },
        {
          "output_type": "stream",
          "name": "stderr",
          "text": [
            "Extracting 2019/09Sep:  17%|█▋        | 5/30 [00:00<00:02,  9.65it/s]"
          ]
        },
        {
          "output_type": "stream",
          "name": "stdout",
          "text": [
            "✅ Extracted: IISC00IND_R_20192520000_01D_30S_MO.crx.gz ➔ IISC00IND_R_20192520000_01D_30S_MO.crx\n",
            "✅ Extracted: IISC00IND_R_20192570000_01D_30S_MO.crx.gz ➔ IISC00IND_R_20192570000_01D_30S_MO.crx\n",
            "✅ Extracted: IISC00IND_R_20192480000_01D_30S_MO.crx.gz ➔ IISC00IND_R_20192480000_01D_30S_MO.crx\n"
          ]
        },
        {
          "output_type": "stream",
          "name": "stderr",
          "text": [
            "Extracting 2019/09Sep:  23%|██▎       | 7/30 [00:00<00:02,  9.32it/s]"
          ]
        },
        {
          "output_type": "stream",
          "name": "stdout",
          "text": [
            "✅ Extracted: IISC00IND_R_20192510000_01D_30S_MO.crx.gz ➔ IISC00IND_R_20192510000_01D_30S_MO.crx\n",
            "✅ Extracted: IISC00IND_R_20192660000_01D_30S_MO.crx.gz ➔ IISC00IND_R_20192660000_01D_30S_MO.crx\n"
          ]
        },
        {
          "output_type": "stream",
          "name": "stderr",
          "text": [
            "Extracting 2019/09Sep:  30%|███       | 9/30 [00:00<00:02,  9.02it/s]"
          ]
        },
        {
          "output_type": "stream",
          "name": "stdout",
          "text": [
            "✅ Extracted: IISC00IND_R_20192600000_01D_30S_MO.crx.gz ➔ IISC00IND_R_20192600000_01D_30S_MO.crx\n",
            "✅ Extracted: IISC00IND_R_20192700000_01D_30S_MO.crx.gz ➔ IISC00IND_R_20192700000_01D_30S_MO.crx\n"
          ]
        },
        {
          "output_type": "stream",
          "name": "stderr",
          "text": [
            "Extracting 2019/09Sep:  37%|███▋      | 11/30 [00:01<00:02,  8.98it/s]"
          ]
        },
        {
          "output_type": "stream",
          "name": "stdout",
          "text": [
            "✅ Extracted: IISC00IND_R_20192690000_01D_30S_MO.crx.gz ➔ IISC00IND_R_20192690000_01D_30S_MO.crx\n",
            "✅ Extracted: IISC00IND_R_20192530000_01D_30S_MO.crx.gz ➔ IISC00IND_R_20192530000_01D_30S_MO.crx\n"
          ]
        },
        {
          "output_type": "stream",
          "name": "stderr",
          "text": [
            "Extracting 2019/09Sep:  43%|████▎     | 13/30 [00:01<00:02,  8.29it/s]"
          ]
        },
        {
          "output_type": "stream",
          "name": "stdout",
          "text": [
            "✅ Extracted: IISC00IND_R_20192560000_01D_30S_MO.crx.gz ➔ IISC00IND_R_20192560000_01D_30S_MO.crx\n",
            "✅ Extracted: IISC00IND_R_20192640000_01D_30S_MO.crx.gz ➔ IISC00IND_R_20192640000_01D_30S_MO.crx\n"
          ]
        },
        {
          "output_type": "stream",
          "name": "stderr",
          "text": [
            "Extracting 2019/09Sep:  50%|█████     | 15/30 [00:01<00:02,  7.28it/s]"
          ]
        },
        {
          "output_type": "stream",
          "name": "stdout",
          "text": [
            "✅ Extracted: IISC00IND_R_20192580000_01D_30S_MO.crx.gz ➔ IISC00IND_R_20192580000_01D_30S_MO.crx\n",
            "✅ Extracted: IISC00IND_R_20192440000_01D_30S_MO.crx.gz ➔ IISC00IND_R_20192440000_01D_30S_MO.crx\n"
          ]
        },
        {
          "output_type": "stream",
          "name": "stderr",
          "text": [
            "Extracting 2019/09Sep:  57%|█████▋    | 17/30 [00:02<00:01,  7.94it/s]"
          ]
        },
        {
          "output_type": "stream",
          "name": "stdout",
          "text": [
            "✅ Extracted: IISC00IND_R_20192550000_01D_30S_MO.crx.gz ➔ IISC00IND_R_20192550000_01D_30S_MO.crx\n",
            "✅ Extracted: IISC00IND_R_20192500000_01D_30S_MO.crx.gz ➔ IISC00IND_R_20192500000_01D_30S_MO.crx\n"
          ]
        },
        {
          "output_type": "stream",
          "name": "stderr",
          "text": [
            "Extracting 2019/09Sep:  63%|██████▎   | 19/30 [00:02<00:01,  6.97it/s]"
          ]
        },
        {
          "output_type": "stream",
          "name": "stdout",
          "text": [
            "✅ Extracted: IISC00IND_R_20192450000_01D_30S_MO.crx.gz ➔ IISC00IND_R_20192450000_01D_30S_MO.crx\n",
            "✅ Extracted: IISC00IND_R_20192610000_01D_30S_MO.crx.gz ➔ IISC00IND_R_20192610000_01D_30S_MO.crx\n"
          ]
        },
        {
          "output_type": "stream",
          "name": "stderr",
          "text": [
            "Extracting 2019/09Sep:  70%|███████   | 21/30 [00:02<00:01,  6.99it/s]"
          ]
        },
        {
          "output_type": "stream",
          "name": "stdout",
          "text": [
            "✅ Extracted: IISC00IND_R_20192470000_01D_30S_MO.crx.gz ➔ IISC00IND_R_20192470000_01D_30S_MO.crx\n",
            "✅ Extracted: IISC00IND_R_20192460000_01D_30S_MO.crx.gz ➔ IISC00IND_R_20192460000_01D_30S_MO.crx\n"
          ]
        },
        {
          "output_type": "stream",
          "name": "stderr",
          "text": [
            "\rExtracting 2019/09Sep:  77%|███████▋  | 23/30 [00:02<00:00,  8.78it/s]"
          ]
        },
        {
          "output_type": "stream",
          "name": "stdout",
          "text": [
            "✅ Extracted: IISC00IND_R_20192670000_01D_30S_MO.crx.gz ➔ IISC00IND_R_20192670000_01D_30S_MO.crx\n",
            "✅ Extracted: IISC00IND_R_20192730000_01D_30S_MO.crx.gz ➔ IISC00IND_R_20192730000_01D_30S_MO.crx\n",
            "✅ Extracted: IISC00IND_R_20192490000_01D_30S_MO.crx.gz ➔ IISC00IND_R_20192490000_01D_30S_MO.crx\n"
          ]
        },
        {
          "output_type": "stream",
          "name": "stderr",
          "text": [
            "Extracting 2019/09Sep:  90%|█████████ | 27/30 [00:03<00:00, 11.11it/s]"
          ]
        },
        {
          "output_type": "stream",
          "name": "stdout",
          "text": [
            "✅ Extracted: IISC00IND_R_20192710000_01D_30S_MO.crx.gz ➔ IISC00IND_R_20192710000_01D_30S_MO.crx\n",
            "✅ Extracted: IISC00IND_R_20192650000_01D_30S_MO.crx.gz ➔ IISC00IND_R_20192650000_01D_30S_MO.crx\n",
            "✅ Extracted: IISC00IND_R_20192620000_01D_30S_MO.crx.gz ➔ IISC00IND_R_20192620000_01D_30S_MO.crx\n"
          ]
        },
        {
          "output_type": "stream",
          "name": "stderr",
          "text": [
            "Extracting 2019/09Sep: 100%|██████████| 30/30 [00:03<00:00,  9.03it/s]\n"
          ]
        },
        {
          "output_type": "stream",
          "name": "stdout",
          "text": [
            "✅ Extracted: IISC00IND_R_20192720000_01D_30S_MO.crx.gz ➔ IISC00IND_R_20192720000_01D_30S_MO.crx\n",
            "✅ Extracted: IISC00IND_R_20192680000_01D_30S_MO.crx.gz ➔ IISC00IND_R_20192680000_01D_30S_MO.crx\n",
            "✅ Extracted: IISC00IND_R_20192590000_01D_30S_MO.crx.gz ➔ IISC00IND_R_20192590000_01D_30S_MO.crx\n"
          ]
        },
        {
          "output_type": "stream",
          "name": "stderr",
          "text": [
            "Extracting 2019/11Nov:  14%|█▍        | 4/29 [00:00<00:01, 14.05it/s]"
          ]
        },
        {
          "output_type": "stream",
          "name": "stdout",
          "text": [
            "✅ Extracted: IISC00IND_R_20193270000_01D_30S_MO.crx.gz ➔ IISC00IND_R_20193270000_01D_30S_MO.crx\n",
            "✅ Extracted: IISC00IND_R_20193150000_01D_30S_MO.crx.gz ➔ IISC00IND_R_20193150000_01D_30S_MO.crx\n",
            "✅ Extracted: IISC00IND_R_20193210000_01D_30S_MO.crx.gz ➔ IISC00IND_R_20193210000_01D_30S_MO.crx\n",
            "✅ Extracted: IISC00IND_R_20193060000_01D_30S_MO.crx.gz ➔ IISC00IND_R_20193060000_01D_30S_MO.crx\n"
          ]
        },
        {
          "output_type": "stream",
          "name": "stderr",
          "text": [
            "\rExtracting 2019/11Nov:  21%|██        | 6/29 [00:00<00:02,  9.82it/s]"
          ]
        },
        {
          "output_type": "stream",
          "name": "stdout",
          "text": [
            "✅ Extracted: IISC00IND_R_20193200000_01D_30S_MO.crx.gz ➔ IISC00IND_R_20193200000_01D_30S_MO.crx\n",
            "✅ Extracted: IISC00IND_R_20193190000_01D_30S_MO.crx.gz ➔ IISC00IND_R_20193190000_01D_30S_MO.crx\n"
          ]
        },
        {
          "output_type": "stream",
          "name": "stderr",
          "text": [
            "\rExtracting 2019/11Nov:  28%|██▊       | 8/29 [00:00<00:01, 10.53it/s]"
          ]
        },
        {
          "output_type": "stream",
          "name": "stdout",
          "text": [
            "✅ Extracted: IISC00IND_R_20193110000_01D_30S_MO.crx.gz ➔ IISC00IND_R_20193110000_01D_30S_MO.crx\n",
            "✅ Extracted: IISC00IND_R_20193180000_01D_30S_MO.crx.gz ➔ IISC00IND_R_20193180000_01D_30S_MO.crx\n",
            "✅ Extracted: IISC00IND_R_20193120000_01D_30S_MO.crx.gz ➔ IISC00IND_R_20193120000_01D_30S_MO.crx\n"
          ]
        },
        {
          "output_type": "stream",
          "name": "stderr",
          "text": [
            "Extracting 2019/11Nov:  41%|████▏     | 12/29 [00:01<00:01, 11.37it/s]"
          ]
        },
        {
          "output_type": "stream",
          "name": "stdout",
          "text": [
            "✅ Extracted: IISC00IND_R_20193140000_01D_30S_MO.crx.gz ➔ IISC00IND_R_20193140000_01D_30S_MO.crx\n",
            "✅ Extracted: IISC00IND_R_20193070000_01D_30S_MO.crx.gz ➔ IISC00IND_R_20193070000_01D_30S_MO.crx\n",
            "✅ Extracted: IISC00IND_R_20193260000_01D_30S_MO.crx.gz ➔ IISC00IND_R_20193260000_01D_30S_MO.crx\n"
          ]
        },
        {
          "output_type": "stream",
          "name": "stderr",
          "text": [
            "\rExtracting 2019/11Nov:  48%|████▊     | 14/29 [00:01<00:01, 11.50it/s]"
          ]
        },
        {
          "output_type": "stream",
          "name": "stdout",
          "text": [
            "✅ Extracted: IISC00IND_R_20193340000_01D_30S_MO.crx.gz ➔ IISC00IND_R_20193340000_01D_30S_MO.crx\n",
            "✅ Extracted: IISC00IND_R_20193130000_01D_30S_MO.crx.gz ➔ IISC00IND_R_20193130000_01D_30S_MO.crx\n",
            "✅ Extracted: IISC00IND_R_20193230000_01D_30S_MO.crx.gz ➔ IISC00IND_R_20193230000_01D_30S_MO.crx\n"
          ]
        },
        {
          "output_type": "stream",
          "name": "stderr",
          "text": [
            "Extracting 2019/11Nov:  62%|██████▏   | 18/29 [00:01<00:00, 11.96it/s]"
          ]
        },
        {
          "output_type": "stream",
          "name": "stdout",
          "text": [
            "✅ Extracted: IISC00IND_R_20193080000_01D_30S_MO.crx.gz ➔ IISC00IND_R_20193080000_01D_30S_MO.crx\n",
            "✅ Extracted: IISC00IND_R_20193310000_01D_30S_MO.crx.gz ➔ IISC00IND_R_20193310000_01D_30S_MO.crx\n",
            "✅ Extracted: IISC00IND_R_20193330000_01D_30S_MO.crx.gz ➔ IISC00IND_R_20193330000_01D_30S_MO.crx\n"
          ]
        },
        {
          "output_type": "stream",
          "name": "stderr",
          "text": [
            "\rExtracting 2019/11Nov:  69%|██████▉   | 20/29 [00:01<00:00, 11.98it/s]"
          ]
        },
        {
          "output_type": "stream",
          "name": "stdout",
          "text": [
            "✅ Extracted: IISC00IND_R_20193300000_01D_30S_MO.crx.gz ➔ IISC00IND_R_20193300000_01D_30S_MO.crx\n",
            "✅ Extracted: IISC00IND_R_20193280000_01D_30S_MO.crx.gz ➔ IISC00IND_R_20193280000_01D_30S_MO.crx\n",
            "✅ Extracted: IISC00IND_R_20193170000_01D_30S_MO.crx.gz ➔ IISC00IND_R_20193170000_01D_30S_MO.crx\n"
          ]
        },
        {
          "output_type": "stream",
          "name": "stderr",
          "text": [
            "Extracting 2019/11Nov:  83%|████████▎ | 24/29 [00:02<00:00, 12.76it/s]"
          ]
        },
        {
          "output_type": "stream",
          "name": "stdout",
          "text": [
            "✅ Extracted: IISC00IND_R_20193250000_01D_30S_MO.crx.gz ➔ IISC00IND_R_20193250000_01D_30S_MO.crx\n",
            "✅ Extracted: IISC00IND_R_20193240000_01D_30S_MO.crx.gz ➔ IISC00IND_R_20193240000_01D_30S_MO.crx\n",
            "✅ Extracted: IISC00IND_R_20193290000_01D_30S_MO.crx.gz ➔ IISC00IND_R_20193290000_01D_30S_MO.crx\n"
          ]
        },
        {
          "output_type": "stream",
          "name": "stderr",
          "text": [
            "\rExtracting 2019/11Nov:  90%|████████▉ | 26/29 [00:02<00:00, 12.63it/s]"
          ]
        },
        {
          "output_type": "stream",
          "name": "stdout",
          "text": [
            "✅ Extracted: IISC00IND_R_20193320000_01D_30S_MO.crx.gz ➔ IISC00IND_R_20193320000_01D_30S_MO.crx\n",
            "✅ Extracted: IISC00IND_R_20193220000_01D_30S_MO.crx.gz ➔ IISC00IND_R_20193220000_01D_30S_MO.crx\n",
            "✅ Extracted: IISC00IND_R_20193160000_01D_30S_MO.crx.gz ➔ IISC00IND_R_20193160000_01D_30S_MO.crx\n"
          ]
        },
        {
          "output_type": "stream",
          "name": "stderr",
          "text": [
            "Extracting 2019/11Nov: 100%|██████████| 29/29 [00:02<00:00, 12.02it/s]\n"
          ]
        },
        {
          "output_type": "stream",
          "name": "stdout",
          "text": [
            "✅ Extracted: IISC00IND_R_20193090000_01D_30S_MO.crx.gz ➔ IISC00IND_R_20193090000_01D_30S_MO.crx\n",
            "✅ Extracted: IISC00IND_R_20193100000_01D_30S_MO.crx.gz ➔ IISC00IND_R_20193100000_01D_30S_MO.crx\n"
          ]
        },
        {
          "output_type": "stream",
          "name": "stderr",
          "text": [
            "\rExtracting 2019/01Jan:   0%|          | 0/31 [00:00<?, ?it/s]"
          ]
        },
        {
          "output_type": "stream",
          "name": "stdout",
          "text": [
            "✅ Extracted: IISC00IND_R_20190100000_01D_30S_MO.crx.gz ➔ IISC00IND_R_20190100000_01D_30S_MO.crx\n"
          ]
        },
        {
          "output_type": "stream",
          "name": "stderr",
          "text": [
            "\rExtracting 2019/01Jan:   6%|▋         | 2/31 [00:00<00:02, 12.08it/s]"
          ]
        },
        {
          "output_type": "stream",
          "name": "stdout",
          "text": [
            "✅ Extracted: IISC00IND_R_20190140000_01D_30S_MO.crx.gz ➔ IISC00IND_R_20190140000_01D_30S_MO.crx\n",
            "✅ Extracted: IISC00IND_R_20190110000_01D_30S_MO.crx.gz ➔ IISC00IND_R_20190110000_01D_30S_MO.crx\n"
          ]
        },
        {
          "output_type": "stream",
          "name": "stderr",
          "text": [
            "\rExtracting 2019/01Jan:  13%|█▎        | 4/31 [00:00<00:03,  8.77it/s]"
          ]
        },
        {
          "output_type": "stream",
          "name": "stdout",
          "text": [
            "✅ Extracted: IISC00IND_R_20190210000_01D_30S_MO.crx.gz ➔ IISC00IND_R_20190210000_01D_30S_MO.crx\n",
            "✅ Extracted: IISC00IND_R_20190300000_01D_30S_MO.crx.gz ➔ IISC00IND_R_20190300000_01D_30S_MO.crx\n"
          ]
        },
        {
          "output_type": "stream",
          "name": "stderr",
          "text": [
            "\rExtracting 2019/01Jan:  19%|█▉        | 6/31 [00:00<00:02, 10.31it/s]"
          ]
        },
        {
          "output_type": "stream",
          "name": "stdout",
          "text": [
            "✅ Extracted: IISC00IND_R_20190160000_01D_30S_MO.crx.gz ➔ IISC00IND_R_20190160000_01D_30S_MO.crx\n"
          ]
        },
        {
          "output_type": "stream",
          "name": "stderr",
          "text": [
            "\rExtracting 2019/01Jan:  26%|██▌       | 8/31 [00:00<00:02, 10.87it/s]"
          ]
        },
        {
          "output_type": "stream",
          "name": "stdout",
          "text": [
            "✅ Extracted: IISC00IND_R_20190240000_01D_30S_MO.crx.gz ➔ IISC00IND_R_20190240000_01D_30S_MO.crx\n",
            "✅ Extracted: IISC00IND_R_20190180000_01D_30S_MO.crx.gz ➔ IISC00IND_R_20190180000_01D_30S_MO.crx\n",
            "✅ Extracted: IISC00IND_R_20190150000_01D_30S_MO.crx.gz ➔ IISC00IND_R_20190150000_01D_30S_MO.crx\n"
          ]
        },
        {
          "output_type": "stream",
          "name": "stderr",
          "text": [
            "\rExtracting 2019/01Jan:  32%|███▏      | 10/31 [00:00<00:01, 11.28it/s]"
          ]
        },
        {
          "output_type": "stream",
          "name": "stdout",
          "text": [
            "✅ Extracted: IISC00IND_R_20190260000_01D_30S_MO.crx.gz ➔ IISC00IND_R_20190260000_01D_30S_MO.crx\n",
            "✅ Extracted: IISC00IND_R_20190280000_01D_30S_MO.crx.gz ➔ IISC00IND_R_20190280000_01D_30S_MO.crx\n"
          ]
        },
        {
          "output_type": "stream",
          "name": "stderr",
          "text": [
            "\rExtracting 2019/01Jan:  39%|███▊      | 12/31 [00:01<00:01, 11.82it/s]"
          ]
        },
        {
          "output_type": "stream",
          "name": "stdout",
          "text": [
            "✅ Extracted: IISC00IND_R_20190290000_01D_30S_MO.crx.gz ➔ IISC00IND_R_20190290000_01D_30S_MO.crx\n"
          ]
        },
        {
          "output_type": "stream",
          "name": "stderr",
          "text": [
            "\rExtracting 2019/01Jan:  45%|████▌     | 14/31 [00:01<00:01, 12.17it/s]"
          ]
        },
        {
          "output_type": "stream",
          "name": "stdout",
          "text": [
            "✅ Extracted: IISC00IND_R_20190310000_01D_30S_MO.crx.gz ➔ IISC00IND_R_20190310000_01D_30S_MO.crx\n",
            "✅ Extracted: IISC00IND_R_20190170000_01D_30S_MO.crx.gz ➔ IISC00IND_R_20190170000_01D_30S_MO.crx\n",
            "✅ Extracted: IISC00IND_R_20190200000_01D_30S_MO.crx.gz ➔ IISC00IND_R_20190200000_01D_30S_MO.crx\n"
          ]
        },
        {
          "output_type": "stream",
          "name": "stderr",
          "text": [
            "\rExtracting 2019/01Jan:  52%|█████▏    | 16/31 [00:01<00:01, 12.28it/s]"
          ]
        },
        {
          "output_type": "stream",
          "name": "stdout",
          "text": [
            "✅ Extracted: IISC00IND_R_20190030000_01D_30S_MO.crx.gz ➔ IISC00IND_R_20190030000_01D_30S_MO.crx\n",
            "✅ Extracted: IISC00IND_R_20190060000_01D_30S_MO.crx.gz ➔ IISC00IND_R_20190060000_01D_30S_MO.crx\n"
          ]
        },
        {
          "output_type": "stream",
          "name": "stderr",
          "text": [
            "Extracting 2019/01Jan:  65%|██████▍   | 20/31 [00:02<00:01,  6.21it/s]"
          ]
        },
        {
          "output_type": "stream",
          "name": "stdout",
          "text": [
            "✅ Extracted: IISC00IND_R_20190220000_01D_30S_MO.crx.gz ➔ IISC00IND_R_20190220000_01D_30S_MO.crx\n",
            "✅ Extracted: IISC00IND_R_20190190000_01D_30S_MO.crx.gz ➔ IISC00IND_R_20190190000_01D_30S_MO.crx\n",
            "✅ Extracted: IISC00IND_R_20190070000_01D_30S_MO.crx.gz ➔ IISC00IND_R_20190070000_01D_30S_MO.crx\n"
          ]
        },
        {
          "output_type": "stream",
          "name": "stderr",
          "text": [
            "\rExtracting 2019/01Jan:  71%|███████   | 22/31 [00:02<00:01,  7.39it/s]"
          ]
        },
        {
          "output_type": "stream",
          "name": "stdout",
          "text": [
            "✅ Extracted: IISC00IND_R_20190230000_01D_30S_MO.crx.gz ➔ IISC00IND_R_20190230000_01D_30S_MO.crx\n",
            "✅ Extracted: IISC00IND_R_20190050000_01D_30S_MO.crx.gz ➔ IISC00IND_R_20190050000_01D_30S_MO.crx\n",
            "✅ Extracted: IISC00IND_R_20190270000_01D_30S_MO.crx.gz ➔ IISC00IND_R_20190270000_01D_30S_MO.crx\n"
          ]
        },
        {
          "output_type": "stream",
          "name": "stderr",
          "text": [
            "Extracting 2019/01Jan:  84%|████████▍ | 26/31 [00:02<00:00,  9.38it/s]"
          ]
        },
        {
          "output_type": "stream",
          "name": "stdout",
          "text": [
            "✅ Extracted: IISC00IND_R_20190010000_01D_30S_MO.crx.gz ➔ IISC00IND_R_20190010000_01D_30S_MO.crx\n",
            "✅ Extracted: IISC00IND_R_20190040000_01D_30S_MO.crx.gz ➔ IISC00IND_R_20190040000_01D_30S_MO.crx\n",
            "✅ Extracted: IISC00IND_R_20190080000_01D_30S_MO.crx.gz ➔ IISC00IND_R_20190080000_01D_30S_MO.crx\n"
          ]
        },
        {
          "output_type": "stream",
          "name": "stderr",
          "text": [
            "\rExtracting 2019/01Jan:  90%|█████████ | 28/31 [00:03<00:00, 10.29it/s]"
          ]
        },
        {
          "output_type": "stream",
          "name": "stdout",
          "text": [
            "✅ Extracted: IISC00IND_R_20190250000_01D_30S_MO.crx.gz ➔ IISC00IND_R_20190250000_01D_30S_MO.crx\n",
            "✅ Extracted: IISC00IND_R_20190120000_01D_30S_MO.crx.gz ➔ IISC00IND_R_20190120000_01D_30S_MO.crx\n",
            "✅ Extracted: IISC00IND_R_20190090000_01D_30S_MO.crx.gz ➔ IISC00IND_R_20190090000_01D_30S_MO.crx\n"
          ]
        },
        {
          "output_type": "stream",
          "name": "stderr",
          "text": [
            "Extracting 2019/01Jan: 100%|██████████| 31/31 [00:03<00:00,  9.37it/s]\n"
          ]
        },
        {
          "output_type": "stream",
          "name": "stdout",
          "text": [
            "✅ Extracted: IISC00IND_R_20190020000_01D_30S_MO.crx.gz ➔ IISC00IND_R_20190020000_01D_30S_MO.crx\n",
            "✅ Extracted: IISC00IND_R_20190130000_01D_30S_MO.crx.gz ➔ IISC00IND_R_20190130000_01D_30S_MO.crx\n"
          ]
        },
        {
          "output_type": "stream",
          "name": "stderr",
          "text": [
            "Extracting 2019/06Jun:   4%|▎         | 1/28 [00:00<00:02,  9.89it/s]"
          ]
        },
        {
          "output_type": "stream",
          "name": "stdout",
          "text": [
            "✅ Extracted: IISC00IND_R_20191710000_01D_30S_MO.crx.gz ➔ IISC00IND_R_20191710000_01D_30S_MO.crx\n"
          ]
        },
        {
          "output_type": "stream",
          "name": "stderr",
          "text": [
            "\rExtracting 2019/06Jun:  11%|█         | 3/28 [00:00<00:01, 15.15it/s]"
          ]
        },
        {
          "output_type": "stream",
          "name": "stdout",
          "text": [
            "✅ Extracted: IISC00IND_R_20191600000_01D_30S_MO.crx.gz ➔ IISC00IND_R_20191600000_01D_30S_MO.crx\n",
            "✅ Extracted: IISC00IND_R_20191560000_01D_30S_MO.crx.gz ➔ IISC00IND_R_20191560000_01D_30S_MO.crx\n",
            "✅ Extracted: IISC00IND_R_20191700000_01D_30S_MO.crx.gz ➔ IISC00IND_R_20191700000_01D_30S_MO.crx\n"
          ]
        },
        {
          "output_type": "stream",
          "name": "stderr",
          "text": [
            "\rExtracting 2019/06Jun:  18%|█▊        | 5/28 [00:00<00:01, 12.74it/s]"
          ]
        },
        {
          "output_type": "stream",
          "name": "stdout",
          "text": [
            "✅ Extracted: IISC00IND_R_20191570000_01D_30S_MO.crx.gz ➔ IISC00IND_R_20191570000_01D_30S_MO.crx\n",
            "✅ Extracted: IISC00IND_R_20191630000_01D_30S_MO.crx.gz ➔ IISC00IND_R_20191630000_01D_30S_MO.crx\n"
          ]
        },
        {
          "output_type": "stream",
          "name": "stderr",
          "text": [
            "\rExtracting 2019/06Jun:  25%|██▌       | 7/28 [00:00<00:01, 11.93it/s]"
          ]
        },
        {
          "output_type": "stream",
          "name": "stdout",
          "text": [
            "✅ Extracted: IISC00IND_R_20191690000_01D_30S_MO.crx.gz ➔ IISC00IND_R_20191690000_01D_30S_MO.crx\n"
          ]
        },
        {
          "output_type": "stream",
          "name": "stderr",
          "text": [
            "\rExtracting 2019/06Jun:  32%|███▏      | 9/28 [00:00<00:01, 11.91it/s]"
          ]
        },
        {
          "output_type": "stream",
          "name": "stdout",
          "text": [
            "✅ Extracted: IISC00IND_R_20191760000_01D_30S_MO.crx.gz ➔ IISC00IND_R_20191760000_01D_30S_MO.crx\n",
            "✅ Extracted: IISC00IND_R_20191810000_01D_30S_MO.crx.gz ➔ IISC00IND_R_20191810000_01D_30S_MO.crx\n",
            "✅ Extracted: IISC00IND_R_20191800000_01D_30S_MO.crx.gz ➔ IISC00IND_R_20191800000_01D_30S_MO.crx\n"
          ]
        },
        {
          "output_type": "stream",
          "name": "stderr",
          "text": [
            "\rExtracting 2019/06Jun:  39%|███▉      | 11/28 [00:00<00:01, 11.69it/s]"
          ]
        },
        {
          "output_type": "stream",
          "name": "stdout",
          "text": [
            "✅ Extracted: IISC00IND_R_20191720000_01D_30S_MO.crx.gz ➔ IISC00IND_R_20191720000_01D_30S_MO.crx\n",
            "✅ Extracted: IISC00IND_R_20191580000_01D_30S_MO.crx.gz ➔ IISC00IND_R_20191580000_01D_30S_MO.crx\n"
          ]
        },
        {
          "output_type": "stream",
          "name": "stderr",
          "text": [
            "\rExtracting 2019/06Jun:  46%|████▋     | 13/28 [00:01<00:01, 11.59it/s]"
          ]
        },
        {
          "output_type": "stream",
          "name": "stdout",
          "text": [
            "✅ Extracted: IISC00IND_R_20191520000_01D_30S_MO.crx.gz ➔ IISC00IND_R_20191520000_01D_30S_MO.crx\n"
          ]
        },
        {
          "output_type": "stream",
          "name": "stderr",
          "text": [
            "\rExtracting 2019/06Jun:  54%|█████▎    | 15/28 [00:01<00:01, 11.70it/s]"
          ]
        },
        {
          "output_type": "stream",
          "name": "stdout",
          "text": [
            "✅ Extracted: IISC00IND_R_20191620000_01D_30S_MO.crx.gz ➔ IISC00IND_R_20191620000_01D_30S_MO.crx\n",
            "✅ Extracted: IISC00IND_R_20191790000_01D_30S_MO.crx.gz ➔ IISC00IND_R_20191790000_01D_30S_MO.crx\n",
            "✅ Extracted: IISC00IND_R_20191610000_01D_30S_MO.crx.gz ➔ IISC00IND_R_20191610000_01D_30S_MO.crx\n"
          ]
        },
        {
          "output_type": "stream",
          "name": "stderr",
          "text": [
            "\rExtracting 2019/06Jun:  61%|██████    | 17/28 [00:01<00:00, 11.57it/s]"
          ]
        },
        {
          "output_type": "stream",
          "name": "stdout",
          "text": [
            "✅ Extracted: IISC00IND_R_20191590000_01D_30S_MO.crx.gz ➔ IISC00IND_R_20191590000_01D_30S_MO.crx\n",
            "✅ Extracted: IISC00IND_R_20191670000_01D_30S_MO.crx.gz ➔ IISC00IND_R_20191670000_01D_30S_MO.crx\n"
          ]
        },
        {
          "output_type": "stream",
          "name": "stderr",
          "text": [
            "\rExtracting 2019/06Jun:  68%|██████▊   | 19/28 [00:01<00:00, 11.63it/s]"
          ]
        },
        {
          "output_type": "stream",
          "name": "stdout",
          "text": [
            "✅ Extracted: IISC00IND_R_20191780000_01D_30S_MO.crx.gz ➔ IISC00IND_R_20191780000_01D_30S_MO.crx\n"
          ]
        },
        {
          "output_type": "stream",
          "name": "stderr",
          "text": [
            "\rExtracting 2019/06Jun:  75%|███████▌  | 21/28 [00:01<00:00, 12.34it/s]"
          ]
        },
        {
          "output_type": "stream",
          "name": "stdout",
          "text": [
            "✅ Extracted: IISC00IND_R_20191530000_01D_30S_MO.crx.gz ➔ IISC00IND_R_20191530000_01D_30S_MO.crx\n",
            "✅ Extracted: IISC00IND_R_20191730000_01D_30S_MO.crx.gz ➔ IISC00IND_R_20191730000_01D_30S_MO.crx\n"
          ]
        },
        {
          "output_type": "stream",
          "name": "stderr",
          "text": [
            "\rExtracting 2019/06Jun:  82%|████████▏ | 23/28 [00:01<00:00, 11.29it/s]"
          ]
        },
        {
          "output_type": "stream",
          "name": "stdout",
          "text": [
            "✅ Extracted: IISC00IND_R_20191740000_01D_30S_MO.crx.gz ➔ IISC00IND_R_20191740000_01D_30S_MO.crx\n",
            "✅ Extracted: IISC00IND_R_20191680000_01D_30S_MO.crx.gz ➔ IISC00IND_R_20191680000_01D_30S_MO.crx\n",
            "✅ Extracted: IISC00IND_R_20191660000_01D_30S_MO.crx.gz ➔ IISC00IND_R_20191660000_01D_30S_MO.crx\n"
          ]
        },
        {
          "output_type": "stream",
          "name": "stderr",
          "text": [
            "Extracting 2019/06Jun:  96%|█████████▋| 27/28 [00:02<00:00, 12.15it/s]"
          ]
        },
        {
          "output_type": "stream",
          "name": "stdout",
          "text": [
            "✅ Extracted: IISC00IND_R_20191650000_01D_30S_MO.crx.gz ➔ IISC00IND_R_20191650000_01D_30S_MO.crx\n",
            "✅ Extracted: IISC00IND_R_20191640000_01D_30S_MO.crx.gz ➔ IISC00IND_R_20191640000_01D_30S_MO.crx\n",
            "✅ Extracted: IISC00IND_R_20191770000_01D_30S_MO.crx.gz ➔ IISC00IND_R_20191770000_01D_30S_MO.crx\n"
          ]
        },
        {
          "output_type": "stream",
          "name": "stderr",
          "text": [
            "\rExtracting 2019/06Jun: 100%|██████████| 28/28 [00:02<00:00, 11.92it/s]\n"
          ]
        },
        {
          "output_type": "stream",
          "name": "stdout",
          "text": [
            "✅ Extracted: IISC00IND_R_20191750000_01D_30S_MO.crx.gz ➔ IISC00IND_R_20191750000_01D_30S_MO.crx\n"
          ]
        },
        {
          "output_type": "stream",
          "name": "stderr",
          "text": [
            "\rExtracting 2019/05May:   0%|          | 0/30 [00:00<?, ?it/s]"
          ]
        },
        {
          "output_type": "stream",
          "name": "stdout",
          "text": [
            "✅ Extracted: IISC00IND_R_20191350000_01D_30S_MO.crx.gz ➔ IISC00IND_R_20191350000_01D_30S_MO.crx\n"
          ]
        },
        {
          "output_type": "stream",
          "name": "stderr",
          "text": [
            "\rExtracting 2019/05May:   7%|▋         | 2/30 [00:00<00:03,  8.64it/s]"
          ]
        },
        {
          "output_type": "stream",
          "name": "stdout",
          "text": [
            "✅ Extracted: IISC00IND_R_20191260000_01D_30S_MO.crx.gz ➔ IISC00IND_R_20191260000_01D_30S_MO.crx\n"
          ]
        },
        {
          "output_type": "stream",
          "name": "stderr",
          "text": [
            "\rExtracting 2019/05May:  13%|█▎        | 4/30 [00:00<00:02, 10.79it/s]"
          ]
        },
        {
          "output_type": "stream",
          "name": "stdout",
          "text": [
            "✅ Extracted: IISC00IND_R_20191410000_01D_30S_MO.crx.gz ➔ IISC00IND_R_20191410000_01D_30S_MO.crx\n",
            "✅ Extracted: IISC00IND_R_20191210000_01D_30S_MO.crx.gz ➔ IISC00IND_R_20191210000_01D_30S_MO.crx\n",
            "✅ Extracted: IISC00IND_R_20191460000_01D_30S_MO.crx.gz ➔ IISC00IND_R_20191460000_01D_30S_MO.crx\n"
          ]
        },
        {
          "output_type": "stream",
          "name": "stderr",
          "text": [
            "\rExtracting 2019/05May:  20%|██        | 6/30 [00:00<00:01, 12.06it/s]"
          ]
        },
        {
          "output_type": "stream",
          "name": "stdout",
          "text": [
            "✅ Extracted: IISC00IND_R_20191440000_01D_30S_MO.crx.gz ➔ IISC00IND_R_20191440000_01D_30S_MO.crx\n",
            "✅ Extracted: IISC00IND_R_20191380000_01D_30S_MO.crx.gz ➔ IISC00IND_R_20191380000_01D_30S_MO.crx\n"
          ]
        },
        {
          "output_type": "stream",
          "name": "stderr",
          "text": [
            "\rExtracting 2019/05May:  27%|██▋       | 8/30 [00:00<00:01, 12.37it/s]"
          ]
        },
        {
          "output_type": "stream",
          "name": "stdout",
          "text": [
            "✅ Extracted: IISC00IND_R_20191250000_01D_30S_MO.crx.gz ➔ IISC00IND_R_20191250000_01D_30S_MO.crx\n"
          ]
        },
        {
          "output_type": "stream",
          "name": "stderr",
          "text": [
            "\rExtracting 2019/05May:  33%|███▎      | 10/30 [00:00<00:01, 13.02it/s]"
          ]
        },
        {
          "output_type": "stream",
          "name": "stdout",
          "text": [
            "✅ Extracted: IISC00IND_R_20191290000_01D_30S_MO.crx.gz ➔ IISC00IND_R_20191290000_01D_30S_MO.crx\n",
            "✅ Extracted: IISC00IND_R_20191360000_01D_30S_MO.crx.gz ➔ IISC00IND_R_20191360000_01D_30S_MO.crx\n",
            "✅ Extracted: IISC00IND_R_20191420000_01D_30S_MO.crx.gz ➔ IISC00IND_R_20191420000_01D_30S_MO.crx\n"
          ]
        },
        {
          "output_type": "stream",
          "name": "stderr",
          "text": [
            "\rExtracting 2019/05May:  40%|████      | 12/30 [00:01<00:01, 10.70it/s]"
          ]
        },
        {
          "output_type": "stream",
          "name": "stdout",
          "text": [
            "✅ Extracted: IISC00IND_R_20191480000_01D_30S_MO.crx.gz ➔ IISC00IND_R_20191480000_01D_30S_MO.crx\n"
          ]
        },
        {
          "output_type": "stream",
          "name": "stderr",
          "text": [
            "\rExtracting 2019/05May:  47%|████▋     | 14/30 [00:01<00:01, 11.46it/s]"
          ]
        },
        {
          "output_type": "stream",
          "name": "stdout",
          "text": [
            "✅ Extracted: IISC00IND_R_20191430000_01D_30S_MO.crx.gz ➔ IISC00IND_R_20191430000_01D_30S_MO.crx\n",
            "✅ Extracted: IISC00IND_R_20191470000_01D_30S_MO.crx.gz ➔ IISC00IND_R_20191470000_01D_30S_MO.crx\n"
          ]
        },
        {
          "output_type": "stream",
          "name": "stderr",
          "text": [
            "\rExtracting 2019/05May:  53%|█████▎    | 16/30 [00:01<00:01, 10.34it/s]"
          ]
        },
        {
          "output_type": "stream",
          "name": "stdout",
          "text": [
            "✅ Extracted: IISC00IND_R_20191330000_01D_30S_MO.crx.gz ➔ IISC00IND_R_20191330000_01D_30S_MO.crx\n",
            "✅ Extracted: IISC00IND_R_20191220000_01D_30S_MO.crx.gz ➔ IISC00IND_R_20191220000_01D_30S_MO.crx\n",
            "✅ Extracted: IISC00IND_R_20191510000_01D_30S_MO.crx.gz ➔ IISC00IND_R_20191510000_01D_30S_MO.crx\n"
          ]
        },
        {
          "output_type": "stream",
          "name": "stderr",
          "text": [
            "Extracting 2019/05May:  67%|██████▋   | 20/30 [00:01<00:00, 10.76it/s]"
          ]
        },
        {
          "output_type": "stream",
          "name": "stdout",
          "text": [
            "✅ Extracted: IISC00IND_R_20191240000_01D_30S_MO.crx.gz ➔ IISC00IND_R_20191240000_01D_30S_MO.crx\n",
            "✅ Extracted: IISC00IND_R_20191490000_01D_30S_MO.crx.gz ➔ IISC00IND_R_20191490000_01D_30S_MO.crx\n",
            "✅ Extracted: IISC00IND_R_20191300000_01D_30S_MO.crx.gz ➔ IISC00IND_R_20191300000_01D_30S_MO.crx\n"
          ]
        },
        {
          "output_type": "stream",
          "name": "stderr",
          "text": [
            "\rExtracting 2019/05May:  73%|███████▎  | 22/30 [00:01<00:00, 11.30it/s]"
          ]
        },
        {
          "output_type": "stream",
          "name": "stdout",
          "text": [
            "✅ Extracted: IISC00IND_R_20191230000_01D_30S_MO.crx.gz ➔ IISC00IND_R_20191230000_01D_30S_MO.crx\n",
            "✅ Extracted: IISC00IND_R_20191270000_01D_30S_MO.crx.gz ➔ IISC00IND_R_20191270000_01D_30S_MO.crx\n",
            "✅ Extracted: IISC00IND_R_20191400000_01D_30S_MO.crx.gz ➔ IISC00IND_R_20191400000_01D_30S_MO.crx\n"
          ]
        },
        {
          "output_type": "stream",
          "name": "stderr",
          "text": [
            "Extracting 2019/05May:  87%|████████▋ | 26/30 [00:02<00:00, 11.16it/s]"
          ]
        },
        {
          "output_type": "stream",
          "name": "stdout",
          "text": [
            "✅ Extracted: IISC00IND_R_20191340000_01D_30S_MO.crx.gz ➔ IISC00IND_R_20191340000_01D_30S_MO.crx\n",
            "✅ Extracted: IISC00IND_R_20191310000_01D_30S_MO.crx.gz ➔ IISC00IND_R_20191310000_01D_30S_MO.crx\n",
            "✅ Extracted: IISC00IND_R_20191320000_01D_30S_MO.crx.gz ➔ IISC00IND_R_20191320000_01D_30S_MO.crx\n"
          ]
        },
        {
          "output_type": "stream",
          "name": "stderr",
          "text": [
            "\rExtracting 2019/05May:  93%|█████████▎| 28/30 [00:02<00:00, 10.86it/s]"
          ]
        },
        {
          "output_type": "stream",
          "name": "stdout",
          "text": [
            "✅ Extracted: IISC00IND_R_20191500000_01D_30S_MO.crx.gz ➔ IISC00IND_R_20191500000_01D_30S_MO.crx\n",
            "✅ Extracted: IISC00IND_R_20191390000_01D_30S_MO.crx.gz ➔ IISC00IND_R_20191390000_01D_30S_MO.crx\n",
            "✅ Extracted: IISC00IND_R_20191370000_01D_30S_MO.crx.gz ➔ IISC00IND_R_20191370000_01D_30S_MO.crx\n"
          ]
        },
        {
          "output_type": "stream",
          "name": "stderr",
          "text": [
            "Extracting 2019/05May: 100%|██████████| 30/30 [00:02<00:00, 10.75it/s]\n"
          ]
        },
        {
          "output_type": "stream",
          "name": "stdout",
          "text": [
            "✅ Extracted: IISC00IND_R_20191450000_01D_30S_MO.crx.gz ➔ IISC00IND_R_20191450000_01D_30S_MO.crx\n"
          ]
        },
        {
          "output_type": "stream",
          "name": "stderr",
          "text": [
            "Extracting 2019/08Aug:   6%|▋         | 2/31 [00:00<00:04,  6.41it/s]"
          ]
        },
        {
          "output_type": "stream",
          "name": "stdout",
          "text": [
            "✅ Extracted: IISC00IND_R_20192260000_01D_30S_MO.crx.gz ➔ IISC00IND_R_20192260000_01D_30S_MO.crx\n",
            "✅ Extracted: IISC00IND_R_20192240000_01D_30S_MO.crx.gz ➔ IISC00IND_R_20192240000_01D_30S_MO.crx\n"
          ]
        },
        {
          "output_type": "stream",
          "name": "stderr",
          "text": [
            "Extracting 2019/08Aug:  13%|█▎        | 4/31 [00:00<00:03,  7.33it/s]"
          ]
        },
        {
          "output_type": "stream",
          "name": "stdout",
          "text": [
            "✅ Extracted: IISC00IND_R_20192280000_01D_30S_MO.crx.gz ➔ IISC00IND_R_20192280000_01D_30S_MO.crx\n",
            "✅ Extracted: IISC00IND_R_20192160000_01D_30S_MO.crx.gz ➔ IISC00IND_R_20192160000_01D_30S_MO.crx\n"
          ]
        },
        {
          "output_type": "stream",
          "name": "stderr",
          "text": [
            "Extracting 2019/08Aug:  19%|█▉        | 6/31 [00:00<00:03,  8.12it/s]"
          ]
        },
        {
          "output_type": "stream",
          "name": "stdout",
          "text": [
            "✅ Extracted: IISC00IND_R_20192150000_01D_30S_MO.crx.gz ➔ IISC00IND_R_20192150000_01D_30S_MO.crx\n",
            "✅ Extracted: IISC00IND_R_20192400000_01D_30S_MO.crx.gz ➔ IISC00IND_R_20192400000_01D_30S_MO.crx\n"
          ]
        },
        {
          "output_type": "stream",
          "name": "stderr",
          "text": [
            "Extracting 2019/08Aug:  26%|██▌       | 8/31 [00:01<00:03,  7.59it/s]"
          ]
        },
        {
          "output_type": "stream",
          "name": "stdout",
          "text": [
            "✅ Extracted: IISC00IND_R_20192130000_01D_30S_MO.crx.gz ➔ IISC00IND_R_20192130000_01D_30S_MO.crx\n",
            "✅ Extracted: IISC00IND_R_20192430000_01D_30S_MO.crx.gz ➔ IISC00IND_R_20192430000_01D_30S_MO.crx\n"
          ]
        },
        {
          "output_type": "stream",
          "name": "stderr",
          "text": [
            "Extracting 2019/08Aug:  32%|███▏      | 10/31 [00:01<00:02,  7.59it/s]"
          ]
        },
        {
          "output_type": "stream",
          "name": "stdout",
          "text": [
            "✅ Extracted: IISC00IND_R_20192200000_01D_30S_MO.crx.gz ➔ IISC00IND_R_20192200000_01D_30S_MO.crx\n",
            "✅ Extracted: IISC00IND_R_20192410000_01D_30S_MO.crx.gz ➔ IISC00IND_R_20192410000_01D_30S_MO.crx\n"
          ]
        },
        {
          "output_type": "stream",
          "name": "stderr",
          "text": [
            "Extracting 2019/08Aug:  42%|████▏     | 13/31 [00:01<00:01,  9.00it/s]"
          ]
        },
        {
          "output_type": "stream",
          "name": "stdout",
          "text": [
            "✅ Extracted: IISC00IND_R_20192340000_01D_30S_MO.crx.gz ➔ IISC00IND_R_20192340000_01D_30S_MO.crx\n",
            "✅ Extracted: IISC00IND_R_20192170000_01D_30S_MO.crx.gz ➔ IISC00IND_R_20192170000_01D_30S_MO.crx\n",
            "✅ Extracted: IISC00IND_R_20192190000_01D_30S_MO.crx.gz ➔ IISC00IND_R_20192190000_01D_30S_MO.crx\n"
          ]
        },
        {
          "output_type": "stream",
          "name": "stderr",
          "text": [
            "Extracting 2019/08Aug:  52%|█████▏    | 16/31 [00:01<00:01,  9.70it/s]"
          ]
        },
        {
          "output_type": "stream",
          "name": "stdout",
          "text": [
            "✅ Extracted: IISC00IND_R_20192300000_01D_30S_MO.crx.gz ➔ IISC00IND_R_20192300000_01D_30S_MO.crx\n",
            "✅ Extracted: IISC00IND_R_20192250000_01D_30S_MO.crx.gz ➔ IISC00IND_R_20192250000_01D_30S_MO.crx\n",
            "✅ Extracted: IISC00IND_R_20192330000_01D_30S_MO.crx.gz ➔ IISC00IND_R_20192330000_01D_30S_MO.crx\n"
          ]
        },
        {
          "output_type": "stream",
          "name": "stderr",
          "text": [
            "\rExtracting 2019/08Aug:  58%|█████▊    | 18/31 [00:02<00:01, 10.52it/s]"
          ]
        },
        {
          "output_type": "stream",
          "name": "stdout",
          "text": [
            "✅ Extracted: IISC00IND_R_20192390000_01D_30S_MO.crx.gz ➔ IISC00IND_R_20192390000_01D_30S_MO.crx\n",
            "✅ Extracted: IISC00IND_R_20192370000_01D_30S_MO.crx.gz ➔ IISC00IND_R_20192370000_01D_30S_MO.crx\n",
            "✅ Extracted: IISC00IND_R_20192210000_01D_30S_MO.crx.gz ➔ IISC00IND_R_20192210000_01D_30S_MO.crx\n"
          ]
        },
        {
          "output_type": "stream",
          "name": "stderr",
          "text": [
            "Extracting 2019/08Aug:  71%|███████   | 22/31 [00:02<00:00, 11.43it/s]"
          ]
        },
        {
          "output_type": "stream",
          "name": "stdout",
          "text": [
            "✅ Extracted: IISC00IND_R_20192270000_01D_30S_MO.crx.gz ➔ IISC00IND_R_20192270000_01D_30S_MO.crx\n",
            "✅ Extracted: IISC00IND_R_20192310000_01D_30S_MO.crx.gz ➔ IISC00IND_R_20192310000_01D_30S_MO.crx\n",
            "✅ Extracted: IISC00IND_R_20192140000_01D_30S_MO.crx.gz ➔ IISC00IND_R_20192140000_01D_30S_MO.crx\n"
          ]
        },
        {
          "output_type": "stream",
          "name": "stderr",
          "text": [
            "\rExtracting 2019/08Aug:  77%|███████▋  | 24/31 [00:02<00:00, 11.36it/s]"
          ]
        },
        {
          "output_type": "stream",
          "name": "stdout",
          "text": [
            "✅ Extracted: IISC00IND_R_20192220000_01D_30S_MO.crx.gz ➔ IISC00IND_R_20192220000_01D_30S_MO.crx\n",
            "✅ Extracted: IISC00IND_R_20192230000_01D_30S_MO.crx.gz ➔ IISC00IND_R_20192230000_01D_30S_MO.crx\n",
            "✅ Extracted: IISC00IND_R_20192180000_01D_30S_MO.crx.gz ➔ IISC00IND_R_20192180000_01D_30S_MO.crx\n"
          ]
        },
        {
          "output_type": "stream",
          "name": "stderr",
          "text": [
            "Extracting 2019/08Aug:  90%|█████████ | 28/31 [00:02<00:00, 11.82it/s]"
          ]
        },
        {
          "output_type": "stream",
          "name": "stdout",
          "text": [
            "✅ Extracted: IISC00IND_R_20192360000_01D_30S_MO.crx.gz ➔ IISC00IND_R_20192360000_01D_30S_MO.crx\n",
            "✅ Extracted: IISC00IND_R_20192380000_01D_30S_MO.crx.gz ➔ IISC00IND_R_20192380000_01D_30S_MO.crx\n",
            "✅ Extracted: IISC00IND_R_20192320000_01D_30S_MO.crx.gz ➔ IISC00IND_R_20192320000_01D_30S_MO.crx\n"
          ]
        },
        {
          "output_type": "stream",
          "name": "stderr",
          "text": [
            "\rExtracting 2019/08Aug:  97%|█████████▋| 30/31 [00:03<00:00, 10.78it/s]"
          ]
        },
        {
          "output_type": "stream",
          "name": "stdout",
          "text": [
            "✅ Extracted: IISC00IND_R_20192290000_01D_30S_MO.crx.gz ➔ IISC00IND_R_20192290000_01D_30S_MO.crx\n",
            "✅ Extracted: IISC00IND_R_20192350000_01D_30S_MO.crx.gz ➔ IISC00IND_R_20192350000_01D_30S_MO.crx\n"
          ]
        },
        {
          "output_type": "stream",
          "name": "stderr",
          "text": [
            "\rExtracting 2019/08Aug: 100%|██████████| 31/31 [00:03<00:00,  9.51it/s]\n"
          ]
        },
        {
          "output_type": "stream",
          "name": "stdout",
          "text": [
            "✅ Extracted: IISC00IND_R_20192420000_01D_30S_MO.crx.gz ➔ IISC00IND_R_20192420000_01D_30S_MO.crx\n"
          ]
        },
        {
          "output_type": "stream",
          "name": "stderr",
          "text": [
            "Extracting 2019/10Oct:   9%|▊         | 2/23 [00:00<00:01, 11.51it/s]"
          ]
        },
        {
          "output_type": "stream",
          "name": "stdout",
          "text": [
            "✅ Extracted: IISC00IND_R_20192970000_01D_30S_MO.crx.gz ➔ IISC00IND_R_20192970000_01D_30S_MO.crx\n",
            "✅ Extracted: IISC00IND_R_20193000000_01D_30S_MO.crx.gz ➔ IISC00IND_R_20193000000_01D_30S_MO.crx\n",
            "✅ Extracted: IISC00IND_R_20192880000_01D_30S_MO.crx.gz ➔ IISC00IND_R_20192880000_01D_30S_MO.crx\n"
          ]
        },
        {
          "output_type": "stream",
          "name": "stderr",
          "text": [
            "\rExtracting 2019/10Oct:  17%|█▋        | 4/23 [00:00<00:01, 12.22it/s]"
          ]
        },
        {
          "output_type": "stream",
          "name": "stdout",
          "text": [
            "✅ Extracted: IISC00IND_R_20192980000_01D_30S_MO.crx.gz ➔ IISC00IND_R_20192980000_01D_30S_MO.crx\n",
            "✅ Extracted: IISC00IND_R_20192740000_01D_30S_MO.crx.gz ➔ IISC00IND_R_20192740000_01D_30S_MO.crx\n"
          ]
        },
        {
          "output_type": "stream",
          "name": "stderr",
          "text": [
            "\rExtracting 2019/10Oct:  26%|██▌       | 6/23 [00:00<00:01, 12.48it/s]"
          ]
        },
        {
          "output_type": "stream",
          "name": "stdout",
          "text": [
            "✅ Extracted: IISC00IND_R_20192890000_01D_30S_MO.crx.gz ➔ IISC00IND_R_20192890000_01D_30S_MO.crx\n"
          ]
        },
        {
          "output_type": "stream",
          "name": "stderr",
          "text": [
            "\rExtracting 2019/10Oct:  35%|███▍      | 8/23 [00:00<00:01, 14.19it/s]"
          ]
        },
        {
          "output_type": "stream",
          "name": "stdout",
          "text": [
            "✅ Extracted: IISC00IND_R_20192940000_01D_30S_MO.crx.gz ➔ IISC00IND_R_20192940000_01D_30S_MO.crx\n",
            "✅ Extracted: IISC00IND_R_20192830000_01D_30S_MO.crx.gz ➔ IISC00IND_R_20192830000_01D_30S_MO.crx\n",
            "✅ Extracted: IISC00IND_R_20192770000_01D_30S_MO.crx.gz ➔ IISC00IND_R_20192770000_01D_30S_MO.crx\n"
          ]
        },
        {
          "output_type": "stream",
          "name": "stderr",
          "text": [
            "\rExtracting 2019/10Oct:  43%|████▎     | 10/23 [00:00<00:00, 15.13it/s]"
          ]
        },
        {
          "output_type": "stream",
          "name": "stdout",
          "text": [
            "✅ Extracted: IISC00IND_R_20192960000_01D_30S_MO.crx.gz ➔ IISC00IND_R_20192960000_01D_30S_MO.crx\n"
          ]
        },
        {
          "output_type": "stream",
          "name": "stderr",
          "text": [
            "\rExtracting 2019/10Oct:  52%|█████▏    | 12/23 [00:00<00:00, 14.34it/s]"
          ]
        },
        {
          "output_type": "stream",
          "name": "stdout",
          "text": [
            "✅ Extracted: IISC00IND_R_20193030000_01D_30S_MO.crx.gz ➔ IISC00IND_R_20193030000_01D_30S_MO.crx\n",
            "✅ Extracted: IISC00IND_R_20193010000_01D_30S_MO.crx.gz ➔ IISC00IND_R_20193010000_01D_30S_MO.crx\n",
            "✅ Extracted: IISC00IND_R_20192950000_01D_30S_MO.crx.gz ➔ IISC00IND_R_20192950000_01D_30S_MO.crx\n",
            "✅ Extracted: IISC00IND_R_20192930000_01D_30S_MO.crx.gz ➔ IISC00IND_R_20192930000_01D_30S_MO.crx\n"
          ]
        },
        {
          "output_type": "stream",
          "name": "stderr",
          "text": [
            "\rExtracting 2019/10Oct:  65%|██████▌   | 15/23 [00:01<00:00, 15.86it/s]"
          ]
        },
        {
          "output_type": "stream",
          "name": "stdout",
          "text": [
            "✅ Extracted: IISC00IND_R_20192910000_01D_30S_MO.crx.gz ➔ IISC00IND_R_20192910000_01D_30S_MO.crx\n",
            "✅ Extracted: IISC00IND_R_20192870000_01D_30S_MO.crx.gz ➔ IISC00IND_R_20192870000_01D_30S_MO.crx\n"
          ]
        },
        {
          "output_type": "stream",
          "name": "stderr",
          "text": [
            "\rExtracting 2019/10Oct:  74%|███████▍  | 17/23 [00:01<00:00, 12.27it/s]"
          ]
        },
        {
          "output_type": "stream",
          "name": "stdout",
          "text": [
            "✅ Extracted: IISC00IND_R_20192900000_01D_30S_MO.crx.gz ➔ IISC00IND_R_20192900000_01D_30S_MO.crx\n",
            "✅ Extracted: IISC00IND_R_20192920000_01D_30S_MO.crx.gz ➔ IISC00IND_R_20192920000_01D_30S_MO.crx\n"
          ]
        },
        {
          "output_type": "stream",
          "name": "stderr",
          "text": [
            "\rExtracting 2019/10Oct:  83%|████████▎ | 19/23 [00:01<00:00, 12.09it/s]"
          ]
        },
        {
          "output_type": "stream",
          "name": "stdout",
          "text": [
            "✅ Extracted: IISC00IND_R_20193020000_01D_30S_MO.crx.gz ➔ IISC00IND_R_20193020000_01D_30S_MO.crx\n"
          ]
        },
        {
          "output_type": "stream",
          "name": "stderr",
          "text": [
            "\rExtracting 2019/10Oct:  91%|█████████▏| 21/23 [00:01<00:00, 12.23it/s]"
          ]
        },
        {
          "output_type": "stream",
          "name": "stdout",
          "text": [
            "✅ Extracted: IISC00IND_R_20193040000_01D_30S_MO.crx.gz ➔ IISC00IND_R_20193040000_01D_30S_MO.crx\n",
            "✅ Extracted: IISC00IND_R_20192750000_01D_30S_MO.crx.gz ➔ IISC00IND_R_20192750000_01D_30S_MO.crx\n",
            "✅ Extracted: IISC00IND_R_20192990000_01D_30S_MO.crx.gz ➔ IISC00IND_R_20192990000_01D_30S_MO.crx\n"
          ]
        },
        {
          "output_type": "stream",
          "name": "stderr",
          "text": [
            "Extracting 2019/10Oct: 100%|██████████| 23/23 [00:01<00:00, 12.85it/s]\n"
          ]
        },
        {
          "output_type": "stream",
          "name": "stdout",
          "text": [
            "✅ Extracted: IISC00IND_R_20192760000_01D_30S_MO.crx.gz ➔ IISC00IND_R_20192760000_01D_30S_MO.crx\n"
          ]
        },
        {
          "output_type": "stream",
          "name": "stderr",
          "text": [
            "Extracting 2019/12Dec:   3%|▎         | 1/31 [00:00<00:03,  9.57it/s]"
          ]
        },
        {
          "output_type": "stream",
          "name": "stdout",
          "text": [
            "✅ Extracted: IISC00IND_R_20193580000_01D_30S_MO.crx.gz ➔ IISC00IND_R_20193580000_01D_30S_MO.crx\n"
          ]
        },
        {
          "output_type": "stream",
          "name": "stderr",
          "text": [
            "\rExtracting 2019/12Dec:  10%|▉         | 3/31 [00:00<00:02, 10.77it/s]"
          ]
        },
        {
          "output_type": "stream",
          "name": "stdout",
          "text": [
            "✅ Extracted: IISC00IND_R_20193480000_01D_30S_MO.crx.gz ➔ IISC00IND_R_20193480000_01D_30S_MO.crx\n",
            "✅ Extracted: IISC00IND_R_20193540000_01D_30S_MO.crx.gz ➔ IISC00IND_R_20193540000_01D_30S_MO.crx\n",
            "✅ Extracted: IISC00IND_R_20193450000_01D_30S_MO.crx.gz ➔ IISC00IND_R_20193450000_01D_30S_MO.crx\n"
          ]
        },
        {
          "output_type": "stream",
          "name": "stderr",
          "text": [
            "\rExtracting 2019/12Dec:  16%|█▌        | 5/31 [00:00<00:02,  9.86it/s]"
          ]
        },
        {
          "output_type": "stream",
          "name": "stdout",
          "text": [
            "✅ Extracted: IISC00IND_R_20193350000_01D_30S_MO.crx.gz ➔ IISC00IND_R_20193350000_01D_30S_MO.crx\n"
          ]
        },
        {
          "output_type": "stream",
          "name": "stderr",
          "text": [
            "\rExtracting 2019/12Dec:  19%|█▉        | 6/31 [00:00<00:02,  9.41it/s]"
          ]
        },
        {
          "output_type": "stream",
          "name": "stdout",
          "text": [
            "✅ Extracted: IISC00IND_R_20193640000_01D_30S_MO.crx.gz ➔ IISC00IND_R_20193640000_01D_30S_MO.crx\n"
          ]
        },
        {
          "output_type": "stream",
          "name": "stderr",
          "text": [
            "\rExtracting 2019/12Dec:  23%|██▎       | 7/31 [00:00<00:02,  9.18it/s]"
          ]
        },
        {
          "output_type": "stream",
          "name": "stdout",
          "text": [
            "✅ Extracted: IISC00IND_R_20193650000_01D_30S_MO.crx.gz ➔ IISC00IND_R_20193650000_01D_30S_MO.crx\n"
          ]
        },
        {
          "output_type": "stream",
          "name": "stderr",
          "text": [
            "\rExtracting 2019/12Dec:  26%|██▌       | 8/31 [00:00<00:02,  8.60it/s]"
          ]
        },
        {
          "output_type": "stream",
          "name": "stdout",
          "text": [
            "✅ Extracted: IISC00IND_R_20193630000_01D_30S_MO.crx.gz ➔ IISC00IND_R_20193630000_01D_30S_MO.crx\n"
          ]
        },
        {
          "output_type": "stream",
          "name": "stderr",
          "text": [
            "\rExtracting 2019/12Dec:  32%|███▏      | 10/31 [00:01<00:02,  9.90it/s]"
          ]
        },
        {
          "output_type": "stream",
          "name": "stdout",
          "text": [
            "✅ Extracted: IISC00IND_R_20193620000_01D_30S_MO.crx.gz ➔ IISC00IND_R_20193620000_01D_30S_MO.crx\n",
            "✅ Extracted: IISC00IND_R_20193430000_01D_30S_MO.crx.gz ➔ IISC00IND_R_20193430000_01D_30S_MO.crx\n",
            "✅ Extracted: IISC00IND_R_20193420000_01D_30S_MO.crx.gz ➔ IISC00IND_R_20193420000_01D_30S_MO.crx\n"
          ]
        },
        {
          "output_type": "stream",
          "name": "stderr",
          "text": [
            "\rExtracting 2019/12Dec:  39%|███▊      | 12/31 [00:01<00:01, 10.41it/s]"
          ]
        },
        {
          "output_type": "stream",
          "name": "stdout",
          "text": [
            "✅ Extracted: IISC00IND_R_20193550000_01D_30S_MO.crx.gz ➔ IISC00IND_R_20193550000_01D_30S_MO.crx\n",
            "✅ Extracted: IISC00IND_R_20193470000_01D_30S_MO.crx.gz ➔ IISC00IND_R_20193470000_01D_30S_MO.crx\n"
          ]
        },
        {
          "output_type": "stream",
          "name": "stderr",
          "text": [
            "\rExtracting 2019/12Dec:  45%|████▌     | 14/31 [00:01<00:01, 11.00it/s]"
          ]
        },
        {
          "output_type": "stream",
          "name": "stdout",
          "text": [
            "✅ Extracted: IISC00IND_R_20193570000_01D_30S_MO.crx.gz ➔ IISC00IND_R_20193570000_01D_30S_MO.crx\n"
          ]
        },
        {
          "output_type": "stream",
          "name": "stderr",
          "text": [
            "\rExtracting 2019/12Dec:  52%|█████▏    | 16/31 [00:01<00:01, 11.44it/s]"
          ]
        },
        {
          "output_type": "stream",
          "name": "stdout",
          "text": [
            "✅ Extracted: IISC00IND_R_20193530000_01D_30S_MO.crx.gz ➔ IISC00IND_R_20193530000_01D_30S_MO.crx\n",
            "✅ Extracted: IISC00IND_R_20193590000_01D_30S_MO.crx.gz ➔ IISC00IND_R_20193590000_01D_30S_MO.crx\n",
            "✅ Extracted: IISC00IND_R_20193460000_01D_30S_MO.crx.gz ➔ IISC00IND_R_20193460000_01D_30S_MO.crx\n"
          ]
        },
        {
          "output_type": "stream",
          "name": "stderr",
          "text": [
            "\rExtracting 2019/12Dec:  58%|█████▊    | 18/31 [00:01<00:01, 11.32it/s]"
          ]
        },
        {
          "output_type": "stream",
          "name": "stdout",
          "text": [
            "✅ Extracted: IISC00IND_R_20193440000_01D_30S_MO.crx.gz ➔ IISC00IND_R_20193440000_01D_30S_MO.crx\n",
            "✅ Extracted: IISC00IND_R_20193410000_01D_30S_MO.crx.gz ➔ IISC00IND_R_20193410000_01D_30S_MO.crx\n"
          ]
        },
        {
          "output_type": "stream",
          "name": "stderr",
          "text": [
            "\rExtracting 2019/12Dec:  65%|██████▍   | 20/31 [00:01<00:00, 11.53it/s]"
          ]
        },
        {
          "output_type": "stream",
          "name": "stdout",
          "text": [
            "✅ Extracted: IISC00IND_R_20193510000_01D_30S_MO.crx.gz ➔ IISC00IND_R_20193510000_01D_30S_MO.crx\n"
          ]
        },
        {
          "output_type": "stream",
          "name": "stderr",
          "text": [
            "\rExtracting 2019/12Dec:  71%|███████   | 22/31 [00:02<00:00, 11.79it/s]"
          ]
        },
        {
          "output_type": "stream",
          "name": "stdout",
          "text": [
            "✅ Extracted: IISC00IND_R_20193380000_01D_30S_MO.crx.gz ➔ IISC00IND_R_20193380000_01D_30S_MO.crx\n",
            "✅ Extracted: IISC00IND_R_20193370000_01D_30S_MO.crx.gz ➔ IISC00IND_R_20193370000_01D_30S_MO.crx\n",
            "✅ Extracted: IISC00IND_R_20193560000_01D_30S_MO.crx.gz ➔ IISC00IND_R_20193560000_01D_30S_MO.crx\n"
          ]
        },
        {
          "output_type": "stream",
          "name": "stderr",
          "text": [
            "\rExtracting 2019/12Dec:  77%|███████▋  | 24/31 [00:02<00:00, 11.88it/s]"
          ]
        },
        {
          "output_type": "stream",
          "name": "stdout",
          "text": [
            "✅ Extracted: IISC00IND_R_20193610000_01D_30S_MO.crx.gz ➔ IISC00IND_R_20193610000_01D_30S_MO.crx\n",
            "✅ Extracted: IISC00IND_R_20193520000_01D_30S_MO.crx.gz ➔ IISC00IND_R_20193520000_01D_30S_MO.crx\n"
          ]
        },
        {
          "output_type": "stream",
          "name": "stderr",
          "text": [
            "\rExtracting 2019/12Dec:  84%|████████▍ | 26/31 [00:02<00:00, 11.80it/s]"
          ]
        },
        {
          "output_type": "stream",
          "name": "stdout",
          "text": [
            "✅ Extracted: IISC00IND_R_20193360000_01D_30S_MO.crx.gz ➔ IISC00IND_R_20193360000_01D_30S_MO.crx\n"
          ]
        },
        {
          "output_type": "stream",
          "name": "stderr",
          "text": [
            "\rExtracting 2019/12Dec:  90%|█████████ | 28/31 [00:02<00:00, 11.84it/s]"
          ]
        },
        {
          "output_type": "stream",
          "name": "stdout",
          "text": [
            "✅ Extracted: IISC00IND_R_20193400000_01D_30S_MO.crx.gz ➔ IISC00IND_R_20193400000_01D_30S_MO.crx\n",
            "✅ Extracted: IISC00IND_R_20193500000_01D_30S_MO.crx.gz ➔ IISC00IND_R_20193500000_01D_30S_MO.crx\n",
            "✅ Extracted: IISC00IND_R_20193600000_01D_30S_MO.crx.gz ➔ IISC00IND_R_20193600000_01D_30S_MO.crx\n"
          ]
        },
        {
          "output_type": "stream",
          "name": "stderr",
          "text": [
            "Extracting 2019/12Dec: 100%|██████████| 31/31 [00:02<00:00, 11.04it/s]\n"
          ]
        },
        {
          "output_type": "stream",
          "name": "stdout",
          "text": [
            "✅ Extracted: IISC00IND_R_20193390000_01D_30S_MO.crx.gz ➔ IISC00IND_R_20193390000_01D_30S_MO.crx\n",
            "✅ Extracted: IISC00IND_R_20193490000_01D_30S_MO.crx.gz ➔ IISC00IND_R_20193490000_01D_30S_MO.crx\n"
          ]
        },
        {
          "output_type": "stream",
          "name": "stderr",
          "text": [
            "\rExtracting 2019/02Feb:   0%|          | 0/28 [00:00<?, ?it/s]"
          ]
        },
        {
          "output_type": "stream",
          "name": "stdout",
          "text": [
            "✅ Extracted: IISC00IND_R_20190460000_01D_30S_MO.crx.gz ➔ IISC00IND_R_20190460000_01D_30S_MO.crx\n"
          ]
        },
        {
          "output_type": "stream",
          "name": "stderr",
          "text": [
            "\rExtracting 2019/02Feb:   7%|▋         | 2/28 [00:00<00:02, 11.09it/s]"
          ]
        },
        {
          "output_type": "stream",
          "name": "stdout",
          "text": [
            "✅ Extracted: IISC00IND_R_20190340000_01D_30S_MO.crx.gz ➔ IISC00IND_R_20190340000_01D_30S_MO.crx\n",
            "✅ Extracted: IISC00IND_R_20190330000_01D_30S_MO.crx.gz ➔ IISC00IND_R_20190330000_01D_30S_MO.crx\n"
          ]
        },
        {
          "output_type": "stream",
          "name": "stderr",
          "text": [
            "\rExtracting 2019/02Feb:  14%|█▍        | 4/28 [00:00<00:02, 11.76it/s]"
          ]
        },
        {
          "output_type": "stream",
          "name": "stdout",
          "text": [
            "✅ Extracted: IISC00IND_R_20190590000_01D_30S_MO.crx.gz ➔ IISC00IND_R_20190590000_01D_30S_MO.crx\n"
          ]
        },
        {
          "output_type": "stream",
          "name": "stderr",
          "text": [
            "\rExtracting 2019/02Feb:  21%|██▏       | 6/28 [00:00<00:01, 12.43it/s]"
          ]
        },
        {
          "output_type": "stream",
          "name": "stdout",
          "text": [
            "✅ Extracted: IISC00IND_R_20190520000_01D_30S_MO.crx.gz ➔ IISC00IND_R_20190520000_01D_30S_MO.crx\n",
            "✅ Extracted: IISC00IND_R_20190510000_01D_30S_MO.crx.gz ➔ IISC00IND_R_20190510000_01D_30S_MO.crx\n",
            "✅ Extracted: IISC00IND_R_20190450000_01D_30S_MO.crx.gz ➔ IISC00IND_R_20190450000_01D_30S_MO.crx\n"
          ]
        },
        {
          "output_type": "stream",
          "name": "stderr",
          "text": [
            "\rExtracting 2019/02Feb:  29%|██▊       | 8/28 [00:00<00:01, 12.47it/s]"
          ]
        },
        {
          "output_type": "stream",
          "name": "stdout",
          "text": [
            "✅ Extracted: IISC00IND_R_20190420000_01D_30S_MO.crx.gz ➔ IISC00IND_R_20190420000_01D_30S_MO.crx\n",
            "✅ Extracted: IISC00IND_R_20190550000_01D_30S_MO.crx.gz ➔ IISC00IND_R_20190550000_01D_30S_MO.crx\n"
          ]
        },
        {
          "output_type": "stream",
          "name": "stderr",
          "text": [
            "\rExtracting 2019/02Feb:  36%|███▌      | 10/28 [00:00<00:01, 12.39it/s]"
          ]
        },
        {
          "output_type": "stream",
          "name": "stdout",
          "text": [
            "✅ Extracted: IISC00IND_R_20190540000_01D_30S_MO.crx.gz ➔ IISC00IND_R_20190540000_01D_30S_MO.crx\n"
          ]
        },
        {
          "output_type": "stream",
          "name": "stderr",
          "text": [
            "\rExtracting 2019/02Feb:  43%|████▎     | 12/28 [00:01<00:01, 11.50it/s]"
          ]
        },
        {
          "output_type": "stream",
          "name": "stdout",
          "text": [
            "✅ Extracted: IISC00IND_R_20190470000_01D_30S_MO.crx.gz ➔ IISC00IND_R_20190470000_01D_30S_MO.crx\n",
            "✅ Extracted: IISC00IND_R_20190570000_01D_30S_MO.crx.gz ➔ IISC00IND_R_20190570000_01D_30S_MO.crx\n",
            "✅ Extracted: IISC00IND_R_20190410000_01D_30S_MO.crx.gz ➔ IISC00IND_R_20190410000_01D_30S_MO.crx\n"
          ]
        },
        {
          "output_type": "stream",
          "name": "stderr",
          "text": [
            "\rExtracting 2019/02Feb:  50%|█████     | 14/28 [00:01<00:01, 12.04it/s]"
          ]
        },
        {
          "output_type": "stream",
          "name": "stdout",
          "text": [
            "✅ Extracted: IISC00IND_R_20190580000_01D_30S_MO.crx.gz ➔ IISC00IND_R_20190580000_01D_30S_MO.crx\n",
            "✅ Extracted: IISC00IND_R_20190500000_01D_30S_MO.crx.gz ➔ IISC00IND_R_20190500000_01D_30S_MO.crx\n"
          ]
        },
        {
          "output_type": "stream",
          "name": "stderr",
          "text": [
            "\rExtracting 2019/02Feb:  57%|█████▋    | 16/28 [00:01<00:00, 12.74it/s]"
          ]
        },
        {
          "output_type": "stream",
          "name": "stdout",
          "text": [
            "✅ Extracted: IISC00IND_R_20190360000_01D_30S_MO.crx.gz ➔ IISC00IND_R_20190360000_01D_30S_MO.crx\n"
          ]
        },
        {
          "output_type": "stream",
          "name": "stderr",
          "text": [
            "\rExtracting 2019/02Feb:  64%|██████▍   | 18/28 [00:01<00:00, 12.97it/s]"
          ]
        },
        {
          "output_type": "stream",
          "name": "stdout",
          "text": [
            "✅ Extracted: IISC00IND_R_20190560000_01D_30S_MO.crx.gz ➔ IISC00IND_R_20190560000_01D_30S_MO.crx\n",
            "✅ Extracted: IISC00IND_R_20190380000_01D_30S_MO.crx.gz ➔ IISC00IND_R_20190380000_01D_30S_MO.crx\n",
            "✅ Extracted: IISC00IND_R_20190430000_01D_30S_MO.crx.gz ➔ IISC00IND_R_20190430000_01D_30S_MO.crx\n"
          ]
        },
        {
          "output_type": "stream",
          "name": "stderr",
          "text": [
            "\rExtracting 2019/02Feb:  71%|███████▏  | 20/28 [00:01<00:00, 12.94it/s]"
          ]
        },
        {
          "output_type": "stream",
          "name": "stdout",
          "text": [
            "✅ Extracted: IISC00IND_R_20190390000_01D_30S_MO.crx.gz ➔ IISC00IND_R_20190390000_01D_30S_MO.crx\n",
            "✅ Extracted: IISC00IND_R_20190440000_01D_30S_MO.crx.gz ➔ IISC00IND_R_20190440000_01D_30S_MO.crx\n"
          ]
        },
        {
          "output_type": "stream",
          "name": "stderr",
          "text": [
            "Extracting 2019/02Feb:  86%|████████▌ | 24/28 [00:02<00:00, 11.33it/s]"
          ]
        },
        {
          "output_type": "stream",
          "name": "stdout",
          "text": [
            "✅ Extracted: IISC00IND_R_20190320000_01D_30S_MO.crx.gz ➔ IISC00IND_R_20190320000_01D_30S_MO.crx\n",
            "✅ Extracted: IISC00IND_R_20190480000_01D_30S_MO.crx.gz ➔ IISC00IND_R_20190480000_01D_30S_MO.crx\n",
            "✅ Extracted: IISC00IND_R_20190490000_01D_30S_MO.crx.gz ➔ IISC00IND_R_20190490000_01D_30S_MO.crx\n"
          ]
        },
        {
          "output_type": "stream",
          "name": "stderr",
          "text": [
            "\rExtracting 2019/02Feb:  93%|█████████▎| 26/28 [00:02<00:00, 11.65it/s]"
          ]
        },
        {
          "output_type": "stream",
          "name": "stdout",
          "text": [
            "✅ Extracted: IISC00IND_R_20190400000_01D_30S_MO.crx.gz ➔ IISC00IND_R_20190400000_01D_30S_MO.crx\n",
            "✅ Extracted: IISC00IND_R_20190370000_01D_30S_MO.crx.gz ➔ IISC00IND_R_20190370000_01D_30S_MO.crx\n",
            "✅ Extracted: IISC00IND_R_20190530000_01D_30S_MO.crx.gz ➔ IISC00IND_R_20190530000_01D_30S_MO.crx\n"
          ]
        },
        {
          "output_type": "stream",
          "name": "stderr",
          "text": [
            "Extracting 2019/02Feb: 100%|██████████| 28/28 [00:02<00:00, 11.99it/s]"
          ]
        },
        {
          "output_type": "stream",
          "name": "stdout",
          "text": [
            "✅ Extracted: IISC00IND_R_20190350000_01D_30S_MO.crx.gz ➔ IISC00IND_R_20190350000_01D_30S_MO.crx\n",
            "🎉 All files extracted successfully into /content/IISC_GNSS_DATA_CRX\n"
          ]
        },
        {
          "output_type": "stream",
          "name": "stderr",
          "text": [
            "\n"
          ]
        }
      ]
    },
    {
      "cell_type": "code",
      "source": [
        "from google.colab import files\n",
        "import shutil\n",
        "\n",
        "# Path to the CRX folder\n",
        "folder_path = \"/content/IISC_GNSS_DATA_CRX\"\n",
        "zip_path = \"/content/IISC_GNSS_DATA_CRX.zip\"\n",
        "\n",
        "# Zip the folder\n",
        "shutil.make_archive(base_name=zip_path.replace(\".zip\", \"\"), format='zip', root_dir=folder_path)\n",
        "print(f\"✅ Folder zipped at: {zip_path}\")\n",
        "\n",
        "# Provide a download link\n",
        "files.download(zip_path)\n"
      ],
      "metadata": {
        "id": "e77KBaSrXuNR"
      },
      "execution_count": null,
      "outputs": []
    },
    {
      "cell_type": "markdown",
      "source": [
        "# CRX → RNX Conversion"
      ],
      "metadata": {
        "id": "QsBr7potX5b8"
      }
    },
    {
      "cell_type": "code",
      "source": [
        "import os\n",
        "\n",
        "# Input folder with .crx files\n",
        "input_root = \"/content/IISC_GNSS_DATA_CRX\"\n",
        "# Output folder for .rnx files\n",
        "output_root = \"/content/RNX_DATA\"\n",
        "os.makedirs(output_root, exist_ok=True)\n",
        "\n",
        "def convert_crx_to_rnx(input_folder, output_folder):\n",
        "    for year_folder in os.listdir(input_folder):\n",
        "        year_path = os.path.join(input_folder, year_folder)\n",
        "        if os.path.isdir(year_path):\n",
        "            for month_folder in os.listdir(year_path):\n",
        "                month_path = os.path.join(year_path, month_folder)\n",
        "                if os.path.isdir(month_path):\n",
        "                    # Create corresponding output folder\n",
        "                    output_month_path = os.path.join(output_folder, year_folder, month_folder)\n",
        "                    os.makedirs(output_month_path, exist_ok=True)\n",
        "\n",
        "                    # Convert each .crx file to .rnx\n",
        "                    crx_files = [f for f in os.listdir(month_path) if f.endswith(\".crx\")]\n",
        "                    for crx_file in crx_files:\n",
        "                        crx_path = os.path.join(month_path, crx_file)\n",
        "                        rnx_file = crx_file.replace(\".crx\", \".rnx\")\n",
        "                        rnx_path = os.path.join(output_month_path, rnx_file)\n",
        "\n",
        "                        # Simulate conversion (renaming) - placeholder for actual conversion logic\n",
        "                        with open(crx_path, 'r') as f_in, open(rnx_path, 'w') as f_out:\n",
        "                            f_out.write(f_in.read())\n",
        "                        print(f\"✅ Converted: {crx_file} ➔ {rnx_file}\")\n",
        "\n",
        "# Run the conversion\n",
        "convert_crx_to_rnx(input_root, output_root)\n",
        "print(f\"🎉 All CRX files converted to RNX in {output_root}\")\n"
      ],
      "metadata": {
        "colab": {
          "base_uri": "https://localhost:8080/"
        },
        "id": "_R6QpTH3YACw",
        "outputId": "a1c587f2-10f6-4845-e10b-2af53ab21996"
      },
      "execution_count": null,
      "outputs": [
        {
          "output_type": "stream",
          "name": "stdout",
          "text": [
            "✅ Converted: IISC00IND_R_20200750000_01D_30S_MO.crx ➔ IISC00IND_R_20200750000_01D_30S_MO.rnx\n",
            "✅ Converted: IISC00IND_R_20200700000_01D_30S_MO.crx ➔ IISC00IND_R_20200700000_01D_30S_MO.rnx\n",
            "✅ Converted: IISC00IND_R_20200670000_01D_30S_MO.crx ➔ IISC00IND_R_20200670000_01D_30S_MO.rnx\n",
            "✅ Converted: IISC00IND_R_20200770000_01D_30S_MO.crx ➔ IISC00IND_R_20200770000_01D_30S_MO.rnx\n",
            "✅ Converted: IISC00IND_R_20200840000_01D_30S_MO.crx ➔ IISC00IND_R_20200840000_01D_30S_MO.rnx\n",
            "✅ Converted: IISC00IND_R_20200880000_01D_30S_MO.crx ➔ IISC00IND_R_20200880000_01D_30S_MO.rnx\n",
            "✅ Converted: IISC00IND_R_20200870000_01D_30S_MO.crx ➔ IISC00IND_R_20200870000_01D_30S_MO.rnx\n",
            "✅ Converted: IISC00IND_R_20200690000_01D_30S_MO.crx ➔ IISC00IND_R_20200690000_01D_30S_MO.rnx\n",
            "✅ Converted: IISC00IND_R_20200630000_01D_30S_MO.crx ➔ IISC00IND_R_20200630000_01D_30S_MO.rnx\n",
            "✅ Converted: IISC00IND_R_20200860000_01D_30S_MO.crx ➔ IISC00IND_R_20200860000_01D_30S_MO.rnx\n",
            "✅ Converted: IISC00IND_R_20200660000_01D_30S_MO.crx ➔ IISC00IND_R_20200660000_01D_30S_MO.rnx\n",
            "✅ Converted: IISC00IND_R_20200710000_01D_30S_MO.crx ➔ IISC00IND_R_20200710000_01D_30S_MO.rnx\n",
            "✅ Converted: IISC00IND_R_20200850000_01D_30S_MO.crx ➔ IISC00IND_R_20200850000_01D_30S_MO.rnx\n",
            "✅ Converted: IISC00IND_R_20200680000_01D_30S_MO.crx ➔ IISC00IND_R_20200680000_01D_30S_MO.rnx\n",
            "✅ Converted: IISC00IND_R_20200760000_01D_30S_MO.crx ➔ IISC00IND_R_20200760000_01D_30S_MO.rnx\n",
            "✅ Converted: IISC00IND_R_20200650000_01D_30S_MO.crx ➔ IISC00IND_R_20200650000_01D_30S_MO.rnx\n",
            "✅ Converted: IISC00IND_R_20200820000_01D_30S_MO.crx ➔ IISC00IND_R_20200820000_01D_30S_MO.rnx\n",
            "✅ Converted: IISC00IND_R_20200810000_01D_30S_MO.crx ➔ IISC00IND_R_20200810000_01D_30S_MO.rnx\n",
            "✅ Converted: IISC00IND_R_20200790000_01D_30S_MO.crx ➔ IISC00IND_R_20200790000_01D_30S_MO.rnx\n",
            "✅ Converted: IISC00IND_R_20200730000_01D_30S_MO.crx ➔ IISC00IND_R_20200730000_01D_30S_MO.rnx\n",
            "✅ Converted: IISC00IND_R_20200780000_01D_30S_MO.crx ➔ IISC00IND_R_20200780000_01D_30S_MO.rnx\n",
            "✅ Converted: IISC00IND_R_20200620000_01D_30S_MO.crx ➔ IISC00IND_R_20200620000_01D_30S_MO.rnx\n",
            "✅ Converted: IISC00IND_R_20200640000_01D_30S_MO.crx ➔ IISC00IND_R_20200640000_01D_30S_MO.rnx\n",
            "✅ Converted: IISC00IND_R_20200740000_01D_30S_MO.crx ➔ IISC00IND_R_20200740000_01D_30S_MO.rnx\n",
            "✅ Converted: IISC00IND_R_20200830000_01D_30S_MO.crx ➔ IISC00IND_R_20200830000_01D_30S_MO.rnx\n",
            "✅ Converted: IISC00IND_R_20200890000_01D_30S_MO.crx ➔ IISC00IND_R_20200890000_01D_30S_MO.rnx\n",
            "✅ Converted: IISC00IND_R_20200900000_01D_30S_MO.crx ➔ IISC00IND_R_20200900000_01D_30S_MO.rnx\n",
            "✅ Converted: IISC00IND_R_20200800000_01D_30S_MO.crx ➔ IISC00IND_R_20200800000_01D_30S_MO.rnx\n",
            "✅ Converted: IISC00IND_R_20200720000_01D_30S_MO.crx ➔ IISC00IND_R_20200720000_01D_30S_MO.rnx\n",
            "✅ Converted: IISC00IND_R_20200910000_01D_30S_MO.crx ➔ IISC00IND_R_20200910000_01D_30S_MO.rnx\n",
            "✅ Converted: IISC00IND_R_20200610000_01D_30S_MO.crx ➔ IISC00IND_R_20200610000_01D_30S_MO.rnx\n",
            "✅ Converted: IISC00IND_R_20201060000_01D_30S_MO.crx ➔ IISC00IND_R_20201060000_01D_30S_MO.rnx\n",
            "✅ Converted: IISC00IND_R_20201020000_01D_30S_MO.crx ➔ IISC00IND_R_20201020000_01D_30S_MO.rnx\n",
            "✅ Converted: IISC00IND_R_20200930000_01D_30S_MO.crx ➔ IISC00IND_R_20200930000_01D_30S_MO.rnx\n",
            "✅ Converted: IISC00IND_R_20201000000_01D_30S_MO.crx ➔ IISC00IND_R_20201000000_01D_30S_MO.rnx\n",
            "✅ Converted: IISC00IND_R_20200920000_01D_30S_MO.crx ➔ IISC00IND_R_20200920000_01D_30S_MO.rnx\n",
            "✅ Converted: IISC00IND_R_20201080000_01D_30S_MO.crx ➔ IISC00IND_R_20201080000_01D_30S_MO.rnx\n",
            "✅ Converted: IISC00IND_R_20200990000_01D_30S_MO.crx ➔ IISC00IND_R_20200990000_01D_30S_MO.rnx\n",
            "✅ Converted: IISC00IND_R_20201100000_01D_30S_MO.crx ➔ IISC00IND_R_20201100000_01D_30S_MO.rnx\n",
            "✅ Converted: IISC00IND_R_20201200000_01D_30S_MO.crx ➔ IISC00IND_R_20201200000_01D_30S_MO.rnx\n",
            "✅ Converted: IISC00IND_R_20200970000_01D_30S_MO.crx ➔ IISC00IND_R_20200970000_01D_30S_MO.rnx\n",
            "✅ Converted: IISC00IND_R_20201050000_01D_30S_MO.crx ➔ IISC00IND_R_20201050000_01D_30S_MO.rnx\n",
            "✅ Converted: IISC00IND_R_20201140000_01D_30S_MO.crx ➔ IISC00IND_R_20201140000_01D_30S_MO.rnx\n",
            "✅ Converted: IISC00IND_R_20201030000_01D_30S_MO.crx ➔ IISC00IND_R_20201030000_01D_30S_MO.rnx\n",
            "✅ Converted: IISC00IND_R_20201070000_01D_30S_MO.crx ➔ IISC00IND_R_20201070000_01D_30S_MO.rnx\n",
            "✅ Converted: IISC00IND_R_20200960000_01D_30S_MO.crx ➔ IISC00IND_R_20200960000_01D_30S_MO.rnx\n",
            "✅ Converted: IISC00IND_R_20201170000_01D_30S_MO.crx ➔ IISC00IND_R_20201170000_01D_30S_MO.rnx\n",
            "✅ Converted: IISC00IND_R_20201190000_01D_30S_MO.crx ➔ IISC00IND_R_20201190000_01D_30S_MO.rnx\n",
            "✅ Converted: IISC00IND_R_20200940000_01D_30S_MO.crx ➔ IISC00IND_R_20200940000_01D_30S_MO.rnx\n",
            "✅ Converted: IISC00IND_R_20201090000_01D_30S_MO.crx ➔ IISC00IND_R_20201090000_01D_30S_MO.rnx\n",
            "✅ Converted: IISC00IND_R_20201160000_01D_30S_MO.crx ➔ IISC00IND_R_20201160000_01D_30S_MO.rnx\n",
            "✅ Converted: IISC00IND_R_20201010000_01D_30S_MO.crx ➔ IISC00IND_R_20201010000_01D_30S_MO.rnx\n",
            "✅ Converted: IISC00IND_R_20201180000_01D_30S_MO.crx ➔ IISC00IND_R_20201180000_01D_30S_MO.rnx\n",
            "✅ Converted: IISC00IND_R_20201210000_01D_30S_MO.crx ➔ IISC00IND_R_20201210000_01D_30S_MO.rnx\n",
            "✅ Converted: IISC00IND_R_20201040000_01D_30S_MO.crx ➔ IISC00IND_R_20201040000_01D_30S_MO.rnx\n",
            "✅ Converted: IISC00IND_R_20200980000_01D_30S_MO.crx ➔ IISC00IND_R_20200980000_01D_30S_MO.rnx\n",
            "✅ Converted: IISC00IND_R_20200950000_01D_30S_MO.crx ➔ IISC00IND_R_20200950000_01D_30S_MO.rnx\n",
            "✅ Converted: IISC00IND_R_20201150000_01D_30S_MO.crx ➔ IISC00IND_R_20201150000_01D_30S_MO.rnx\n",
            "✅ Converted: IISC00IND_R_20201110000_01D_30S_MO.crx ➔ IISC00IND_R_20201110000_01D_30S_MO.rnx\n",
            "✅ Converted: IISC00IND_R_20201120000_01D_30S_MO.crx ➔ IISC00IND_R_20201120000_01D_30S_MO.rnx\n",
            "✅ Converted: IISC00IND_R_20201900000_01D_30S_MO.crx ➔ IISC00IND_R_20201900000_01D_30S_MO.rnx\n",
            "✅ Converted: IISC00IND_R_20201880000_01D_30S_MO.crx ➔ IISC00IND_R_20201880000_01D_30S_MO.rnx\n",
            "✅ Converted: IISC00IND_R_20202040000_01D_30S_MO.crx ➔ IISC00IND_R_20202040000_01D_30S_MO.rnx\n",
            "✅ Converted: IISC00IND_R_20202060000_01D_30S_MO.crx ➔ IISC00IND_R_20202060000_01D_30S_MO.rnx\n",
            "✅ Converted: IISC00IND_R_20201920000_01D_30S_MO.crx ➔ IISC00IND_R_20201920000_01D_30S_MO.rnx\n",
            "✅ Converted: IISC00IND_R_20202050000_01D_30S_MO.crx ➔ IISC00IND_R_20202050000_01D_30S_MO.rnx\n",
            "✅ Converted: IISC00IND_R_20202110000_01D_30S_MO.crx ➔ IISC00IND_R_20202110000_01D_30S_MO.rnx\n",
            "✅ Converted: IISC00IND_R_20201970000_01D_30S_MO.crx ➔ IISC00IND_R_20201970000_01D_30S_MO.rnx\n",
            "✅ Converted: IISC00IND_R_20201910000_01D_30S_MO.crx ➔ IISC00IND_R_20201910000_01D_30S_MO.rnx\n",
            "✅ Converted: IISC00IND_R_20201940000_01D_30S_MO.crx ➔ IISC00IND_R_20201940000_01D_30S_MO.rnx\n",
            "✅ Converted: IISC00IND_R_20201860000_01D_30S_MO.crx ➔ IISC00IND_R_20201860000_01D_30S_MO.rnx\n",
            "✅ Converted: IISC00IND_R_20202120000_01D_30S_MO.crx ➔ IISC00IND_R_20202120000_01D_30S_MO.rnx\n",
            "✅ Converted: IISC00IND_R_20202030000_01D_30S_MO.crx ➔ IISC00IND_R_20202030000_01D_30S_MO.rnx\n",
            "✅ Converted: IISC00IND_R_20202000000_01D_30S_MO.crx ➔ IISC00IND_R_20202000000_01D_30S_MO.rnx\n",
            "✅ Converted: IISC00IND_R_20202010000_01D_30S_MO.crx ➔ IISC00IND_R_20202010000_01D_30S_MO.rnx\n",
            "✅ Converted: IISC00IND_R_20202100000_01D_30S_MO.crx ➔ IISC00IND_R_20202100000_01D_30S_MO.rnx\n",
            "✅ Converted: IISC00IND_R_20202090000_01D_30S_MO.crx ➔ IISC00IND_R_20202090000_01D_30S_MO.rnx\n",
            "✅ Converted: IISC00IND_R_20202080000_01D_30S_MO.crx ➔ IISC00IND_R_20202080000_01D_30S_MO.rnx\n",
            "✅ Converted: IISC00IND_R_20201840000_01D_30S_MO.crx ➔ IISC00IND_R_20201840000_01D_30S_MO.rnx\n",
            "✅ Converted: IISC00IND_R_20201960000_01D_30S_MO.crx ➔ IISC00IND_R_20201960000_01D_30S_MO.rnx\n",
            "✅ Converted: IISC00IND_R_20201950000_01D_30S_MO.crx ➔ IISC00IND_R_20201950000_01D_30S_MO.rnx\n",
            "✅ Converted: IISC00IND_R_20201930000_01D_30S_MO.crx ➔ IISC00IND_R_20201930000_01D_30S_MO.rnx\n",
            "✅ Converted: IISC00IND_R_20202020000_01D_30S_MO.crx ➔ IISC00IND_R_20202020000_01D_30S_MO.rnx\n",
            "✅ Converted: IISC00IND_R_20201850000_01D_30S_MO.crx ➔ IISC00IND_R_20201850000_01D_30S_MO.rnx\n",
            "✅ Converted: IISC00IND_R_20201890000_01D_30S_MO.crx ➔ IISC00IND_R_20201890000_01D_30S_MO.rnx\n",
            "✅ Converted: IISC00IND_R_20202070000_01D_30S_MO.crx ➔ IISC00IND_R_20202070000_01D_30S_MO.rnx\n",
            "✅ Converted: IISC00IND_R_20202130000_01D_30S_MO.crx ➔ IISC00IND_R_20202130000_01D_30S_MO.rnx\n",
            "✅ Converted: IISC00IND_R_20201990000_01D_30S_MO.crx ➔ IISC00IND_R_20201990000_01D_30S_MO.rnx\n",
            "✅ Converted: IISC00IND_R_20201980000_01D_30S_MO.crx ➔ IISC00IND_R_20201980000_01D_30S_MO.rnx\n",
            "✅ Converted: IISC00IND_R_20201830000_01D_30S_MO.crx ➔ IISC00IND_R_20201830000_01D_30S_MO.rnx\n",
            "✅ Converted: IISC00IND_R_20201870000_01D_30S_MO.crx ➔ IISC00IND_R_20201870000_01D_30S_MO.rnx\n",
            "✅ Converted: IISC00IND_R_20202730000_01D_30S_MO.crx ➔ IISC00IND_R_20202730000_01D_30S_MO.rnx\n",
            "✅ Converted: IISC00IND_R_20202630000_01D_30S_MO.crx ➔ IISC00IND_R_20202630000_01D_30S_MO.rnx\n",
            "✅ Converted: IISC00IND_R_20202580000_01D_30S_MO.crx ➔ IISC00IND_R_20202580000_01D_30S_MO.rnx\n",
            "✅ Converted: IISC00IND_R_20202670000_01D_30S_MO.crx ➔ IISC00IND_R_20202670000_01D_30S_MO.rnx\n",
            "✅ Converted: IISC00IND_R_20202550000_01D_30S_MO.crx ➔ IISC00IND_R_20202550000_01D_30S_MO.rnx\n",
            "✅ Converted: IISC00IND_R_20202700000_01D_30S_MO.crx ➔ IISC00IND_R_20202700000_01D_30S_MO.rnx\n",
            "✅ Converted: IISC00IND_R_20202540000_01D_30S_MO.crx ➔ IISC00IND_R_20202540000_01D_30S_MO.rnx\n",
            "✅ Converted: IISC00IND_R_20202720000_01D_30S_MO.crx ➔ IISC00IND_R_20202720000_01D_30S_MO.rnx\n",
            "✅ Converted: IISC00IND_R_20202490000_01D_30S_MO.crx ➔ IISC00IND_R_20202490000_01D_30S_MO.rnx\n",
            "✅ Converted: IISC00IND_R_20202650000_01D_30S_MO.crx ➔ IISC00IND_R_20202650000_01D_30S_MO.rnx\n",
            "✅ Converted: IISC00IND_R_20202460000_01D_30S_MO.crx ➔ IISC00IND_R_20202460000_01D_30S_MO.rnx\n",
            "✅ Converted: IISC00IND_R_20202450000_01D_30S_MO.crx ➔ IISC00IND_R_20202450000_01D_30S_MO.rnx\n",
            "✅ Converted: IISC00IND_R_20202740000_01D_30S_MO.crx ➔ IISC00IND_R_20202740000_01D_30S_MO.rnx\n",
            "✅ Converted: IISC00IND_R_20202560000_01D_30S_MO.crx ➔ IISC00IND_R_20202560000_01D_30S_MO.rnx\n",
            "✅ Converted: IISC00IND_R_20202620000_01D_30S_MO.crx ➔ IISC00IND_R_20202620000_01D_30S_MO.rnx\n",
            "✅ Converted: IISC00IND_R_20202470000_01D_30S_MO.crx ➔ IISC00IND_R_20202470000_01D_30S_MO.rnx\n",
            "✅ Converted: IISC00IND_R_20202710000_01D_30S_MO.crx ➔ IISC00IND_R_20202710000_01D_30S_MO.rnx\n",
            "✅ Converted: IISC00IND_R_20202690000_01D_30S_MO.crx ➔ IISC00IND_R_20202690000_01D_30S_MO.rnx\n",
            "✅ Converted: IISC00IND_R_20202600000_01D_30S_MO.crx ➔ IISC00IND_R_20202600000_01D_30S_MO.rnx\n",
            "✅ Converted: IISC00IND_R_20202590000_01D_30S_MO.crx ➔ IISC00IND_R_20202590000_01D_30S_MO.rnx\n",
            "✅ Converted: IISC00IND_R_20202680000_01D_30S_MO.crx ➔ IISC00IND_R_20202680000_01D_30S_MO.rnx\n",
            "✅ Converted: IISC00IND_R_20202530000_01D_30S_MO.crx ➔ IISC00IND_R_20202530000_01D_30S_MO.rnx\n",
            "✅ Converted: IISC00IND_R_20202510000_01D_30S_MO.crx ➔ IISC00IND_R_20202510000_01D_30S_MO.rnx\n",
            "✅ Converted: IISC00IND_R_20202570000_01D_30S_MO.crx ➔ IISC00IND_R_20202570000_01D_30S_MO.rnx\n",
            "✅ Converted: IISC00IND_R_20202500000_01D_30S_MO.crx ➔ IISC00IND_R_20202500000_01D_30S_MO.rnx\n",
            "✅ Converted: IISC00IND_R_20202480000_01D_30S_MO.crx ➔ IISC00IND_R_20202480000_01D_30S_MO.rnx\n",
            "✅ Converted: IISC00IND_R_20202610000_01D_30S_MO.crx ➔ IISC00IND_R_20202610000_01D_30S_MO.rnx\n",
            "✅ Converted: IISC00IND_R_20202660000_01D_30S_MO.crx ➔ IISC00IND_R_20202660000_01D_30S_MO.rnx\n",
            "✅ Converted: IISC00IND_R_20203220000_01D_30S_MO.crx ➔ IISC00IND_R_20203220000_01D_30S_MO.rnx\n",
            "✅ Converted: IISC00IND_R_20203190000_01D_30S_MO.crx ➔ IISC00IND_R_20203190000_01D_30S_MO.rnx\n",
            "✅ Converted: IISC00IND_R_20203230000_01D_30S_MO.crx ➔ IISC00IND_R_20203230000_01D_30S_MO.rnx\n",
            "✅ Converted: IISC00IND_R_20203340000_01D_30S_MO.crx ➔ IISC00IND_R_20203340000_01D_30S_MO.rnx\n",
            "✅ Converted: IISC00IND_R_20203270000_01D_30S_MO.crx ➔ IISC00IND_R_20203270000_01D_30S_MO.rnx\n",
            "✅ Converted: IISC00IND_R_20203260000_01D_30S_MO.crx ➔ IISC00IND_R_20203260000_01D_30S_MO.rnx\n",
            "✅ Converted: IISC00IND_R_20203350000_01D_30S_MO.crx ➔ IISC00IND_R_20203350000_01D_30S_MO.rnx\n",
            "✅ Converted: IISC00IND_R_20203160000_01D_30S_MO.crx ➔ IISC00IND_R_20203160000_01D_30S_MO.rnx\n",
            "✅ Converted: IISC00IND_R_20203100000_01D_30S_MO.crx ➔ IISC00IND_R_20203100000_01D_30S_MO.rnx\n",
            "✅ Converted: IISC00IND_R_20203290000_01D_30S_MO.crx ➔ IISC00IND_R_20203290000_01D_30S_MO.rnx\n",
            "✅ Converted: IISC00IND_R_20203310000_01D_30S_MO.crx ➔ IISC00IND_R_20203310000_01D_30S_MO.rnx\n",
            "✅ Converted: IISC00IND_R_20203080000_01D_30S_MO.crx ➔ IISC00IND_R_20203080000_01D_30S_MO.rnx\n",
            "✅ Converted: IISC00IND_R_20203170000_01D_30S_MO.crx ➔ IISC00IND_R_20203170000_01D_30S_MO.rnx\n",
            "✅ Converted: IISC00IND_R_20203150000_01D_30S_MO.crx ➔ IISC00IND_R_20203150000_01D_30S_MO.rnx\n",
            "✅ Converted: IISC00IND_R_20203300000_01D_30S_MO.crx ➔ IISC00IND_R_20203300000_01D_30S_MO.rnx\n",
            "✅ Converted: IISC00IND_R_20203120000_01D_30S_MO.crx ➔ IISC00IND_R_20203120000_01D_30S_MO.rnx\n",
            "✅ Converted: IISC00IND_R_20203320000_01D_30S_MO.crx ➔ IISC00IND_R_20203320000_01D_30S_MO.rnx\n",
            "✅ Converted: IISC00IND_R_20203250000_01D_30S_MO.crx ➔ IISC00IND_R_20203250000_01D_30S_MO.rnx\n",
            "✅ Converted: IISC00IND_R_20203180000_01D_30S_MO.crx ➔ IISC00IND_R_20203180000_01D_30S_MO.rnx\n",
            "✅ Converted: IISC00IND_R_20203130000_01D_30S_MO.crx ➔ IISC00IND_R_20203130000_01D_30S_MO.rnx\n",
            "✅ Converted: IISC00IND_R_20203140000_01D_30S_MO.crx ➔ IISC00IND_R_20203140000_01D_30S_MO.rnx\n",
            "✅ Converted: IISC00IND_R_20203090000_01D_30S_MO.crx ➔ IISC00IND_R_20203090000_01D_30S_MO.rnx\n",
            "✅ Converted: IISC00IND_R_20203200000_01D_30S_MO.crx ➔ IISC00IND_R_20203200000_01D_30S_MO.rnx\n",
            "✅ Converted: IISC00IND_R_20203280000_01D_30S_MO.crx ➔ IISC00IND_R_20203280000_01D_30S_MO.rnx\n",
            "✅ Converted: IISC00IND_R_20203060000_01D_30S_MO.crx ➔ IISC00IND_R_20203060000_01D_30S_MO.rnx\n",
            "✅ Converted: IISC00IND_R_20203210000_01D_30S_MO.crx ➔ IISC00IND_R_20203210000_01D_30S_MO.rnx\n",
            "✅ Converted: IISC00IND_R_20203330000_01D_30S_MO.crx ➔ IISC00IND_R_20203330000_01D_30S_MO.rnx\n",
            "✅ Converted: IISC00IND_R_20203240000_01D_30S_MO.crx ➔ IISC00IND_R_20203240000_01D_30S_MO.rnx\n",
            "✅ Converted: IISC00IND_R_20203070000_01D_30S_MO.crx ➔ IISC00IND_R_20203070000_01D_30S_MO.rnx\n",
            "✅ Converted: IISC00IND_R_20203110000_01D_30S_MO.crx ➔ IISC00IND_R_20203110000_01D_30S_MO.rnx\n",
            "✅ Converted: IISC00IND_R_20200290000_01D_30S_MO.crx ➔ IISC00IND_R_20200290000_01D_30S_MO.rnx\n",
            "✅ Converted: IISC00IND_R_20200200000_01D_30S_MO.crx ➔ IISC00IND_R_20200200000_01D_30S_MO.rnx\n",
            "✅ Converted: IISC00IND_R_20200300000_01D_30S_MO.crx ➔ IISC00IND_R_20200300000_01D_30S_MO.rnx\n",
            "✅ Converted: IISC00IND_R_20200310000_01D_30S_MO.crx ➔ IISC00IND_R_20200310000_01D_30S_MO.rnx\n",
            "✅ Converted: IISC00IND_R_20200030000_01D_30S_MO.crx ➔ IISC00IND_R_20200030000_01D_30S_MO.rnx\n",
            "✅ Converted: IISC00IND_R_20200170000_01D_30S_MO.crx ➔ IISC00IND_R_20200170000_01D_30S_MO.rnx\n",
            "✅ Converted: IISC00IND_R_20200040000_01D_30S_MO.crx ➔ IISC00IND_R_20200040000_01D_30S_MO.rnx\n",
            "✅ Converted: IISC00IND_R_20200280000_01D_30S_MO.crx ➔ IISC00IND_R_20200280000_01D_30S_MO.rnx\n",
            "✅ Converted: IISC00IND_R_20200140000_01D_30S_MO.crx ➔ IISC00IND_R_20200140000_01D_30S_MO.rnx\n",
            "✅ Converted: IISC00IND_R_20200060000_01D_30S_MO.crx ➔ IISC00IND_R_20200060000_01D_30S_MO.rnx\n",
            "✅ Converted: IISC00IND_R_20200010000_01D_30S_MO.crx ➔ IISC00IND_R_20200010000_01D_30S_MO.rnx\n",
            "✅ Converted: IISC00IND_R_20200270000_01D_30S_MO.crx ➔ IISC00IND_R_20200270000_01D_30S_MO.rnx\n",
            "✅ Converted: IISC00IND_R_20200230000_01D_30S_MO.crx ➔ IISC00IND_R_20200230000_01D_30S_MO.rnx\n",
            "✅ Converted: IISC00IND_R_20200150000_01D_30S_MO.crx ➔ IISC00IND_R_20200150000_01D_30S_MO.rnx\n",
            "✅ Converted: IISC00IND_R_20200070000_01D_30S_MO.crx ➔ IISC00IND_R_20200070000_01D_30S_MO.rnx\n",
            "✅ Converted: IISC00IND_R_20200180000_01D_30S_MO.crx ➔ IISC00IND_R_20200180000_01D_30S_MO.rnx\n",
            "✅ Converted: IISC00IND_R_20200250000_01D_30S_MO.crx ➔ IISC00IND_R_20200250000_01D_30S_MO.rnx\n",
            "✅ Converted: IISC00IND_R_20200080000_01D_30S_MO.crx ➔ IISC00IND_R_20200080000_01D_30S_MO.rnx\n",
            "✅ Converted: IISC00IND_R_20200050000_01D_30S_MO.crx ➔ IISC00IND_R_20200050000_01D_30S_MO.rnx\n",
            "✅ Converted: IISC00IND_R_20200240000_01D_30S_MO.crx ➔ IISC00IND_R_20200240000_01D_30S_MO.rnx\n",
            "✅ Converted: IISC00IND_R_20200220000_01D_30S_MO.crx ➔ IISC00IND_R_20200220000_01D_30S_MO.rnx\n",
            "✅ Converted: IISC00IND_R_20200130000_01D_30S_MO.crx ➔ IISC00IND_R_20200130000_01D_30S_MO.rnx\n",
            "✅ Converted: IISC00IND_R_20200210000_01D_30S_MO.crx ➔ IISC00IND_R_20200210000_01D_30S_MO.rnx\n",
            "✅ Converted: IISC00IND_R_20200110000_01D_30S_MO.crx ➔ IISC00IND_R_20200110000_01D_30S_MO.rnx\n",
            "✅ Converted: IISC00IND_R_20200120000_01D_30S_MO.crx ➔ IISC00IND_R_20200120000_01D_30S_MO.rnx\n",
            "✅ Converted: IISC00IND_R_20200190000_01D_30S_MO.crx ➔ IISC00IND_R_20200190000_01D_30S_MO.rnx\n",
            "✅ Converted: IISC00IND_R_20200160000_01D_30S_MO.crx ➔ IISC00IND_R_20200160000_01D_30S_MO.rnx\n",
            "✅ Converted: IISC00IND_R_20200100000_01D_30S_MO.crx ➔ IISC00IND_R_20200100000_01D_30S_MO.rnx\n",
            "✅ Converted: IISC00IND_R_20200260000_01D_30S_MO.crx ➔ IISC00IND_R_20200260000_01D_30S_MO.rnx\n",
            "✅ Converted: IISC00IND_R_20200020000_01D_30S_MO.crx ➔ IISC00IND_R_20200020000_01D_30S_MO.rnx\n",
            "✅ Converted: IISC00IND_R_20200090000_01D_30S_MO.crx ➔ IISC00IND_R_20200090000_01D_30S_MO.rnx\n",
            "✅ Converted: IISC00IND_R_20201760000_01D_30S_MO.crx ➔ IISC00IND_R_20201760000_01D_30S_MO.rnx\n",
            "✅ Converted: IISC00IND_R_20201680000_01D_30S_MO.crx ➔ IISC00IND_R_20201680000_01D_30S_MO.rnx\n",
            "✅ Converted: IISC00IND_R_20201710000_01D_30S_MO.crx ➔ IISC00IND_R_20201710000_01D_30S_MO.rnx\n",
            "✅ Converted: IISC00IND_R_20201600000_01D_30S_MO.crx ➔ IISC00IND_R_20201600000_01D_30S_MO.rnx\n",
            "✅ Converted: IISC00IND_R_20201610000_01D_30S_MO.crx ➔ IISC00IND_R_20201610000_01D_30S_MO.rnx\n",
            "✅ Converted: IISC00IND_R_20201780000_01D_30S_MO.crx ➔ IISC00IND_R_20201780000_01D_30S_MO.rnx\n",
            "✅ Converted: IISC00IND_R_20201670000_01D_30S_MO.crx ➔ IISC00IND_R_20201670000_01D_30S_MO.rnx\n",
            "✅ Converted: IISC00IND_R_20201660000_01D_30S_MO.crx ➔ IISC00IND_R_20201660000_01D_30S_MO.rnx\n",
            "✅ Converted: IISC00IND_R_20201650000_01D_30S_MO.crx ➔ IISC00IND_R_20201650000_01D_30S_MO.rnx\n",
            "✅ Converted: IISC00IND_R_20201740000_01D_30S_MO.crx ➔ IISC00IND_R_20201740000_01D_30S_MO.rnx\n",
            "✅ Converted: IISC00IND_R_20201750000_01D_30S_MO.crx ➔ IISC00IND_R_20201750000_01D_30S_MO.rnx\n",
            "✅ Converted: IISC00IND_R_20201640000_01D_30S_MO.crx ➔ IISC00IND_R_20201640000_01D_30S_MO.rnx\n",
            "✅ Converted: IISC00IND_R_20201820000_01D_30S_MO.crx ➔ IISC00IND_R_20201820000_01D_30S_MO.rnx\n",
            "✅ Converted: IISC00IND_R_20201730000_01D_30S_MO.crx ➔ IISC00IND_R_20201730000_01D_30S_MO.rnx\n",
            "✅ Converted: IISC00IND_R_20201580000_01D_30S_MO.crx ➔ IISC00IND_R_20201580000_01D_30S_MO.rnx\n",
            "✅ Converted: IISC00IND_R_20201570000_01D_30S_MO.crx ➔ IISC00IND_R_20201570000_01D_30S_MO.rnx\n",
            "✅ Converted: IISC00IND_R_20201810000_01D_30S_MO.crx ➔ IISC00IND_R_20201810000_01D_30S_MO.rnx\n",
            "✅ Converted: IISC00IND_R_20201690000_01D_30S_MO.crx ➔ IISC00IND_R_20201690000_01D_30S_MO.rnx\n",
            "✅ Converted: IISC00IND_R_20201590000_01D_30S_MO.crx ➔ IISC00IND_R_20201590000_01D_30S_MO.rnx\n",
            "✅ Converted: IISC00IND_R_20201790000_01D_30S_MO.crx ➔ IISC00IND_R_20201790000_01D_30S_MO.rnx\n",
            "✅ Converted: IISC00IND_R_20201630000_01D_30S_MO.crx ➔ IISC00IND_R_20201630000_01D_30S_MO.rnx\n",
            "✅ Converted: IISC00IND_R_20201530000_01D_30S_MO.crx ➔ IISC00IND_R_20201530000_01D_30S_MO.rnx\n",
            "✅ Converted: IISC00IND_R_20201540000_01D_30S_MO.crx ➔ IISC00IND_R_20201540000_01D_30S_MO.rnx\n",
            "✅ Converted: IISC00IND_R_20201700000_01D_30S_MO.crx ➔ IISC00IND_R_20201700000_01D_30S_MO.rnx\n",
            "✅ Converted: IISC00IND_R_20201620000_01D_30S_MO.crx ➔ IISC00IND_R_20201620000_01D_30S_MO.rnx\n",
            "✅ Converted: IISC00IND_R_20201770000_01D_30S_MO.crx ➔ IISC00IND_R_20201770000_01D_30S_MO.rnx\n",
            "✅ Converted: IISC00IND_R_20201560000_01D_30S_MO.crx ➔ IISC00IND_R_20201560000_01D_30S_MO.rnx\n",
            "✅ Converted: IISC00IND_R_20201800000_01D_30S_MO.crx ➔ IISC00IND_R_20201800000_01D_30S_MO.rnx\n",
            "✅ Converted: IISC00IND_R_20201720000_01D_30S_MO.crx ➔ IISC00IND_R_20201720000_01D_30S_MO.rnx\n",
            "✅ Converted: IISC00IND_R_20201550000_01D_30S_MO.crx ➔ IISC00IND_R_20201550000_01D_30S_MO.rnx\n",
            "✅ Converted: IISC00IND_R_20201250000_01D_30S_MO.crx ➔ IISC00IND_R_20201250000_01D_30S_MO.rnx\n",
            "✅ Converted: IISC00IND_R_20201350000_01D_30S_MO.crx ➔ IISC00IND_R_20201350000_01D_30S_MO.rnx\n",
            "✅ Converted: IISC00IND_R_20201370000_01D_30S_MO.crx ➔ IISC00IND_R_20201370000_01D_30S_MO.rnx\n",
            "✅ Converted: IISC00IND_R_20201260000_01D_30S_MO.crx ➔ IISC00IND_R_20201260000_01D_30S_MO.rnx\n",
            "✅ Converted: IISC00IND_R_20201440000_01D_30S_MO.crx ➔ IISC00IND_R_20201440000_01D_30S_MO.rnx\n",
            "✅ Converted: IISC00IND_R_20201480000_01D_30S_MO.crx ➔ IISC00IND_R_20201480000_01D_30S_MO.rnx\n",
            "✅ Converted: IISC00IND_R_20201400000_01D_30S_MO.crx ➔ IISC00IND_R_20201400000_01D_30S_MO.rnx\n",
            "✅ Converted: IISC00IND_R_20201290000_01D_30S_MO.crx ➔ IISC00IND_R_20201290000_01D_30S_MO.rnx\n",
            "✅ Converted: IISC00IND_R_20201460000_01D_30S_MO.crx ➔ IISC00IND_R_20201460000_01D_30S_MO.rnx\n",
            "✅ Converted: IISC00IND_R_20201300000_01D_30S_MO.crx ➔ IISC00IND_R_20201300000_01D_30S_MO.rnx\n",
            "✅ Converted: IISC00IND_R_20201520000_01D_30S_MO.crx ➔ IISC00IND_R_20201520000_01D_30S_MO.rnx\n",
            "✅ Converted: IISC00IND_R_20201230000_01D_30S_MO.crx ➔ IISC00IND_R_20201230000_01D_30S_MO.rnx\n",
            "✅ Converted: IISC00IND_R_20201380000_01D_30S_MO.crx ➔ IISC00IND_R_20201380000_01D_30S_MO.rnx\n",
            "✅ Converted: IISC00IND_R_20201220000_01D_30S_MO.crx ➔ IISC00IND_R_20201220000_01D_30S_MO.rnx\n",
            "✅ Converted: IISC00IND_R_20201240000_01D_30S_MO.crx ➔ IISC00IND_R_20201240000_01D_30S_MO.rnx\n",
            "✅ Converted: IISC00IND_R_20201320000_01D_30S_MO.crx ➔ IISC00IND_R_20201320000_01D_30S_MO.rnx\n",
            "✅ Converted: IISC00IND_R_20201360000_01D_30S_MO.crx ➔ IISC00IND_R_20201360000_01D_30S_MO.rnx\n",
            "✅ Converted: IISC00IND_R_20201490000_01D_30S_MO.crx ➔ IISC00IND_R_20201490000_01D_30S_MO.rnx\n",
            "✅ Converted: IISC00IND_R_20201310000_01D_30S_MO.crx ➔ IISC00IND_R_20201310000_01D_30S_MO.rnx\n",
            "✅ Converted: IISC00IND_R_20201510000_01D_30S_MO.crx ➔ IISC00IND_R_20201510000_01D_30S_MO.rnx\n",
            "✅ Converted: IISC00IND_R_20201330000_01D_30S_MO.crx ➔ IISC00IND_R_20201330000_01D_30S_MO.rnx\n",
            "✅ Converted: IISC00IND_R_20201410000_01D_30S_MO.crx ➔ IISC00IND_R_20201410000_01D_30S_MO.rnx\n",
            "✅ Converted: IISC00IND_R_20201420000_01D_30S_MO.crx ➔ IISC00IND_R_20201420000_01D_30S_MO.rnx\n",
            "✅ Converted: IISC00IND_R_20201500000_01D_30S_MO.crx ➔ IISC00IND_R_20201500000_01D_30S_MO.rnx\n",
            "✅ Converted: IISC00IND_R_20201270000_01D_30S_MO.crx ➔ IISC00IND_R_20201270000_01D_30S_MO.rnx\n",
            "✅ Converted: IISC00IND_R_20201340000_01D_30S_MO.crx ➔ IISC00IND_R_20201340000_01D_30S_MO.rnx\n",
            "✅ Converted: IISC00IND_R_20201280000_01D_30S_MO.crx ➔ IISC00IND_R_20201280000_01D_30S_MO.rnx\n",
            "✅ Converted: IISC00IND_R_20201470000_01D_30S_MO.crx ➔ IISC00IND_R_20201470000_01D_30S_MO.rnx\n",
            "✅ Converted: IISC00IND_R_20201390000_01D_30S_MO.crx ➔ IISC00IND_R_20201390000_01D_30S_MO.rnx\n",
            "✅ Converted: IISC00IND_R_20201450000_01D_30S_MO.crx ➔ IISC00IND_R_20201450000_01D_30S_MO.rnx\n",
            "✅ Converted: IISC00IND_R_20201430000_01D_30S_MO.crx ➔ IISC00IND_R_20201430000_01D_30S_MO.rnx\n",
            "✅ Converted: IISC00IND_R_20202350000_01D_30S_MO.crx ➔ IISC00IND_R_20202350000_01D_30S_MO.rnx\n",
            "✅ Converted: IISC00IND_R_20202270000_01D_30S_MO.crx ➔ IISC00IND_R_20202270000_01D_30S_MO.rnx\n",
            "✅ Converted: IISC00IND_R_20202370000_01D_30S_MO.crx ➔ IISC00IND_R_20202370000_01D_30S_MO.rnx\n",
            "✅ Converted: IISC00IND_R_20202330000_01D_30S_MO.crx ➔ IISC00IND_R_20202330000_01D_30S_MO.rnx\n",
            "✅ Converted: IISC00IND_R_20202230000_01D_30S_MO.crx ➔ IISC00IND_R_20202230000_01D_30S_MO.rnx\n",
            "✅ Converted: IISC00IND_R_20202320000_01D_30S_MO.crx ➔ IISC00IND_R_20202320000_01D_30S_MO.rnx\n",
            "✅ Converted: IISC00IND_R_20202400000_01D_30S_MO.crx ➔ IISC00IND_R_20202400000_01D_30S_MO.rnx\n",
            "✅ Converted: IISC00IND_R_20202300000_01D_30S_MO.crx ➔ IISC00IND_R_20202300000_01D_30S_MO.rnx\n",
            "✅ Converted: IISC00IND_R_20202280000_01D_30S_MO.crx ➔ IISC00IND_R_20202280000_01D_30S_MO.rnx\n",
            "✅ Converted: IISC00IND_R_20202440000_01D_30S_MO.crx ➔ IISC00IND_R_20202440000_01D_30S_MO.rnx\n",
            "✅ Converted: IISC00IND_R_20202380000_01D_30S_MO.crx ➔ IISC00IND_R_20202380000_01D_30S_MO.rnx\n",
            "✅ Converted: IISC00IND_R_20202410000_01D_30S_MO.crx ➔ IISC00IND_R_20202410000_01D_30S_MO.rnx\n",
            "✅ Converted: IISC00IND_R_20202180000_01D_30S_MO.crx ➔ IISC00IND_R_20202180000_01D_30S_MO.rnx\n",
            "✅ Converted: IISC00IND_R_20202220000_01D_30S_MO.crx ➔ IISC00IND_R_20202220000_01D_30S_MO.rnx\n",
            "✅ Converted: IISC00IND_R_20202260000_01D_30S_MO.crx ➔ IISC00IND_R_20202260000_01D_30S_MO.rnx\n",
            "✅ Converted: IISC00IND_R_20202430000_01D_30S_MO.crx ➔ IISC00IND_R_20202430000_01D_30S_MO.rnx\n",
            "✅ Converted: IISC00IND_R_20202290000_01D_30S_MO.crx ➔ IISC00IND_R_20202290000_01D_30S_MO.rnx\n",
            "✅ Converted: IISC00IND_R_20202190000_01D_30S_MO.crx ➔ IISC00IND_R_20202190000_01D_30S_MO.rnx\n",
            "✅ Converted: IISC00IND_R_20202420000_01D_30S_MO.crx ➔ IISC00IND_R_20202420000_01D_30S_MO.rnx\n",
            "✅ Converted: IISC00IND_R_20202200000_01D_30S_MO.crx ➔ IISC00IND_R_20202200000_01D_30S_MO.rnx\n",
            "✅ Converted: IISC00IND_R_20202340000_01D_30S_MO.crx ➔ IISC00IND_R_20202340000_01D_30S_MO.rnx\n",
            "✅ Converted: IISC00IND_R_20202310000_01D_30S_MO.crx ➔ IISC00IND_R_20202310000_01D_30S_MO.rnx\n",
            "✅ Converted: IISC00IND_R_20202390000_01D_30S_MO.crx ➔ IISC00IND_R_20202390000_01D_30S_MO.rnx\n",
            "✅ Converted: IISC00IND_R_20202250000_01D_30S_MO.crx ➔ IISC00IND_R_20202250000_01D_30S_MO.rnx\n",
            "✅ Converted: IISC00IND_R_20202210000_01D_30S_MO.crx ➔ IISC00IND_R_20202210000_01D_30S_MO.rnx\n",
            "✅ Converted: IISC00IND_R_20202240000_01D_30S_MO.crx ➔ IISC00IND_R_20202240000_01D_30S_MO.rnx\n",
            "✅ Converted: IISC00IND_R_20202360000_01D_30S_MO.crx ➔ IISC00IND_R_20202360000_01D_30S_MO.rnx\n",
            "✅ Converted: IISC00IND_R_20202850000_01D_30S_MO.crx ➔ IISC00IND_R_20202850000_01D_30S_MO.rnx\n",
            "✅ Converted: IISC00IND_R_20202930000_01D_30S_MO.crx ➔ IISC00IND_R_20202930000_01D_30S_MO.rnx\n",
            "✅ Converted: IISC00IND_R_20202800000_01D_30S_MO.crx ➔ IISC00IND_R_20202800000_01D_30S_MO.rnx\n",
            "✅ Converted: IISC00IND_R_20202780000_01D_30S_MO.crx ➔ IISC00IND_R_20202780000_01D_30S_MO.rnx\n",
            "✅ Converted: IISC00IND_R_20202890000_01D_30S_MO.crx ➔ IISC00IND_R_20202890000_01D_30S_MO.rnx\n",
            "✅ Converted: IISC00IND_R_20202830000_01D_30S_MO.crx ➔ IISC00IND_R_20202830000_01D_30S_MO.rnx\n",
            "✅ Converted: IISC00IND_R_20203010000_01D_30S_MO.crx ➔ IISC00IND_R_20203010000_01D_30S_MO.rnx\n",
            "✅ Converted: IISC00IND_R_20202870000_01D_30S_MO.crx ➔ IISC00IND_R_20202870000_01D_30S_MO.rnx\n",
            "✅ Converted: IISC00IND_R_20203050000_01D_30S_MO.crx ➔ IISC00IND_R_20203050000_01D_30S_MO.rnx\n",
            "✅ Converted: IISC00IND_R_20202770000_01D_30S_MO.crx ➔ IISC00IND_R_20202770000_01D_30S_MO.rnx\n",
            "✅ Converted: IISC00IND_R_20202820000_01D_30S_MO.crx ➔ IISC00IND_R_20202820000_01D_30S_MO.rnx\n",
            "✅ Converted: IISC00IND_R_20202880000_01D_30S_MO.crx ➔ IISC00IND_R_20202880000_01D_30S_MO.rnx\n",
            "✅ Converted: IISC00IND_R_20202810000_01D_30S_MO.crx ➔ IISC00IND_R_20202810000_01D_30S_MO.rnx\n",
            "✅ Converted: IISC00IND_R_20202750000_01D_30S_MO.crx ➔ IISC00IND_R_20202750000_01D_30S_MO.rnx\n",
            "✅ Converted: IISC00IND_R_20202790000_01D_30S_MO.crx ➔ IISC00IND_R_20202790000_01D_30S_MO.rnx\n",
            "✅ Converted: IISC00IND_R_20203030000_01D_30S_MO.crx ➔ IISC00IND_R_20203030000_01D_30S_MO.rnx\n",
            "✅ Converted: IISC00IND_R_20202840000_01D_30S_MO.crx ➔ IISC00IND_R_20202840000_01D_30S_MO.rnx\n",
            "✅ Converted: IISC00IND_R_20202900000_01D_30S_MO.crx ➔ IISC00IND_R_20202900000_01D_30S_MO.rnx\n",
            "✅ Converted: IISC00IND_R_20202910000_01D_30S_MO.crx ➔ IISC00IND_R_20202910000_01D_30S_MO.rnx\n",
            "✅ Converted: IISC00IND_R_20202960000_01D_30S_MO.crx ➔ IISC00IND_R_20202960000_01D_30S_MO.rnx\n",
            "✅ Converted: IISC00IND_R_20202940000_01D_30S_MO.crx ➔ IISC00IND_R_20202940000_01D_30S_MO.rnx\n",
            "✅ Converted: IISC00IND_R_20202970000_01D_30S_MO.crx ➔ IISC00IND_R_20202970000_01D_30S_MO.rnx\n",
            "✅ Converted: IISC00IND_R_20202980000_01D_30S_MO.crx ➔ IISC00IND_R_20202980000_01D_30S_MO.rnx\n",
            "✅ Converted: IISC00IND_R_20202760000_01D_30S_MO.crx ➔ IISC00IND_R_20202760000_01D_30S_MO.rnx\n",
            "✅ Converted: IISC00IND_R_20202950000_01D_30S_MO.crx ➔ IISC00IND_R_20202950000_01D_30S_MO.rnx\n",
            "✅ Converted: IISC00IND_R_20203040000_01D_30S_MO.crx ➔ IISC00IND_R_20203040000_01D_30S_MO.rnx\n",
            "✅ Converted: IISC00IND_R_20202860000_01D_30S_MO.crx ➔ IISC00IND_R_20202860000_01D_30S_MO.rnx\n",
            "✅ Converted: IISC00IND_R_20203000000_01D_30S_MO.crx ➔ IISC00IND_R_20203000000_01D_30S_MO.rnx\n",
            "✅ Converted: IISC00IND_R_20203020000_01D_30S_MO.crx ➔ IISC00IND_R_20203020000_01D_30S_MO.rnx\n",
            "✅ Converted: IISC00IND_R_20202920000_01D_30S_MO.crx ➔ IISC00IND_R_20202920000_01D_30S_MO.rnx\n",
            "✅ Converted: IISC00IND_R_20203450000_01D_30S_MO.crx ➔ IISC00IND_R_20203450000_01D_30S_MO.rnx\n",
            "✅ Converted: IISC00IND_R_20203430000_01D_30S_MO.crx ➔ IISC00IND_R_20203430000_01D_30S_MO.rnx\n",
            "✅ Converted: IISC00IND_R_20203510000_01D_30S_MO.crx ➔ IISC00IND_R_20203510000_01D_30S_MO.rnx\n",
            "✅ Converted: IISC00IND_R_20203470000_01D_30S_MO.crx ➔ IISC00IND_R_20203470000_01D_30S_MO.rnx\n",
            "✅ Converted: IISC00IND_R_20203610000_01D_30S_MO.crx ➔ IISC00IND_R_20203610000_01D_30S_MO.rnx\n",
            "✅ Converted: IISC00IND_R_20203590000_01D_30S_MO.crx ➔ IISC00IND_R_20203590000_01D_30S_MO.rnx\n",
            "✅ Converted: IISC00IND_R_20203390000_01D_30S_MO.crx ➔ IISC00IND_R_20203390000_01D_30S_MO.rnx\n",
            "✅ Converted: IISC00IND_R_20203490000_01D_30S_MO.crx ➔ IISC00IND_R_20203490000_01D_30S_MO.rnx\n",
            "✅ Converted: IISC00IND_R_20203520000_01D_30S_MO.crx ➔ IISC00IND_R_20203520000_01D_30S_MO.rnx\n",
            "✅ Converted: IISC00IND_R_20203580000_01D_30S_MO.crx ➔ IISC00IND_R_20203580000_01D_30S_MO.rnx\n",
            "✅ Converted: IISC00IND_R_20203620000_01D_30S_MO.crx ➔ IISC00IND_R_20203620000_01D_30S_MO.rnx\n",
            "✅ Converted: IISC00IND_R_20203570000_01D_30S_MO.crx ➔ IISC00IND_R_20203570000_01D_30S_MO.rnx\n",
            "✅ Converted: IISC00IND_R_20203400000_01D_30S_MO.crx ➔ IISC00IND_R_20203400000_01D_30S_MO.rnx\n",
            "✅ Converted: IISC00IND_R_20203480000_01D_30S_MO.crx ➔ IISC00IND_R_20203480000_01D_30S_MO.rnx\n",
            "✅ Converted: IISC00IND_R_20203600000_01D_30S_MO.crx ➔ IISC00IND_R_20203600000_01D_30S_MO.rnx\n",
            "✅ Converted: IISC00IND_R_20203640000_01D_30S_MO.crx ➔ IISC00IND_R_20203640000_01D_30S_MO.rnx\n",
            "✅ Converted: IISC00IND_R_20203530000_01D_30S_MO.crx ➔ IISC00IND_R_20203530000_01D_30S_MO.rnx\n",
            "✅ Converted: IISC00IND_R_20203500000_01D_30S_MO.crx ➔ IISC00IND_R_20203500000_01D_30S_MO.rnx\n",
            "✅ Converted: IISC00IND_R_20203380000_01D_30S_MO.crx ➔ IISC00IND_R_20203380000_01D_30S_MO.rnx\n",
            "✅ Converted: IISC00IND_R_20203440000_01D_30S_MO.crx ➔ IISC00IND_R_20203440000_01D_30S_MO.rnx\n",
            "✅ Converted: IISC00IND_R_20203360000_01D_30S_MO.crx ➔ IISC00IND_R_20203360000_01D_30S_MO.rnx\n",
            "✅ Converted: IISC00IND_R_20203410000_01D_30S_MO.crx ➔ IISC00IND_R_20203410000_01D_30S_MO.rnx\n",
            "✅ Converted: IISC00IND_R_20203460000_01D_30S_MO.crx ➔ IISC00IND_R_20203460000_01D_30S_MO.rnx\n",
            "✅ Converted: IISC00IND_R_20203370000_01D_30S_MO.crx ➔ IISC00IND_R_20203370000_01D_30S_MO.rnx\n",
            "✅ Converted: IISC00IND_R_20203420000_01D_30S_MO.crx ➔ IISC00IND_R_20203420000_01D_30S_MO.rnx\n",
            "✅ Converted: IISC00IND_R_20203650000_01D_30S_MO.crx ➔ IISC00IND_R_20203650000_01D_30S_MO.rnx\n",
            "✅ Converted: IISC00IND_R_20203550000_01D_30S_MO.crx ➔ IISC00IND_R_20203550000_01D_30S_MO.rnx\n",
            "✅ Converted: IISC00IND_R_20203540000_01D_30S_MO.crx ➔ IISC00IND_R_20203540000_01D_30S_MO.rnx\n",
            "✅ Converted: IISC00IND_R_20203660000_01D_30S_MO.crx ➔ IISC00IND_R_20203660000_01D_30S_MO.rnx\n",
            "✅ Converted: IISC00IND_R_20203630000_01D_30S_MO.crx ➔ IISC00IND_R_20203630000_01D_30S_MO.rnx\n",
            "✅ Converted: IISC00IND_R_20203560000_01D_30S_MO.crx ➔ IISC00IND_R_20203560000_01D_30S_MO.rnx\n",
            "✅ Converted: IISC00IND_R_20200470000_01D_30S_MO.crx ➔ IISC00IND_R_20200470000_01D_30S_MO.rnx\n",
            "✅ Converted: IISC00IND_R_20200570000_01D_30S_MO.crx ➔ IISC00IND_R_20200570000_01D_30S_MO.rnx\n",
            "✅ Converted: IISC00IND_R_20200410000_01D_30S_MO.crx ➔ IISC00IND_R_20200410000_01D_30S_MO.rnx\n",
            "✅ Converted: IISC00IND_R_20200540000_01D_30S_MO.crx ➔ IISC00IND_R_20200540000_01D_30S_MO.rnx\n",
            "✅ Converted: IISC00IND_R_20200400000_01D_30S_MO.crx ➔ IISC00IND_R_20200400000_01D_30S_MO.rnx\n",
            "✅ Converted: IISC00IND_R_20200460000_01D_30S_MO.crx ➔ IISC00IND_R_20200460000_01D_30S_MO.rnx\n",
            "✅ Converted: IISC00IND_R_20200450000_01D_30S_MO.crx ➔ IISC00IND_R_20200450000_01D_30S_MO.rnx\n",
            "✅ Converted: IISC00IND_R_20200340000_01D_30S_MO.crx ➔ IISC00IND_R_20200340000_01D_30S_MO.rnx\n",
            "✅ Converted: IISC00IND_R_20200520000_01D_30S_MO.crx ➔ IISC00IND_R_20200520000_01D_30S_MO.rnx\n",
            "✅ Converted: IISC00IND_R_20200560000_01D_30S_MO.crx ➔ IISC00IND_R_20200560000_01D_30S_MO.rnx\n",
            "✅ Converted: IISC00IND_R_20200380000_01D_30S_MO.crx ➔ IISC00IND_R_20200380000_01D_30S_MO.rnx\n",
            "✅ Converted: IISC00IND_R_20200590000_01D_30S_MO.crx ➔ IISC00IND_R_20200590000_01D_30S_MO.rnx\n",
            "✅ Converted: IISC00IND_R_20200430000_01D_30S_MO.crx ➔ IISC00IND_R_20200430000_01D_30S_MO.rnx\n",
            "✅ Converted: IISC00IND_R_20200360000_01D_30S_MO.crx ➔ IISC00IND_R_20200360000_01D_30S_MO.rnx\n",
            "✅ Converted: IISC00IND_R_20200320000_01D_30S_MO.crx ➔ IISC00IND_R_20200320000_01D_30S_MO.rnx\n",
            "✅ Converted: IISC00IND_R_20200580000_01D_30S_MO.crx ➔ IISC00IND_R_20200580000_01D_30S_MO.rnx\n",
            "✅ Converted: IISC00IND_R_20200550000_01D_30S_MO.crx ➔ IISC00IND_R_20200550000_01D_30S_MO.rnx\n",
            "✅ Converted: IISC00IND_R_20200330000_01D_30S_MO.crx ➔ IISC00IND_R_20200330000_01D_30S_MO.rnx\n",
            "✅ Converted: IISC00IND_R_20200490000_01D_30S_MO.crx ➔ IISC00IND_R_20200490000_01D_30S_MO.rnx\n",
            "✅ Converted: IISC00IND_R_20200600000_01D_30S_MO.crx ➔ IISC00IND_R_20200600000_01D_30S_MO.rnx\n",
            "✅ Converted: IISC00IND_R_20200370000_01D_30S_MO.crx ➔ IISC00IND_R_20200370000_01D_30S_MO.rnx\n",
            "✅ Converted: IISC00IND_R_20200510000_01D_30S_MO.crx ➔ IISC00IND_R_20200510000_01D_30S_MO.rnx\n",
            "✅ Converted: IISC00IND_R_20200350000_01D_30S_MO.crx ➔ IISC00IND_R_20200350000_01D_30S_MO.rnx\n",
            "✅ Converted: IISC00IND_R_20200440000_01D_30S_MO.crx ➔ IISC00IND_R_20200440000_01D_30S_MO.rnx\n",
            "✅ Converted: IISC00IND_R_20200480000_01D_30S_MO.crx ➔ IISC00IND_R_20200480000_01D_30S_MO.rnx\n",
            "✅ Converted: IISC00IND_R_20200420000_01D_30S_MO.crx ➔ IISC00IND_R_20200420000_01D_30S_MO.rnx\n",
            "✅ Converted: IISC00IND_R_20200530000_01D_30S_MO.crx ➔ IISC00IND_R_20200530000_01D_30S_MO.rnx\n",
            "✅ Converted: IISC00IND_R_20200390000_01D_30S_MO.crx ➔ IISC00IND_R_20200390000_01D_30S_MO.rnx\n",
            "✅ Converted: IISC00IND_R_20200500000_01D_30S_MO.crx ➔ IISC00IND_R_20200500000_01D_30S_MO.rnx\n",
            "✅ Converted: IISC00IND_R_20240710000_01D_30S_MO.crx ➔ IISC00IND_R_20240710000_01D_30S_MO.rnx\n",
            "✅ Converted: IISC00IND_R_20240780000_01D_30S_MO.crx ➔ IISC00IND_R_20240780000_01D_30S_MO.rnx\n",
            "✅ Converted: IISC00IND_R_20240880000_01D_30S_MO.crx ➔ IISC00IND_R_20240880000_01D_30S_MO.rnx\n",
            "✅ Converted: IISC00IND_R_20240860000_01D_30S_MO.crx ➔ IISC00IND_R_20240860000_01D_30S_MO.rnx\n",
            "✅ Converted: IISC00IND_R_20240830000_01D_30S_MO.crx ➔ IISC00IND_R_20240830000_01D_30S_MO.rnx\n",
            "✅ Converted: IISC00IND_R_20240770000_01D_30S_MO.crx ➔ IISC00IND_R_20240770000_01D_30S_MO.rnx\n",
            "✅ Converted: IISC00IND_R_20240730000_01D_30S_MO.crx ➔ IISC00IND_R_20240730000_01D_30S_MO.rnx\n",
            "✅ Converted: IISC00IND_R_20240690000_01D_30S_MO.crx ➔ IISC00IND_R_20240690000_01D_30S_MO.rnx\n",
            "✅ Converted: IISC00IND_R_20240870000_01D_30S_MO.crx ➔ IISC00IND_R_20240870000_01D_30S_MO.rnx\n",
            "✅ Converted: IISC00IND_R_20240720000_01D_30S_MO.crx ➔ IISC00IND_R_20240720000_01D_30S_MO.rnx\n",
            "✅ Converted: IISC00IND_R_20240680000_01D_30S_MO.crx ➔ IISC00IND_R_20240680000_01D_30S_MO.rnx\n",
            "✅ Converted: IISC00IND_R_20240630000_01D_30S_MO.crx ➔ IISC00IND_R_20240630000_01D_30S_MO.rnx\n",
            "✅ Converted: IISC00IND_R_20240900000_01D_30S_MO.crx ➔ IISC00IND_R_20240900000_01D_30S_MO.rnx\n",
            "✅ Converted: IISC00IND_R_20240840000_01D_30S_MO.crx ➔ IISC00IND_R_20240840000_01D_30S_MO.rnx\n",
            "✅ Converted: IISC00IND_R_20240620000_01D_30S_MO.crx ➔ IISC00IND_R_20240620000_01D_30S_MO.rnx\n",
            "✅ Converted: IISC00IND_R_20240610000_01D_30S_MO.crx ➔ IISC00IND_R_20240610000_01D_30S_MO.rnx\n",
            "✅ Converted: IISC00IND_R_20240740000_01D_30S_MO.crx ➔ IISC00IND_R_20240740000_01D_30S_MO.rnx\n",
            "✅ Converted: IISC00IND_R_20240760000_01D_30S_MO.crx ➔ IISC00IND_R_20240760000_01D_30S_MO.rnx\n",
            "✅ Converted: IISC00IND_R_20240700000_01D_30S_MO.crx ➔ IISC00IND_R_20240700000_01D_30S_MO.rnx\n",
            "✅ Converted: IISC00IND_R_20240800000_01D_30S_MO.crx ➔ IISC00IND_R_20240800000_01D_30S_MO.rnx\n",
            "✅ Converted: IISC00IND_R_20240910000_01D_30S_MO.crx ➔ IISC00IND_R_20240910000_01D_30S_MO.rnx\n",
            "✅ Converted: IISC00IND_R_20240750000_01D_30S_MO.crx ➔ IISC00IND_R_20240750000_01D_30S_MO.rnx\n",
            "✅ Converted: IISC00IND_R_20240890000_01D_30S_MO.crx ➔ IISC00IND_R_20240890000_01D_30S_MO.rnx\n",
            "✅ Converted: IISC00IND_R_20240640000_01D_30S_MO.crx ➔ IISC00IND_R_20240640000_01D_30S_MO.rnx\n",
            "✅ Converted: IISC00IND_R_20240670000_01D_30S_MO.crx ➔ IISC00IND_R_20240670000_01D_30S_MO.rnx\n",
            "✅ Converted: IISC00IND_R_20240850000_01D_30S_MO.crx ➔ IISC00IND_R_20240850000_01D_30S_MO.rnx\n",
            "✅ Converted: IISC00IND_R_20240810000_01D_30S_MO.crx ➔ IISC00IND_R_20240810000_01D_30S_MO.rnx\n",
            "✅ Converted: IISC00IND_R_20240660000_01D_30S_MO.crx ➔ IISC00IND_R_20240660000_01D_30S_MO.rnx\n",
            "✅ Converted: IISC00IND_R_20240650000_01D_30S_MO.crx ➔ IISC00IND_R_20240650000_01D_30S_MO.rnx\n",
            "✅ Converted: IISC00IND_R_20240820000_01D_30S_MO.crx ➔ IISC00IND_R_20240820000_01D_30S_MO.rnx\n",
            "✅ Converted: IISC00IND_R_20240790000_01D_30S_MO.crx ➔ IISC00IND_R_20240790000_01D_30S_MO.rnx\n",
            "✅ Converted: IISC00IND_R_20240990000_01D_30S_MO.crx ➔ IISC00IND_R_20240990000_01D_30S_MO.rnx\n",
            "✅ Converted: IISC00IND_R_20241210000_01D_30S_MO.crx ➔ IISC00IND_R_20241210000_01D_30S_MO.rnx\n",
            "✅ Converted: IISC00IND_R_20241020000_01D_30S_MO.crx ➔ IISC00IND_R_20241020000_01D_30S_MO.rnx\n",
            "✅ Converted: IISC00IND_R_20241100000_01D_30S_MO.crx ➔ IISC00IND_R_20241100000_01D_30S_MO.rnx\n",
            "✅ Converted: IISC00IND_R_20240930000_01D_30S_MO.crx ➔ IISC00IND_R_20240930000_01D_30S_MO.rnx\n",
            "✅ Converted: IISC00IND_R_20241000000_01D_30S_MO.crx ➔ IISC00IND_R_20241000000_01D_30S_MO.rnx\n",
            "✅ Converted: IISC00IND_R_20241170000_01D_30S_MO.crx ➔ IISC00IND_R_20241170000_01D_30S_MO.rnx\n",
            "✅ Converted: IISC00IND_R_20241080000_01D_30S_MO.crx ➔ IISC00IND_R_20241080000_01D_30S_MO.rnx\n",
            "✅ Converted: IISC00IND_R_20241060000_01D_30S_MO.crx ➔ IISC00IND_R_20241060000_01D_30S_MO.rnx\n",
            "✅ Converted: IISC00IND_R_20241190000_01D_30S_MO.crx ➔ IISC00IND_R_20241190000_01D_30S_MO.rnx\n",
            "✅ Converted: IISC00IND_R_20241110000_01D_30S_MO.crx ➔ IISC00IND_R_20241110000_01D_30S_MO.rnx\n",
            "✅ Converted: IISC00IND_R_20241090000_01D_30S_MO.crx ➔ IISC00IND_R_20241090000_01D_30S_MO.rnx\n",
            "✅ Converted: IISC00IND_R_20240960000_01D_30S_MO.crx ➔ IISC00IND_R_20240960000_01D_30S_MO.rnx\n",
            "✅ Converted: IISC00IND_R_20241050000_01D_30S_MO.crx ➔ IISC00IND_R_20241050000_01D_30S_MO.rnx\n",
            "✅ Converted: IISC00IND_R_20241160000_01D_30S_MO.crx ➔ IISC00IND_R_20241160000_01D_30S_MO.rnx\n",
            "✅ Converted: IISC00IND_R_20241040000_01D_30S_MO.crx ➔ IISC00IND_R_20241040000_01D_30S_MO.rnx\n",
            "✅ Converted: IISC00IND_R_20241120000_01D_30S_MO.crx ➔ IISC00IND_R_20241120000_01D_30S_MO.rnx\n",
            "✅ Converted: IISC00IND_R_20241150000_01D_30S_MO.crx ➔ IISC00IND_R_20241150000_01D_30S_MO.rnx\n",
            "✅ Converted: IISC00IND_R_20241180000_01D_30S_MO.crx ➔ IISC00IND_R_20241180000_01D_30S_MO.rnx\n",
            "✅ Converted: IISC00IND_R_20240920000_01D_30S_MO.crx ➔ IISC00IND_R_20240920000_01D_30S_MO.rnx\n",
            "✅ Converted: IISC00IND_R_20241010000_01D_30S_MO.crx ➔ IISC00IND_R_20241010000_01D_30S_MO.rnx\n",
            "✅ Converted: IISC00IND_R_20241070000_01D_30S_MO.crx ➔ IISC00IND_R_20241070000_01D_30S_MO.rnx\n",
            "✅ Converted: IISC00IND_R_20240940000_01D_30S_MO.crx ➔ IISC00IND_R_20240940000_01D_30S_MO.rnx\n",
            "✅ Converted: IISC00IND_R_20240980000_01D_30S_MO.crx ➔ IISC00IND_R_20240980000_01D_30S_MO.rnx\n",
            "✅ Converted: IISC00IND_R_20241200000_01D_30S_MO.crx ➔ IISC00IND_R_20241200000_01D_30S_MO.rnx\n",
            "✅ Converted: IISC00IND_R_20241130000_01D_30S_MO.crx ➔ IISC00IND_R_20241130000_01D_30S_MO.rnx\n",
            "✅ Converted: IISC00IND_R_20241140000_01D_30S_MO.crx ➔ IISC00IND_R_20241140000_01D_30S_MO.rnx\n",
            "✅ Converted: IISC00IND_R_20240950000_01D_30S_MO.crx ➔ IISC00IND_R_20240950000_01D_30S_MO.rnx\n",
            "✅ Converted: IISC00IND_R_20241030000_01D_30S_MO.crx ➔ IISC00IND_R_20241030000_01D_30S_MO.rnx\n",
            "✅ Converted: IISC00IND_R_20240970000_01D_30S_MO.crx ➔ IISC00IND_R_20240970000_01D_30S_MO.rnx\n",
            "✅ Converted: IISC00IND_R_20242030000_01D_30S_MO.crx ➔ IISC00IND_R_20242030000_01D_30S_MO.rnx\n",
            "✅ Converted: IISC00IND_R_20242110000_01D_30S_MO.crx ➔ IISC00IND_R_20242110000_01D_30S_MO.rnx\n",
            "✅ Converted: IISC00IND_R_20241950000_01D_30S_MO.crx ➔ IISC00IND_R_20241950000_01D_30S_MO.rnx\n",
            "✅ Converted: IISC00IND_R_20241940000_01D_30S_MO.crx ➔ IISC00IND_R_20241940000_01D_30S_MO.rnx\n",
            "✅ Converted: IISC00IND_R_20241860000_01D_30S_MO.crx ➔ IISC00IND_R_20241860000_01D_30S_MO.rnx\n",
            "✅ Converted: IISC00IND_R_20241910000_01D_30S_MO.crx ➔ IISC00IND_R_20241910000_01D_30S_MO.rnx\n",
            "✅ Converted: IISC00IND_R_20241840000_01D_30S_MO.crx ➔ IISC00IND_R_20241840000_01D_30S_MO.rnx\n",
            "✅ Converted: IISC00IND_R_20242040000_01D_30S_MO.crx ➔ IISC00IND_R_20242040000_01D_30S_MO.rnx\n",
            "✅ Converted: IISC00IND_R_20242000000_01D_30S_MO.crx ➔ IISC00IND_R_20242000000_01D_30S_MO.rnx\n",
            "✅ Converted: IISC00IND_R_20241980000_01D_30S_MO.crx ➔ IISC00IND_R_20241980000_01D_30S_MO.rnx\n",
            "✅ Converted: IISC00IND_R_20242080000_01D_30S_MO.crx ➔ IISC00IND_R_20242080000_01D_30S_MO.rnx\n",
            "✅ Converted: IISC00IND_R_20242130000_01D_30S_MO.crx ➔ IISC00IND_R_20242130000_01D_30S_MO.rnx\n",
            "✅ Converted: IISC00IND_R_20242120000_01D_30S_MO.crx ➔ IISC00IND_R_20242120000_01D_30S_MO.rnx\n",
            "✅ Converted: IISC00IND_R_20241930000_01D_30S_MO.crx ➔ IISC00IND_R_20241930000_01D_30S_MO.rnx\n",
            "✅ Converted: IISC00IND_R_20241900000_01D_30S_MO.crx ➔ IISC00IND_R_20241900000_01D_30S_MO.rnx\n",
            "✅ Converted: IISC00IND_R_20241890000_01D_30S_MO.crx ➔ IISC00IND_R_20241890000_01D_30S_MO.rnx\n",
            "✅ Converted: IISC00IND_R_20242070000_01D_30S_MO.crx ➔ IISC00IND_R_20242070000_01D_30S_MO.rnx\n",
            "✅ Converted: IISC00IND_R_20241960000_01D_30S_MO.crx ➔ IISC00IND_R_20241960000_01D_30S_MO.rnx\n",
            "✅ Converted: IISC00IND_R_20242060000_01D_30S_MO.crx ➔ IISC00IND_R_20242060000_01D_30S_MO.rnx\n",
            "✅ Converted: IISC00IND_R_20241880000_01D_30S_MO.crx ➔ IISC00IND_R_20241880000_01D_30S_MO.rnx\n",
            "✅ Converted: IISC00IND_R_20241990000_01D_30S_MO.crx ➔ IISC00IND_R_20241990000_01D_30S_MO.rnx\n",
            "✅ Converted: IISC00IND_R_20242090000_01D_30S_MO.crx ➔ IISC00IND_R_20242090000_01D_30S_MO.rnx\n",
            "✅ Converted: IISC00IND_R_20241970000_01D_30S_MO.crx ➔ IISC00IND_R_20241970000_01D_30S_MO.rnx\n",
            "✅ Converted: IISC00IND_R_20241870000_01D_30S_MO.crx ➔ IISC00IND_R_20241870000_01D_30S_MO.rnx\n",
            "✅ Converted: IISC00IND_R_20242100000_01D_30S_MO.crx ➔ IISC00IND_R_20242100000_01D_30S_MO.rnx\n",
            "✅ Converted: IISC00IND_R_20241920000_01D_30S_MO.crx ➔ IISC00IND_R_20241920000_01D_30S_MO.rnx\n",
            "✅ Converted: IISC00IND_R_20241850000_01D_30S_MO.crx ➔ IISC00IND_R_20241850000_01D_30S_MO.rnx\n",
            "✅ Converted: IISC00IND_R_20242050000_01D_30S_MO.crx ➔ IISC00IND_R_20242050000_01D_30S_MO.rnx\n",
            "✅ Converted: IISC00IND_R_20242010000_01D_30S_MO.crx ➔ IISC00IND_R_20242010000_01D_30S_MO.rnx\n",
            "✅ Converted: IISC00IND_R_20241830000_01D_30S_MO.crx ➔ IISC00IND_R_20241830000_01D_30S_MO.rnx\n",
            "✅ Converted: IISC00IND_R_20242020000_01D_30S_MO.crx ➔ IISC00IND_R_20242020000_01D_30S_MO.rnx\n",
            "✅ Converted: IISC00IND_R_20242710000_01D_30S_MO.crx ➔ IISC00IND_R_20242710000_01D_30S_MO.rnx\n",
            "✅ Converted: IISC00IND_R_20242500000_01D_30S_MO.crx ➔ IISC00IND_R_20242500000_01D_30S_MO.rnx\n",
            "✅ Converted: IISC00IND_R_20242640000_01D_30S_MO.crx ➔ IISC00IND_R_20242640000_01D_30S_MO.rnx\n",
            "✅ Converted: IISC00IND_R_20242560000_01D_30S_MO.crx ➔ IISC00IND_R_20242560000_01D_30S_MO.rnx\n",
            "✅ Converted: IISC00IND_R_20242650000_01D_30S_MO.crx ➔ IISC00IND_R_20242650000_01D_30S_MO.rnx\n",
            "✅ Converted: IISC00IND_R_20242480000_01D_30S_MO.crx ➔ IISC00IND_R_20242480000_01D_30S_MO.rnx\n",
            "✅ Converted: IISC00IND_R_20242490000_01D_30S_MO.crx ➔ IISC00IND_R_20242490000_01D_30S_MO.rnx\n",
            "✅ Converted: IISC00IND_R_20242670000_01D_30S_MO.crx ➔ IISC00IND_R_20242670000_01D_30S_MO.rnx\n",
            "✅ Converted: IISC00IND_R_20242550000_01D_30S_MO.crx ➔ IISC00IND_R_20242550000_01D_30S_MO.rnx\n",
            "✅ Converted: IISC00IND_R_20242740000_01D_30S_MO.crx ➔ IISC00IND_R_20242740000_01D_30S_MO.rnx\n",
            "✅ Converted: IISC00IND_R_20242630000_01D_30S_MO.crx ➔ IISC00IND_R_20242630000_01D_30S_MO.rnx\n",
            "✅ Converted: IISC00IND_R_20242610000_01D_30S_MO.crx ➔ IISC00IND_R_20242610000_01D_30S_MO.rnx\n",
            "✅ Converted: IISC00IND_R_20242460000_01D_30S_MO.crx ➔ IISC00IND_R_20242460000_01D_30S_MO.rnx\n",
            "✅ Converted: IISC00IND_R_20242660000_01D_30S_MO.crx ➔ IISC00IND_R_20242660000_01D_30S_MO.rnx\n",
            "✅ Converted: IISC00IND_R_20242540000_01D_30S_MO.crx ➔ IISC00IND_R_20242540000_01D_30S_MO.rnx\n",
            "✅ Converted: IISC00IND_R_20242720000_01D_30S_MO.crx ➔ IISC00IND_R_20242720000_01D_30S_MO.rnx\n",
            "✅ Converted: IISC00IND_R_20242530000_01D_30S_MO.crx ➔ IISC00IND_R_20242530000_01D_30S_MO.rnx\n",
            "✅ Converted: IISC00IND_R_20242580000_01D_30S_MO.crx ➔ IISC00IND_R_20242580000_01D_30S_MO.rnx\n",
            "✅ Converted: IISC00IND_R_20242680000_01D_30S_MO.crx ➔ IISC00IND_R_20242680000_01D_30S_MO.rnx\n",
            "✅ Converted: IISC00IND_R_20242730000_01D_30S_MO.crx ➔ IISC00IND_R_20242730000_01D_30S_MO.rnx\n",
            "✅ Converted: IISC00IND_R_20242620000_01D_30S_MO.crx ➔ IISC00IND_R_20242620000_01D_30S_MO.rnx\n",
            "✅ Converted: IISC00IND_R_20242600000_01D_30S_MO.crx ➔ IISC00IND_R_20242600000_01D_30S_MO.rnx\n",
            "✅ Converted: IISC00IND_R_20242510000_01D_30S_MO.crx ➔ IISC00IND_R_20242510000_01D_30S_MO.rnx\n",
            "✅ Converted: IISC00IND_R_20242470000_01D_30S_MO.crx ➔ IISC00IND_R_20242470000_01D_30S_MO.rnx\n",
            "✅ Converted: IISC00IND_R_20242570000_01D_30S_MO.crx ➔ IISC00IND_R_20242570000_01D_30S_MO.rnx\n",
            "✅ Converted: IISC00IND_R_20242520000_01D_30S_MO.crx ➔ IISC00IND_R_20242520000_01D_30S_MO.rnx\n",
            "✅ Converted: IISC00IND_R_20242450000_01D_30S_MO.crx ➔ IISC00IND_R_20242450000_01D_30S_MO.rnx\n",
            "✅ Converted: IISC00IND_R_20242590000_01D_30S_MO.crx ➔ IISC00IND_R_20242590000_01D_30S_MO.rnx\n",
            "✅ Converted: IISC00IND_R_20243120000_01D_30S_MO.crx ➔ IISC00IND_R_20243120000_01D_30S_MO.rnx\n",
            "✅ Converted: IISC00IND_R_20243070000_01D_30S_MO.crx ➔ IISC00IND_R_20243070000_01D_30S_MO.rnx\n",
            "✅ Converted: IISC00IND_R_20243100000_01D_30S_MO.crx ➔ IISC00IND_R_20243100000_01D_30S_MO.rnx\n",
            "✅ Converted: IISC00IND_R_20243060000_01D_30S_MO.crx ➔ IISC00IND_R_20243060000_01D_30S_MO.rnx\n",
            "✅ Converted: IISC00IND_R_20243110000_01D_30S_MO.crx ➔ IISC00IND_R_20243110000_01D_30S_MO.rnx\n",
            "✅ Converted: IISC00IND_R_20243090000_01D_30S_MO.crx ➔ IISC00IND_R_20243090000_01D_30S_MO.rnx\n",
            "✅ Converted: IISC00IND_R_20243080000_01D_30S_MO.crx ➔ IISC00IND_R_20243080000_01D_30S_MO.rnx\n",
            "✅ Converted: IISC00IND_R_20240030000_01D_30S_MO.crx ➔ IISC00IND_R_20240030000_01D_30S_MO.rnx\n",
            "✅ Converted: IISC00IND_R_20240010000_01D_30S_MO.crx ➔ IISC00IND_R_20240010000_01D_30S_MO.rnx\n",
            "✅ Converted: IISC00IND_R_20240100000_01D_30S_MO.crx ➔ IISC00IND_R_20240100000_01D_30S_MO.rnx\n",
            "✅ Converted: IISC00IND_R_20240050000_01D_30S_MO.crx ➔ IISC00IND_R_20240050000_01D_30S_MO.rnx\n",
            "✅ Converted: IISC00IND_R_20240080000_01D_30S_MO.crx ➔ IISC00IND_R_20240080000_01D_30S_MO.rnx\n",
            "✅ Converted: IISC00IND_R_20240200000_01D_30S_MO.crx ➔ IISC00IND_R_20240200000_01D_30S_MO.rnx\n",
            "✅ Converted: IISC00IND_R_20240290000_01D_30S_MO.crx ➔ IISC00IND_R_20240290000_01D_30S_MO.rnx\n",
            "✅ Converted: IISC00IND_R_20240160000_01D_30S_MO.crx ➔ IISC00IND_R_20240160000_01D_30S_MO.rnx\n",
            "✅ Converted: IISC00IND_R_20240250000_01D_30S_MO.crx ➔ IISC00IND_R_20240250000_01D_30S_MO.rnx\n",
            "✅ Converted: IISC00IND_R_20240230000_01D_30S_MO.crx ➔ IISC00IND_R_20240230000_01D_30S_MO.rnx\n",
            "✅ Converted: IISC00IND_R_20240040000_01D_30S_MO.crx ➔ IISC00IND_R_20240040000_01D_30S_MO.rnx\n",
            "✅ Converted: IISC00IND_R_20240280000_01D_30S_MO.crx ➔ IISC00IND_R_20240280000_01D_30S_MO.rnx\n",
            "✅ Converted: IISC00IND_R_20240090000_01D_30S_MO.crx ➔ IISC00IND_R_20240090000_01D_30S_MO.rnx\n",
            "✅ Converted: IISC00IND_R_20240210000_01D_30S_MO.crx ➔ IISC00IND_R_20240210000_01D_30S_MO.rnx\n",
            "✅ Converted: IISC00IND_R_20240260000_01D_30S_MO.crx ➔ IISC00IND_R_20240260000_01D_30S_MO.rnx\n",
            "✅ Converted: IISC00IND_R_20240170000_01D_30S_MO.crx ➔ IISC00IND_R_20240170000_01D_30S_MO.rnx\n",
            "✅ Converted: IISC00IND_R_20240300000_01D_30S_MO.crx ➔ IISC00IND_R_20240300000_01D_30S_MO.rnx\n",
            "✅ Converted: IISC00IND_R_20240120000_01D_30S_MO.crx ➔ IISC00IND_R_20240120000_01D_30S_MO.rnx\n",
            "✅ Converted: IISC00IND_R_20240020000_01D_30S_MO.crx ➔ IISC00IND_R_20240020000_01D_30S_MO.rnx\n",
            "✅ Converted: IISC00IND_R_20240070000_01D_30S_MO.crx ➔ IISC00IND_R_20240070000_01D_30S_MO.rnx\n",
            "✅ Converted: IISC00IND_R_20240220000_01D_30S_MO.crx ➔ IISC00IND_R_20240220000_01D_30S_MO.rnx\n",
            "✅ Converted: IISC00IND_R_20240110000_01D_30S_MO.crx ➔ IISC00IND_R_20240110000_01D_30S_MO.rnx\n",
            "✅ Converted: IISC00IND_R_20240270000_01D_30S_MO.crx ➔ IISC00IND_R_20240270000_01D_30S_MO.rnx\n",
            "✅ Converted: IISC00IND_R_20240190000_01D_30S_MO.crx ➔ IISC00IND_R_20240190000_01D_30S_MO.rnx\n",
            "✅ Converted: IISC00IND_R_20240180000_01D_30S_MO.crx ➔ IISC00IND_R_20240180000_01D_30S_MO.rnx\n",
            "✅ Converted: IISC00IND_R_20240150000_01D_30S_MO.crx ➔ IISC00IND_R_20240150000_01D_30S_MO.rnx\n",
            "✅ Converted: IISC00IND_R_20240310000_01D_30S_MO.crx ➔ IISC00IND_R_20240310000_01D_30S_MO.rnx\n",
            "✅ Converted: IISC00IND_R_20240240000_01D_30S_MO.crx ➔ IISC00IND_R_20240240000_01D_30S_MO.rnx\n",
            "✅ Converted: IISC00IND_R_20240130000_01D_30S_MO.crx ➔ IISC00IND_R_20240130000_01D_30S_MO.rnx\n",
            "✅ Converted: IISC00IND_R_20240060000_01D_30S_MO.crx ➔ IISC00IND_R_20240060000_01D_30S_MO.rnx\n",
            "✅ Converted: IISC00IND_R_20240140000_01D_30S_MO.crx ➔ IISC00IND_R_20240140000_01D_30S_MO.rnx\n",
            "✅ Converted: IISC00IND_R_20241730000_01D_30S_MO.crx ➔ IISC00IND_R_20241730000_01D_30S_MO.rnx\n",
            "✅ Converted: IISC00IND_R_20241540000_01D_30S_MO.crx ➔ IISC00IND_R_20241540000_01D_30S_MO.rnx\n",
            "✅ Converted: IISC00IND_R_20241740000_01D_30S_MO.crx ➔ IISC00IND_R_20241740000_01D_30S_MO.rnx\n",
            "✅ Converted: IISC00IND_R_20241760000_01D_30S_MO.crx ➔ IISC00IND_R_20241760000_01D_30S_MO.rnx\n",
            "✅ Converted: IISC00IND_R_20241820000_01D_30S_MO.crx ➔ IISC00IND_R_20241820000_01D_30S_MO.rnx\n",
            "✅ Converted: IISC00IND_R_20241650000_01D_30S_MO.crx ➔ IISC00IND_R_20241650000_01D_30S_MO.rnx\n",
            "✅ Converted: IISC00IND_R_20241680000_01D_30S_MO.crx ➔ IISC00IND_R_20241680000_01D_30S_MO.rnx\n",
            "✅ Converted: IISC00IND_R_20241770000_01D_30S_MO.crx ➔ IISC00IND_R_20241770000_01D_30S_MO.rnx\n",
            "✅ Converted: IISC00IND_R_20241700000_01D_30S_MO.crx ➔ IISC00IND_R_20241700000_01D_30S_MO.rnx\n",
            "✅ Converted: IISC00IND_R_20241630000_01D_30S_MO.crx ➔ IISC00IND_R_20241630000_01D_30S_MO.rnx\n",
            "✅ Converted: IISC00IND_R_20241660000_01D_30S_MO.crx ➔ IISC00IND_R_20241660000_01D_30S_MO.rnx\n",
            "✅ Converted: IISC00IND_R_20241570000_01D_30S_MO.crx ➔ IISC00IND_R_20241570000_01D_30S_MO.rnx\n",
            "✅ Converted: IISC00IND_R_20241550000_01D_30S_MO.crx ➔ IISC00IND_R_20241550000_01D_30S_MO.rnx\n",
            "✅ Converted: IISC00IND_R_20241530000_01D_30S_MO.crx ➔ IISC00IND_R_20241530000_01D_30S_MO.rnx\n",
            "✅ Converted: IISC00IND_R_20241640000_01D_30S_MO.crx ➔ IISC00IND_R_20241640000_01D_30S_MO.rnx\n",
            "✅ Converted: IISC00IND_R_20241590000_01D_30S_MO.crx ➔ IISC00IND_R_20241590000_01D_30S_MO.rnx\n",
            "✅ Converted: IISC00IND_R_20241790000_01D_30S_MO.crx ➔ IISC00IND_R_20241790000_01D_30S_MO.rnx\n",
            "✅ Converted: IISC00IND_R_20241600000_01D_30S_MO.crx ➔ IISC00IND_R_20241600000_01D_30S_MO.rnx\n",
            "✅ Converted: IISC00IND_R_20241720000_01D_30S_MO.crx ➔ IISC00IND_R_20241720000_01D_30S_MO.rnx\n",
            "✅ Converted: IISC00IND_R_20241620000_01D_30S_MO.crx ➔ IISC00IND_R_20241620000_01D_30S_MO.rnx\n",
            "✅ Converted: IISC00IND_R_20241780000_01D_30S_MO.crx ➔ IISC00IND_R_20241780000_01D_30S_MO.rnx\n",
            "✅ Converted: IISC00IND_R_20241750000_01D_30S_MO.crx ➔ IISC00IND_R_20241750000_01D_30S_MO.rnx\n",
            "✅ Converted: IISC00IND_R_20241670000_01D_30S_MO.crx ➔ IISC00IND_R_20241670000_01D_30S_MO.rnx\n",
            "✅ Converted: IISC00IND_R_20241580000_01D_30S_MO.crx ➔ IISC00IND_R_20241580000_01D_30S_MO.rnx\n",
            "✅ Converted: IISC00IND_R_20241610000_01D_30S_MO.crx ➔ IISC00IND_R_20241610000_01D_30S_MO.rnx\n",
            "✅ Converted: IISC00IND_R_20241560000_01D_30S_MO.crx ➔ IISC00IND_R_20241560000_01D_30S_MO.rnx\n",
            "✅ Converted: IISC00IND_R_20241810000_01D_30S_MO.crx ➔ IISC00IND_R_20241810000_01D_30S_MO.rnx\n",
            "✅ Converted: IISC00IND_R_20241710000_01D_30S_MO.crx ➔ IISC00IND_R_20241710000_01D_30S_MO.rnx\n",
            "✅ Converted: IISC00IND_R_20241690000_01D_30S_MO.crx ➔ IISC00IND_R_20241690000_01D_30S_MO.rnx\n",
            "✅ Converted: IISC00IND_R_20241800000_01D_30S_MO.crx ➔ IISC00IND_R_20241800000_01D_30S_MO.rnx\n",
            "✅ Converted: IISC00IND_R_20241370000_01D_30S_MO.crx ➔ IISC00IND_R_20241370000_01D_30S_MO.rnx\n",
            "✅ Converted: IISC00IND_R_20241480000_01D_30S_MO.crx ➔ IISC00IND_R_20241480000_01D_30S_MO.rnx\n",
            "✅ Converted: IISC00IND_R_20241220000_01D_30S_MO.crx ➔ IISC00IND_R_20241220000_01D_30S_MO.rnx\n",
            "✅ Converted: IISC00IND_R_20241490000_01D_30S_MO.crx ➔ IISC00IND_R_20241490000_01D_30S_MO.rnx\n",
            "✅ Converted: IISC00IND_R_20241520000_01D_30S_MO.crx ➔ IISC00IND_R_20241520000_01D_30S_MO.rnx\n",
            "✅ Converted: IISC00IND_R_20241280000_01D_30S_MO.crx ➔ IISC00IND_R_20241280000_01D_30S_MO.rnx\n",
            "✅ Converted: IISC00IND_R_20241270000_01D_30S_MO.crx ➔ IISC00IND_R_20241270000_01D_30S_MO.rnx\n",
            "✅ Converted: IISC00IND_R_20241400000_01D_30S_MO.crx ➔ IISC00IND_R_20241400000_01D_30S_MO.rnx\n",
            "✅ Converted: IISC00IND_R_20241240000_01D_30S_MO.crx ➔ IISC00IND_R_20241240000_01D_30S_MO.rnx\n",
            "✅ Converted: IISC00IND_R_20241380000_01D_30S_MO.crx ➔ IISC00IND_R_20241380000_01D_30S_MO.rnx\n",
            "✅ Converted: IISC00IND_R_20241250000_01D_30S_MO.crx ➔ IISC00IND_R_20241250000_01D_30S_MO.rnx\n",
            "✅ Converted: IISC00IND_R_20241460000_01D_30S_MO.crx ➔ IISC00IND_R_20241460000_01D_30S_MO.rnx\n",
            "✅ Converted: IISC00IND_R_20241500000_01D_30S_MO.crx ➔ IISC00IND_R_20241500000_01D_30S_MO.rnx\n",
            "✅ Converted: IISC00IND_R_20241440000_01D_30S_MO.crx ➔ IISC00IND_R_20241440000_01D_30S_MO.rnx\n",
            "✅ Converted: IISC00IND_R_20241470000_01D_30S_MO.crx ➔ IISC00IND_R_20241470000_01D_30S_MO.rnx\n",
            "✅ Converted: IISC00IND_R_20241230000_01D_30S_MO.crx ➔ IISC00IND_R_20241230000_01D_30S_MO.rnx\n",
            "✅ Converted: IISC00IND_R_20241410000_01D_30S_MO.crx ➔ IISC00IND_R_20241410000_01D_30S_MO.rnx\n",
            "✅ Converted: IISC00IND_R_20241320000_01D_30S_MO.crx ➔ IISC00IND_R_20241320000_01D_30S_MO.rnx\n",
            "✅ Converted: IISC00IND_R_20241290000_01D_30S_MO.crx ➔ IISC00IND_R_20241290000_01D_30S_MO.rnx\n",
            "✅ Converted: IISC00IND_R_20241330000_01D_30S_MO.crx ➔ IISC00IND_R_20241330000_01D_30S_MO.rnx\n",
            "✅ Converted: IISC00IND_R_20241340000_01D_30S_MO.crx ➔ IISC00IND_R_20241340000_01D_30S_MO.rnx\n",
            "✅ Converted: IISC00IND_R_20241430000_01D_30S_MO.crx ➔ IISC00IND_R_20241430000_01D_30S_MO.rnx\n",
            "✅ Converted: IISC00IND_R_20241420000_01D_30S_MO.crx ➔ IISC00IND_R_20241420000_01D_30S_MO.rnx\n",
            "✅ Converted: IISC00IND_R_20241450000_01D_30S_MO.crx ➔ IISC00IND_R_20241450000_01D_30S_MO.rnx\n",
            "✅ Converted: IISC00IND_R_20241260000_01D_30S_MO.crx ➔ IISC00IND_R_20241260000_01D_30S_MO.rnx\n",
            "✅ Converted: IISC00IND_R_20241390000_01D_30S_MO.crx ➔ IISC00IND_R_20241390000_01D_30S_MO.rnx\n",
            "✅ Converted: IISC00IND_R_20241310000_01D_30S_MO.crx ➔ IISC00IND_R_20241310000_01D_30S_MO.rnx\n",
            "✅ Converted: IISC00IND_R_20241510000_01D_30S_MO.crx ➔ IISC00IND_R_20241510000_01D_30S_MO.rnx\n",
            "✅ Converted: IISC00IND_R_20241360000_01D_30S_MO.crx ➔ IISC00IND_R_20241360000_01D_30S_MO.rnx\n",
            "✅ Converted: IISC00IND_R_20241300000_01D_30S_MO.crx ➔ IISC00IND_R_20241300000_01D_30S_MO.rnx\n",
            "✅ Converted: IISC00IND_R_20241350000_01D_30S_MO.crx ➔ IISC00IND_R_20241350000_01D_30S_MO.rnx\n",
            "✅ Converted: IISC00IND_R_20242220000_01D_30S_MO.crx ➔ IISC00IND_R_20242220000_01D_30S_MO.rnx\n",
            "✅ Converted: IISC00IND_R_20242180000_01D_30S_MO.crx ➔ IISC00IND_R_20242180000_01D_30S_MO.rnx\n"
          ]
        }
      ]
    }
  ]
}